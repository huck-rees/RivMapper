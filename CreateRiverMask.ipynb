{
 "cells": [
  {
   "cell_type": "markdown",
   "id": "35d68edd",
   "metadata": {},
   "source": [
    "# River mask development using DSWE/Landsat"
   ]
  },
  {
   "cell_type": "markdown",
   "id": "099bf1a1",
   "metadata": {},
   "source": [
    "The following code uses the DWSE watermasking method and Landsat remote sensing data to develop two-dimensional water masks of rivers within the given study area, drawing on locally stored shapefiles for study boundaries and Google Earth Engine for Landsat atmospherically corrected surface reflectance data. The masks are cleaned using a buffer of the Global River Widths from Landsat (GRWL) database. The user must first copy the path to a standard RivMapper input sheet .csv. Within that input sheet, the user must populate the river name (river_name), working directory (working_directory), the reach length modulator (reach_length_modulator), the buffer width as a fraction of the reach length (buffer_width), the DSWE water detection threshold from 1 to 4 (DSWE threshold), the year and reach ranges (year_range and reach_range), mask output path (mask_output_path), GRWL directory (grwl_directory), and minimum number of contiguous pixels to keep the water blob (min_pixels). Executing the process_multiple_rivers() function generates median annual composite water masks for the for the specified range of years for the given watershed, exporting them as .tif files to a specified local folder.\n",
    "\n",
    "Note: for the year range and reach range, exceptable input syntax may be a tuple {e.g. (1985, 2024) for the year or (1, 10) for the reach}, a single value {e.g. 2024 for the year or 10 for the reach}, or \"All\", which if entered for the year range will attempt to process the entire Landsat record (1985 - 2025) and if entered for the reach range will attempt to process all reaches for the specified river.\n",
    "\n",
    "DSWE Methodology: \n",
    "Jones, J.W., 2019. Improved Automated Detection of Subpixel-Scale Inundation—Revised Dynamic Surface Water Extent (DSWE) Partial Surface Water Tests. Remote Sensing 11, 374. https://doi.org/10.3390/rs11040374\n",
    "\n",
    "Landsat Collection 2:\n",
    "Earth Resources Observation and Science (EROS) Center. (2020). Landsat 8-9 Operational Land Imager / Thermal Infrared Sensor Level-2, Collection 2 [dataset]. U.S. Geological Survey. https://doi.org/10.5066/P9OGBGM6.\n",
    "Earth Resources Observation and Science (EROS) Center. (2020). Landsat 7 Enhanced Thematic Mapper Plus Level-2, Collection 2 [dataset]. U.S. Geological Survey. https://doi.org/10.5066/P9C7I13B.\n",
    "Earth Resources Observation and Science (EROS) Center. (2020). Landsat 4-5 Thematic Mapper Level-2, Collection 2 [dataset]. U.S. Geological Survey. https://doi.org/10.5066/P9IAXOVV.\n",
    "\n",
    "Google Earth Engine:\n",
    "Gorelick, N., Hancher, M., Dixon, M., Ilyushchenko, S., Thau, D., Moore, R., 2017. Google Earth Engine: Planetary-scale geospatial analysis for everyone. Remote Sensing of Environment, Big Remotely Sensed Data: tools, applications and experiences 202, 18–27. https://doi.org/10.1016/j.rse.2017.06.031\n",
    "\n",
    "Code adapted from Dr. Evan Greenberg: https://github.com/evan-greenbrg\n",
    "Greenberg, E., Chadwick, A.J., Ganti, V., 2023. A Generalized Area-Based Framework to Quantify River Mobility From Remotely Sensed Imagery. Journal of Geophysical Research: Earth Surface 128, e2023JF007189. https://doi.org/10.1029/2023JF007189\n",
    "\n",
    "Author: James (Huck) Rees;\n",
    "        PhD Student, UCSB Geography\n",
    "        \n",
    "Date: January 12, 2025"
   ]
  },
  {
   "cell_type": "markdown",
   "id": "519abe95",
   "metadata": {},
   "source": [
    "## Import packages"
   ]
  },
  {
   "cell_type": "code",
   "execution_count": 1,
   "id": "d6302eb3",
   "metadata": {},
   "outputs": [],
   "source": [
    "import ee\n",
    "import geemap\n",
    "import geopandas as gpd\n",
    "import pandas as pd\n",
    "import os\n",
    "from datetime import datetime\n",
    "import requests\n",
    "import zipfile\n",
    "import io\n",
    "import math\n",
    "import ast\n",
    "import time\n",
    "ee.Initialize()\n",
    "\n",
    "import rasterio\n",
    "from rasterio.merge import merge\n",
    "from rasterio.transform import from_origin\n",
    "from rasterio.features import geometry_mask, rasterize\n",
    "from shapely.geometry import shape, Polygon\n",
    "from scipy.ndimage import label\n",
    "import numpy as np\n",
    "import matplotlib.pyplot as plt\n",
    "\n",
    "import glob\n",
    "import subprocess\n",
    "import ast\n",
    "import re"
   ]
  },
  {
   "cell_type": "markdown",
   "id": "f70798d3",
   "metadata": {},
   "source": [
    "## Initialize functions for DSWE water masking"
   ]
  },
  {
   "cell_type": "code",
   "execution_count": 2,
   "id": "972c89ce",
   "metadata": {},
   "outputs": [
    {
     "data": {
      "text/html": [
       "\n",
       "            <style>\n",
       "                .geemap-dark {\n",
       "                    --jp-widgets-color: white;\n",
       "                    --jp-widgets-label-color: white;\n",
       "                    --jp-ui-font-color1: white;\n",
       "                    --jp-layout-color2: #454545;\n",
       "                    background-color: #383838;\n",
       "                }\n",
       "\n",
       "                .geemap-dark .jupyter-button {\n",
       "                    --jp-layout-color3: #383838;\n",
       "                }\n",
       "\n",
       "                .geemap-colab {\n",
       "                    background-color: var(--colab-primary-surface-color, white);\n",
       "                }\n",
       "\n",
       "                .geemap-colab .jupyter-button {\n",
       "                    --jp-layout-color3: var(--colab-primary-surface-color, white);\n",
       "                }\n",
       "            </style>\n",
       "            "
      ],
      "text/plain": [
       "<IPython.core.display.HTML object>"
      ]
     },
     "metadata": {},
     "output_type": "display_data"
    }
   ],
   "source": [
    "# Normalized Difference Water Index (MNDWI)\n",
    "def Mndwi(image):\n",
    "    \"\"\"\n",
    "    Calculate the Modified Normalized Difference Water Index (MNDWI) for a given image.\n",
    "\n",
    "    Parameters:\n",
    "    image (ee.Image): The input image.\n",
    "\n",
    "    Returns:\n",
    "    ee.Image: The resulting image with the MNDWI band named 'mndwi'.\n",
    "    \"\"\"\n",
    "    return image.normalizedDifference(['Green', 'Swir1']).rename('mndwi')\n",
    "\n",
    "# Modified Bare Soil Reflectance Variables\n",
    "def Mbsrv(image):\n",
    "    \"\"\"\n",
    "    Calculate the Modified Bare Soil Reflectance Variable (MBSRV) for a given image.\n",
    "\n",
    "    Parameters:\n",
    "    image (ee.Image): The input image.\n",
    "\n",
    "    Returns:\n",
    "    ee.Image: The resulting image with the MBSRV band named 'mbsrv'.\n",
    "    \"\"\"\n",
    "    return image.select(['Green']).add(image.select(['Red'])).rename('mbsrv')\n",
    "\n",
    "def Mbsrn(image):\n",
    "    \"\"\"\n",
    "    Calculate the Modified Bare Soil Reflectance Normalized (MBSRN) for a given image.\n",
    "\n",
    "    Parameters:\n",
    "    image (ee.Image): The input image.\n",
    "\n",
    "    Returns:\n",
    "    ee.Image: The resulting image with the MBSRN band named 'mbsrn'.\n",
    "    \"\"\"\n",
    "    return image.select(['Nir']).add(image.select(['Swir1'])).rename('mbsrn')\n",
    "\n",
    "# Normalized Difference Vegetation Index (NDVI)\n",
    "def Ndvi(image):\n",
    "    \"\"\"\n",
    "    Calculate the Normalized Difference Vegetation Index (NDVI) for a given image.\n",
    "\n",
    "    Parameters:\n",
    "    image (ee.Image): The input image.\n",
    "\n",
    "    Returns:\n",
    "    ee.Image: The resulting image with the NDVI band named 'ndvi'.\n",
    "    \"\"\"\n",
    "    return image.normalizedDifference(['Nir', 'Red']).rename('ndvi')\n",
    "\n",
    "# Automated Water Extraction Index (AWESH)\n",
    "def Awesh(image):\n",
    "    \"\"\"\n",
    "    Calculate the Automated Water Extraction Index (AWEsh) for a given image.\n",
    "\n",
    "    Parameters:\n",
    "    image (ee.Image): The input image with the necessary bands for MBSRN calculation.\n",
    "\n",
    "    Returns:\n",
    "    ee.Image: The resulting image with the AWEsh band named 'awesh'.\n",
    "    \"\"\"\n",
    "    return image.expression(\n",
    "        'Blue + 2.5 * Green + (-1.5) * mbsrn + (-0.25) * Swir2',\n",
    "        {\n",
    "            'Blue': image.select(['Blue']),\n",
    "            'Green': image.select(['Green']),\n",
    "            'mbsrn': Mbsrn(image).select(['mbsrn']),\n",
    "            'Swir2': image.select(['Swir2'])\n",
    "        }\n",
    "    ).rename('awesh')\n",
    "\n",
    "# Decision Tree for Surface Water Extent (DSWE)\n",
    "def Dswe(image):\n",
    "    \"\"\"\n",
    "    Calculate the Decision Tree for Surface Water Extent (DSWE) for a given image.\n",
    "\n",
    "    Parameters:\n",
    "    image (ee.Image): The input image with bands required for the DSWE calculation.\n",
    "\n",
    "    Returns:\n",
    "    ee.Image: The resulting image with the DSWE classification named 'dswe'.\n",
    "    \"\"\"\n",
    "    mndwi = Mndwi(image)\n",
    "    mbsrv = Mbsrv(image)\n",
    "    mbsrn = Mbsrn(image)\n",
    "    awesh = Awesh(image)\n",
    "    swir1 = image.select(['Swir1'])\n",
    "    nir = image.select(['Nir'])\n",
    "    ndvi = Ndvi(image)\n",
    "    blue = image.select(['Blue'])\n",
    "    swir2 = image.select(['Swir2'])\n",
    "\n",
    "    # Decision tree thresholds\n",
    "    t1 = mndwi.gt(0.124)\n",
    "    t2 = mbsrv.gt(mbsrn)\n",
    "    t3 = awesh.gt(0)\n",
    "    t4 = (mndwi.gt(-0.44)\n",
    "          .And(swir1.lt(0.09))\n",
    "          .And(nir.lt(0.15))\n",
    "          .And(ndvi.lt(0.7)))\n",
    "    t5 = (mndwi.gt(-0.5)\n",
    "          .And(blue.lt(0.1))\n",
    "          .And(swir1.lt(0.3))\n",
    "          .And(swir2.lt(0.1))\n",
    "          .And(nir.lt(0.25)))\n",
    "\n",
    "    # Combine results using weights to create unique classes\n",
    "    t = t1.add(t2.multiply(10)).add(t3.multiply(100)).add(t4.multiply(1000)).add(t5.multiply(10000))\n",
    "\n",
    "    # Define DSWE classification levels\n",
    "    noWater = t.eq(0).Or(t.eq(1)).Or(t.eq(10)).Or(t.eq(100)).Or(t.eq(1000))\n",
    "    hWater = t.eq(1111).Or(t.eq(10111)).Or(t.eq(11011)).Or(t.eq(11101)).Or(t.eq(11110)).Or(t.eq(11111))\n",
    "    mWater = (t.eq(111).Or(t.eq(1011)).Or(t.eq(1101)).Or(t.eq(1110))\n",
    "              .Or(t.eq(10011)).Or(t.eq(10101)).Or(t.eq(10110))\n",
    "              .Or(t.eq(11001)).Or(t.eq(11010)).Or(t.eq(11100)))\n",
    "    pWetland = t.eq(11000)\n",
    "    lWater = (t.eq(11).Or(t.eq(101)).Or(t.eq(110)).Or(t.eq(1001))\n",
    "              .Or(t.eq(1010)).Or(t.eq(1100)).Or(t.eq(10000))\n",
    "              .Or(t.eq(10001)).Or(t.eq(10010)).Or(t.eq(10100)))\n",
    "\n",
    "    # Assign classification levels to DSWE\n",
    "    iDswe = (noWater.multiply(0)\n",
    "             .add(hWater.multiply(1))\n",
    "             .add(mWater.multiply(2))\n",
    "             .add(pWetland.multiply(3))\n",
    "             .add(lWater.multiply(4)))\n",
    "\n",
    "    return iDswe.rename(['dswe'])\n",
    "\n",
    "# Generate Binary Water Mask Based on DSWE\n",
    "def ClassifyWaterJones2019(image, max_level):\n",
    "    \"\"\"\n",
    "    Creates a binary water mask from an input image using DSWE classification.\n",
    "    \n",
    "    Args:\n",
    "        image: The input image containing relevant bands and indices.\n",
    "        max_level: The maximum classification level (inclusive) to include in the mask.\n",
    "    \n",
    "    Returns:\n",
    "        ee.Image: A single-band image representing the binary water mask.\n",
    "    \"\"\"\n",
    "    dswe = Dswe(image)\n",
    "    # Start with level 1 (high-confidence water)\n",
    "    water_mask = dswe.eq(1)\n",
    "\n",
    "    # Add higher levels if within the specified max level\n",
    "    for level in range(2, max_level + 1):\n",
    "        water_mask = water_mask.Or(dswe.eq(level))\n",
    "\n",
    "    return water_mask.rename(['waterMask'])"
   ]
  },
  {
   "cell_type": "markdown",
   "id": "cb34623b",
   "metadata": {},
   "source": [
    "## Initialize functions to curate Landsat imagery from GEE (collection 2)"
   ]
  },
  {
   "cell_type": "code",
   "execution_count": 3,
   "id": "b29b4ab8",
   "metadata": {},
   "outputs": [
    {
     "data": {
      "text/html": [
       "\n",
       "            <style>\n",
       "                .geemap-dark {\n",
       "                    --jp-widgets-color: white;\n",
       "                    --jp-widgets-label-color: white;\n",
       "                    --jp-ui-font-color1: white;\n",
       "                    --jp-layout-color2: #454545;\n",
       "                    background-color: #383838;\n",
       "                }\n",
       "\n",
       "                .geemap-dark .jupyter-button {\n",
       "                    --jp-layout-color3: #383838;\n",
       "                }\n",
       "\n",
       "                .geemap-colab {\n",
       "                    background-color: var(--colab-primary-surface-color, white);\n",
       "                }\n",
       "\n",
       "                .geemap-colab .jupyter-button {\n",
       "                    --jp-layout-color3: var(--colab-primary-surface-color, white);\n",
       "                }\n",
       "            </style>\n",
       "            "
      ],
      "text/plain": [
       "<IPython.core.display.HTML object>"
      ]
     },
     "metadata": {},
     "output_type": "display_data"
    }
   ],
   "source": [
    "def maskL8sr(image):\n",
    "    \"\"\"\n",
    "    Masks out clouds and cloud shadows within Landsat 8 and 9 images using the BQA band.\n",
    "\n",
    "    Args:\n",
    "        image: ee.Image, the input Landsat image.\n",
    "\n",
    "    Returns:\n",
    "        ee.Image: The cloud-masked image.\n",
    "    \"\"\"\n",
    "    # Bit positions for cloud shadow (bit 3) and clouds (bit 5) in the QA_PIXEL band\n",
    "    cloud_shadow_bit_mask = (1 << 3)\n",
    "    clouds_bit_mask = (1 << 5)\n",
    "    # Select the BQA band\n",
    "    qa = image.select('BQA')\n",
    "    # Both bits should be zero for clear conditions\n",
    "    mask = qa.bitwiseAnd(cloud_shadow_bit_mask).eq(0).And(\n",
    "        qa.bitwiseAnd(clouds_bit_mask).eq(0)\n",
    "    )\n",
    "    return image.updateMask(mask)\n",
    "\n",
    "def getLandsatCollection():\n",
    "    \"\"\"\n",
    "    Merges Landsat 5, 7, 8, and 9 collections (Tier 1, Collection 2 SR) \n",
    "    and standardizes the band names for consistent analysis.\n",
    "\n",
    "    Returns:\n",
    "        ee.ImageCollection: A merged collection of standardized Landsat images.\n",
    "    \"\"\"\n",
    "    # Define the band mappings for each Landsat version\n",
    "    bn9 = ['SR_B1', 'SR_B2', 'SR_B3', 'SR_B4', 'SR_B5', 'SR_B6', 'SR_B7', 'QA_PIXEL']\n",
    "    bn8 = ['SR_B1', 'SR_B2', 'SR_B3', 'SR_B4', 'SR_B5', 'SR_B6', 'SR_B7', 'QA_PIXEL']\n",
    "    bn7 = ['SR_B1', 'SR_B1', 'SR_B2', 'SR_B3', 'SR_B4', 'SR_B5', 'SR_B7', 'QA_PIXEL']\n",
    "    bn5 = ['SR_B1', 'SR_B1', 'SR_B2', 'SR_B3', 'SR_B4', 'SR_B5', 'SR_B7', 'QA_PIXEL']\n",
    "    # Standardized names for all bands\n",
    "    standard_bands = ['uBlue', 'Blue', 'Green', 'Red', 'Nir', 'Swir1', 'Swir2', 'BQA']\n",
    "\n",
    "    # Fetch and rename bands in the Landsat collections\n",
    "    ls5 = ee.ImageCollection(\"LANDSAT/LT05/C02/T1_L2\").select(bn5, standard_bands)\n",
    "    ls7 = ee.ImageCollection(\"LANDSAT/LE07/C02/T1_L2\").filterDate('1999-04-15', '2003-05-30').select(bn7, standard_bands)\n",
    "    ls8 = ee.ImageCollection(\"LANDSAT/LC08/C02/T1_L2\").select(bn8, standard_bands)\n",
    "    ls9 = ee.ImageCollection(\"LANDSAT/LC09/C02/T1_L2\").select(bn9, standard_bands)\n",
    "\n",
    "    # Merge all collections\n",
    "    merged_collection = ls5.merge(ls7).merge(ls8).merge(ls9)\n",
    "\n",
    "    return merged_collection\n",
    "\n",
    "def rescale(image):\n",
    "    \"\"\"\n",
    "    Rescale the reflectance values of Landsat imagery to allow for use of Landsat Collection 2 in DSWE.\n",
    "\n",
    "    Parameters:\n",
    "    image (ee.Image): The input image with bands to be rescaled.\n",
    "\n",
    "    Returns:\n",
    "    ee.Image: The image with rescaled bands added.\n",
    "    \"\"\"\n",
    "    bns = ['uBlue', 'Blue', 'Green', 'Red', 'Nir', 'Swir1', 'Swir2', 'BQA']\n",
    "    optical_bands = image.select(bns).multiply(0.0000275).add(-0.2)\n",
    "    return image.addBands(optical_bands, None, True)"
   ]
  },
  {
   "cell_type": "markdown",
   "id": "e8212f66",
   "metadata": {},
   "source": [
    "## Function to import study area polygon/s or reaches."
   ]
  },
  {
   "cell_type": "code",
   "execution_count": 4,
   "id": "eff4f80b",
   "metadata": {},
   "outputs": [
    {
     "data": {
      "text/html": [
       "\n",
       "            <style>\n",
       "                .geemap-dark {\n",
       "                    --jp-widgets-color: white;\n",
       "                    --jp-widgets-label-color: white;\n",
       "                    --jp-ui-font-color1: white;\n",
       "                    --jp-layout-color2: #454545;\n",
       "                    background-color: #383838;\n",
       "                }\n",
       "\n",
       "                .geemap-dark .jupyter-button {\n",
       "                    --jp-layout-color3: #383838;\n",
       "                }\n",
       "\n",
       "                .geemap-colab {\n",
       "                    background-color: var(--colab-primary-surface-color, white);\n",
       "                }\n",
       "\n",
       "                .geemap-colab .jupyter-button {\n",
       "                    --jp-layout-color3: var(--colab-primary-surface-color, white);\n",
       "                }\n",
       "            </style>\n",
       "            "
      ],
      "text/plain": [
       "<IPython.core.display.HTML object>"
      ]
     },
     "metadata": {},
     "output_type": "display_data"
    }
   ],
   "source": [
    "def load_watershed_shapefile(folder_name, base_path):\n",
    "    \"\"\"\n",
    "    Loads a watershed shapefile or reach shapefile into an Earth Engine FeatureCollection.\n",
    "\n",
    "    Parameters:\n",
    "        - folder_name: str, the name of the specific watershed/reach folder/shapefile. This can include one or more features.\n",
    "        - base_path: str, optional base directory containing watershed folders (default set to your path).\n",
    "\n",
    "    Returns:\n",
    "        - ee.FeatureCollection: An Earth Engine FeatureCollection representing the watershed geometry.\n",
    "    \"\"\"\n",
    "    # Construct the full path to the shapefile\n",
    "    shapefile_path = os.path.join(base_path, folder_name, f\"{folder_name}.shp\")\n",
    "    \n",
    "    # Check if the shapefile exists\n",
    "    if not os.path.exists(shapefile_path):\n",
    "        print(f\"No shapefile found at {shapefile_path}\")\n",
    "        return None\n",
    "    \n",
    "    # Load the shapefile into a GeoDataFrame\n",
    "    try:\n",
    "        gdf = gpd.read_file(shapefile_path)\n",
    "    except Exception as e:\n",
    "        print(f\"Error loading shapefile: {e}\")\n",
    "        return None\n",
    "    \n",
    "    # Initialize the Earth Engine API if not already done\n",
    "    if not ee.data._credentials:\n",
    "        ee.Initialize()\n",
    "    \n",
    "    # Convert the GeoDataFrame to a GeoJSON-like structure and then to a FeatureCollection\n",
    "    try:\n",
    "        feature_collection = geemap.geopandas_to_ee(gdf)\n",
    "    except Exception as e:\n",
    "        print(f\"Error converting GeoDataFrame to FeatureCollection: {e}\")\n",
    "        return None\n",
    "\n",
    "    return feature_collection"
   ]
  },
  {
   "cell_type": "markdown",
   "id": "47ea37e6",
   "metadata": {},
   "source": [
    "## Functions to generate DSWE water masks for the provided study/area or reaches"
   ]
  },
  {
   "cell_type": "code",
   "execution_count": 5,
   "id": "af5b9f7a",
   "metadata": {},
   "outputs": [
    {
     "data": {
      "text/html": [
       "\n",
       "            <style>\n",
       "                .geemap-dark {\n",
       "                    --jp-widgets-color: white;\n",
       "                    --jp-widgets-label-color: white;\n",
       "                    --jp-ui-font-color1: white;\n",
       "                    --jp-layout-color2: #454545;\n",
       "                    background-color: #383838;\n",
       "                }\n",
       "\n",
       "                .geemap-dark .jupyter-button {\n",
       "                    --jp-layout-color3: #383838;\n",
       "                }\n",
       "\n",
       "                .geemap-colab {\n",
       "                    background-color: var(--colab-primary-surface-color, white);\n",
       "                }\n",
       "\n",
       "                .geemap-colab .jupyter-button {\n",
       "                    --jp-layout-color3: var(--colab-primary-surface-color, white);\n",
       "                }\n",
       "            </style>\n",
       "            "
      ],
      "text/plain": [
       "<IPython.core.display.HTML object>"
      ]
     },
     "metadata": {},
     "output_type": "display_data"
    }
   ],
   "source": [
    "# Function to generate a water mask for a given year and polygon feature\n",
    "def get_water_mask_for_feature(year, max_level, polygon):\n",
    "    \"\"\"\n",
    "    Generate a water mask for a given year and polygon feature using Landsat imagery.\n",
    "\n",
    "    Parameters:\n",
    "    year (int): The year for which to generate the water mask.\n",
    "    max_level (float): The maximum DSWE water level threshold for classification.\n",
    "    polygon (ee.Geometry.Polygon): The polygon feature defining the area of interest.\n",
    "\n",
    "    Returns:\n",
    "    ee.Image: The water mask image for the specified year and polygon.\n",
    "    \"\"\"\n",
    "    imagery = (getLandsatCollection()\n",
    "               .map(maskL8sr)\n",
    "               .map(rescale)\n",
    "               .filterDate(f'{year}-01-01', f'{year}-12-31')\n",
    "               .filterBounds(polygon))\n",
    "\n",
    "    image_composite = imagery.median().clip(polygon)\n",
    "    water_mask = ClassifyWaterJones2019(image_composite, max_level)\n",
    "\n",
    "    return water_mask\n",
    "\n",
    "# Main function to generate water masks for each feature in a FeatureCollection\n",
    "def get_water_masks(year, folder_name, max_level, base_path):\n",
    "    \"\"\"\n",
    "    Generate water masks for each feature in a FeatureCollection for a given year.\n",
    "\n",
    "    Parameters:\n",
    "    year (int): The year for which to generate the water masks.\n",
    "    folder_name (str): The name of the folder containing the study area shapefile.\n",
    "    max_level (float): The maximum DSWE water level threshold for classification.\n",
    "    base_path (str): The base path to the directory containing the study area shapefile.\n",
    "\n",
    "    Returns:\n",
    "    ee.FeatureCollection: A FeatureCollection with water masks for each feature.\n",
    "    \"\"\"\n",
    "    \n",
    "    # Load study area shapefile, using the base path\n",
    "    polygon_fc = load_watershed_shapefile(folder_name, base_path)\n",
    "\n",
    "    # Map over each feature in the FeatureCollection and generate water masks\n",
    "    water_masks = polygon_fc.map(lambda feature: get_water_mask_for_feature(year, max_level, feature.geometry()).set('polygon_id', feature.id()))\n",
    "\n",
    "    return water_masks\n",
    "\n",
    "# Load river reach shapefiles and merge them\n",
    "def load_and_merge_reaches(csv_path):\n",
    "    \"\"\"\n",
    "    Load river reach shapefiles specified in a CSV file and merge them into a single GeoDataFrame.\n",
    "\n",
    "    Parameters:\n",
    "    csv_path (str): The file path to the CSV file containing river data, including directory paths \n",
    "                    and river names.\n",
    "\n",
    "    Returns:\n",
    "    tuple:\n",
    "        - gpd.GeoDataFrame: A GeoDataFrame containing the merged shapefiles for all river reaches.\n",
    "        - str: The directory path of the GRWL (Global River Widths from Landsat) data, \n",
    "               extracted from the CSV file.\n",
    "    \"\"\"\n",
    "    # Load the CSV file\n",
    "    river_data = pd.read_csv(csv_path)\n",
    "    \n",
    "    # List to hold individual reach GeoDataFrames\n",
    "    gdfs = []\n",
    "    \n",
    "    # Iterate through each row of the CSV\n",
    "    for _, row in river_data.iterrows():\n",
    "        # Build the full path to the reach shapefile\n",
    "        working_directory = row['working_directory']\n",
    "        reach_base_path = os.path.join(working_directory, \"RiverMapping\", \"Reaches\")\n",
    "        os.makedirs(reach_base_path, exist_ok=True)\n",
    "        river_name = row['river_name']\n",
    "        shapefile_path = os.path.join(reach_base_path, river_name, f\"{river_name}.shp\")\n",
    "        \n",
    "        # Load the reach shapefile as a GeoDataFrame\n",
    "        gdf = gpd.read_file(shapefile_path)\n",
    "        gdfs.append(gdf)\n",
    "    \n",
    "    # Merge all individual GeoDataFrames into a single GeoDataFrame\n",
    "    reach_merge = gpd.GeoDataFrame(pd.concat(gdfs, ignore_index=True))\n",
    "    \n",
    "    # Create local path for GRWL directory\n",
    "    working_directory = river_data['working_directory'].iloc[0]\n",
    "    grwl_path = os.path.join(working_directory, \"Allen_Pavelsky_2018\", \"GRWL_vector_V01.01\", \"GRWL_vector_V01.01\")\n",
    "    \n",
    "    # Return the merged GeoDataFrame and the GRWL directory path\n",
    "    return reach_merge, grwl_path\n",
    "\n",
    "# Convert Google Drive link to direct download link\n",
    "def convert_drive_to_download_url(drive_url):\n",
    "    \"\"\"\n",
    "    Convert a Google Drive shareable link into a direct download link.\n",
    "\n",
    "    Parameters:\n",
    "    drive_url (str): The Google Drive shareable URL for the file.\n",
    "\n",
    "    Returns:\n",
    "    str: A direct download URL for the file hosted on Google Drive.\n",
    "    \"\"\"\n",
    "    # Extract the file ID from the Google Drive URL\n",
    "    file_id = drive_url.split(\"/d/\")[1].split(\"/\")[0]\n",
    "    \n",
    "    # Construct the direct download URL using the file ID\n",
    "    download_url = f\"https://drive.google.com/uc?export=download&id={file_id}\"\n",
    "    \n",
    "    return download_url\n",
    "\n",
    "# Download and extract shapefiles from Google Drive\n",
    "def download_and_extract_shapefiles(download_url, extract_folder=\"shapefile_data\"):\n",
    "    \"\"\"\n",
    "    Download a zip file from a given URL and extract its contents to a specified folder.\n",
    "\n",
    "    Parameters:\n",
    "    download_url (str): The direct download URL for the zip file containing shapefiles.\n",
    "    extract_folder (str, optional): The folder where the extracted files will be saved. \n",
    "                                    Defaults to \"shapefile_data\".\n",
    "\n",
    "    Returns:\n",
    "    str: The path to the folder containing the extracted files.\n",
    "\n",
    "    Raises:\n",
    "    Exception: If the download fails (non-200 status code).\n",
    "    \"\"\"\n",
    "    # Send a GET request to download the file\n",
    "    response = requests.get(download_url)\n",
    "    \n",
    "    if response.status_code == 200:\n",
    "        # Extract the contents of the zip file\n",
    "        with zipfile.ZipFile(io.BytesIO(response.content)) as z:\n",
    "            z.extractall(extract_folder)\n",
    "            extracted_files = z.namelist()\n",
    "            print(f\"Extracted files: {extracted_files}\")\n",
    "        \n",
    "        # Return the path to the extraction folder\n",
    "        return extract_folder\n",
    "    else:\n",
    "        # Raise an exception if the download fails\n",
    "        raise Exception(f\"Failed to download the file. Status code: {response.status_code}\")\n",
    "\n",
    "# Load shapefile from a specified directory\n",
    "def load_shapefile(directory):\n",
    "    \"\"\"\n",
    "    Search a directory for a shapefile (.shp) and load it into a GeoDataFrame.\n",
    "\n",
    "    Parameters:\n",
    "    directory (str): The path to the directory where the shapefile is expected to be located.\n",
    "\n",
    "    Returns:\n",
    "    gpd.GeoDataFrame: A GeoDataFrame representing the loaded shapefile.\n",
    "\n",
    "    Raises:\n",
    "    Exception: If no shapefile is found in the specified directory.\n",
    "    \"\"\"\n",
    "    # Traverse the directory to locate shapefiles\n",
    "    for root, dirs, files in os.walk(directory):\n",
    "        for file in files:\n",
    "            if file.endswith(\".shp\"):\n",
    "                # Construct the full path to the shapefile\n",
    "                shapefile_path = os.path.join(root, file)\n",
    "                \n",
    "                # Load the shapefile as a GeoDataFrame\n",
    "                gdf = gpd.read_file(shapefile_path)\n",
    "                return gdf\n",
    "    \n",
    "    # Raise an exception if no shapefile is found\n",
    "    raise Exception(\"No shapefile found in the specified directory.\")\n",
    "\n",
    "# Reproject 'tiles' to match 'reaches' CRS and find intersections\n",
    "def reproject_and_intersect(tiles_gdf, reaches):\n",
    "    \"\"\"\n",
    "    Reproject a GeoDataFrame to match the coordinate reference system (CRS) of another GeoDataFrame\n",
    "    and compute the intersection to identify unique tile IDs.\n",
    "\n",
    "    Parameters:\n",
    "    tiles_gdf (gpd.GeoDataFrame): A GeoDataFrame containing tile geometries with their associated CRS.\n",
    "    reaches (gpd.GeoDataFrame): A GeoDataFrame containing river reach geometries with their associated CRS.\n",
    "\n",
    "    Returns:\n",
    "    list: A list of unique tile IDs (`TILE_ID`) from the intersection of `tiles_gdf` and `reaches`.\n",
    "\n",
    "    \"\"\"\n",
    "    # Reproject tiles GeoDataFrame to match the CRS of reaches GeoDataFrame\n",
    "    tiles_reprojected = tiles_gdf.to_crs(reaches.crs)\n",
    "    \n",
    "    # Compute the intersection of the two GeoDataFrames\n",
    "    intersection = gpd.overlay(reaches, tiles_reprojected, how='intersection')\n",
    "    \n",
    "    # Return the list of unique TILE_IDs from the intersection\n",
    "    return intersection['TILE_ID'].unique().tolist()\n",
    "\n",
    "# Load and merge matching shapefiles from a directory based on 'tile_ids'\n",
    "def load_matching_shapefiles(directory, tile_ids):\n",
    "    \"\"\"\n",
    "    Load shapefiles from a directory that match specified tile IDs and merge them into a single GeoDataFrame.\n",
    "\n",
    "    Parameters:\n",
    "    directory (str): The path to the directory where the shapefiles are located.\n",
    "    tile_ids (list): A list of tile IDs to match against the shapefile names.\n",
    "\n",
    "    Returns:\n",
    "    gpd.GeoDataFrame: A merged GeoDataFrame containing all matching shapefiles.\n",
    "\n",
    "    Raises:\n",
    "    Exception: If no matching shapefiles are found in the directory.\n",
    "    \"\"\"\n",
    "    gdfs = []  # List to store individual GeoDataFrames\n",
    "    \n",
    "    # Traverse the directory to find matching shapefiles\n",
    "    for root, dirs, files in os.walk(directory):\n",
    "        for file in files:\n",
    "            for tile_id in tile_ids:\n",
    "                # Check if the file starts with a tile ID and ends with .shp\n",
    "                if file.startswith(tile_id) and file.endswith(\".shp\"):\n",
    "                    shapefile_path = os.path.join(root, file)\n",
    "                    \n",
    "                    # Load the shapefile and append it to the list\n",
    "                    gdf = gpd.read_file(shapefile_path)\n",
    "                    gdfs.append(gdf)\n",
    "                    print(f\"Loaded shapefile: {file}\")\n",
    "    \n",
    "    # Raise an exception if no matching shapefiles are found\n",
    "    if not gdfs:\n",
    "        raise Exception(\"No matching shapefiles found.\")\n",
    "    \n",
    "    # Merge all loaded GeoDataFrames into a single GeoDataFrame\n",
    "    merged_gdf = gpd.GeoDataFrame(pd.concat(gdfs, ignore_index=True), crs=gdfs[0].crs)\n",
    "    \n",
    "    return merged_gdf\n",
    "\n",
    "# gets final grwl subset\n",
    "def grwl_main(csv_path, drive_url):\n",
    "    \"\"\"\n",
    "    Main function to process river reach shapefiles and GRWL (Global River Widths from Landsat) data.\n",
    "\n",
    "    This function integrates multiple steps:\n",
    "    1. Loading and merging river reach shapefiles from a CSV file.\n",
    "    2. Converting a Google Drive URL to a direct download link.\n",
    "    3. Downloading and extracting tile shapefiles from the direct download link.\n",
    "    4. Loading the extracted tiles as a GeoDataFrame.\n",
    "    5. Finding intersecting tile IDs between tiles and reaches.\n",
    "    6. Loading and merging GRWL shapefiles that match the intersecting tile IDs.\n",
    "\n",
    "    Parameters:\n",
    "    csv_path (str): The file path to the CSV file containing river reach metadata and directories.\n",
    "    drive_url (str): The Google Drive shareable URL for the tiles shapefile zip archive.\n",
    "\n",
    "    Returns:\n",
    "    gpd.GeoDataFrame: A GeoDataFrame containing the merged GRWL shapefiles corresponding \n",
    "                      to the intersecting tile IDs.\n",
    "    \"\"\"\n",
    "    # Step 1: Load and merge river reach shapefiles\n",
    "    reach_merge, grwl_directory = load_and_merge_reaches(csv_path)\n",
    "    \n",
    "    # Step 2: Convert Drive URL to direct download\n",
    "    download_url = convert_drive_to_download_url(drive_url)\n",
    "    \n",
    "    # Step 3: Download and extract the tiles shapefiles\n",
    "    extracted_folder = download_and_extract_shapefiles(download_url)\n",
    "    \n",
    "    # Step 4: Load the extracted shapefile as GeoDataFrame\n",
    "    tiles_gdf = load_shapefile(extracted_folder)\n",
    "    \n",
    "    # Step 5: Find intersecting 'TILE_ID' values between 'tiles' and 'reaches'\n",
    "    tile_ids = reproject_and_intersect(tiles_gdf, reach_merge)\n",
    "    \n",
    "    # Step 6: Load and merge matching shapefiles from GRWL data\n",
    "    grwl_gdf = load_matching_shapefiles(grwl_directory, tile_ids)\n",
    "    \n",
    "    # Return the final merged GeoDataFrame\n",
    "    return grwl_gdf\n",
    "\n",
    "def get_utm_epsg(longitude, latitude):\n",
    "    \"\"\"\n",
    "    Determine the appropriate UTM (Universal Transverse Mercator) EPSG code \n",
    "    for a given geographic location based on its longitude and latitude.\n",
    "\n",
    "    Parameters:\n",
    "    longitude (float): The longitude of the location in decimal degrees.\n",
    "    latitude (float): The latitude of the location in decimal degrees.\n",
    "\n",
    "    Returns:\n",
    "    int: The EPSG code corresponding to the UTM zone for the given location. \n",
    "         EPSG codes for the northern hemisphere start with 32600, and those \n",
    "         for the southern hemisphere start with 32700.\n",
    "    \"\"\"\n",
    "    # Calculate the UTM zone based on longitude\n",
    "    utm_zone = int((longitude + 180) / 6) + 1\n",
    "    \n",
    "    # Determine the EPSG code based on the latitude (hemisphere)\n",
    "    if latitude >= 0:\n",
    "        epsg_code = 32600 + utm_zone  # UTM zones for northern hemisphere\n",
    "    else:\n",
    "        epsg_code = 32700 + utm_zone  # UTM zones for southern hemisphere\n",
    "    \n",
    "    return epsg_code\n",
    "\n",
    "def raster_to_gdf(labeled_array, transform, crs=None):\n",
    "    \"\"\"\n",
    "    Convert a labeled raster array into a GeoDataFrame, where each unique labeled region \n",
    "    in the raster is represented as a polygon.\n",
    "\n",
    "    Parameters:\n",
    "    labeled_array (numpy.ndarray): A 2D array where each unique value represents a labeled region.\n",
    "                                    Regions with a value of 0 are treated as background and ignored.\n",
    "    transform (affine.Affine): The affine transformation matrix for converting pixel coordinates \n",
    "                               to geographic coordinates.\n",
    "    crs (str or dict, optional): The coordinate reference system for the output GeoDataFrame. \n",
    "                                 If provided, it is assigned to the GeoDataFrame.\n",
    "\n",
    "    Returns:\n",
    "    gpd.GeoDataFrame: A GeoDataFrame containing the polygons representing each labeled region \n",
    "                      and their corresponding labels.\n",
    "                      - Columns:\n",
    "                        - `geometry`: The Shapely geometry (polygon) for each region.\n",
    "                        - `label`: The label (value) corresponding to each region.\n",
    "    \"\"\"\n",
    "    polygons, labels = [], []\n",
    "    \n",
    "    # Extract shapes and values from the labeled raster array\n",
    "    for geom, value in rasterio.features.shapes(labeled_array, transform=transform):\n",
    "        if value != 0:  # Ignore background regions (value 0)\n",
    "            polygons.append(shape(geom))  # Convert the raster geometry to Shapely geometry\n",
    "            labels.append(value)         # Store the corresponding label value\n",
    "    \n",
    "    # Create a GeoDataFrame from the extracted polygons and labels\n",
    "    gdf = gpd.GeoDataFrame({'geometry': polygons, 'label': labels})\n",
    "    \n",
    "    # Assign the CRS to the GeoDataFrame, if provided\n",
    "    if crs is not None:\n",
    "        gdf = gdf.set_crs(crs)\n",
    "    \n",
    "    return gdf\n",
    "\n",
    "def find_intersecting_pixels(raster_gdf, buff_gdf):\n",
    "    \"\"\"\n",
    "    Identify unique pixel labels from a raster GeoDataFrame that intersect with \n",
    "    the geometries in a buffer GeoDataFrame.\n",
    "\n",
    "    Parameters:\n",
    "    raster_gdf (gpd.GeoDataFrame): A GeoDataFrame representing raster data, \n",
    "                                   where each geometry corresponds to a pixel region \n",
    "                                   and includes a `label` column for pixel values.\n",
    "    buff_gdf (gpd.GeoDataFrame): A GeoDataFrame containing buffer geometries to check \n",
    "                                 for intersections with the raster geometries.\n",
    "\n",
    "    Returns:\n",
    "    set: A set of unique pixel labels (from the `label` column of `raster_gdf`) that \n",
    "         intersect with the buffer geometries.\n",
    "    \"\"\"\n",
    "    # Perform a spatial join to find intersecting geometries\n",
    "    intersections = gpd.sjoin(raster_gdf, buff_gdf, how='inner', predicate='intersects')\n",
    "    \n",
    "    # Extract unique labels from the intersecting geometries\n",
    "    unique_labels = set(intersections['label'])\n",
    "    \n",
    "    return unique_labels\n",
    "\n",
    "def filter_and_reclassify_raster(classified_raster, unique_labels, min_pixels=200):\n",
    "    \"\"\"\n",
    "    Filter and reclassify a classified raster to include only specified components \n",
    "    and remove components smaller than a minimum pixel threshold.\n",
    "\n",
    "    Parameters:\n",
    "    classified_raster (numpy.ndarray): A 2D array where each value represents a classified region (label).\n",
    "    unique_labels (set): A set of labels to retain in the final raster. \n",
    "                         Pixels with these labels will be included in the output.\n",
    "    min_pixels (int, optional): The minimum number of pixels a component must have to be retained. \n",
    "                                Components smaller than this size will be removed. Defaults to 200.\n",
    "\n",
    "    Returns:\n",
    "    numpy.ndarray: A 2D array where:\n",
    "                   - Retained regions are marked with `1`.\n",
    "                   - Background and removed regions are marked with `0`.\n",
    "    \"\"\"\n",
    "    # Initialize the final raster with zeros (background)\n",
    "    final_raster = np.zeros_like(classified_raster, dtype=np.int32)\n",
    "    \n",
    "    # Retain only the specified labels in the raster\n",
    "    for unique_label in unique_labels:\n",
    "        final_raster[classified_raster == unique_label] = 1\n",
    "\n",
    "    # Define a 3x3 structure for connected component labeling\n",
    "    structure = np.ones((3, 3), dtype=int)\n",
    "    \n",
    "    # Label connected components in the filtered raster\n",
    "    labeled_array, num_features = label(final_raster, structure=structure)\n",
    "\n",
    "    # Calculate the size of each labeled component\n",
    "    component_sizes = np.bincount(labeled_array.ravel())\n",
    "    \n",
    "    # Remove components smaller than the specified size threshold\n",
    "    for component_label, size in enumerate(component_sizes):\n",
    "        if size < min_pixels:\n",
    "            final_raster[labeled_array == component_label] = 0\n",
    "\n",
    "    return final_raster\n",
    "\n",
    "def export_raster(raster, transform, crs, output_path):\n",
    "    \"\"\"\n",
    "    Export a raster array to a GeoTIFF file with LZW compression.\n",
    "    \n",
    "    Parameters:\n",
    "        raster (numpy array): The raster data to export.\n",
    "        transform (Affine): Affine transform for the raster.\n",
    "        crs (CRS): Coordinate reference system of the raster.\n",
    "        output_path (str): Path to save the output GeoTIFF file.\n",
    "    \"\"\"\n",
    "    \n",
    "    with rasterio.open(\n",
    "        output_path,\n",
    "        'w',\n",
    "        driver='GTiff',\n",
    "        height=raster.shape[0],\n",
    "        width=raster.shape[1],\n",
    "        count=1,  # Assuming single-band raster\n",
    "        dtype=raster.dtype,\n",
    "        crs=crs,\n",
    "        transform=transform,\n",
    "        compress='LZW'  # Apply LZW compression to reduce file size\n",
    "    ) as dst:\n",
    "        dst.write(raster, 1)\n",
    "\n",
    "    print(f\"Raster successfully saved with compression to: {output_path}\")\n",
    "\n",
    "def cleaner_main(raster_path, grwl, reach, min_pixels, output_path):\n",
    "    \"\"\"\n",
    "    The main function to clean a raster by filtering and reclassifying it based on GRWL data \n",
    "    and reach geometry, ultimately exporting a cleaned raster.\n",
    "\n",
    "    Parameters:\n",
    "    raster_path (str): Path to the input raster file (e.g., a water mask).\n",
    "    grwl (gpd.GeoDataFrame): GeoDataFrame containing GRWL (Global River Widths from Landsat) data.\n",
    "    reach (gpd.GeoDataFrame): GeoDataFrame containing the river reach geometry.\n",
    "    min_pixels (int): The minimum number of pixels a component must have to be retained.\n",
    "    output_path (str): Path to save the cleaned and processed raster.\n",
    "\n",
    "    Returns:\n",
    "    None: The cleaned raster is exported to the specified output path.\n",
    "\n",
    "    Workflow:\n",
    "    1. Load the raster file and extract its data, transform, and CRS.\n",
    "    2. Reproject the reach geometry to match the CRS of the GRWL data.\n",
    "    3. Clip and dissolve the GRWL data to the extent of the reach.\n",
    "    4. Determine the appropriate UTM zone for projection and reproject the dissolved geometry.\n",
    "    5. Create a buffer around the projected GRWL geometry based on the mean width.\n",
    "    6. Label connected components in the raster and convert them to a GeoDataFrame.\n",
    "    7. Reproject the raster GeoDataFrame to match the buffer's CRS.\n",
    "    8. Identify intersecting pixels between the buffer and the raster.\n",
    "    9. Filter and reclassify the raster based on intersecting pixels and minimum pixel size.\n",
    "    10. Export the cleaned raster to the specified output path.\n",
    "    \"\"\"\n",
    "    # Step 1: Load raster\n",
    "    with rasterio.open(raster_path) as src:\n",
    "        water_mask = src.read(1)  # Read the first band (water mask)\n",
    "        transform = src.transform  # Get the raster's affine transform\n",
    "        crs = src.crs  # Get the raster's CRS\n",
    "    \n",
    "    # Step 2: Reproject the reach to match GRWL CRS\n",
    "    reach = reach.to_crs(grwl.crs)\n",
    "    \n",
    "    # Step 3: Clip and dissolve the GRWL data to the extent of the reach\n",
    "    grwl_reach = gpd.clip(grwl, reach)\n",
    "    grwl_reach_dissolved = grwl_reach.dissolve()\n",
    "\n",
    "    # Step 4: Determine UTM zone and reproject the dissolved geometry\n",
    "    centroid = grwl_reach_dissolved.geometry.centroid.iloc[0]\n",
    "    longitude, latitude = centroid.x, centroid.y\n",
    "    utm_epsg = get_utm_epsg(longitude, latitude)\n",
    "    grwl_reach_projected = grwl_reach_dissolved.to_crs(epsg=utm_epsg)\n",
    "\n",
    "    # Step 5: Buffer the projected GRWL geometry based on the mean width\n",
    "    mean_width = grwl_reach['width_m'].mean()\n",
    "    grwl_buff = grwl_reach_projected.buffer(mean_width/2)\n",
    "\n",
    "    # Step 6: Label connected components in the raster\n",
    "    structure = np.ones((3, 3), dtype=int)  # 8-connectivity\n",
    "    labeled_array, num_features = label(water_mask, structure=structure)\n",
    "\n",
    "    # Step 7: Convert labeled components to a GeoDataFrame\n",
    "    mask_gdf = raster_to_gdf(labeled_array, transform, crs=crs)\n",
    "    mask_gdf = mask_gdf.to_crs(grwl_buff.crs)\n",
    "\n",
    "    # Step 8: Convert the buffer to a GeoDataFrame\n",
    "    grwl_buff_gdf = gpd.GeoDataFrame(geometry=grwl_buff, crs=grwl_buff.crs)\n",
    "\n",
    "    # Step 9: Find intersecting pixel labels\n",
    "    unique_pix = find_intersecting_pixels(mask_gdf, grwl_buff_gdf)\n",
    "\n",
    "    # Step 10: Filter and reclassify the raster based on intersecting pixels\n",
    "    final_raster = filter_and_reclassify_raster(labeled_array, unique_pix, min_pixels=min_pixels)\n",
    "\n",
    "    # Step 11: Export the cleaned raster to the specified output path\n",
    "    export_raster(final_raster, transform, crs, output_path)\n",
    "\n",
    "    print(f\"Processed raster saved to: {output_path}\")\n",
    "\n",
    "# Function to export masks for a range of years and features within a polygon feature collection\n",
    "def export_masks(folder_name, max_level, grwl_gdf, year_range=\"All\", reach_range=\"All\",\n",
    "                 base_path=r'C:\\Users\\huckr\\Desktop\\UCSB\\Dissertation\\Data\\RiverMapping\\Reaches', \n",
    "                 local_output_path=r'C:\\Users\\huckr\\Desktop\\UCSB\\Dissertation\\Data\\RiverMapping\\RiverMasks',\n",
    "                 min_pix=0, \n",
    "                 min_tile_size_km2=400):\n",
    "    \"\"\"\n",
    "    Generates water masks for a given river and specified range of years and reaches.\n",
    "    If export fails due to size, the image is tiled and exported in smaller parts,\n",
    "    and the tiles are stitched back into a single .tif file.\n",
    "\n",
    "    Parameters:\n",
    "        year_range (str, int, tuple, optional): Range of years (start, end), a single year, or \"All\".\n",
    "        reach_range (str, int, tuple, optional): Range of reaches (start, end), a single reach, or \"All\".\n",
    "        folder_name (str): Name of the folder containing watershed shapefile.\n",
    "        max_level (int): Maximum DSWE level for water mask generation.\n",
    "        base_path (str, optional): Base path to the folder containing watershed shapefiles.\n",
    "        local_output_path (str, optional): Local path where the output masks will be saved.\n",
    "        min_pix (int, optional): Minimum pixel count for post-processing.\n",
    "        min_tile_size_km2 (float, optional): Minimum tile size in square kilometers.\n",
    "\n",
    "    Outputs:\n",
    "        Exports water masks as TIFF files to the specified local output path.\n",
    "    \"\"\"\n",
    "\n",
    "    def get_geometry_area_km2(geom):\n",
    "        \"\"\"Calculate the area of a given ee.Geometry in square kilometers.\"\"\"\n",
    "        return geom.area().divide(1e6).getInfo()  # Convert from m² to km²\n",
    "\n",
    "    def tile_geometry(geometry, tile_size_km2):\n",
    "        \"\"\"Tiles the geometry into smaller parts based on the target tile size.\"\"\"\n",
    "        area_km2 = get_geometry_area_km2(geometry)\n",
    "        if area_km2 <= tile_size_km2:\n",
    "            return [geometry]  # No need to tile, small enough\n",
    "\n",
    "        # Determine how many tiles we need based on the area\n",
    "        num_tiles = math.ceil(area_km2 / tile_size_km2)\n",
    "        tile_count_per_side = math.ceil(math.sqrt(num_tiles))  # Number of tiles per side\n",
    "\n",
    "        # Get the bounding box and tile the region\n",
    "        bounds = geometry.bounds()\n",
    "        bbox_coords = bounds.coordinates().getInfo()[0]\n",
    "        min_lon, min_lat = bbox_coords[0]\n",
    "        max_lon, max_lat = bbox_coords[2]\n",
    "\n",
    "        lon_step = (max_lon - min_lon) / tile_count_per_side\n",
    "        lat_step = (max_lat - min_lat) / tile_count_per_side\n",
    "\n",
    "        tiles = []\n",
    "        for i in range(tile_count_per_side):\n",
    "            for j in range(tile_count_per_side):\n",
    "                tile = ee.Geometry.Rectangle([\n",
    "                    [min_lon + i * lon_step, min_lat + j * lat_step],\n",
    "                    [min_lon + (i + 1) * lon_step, min_lat + (j + 1) * lat_step]\n",
    "                ])\n",
    "                tiles.append(tile)\n",
    "        return tiles\n",
    "\n",
    "    def export_tile(tile_geom, output_file_path, year, feature_id):\n",
    "        \"\"\"Attempts to export a single tile, retrying if necessary.\"\"\"\n",
    "        for retry in range(1):  # Retry one time for network or transient errors\n",
    "            try:\n",
    "                water_mask = get_water_mask_for_feature(year, max_level, tile_geom)\n",
    "                water_mask_reprojected = water_mask.reproject(crs=target_crs, scale=30)\n",
    "\n",
    "                geemap.ee_export_image(\n",
    "                    water_mask_reprojected,\n",
    "                    filename=output_file_path,\n",
    "                    scale=30,\n",
    "                    region=tile_geom.getInfo()['coordinates'],\n",
    "                    file_per_band=False\n",
    "                )\n",
    "                \n",
    "                # Wait for the export to complete and check if file exists\n",
    "                time.sleep(10)\n",
    "                if os.path.exists(output_file_path):\n",
    "                    print(f\"RAW: Successfully exported {output_file_path}.\")\n",
    "                    return True\n",
    "                else:\n",
    "                    print(f\"Export failed: File {output_file_path} not found.\")\n",
    "            except Exception as e:\n",
    "                error_message = str(e)\n",
    "                print(f\"Failed to export {output_file_path} on retry {retry + 1}. Error: {error_message}\")\n",
    "                time.sleep(5)  # Delay before retrying\n",
    "                \n",
    "                # Check if the error is related to missing bands or invalid image data\n",
    "                if \"Image.select\" in error_message or \"no bands\" in error_message:\n",
    "                    print(f\"Skipping tiling for {year}, reach {feature_id} due to image generation error.\")\n",
    "                    return \"invalid_image\"  # Return specific error message if image is invalid\n",
    "        return \"size_limit\"  # Return specific message if it fails due to size\n",
    "\n",
    "    def stitch_tiles(output_folder, reach_id, year, output_file_name):\n",
    "        \"\"\"Stitches multiple tiles back into a single .tif using Rasterio, applies compression, and deletes the tiles after successful stitching.\"\"\"\n",
    "        # Find all .tif tiles in the output folder that match the reach, year, and include 'tile' in the file name\n",
    "        tile_files = glob.glob(os.path.join(output_folder, f\"*reach_{reach_id}_{year}_tile_*.tif\"))\n",
    "\n",
    "        if len(tile_files) > 1:\n",
    "            # Open the tile files and merge them using Rasterio\n",
    "            tile_datasets = [rasterio.open(tile) for tile in tile_files]\n",
    "            mosaic, out_transform = merge(tile_datasets)\n",
    "\n",
    "            # Define the output path for the stitched file\n",
    "            merged_output_path = os.path.join(output_folder, output_file_name)\n",
    "            print(f\"Stitching tiles into {merged_output_path}...\")\n",
    "\n",
    "            # Copy the metadata from one of the tiles (all tiles should have similar metadata)\n",
    "            out_meta = tile_datasets[0].meta.copy()\n",
    "            out_meta.update({\n",
    "                \"driver\": \"GTiff\",\n",
    "                \"height\": mosaic.shape[1],\n",
    "                \"width\": mosaic.shape[2],\n",
    "                \"transform\": out_transform,\n",
    "                \"compress\": \"LZW\"  # Apply LZW compression\n",
    "            })\n",
    "\n",
    "            # Write the mosaic to a new .tif file with compression\n",
    "            with rasterio.open(merged_output_path, \"w\", **out_meta) as dest:\n",
    "                dest.write(mosaic)\n",
    "\n",
    "            # Close all tile datasets\n",
    "            for ds in tile_datasets:\n",
    "                ds.close()\n",
    "\n",
    "            print(f\"Tiles successfully stitched into {merged_output_path}.\")\n",
    "\n",
    "            # Delete the tiles after successful stitching\n",
    "            for tile in tile_files:\n",
    "                try:\n",
    "                    os.remove(tile)\n",
    "                    print(f\"Deleted tile: {tile}\")\n",
    "                except OSError as e:\n",
    "                    print(f\"Error deleting tile {tile}: {e}\")\n",
    "\n",
    "        elif len(tile_files) == 1:\n",
    "            print(\"Only one tile found, no stitching needed.\")\n",
    "        else:\n",
    "            print(\"No tiles found for stitching.\")\n",
    "\n",
    "    # Load watershed shapefile\n",
    "    polygon_fc = load_watershed_shapefile(folder_name, base_path)\n",
    "\n",
    "    # Define the target CRS\n",
    "    target_crs = 'EPSG:4326'\n",
    "\n",
    "    # Determine the year range\n",
    "    if year_range == \"All\":\n",
    "        year_start = 1984\n",
    "        year_end = 2025\n",
    "    elif isinstance(year_range, int):\n",
    "        year_start = year_range\n",
    "        year_end = year_range\n",
    "    elif isinstance(year_range, str):\n",
    "        # Check if the string is in the format \"(YYYY, YYYY)\"\n",
    "        if re.match(r'^\\(\\d{4}, \\d{4}\\)$', year_range):  # Match the pattern (YYYY, YYYY)\n",
    "            try:\n",
    "                # Convert the string to a tuple of integers\n",
    "                year_range = ast.literal_eval(year_range)\n",
    "                year_start, year_end = year_range\n",
    "            except (ValueError, SyntaxError):\n",
    "                raise ValueError(f\"Invalid year range format: {year_range}\")\n",
    "        else:\n",
    "            raise ValueError(f\"Invalid string format for year_range: {year_range}\")\n",
    "    elif isinstance(year_range, tuple) and len(year_range) == 2:\n",
    "        year_start, year_end = year_range\n",
    "    else:\n",
    "        raise ValueError(\"year_range must be 'All', an int, or a tuple (start, end).\")\n",
    "\n",
    "    # Determine the reach range\n",
    "    if reach_range == \"All\":\n",
    "        reach_start = 1\n",
    "        reach_end = 9999\n",
    "    elif isinstance(reach_range, int):\n",
    "        reach_start = reach_range\n",
    "        reach_end = reach_range\n",
    "    elif isinstance(reach_range, str):\n",
    "        # Check if the string is in the format \"(XX, YY)\"\n",
    "        if re.match(r'^\\(\\d{1,4}, \\d{1,4}\\)$', reach_range):  # Match (XX, YY) with 1 to 4 digits\n",
    "            try:\n",
    "                # Convert the string to a tuple of integers\n",
    "                reach_range = ast.literal_eval(reach_range)\n",
    "                reach_start, reach_end = reach_range\n",
    "            except (ValueError, SyntaxError):\n",
    "                raise ValueError(f\"Invalid reach range format: {reach_range}\")\n",
    "        else:\n",
    "            raise ValueError(f\"Invalid string format for reach_range: {reach_range}\")\n",
    "    elif isinstance(reach_range, tuple) and len(reach_range) == 2:\n",
    "        reach_start, reach_end = reach_range\n",
    "    else:\n",
    "        raise ValueError(\"reach_range must be 'All', an int, or a tuple (start, end).\")\n",
    "\n",
    "    # Loop through each feature in the FeatureCollection\n",
    "    for feature in polygon_fc.getInfo()['features']:\n",
    "\n",
    "        # Get the geometry and ID of the feature\n",
    "        feature_geom = ee.Feature(feature).geometry()\n",
    "        feature_id = int(feature['properties']['ds_order'])\n",
    "\n",
    "        # Check if the feature_id is within the reach range\n",
    "        if reach_start <= feature_id <= reach_end:\n",
    "            # Create the reach subfolder if it does not exist\n",
    "            reach_folder_path = os.path.join(local_output_path, folder_name, f\"reach_{feature_id}\", \"Raw\")\n",
    "            if not os.path.exists(reach_folder_path):\n",
    "                os.makedirs(reach_folder_path)\n",
    "\n",
    "            for year in range(year_start, year_end + 1):\n",
    "                # Set the output file path based on the folder, year, and feature ID\n",
    "                output_file_name = f\"{folder_name}_reach_{feature_id}_{year}_DSWE_level_{max_level}.tif\"\n",
    "                output_file_path = os.path.join(reach_folder_path, output_file_name)\n",
    "\n",
    "                # Attempt to export the full water mask\n",
    "                try:\n",
    "                    export_status = export_tile(feature_geom, output_file_path, year, feature_id)\n",
    "\n",
    "                    if export_status == \"invalid_image\":\n",
    "                        print(f\"Skipping further processing for {year}, reach {feature_id} due to invalid image.\")\n",
    "                        continue  # Skip to the next feature/year if invalid image\n",
    "\n",
    "                    elif export_status == \"size_limit\":\n",
    "                        # If the export failed due to size, tile the geometry and retry\n",
    "                        print(f\"Export failed for {output_file_name}, attempting tiling...\")\n",
    "                        tiles = tile_geometry(feature_geom, min_tile_size_km2)\n",
    "\n",
    "                        tile_paths = []\n",
    "                        for tile_idx, tile in enumerate(tiles):\n",
    "                            tile_output_name = f\"{folder_name}_reach_{feature_id}_{year}_tile_{tile_idx}_DSWE_level_{max_level}.tif\"\n",
    "                            tile_output_path = os.path.join(reach_folder_path, tile_output_name)\n",
    "                            tile_paths.append(tile_output_path)\n",
    "                            if not export_tile(tile, tile_output_path, year, feature_id):\n",
    "                                print(f\"Failed to export tile {tile_idx} for {output_file_name}.\")\n",
    "                        \n",
    "                        # After tiling, stitch the tiles back together\n",
    "                        stitch_tiles(reach_folder_path, feature_id, year, output_file_name)\n",
    "                    \n",
    "                    # Only proceed if the export was successful\n",
    "                    process_folder_path = os.path.join(local_output_path, folder_name, f\"reach_{feature_id}\", \"Processed\")\n",
    "                    if not os.path.exists(process_folder_path):\n",
    "                        os.makedirs(process_folder_path)\n",
    "        \n",
    "                    raster_name = f\"{folder_name}_reach_{feature_id}_{year}_DSWE_level_{max_level}.tif\"\n",
    "                    output_path = os.path.join(process_folder_path, output_file_name)\n",
    "        \n",
    "                    reach_name = f'{folder_name}.shp'\n",
    "                    reaches = gpd.read_file(os.path.join(base_path, folder_name, reach_name))\n",
    "                    reach = reaches[reaches['ds_order'] == feature_id]\n",
    "        \n",
    "                    cleaner_main(output_file_path, grwl_gdf, reach, min_pix, output_path)\n",
    "                    print(f\"PROCESSED: Exported {raster_name} to {process_folder_path}.\")\n",
    "\n",
    "                except Exception as e:\n",
    "                    print(f\"Failed to export {output_file_name}. Error: {e}\")\n",
    "                    continue  # Skip to the next iteration\n",
    "\n",
    "def process_multiple_rivers(csv_file):\n",
    "    \"\"\"\n",
    "    Process multiple rivers by generating river masks for each entry in the input CSV file.\n",
    "\n",
    "    Parameters:\n",
    "    csv_file (str): The file path to the CSV containing input parameters for multiple rivers.\n",
    "                    Each row should specify parameters such as:\n",
    "                    - River name\n",
    "                    - Working directory\n",
    "                    - DSWE threshold level\n",
    "                    - Year range\n",
    "                    - Reach range\n",
    "                    - Minimum pixel size for filtering\n",
    "\n",
    "    Workflow:\n",
    "    1. Read the CSV file to get parameters for each river.\n",
    "    2. Generate a GRWL (Global River Widths from Landsat) GeoDataFrame by calling `grwl_main`.\n",
    "    3. Loop through each river in the CSV:\n",
    "        - Extract input parameters for the river.\n",
    "        - Create necessary directories for outputs.\n",
    "        - Call `export_masks` to process and export the river mask for the current river.\n",
    "\n",
    "    Returns:\n",
    "    None: This function processes and exports river masks for each river specified in the CSV file.\n",
    "    \"\"\"\n",
    "    drive_url = \"https://drive.google.com/file/d/1K6x1E0mmLc0k7er4NCIeaZsTfHi2wxxI/view?usp=sharing\"\n",
    "    \n",
    "    # Step 1: Read the CSV file containing input variables for multiple rivers\n",
    "    river_data = pd.read_csv(csv_file)\n",
    "    \n",
    "    # Step 2: Generate the GRWL GeoDataFrame using the provided drive URL\n",
    "    grwl_gdf = grwl_main(csv_file, drive_url)\n",
    "\n",
    "    # Step 3: Loop through each row (each river) in the CSV\n",
    "    for index, row in river_data.iterrows():\n",
    "        # Extract necessary input values from the current CSV row\n",
    "        Folder_name = row['river_name']  # Name of the river\n",
    "        working_directory = row['working_directory']  # Directory for processing\n",
    "        DSWE_threshold_level = row['DSWE_threshold_level']  # DSWE threshold for classification\n",
    "        year_range = row['year_range']  # Year range for processing\n",
    "        reach_range = row['reach_range']  # Reach range for processing\n",
    "        min_pix = row['min_pixels']  # Minimum pixel size for filtering\n",
    "        \n",
    "        # Create necessary directories for reaches and output masks\n",
    "        base_path = os.path.join(working_directory, \"RiverMapping\", \"Reaches\")\n",
    "        os.makedirs(base_path, exist_ok=True)\n",
    "        local_output_path = os.path.join(working_directory, \"RiverMapping\", \"RiverMasks\")\n",
    "        os.makedirs(local_output_path, exist_ok=True)\n",
    "        \n",
    "        # Step 4: Call the function to process the river mask for the current river\n",
    "        export_masks(Folder_name, \n",
    "                     DSWE_threshold_level,\n",
    "                     grwl_gdf,\n",
    "                     year_range, \n",
    "                     reach_range, \n",
    "                     base_path, \n",
    "                     local_output_path,\n",
    "                     min_pix)"
   ]
  },
  {
   "cell_type": "markdown",
   "id": "f44cc925",
   "metadata": {},
   "source": [
    "## 7) Input parameters and generate masks, download to local folder:"
   ]
  },
  {
   "cell_type": "code",
   "execution_count": 6,
   "id": "9a16d629",
   "metadata": {
    "scrolled": true
   },
   "outputs": [
    {
     "data": {
      "text/html": [
       "\n",
       "            <style>\n",
       "                .geemap-dark {\n",
       "                    --jp-widgets-color: white;\n",
       "                    --jp-widgets-label-color: white;\n",
       "                    --jp-ui-font-color1: white;\n",
       "                    --jp-layout-color2: #454545;\n",
       "                    background-color: #383838;\n",
       "                }\n",
       "\n",
       "                .geemap-dark .jupyter-button {\n",
       "                    --jp-layout-color3: #383838;\n",
       "                }\n",
       "\n",
       "                .geemap-colab {\n",
       "                    background-color: var(--colab-primary-surface-color, white);\n",
       "                }\n",
       "\n",
       "                .geemap-colab .jupyter-button {\n",
       "                    --jp-layout-color3: var(--colab-primary-surface-color, white);\n",
       "                }\n",
       "            </style>\n",
       "            "
      ],
      "text/plain": [
       "<IPython.core.display.HTML object>"
      ]
     },
     "metadata": {},
     "output_type": "display_data"
    },
    {
     "name": "stdout",
     "output_type": "stream",
     "text": [
      "Extracted files: ['IMWtiles.dbf', 'IMWtiles.lyr', 'IMWtiles.prj', 'IMWtiles.sbn', 'IMWtiles.sbx', 'IMWtiles.shp', 'IMWtiles.shp.xml', 'IMWtiles.shx']\n",
      "Loaded shapefile: SE38.shp\n",
      "Generating URL ...\n",
      "An error occurred while downloading.\n",
      "Image.select: Band pattern 'Nir' was applied to an Image with no bands. See https://developers.google.com/earth-engine/guides/debugging#no-bands\n",
      "Export failed: File D:\\Madagascar\\Data\\RiverMapping\\RiverMasks\\Betsiboka\\reach_7\\Raw\\Betsiboka_reach_7_1984_DSWE_level_3.tif not found.\n",
      "Export failed for Betsiboka_reach_7_1984_DSWE_level_3.tif, attempting tiling...\n",
      "Generating URL ...\n",
      "An error occurred while downloading.\n",
      "Image.select: Band pattern 'Swir2' was applied to an Image with no bands. See https://developers.google.com/earth-engine/guides/debugging#no-bands\n",
      "Export failed: File D:\\Madagascar\\Data\\RiverMapping\\RiverMasks\\Betsiboka\\reach_7\\Raw\\Betsiboka_reach_7_1984_tile_0_DSWE_level_3.tif not found.\n",
      "Generating URL ...\n",
      "An error occurred while downloading.\n",
      "Image.select: Band pattern 'Nir' was applied to an Image with no bands. See https://developers.google.com/earth-engine/guides/debugging#no-bands\n",
      "Export failed: File D:\\Madagascar\\Data\\RiverMapping\\RiverMasks\\Betsiboka\\reach_7\\Raw\\Betsiboka_reach_7_1984_tile_1_DSWE_level_3.tif not found.\n",
      "Generating URL ...\n",
      "An error occurred while downloading.\n",
      "Image.select: Band pattern 'Swir2' was applied to an Image with no bands. See https://developers.google.com/earth-engine/guides/debugging#no-bands\n",
      "Export failed: File D:\\Madagascar\\Data\\RiverMapping\\RiverMasks\\Betsiboka\\reach_7\\Raw\\Betsiboka_reach_7_1984_tile_2_DSWE_level_3.tif not found.\n",
      "Generating URL ...\n",
      "An error occurred while downloading.\n",
      "Image.normalizedDifference: No band named 'Nir'. Available band names: [].\n",
      "Export failed: File D:\\Madagascar\\Data\\RiverMapping\\RiverMasks\\Betsiboka\\reach_7\\Raw\\Betsiboka_reach_7_1984_tile_3_DSWE_level_3.tif not found.\n",
      "No tiles found for stitching.\n",
      "Failed to export Betsiboka_reach_7_1984_DSWE_level_3.tif. Error: D:/Madagascar/Data/RiverMapping/RiverMasks/Betsiboka/reach_7/Raw/Betsiboka_reach_7_1984_DSWE_level_3.tif: No such file or directory\n",
      "Generating URL ...\n",
      "An error occurred while downloading.\n",
      "Image.select: Band pattern 'Nir' was applied to an Image with no bands. See https://developers.google.com/earth-engine/guides/debugging#no-bands\n",
      "Export failed: File D:\\Madagascar\\Data\\RiverMapping\\RiverMasks\\Betsiboka\\reach_7\\Raw\\Betsiboka_reach_7_1985_DSWE_level_3.tif not found.\n",
      "Export failed for Betsiboka_reach_7_1985_DSWE_level_3.tif, attempting tiling...\n",
      "Generating URL ...\n",
      "An error occurred while downloading.\n",
      "Image.select: Band pattern 'Nir' was applied to an Image with no bands. See https://developers.google.com/earth-engine/guides/debugging#no-bands\n",
      "Export failed: File D:\\Madagascar\\Data\\RiverMapping\\RiverMasks\\Betsiboka\\reach_7\\Raw\\Betsiboka_reach_7_1985_tile_0_DSWE_level_3.tif not found.\n",
      "Generating URL ...\n",
      "An error occurred while downloading.\n",
      "Image.normalizedDifference: No band named 'Nir'. Available band names: [].\n",
      "Export failed: File D:\\Madagascar\\Data\\RiverMapping\\RiverMasks\\Betsiboka\\reach_7\\Raw\\Betsiboka_reach_7_1985_tile_1_DSWE_level_3.tif not found.\n",
      "Generating URL ...\n",
      "An error occurred while downloading.\n",
      "Image.select: Band pattern 'Swir2' was applied to an Image with no bands. See https://developers.google.com/earth-engine/guides/debugging#no-bands\n",
      "Export failed: File D:\\Madagascar\\Data\\RiverMapping\\RiverMasks\\Betsiboka\\reach_7\\Raw\\Betsiboka_reach_7_1985_tile_2_DSWE_level_3.tif not found.\n",
      "Generating URL ...\n",
      "An error occurred while downloading.\n",
      "Image.select: Band pattern 'Swir2' was applied to an Image with no bands. See https://developers.google.com/earth-engine/guides/debugging#no-bands\n",
      "Export failed: File D:\\Madagascar\\Data\\RiverMapping\\RiverMasks\\Betsiboka\\reach_7\\Raw\\Betsiboka_reach_7_1985_tile_3_DSWE_level_3.tif not found.\n",
      "No tiles found for stitching.\n",
      "Failed to export Betsiboka_reach_7_1985_DSWE_level_3.tif. Error: D:/Madagascar/Data/RiverMapping/RiverMasks/Betsiboka/reach_7/Raw/Betsiboka_reach_7_1985_DSWE_level_3.tif: No such file or directory\n",
      "Generating URL ...\n",
      "An error occurred while downloading.\n",
      "Image.select: Band pattern 'Nir' was applied to an Image with no bands. See https://developers.google.com/earth-engine/guides/debugging#no-bands\n",
      "Export failed: File D:\\Madagascar\\Data\\RiverMapping\\RiverMasks\\Betsiboka\\reach_7\\Raw\\Betsiboka_reach_7_1986_DSWE_level_3.tif not found.\n",
      "Export failed for Betsiboka_reach_7_1986_DSWE_level_3.tif, attempting tiling...\n",
      "Generating URL ...\n",
      "An error occurred while downloading.\n",
      "Image.select: Band pattern 'Nir' was applied to an Image with no bands. See https://developers.google.com/earth-engine/guides/debugging#no-bands\n",
      "Export failed: File D:\\Madagascar\\Data\\RiverMapping\\RiverMasks\\Betsiboka\\reach_7\\Raw\\Betsiboka_reach_7_1986_tile_0_DSWE_level_3.tif not found.\n",
      "Generating URL ...\n",
      "An error occurred while downloading.\n",
      "Image.select: Band pattern 'Swir2' was applied to an Image with no bands. See https://developers.google.com/earth-engine/guides/debugging#no-bands\n",
      "Export failed: File D:\\Madagascar\\Data\\RiverMapping\\RiverMasks\\Betsiboka\\reach_7\\Raw\\Betsiboka_reach_7_1986_tile_1_DSWE_level_3.tif not found.\n",
      "Generating URL ...\n",
      "An error occurred while downloading.\n",
      "Image.select: Band pattern 'Nir' was applied to an Image with no bands. See https://developers.google.com/earth-engine/guides/debugging#no-bands\n",
      "Export failed: File D:\\Madagascar\\Data\\RiverMapping\\RiverMasks\\Betsiboka\\reach_7\\Raw\\Betsiboka_reach_7_1986_tile_2_DSWE_level_3.tif not found.\n",
      "Generating URL ...\n",
      "An error occurred while downloading.\n",
      "Image.select: Band pattern 'Swir2' was applied to an Image with no bands. See https://developers.google.com/earth-engine/guides/debugging#no-bands\n",
      "Export failed: File D:\\Madagascar\\Data\\RiverMapping\\RiverMasks\\Betsiboka\\reach_7\\Raw\\Betsiboka_reach_7_1986_tile_3_DSWE_level_3.tif not found.\n",
      "No tiles found for stitching.\n",
      "Failed to export Betsiboka_reach_7_1986_DSWE_level_3.tif. Error: D:/Madagascar/Data/RiverMapping/RiverMasks/Betsiboka/reach_7/Raw/Betsiboka_reach_7_1986_DSWE_level_3.tif: No such file or directory\n",
      "Generating URL ...\n",
      "An error occurred while downloading.\n",
      "Image.select: Band pattern 'Nir' was applied to an Image with no bands. See https://developers.google.com/earth-engine/guides/debugging#no-bands\n",
      "Export failed: File D:\\Madagascar\\Data\\RiverMapping\\RiverMasks\\Betsiboka\\reach_7\\Raw\\Betsiboka_reach_7_1987_DSWE_level_3.tif not found.\n",
      "Export failed for Betsiboka_reach_7_1987_DSWE_level_3.tif, attempting tiling...\n",
      "Generating URL ...\n",
      "An error occurred while downloading.\n",
      "Image.select: Band pattern 'Swir2' was applied to an Image with no bands. See https://developers.google.com/earth-engine/guides/debugging#no-bands\n",
      "Export failed: File D:\\Madagascar\\Data\\RiverMapping\\RiverMasks\\Betsiboka\\reach_7\\Raw\\Betsiboka_reach_7_1987_tile_0_DSWE_level_3.tif not found.\n",
      "Generating URL ...\n",
      "An error occurred while downloading.\n",
      "Image.select: Band pattern 'Nir' was applied to an Image with no bands. See https://developers.google.com/earth-engine/guides/debugging#no-bands\n",
      "Export failed: File D:\\Madagascar\\Data\\RiverMapping\\RiverMasks\\Betsiboka\\reach_7\\Raw\\Betsiboka_reach_7_1987_tile_1_DSWE_level_3.tif not found.\n",
      "Generating URL ...\n",
      "An error occurred while downloading.\n",
      "Image.select: Band pattern 'Nir' was applied to an Image with no bands. See https://developers.google.com/earth-engine/guides/debugging#no-bands\n",
      "Export failed: File D:\\Madagascar\\Data\\RiverMapping\\RiverMasks\\Betsiboka\\reach_7\\Raw\\Betsiboka_reach_7_1987_tile_2_DSWE_level_3.tif not found.\n",
      "Generating URL ...\n",
      "An error occurred while downloading.\n",
      "Image.select: Band pattern 'Swir2' was applied to an Image with no bands. See https://developers.google.com/earth-engine/guides/debugging#no-bands\n",
      "Export failed: File D:\\Madagascar\\Data\\RiverMapping\\RiverMasks\\Betsiboka\\reach_7\\Raw\\Betsiboka_reach_7_1987_tile_3_DSWE_level_3.tif not found.\n",
      "No tiles found for stitching.\n",
      "Failed to export Betsiboka_reach_7_1987_DSWE_level_3.tif. Error: D:/Madagascar/Data/RiverMapping/RiverMasks/Betsiboka/reach_7/Raw/Betsiboka_reach_7_1987_DSWE_level_3.tif: No such file or directory\n",
      "Generating URL ...\n",
      "An error occurred while downloading.\n",
      "Image.select: Band pattern 'Nir' was applied to an Image with no bands. See https://developers.google.com/earth-engine/guides/debugging#no-bands\n"
     ]
    },
    {
     "name": "stdout",
     "output_type": "stream",
     "text": [
      "Export failed: File D:\\Madagascar\\Data\\RiverMapping\\RiverMasks\\Betsiboka\\reach_7\\Raw\\Betsiboka_reach_7_1988_DSWE_level_3.tif not found.\n",
      "Export failed for Betsiboka_reach_7_1988_DSWE_level_3.tif, attempting tiling...\n",
      "Generating URL ...\n",
      "An error occurred while downloading.\n",
      "Image.select: Band pattern 'Nir' was applied to an Image with no bands. See https://developers.google.com/earth-engine/guides/debugging#no-bands\n",
      "Export failed: File D:\\Madagascar\\Data\\RiverMapping\\RiverMasks\\Betsiboka\\reach_7\\Raw\\Betsiboka_reach_7_1988_tile_0_DSWE_level_3.tif not found.\n",
      "Generating URL ...\n",
      "An error occurred while downloading.\n",
      "Image.select: Band pattern 'Nir' was applied to an Image with no bands. See https://developers.google.com/earth-engine/guides/debugging#no-bands\n",
      "Export failed: File D:\\Madagascar\\Data\\RiverMapping\\RiverMasks\\Betsiboka\\reach_7\\Raw\\Betsiboka_reach_7_1988_tile_1_DSWE_level_3.tif not found.\n",
      "Generating URL ...\n",
      "An error occurred while downloading.\n",
      "Image.normalizedDifference: No band named 'Nir'. Available band names: [].\n",
      "Export failed: File D:\\Madagascar\\Data\\RiverMapping\\RiverMasks\\Betsiboka\\reach_7\\Raw\\Betsiboka_reach_7_1988_tile_2_DSWE_level_3.tif not found.\n",
      "Generating URL ...\n",
      "An error occurred while downloading.\n",
      "Image.normalizedDifference: No band named 'Nir'. Available band names: [].\n",
      "Export failed: File D:\\Madagascar\\Data\\RiverMapping\\RiverMasks\\Betsiboka\\reach_7\\Raw\\Betsiboka_reach_7_1988_tile_3_DSWE_level_3.tif not found.\n",
      "No tiles found for stitching.\n",
      "Failed to export Betsiboka_reach_7_1988_DSWE_level_3.tif. Error: D:/Madagascar/Data/RiverMapping/RiverMasks/Betsiboka/reach_7/Raw/Betsiboka_reach_7_1988_DSWE_level_3.tif: No such file or directory\n",
      "Generating URL ...\n",
      "Downloading data from https://earthengine.googleapis.com/v1/projects/earthengine-legacy/thumbnails/942b0abc1d20cba72a5e4a0612b06041-6acf8518d111cecd384358050252841d:getPixels\n",
      "Please wait ...\n",
      "Data downloaded to D:\\Madagascar\\Data\\RiverMapping\\RiverMasks\\Betsiboka\\reach_7\\Raw\\Betsiboka_reach_7_1989_DSWE_level_3.tif\n",
      "RAW: Successfully exported D:\\Madagascar\\Data\\RiverMapping\\RiverMasks\\Betsiboka\\reach_7\\Raw\\Betsiboka_reach_7_1989_DSWE_level_3.tif.\n"
     ]
    },
    {
     "name": "stderr",
     "output_type": "stream",
     "text": [
      "C:\\Users\\huckr\\AppData\\Local\\Temp\\ipykernel_22020\\949864737.py:469: UserWarning: Geometry is in a geographic CRS. Results from 'centroid' are likely incorrect. Use 'GeoSeries.to_crs()' to re-project geometries to a projected CRS before this operation.\n",
      "\n",
      "  centroid = grwl_reach_dissolved.geometry.centroid.iloc[0]\n"
     ]
    },
    {
     "name": "stdout",
     "output_type": "stream",
     "text": [
      "Raster successfully saved with compression to: D:\\Madagascar\\Data\\RiverMapping\\RiverMasks\\Betsiboka\\reach_7\\Processed\\Betsiboka_reach_7_1989_DSWE_level_3.tif\n",
      "Processed raster saved to: D:\\Madagascar\\Data\\RiverMapping\\RiverMasks\\Betsiboka\\reach_7\\Processed\\Betsiboka_reach_7_1989_DSWE_level_3.tif\n",
      "PROCESSED: Exported Betsiboka_reach_7_1989_DSWE_level_3.tif to D:\\Madagascar\\Data\\RiverMapping\\RiverMasks\\Betsiboka\\reach_7\\Processed.\n",
      "Generating URL ...\n",
      "Downloading data from https://earthengine.googleapis.com/v1/projects/earthengine-legacy/thumbnails/843da65117ea4e306b11789b44d99576-559dc5c2c22a3708f6681ef7e948ac88:getPixels\n",
      "Please wait ...\n",
      "Data downloaded to D:\\Madagascar\\Data\\RiverMapping\\RiverMasks\\Betsiboka\\reach_7\\Raw\\Betsiboka_reach_7_1990_DSWE_level_3.tif\n",
      "RAW: Successfully exported D:\\Madagascar\\Data\\RiverMapping\\RiverMasks\\Betsiboka\\reach_7\\Raw\\Betsiboka_reach_7_1990_DSWE_level_3.tif.\n"
     ]
    },
    {
     "name": "stderr",
     "output_type": "stream",
     "text": [
      "C:\\Users\\huckr\\AppData\\Local\\Temp\\ipykernel_22020\\949864737.py:469: UserWarning: Geometry is in a geographic CRS. Results from 'centroid' are likely incorrect. Use 'GeoSeries.to_crs()' to re-project geometries to a projected CRS before this operation.\n",
      "\n",
      "  centroid = grwl_reach_dissolved.geometry.centroid.iloc[0]\n"
     ]
    },
    {
     "name": "stdout",
     "output_type": "stream",
     "text": [
      "Raster successfully saved with compression to: D:\\Madagascar\\Data\\RiverMapping\\RiverMasks\\Betsiboka\\reach_7\\Processed\\Betsiboka_reach_7_1990_DSWE_level_3.tif\n",
      "Processed raster saved to: D:\\Madagascar\\Data\\RiverMapping\\RiverMasks\\Betsiboka\\reach_7\\Processed\\Betsiboka_reach_7_1990_DSWE_level_3.tif\n",
      "PROCESSED: Exported Betsiboka_reach_7_1990_DSWE_level_3.tif to D:\\Madagascar\\Data\\RiverMapping\\RiverMasks\\Betsiboka\\reach_7\\Processed.\n",
      "Generating URL ...\n",
      "Downloading data from https://earthengine.googleapis.com/v1/projects/earthengine-legacy/thumbnails/c434e708b59fce47a36468f4410f2602-10513dd37f9054fea5646d274c326d2d:getPixels\n",
      "Please wait ...\n",
      "Data downloaded to D:\\Madagascar\\Data\\RiverMapping\\RiverMasks\\Betsiboka\\reach_7\\Raw\\Betsiboka_reach_7_1991_DSWE_level_3.tif\n",
      "RAW: Successfully exported D:\\Madagascar\\Data\\RiverMapping\\RiverMasks\\Betsiboka\\reach_7\\Raw\\Betsiboka_reach_7_1991_DSWE_level_3.tif.\n"
     ]
    },
    {
     "name": "stderr",
     "output_type": "stream",
     "text": [
      "C:\\Users\\huckr\\AppData\\Local\\Temp\\ipykernel_22020\\949864737.py:469: UserWarning: Geometry is in a geographic CRS. Results from 'centroid' are likely incorrect. Use 'GeoSeries.to_crs()' to re-project geometries to a projected CRS before this operation.\n",
      "\n",
      "  centroid = grwl_reach_dissolved.geometry.centroid.iloc[0]\n"
     ]
    },
    {
     "name": "stdout",
     "output_type": "stream",
     "text": [
      "Raster successfully saved with compression to: D:\\Madagascar\\Data\\RiverMapping\\RiverMasks\\Betsiboka\\reach_7\\Processed\\Betsiboka_reach_7_1991_DSWE_level_3.tif\n",
      "Processed raster saved to: D:\\Madagascar\\Data\\RiverMapping\\RiverMasks\\Betsiboka\\reach_7\\Processed\\Betsiboka_reach_7_1991_DSWE_level_3.tif\n",
      "PROCESSED: Exported Betsiboka_reach_7_1991_DSWE_level_3.tif to D:\\Madagascar\\Data\\RiverMapping\\RiverMasks\\Betsiboka\\reach_7\\Processed.\n",
      "Generating URL ...\n",
      "Downloading data from https://earthengine.googleapis.com/v1/projects/earthengine-legacy/thumbnails/c5e863ff8730ba3d445ca089a8e8f159-a8cf8a1dd6aec0ff38e18b83fb79c1f0:getPixels\n",
      "Please wait ...\n",
      "Data downloaded to D:\\Madagascar\\Data\\RiverMapping\\RiverMasks\\Betsiboka\\reach_7\\Raw\\Betsiboka_reach_7_1992_DSWE_level_3.tif\n",
      "RAW: Successfully exported D:\\Madagascar\\Data\\RiverMapping\\RiverMasks\\Betsiboka\\reach_7\\Raw\\Betsiboka_reach_7_1992_DSWE_level_3.tif.\n"
     ]
    },
    {
     "name": "stderr",
     "output_type": "stream",
     "text": [
      "C:\\Users\\huckr\\AppData\\Local\\Temp\\ipykernel_22020\\949864737.py:469: UserWarning: Geometry is in a geographic CRS. Results from 'centroid' are likely incorrect. Use 'GeoSeries.to_crs()' to re-project geometries to a projected CRS before this operation.\n",
      "\n",
      "  centroid = grwl_reach_dissolved.geometry.centroid.iloc[0]\n"
     ]
    },
    {
     "name": "stdout",
     "output_type": "stream",
     "text": [
      "Raster successfully saved with compression to: D:\\Madagascar\\Data\\RiverMapping\\RiverMasks\\Betsiboka\\reach_7\\Processed\\Betsiboka_reach_7_1992_DSWE_level_3.tif\n",
      "Processed raster saved to: D:\\Madagascar\\Data\\RiverMapping\\RiverMasks\\Betsiboka\\reach_7\\Processed\\Betsiboka_reach_7_1992_DSWE_level_3.tif\n",
      "PROCESSED: Exported Betsiboka_reach_7_1992_DSWE_level_3.tif to D:\\Madagascar\\Data\\RiverMapping\\RiverMasks\\Betsiboka\\reach_7\\Processed.\n",
      "Generating URL ...\n",
      "Downloading data from https://earthengine.googleapis.com/v1/projects/earthengine-legacy/thumbnails/baa1dcb276459854a4d35a148af31ba5-c2636eee0a0c3562fb28ef1da2077bd6:getPixels\n",
      "Please wait ...\n",
      "Data downloaded to D:\\Madagascar\\Data\\RiverMapping\\RiverMasks\\Betsiboka\\reach_7\\Raw\\Betsiboka_reach_7_1993_DSWE_level_3.tif\n",
      "RAW: Successfully exported D:\\Madagascar\\Data\\RiverMapping\\RiverMasks\\Betsiboka\\reach_7\\Raw\\Betsiboka_reach_7_1993_DSWE_level_3.tif.\n"
     ]
    },
    {
     "name": "stderr",
     "output_type": "stream",
     "text": [
      "C:\\Users\\huckr\\AppData\\Local\\Temp\\ipykernel_22020\\949864737.py:469: UserWarning: Geometry is in a geographic CRS. Results from 'centroid' are likely incorrect. Use 'GeoSeries.to_crs()' to re-project geometries to a projected CRS before this operation.\n",
      "\n",
      "  centroid = grwl_reach_dissolved.geometry.centroid.iloc[0]\n"
     ]
    },
    {
     "name": "stdout",
     "output_type": "stream",
     "text": [
      "Raster successfully saved with compression to: D:\\Madagascar\\Data\\RiverMapping\\RiverMasks\\Betsiboka\\reach_7\\Processed\\Betsiboka_reach_7_1993_DSWE_level_3.tif\n",
      "Processed raster saved to: D:\\Madagascar\\Data\\RiverMapping\\RiverMasks\\Betsiboka\\reach_7\\Processed\\Betsiboka_reach_7_1993_DSWE_level_3.tif\n",
      "PROCESSED: Exported Betsiboka_reach_7_1993_DSWE_level_3.tif to D:\\Madagascar\\Data\\RiverMapping\\RiverMasks\\Betsiboka\\reach_7\\Processed.\n",
      "Generating URL ...\n",
      "Downloading data from https://earthengine.googleapis.com/v1/projects/earthengine-legacy/thumbnails/7467599124face32993e4816caeb1c85-1e0be73aa8b59d6da50a4dc58b72bd40:getPixels\n",
      "Please wait ...\n",
      "Data downloaded to D:\\Madagascar\\Data\\RiverMapping\\RiverMasks\\Betsiboka\\reach_7\\Raw\\Betsiboka_reach_7_1994_DSWE_level_3.tif\n",
      "RAW: Successfully exported D:\\Madagascar\\Data\\RiverMapping\\RiverMasks\\Betsiboka\\reach_7\\Raw\\Betsiboka_reach_7_1994_DSWE_level_3.tif.\n"
     ]
    },
    {
     "name": "stderr",
     "output_type": "stream",
     "text": [
      "C:\\Users\\huckr\\AppData\\Local\\Temp\\ipykernel_22020\\949864737.py:469: UserWarning: Geometry is in a geographic CRS. Results from 'centroid' are likely incorrect. Use 'GeoSeries.to_crs()' to re-project geometries to a projected CRS before this operation.\n",
      "\n",
      "  centroid = grwl_reach_dissolved.geometry.centroid.iloc[0]\n"
     ]
    },
    {
     "name": "stdout",
     "output_type": "stream",
     "text": [
      "Raster successfully saved with compression to: D:\\Madagascar\\Data\\RiverMapping\\RiverMasks\\Betsiboka\\reach_7\\Processed\\Betsiboka_reach_7_1994_DSWE_level_3.tif\n",
      "Processed raster saved to: D:\\Madagascar\\Data\\RiverMapping\\RiverMasks\\Betsiboka\\reach_7\\Processed\\Betsiboka_reach_7_1994_DSWE_level_3.tif\n",
      "PROCESSED: Exported Betsiboka_reach_7_1994_DSWE_level_3.tif to D:\\Madagascar\\Data\\RiverMapping\\RiverMasks\\Betsiboka\\reach_7\\Processed.\n",
      "Generating URL ...\n",
      "Downloading data from https://earthengine.googleapis.com/v1/projects/earthengine-legacy/thumbnails/b7eb0bc9b77a474307408d62c84f1903-2b9fbecf4570961c7fc62e0bbc16fd27:getPixels\n",
      "Please wait ...\n",
      "Data downloaded to D:\\Madagascar\\Data\\RiverMapping\\RiverMasks\\Betsiboka\\reach_7\\Raw\\Betsiboka_reach_7_1995_DSWE_level_3.tif\n",
      "RAW: Successfully exported D:\\Madagascar\\Data\\RiverMapping\\RiverMasks\\Betsiboka\\reach_7\\Raw\\Betsiboka_reach_7_1995_DSWE_level_3.tif.\n"
     ]
    },
    {
     "name": "stderr",
     "output_type": "stream",
     "text": [
      "C:\\Users\\huckr\\AppData\\Local\\Temp\\ipykernel_22020\\949864737.py:469: UserWarning: Geometry is in a geographic CRS. Results from 'centroid' are likely incorrect. Use 'GeoSeries.to_crs()' to re-project geometries to a projected CRS before this operation.\n",
      "\n",
      "  centroid = grwl_reach_dissolved.geometry.centroid.iloc[0]\n"
     ]
    },
    {
     "name": "stdout",
     "output_type": "stream",
     "text": [
      "Raster successfully saved with compression to: D:\\Madagascar\\Data\\RiverMapping\\RiverMasks\\Betsiboka\\reach_7\\Processed\\Betsiboka_reach_7_1995_DSWE_level_3.tif\n",
      "Processed raster saved to: D:\\Madagascar\\Data\\RiverMapping\\RiverMasks\\Betsiboka\\reach_7\\Processed\\Betsiboka_reach_7_1995_DSWE_level_3.tif\n",
      "PROCESSED: Exported Betsiboka_reach_7_1995_DSWE_level_3.tif to D:\\Madagascar\\Data\\RiverMapping\\RiverMasks\\Betsiboka\\reach_7\\Processed.\n",
      "Generating URL ...\n",
      "Downloading data from https://earthengine.googleapis.com/v1/projects/earthengine-legacy/thumbnails/ecd42ed29f3657a2190ef62f8b16f174-00d8a5f4f3c57ca30e2dcc313ef48c4a:getPixels\n",
      "Please wait ...\n",
      "Data downloaded to D:\\Madagascar\\Data\\RiverMapping\\RiverMasks\\Betsiboka\\reach_7\\Raw\\Betsiboka_reach_7_1996_DSWE_level_3.tif\n",
      "RAW: Successfully exported D:\\Madagascar\\Data\\RiverMapping\\RiverMasks\\Betsiboka\\reach_7\\Raw\\Betsiboka_reach_7_1996_DSWE_level_3.tif.\n"
     ]
    },
    {
     "name": "stderr",
     "output_type": "stream",
     "text": [
      "C:\\Users\\huckr\\AppData\\Local\\Temp\\ipykernel_22020\\949864737.py:469: UserWarning: Geometry is in a geographic CRS. Results from 'centroid' are likely incorrect. Use 'GeoSeries.to_crs()' to re-project geometries to a projected CRS before this operation.\n",
      "\n",
      "  centroid = grwl_reach_dissolved.geometry.centroid.iloc[0]\n"
     ]
    },
    {
     "name": "stdout",
     "output_type": "stream",
     "text": [
      "Raster successfully saved with compression to: D:\\Madagascar\\Data\\RiverMapping\\RiverMasks\\Betsiboka\\reach_7\\Processed\\Betsiboka_reach_7_1996_DSWE_level_3.tif\n",
      "Processed raster saved to: D:\\Madagascar\\Data\\RiverMapping\\RiverMasks\\Betsiboka\\reach_7\\Processed\\Betsiboka_reach_7_1996_DSWE_level_3.tif\n",
      "PROCESSED: Exported Betsiboka_reach_7_1996_DSWE_level_3.tif to D:\\Madagascar\\Data\\RiverMapping\\RiverMasks\\Betsiboka\\reach_7\\Processed.\n",
      "Generating URL ...\n",
      "Downloading data from https://earthengine.googleapis.com/v1/projects/earthengine-legacy/thumbnails/961f7a36b02642831dafa5176a7a340d-69f4aecbe79087a60018caa7ebee8593:getPixels\n",
      "Please wait ...\n",
      "Data downloaded to D:\\Madagascar\\Data\\RiverMapping\\RiverMasks\\Betsiboka\\reach_7\\Raw\\Betsiboka_reach_7_1997_DSWE_level_3.tif\n",
      "RAW: Successfully exported D:\\Madagascar\\Data\\RiverMapping\\RiverMasks\\Betsiboka\\reach_7\\Raw\\Betsiboka_reach_7_1997_DSWE_level_3.tif.\n"
     ]
    },
    {
     "name": "stderr",
     "output_type": "stream",
     "text": [
      "C:\\Users\\huckr\\AppData\\Local\\Temp\\ipykernel_22020\\949864737.py:469: UserWarning: Geometry is in a geographic CRS. Results from 'centroid' are likely incorrect. Use 'GeoSeries.to_crs()' to re-project geometries to a projected CRS before this operation.\n",
      "\n",
      "  centroid = grwl_reach_dissolved.geometry.centroid.iloc[0]\n"
     ]
    },
    {
     "name": "stdout",
     "output_type": "stream",
     "text": [
      "Raster successfully saved with compression to: D:\\Madagascar\\Data\\RiverMapping\\RiverMasks\\Betsiboka\\reach_7\\Processed\\Betsiboka_reach_7_1997_DSWE_level_3.tif\n",
      "Processed raster saved to: D:\\Madagascar\\Data\\RiverMapping\\RiverMasks\\Betsiboka\\reach_7\\Processed\\Betsiboka_reach_7_1997_DSWE_level_3.tif\n",
      "PROCESSED: Exported Betsiboka_reach_7_1997_DSWE_level_3.tif to D:\\Madagascar\\Data\\RiverMapping\\RiverMasks\\Betsiboka\\reach_7\\Processed.\n",
      "Generating URL ...\n",
      "Downloading data from https://earthengine.googleapis.com/v1/projects/earthengine-legacy/thumbnails/fc0b0ac7566b9790b08b1b9bd0135fc9-b0141c655474168834980399a8baa37c:getPixels\n",
      "Please wait ...\n",
      "Data downloaded to D:\\Madagascar\\Data\\RiverMapping\\RiverMasks\\Betsiboka\\reach_7\\Raw\\Betsiboka_reach_7_1998_DSWE_level_3.tif\n",
      "RAW: Successfully exported D:\\Madagascar\\Data\\RiverMapping\\RiverMasks\\Betsiboka\\reach_7\\Raw\\Betsiboka_reach_7_1998_DSWE_level_3.tif.\n"
     ]
    },
    {
     "name": "stderr",
     "output_type": "stream",
     "text": [
      "C:\\Users\\huckr\\AppData\\Local\\Temp\\ipykernel_22020\\949864737.py:469: UserWarning: Geometry is in a geographic CRS. Results from 'centroid' are likely incorrect. Use 'GeoSeries.to_crs()' to re-project geometries to a projected CRS before this operation.\n",
      "\n",
      "  centroid = grwl_reach_dissolved.geometry.centroid.iloc[0]\n"
     ]
    },
    {
     "name": "stdout",
     "output_type": "stream",
     "text": [
      "Raster successfully saved with compression to: D:\\Madagascar\\Data\\RiverMapping\\RiverMasks\\Betsiboka\\reach_7\\Processed\\Betsiboka_reach_7_1998_DSWE_level_3.tif\n",
      "Processed raster saved to: D:\\Madagascar\\Data\\RiverMapping\\RiverMasks\\Betsiboka\\reach_7\\Processed\\Betsiboka_reach_7_1998_DSWE_level_3.tif\n",
      "PROCESSED: Exported Betsiboka_reach_7_1998_DSWE_level_3.tif to D:\\Madagascar\\Data\\RiverMapping\\RiverMasks\\Betsiboka\\reach_7\\Processed.\n",
      "Generating URL ...\n",
      "Downloading data from https://earthengine.googleapis.com/v1/projects/earthengine-legacy/thumbnails/23494e4a4a3b4e2462061e3c3c9866b3-bfaf2267e718fa5fa169b4c5c5cc1801:getPixels\n",
      "Please wait ...\n",
      "Data downloaded to D:\\Madagascar\\Data\\RiverMapping\\RiverMasks\\Betsiboka\\reach_7\\Raw\\Betsiboka_reach_7_1999_DSWE_level_3.tif\n",
      "RAW: Successfully exported D:\\Madagascar\\Data\\RiverMapping\\RiverMasks\\Betsiboka\\reach_7\\Raw\\Betsiboka_reach_7_1999_DSWE_level_3.tif.\n"
     ]
    },
    {
     "name": "stderr",
     "output_type": "stream",
     "text": [
      "C:\\Users\\huckr\\AppData\\Local\\Temp\\ipykernel_22020\\949864737.py:469: UserWarning: Geometry is in a geographic CRS. Results from 'centroid' are likely incorrect. Use 'GeoSeries.to_crs()' to re-project geometries to a projected CRS before this operation.\n",
      "\n",
      "  centroid = grwl_reach_dissolved.geometry.centroid.iloc[0]\n"
     ]
    },
    {
     "name": "stdout",
     "output_type": "stream",
     "text": [
      "Raster successfully saved with compression to: D:\\Madagascar\\Data\\RiverMapping\\RiverMasks\\Betsiboka\\reach_7\\Processed\\Betsiboka_reach_7_1999_DSWE_level_3.tif\n",
      "Processed raster saved to: D:\\Madagascar\\Data\\RiverMapping\\RiverMasks\\Betsiboka\\reach_7\\Processed\\Betsiboka_reach_7_1999_DSWE_level_3.tif\n",
      "PROCESSED: Exported Betsiboka_reach_7_1999_DSWE_level_3.tif to D:\\Madagascar\\Data\\RiverMapping\\RiverMasks\\Betsiboka\\reach_7\\Processed.\n",
      "Generating URL ...\n",
      "Downloading data from https://earthengine.googleapis.com/v1/projects/earthengine-legacy/thumbnails/e5b0d367ad6c85942273474311870941-7ef8efe9866b145f2bbef711057a9fca:getPixels\n",
      "Please wait ...\n",
      "Data downloaded to D:\\Madagascar\\Data\\RiverMapping\\RiverMasks\\Betsiboka\\reach_7\\Raw\\Betsiboka_reach_7_2000_DSWE_level_3.tif\n",
      "RAW: Successfully exported D:\\Madagascar\\Data\\RiverMapping\\RiverMasks\\Betsiboka\\reach_7\\Raw\\Betsiboka_reach_7_2000_DSWE_level_3.tif.\n"
     ]
    },
    {
     "name": "stderr",
     "output_type": "stream",
     "text": [
      "C:\\Users\\huckr\\AppData\\Local\\Temp\\ipykernel_22020\\949864737.py:469: UserWarning: Geometry is in a geographic CRS. Results from 'centroid' are likely incorrect. Use 'GeoSeries.to_crs()' to re-project geometries to a projected CRS before this operation.\n",
      "\n",
      "  centroid = grwl_reach_dissolved.geometry.centroid.iloc[0]\n"
     ]
    },
    {
     "name": "stdout",
     "output_type": "stream",
     "text": [
      "Raster successfully saved with compression to: D:\\Madagascar\\Data\\RiverMapping\\RiverMasks\\Betsiboka\\reach_7\\Processed\\Betsiboka_reach_7_2000_DSWE_level_3.tif\n",
      "Processed raster saved to: D:\\Madagascar\\Data\\RiverMapping\\RiverMasks\\Betsiboka\\reach_7\\Processed\\Betsiboka_reach_7_2000_DSWE_level_3.tif\n",
      "PROCESSED: Exported Betsiboka_reach_7_2000_DSWE_level_3.tif to D:\\Madagascar\\Data\\RiverMapping\\RiverMasks\\Betsiboka\\reach_7\\Processed.\n",
      "Generating URL ...\n",
      "Downloading data from https://earthengine.googleapis.com/v1/projects/earthengine-legacy/thumbnails/7cc87659f269c1ee5cda17acb898b913-7592808cf0c65b5600b95d4b9c2bff96:getPixels\n",
      "Please wait ...\n",
      "Data downloaded to D:\\Madagascar\\Data\\RiverMapping\\RiverMasks\\Betsiboka\\reach_7\\Raw\\Betsiboka_reach_7_2001_DSWE_level_3.tif\n",
      "RAW: Successfully exported D:\\Madagascar\\Data\\RiverMapping\\RiverMasks\\Betsiboka\\reach_7\\Raw\\Betsiboka_reach_7_2001_DSWE_level_3.tif.\n"
     ]
    },
    {
     "name": "stderr",
     "output_type": "stream",
     "text": [
      "C:\\Users\\huckr\\AppData\\Local\\Temp\\ipykernel_22020\\949864737.py:469: UserWarning: Geometry is in a geographic CRS. Results from 'centroid' are likely incorrect. Use 'GeoSeries.to_crs()' to re-project geometries to a projected CRS before this operation.\n",
      "\n",
      "  centroid = grwl_reach_dissolved.geometry.centroid.iloc[0]\n"
     ]
    },
    {
     "name": "stdout",
     "output_type": "stream",
     "text": [
      "Raster successfully saved with compression to: D:\\Madagascar\\Data\\RiverMapping\\RiverMasks\\Betsiboka\\reach_7\\Processed\\Betsiboka_reach_7_2001_DSWE_level_3.tif\n",
      "Processed raster saved to: D:\\Madagascar\\Data\\RiverMapping\\RiverMasks\\Betsiboka\\reach_7\\Processed\\Betsiboka_reach_7_2001_DSWE_level_3.tif\n",
      "PROCESSED: Exported Betsiboka_reach_7_2001_DSWE_level_3.tif to D:\\Madagascar\\Data\\RiverMapping\\RiverMasks\\Betsiboka\\reach_7\\Processed.\n",
      "Generating URL ...\n",
      "Downloading data from https://earthengine.googleapis.com/v1/projects/earthengine-legacy/thumbnails/6cf616fe09a12ab47728743d4a753d3b-07ed7342cb95c21f8df72d49a820e54f:getPixels\n",
      "Please wait ...\n",
      "Data downloaded to D:\\Madagascar\\Data\\RiverMapping\\RiverMasks\\Betsiboka\\reach_7\\Raw\\Betsiboka_reach_7_2002_DSWE_level_3.tif\n",
      "RAW: Successfully exported D:\\Madagascar\\Data\\RiverMapping\\RiverMasks\\Betsiboka\\reach_7\\Raw\\Betsiboka_reach_7_2002_DSWE_level_3.tif.\n"
     ]
    },
    {
     "name": "stderr",
     "output_type": "stream",
     "text": [
      "C:\\Users\\huckr\\AppData\\Local\\Temp\\ipykernel_22020\\949864737.py:469: UserWarning: Geometry is in a geographic CRS. Results from 'centroid' are likely incorrect. Use 'GeoSeries.to_crs()' to re-project geometries to a projected CRS before this operation.\n",
      "\n",
      "  centroid = grwl_reach_dissolved.geometry.centroid.iloc[0]\n"
     ]
    },
    {
     "name": "stdout",
     "output_type": "stream",
     "text": [
      "Raster successfully saved with compression to: D:\\Madagascar\\Data\\RiverMapping\\RiverMasks\\Betsiboka\\reach_7\\Processed\\Betsiboka_reach_7_2002_DSWE_level_3.tif\n",
      "Processed raster saved to: D:\\Madagascar\\Data\\RiverMapping\\RiverMasks\\Betsiboka\\reach_7\\Processed\\Betsiboka_reach_7_2002_DSWE_level_3.tif\n",
      "PROCESSED: Exported Betsiboka_reach_7_2002_DSWE_level_3.tif to D:\\Madagascar\\Data\\RiverMapping\\RiverMasks\\Betsiboka\\reach_7\\Processed.\n",
      "Generating URL ...\n",
      "Downloading data from https://earthengine.googleapis.com/v1/projects/earthengine-legacy/thumbnails/db7da74469a9029311c24c62aa524869-bcb6d17e41947c71eae6afc21e8c6a28:getPixels\n",
      "Please wait ...\n",
      "Data downloaded to D:\\Madagascar\\Data\\RiverMapping\\RiverMasks\\Betsiboka\\reach_7\\Raw\\Betsiboka_reach_7_2003_DSWE_level_3.tif\n",
      "RAW: Successfully exported D:\\Madagascar\\Data\\RiverMapping\\RiverMasks\\Betsiboka\\reach_7\\Raw\\Betsiboka_reach_7_2003_DSWE_level_3.tif.\n"
     ]
    },
    {
     "name": "stderr",
     "output_type": "stream",
     "text": [
      "C:\\Users\\huckr\\AppData\\Local\\Temp\\ipykernel_22020\\949864737.py:469: UserWarning: Geometry is in a geographic CRS. Results from 'centroid' are likely incorrect. Use 'GeoSeries.to_crs()' to re-project geometries to a projected CRS before this operation.\n",
      "\n",
      "  centroid = grwl_reach_dissolved.geometry.centroid.iloc[0]\n"
     ]
    },
    {
     "name": "stdout",
     "output_type": "stream",
     "text": [
      "Raster successfully saved with compression to: D:\\Madagascar\\Data\\RiverMapping\\RiverMasks\\Betsiboka\\reach_7\\Processed\\Betsiboka_reach_7_2003_DSWE_level_3.tif\n",
      "Processed raster saved to: D:\\Madagascar\\Data\\RiverMapping\\RiverMasks\\Betsiboka\\reach_7\\Processed\\Betsiboka_reach_7_2003_DSWE_level_3.tif\n",
      "PROCESSED: Exported Betsiboka_reach_7_2003_DSWE_level_3.tif to D:\\Madagascar\\Data\\RiverMapping\\RiverMasks\\Betsiboka\\reach_7\\Processed.\n",
      "Generating URL ...\n",
      "Downloading data from https://earthengine.googleapis.com/v1/projects/earthengine-legacy/thumbnails/d7a587891dee7b6da2343892bfa623ed-c561973e0efbad79149e6094b4333a16:getPixels\n",
      "Please wait ...\n",
      "Data downloaded to D:\\Madagascar\\Data\\RiverMapping\\RiverMasks\\Betsiboka\\reach_7\\Raw\\Betsiboka_reach_7_2004_DSWE_level_3.tif\n",
      "RAW: Successfully exported D:\\Madagascar\\Data\\RiverMapping\\RiverMasks\\Betsiboka\\reach_7\\Raw\\Betsiboka_reach_7_2004_DSWE_level_3.tif.\n"
     ]
    },
    {
     "name": "stderr",
     "output_type": "stream",
     "text": [
      "C:\\Users\\huckr\\AppData\\Local\\Temp\\ipykernel_22020\\949864737.py:469: UserWarning: Geometry is in a geographic CRS. Results from 'centroid' are likely incorrect. Use 'GeoSeries.to_crs()' to re-project geometries to a projected CRS before this operation.\n",
      "\n",
      "  centroid = grwl_reach_dissolved.geometry.centroid.iloc[0]\n"
     ]
    },
    {
     "name": "stdout",
     "output_type": "stream",
     "text": [
      "Raster successfully saved with compression to: D:\\Madagascar\\Data\\RiverMapping\\RiverMasks\\Betsiboka\\reach_7\\Processed\\Betsiboka_reach_7_2004_DSWE_level_3.tif\n",
      "Processed raster saved to: D:\\Madagascar\\Data\\RiverMapping\\RiverMasks\\Betsiboka\\reach_7\\Processed\\Betsiboka_reach_7_2004_DSWE_level_3.tif\n",
      "PROCESSED: Exported Betsiboka_reach_7_2004_DSWE_level_3.tif to D:\\Madagascar\\Data\\RiverMapping\\RiverMasks\\Betsiboka\\reach_7\\Processed.\n",
      "Generating URL ...\n",
      "Downloading data from https://earthengine.googleapis.com/v1/projects/earthengine-legacy/thumbnails/3e32b111c0ba92bd41a11b6bc76378a8-2d9663b7e19b2503252cbbcf8e4303ce:getPixels\n",
      "Please wait ...\n",
      "Data downloaded to D:\\Madagascar\\Data\\RiverMapping\\RiverMasks\\Betsiboka\\reach_7\\Raw\\Betsiboka_reach_7_2005_DSWE_level_3.tif\n",
      "RAW: Successfully exported D:\\Madagascar\\Data\\RiverMapping\\RiverMasks\\Betsiboka\\reach_7\\Raw\\Betsiboka_reach_7_2005_DSWE_level_3.tif.\n"
     ]
    },
    {
     "name": "stderr",
     "output_type": "stream",
     "text": [
      "C:\\Users\\huckr\\AppData\\Local\\Temp\\ipykernel_22020\\949864737.py:469: UserWarning: Geometry is in a geographic CRS. Results from 'centroid' are likely incorrect. Use 'GeoSeries.to_crs()' to re-project geometries to a projected CRS before this operation.\n",
      "\n",
      "  centroid = grwl_reach_dissolved.geometry.centroid.iloc[0]\n"
     ]
    },
    {
     "name": "stdout",
     "output_type": "stream",
     "text": [
      "Raster successfully saved with compression to: D:\\Madagascar\\Data\\RiverMapping\\RiverMasks\\Betsiboka\\reach_7\\Processed\\Betsiboka_reach_7_2005_DSWE_level_3.tif\n",
      "Processed raster saved to: D:\\Madagascar\\Data\\RiverMapping\\RiverMasks\\Betsiboka\\reach_7\\Processed\\Betsiboka_reach_7_2005_DSWE_level_3.tif\n",
      "PROCESSED: Exported Betsiboka_reach_7_2005_DSWE_level_3.tif to D:\\Madagascar\\Data\\RiverMapping\\RiverMasks\\Betsiboka\\reach_7\\Processed.\n",
      "Generating URL ...\n",
      "Downloading data from https://earthengine.googleapis.com/v1/projects/earthengine-legacy/thumbnails/ede780b74e89a8e17d10c8bd6643dc01-35540e33eeecfe3d829ebba3347290ed:getPixels\n",
      "Please wait ...\n",
      "Data downloaded to D:\\Madagascar\\Data\\RiverMapping\\RiverMasks\\Betsiboka\\reach_7\\Raw\\Betsiboka_reach_7_2006_DSWE_level_3.tif\n",
      "RAW: Successfully exported D:\\Madagascar\\Data\\RiverMapping\\RiverMasks\\Betsiboka\\reach_7\\Raw\\Betsiboka_reach_7_2006_DSWE_level_3.tif.\n"
     ]
    },
    {
     "name": "stderr",
     "output_type": "stream",
     "text": [
      "C:\\Users\\huckr\\AppData\\Local\\Temp\\ipykernel_22020\\949864737.py:469: UserWarning: Geometry is in a geographic CRS. Results from 'centroid' are likely incorrect. Use 'GeoSeries.to_crs()' to re-project geometries to a projected CRS before this operation.\n",
      "\n",
      "  centroid = grwl_reach_dissolved.geometry.centroid.iloc[0]\n"
     ]
    },
    {
     "name": "stdout",
     "output_type": "stream",
     "text": [
      "Raster successfully saved with compression to: D:\\Madagascar\\Data\\RiverMapping\\RiverMasks\\Betsiboka\\reach_7\\Processed\\Betsiboka_reach_7_2006_DSWE_level_3.tif\n",
      "Processed raster saved to: D:\\Madagascar\\Data\\RiverMapping\\RiverMasks\\Betsiboka\\reach_7\\Processed\\Betsiboka_reach_7_2006_DSWE_level_3.tif\n",
      "PROCESSED: Exported Betsiboka_reach_7_2006_DSWE_level_3.tif to D:\\Madagascar\\Data\\RiverMapping\\RiverMasks\\Betsiboka\\reach_7\\Processed.\n",
      "Generating URL ...\n",
      "Downloading data from https://earthengine.googleapis.com/v1/projects/earthengine-legacy/thumbnails/07013fa0960007c8a20aa24a99da141c-a44ef65f84c533d41a4b6cad582e66b9:getPixels\n",
      "Please wait ...\n",
      "Data downloaded to D:\\Madagascar\\Data\\RiverMapping\\RiverMasks\\Betsiboka\\reach_7\\Raw\\Betsiboka_reach_7_2007_DSWE_level_3.tif\n",
      "RAW: Successfully exported D:\\Madagascar\\Data\\RiverMapping\\RiverMasks\\Betsiboka\\reach_7\\Raw\\Betsiboka_reach_7_2007_DSWE_level_3.tif.\n"
     ]
    },
    {
     "name": "stderr",
     "output_type": "stream",
     "text": [
      "C:\\Users\\huckr\\AppData\\Local\\Temp\\ipykernel_22020\\949864737.py:469: UserWarning: Geometry is in a geographic CRS. Results from 'centroid' are likely incorrect. Use 'GeoSeries.to_crs()' to re-project geometries to a projected CRS before this operation.\n",
      "\n",
      "  centroid = grwl_reach_dissolved.geometry.centroid.iloc[0]\n"
     ]
    },
    {
     "name": "stdout",
     "output_type": "stream",
     "text": [
      "Raster successfully saved with compression to: D:\\Madagascar\\Data\\RiverMapping\\RiverMasks\\Betsiboka\\reach_7\\Processed\\Betsiboka_reach_7_2007_DSWE_level_3.tif\n",
      "Processed raster saved to: D:\\Madagascar\\Data\\RiverMapping\\RiverMasks\\Betsiboka\\reach_7\\Processed\\Betsiboka_reach_7_2007_DSWE_level_3.tif\n",
      "PROCESSED: Exported Betsiboka_reach_7_2007_DSWE_level_3.tif to D:\\Madagascar\\Data\\RiverMapping\\RiverMasks\\Betsiboka\\reach_7\\Processed.\n",
      "Generating URL ...\n",
      "Downloading data from https://earthengine.googleapis.com/v1/projects/earthengine-legacy/thumbnails/5a78dde951d7847d6fccf35416e8baa5-8e2fd6787d9faec2eeddcb7d4fa750ce:getPixels\n",
      "Please wait ...\n",
      "Data downloaded to D:\\Madagascar\\Data\\RiverMapping\\RiverMasks\\Betsiboka\\reach_7\\Raw\\Betsiboka_reach_7_2008_DSWE_level_3.tif\n",
      "RAW: Successfully exported D:\\Madagascar\\Data\\RiverMapping\\RiverMasks\\Betsiboka\\reach_7\\Raw\\Betsiboka_reach_7_2008_DSWE_level_3.tif.\n"
     ]
    },
    {
     "name": "stderr",
     "output_type": "stream",
     "text": [
      "C:\\Users\\huckr\\AppData\\Local\\Temp\\ipykernel_22020\\949864737.py:469: UserWarning: Geometry is in a geographic CRS. Results from 'centroid' are likely incorrect. Use 'GeoSeries.to_crs()' to re-project geometries to a projected CRS before this operation.\n",
      "\n",
      "  centroid = grwl_reach_dissolved.geometry.centroid.iloc[0]\n"
     ]
    },
    {
     "name": "stdout",
     "output_type": "stream",
     "text": [
      "Raster successfully saved with compression to: D:\\Madagascar\\Data\\RiverMapping\\RiverMasks\\Betsiboka\\reach_7\\Processed\\Betsiboka_reach_7_2008_DSWE_level_3.tif\n",
      "Processed raster saved to: D:\\Madagascar\\Data\\RiverMapping\\RiverMasks\\Betsiboka\\reach_7\\Processed\\Betsiboka_reach_7_2008_DSWE_level_3.tif\n",
      "PROCESSED: Exported Betsiboka_reach_7_2008_DSWE_level_3.tif to D:\\Madagascar\\Data\\RiverMapping\\RiverMasks\\Betsiboka\\reach_7\\Processed.\n",
      "Generating URL ...\n",
      "Downloading data from https://earthengine.googleapis.com/v1/projects/earthengine-legacy/thumbnails/5b5974fec600dd26d4c7be04612b6f74-afcecb027b00e90bb66e3fa91fe8c206:getPixels\n",
      "Please wait ...\n",
      "Data downloaded to D:\\Madagascar\\Data\\RiverMapping\\RiverMasks\\Betsiboka\\reach_7\\Raw\\Betsiboka_reach_7_2009_DSWE_level_3.tif\n",
      "RAW: Successfully exported D:\\Madagascar\\Data\\RiverMapping\\RiverMasks\\Betsiboka\\reach_7\\Raw\\Betsiboka_reach_7_2009_DSWE_level_3.tif.\n"
     ]
    },
    {
     "name": "stderr",
     "output_type": "stream",
     "text": [
      "C:\\Users\\huckr\\AppData\\Local\\Temp\\ipykernel_22020\\949864737.py:469: UserWarning: Geometry is in a geographic CRS. Results from 'centroid' are likely incorrect. Use 'GeoSeries.to_crs()' to re-project geometries to a projected CRS before this operation.\n",
      "\n",
      "  centroid = grwl_reach_dissolved.geometry.centroid.iloc[0]\n"
     ]
    },
    {
     "name": "stdout",
     "output_type": "stream",
     "text": [
      "Raster successfully saved with compression to: D:\\Madagascar\\Data\\RiverMapping\\RiverMasks\\Betsiboka\\reach_7\\Processed\\Betsiboka_reach_7_2009_DSWE_level_3.tif\n",
      "Processed raster saved to: D:\\Madagascar\\Data\\RiverMapping\\RiverMasks\\Betsiboka\\reach_7\\Processed\\Betsiboka_reach_7_2009_DSWE_level_3.tif\n",
      "PROCESSED: Exported Betsiboka_reach_7_2009_DSWE_level_3.tif to D:\\Madagascar\\Data\\RiverMapping\\RiverMasks\\Betsiboka\\reach_7\\Processed.\n",
      "Generating URL ...\n",
      "Downloading data from https://earthengine.googleapis.com/v1/projects/earthengine-legacy/thumbnails/77b6b39b40c87c28898d01f9a87de5e0-d2cb785cd6d0ed1614bb3a5cb5420897:getPixels\n",
      "Please wait ...\n",
      "Data downloaded to D:\\Madagascar\\Data\\RiverMapping\\RiverMasks\\Betsiboka\\reach_7\\Raw\\Betsiboka_reach_7_2010_DSWE_level_3.tif\n",
      "RAW: Successfully exported D:\\Madagascar\\Data\\RiverMapping\\RiverMasks\\Betsiboka\\reach_7\\Raw\\Betsiboka_reach_7_2010_DSWE_level_3.tif.\n"
     ]
    },
    {
     "name": "stderr",
     "output_type": "stream",
     "text": [
      "C:\\Users\\huckr\\AppData\\Local\\Temp\\ipykernel_22020\\949864737.py:469: UserWarning: Geometry is in a geographic CRS. Results from 'centroid' are likely incorrect. Use 'GeoSeries.to_crs()' to re-project geometries to a projected CRS before this operation.\n",
      "\n",
      "  centroid = grwl_reach_dissolved.geometry.centroid.iloc[0]\n"
     ]
    },
    {
     "name": "stdout",
     "output_type": "stream",
     "text": [
      "Raster successfully saved with compression to: D:\\Madagascar\\Data\\RiverMapping\\RiverMasks\\Betsiboka\\reach_7\\Processed\\Betsiboka_reach_7_2010_DSWE_level_3.tif\n",
      "Processed raster saved to: D:\\Madagascar\\Data\\RiverMapping\\RiverMasks\\Betsiboka\\reach_7\\Processed\\Betsiboka_reach_7_2010_DSWE_level_3.tif\n",
      "PROCESSED: Exported Betsiboka_reach_7_2010_DSWE_level_3.tif to D:\\Madagascar\\Data\\RiverMapping\\RiverMasks\\Betsiboka\\reach_7\\Processed.\n",
      "Generating URL ...\n",
      "Downloading data from https://earthengine.googleapis.com/v1/projects/earthengine-legacy/thumbnails/86d49b0be171dbd6db2aafeade255a66-66de30c04bfcb2bb171a2fe72c68988a:getPixels\n",
      "Please wait ...\n",
      "Data downloaded to D:\\Madagascar\\Data\\RiverMapping\\RiverMasks\\Betsiboka\\reach_7\\Raw\\Betsiboka_reach_7_2011_DSWE_level_3.tif\n",
      "RAW: Successfully exported D:\\Madagascar\\Data\\RiverMapping\\RiverMasks\\Betsiboka\\reach_7\\Raw\\Betsiboka_reach_7_2011_DSWE_level_3.tif.\n"
     ]
    },
    {
     "name": "stderr",
     "output_type": "stream",
     "text": [
      "C:\\Users\\huckr\\AppData\\Local\\Temp\\ipykernel_22020\\949864737.py:469: UserWarning: Geometry is in a geographic CRS. Results from 'centroid' are likely incorrect. Use 'GeoSeries.to_crs()' to re-project geometries to a projected CRS before this operation.\n",
      "\n",
      "  centroid = grwl_reach_dissolved.geometry.centroid.iloc[0]\n"
     ]
    },
    {
     "name": "stdout",
     "output_type": "stream",
     "text": [
      "Raster successfully saved with compression to: D:\\Madagascar\\Data\\RiverMapping\\RiverMasks\\Betsiboka\\reach_7\\Processed\\Betsiboka_reach_7_2011_DSWE_level_3.tif\n",
      "Processed raster saved to: D:\\Madagascar\\Data\\RiverMapping\\RiverMasks\\Betsiboka\\reach_7\\Processed\\Betsiboka_reach_7_2011_DSWE_level_3.tif\n",
      "PROCESSED: Exported Betsiboka_reach_7_2011_DSWE_level_3.tif to D:\\Madagascar\\Data\\RiverMapping\\RiverMasks\\Betsiboka\\reach_7\\Processed.\n",
      "Generating URL ...\n",
      "An error occurred while downloading.\n",
      "Image.select: Band pattern 'Nir' was applied to an Image with no bands. See https://developers.google.com/earth-engine/guides/debugging#no-bands\n",
      "Export failed: File D:\\Madagascar\\Data\\RiverMapping\\RiverMasks\\Betsiboka\\reach_7\\Raw\\Betsiboka_reach_7_2012_DSWE_level_3.tif not found.\n",
      "Export failed for Betsiboka_reach_7_2012_DSWE_level_3.tif, attempting tiling...\n",
      "Generating URL ...\n",
      "An error occurred while downloading.\n",
      "Image.select: Band pattern 'Swir2' was applied to an Image with no bands. See https://developers.google.com/earth-engine/guides/debugging#no-bands\n",
      "Export failed: File D:\\Madagascar\\Data\\RiverMapping\\RiverMasks\\Betsiboka\\reach_7\\Raw\\Betsiboka_reach_7_2012_tile_0_DSWE_level_3.tif not found.\n",
      "Generating URL ...\n",
      "An error occurred while downloading.\n",
      "Image.select: Band pattern 'Nir' was applied to an Image with no bands. See https://developers.google.com/earth-engine/guides/debugging#no-bands\n",
      "Export failed: File D:\\Madagascar\\Data\\RiverMapping\\RiverMasks\\Betsiboka\\reach_7\\Raw\\Betsiboka_reach_7_2012_tile_1_DSWE_level_3.tif not found.\n",
      "Generating URL ...\n",
      "An error occurred while downloading.\n",
      "Image.select: Band pattern 'Nir' was applied to an Image with no bands. See https://developers.google.com/earth-engine/guides/debugging#no-bands\n",
      "Export failed: File D:\\Madagascar\\Data\\RiverMapping\\RiverMasks\\Betsiboka\\reach_7\\Raw\\Betsiboka_reach_7_2012_tile_2_DSWE_level_3.tif not found.\n",
      "Generating URL ...\n",
      "An error occurred while downloading.\n",
      "Image.select: Band pattern 'Swir2' was applied to an Image with no bands. See https://developers.google.com/earth-engine/guides/debugging#no-bands\n",
      "Export failed: File D:\\Madagascar\\Data\\RiverMapping\\RiverMasks\\Betsiboka\\reach_7\\Raw\\Betsiboka_reach_7_2012_tile_3_DSWE_level_3.tif not found.\n",
      "No tiles found for stitching.\n",
      "Failed to export Betsiboka_reach_7_2012_DSWE_level_3.tif. Error: D:/Madagascar/Data/RiverMapping/RiverMasks/Betsiboka/reach_7/Raw/Betsiboka_reach_7_2012_DSWE_level_3.tif: No such file or directory\n",
      "Generating URL ...\n",
      "Downloading data from https://earthengine.googleapis.com/v1/projects/earthengine-legacy/thumbnails/e328b96549fd2797fe06927c8a9e1808-26b56db873e15d5b0b0dd1ed029d2164:getPixels\n",
      "Please wait ...\n",
      "Data downloaded to D:\\Madagascar\\Data\\RiverMapping\\RiverMasks\\Betsiboka\\reach_7\\Raw\\Betsiboka_reach_7_2013_DSWE_level_3.tif\n",
      "RAW: Successfully exported D:\\Madagascar\\Data\\RiverMapping\\RiverMasks\\Betsiboka\\reach_7\\Raw\\Betsiboka_reach_7_2013_DSWE_level_3.tif.\n"
     ]
    },
    {
     "name": "stderr",
     "output_type": "stream",
     "text": [
      "C:\\Users\\huckr\\AppData\\Local\\Temp\\ipykernel_22020\\949864737.py:469: UserWarning: Geometry is in a geographic CRS. Results from 'centroid' are likely incorrect. Use 'GeoSeries.to_crs()' to re-project geometries to a projected CRS before this operation.\n",
      "\n",
      "  centroid = grwl_reach_dissolved.geometry.centroid.iloc[0]\n"
     ]
    },
    {
     "name": "stdout",
     "output_type": "stream",
     "text": [
      "Raster successfully saved with compression to: D:\\Madagascar\\Data\\RiverMapping\\RiverMasks\\Betsiboka\\reach_7\\Processed\\Betsiboka_reach_7_2013_DSWE_level_3.tif\n",
      "Processed raster saved to: D:\\Madagascar\\Data\\RiverMapping\\RiverMasks\\Betsiboka\\reach_7\\Processed\\Betsiboka_reach_7_2013_DSWE_level_3.tif\n",
      "PROCESSED: Exported Betsiboka_reach_7_2013_DSWE_level_3.tif to D:\\Madagascar\\Data\\RiverMapping\\RiverMasks\\Betsiboka\\reach_7\\Processed.\n",
      "Generating URL ...\n",
      "Downloading data from https://earthengine.googleapis.com/v1/projects/earthengine-legacy/thumbnails/8b4c0226f198b0207649c55a84c0a90e-46db6ffeb1192bbe430c1c6c874a8913:getPixels\n",
      "Please wait ...\n",
      "Data downloaded to D:\\Madagascar\\Data\\RiverMapping\\RiverMasks\\Betsiboka\\reach_7\\Raw\\Betsiboka_reach_7_2014_DSWE_level_3.tif\n",
      "RAW: Successfully exported D:\\Madagascar\\Data\\RiverMapping\\RiverMasks\\Betsiboka\\reach_7\\Raw\\Betsiboka_reach_7_2014_DSWE_level_3.tif.\n"
     ]
    },
    {
     "name": "stderr",
     "output_type": "stream",
     "text": [
      "C:\\Users\\huckr\\AppData\\Local\\Temp\\ipykernel_22020\\949864737.py:469: UserWarning: Geometry is in a geographic CRS. Results from 'centroid' are likely incorrect. Use 'GeoSeries.to_crs()' to re-project geometries to a projected CRS before this operation.\n",
      "\n",
      "  centroid = grwl_reach_dissolved.geometry.centroid.iloc[0]\n"
     ]
    },
    {
     "name": "stdout",
     "output_type": "stream",
     "text": [
      "Raster successfully saved with compression to: D:\\Madagascar\\Data\\RiverMapping\\RiverMasks\\Betsiboka\\reach_7\\Processed\\Betsiboka_reach_7_2014_DSWE_level_3.tif\n",
      "Processed raster saved to: D:\\Madagascar\\Data\\RiverMapping\\RiverMasks\\Betsiboka\\reach_7\\Processed\\Betsiboka_reach_7_2014_DSWE_level_3.tif\n",
      "PROCESSED: Exported Betsiboka_reach_7_2014_DSWE_level_3.tif to D:\\Madagascar\\Data\\RiverMapping\\RiverMasks\\Betsiboka\\reach_7\\Processed.\n",
      "Generating URL ...\n",
      "Downloading data from https://earthengine.googleapis.com/v1/projects/earthengine-legacy/thumbnails/9114173c9a0a3e5e2fb3edcc0ac1dbb3-5d45eb162616623871171bf81854649d:getPixels\n",
      "Please wait ...\n",
      "Data downloaded to D:\\Madagascar\\Data\\RiverMapping\\RiverMasks\\Betsiboka\\reach_7\\Raw\\Betsiboka_reach_7_2015_DSWE_level_3.tif\n",
      "RAW: Successfully exported D:\\Madagascar\\Data\\RiverMapping\\RiverMasks\\Betsiboka\\reach_7\\Raw\\Betsiboka_reach_7_2015_DSWE_level_3.tif.\n"
     ]
    },
    {
     "name": "stderr",
     "output_type": "stream",
     "text": [
      "C:\\Users\\huckr\\AppData\\Local\\Temp\\ipykernel_22020\\949864737.py:469: UserWarning: Geometry is in a geographic CRS. Results from 'centroid' are likely incorrect. Use 'GeoSeries.to_crs()' to re-project geometries to a projected CRS before this operation.\n",
      "\n",
      "  centroid = grwl_reach_dissolved.geometry.centroid.iloc[0]\n"
     ]
    },
    {
     "name": "stdout",
     "output_type": "stream",
     "text": [
      "Raster successfully saved with compression to: D:\\Madagascar\\Data\\RiverMapping\\RiverMasks\\Betsiboka\\reach_7\\Processed\\Betsiboka_reach_7_2015_DSWE_level_3.tif\n",
      "Processed raster saved to: D:\\Madagascar\\Data\\RiverMapping\\RiverMasks\\Betsiboka\\reach_7\\Processed\\Betsiboka_reach_7_2015_DSWE_level_3.tif\n",
      "PROCESSED: Exported Betsiboka_reach_7_2015_DSWE_level_3.tif to D:\\Madagascar\\Data\\RiverMapping\\RiverMasks\\Betsiboka\\reach_7\\Processed.\n",
      "Generating URL ...\n",
      "Downloading data from https://earthengine.googleapis.com/v1/projects/earthengine-legacy/thumbnails/b519b60fc1ba16f784e266a0728a8fa7-0b5fcaa4311373f5dc37cbfd0aedf49d:getPixels\n",
      "Please wait ...\n",
      "Data downloaded to D:\\Madagascar\\Data\\RiverMapping\\RiverMasks\\Betsiboka\\reach_7\\Raw\\Betsiboka_reach_7_2016_DSWE_level_3.tif\n",
      "RAW: Successfully exported D:\\Madagascar\\Data\\RiverMapping\\RiverMasks\\Betsiboka\\reach_7\\Raw\\Betsiboka_reach_7_2016_DSWE_level_3.tif.\n"
     ]
    },
    {
     "name": "stderr",
     "output_type": "stream",
     "text": [
      "C:\\Users\\huckr\\AppData\\Local\\Temp\\ipykernel_22020\\949864737.py:469: UserWarning: Geometry is in a geographic CRS. Results from 'centroid' are likely incorrect. Use 'GeoSeries.to_crs()' to re-project geometries to a projected CRS before this operation.\n",
      "\n",
      "  centroid = grwl_reach_dissolved.geometry.centroid.iloc[0]\n"
     ]
    },
    {
     "name": "stdout",
     "output_type": "stream",
     "text": [
      "Raster successfully saved with compression to: D:\\Madagascar\\Data\\RiverMapping\\RiverMasks\\Betsiboka\\reach_7\\Processed\\Betsiboka_reach_7_2016_DSWE_level_3.tif\n",
      "Processed raster saved to: D:\\Madagascar\\Data\\RiverMapping\\RiverMasks\\Betsiboka\\reach_7\\Processed\\Betsiboka_reach_7_2016_DSWE_level_3.tif\n",
      "PROCESSED: Exported Betsiboka_reach_7_2016_DSWE_level_3.tif to D:\\Madagascar\\Data\\RiverMapping\\RiverMasks\\Betsiboka\\reach_7\\Processed.\n",
      "Generating URL ...\n",
      "Downloading data from https://earthengine.googleapis.com/v1/projects/earthengine-legacy/thumbnails/00016b29314b21d397723f450f321d8d-e6864ecd4e3d72c6111d794f732a733e:getPixels\n",
      "Please wait ...\n",
      "Data downloaded to D:\\Madagascar\\Data\\RiverMapping\\RiverMasks\\Betsiboka\\reach_7\\Raw\\Betsiboka_reach_7_2017_DSWE_level_3.tif\n",
      "RAW: Successfully exported D:\\Madagascar\\Data\\RiverMapping\\RiverMasks\\Betsiboka\\reach_7\\Raw\\Betsiboka_reach_7_2017_DSWE_level_3.tif.\n"
     ]
    },
    {
     "name": "stderr",
     "output_type": "stream",
     "text": [
      "C:\\Users\\huckr\\AppData\\Local\\Temp\\ipykernel_22020\\949864737.py:469: UserWarning: Geometry is in a geographic CRS. Results from 'centroid' are likely incorrect. Use 'GeoSeries.to_crs()' to re-project geometries to a projected CRS before this operation.\n",
      "\n",
      "  centroid = grwl_reach_dissolved.geometry.centroid.iloc[0]\n"
     ]
    },
    {
     "name": "stdout",
     "output_type": "stream",
     "text": [
      "Raster successfully saved with compression to: D:\\Madagascar\\Data\\RiverMapping\\RiverMasks\\Betsiboka\\reach_7\\Processed\\Betsiboka_reach_7_2017_DSWE_level_3.tif\n",
      "Processed raster saved to: D:\\Madagascar\\Data\\RiverMapping\\RiverMasks\\Betsiboka\\reach_7\\Processed\\Betsiboka_reach_7_2017_DSWE_level_3.tif\n",
      "PROCESSED: Exported Betsiboka_reach_7_2017_DSWE_level_3.tif to D:\\Madagascar\\Data\\RiverMapping\\RiverMasks\\Betsiboka\\reach_7\\Processed.\n",
      "Generating URL ...\n",
      "Downloading data from https://earthengine.googleapis.com/v1/projects/earthengine-legacy/thumbnails/f9f6aa34a00135583fd0d0c8dc6d0f30-ee7e28ea1bf01f83281fa20703c6d7ce:getPixels\n",
      "Please wait ...\n",
      "Data downloaded to D:\\Madagascar\\Data\\RiverMapping\\RiverMasks\\Betsiboka\\reach_7\\Raw\\Betsiboka_reach_7_2018_DSWE_level_3.tif\n",
      "RAW: Successfully exported D:\\Madagascar\\Data\\RiverMapping\\RiverMasks\\Betsiboka\\reach_7\\Raw\\Betsiboka_reach_7_2018_DSWE_level_3.tif.\n"
     ]
    },
    {
     "name": "stderr",
     "output_type": "stream",
     "text": [
      "C:\\Users\\huckr\\AppData\\Local\\Temp\\ipykernel_22020\\949864737.py:469: UserWarning: Geometry is in a geographic CRS. Results from 'centroid' are likely incorrect. Use 'GeoSeries.to_crs()' to re-project geometries to a projected CRS before this operation.\n",
      "\n",
      "  centroid = grwl_reach_dissolved.geometry.centroid.iloc[0]\n"
     ]
    },
    {
     "name": "stdout",
     "output_type": "stream",
     "text": [
      "Raster successfully saved with compression to: D:\\Madagascar\\Data\\RiverMapping\\RiverMasks\\Betsiboka\\reach_7\\Processed\\Betsiboka_reach_7_2018_DSWE_level_3.tif\n",
      "Processed raster saved to: D:\\Madagascar\\Data\\RiverMapping\\RiverMasks\\Betsiboka\\reach_7\\Processed\\Betsiboka_reach_7_2018_DSWE_level_3.tif\n",
      "PROCESSED: Exported Betsiboka_reach_7_2018_DSWE_level_3.tif to D:\\Madagascar\\Data\\RiverMapping\\RiverMasks\\Betsiboka\\reach_7\\Processed.\n",
      "Generating URL ...\n",
      "Downloading data from https://earthengine.googleapis.com/v1/projects/earthengine-legacy/thumbnails/0c4ec161669b8bd45aeb3ee7b5660ed9-6181e5fbe2039f86ad236c7f953ca9d2:getPixels\n",
      "Please wait ...\n",
      "Data downloaded to D:\\Madagascar\\Data\\RiverMapping\\RiverMasks\\Betsiboka\\reach_7\\Raw\\Betsiboka_reach_7_2019_DSWE_level_3.tif\n",
      "RAW: Successfully exported D:\\Madagascar\\Data\\RiverMapping\\RiverMasks\\Betsiboka\\reach_7\\Raw\\Betsiboka_reach_7_2019_DSWE_level_3.tif.\n"
     ]
    },
    {
     "name": "stderr",
     "output_type": "stream",
     "text": [
      "C:\\Users\\huckr\\AppData\\Local\\Temp\\ipykernel_22020\\949864737.py:469: UserWarning: Geometry is in a geographic CRS. Results from 'centroid' are likely incorrect. Use 'GeoSeries.to_crs()' to re-project geometries to a projected CRS before this operation.\n",
      "\n",
      "  centroid = grwl_reach_dissolved.geometry.centroid.iloc[0]\n"
     ]
    },
    {
     "name": "stdout",
     "output_type": "stream",
     "text": [
      "Raster successfully saved with compression to: D:\\Madagascar\\Data\\RiverMapping\\RiverMasks\\Betsiboka\\reach_7\\Processed\\Betsiboka_reach_7_2019_DSWE_level_3.tif\n",
      "Processed raster saved to: D:\\Madagascar\\Data\\RiverMapping\\RiverMasks\\Betsiboka\\reach_7\\Processed\\Betsiboka_reach_7_2019_DSWE_level_3.tif\n",
      "PROCESSED: Exported Betsiboka_reach_7_2019_DSWE_level_3.tif to D:\\Madagascar\\Data\\RiverMapping\\RiverMasks\\Betsiboka\\reach_7\\Processed.\n",
      "Generating URL ...\n",
      "Downloading data from https://earthengine.googleapis.com/v1/projects/earthengine-legacy/thumbnails/3af31721af8166d59759b109574984dc-f323d62b91659fc46f025f07b33965fd:getPixels\n",
      "Please wait ...\n",
      "Data downloaded to D:\\Madagascar\\Data\\RiverMapping\\RiverMasks\\Betsiboka\\reach_7\\Raw\\Betsiboka_reach_7_2020_DSWE_level_3.tif\n",
      "RAW: Successfully exported D:\\Madagascar\\Data\\RiverMapping\\RiverMasks\\Betsiboka\\reach_7\\Raw\\Betsiboka_reach_7_2020_DSWE_level_3.tif.\n"
     ]
    },
    {
     "name": "stderr",
     "output_type": "stream",
     "text": [
      "C:\\Users\\huckr\\AppData\\Local\\Temp\\ipykernel_22020\\949864737.py:469: UserWarning: Geometry is in a geographic CRS. Results from 'centroid' are likely incorrect. Use 'GeoSeries.to_crs()' to re-project geometries to a projected CRS before this operation.\n",
      "\n",
      "  centroid = grwl_reach_dissolved.geometry.centroid.iloc[0]\n"
     ]
    },
    {
     "name": "stdout",
     "output_type": "stream",
     "text": [
      "Raster successfully saved with compression to: D:\\Madagascar\\Data\\RiverMapping\\RiverMasks\\Betsiboka\\reach_7\\Processed\\Betsiboka_reach_7_2020_DSWE_level_3.tif\n",
      "Processed raster saved to: D:\\Madagascar\\Data\\RiverMapping\\RiverMasks\\Betsiboka\\reach_7\\Processed\\Betsiboka_reach_7_2020_DSWE_level_3.tif\n",
      "PROCESSED: Exported Betsiboka_reach_7_2020_DSWE_level_3.tif to D:\\Madagascar\\Data\\RiverMapping\\RiverMasks\\Betsiboka\\reach_7\\Processed.\n",
      "Generating URL ...\n",
      "Downloading data from https://earthengine.googleapis.com/v1/projects/earthengine-legacy/thumbnails/85ec17e836fd2c3f3fd0391185f1f2dd-a68c66283b2f5c7ffcc8e5ef49ea0e40:getPixels\n",
      "Please wait ...\n",
      "Data downloaded to D:\\Madagascar\\Data\\RiverMapping\\RiverMasks\\Betsiboka\\reach_7\\Raw\\Betsiboka_reach_7_2021_DSWE_level_3.tif\n",
      "RAW: Successfully exported D:\\Madagascar\\Data\\RiverMapping\\RiverMasks\\Betsiboka\\reach_7\\Raw\\Betsiboka_reach_7_2021_DSWE_level_3.tif.\n"
     ]
    },
    {
     "name": "stderr",
     "output_type": "stream",
     "text": [
      "C:\\Users\\huckr\\AppData\\Local\\Temp\\ipykernel_22020\\949864737.py:469: UserWarning: Geometry is in a geographic CRS. Results from 'centroid' are likely incorrect. Use 'GeoSeries.to_crs()' to re-project geometries to a projected CRS before this operation.\n",
      "\n",
      "  centroid = grwl_reach_dissolved.geometry.centroid.iloc[0]\n"
     ]
    },
    {
     "name": "stdout",
     "output_type": "stream",
     "text": [
      "Raster successfully saved with compression to: D:\\Madagascar\\Data\\RiverMapping\\RiverMasks\\Betsiboka\\reach_7\\Processed\\Betsiboka_reach_7_2021_DSWE_level_3.tif\n",
      "Processed raster saved to: D:\\Madagascar\\Data\\RiverMapping\\RiverMasks\\Betsiboka\\reach_7\\Processed\\Betsiboka_reach_7_2021_DSWE_level_3.tif\n",
      "PROCESSED: Exported Betsiboka_reach_7_2021_DSWE_level_3.tif to D:\\Madagascar\\Data\\RiverMapping\\RiverMasks\\Betsiboka\\reach_7\\Processed.\n",
      "Generating URL ...\n",
      "Downloading data from https://earthengine.googleapis.com/v1/projects/earthengine-legacy/thumbnails/eeb55a80317ebb8a1df690c6ecccf754-8c4cd28f8c3cbbd63d93ee9e4acd4b5e:getPixels\n",
      "Please wait ...\n",
      "Data downloaded to D:\\Madagascar\\Data\\RiverMapping\\RiverMasks\\Betsiboka\\reach_7\\Raw\\Betsiboka_reach_7_2022_DSWE_level_3.tif\n",
      "RAW: Successfully exported D:\\Madagascar\\Data\\RiverMapping\\RiverMasks\\Betsiboka\\reach_7\\Raw\\Betsiboka_reach_7_2022_DSWE_level_3.tif.\n"
     ]
    },
    {
     "name": "stderr",
     "output_type": "stream",
     "text": [
      "C:\\Users\\huckr\\AppData\\Local\\Temp\\ipykernel_22020\\949864737.py:469: UserWarning: Geometry is in a geographic CRS. Results from 'centroid' are likely incorrect. Use 'GeoSeries.to_crs()' to re-project geometries to a projected CRS before this operation.\n",
      "\n",
      "  centroid = grwl_reach_dissolved.geometry.centroid.iloc[0]\n"
     ]
    },
    {
     "name": "stdout",
     "output_type": "stream",
     "text": [
      "Raster successfully saved with compression to: D:\\Madagascar\\Data\\RiverMapping\\RiverMasks\\Betsiboka\\reach_7\\Processed\\Betsiboka_reach_7_2022_DSWE_level_3.tif\n",
      "Processed raster saved to: D:\\Madagascar\\Data\\RiverMapping\\RiverMasks\\Betsiboka\\reach_7\\Processed\\Betsiboka_reach_7_2022_DSWE_level_3.tif\n",
      "PROCESSED: Exported Betsiboka_reach_7_2022_DSWE_level_3.tif to D:\\Madagascar\\Data\\RiverMapping\\RiverMasks\\Betsiboka\\reach_7\\Processed.\n",
      "Generating URL ...\n",
      "Downloading data from https://earthengine.googleapis.com/v1/projects/earthengine-legacy/thumbnails/8beaca0e8a077ea880000b9f3e45ed17-df5d6cca2bca828821a1d5acaa5cf2f2:getPixels\n",
      "Please wait ...\n",
      "Data downloaded to D:\\Madagascar\\Data\\RiverMapping\\RiverMasks\\Betsiboka\\reach_7\\Raw\\Betsiboka_reach_7_2023_DSWE_level_3.tif\n",
      "RAW: Successfully exported D:\\Madagascar\\Data\\RiverMapping\\RiverMasks\\Betsiboka\\reach_7\\Raw\\Betsiboka_reach_7_2023_DSWE_level_3.tif.\n"
     ]
    },
    {
     "name": "stderr",
     "output_type": "stream",
     "text": [
      "C:\\Users\\huckr\\AppData\\Local\\Temp\\ipykernel_22020\\949864737.py:469: UserWarning: Geometry is in a geographic CRS. Results from 'centroid' are likely incorrect. Use 'GeoSeries.to_crs()' to re-project geometries to a projected CRS before this operation.\n",
      "\n",
      "  centroid = grwl_reach_dissolved.geometry.centroid.iloc[0]\n"
     ]
    },
    {
     "name": "stdout",
     "output_type": "stream",
     "text": [
      "Raster successfully saved with compression to: D:\\Madagascar\\Data\\RiverMapping\\RiverMasks\\Betsiboka\\reach_7\\Processed\\Betsiboka_reach_7_2023_DSWE_level_3.tif\n",
      "Processed raster saved to: D:\\Madagascar\\Data\\RiverMapping\\RiverMasks\\Betsiboka\\reach_7\\Processed\\Betsiboka_reach_7_2023_DSWE_level_3.tif\n",
      "PROCESSED: Exported Betsiboka_reach_7_2023_DSWE_level_3.tif to D:\\Madagascar\\Data\\RiverMapping\\RiverMasks\\Betsiboka\\reach_7\\Processed.\n",
      "Generating URL ...\n",
      "Downloading data from https://earthengine.googleapis.com/v1/projects/earthengine-legacy/thumbnails/ea3825bdf9cf728b1c942f2d95627e90-856dfc58def003199799151aaa9a94c5:getPixels\n",
      "Please wait ...\n",
      "Data downloaded to D:\\Madagascar\\Data\\RiverMapping\\RiverMasks\\Betsiboka\\reach_7\\Raw\\Betsiboka_reach_7_2024_DSWE_level_3.tif\n",
      "RAW: Successfully exported D:\\Madagascar\\Data\\RiverMapping\\RiverMasks\\Betsiboka\\reach_7\\Raw\\Betsiboka_reach_7_2024_DSWE_level_3.tif.\n"
     ]
    },
    {
     "name": "stderr",
     "output_type": "stream",
     "text": [
      "C:\\Users\\huckr\\AppData\\Local\\Temp\\ipykernel_22020\\949864737.py:469: UserWarning: Geometry is in a geographic CRS. Results from 'centroid' are likely incorrect. Use 'GeoSeries.to_crs()' to re-project geometries to a projected CRS before this operation.\n",
      "\n",
      "  centroid = grwl_reach_dissolved.geometry.centroid.iloc[0]\n"
     ]
    },
    {
     "name": "stdout",
     "output_type": "stream",
     "text": [
      "Raster successfully saved with compression to: D:\\Madagascar\\Data\\RiverMapping\\RiverMasks\\Betsiboka\\reach_7\\Processed\\Betsiboka_reach_7_2024_DSWE_level_3.tif\n",
      "Processed raster saved to: D:\\Madagascar\\Data\\RiverMapping\\RiverMasks\\Betsiboka\\reach_7\\Processed\\Betsiboka_reach_7_2024_DSWE_level_3.tif\n",
      "PROCESSED: Exported Betsiboka_reach_7_2024_DSWE_level_3.tif to D:\\Madagascar\\Data\\RiverMapping\\RiverMasks\\Betsiboka\\reach_7\\Processed.\n",
      "Generating URL ...\n",
      "Downloading data from https://earthengine.googleapis.com/v1/projects/earthengine-legacy/thumbnails/fcc0bb2602260d37e2c1780be15aff82-3fd5253b0bf53673d75ed1a900f947d6:getPixels\n",
      "Please wait ...\n",
      "Data downloaded to D:\\Madagascar\\Data\\RiverMapping\\RiverMasks\\Betsiboka\\reach_7\\Raw\\Betsiboka_reach_7_2025_DSWE_level_3.tif\n",
      "RAW: Successfully exported D:\\Madagascar\\Data\\RiverMapping\\RiverMasks\\Betsiboka\\reach_7\\Raw\\Betsiboka_reach_7_2025_DSWE_level_3.tif.\n"
     ]
    },
    {
     "name": "stderr",
     "output_type": "stream",
     "text": [
      "C:\\Users\\huckr\\AppData\\Local\\Temp\\ipykernel_22020\\949864737.py:469: UserWarning: Geometry is in a geographic CRS. Results from 'centroid' are likely incorrect. Use 'GeoSeries.to_crs()' to re-project geometries to a projected CRS before this operation.\n",
      "\n",
      "  centroid = grwl_reach_dissolved.geometry.centroid.iloc[0]\n"
     ]
    },
    {
     "name": "stdout",
     "output_type": "stream",
     "text": [
      "Raster successfully saved with compression to: D:\\Madagascar\\Data\\RiverMapping\\RiverMasks\\Betsiboka\\reach_7\\Processed\\Betsiboka_reach_7_2025_DSWE_level_3.tif\n",
      "Processed raster saved to: D:\\Madagascar\\Data\\RiverMapping\\RiverMasks\\Betsiboka\\reach_7\\Processed\\Betsiboka_reach_7_2025_DSWE_level_3.tif\n",
      "PROCESSED: Exported Betsiboka_reach_7_2025_DSWE_level_3.tif to D:\\Madagascar\\Data\\RiverMapping\\RiverMasks\\Betsiboka\\reach_7\\Processed.\n",
      "Generating URL ...\n",
      "Downloading data from https://earthengine.googleapis.com/v1/projects/earthengine-legacy/thumbnails/699de2e87558093221983e04a0425431-bdc3ba427def46ad78f5a557271a66b7:getPixels\n",
      "Please wait ...\n",
      "Data downloaded to D:\\Madagascar\\Data\\RiverMapping\\RiverMasks\\Betsiboka\\reach_6\\Raw\\Betsiboka_reach_6_1984_DSWE_level_3.tif\n",
      "RAW: Successfully exported D:\\Madagascar\\Data\\RiverMapping\\RiverMasks\\Betsiboka\\reach_6\\Raw\\Betsiboka_reach_6_1984_DSWE_level_3.tif.\n"
     ]
    },
    {
     "name": "stderr",
     "output_type": "stream",
     "text": [
      "C:\\Users\\huckr\\AppData\\Local\\Temp\\ipykernel_22020\\949864737.py:469: UserWarning: Geometry is in a geographic CRS. Results from 'centroid' are likely incorrect. Use 'GeoSeries.to_crs()' to re-project geometries to a projected CRS before this operation.\n",
      "\n",
      "  centroid = grwl_reach_dissolved.geometry.centroid.iloc[0]\n"
     ]
    },
    {
     "name": "stdout",
     "output_type": "stream",
     "text": [
      "Raster successfully saved with compression to: D:\\Madagascar\\Data\\RiverMapping\\RiverMasks\\Betsiboka\\reach_6\\Processed\\Betsiboka_reach_6_1984_DSWE_level_3.tif\n",
      "Processed raster saved to: D:\\Madagascar\\Data\\RiverMapping\\RiverMasks\\Betsiboka\\reach_6\\Processed\\Betsiboka_reach_6_1984_DSWE_level_3.tif\n",
      "PROCESSED: Exported Betsiboka_reach_6_1984_DSWE_level_3.tif to D:\\Madagascar\\Data\\RiverMapping\\RiverMasks\\Betsiboka\\reach_6\\Processed.\n",
      "Generating URL ...\n",
      "Downloading data from https://earthengine.googleapis.com/v1/projects/earthengine-legacy/thumbnails/227faab2f6a57e61f6eec647fe41c6d8-3e475b503584b1b223b229bc7591879b:getPixels\n",
      "Please wait ...\n",
      "Data downloaded to D:\\Madagascar\\Data\\RiverMapping\\RiverMasks\\Betsiboka\\reach_6\\Raw\\Betsiboka_reach_6_1985_DSWE_level_3.tif\n",
      "RAW: Successfully exported D:\\Madagascar\\Data\\RiverMapping\\RiverMasks\\Betsiboka\\reach_6\\Raw\\Betsiboka_reach_6_1985_DSWE_level_3.tif.\n"
     ]
    },
    {
     "name": "stderr",
     "output_type": "stream",
     "text": [
      "C:\\Users\\huckr\\AppData\\Local\\Temp\\ipykernel_22020\\949864737.py:469: UserWarning: Geometry is in a geographic CRS. Results from 'centroid' are likely incorrect. Use 'GeoSeries.to_crs()' to re-project geometries to a projected CRS before this operation.\n",
      "\n",
      "  centroid = grwl_reach_dissolved.geometry.centroid.iloc[0]\n"
     ]
    },
    {
     "name": "stdout",
     "output_type": "stream",
     "text": [
      "Raster successfully saved with compression to: D:\\Madagascar\\Data\\RiverMapping\\RiverMasks\\Betsiboka\\reach_6\\Processed\\Betsiboka_reach_6_1985_DSWE_level_3.tif\n",
      "Processed raster saved to: D:\\Madagascar\\Data\\RiverMapping\\RiverMasks\\Betsiboka\\reach_6\\Processed\\Betsiboka_reach_6_1985_DSWE_level_3.tif\n",
      "PROCESSED: Exported Betsiboka_reach_6_1985_DSWE_level_3.tif to D:\\Madagascar\\Data\\RiverMapping\\RiverMasks\\Betsiboka\\reach_6\\Processed.\n",
      "Generating URL ...\n",
      "An error occurred while downloading.\n",
      "Image.select: Band pattern 'Nir' was applied to an Image with no bands. See https://developers.google.com/earth-engine/guides/debugging#no-bands\n",
      "Export failed: File D:\\Madagascar\\Data\\RiverMapping\\RiverMasks\\Betsiboka\\reach_6\\Raw\\Betsiboka_reach_6_1986_DSWE_level_3.tif not found.\n",
      "Export failed for Betsiboka_reach_6_1986_DSWE_level_3.tif, attempting tiling...\n",
      "Generating URL ...\n",
      "An error occurred while downloading.\n",
      "Image.select: Band pattern 'Nir' was applied to an Image with no bands. See https://developers.google.com/earth-engine/guides/debugging#no-bands\n",
      "Export failed: File D:\\Madagascar\\Data\\RiverMapping\\RiverMasks\\Betsiboka\\reach_6\\Raw\\Betsiboka_reach_6_1986_tile_0_DSWE_level_3.tif not found.\n",
      "Generating URL ...\n",
      "An error occurred while downloading.\n",
      "Image.select: Band pattern 'Nir' was applied to an Image with no bands. See https://developers.google.com/earth-engine/guides/debugging#no-bands\n",
      "Export failed: File D:\\Madagascar\\Data\\RiverMapping\\RiverMasks\\Betsiboka\\reach_6\\Raw\\Betsiboka_reach_6_1986_tile_1_DSWE_level_3.tif not found.\n",
      "Generating URL ...\n",
      "An error occurred while downloading.\n",
      "Image.normalizedDifference: No band named 'Nir'. Available band names: [].\n",
      "Export failed: File D:\\Madagascar\\Data\\RiverMapping\\RiverMasks\\Betsiboka\\reach_6\\Raw\\Betsiboka_reach_6_1986_tile_2_DSWE_level_3.tif not found.\n",
      "Generating URL ...\n",
      "An error occurred while downloading.\n",
      "Image.normalizedDifference: No band named 'Nir'. Available band names: [].\n",
      "Export failed: File D:\\Madagascar\\Data\\RiverMapping\\RiverMasks\\Betsiboka\\reach_6\\Raw\\Betsiboka_reach_6_1986_tile_3_DSWE_level_3.tif not found.\n",
      "No tiles found for stitching.\n",
      "Failed to export Betsiboka_reach_6_1986_DSWE_level_3.tif. Error: D:/Madagascar/Data/RiverMapping/RiverMasks/Betsiboka/reach_6/Raw/Betsiboka_reach_6_1986_DSWE_level_3.tif: No such file or directory\n",
      "Generating URL ...\n",
      "Downloading data from https://earthengine.googleapis.com/v1/projects/earthengine-legacy/thumbnails/1041768c7e16430b14fd6fe3386d4ede-926bb7e8d8454d46345a0d76b0c29906:getPixels\n",
      "Please wait ...\n",
      "Data downloaded to D:\\Madagascar\\Data\\RiverMapping\\RiverMasks\\Betsiboka\\reach_6\\Raw\\Betsiboka_reach_6_1987_DSWE_level_3.tif\n",
      "RAW: Successfully exported D:\\Madagascar\\Data\\RiverMapping\\RiverMasks\\Betsiboka\\reach_6\\Raw\\Betsiboka_reach_6_1987_DSWE_level_3.tif.\n"
     ]
    },
    {
     "name": "stderr",
     "output_type": "stream",
     "text": [
      "C:\\Users\\huckr\\AppData\\Local\\Temp\\ipykernel_22020\\949864737.py:469: UserWarning: Geometry is in a geographic CRS. Results from 'centroid' are likely incorrect. Use 'GeoSeries.to_crs()' to re-project geometries to a projected CRS before this operation.\n",
      "\n",
      "  centroid = grwl_reach_dissolved.geometry.centroid.iloc[0]\n"
     ]
    },
    {
     "name": "stdout",
     "output_type": "stream",
     "text": [
      "Raster successfully saved with compression to: D:\\Madagascar\\Data\\RiverMapping\\RiverMasks\\Betsiboka\\reach_6\\Processed\\Betsiboka_reach_6_1987_DSWE_level_3.tif\n",
      "Processed raster saved to: D:\\Madagascar\\Data\\RiverMapping\\RiverMasks\\Betsiboka\\reach_6\\Processed\\Betsiboka_reach_6_1987_DSWE_level_3.tif\n",
      "PROCESSED: Exported Betsiboka_reach_6_1987_DSWE_level_3.tif to D:\\Madagascar\\Data\\RiverMapping\\RiverMasks\\Betsiboka\\reach_6\\Processed.\n",
      "Generating URL ...\n",
      "An error occurred while downloading.\n",
      "Image.select: Band pattern 'Nir' was applied to an Image with no bands. See https://developers.google.com/earth-engine/guides/debugging#no-bands\n",
      "Export failed: File D:\\Madagascar\\Data\\RiverMapping\\RiverMasks\\Betsiboka\\reach_6\\Raw\\Betsiboka_reach_6_1988_DSWE_level_3.tif not found.\n",
      "Export failed for Betsiboka_reach_6_1988_DSWE_level_3.tif, attempting tiling...\n",
      "Generating URL ...\n",
      "An error occurred while downloading.\n",
      "Image.select: Band pattern 'Nir' was applied to an Image with no bands. See https://developers.google.com/earth-engine/guides/debugging#no-bands\n",
      "Export failed: File D:\\Madagascar\\Data\\RiverMapping\\RiverMasks\\Betsiboka\\reach_6\\Raw\\Betsiboka_reach_6_1988_tile_0_DSWE_level_3.tif not found.\n",
      "Generating URL ...\n",
      "An error occurred while downloading.\n",
      "Image.select: Band pattern 'Nir' was applied to an Image with no bands. See https://developers.google.com/earth-engine/guides/debugging#no-bands\n",
      "Export failed: File D:\\Madagascar\\Data\\RiverMapping\\RiverMasks\\Betsiboka\\reach_6\\Raw\\Betsiboka_reach_6_1988_tile_1_DSWE_level_3.tif not found.\n",
      "Generating URL ...\n",
      "An error occurred while downloading.\n",
      "Image.select: Band pattern 'Nir' was applied to an Image with no bands. See https://developers.google.com/earth-engine/guides/debugging#no-bands\n",
      "Export failed: File D:\\Madagascar\\Data\\RiverMapping\\RiverMasks\\Betsiboka\\reach_6\\Raw\\Betsiboka_reach_6_1988_tile_2_DSWE_level_3.tif not found.\n",
      "Generating URL ...\n",
      "An error occurred while downloading.\n",
      "Image.select: Band pattern 'Nir' was applied to an Image with no bands. See https://developers.google.com/earth-engine/guides/debugging#no-bands\n",
      "Export failed: File D:\\Madagascar\\Data\\RiverMapping\\RiverMasks\\Betsiboka\\reach_6\\Raw\\Betsiboka_reach_6_1988_tile_3_DSWE_level_3.tif not found.\n",
      "No tiles found for stitching.\n",
      "Failed to export Betsiboka_reach_6_1988_DSWE_level_3.tif. Error: D:/Madagascar/Data/RiverMapping/RiverMasks/Betsiboka/reach_6/Raw/Betsiboka_reach_6_1988_DSWE_level_3.tif: No such file or directory\n",
      "Generating URL ...\n",
      "Downloading data from https://earthengine.googleapis.com/v1/projects/earthengine-legacy/thumbnails/049c6ec570bcc435ca9c7443c3b9e6d8-4f239a63c9e8e456eb80b0f9150e2864:getPixels\n",
      "Please wait ...\n",
      "Data downloaded to D:\\Madagascar\\Data\\RiverMapping\\RiverMasks\\Betsiboka\\reach_6\\Raw\\Betsiboka_reach_6_1989_DSWE_level_3.tif\n",
      "RAW: Successfully exported D:\\Madagascar\\Data\\RiverMapping\\RiverMasks\\Betsiboka\\reach_6\\Raw\\Betsiboka_reach_6_1989_DSWE_level_3.tif.\n"
     ]
    },
    {
     "name": "stderr",
     "output_type": "stream",
     "text": [
      "C:\\Users\\huckr\\AppData\\Local\\Temp\\ipykernel_22020\\949864737.py:469: UserWarning: Geometry is in a geographic CRS. Results from 'centroid' are likely incorrect. Use 'GeoSeries.to_crs()' to re-project geometries to a projected CRS before this operation.\n",
      "\n",
      "  centroid = grwl_reach_dissolved.geometry.centroid.iloc[0]\n"
     ]
    },
    {
     "name": "stdout",
     "output_type": "stream",
     "text": [
      "Raster successfully saved with compression to: D:\\Madagascar\\Data\\RiverMapping\\RiverMasks\\Betsiboka\\reach_6\\Processed\\Betsiboka_reach_6_1989_DSWE_level_3.tif\n",
      "Processed raster saved to: D:\\Madagascar\\Data\\RiverMapping\\RiverMasks\\Betsiboka\\reach_6\\Processed\\Betsiboka_reach_6_1989_DSWE_level_3.tif\n",
      "PROCESSED: Exported Betsiboka_reach_6_1989_DSWE_level_3.tif to D:\\Madagascar\\Data\\RiverMapping\\RiverMasks\\Betsiboka\\reach_6\\Processed.\n",
      "Generating URL ...\n",
      "Downloading data from https://earthengine.googleapis.com/v1/projects/earthengine-legacy/thumbnails/1ccdd56f0202a5fed2a7f8f5e718fc28-b1b672620decb4c2b7d6472464f61aea:getPixels\n",
      "Please wait ...\n",
      "Data downloaded to D:\\Madagascar\\Data\\RiverMapping\\RiverMasks\\Betsiboka\\reach_6\\Raw\\Betsiboka_reach_6_1990_DSWE_level_3.tif\n",
      "RAW: Successfully exported D:\\Madagascar\\Data\\RiverMapping\\RiverMasks\\Betsiboka\\reach_6\\Raw\\Betsiboka_reach_6_1990_DSWE_level_3.tif.\n"
     ]
    },
    {
     "name": "stderr",
     "output_type": "stream",
     "text": [
      "C:\\Users\\huckr\\AppData\\Local\\Temp\\ipykernel_22020\\949864737.py:469: UserWarning: Geometry is in a geographic CRS. Results from 'centroid' are likely incorrect. Use 'GeoSeries.to_crs()' to re-project geometries to a projected CRS before this operation.\n",
      "\n",
      "  centroid = grwl_reach_dissolved.geometry.centroid.iloc[0]\n"
     ]
    },
    {
     "name": "stdout",
     "output_type": "stream",
     "text": [
      "Raster successfully saved with compression to: D:\\Madagascar\\Data\\RiverMapping\\RiverMasks\\Betsiboka\\reach_6\\Processed\\Betsiboka_reach_6_1990_DSWE_level_3.tif\n",
      "Processed raster saved to: D:\\Madagascar\\Data\\RiverMapping\\RiverMasks\\Betsiboka\\reach_6\\Processed\\Betsiboka_reach_6_1990_DSWE_level_3.tif\n",
      "PROCESSED: Exported Betsiboka_reach_6_1990_DSWE_level_3.tif to D:\\Madagascar\\Data\\RiverMapping\\RiverMasks\\Betsiboka\\reach_6\\Processed.\n",
      "Generating URL ...\n",
      "Downloading data from https://earthengine.googleapis.com/v1/projects/earthengine-legacy/thumbnails/7e7c738a70854455322db99ebda0d492-7e63cea7f333123c86e1db57d81f964d:getPixels\n",
      "Please wait ...\n",
      "Data downloaded to D:\\Madagascar\\Data\\RiverMapping\\RiverMasks\\Betsiboka\\reach_6\\Raw\\Betsiboka_reach_6_1991_DSWE_level_3.tif\n",
      "RAW: Successfully exported D:\\Madagascar\\Data\\RiverMapping\\RiverMasks\\Betsiboka\\reach_6\\Raw\\Betsiboka_reach_6_1991_DSWE_level_3.tif.\n"
     ]
    },
    {
     "name": "stderr",
     "output_type": "stream",
     "text": [
      "C:\\Users\\huckr\\AppData\\Local\\Temp\\ipykernel_22020\\949864737.py:469: UserWarning: Geometry is in a geographic CRS. Results from 'centroid' are likely incorrect. Use 'GeoSeries.to_crs()' to re-project geometries to a projected CRS before this operation.\n",
      "\n",
      "  centroid = grwl_reach_dissolved.geometry.centroid.iloc[0]\n"
     ]
    },
    {
     "name": "stdout",
     "output_type": "stream",
     "text": [
      "Raster successfully saved with compression to: D:\\Madagascar\\Data\\RiverMapping\\RiverMasks\\Betsiboka\\reach_6\\Processed\\Betsiboka_reach_6_1991_DSWE_level_3.tif\n",
      "Processed raster saved to: D:\\Madagascar\\Data\\RiverMapping\\RiverMasks\\Betsiboka\\reach_6\\Processed\\Betsiboka_reach_6_1991_DSWE_level_3.tif\n",
      "PROCESSED: Exported Betsiboka_reach_6_1991_DSWE_level_3.tif to D:\\Madagascar\\Data\\RiverMapping\\RiverMasks\\Betsiboka\\reach_6\\Processed.\n",
      "Generating URL ...\n",
      "Downloading data from https://earthengine.googleapis.com/v1/projects/earthengine-legacy/thumbnails/6defbfc9653db971911110b6c5bf908a-1085231c2e526751ea9f1f54a0347d62:getPixels\n",
      "Please wait ...\n",
      "Data downloaded to D:\\Madagascar\\Data\\RiverMapping\\RiverMasks\\Betsiboka\\reach_6\\Raw\\Betsiboka_reach_6_1992_DSWE_level_3.tif\n",
      "RAW: Successfully exported D:\\Madagascar\\Data\\RiverMapping\\RiverMasks\\Betsiboka\\reach_6\\Raw\\Betsiboka_reach_6_1992_DSWE_level_3.tif.\n"
     ]
    },
    {
     "name": "stderr",
     "output_type": "stream",
     "text": [
      "C:\\Users\\huckr\\AppData\\Local\\Temp\\ipykernel_22020\\949864737.py:469: UserWarning: Geometry is in a geographic CRS. Results from 'centroid' are likely incorrect. Use 'GeoSeries.to_crs()' to re-project geometries to a projected CRS before this operation.\n",
      "\n",
      "  centroid = grwl_reach_dissolved.geometry.centroid.iloc[0]\n"
     ]
    },
    {
     "name": "stdout",
     "output_type": "stream",
     "text": [
      "Raster successfully saved with compression to: D:\\Madagascar\\Data\\RiverMapping\\RiverMasks\\Betsiboka\\reach_6\\Processed\\Betsiboka_reach_6_1992_DSWE_level_3.tif\n",
      "Processed raster saved to: D:\\Madagascar\\Data\\RiverMapping\\RiverMasks\\Betsiboka\\reach_6\\Processed\\Betsiboka_reach_6_1992_DSWE_level_3.tif\n",
      "PROCESSED: Exported Betsiboka_reach_6_1992_DSWE_level_3.tif to D:\\Madagascar\\Data\\RiverMapping\\RiverMasks\\Betsiboka\\reach_6\\Processed.\n",
      "Generating URL ...\n",
      "Downloading data from https://earthengine.googleapis.com/v1/projects/earthengine-legacy/thumbnails/66051096a054bf69dd72ace9a9d8aa77-0766228b43e6d7c069ff8aa27f7b501c:getPixels\n",
      "Please wait ...\n",
      "Data downloaded to D:\\Madagascar\\Data\\RiverMapping\\RiverMasks\\Betsiboka\\reach_6\\Raw\\Betsiboka_reach_6_1993_DSWE_level_3.tif\n",
      "RAW: Successfully exported D:\\Madagascar\\Data\\RiverMapping\\RiverMasks\\Betsiboka\\reach_6\\Raw\\Betsiboka_reach_6_1993_DSWE_level_3.tif.\n"
     ]
    },
    {
     "name": "stderr",
     "output_type": "stream",
     "text": [
      "C:\\Users\\huckr\\AppData\\Local\\Temp\\ipykernel_22020\\949864737.py:469: UserWarning: Geometry is in a geographic CRS. Results from 'centroid' are likely incorrect. Use 'GeoSeries.to_crs()' to re-project geometries to a projected CRS before this operation.\n",
      "\n",
      "  centroid = grwl_reach_dissolved.geometry.centroid.iloc[0]\n"
     ]
    },
    {
     "name": "stdout",
     "output_type": "stream",
     "text": [
      "Raster successfully saved with compression to: D:\\Madagascar\\Data\\RiverMapping\\RiverMasks\\Betsiboka\\reach_6\\Processed\\Betsiboka_reach_6_1993_DSWE_level_3.tif\n",
      "Processed raster saved to: D:\\Madagascar\\Data\\RiverMapping\\RiverMasks\\Betsiboka\\reach_6\\Processed\\Betsiboka_reach_6_1993_DSWE_level_3.tif\n",
      "PROCESSED: Exported Betsiboka_reach_6_1993_DSWE_level_3.tif to D:\\Madagascar\\Data\\RiverMapping\\RiverMasks\\Betsiboka\\reach_6\\Processed.\n",
      "Generating URL ...\n",
      "Downloading data from https://earthengine.googleapis.com/v1/projects/earthengine-legacy/thumbnails/7e0f9cf18957d6f5a7805568541c4b24-9a815b66085e461b459d40ed1a77a919:getPixels\n",
      "Please wait ...\n",
      "Data downloaded to D:\\Madagascar\\Data\\RiverMapping\\RiverMasks\\Betsiboka\\reach_6\\Raw\\Betsiboka_reach_6_1994_DSWE_level_3.tif\n",
      "RAW: Successfully exported D:\\Madagascar\\Data\\RiverMapping\\RiverMasks\\Betsiboka\\reach_6\\Raw\\Betsiboka_reach_6_1994_DSWE_level_3.tif.\n"
     ]
    },
    {
     "name": "stderr",
     "output_type": "stream",
     "text": [
      "C:\\Users\\huckr\\AppData\\Local\\Temp\\ipykernel_22020\\949864737.py:469: UserWarning: Geometry is in a geographic CRS. Results from 'centroid' are likely incorrect. Use 'GeoSeries.to_crs()' to re-project geometries to a projected CRS before this operation.\n",
      "\n",
      "  centroid = grwl_reach_dissolved.geometry.centroid.iloc[0]\n"
     ]
    },
    {
     "name": "stdout",
     "output_type": "stream",
     "text": [
      "Raster successfully saved with compression to: D:\\Madagascar\\Data\\RiverMapping\\RiverMasks\\Betsiboka\\reach_6\\Processed\\Betsiboka_reach_6_1994_DSWE_level_3.tif\n",
      "Processed raster saved to: D:\\Madagascar\\Data\\RiverMapping\\RiverMasks\\Betsiboka\\reach_6\\Processed\\Betsiboka_reach_6_1994_DSWE_level_3.tif\n",
      "PROCESSED: Exported Betsiboka_reach_6_1994_DSWE_level_3.tif to D:\\Madagascar\\Data\\RiverMapping\\RiverMasks\\Betsiboka\\reach_6\\Processed.\n",
      "Generating URL ...\n",
      "Downloading data from https://earthengine.googleapis.com/v1/projects/earthengine-legacy/thumbnails/c9dfe79c82abe552849d01a9dad4cc7e-0b55ac3319ca8048dba2a8dc3ffebc78:getPixels\n",
      "Please wait ...\n",
      "Data downloaded to D:\\Madagascar\\Data\\RiverMapping\\RiverMasks\\Betsiboka\\reach_6\\Raw\\Betsiboka_reach_6_1995_DSWE_level_3.tif\n",
      "RAW: Successfully exported D:\\Madagascar\\Data\\RiverMapping\\RiverMasks\\Betsiboka\\reach_6\\Raw\\Betsiboka_reach_6_1995_DSWE_level_3.tif.\n"
     ]
    },
    {
     "name": "stderr",
     "output_type": "stream",
     "text": [
      "C:\\Users\\huckr\\AppData\\Local\\Temp\\ipykernel_22020\\949864737.py:469: UserWarning: Geometry is in a geographic CRS. Results from 'centroid' are likely incorrect. Use 'GeoSeries.to_crs()' to re-project geometries to a projected CRS before this operation.\n",
      "\n",
      "  centroid = grwl_reach_dissolved.geometry.centroid.iloc[0]\n"
     ]
    },
    {
     "name": "stdout",
     "output_type": "stream",
     "text": [
      "Raster successfully saved with compression to: D:\\Madagascar\\Data\\RiverMapping\\RiverMasks\\Betsiboka\\reach_6\\Processed\\Betsiboka_reach_6_1995_DSWE_level_3.tif\n",
      "Processed raster saved to: D:\\Madagascar\\Data\\RiverMapping\\RiverMasks\\Betsiboka\\reach_6\\Processed\\Betsiboka_reach_6_1995_DSWE_level_3.tif\n",
      "PROCESSED: Exported Betsiboka_reach_6_1995_DSWE_level_3.tif to D:\\Madagascar\\Data\\RiverMapping\\RiverMasks\\Betsiboka\\reach_6\\Processed.\n",
      "Generating URL ...\n",
      "Downloading data from https://earthengine.googleapis.com/v1/projects/earthengine-legacy/thumbnails/ff10dab48be21dd1c4e7148fce19d68c-bd0bb2e7e03ef0d4bd631bc4607eeced:getPixels\n",
      "Please wait ...\n",
      "Data downloaded to D:\\Madagascar\\Data\\RiverMapping\\RiverMasks\\Betsiboka\\reach_6\\Raw\\Betsiboka_reach_6_1996_DSWE_level_3.tif\n",
      "RAW: Successfully exported D:\\Madagascar\\Data\\RiverMapping\\RiverMasks\\Betsiboka\\reach_6\\Raw\\Betsiboka_reach_6_1996_DSWE_level_3.tif.\n"
     ]
    },
    {
     "name": "stderr",
     "output_type": "stream",
     "text": [
      "C:\\Users\\huckr\\AppData\\Local\\Temp\\ipykernel_22020\\949864737.py:469: UserWarning: Geometry is in a geographic CRS. Results from 'centroid' are likely incorrect. Use 'GeoSeries.to_crs()' to re-project geometries to a projected CRS before this operation.\n",
      "\n",
      "  centroid = grwl_reach_dissolved.geometry.centroid.iloc[0]\n"
     ]
    },
    {
     "name": "stdout",
     "output_type": "stream",
     "text": [
      "Raster successfully saved with compression to: D:\\Madagascar\\Data\\RiverMapping\\RiverMasks\\Betsiboka\\reach_6\\Processed\\Betsiboka_reach_6_1996_DSWE_level_3.tif\n",
      "Processed raster saved to: D:\\Madagascar\\Data\\RiverMapping\\RiverMasks\\Betsiboka\\reach_6\\Processed\\Betsiboka_reach_6_1996_DSWE_level_3.tif\n",
      "PROCESSED: Exported Betsiboka_reach_6_1996_DSWE_level_3.tif to D:\\Madagascar\\Data\\RiverMapping\\RiverMasks\\Betsiboka\\reach_6\\Processed.\n",
      "Generating URL ...\n",
      "Downloading data from https://earthengine.googleapis.com/v1/projects/earthengine-legacy/thumbnails/23b278cc610d35fcb14d6419eaf6a906-0c210d2c9758915c24387a50029cd274:getPixels\n",
      "Please wait ...\n",
      "Data downloaded to D:\\Madagascar\\Data\\RiverMapping\\RiverMasks\\Betsiboka\\reach_6\\Raw\\Betsiboka_reach_6_1997_DSWE_level_3.tif\n",
      "RAW: Successfully exported D:\\Madagascar\\Data\\RiverMapping\\RiverMasks\\Betsiboka\\reach_6\\Raw\\Betsiboka_reach_6_1997_DSWE_level_3.tif.\n"
     ]
    },
    {
     "name": "stderr",
     "output_type": "stream",
     "text": [
      "C:\\Users\\huckr\\AppData\\Local\\Temp\\ipykernel_22020\\949864737.py:469: UserWarning: Geometry is in a geographic CRS. Results from 'centroid' are likely incorrect. Use 'GeoSeries.to_crs()' to re-project geometries to a projected CRS before this operation.\n",
      "\n",
      "  centroid = grwl_reach_dissolved.geometry.centroid.iloc[0]\n"
     ]
    },
    {
     "name": "stdout",
     "output_type": "stream",
     "text": [
      "Raster successfully saved with compression to: D:\\Madagascar\\Data\\RiverMapping\\RiverMasks\\Betsiboka\\reach_6\\Processed\\Betsiboka_reach_6_1997_DSWE_level_3.tif\n",
      "Processed raster saved to: D:\\Madagascar\\Data\\RiverMapping\\RiverMasks\\Betsiboka\\reach_6\\Processed\\Betsiboka_reach_6_1997_DSWE_level_3.tif\n",
      "PROCESSED: Exported Betsiboka_reach_6_1997_DSWE_level_3.tif to D:\\Madagascar\\Data\\RiverMapping\\RiverMasks\\Betsiboka\\reach_6\\Processed.\n",
      "Generating URL ...\n",
      "Downloading data from https://earthengine.googleapis.com/v1/projects/earthengine-legacy/thumbnails/5ede52220df9a104f8d858b7f4975a40-3c6435c3c09784ea292268d2cf887a85:getPixels\n",
      "Please wait ...\n",
      "Data downloaded to D:\\Madagascar\\Data\\RiverMapping\\RiverMasks\\Betsiboka\\reach_6\\Raw\\Betsiboka_reach_6_1998_DSWE_level_3.tif\n",
      "RAW: Successfully exported D:\\Madagascar\\Data\\RiverMapping\\RiverMasks\\Betsiboka\\reach_6\\Raw\\Betsiboka_reach_6_1998_DSWE_level_3.tif.\n"
     ]
    },
    {
     "name": "stderr",
     "output_type": "stream",
     "text": [
      "C:\\Users\\huckr\\AppData\\Local\\Temp\\ipykernel_22020\\949864737.py:469: UserWarning: Geometry is in a geographic CRS. Results from 'centroid' are likely incorrect. Use 'GeoSeries.to_crs()' to re-project geometries to a projected CRS before this operation.\n",
      "\n",
      "  centroid = grwl_reach_dissolved.geometry.centroid.iloc[0]\n"
     ]
    },
    {
     "name": "stdout",
     "output_type": "stream",
     "text": [
      "Raster successfully saved with compression to: D:\\Madagascar\\Data\\RiverMapping\\RiverMasks\\Betsiboka\\reach_6\\Processed\\Betsiboka_reach_6_1998_DSWE_level_3.tif\n",
      "Processed raster saved to: D:\\Madagascar\\Data\\RiverMapping\\RiverMasks\\Betsiboka\\reach_6\\Processed\\Betsiboka_reach_6_1998_DSWE_level_3.tif\n",
      "PROCESSED: Exported Betsiboka_reach_6_1998_DSWE_level_3.tif to D:\\Madagascar\\Data\\RiverMapping\\RiverMasks\\Betsiboka\\reach_6\\Processed.\n",
      "Generating URL ...\n",
      "Downloading data from https://earthengine.googleapis.com/v1/projects/earthengine-legacy/thumbnails/d6f53de5794fac8823435271ffd5aaab-6fdd03634965a4693906cbf7e00ff750:getPixels\n",
      "Please wait ...\n",
      "Data downloaded to D:\\Madagascar\\Data\\RiverMapping\\RiverMasks\\Betsiboka\\reach_6\\Raw\\Betsiboka_reach_6_1999_DSWE_level_3.tif\n",
      "RAW: Successfully exported D:\\Madagascar\\Data\\RiverMapping\\RiverMasks\\Betsiboka\\reach_6\\Raw\\Betsiboka_reach_6_1999_DSWE_level_3.tif.\n"
     ]
    },
    {
     "name": "stderr",
     "output_type": "stream",
     "text": [
      "C:\\Users\\huckr\\AppData\\Local\\Temp\\ipykernel_22020\\949864737.py:469: UserWarning: Geometry is in a geographic CRS. Results from 'centroid' are likely incorrect. Use 'GeoSeries.to_crs()' to re-project geometries to a projected CRS before this operation.\n",
      "\n",
      "  centroid = grwl_reach_dissolved.geometry.centroid.iloc[0]\n"
     ]
    },
    {
     "name": "stdout",
     "output_type": "stream",
     "text": [
      "Raster successfully saved with compression to: D:\\Madagascar\\Data\\RiverMapping\\RiverMasks\\Betsiboka\\reach_6\\Processed\\Betsiboka_reach_6_1999_DSWE_level_3.tif\n",
      "Processed raster saved to: D:\\Madagascar\\Data\\RiverMapping\\RiverMasks\\Betsiboka\\reach_6\\Processed\\Betsiboka_reach_6_1999_DSWE_level_3.tif\n",
      "PROCESSED: Exported Betsiboka_reach_6_1999_DSWE_level_3.tif to D:\\Madagascar\\Data\\RiverMapping\\RiverMasks\\Betsiboka\\reach_6\\Processed.\n",
      "Generating URL ...\n",
      "Downloading data from https://earthengine.googleapis.com/v1/projects/earthengine-legacy/thumbnails/4aaada6d4d73498504413da43fbe8a85-99023d8e4cf712b37810282d1f2648fb:getPixels\n",
      "Please wait ...\n",
      "Data downloaded to D:\\Madagascar\\Data\\RiverMapping\\RiverMasks\\Betsiboka\\reach_6\\Raw\\Betsiboka_reach_6_2000_DSWE_level_3.tif\n",
      "RAW: Successfully exported D:\\Madagascar\\Data\\RiverMapping\\RiverMasks\\Betsiboka\\reach_6\\Raw\\Betsiboka_reach_6_2000_DSWE_level_3.tif.\n"
     ]
    },
    {
     "name": "stderr",
     "output_type": "stream",
     "text": [
      "C:\\Users\\huckr\\AppData\\Local\\Temp\\ipykernel_22020\\949864737.py:469: UserWarning: Geometry is in a geographic CRS. Results from 'centroid' are likely incorrect. Use 'GeoSeries.to_crs()' to re-project geometries to a projected CRS before this operation.\n",
      "\n",
      "  centroid = grwl_reach_dissolved.geometry.centroid.iloc[0]\n"
     ]
    },
    {
     "name": "stdout",
     "output_type": "stream",
     "text": [
      "Raster successfully saved with compression to: D:\\Madagascar\\Data\\RiverMapping\\RiverMasks\\Betsiboka\\reach_6\\Processed\\Betsiboka_reach_6_2000_DSWE_level_3.tif\n",
      "Processed raster saved to: D:\\Madagascar\\Data\\RiverMapping\\RiverMasks\\Betsiboka\\reach_6\\Processed\\Betsiboka_reach_6_2000_DSWE_level_3.tif\n",
      "PROCESSED: Exported Betsiboka_reach_6_2000_DSWE_level_3.tif to D:\\Madagascar\\Data\\RiverMapping\\RiverMasks\\Betsiboka\\reach_6\\Processed.\n",
      "Generating URL ...\n",
      "Downloading data from https://earthengine.googleapis.com/v1/projects/earthengine-legacy/thumbnails/cf46c49a62b20c4ba1a8711417227281-0e745404f7ccc4e30da7f961c8282baa:getPixels\n",
      "Please wait ...\n",
      "Data downloaded to D:\\Madagascar\\Data\\RiverMapping\\RiverMasks\\Betsiboka\\reach_6\\Raw\\Betsiboka_reach_6_2001_DSWE_level_3.tif\n",
      "RAW: Successfully exported D:\\Madagascar\\Data\\RiverMapping\\RiverMasks\\Betsiboka\\reach_6\\Raw\\Betsiboka_reach_6_2001_DSWE_level_3.tif.\n"
     ]
    },
    {
     "name": "stderr",
     "output_type": "stream",
     "text": [
      "C:\\Users\\huckr\\AppData\\Local\\Temp\\ipykernel_22020\\949864737.py:469: UserWarning: Geometry is in a geographic CRS. Results from 'centroid' are likely incorrect. Use 'GeoSeries.to_crs()' to re-project geometries to a projected CRS before this operation.\n",
      "\n",
      "  centroid = grwl_reach_dissolved.geometry.centroid.iloc[0]\n"
     ]
    },
    {
     "name": "stdout",
     "output_type": "stream",
     "text": [
      "Raster successfully saved with compression to: D:\\Madagascar\\Data\\RiverMapping\\RiverMasks\\Betsiboka\\reach_6\\Processed\\Betsiboka_reach_6_2001_DSWE_level_3.tif\n",
      "Processed raster saved to: D:\\Madagascar\\Data\\RiverMapping\\RiverMasks\\Betsiboka\\reach_6\\Processed\\Betsiboka_reach_6_2001_DSWE_level_3.tif\n",
      "PROCESSED: Exported Betsiboka_reach_6_2001_DSWE_level_3.tif to D:\\Madagascar\\Data\\RiverMapping\\RiverMasks\\Betsiboka\\reach_6\\Processed.\n",
      "Generating URL ...\n",
      "Downloading data from https://earthengine.googleapis.com/v1/projects/earthengine-legacy/thumbnails/1b7f5a98e311bc4b8be26cfe991494aa-6a1acc14b12ed05fbf8b42a690eb9345:getPixels\n",
      "Please wait ...\n",
      "Data downloaded to D:\\Madagascar\\Data\\RiverMapping\\RiverMasks\\Betsiboka\\reach_6\\Raw\\Betsiboka_reach_6_2002_DSWE_level_3.tif\n",
      "RAW: Successfully exported D:\\Madagascar\\Data\\RiverMapping\\RiverMasks\\Betsiboka\\reach_6\\Raw\\Betsiboka_reach_6_2002_DSWE_level_3.tif.\n"
     ]
    },
    {
     "name": "stderr",
     "output_type": "stream",
     "text": [
      "C:\\Users\\huckr\\AppData\\Local\\Temp\\ipykernel_22020\\949864737.py:469: UserWarning: Geometry is in a geographic CRS. Results from 'centroid' are likely incorrect. Use 'GeoSeries.to_crs()' to re-project geometries to a projected CRS before this operation.\n",
      "\n",
      "  centroid = grwl_reach_dissolved.geometry.centroid.iloc[0]\n"
     ]
    },
    {
     "name": "stdout",
     "output_type": "stream",
     "text": [
      "Raster successfully saved with compression to: D:\\Madagascar\\Data\\RiverMapping\\RiverMasks\\Betsiboka\\reach_6\\Processed\\Betsiboka_reach_6_2002_DSWE_level_3.tif\n",
      "Processed raster saved to: D:\\Madagascar\\Data\\RiverMapping\\RiverMasks\\Betsiboka\\reach_6\\Processed\\Betsiboka_reach_6_2002_DSWE_level_3.tif\n",
      "PROCESSED: Exported Betsiboka_reach_6_2002_DSWE_level_3.tif to D:\\Madagascar\\Data\\RiverMapping\\RiverMasks\\Betsiboka\\reach_6\\Processed.\n",
      "Generating URL ...\n",
      "Downloading data from https://earthengine.googleapis.com/v1/projects/earthengine-legacy/thumbnails/a8aa1ff01801145fec6a9f4001bcbc39-a51749af251b6bd169352a8b9359a8f4:getPixels\n",
      "Please wait ...\n",
      "Data downloaded to D:\\Madagascar\\Data\\RiverMapping\\RiverMasks\\Betsiboka\\reach_6\\Raw\\Betsiboka_reach_6_2003_DSWE_level_3.tif\n",
      "RAW: Successfully exported D:\\Madagascar\\Data\\RiverMapping\\RiverMasks\\Betsiboka\\reach_6\\Raw\\Betsiboka_reach_6_2003_DSWE_level_3.tif.\n"
     ]
    },
    {
     "name": "stderr",
     "output_type": "stream",
     "text": [
      "C:\\Users\\huckr\\AppData\\Local\\Temp\\ipykernel_22020\\949864737.py:469: UserWarning: Geometry is in a geographic CRS. Results from 'centroid' are likely incorrect. Use 'GeoSeries.to_crs()' to re-project geometries to a projected CRS before this operation.\n",
      "\n",
      "  centroid = grwl_reach_dissolved.geometry.centroid.iloc[0]\n"
     ]
    },
    {
     "name": "stdout",
     "output_type": "stream",
     "text": [
      "Raster successfully saved with compression to: D:\\Madagascar\\Data\\RiverMapping\\RiverMasks\\Betsiboka\\reach_6\\Processed\\Betsiboka_reach_6_2003_DSWE_level_3.tif\n",
      "Processed raster saved to: D:\\Madagascar\\Data\\RiverMapping\\RiverMasks\\Betsiboka\\reach_6\\Processed\\Betsiboka_reach_6_2003_DSWE_level_3.tif\n",
      "PROCESSED: Exported Betsiboka_reach_6_2003_DSWE_level_3.tif to D:\\Madagascar\\Data\\RiverMapping\\RiverMasks\\Betsiboka\\reach_6\\Processed.\n",
      "Generating URL ...\n",
      "Downloading data from https://earthengine.googleapis.com/v1/projects/earthengine-legacy/thumbnails/4e81bba9859b20de6d6197447d67d4a1-2033bfd87e6db40898dbb8c3d62b3cdf:getPixels\n",
      "Please wait ...\n",
      "Data downloaded to D:\\Madagascar\\Data\\RiverMapping\\RiverMasks\\Betsiboka\\reach_6\\Raw\\Betsiboka_reach_6_2004_DSWE_level_3.tif\n",
      "RAW: Successfully exported D:\\Madagascar\\Data\\RiverMapping\\RiverMasks\\Betsiboka\\reach_6\\Raw\\Betsiboka_reach_6_2004_DSWE_level_3.tif.\n"
     ]
    },
    {
     "name": "stderr",
     "output_type": "stream",
     "text": [
      "C:\\Users\\huckr\\AppData\\Local\\Temp\\ipykernel_22020\\949864737.py:469: UserWarning: Geometry is in a geographic CRS. Results from 'centroid' are likely incorrect. Use 'GeoSeries.to_crs()' to re-project geometries to a projected CRS before this operation.\n",
      "\n",
      "  centroid = grwl_reach_dissolved.geometry.centroid.iloc[0]\n"
     ]
    },
    {
     "name": "stdout",
     "output_type": "stream",
     "text": [
      "Raster successfully saved with compression to: D:\\Madagascar\\Data\\RiverMapping\\RiverMasks\\Betsiboka\\reach_6\\Processed\\Betsiboka_reach_6_2004_DSWE_level_3.tif\n",
      "Processed raster saved to: D:\\Madagascar\\Data\\RiverMapping\\RiverMasks\\Betsiboka\\reach_6\\Processed\\Betsiboka_reach_6_2004_DSWE_level_3.tif\n",
      "PROCESSED: Exported Betsiboka_reach_6_2004_DSWE_level_3.tif to D:\\Madagascar\\Data\\RiverMapping\\RiverMasks\\Betsiboka\\reach_6\\Processed.\n",
      "Generating URL ...\n",
      "Downloading data from https://earthengine.googleapis.com/v1/projects/earthengine-legacy/thumbnails/54f5b65ec9ac85e0741413d82ca9b4ab-1f872518c12ec303bdbd4330ef058156:getPixels\n",
      "Please wait ...\n",
      "Data downloaded to D:\\Madagascar\\Data\\RiverMapping\\RiverMasks\\Betsiboka\\reach_6\\Raw\\Betsiboka_reach_6_2005_DSWE_level_3.tif\n",
      "RAW: Successfully exported D:\\Madagascar\\Data\\RiverMapping\\RiverMasks\\Betsiboka\\reach_6\\Raw\\Betsiboka_reach_6_2005_DSWE_level_3.tif.\n"
     ]
    },
    {
     "name": "stderr",
     "output_type": "stream",
     "text": [
      "C:\\Users\\huckr\\AppData\\Local\\Temp\\ipykernel_22020\\949864737.py:469: UserWarning: Geometry is in a geographic CRS. Results from 'centroid' are likely incorrect. Use 'GeoSeries.to_crs()' to re-project geometries to a projected CRS before this operation.\n",
      "\n",
      "  centroid = grwl_reach_dissolved.geometry.centroid.iloc[0]\n"
     ]
    },
    {
     "name": "stdout",
     "output_type": "stream",
     "text": [
      "Raster successfully saved with compression to: D:\\Madagascar\\Data\\RiverMapping\\RiverMasks\\Betsiboka\\reach_6\\Processed\\Betsiboka_reach_6_2005_DSWE_level_3.tif\n",
      "Processed raster saved to: D:\\Madagascar\\Data\\RiverMapping\\RiverMasks\\Betsiboka\\reach_6\\Processed\\Betsiboka_reach_6_2005_DSWE_level_3.tif\n",
      "PROCESSED: Exported Betsiboka_reach_6_2005_DSWE_level_3.tif to D:\\Madagascar\\Data\\RiverMapping\\RiverMasks\\Betsiboka\\reach_6\\Processed.\n",
      "Generating URL ...\n",
      "Downloading data from https://earthengine.googleapis.com/v1/projects/earthengine-legacy/thumbnails/3ba2f838c04f975479f0d2d7c0ca06ef-428cf36ee8ffe22bd42cfe486cae0e45:getPixels\n",
      "Please wait ...\n",
      "Data downloaded to D:\\Madagascar\\Data\\RiverMapping\\RiverMasks\\Betsiboka\\reach_6\\Raw\\Betsiboka_reach_6_2006_DSWE_level_3.tif\n",
      "RAW: Successfully exported D:\\Madagascar\\Data\\RiverMapping\\RiverMasks\\Betsiboka\\reach_6\\Raw\\Betsiboka_reach_6_2006_DSWE_level_3.tif.\n"
     ]
    },
    {
     "name": "stderr",
     "output_type": "stream",
     "text": [
      "C:\\Users\\huckr\\AppData\\Local\\Temp\\ipykernel_22020\\949864737.py:469: UserWarning: Geometry is in a geographic CRS. Results from 'centroid' are likely incorrect. Use 'GeoSeries.to_crs()' to re-project geometries to a projected CRS before this operation.\n",
      "\n",
      "  centroid = grwl_reach_dissolved.geometry.centroid.iloc[0]\n"
     ]
    },
    {
     "name": "stdout",
     "output_type": "stream",
     "text": [
      "Raster successfully saved with compression to: D:\\Madagascar\\Data\\RiverMapping\\RiverMasks\\Betsiboka\\reach_6\\Processed\\Betsiboka_reach_6_2006_DSWE_level_3.tif\n",
      "Processed raster saved to: D:\\Madagascar\\Data\\RiverMapping\\RiverMasks\\Betsiboka\\reach_6\\Processed\\Betsiboka_reach_6_2006_DSWE_level_3.tif\n",
      "PROCESSED: Exported Betsiboka_reach_6_2006_DSWE_level_3.tif to D:\\Madagascar\\Data\\RiverMapping\\RiverMasks\\Betsiboka\\reach_6\\Processed.\n",
      "Generating URL ...\n",
      "Downloading data from https://earthengine.googleapis.com/v1/projects/earthengine-legacy/thumbnails/755f083c7984c3351de2db3d7b6ce7db-f5892049ed032595b9293ad28f369944:getPixels\n",
      "Please wait ...\n",
      "Data downloaded to D:\\Madagascar\\Data\\RiverMapping\\RiverMasks\\Betsiboka\\reach_6\\Raw\\Betsiboka_reach_6_2007_DSWE_level_3.tif\n",
      "RAW: Successfully exported D:\\Madagascar\\Data\\RiverMapping\\RiverMasks\\Betsiboka\\reach_6\\Raw\\Betsiboka_reach_6_2007_DSWE_level_3.tif.\n"
     ]
    },
    {
     "name": "stderr",
     "output_type": "stream",
     "text": [
      "C:\\Users\\huckr\\AppData\\Local\\Temp\\ipykernel_22020\\949864737.py:469: UserWarning: Geometry is in a geographic CRS. Results from 'centroid' are likely incorrect. Use 'GeoSeries.to_crs()' to re-project geometries to a projected CRS before this operation.\n",
      "\n",
      "  centroid = grwl_reach_dissolved.geometry.centroid.iloc[0]\n"
     ]
    },
    {
     "name": "stdout",
     "output_type": "stream",
     "text": [
      "Raster successfully saved with compression to: D:\\Madagascar\\Data\\RiverMapping\\RiverMasks\\Betsiboka\\reach_6\\Processed\\Betsiboka_reach_6_2007_DSWE_level_3.tif\n",
      "Processed raster saved to: D:\\Madagascar\\Data\\RiverMapping\\RiverMasks\\Betsiboka\\reach_6\\Processed\\Betsiboka_reach_6_2007_DSWE_level_3.tif\n",
      "PROCESSED: Exported Betsiboka_reach_6_2007_DSWE_level_3.tif to D:\\Madagascar\\Data\\RiverMapping\\RiverMasks\\Betsiboka\\reach_6\\Processed.\n",
      "Generating URL ...\n",
      "Downloading data from https://earthengine.googleapis.com/v1/projects/earthengine-legacy/thumbnails/e0513c906a190ce4d42c630571517d0c-851f569402410bfed25bd5982fd468d3:getPixels\n",
      "Please wait ...\n",
      "Data downloaded to D:\\Madagascar\\Data\\RiverMapping\\RiverMasks\\Betsiboka\\reach_6\\Raw\\Betsiboka_reach_6_2008_DSWE_level_3.tif\n",
      "RAW: Successfully exported D:\\Madagascar\\Data\\RiverMapping\\RiverMasks\\Betsiboka\\reach_6\\Raw\\Betsiboka_reach_6_2008_DSWE_level_3.tif.\n"
     ]
    },
    {
     "name": "stderr",
     "output_type": "stream",
     "text": [
      "C:\\Users\\huckr\\AppData\\Local\\Temp\\ipykernel_22020\\949864737.py:469: UserWarning: Geometry is in a geographic CRS. Results from 'centroid' are likely incorrect. Use 'GeoSeries.to_crs()' to re-project geometries to a projected CRS before this operation.\n",
      "\n",
      "  centroid = grwl_reach_dissolved.geometry.centroid.iloc[0]\n"
     ]
    },
    {
     "name": "stdout",
     "output_type": "stream",
     "text": [
      "Raster successfully saved with compression to: D:\\Madagascar\\Data\\RiverMapping\\RiverMasks\\Betsiboka\\reach_6\\Processed\\Betsiboka_reach_6_2008_DSWE_level_3.tif\n",
      "Processed raster saved to: D:\\Madagascar\\Data\\RiverMapping\\RiverMasks\\Betsiboka\\reach_6\\Processed\\Betsiboka_reach_6_2008_DSWE_level_3.tif\n",
      "PROCESSED: Exported Betsiboka_reach_6_2008_DSWE_level_3.tif to D:\\Madagascar\\Data\\RiverMapping\\RiverMasks\\Betsiboka\\reach_6\\Processed.\n",
      "Generating URL ...\n",
      "Downloading data from https://earthengine.googleapis.com/v1/projects/earthengine-legacy/thumbnails/1730e5a38921a3f1ee380495f8003870-d8a8dc381d088b74a71ed82baa231bdc:getPixels\n",
      "Please wait ...\n",
      "Data downloaded to D:\\Madagascar\\Data\\RiverMapping\\RiverMasks\\Betsiboka\\reach_6\\Raw\\Betsiboka_reach_6_2009_DSWE_level_3.tif\n",
      "RAW: Successfully exported D:\\Madagascar\\Data\\RiverMapping\\RiverMasks\\Betsiboka\\reach_6\\Raw\\Betsiboka_reach_6_2009_DSWE_level_3.tif.\n"
     ]
    },
    {
     "name": "stderr",
     "output_type": "stream",
     "text": [
      "C:\\Users\\huckr\\AppData\\Local\\Temp\\ipykernel_22020\\949864737.py:469: UserWarning: Geometry is in a geographic CRS. Results from 'centroid' are likely incorrect. Use 'GeoSeries.to_crs()' to re-project geometries to a projected CRS before this operation.\n",
      "\n",
      "  centroid = grwl_reach_dissolved.geometry.centroid.iloc[0]\n"
     ]
    },
    {
     "name": "stdout",
     "output_type": "stream",
     "text": [
      "Raster successfully saved with compression to: D:\\Madagascar\\Data\\RiverMapping\\RiverMasks\\Betsiboka\\reach_6\\Processed\\Betsiboka_reach_6_2009_DSWE_level_3.tif\n",
      "Processed raster saved to: D:\\Madagascar\\Data\\RiverMapping\\RiverMasks\\Betsiboka\\reach_6\\Processed\\Betsiboka_reach_6_2009_DSWE_level_3.tif\n",
      "PROCESSED: Exported Betsiboka_reach_6_2009_DSWE_level_3.tif to D:\\Madagascar\\Data\\RiverMapping\\RiverMasks\\Betsiboka\\reach_6\\Processed.\n",
      "Generating URL ...\n",
      "Downloading data from https://earthengine.googleapis.com/v1/projects/earthengine-legacy/thumbnails/e8366ff85376f9a4bea050e526897ec1-1b9d18d3b0bdd3efdb0383594ecc0dbb:getPixels\n",
      "Please wait ...\n",
      "Data downloaded to D:\\Madagascar\\Data\\RiverMapping\\RiverMasks\\Betsiboka\\reach_6\\Raw\\Betsiboka_reach_6_2010_DSWE_level_3.tif\n",
      "RAW: Successfully exported D:\\Madagascar\\Data\\RiverMapping\\RiverMasks\\Betsiboka\\reach_6\\Raw\\Betsiboka_reach_6_2010_DSWE_level_3.tif.\n"
     ]
    },
    {
     "name": "stderr",
     "output_type": "stream",
     "text": [
      "C:\\Users\\huckr\\AppData\\Local\\Temp\\ipykernel_22020\\949864737.py:469: UserWarning: Geometry is in a geographic CRS. Results from 'centroid' are likely incorrect. Use 'GeoSeries.to_crs()' to re-project geometries to a projected CRS before this operation.\n",
      "\n",
      "  centroid = grwl_reach_dissolved.geometry.centroid.iloc[0]\n"
     ]
    },
    {
     "name": "stdout",
     "output_type": "stream",
     "text": [
      "Raster successfully saved with compression to: D:\\Madagascar\\Data\\RiverMapping\\RiverMasks\\Betsiboka\\reach_6\\Processed\\Betsiboka_reach_6_2010_DSWE_level_3.tif\n",
      "Processed raster saved to: D:\\Madagascar\\Data\\RiverMapping\\RiverMasks\\Betsiboka\\reach_6\\Processed\\Betsiboka_reach_6_2010_DSWE_level_3.tif\n",
      "PROCESSED: Exported Betsiboka_reach_6_2010_DSWE_level_3.tif to D:\\Madagascar\\Data\\RiverMapping\\RiverMasks\\Betsiboka\\reach_6\\Processed.\n",
      "Generating URL ...\n",
      "Downloading data from https://earthengine.googleapis.com/v1/projects/earthengine-legacy/thumbnails/2d295309f45da59c0e504ca6fbdce495-76d3aedef7b8f2999871dc617f0bfe20:getPixels\n",
      "Please wait ...\n",
      "Data downloaded to D:\\Madagascar\\Data\\RiverMapping\\RiverMasks\\Betsiboka\\reach_6\\Raw\\Betsiboka_reach_6_2011_DSWE_level_3.tif\n",
      "RAW: Successfully exported D:\\Madagascar\\Data\\RiverMapping\\RiverMasks\\Betsiboka\\reach_6\\Raw\\Betsiboka_reach_6_2011_DSWE_level_3.tif.\n"
     ]
    },
    {
     "name": "stderr",
     "output_type": "stream",
     "text": [
      "C:\\Users\\huckr\\AppData\\Local\\Temp\\ipykernel_22020\\949864737.py:469: UserWarning: Geometry is in a geographic CRS. Results from 'centroid' are likely incorrect. Use 'GeoSeries.to_crs()' to re-project geometries to a projected CRS before this operation.\n",
      "\n",
      "  centroid = grwl_reach_dissolved.geometry.centroid.iloc[0]\n"
     ]
    },
    {
     "name": "stdout",
     "output_type": "stream",
     "text": [
      "Raster successfully saved with compression to: D:\\Madagascar\\Data\\RiverMapping\\RiverMasks\\Betsiboka\\reach_6\\Processed\\Betsiboka_reach_6_2011_DSWE_level_3.tif\n",
      "Processed raster saved to: D:\\Madagascar\\Data\\RiverMapping\\RiverMasks\\Betsiboka\\reach_6\\Processed\\Betsiboka_reach_6_2011_DSWE_level_3.tif\n",
      "PROCESSED: Exported Betsiboka_reach_6_2011_DSWE_level_3.tif to D:\\Madagascar\\Data\\RiverMapping\\RiverMasks\\Betsiboka\\reach_6\\Processed.\n",
      "Generating URL ...\n",
      "An error occurred while downloading.\n",
      "Image.select: Band pattern 'Nir' was applied to an Image with no bands. See https://developers.google.com/earth-engine/guides/debugging#no-bands\n",
      "Export failed: File D:\\Madagascar\\Data\\RiverMapping\\RiverMasks\\Betsiboka\\reach_6\\Raw\\Betsiboka_reach_6_2012_DSWE_level_3.tif not found.\n",
      "Export failed for Betsiboka_reach_6_2012_DSWE_level_3.tif, attempting tiling...\n",
      "Generating URL ...\n",
      "An error occurred while downloading.\n",
      "Image.select: Band pattern 'Nir' was applied to an Image with no bands. See https://developers.google.com/earth-engine/guides/debugging#no-bands\n",
      "Export failed: File D:\\Madagascar\\Data\\RiverMapping\\RiverMasks\\Betsiboka\\reach_6\\Raw\\Betsiboka_reach_6_2012_tile_0_DSWE_level_3.tif not found.\n",
      "Generating URL ...\n",
      "An error occurred while downloading.\n",
      "Image.select: Band pattern 'Swir2' was applied to an Image with no bands. See https://developers.google.com/earth-engine/guides/debugging#no-bands\n",
      "Export failed: File D:\\Madagascar\\Data\\RiverMapping\\RiverMasks\\Betsiboka\\reach_6\\Raw\\Betsiboka_reach_6_2012_tile_1_DSWE_level_3.tif not found.\n",
      "Generating URL ...\n",
      "An error occurred while downloading.\n",
      "Image.select: Band pattern 'Nir' was applied to an Image with no bands. See https://developers.google.com/earth-engine/guides/debugging#no-bands\n",
      "Export failed: File D:\\Madagascar\\Data\\RiverMapping\\RiverMasks\\Betsiboka\\reach_6\\Raw\\Betsiboka_reach_6_2012_tile_2_DSWE_level_3.tif not found.\n",
      "Generating URL ...\n",
      "An error occurred while downloading.\n",
      "Image.select: Band pattern 'Nir' was applied to an Image with no bands. See https://developers.google.com/earth-engine/guides/debugging#no-bands\n",
      "Export failed: File D:\\Madagascar\\Data\\RiverMapping\\RiverMasks\\Betsiboka\\reach_6\\Raw\\Betsiboka_reach_6_2012_tile_3_DSWE_level_3.tif not found.\n",
      "No tiles found for stitching.\n",
      "Failed to export Betsiboka_reach_6_2012_DSWE_level_3.tif. Error: D:/Madagascar/Data/RiverMapping/RiverMasks/Betsiboka/reach_6/Raw/Betsiboka_reach_6_2012_DSWE_level_3.tif: No such file or directory\n",
      "Generating URL ...\n",
      "Downloading data from https://earthengine.googleapis.com/v1/projects/earthengine-legacy/thumbnails/b00e90eb4ebbcabfca3642bb7a851c6e-e3b71cad7c1765b63c1ff6b34e1f896e:getPixels\n",
      "Please wait ...\n",
      "Data downloaded to D:\\Madagascar\\Data\\RiverMapping\\RiverMasks\\Betsiboka\\reach_6\\Raw\\Betsiboka_reach_6_2013_DSWE_level_3.tif\n",
      "RAW: Successfully exported D:\\Madagascar\\Data\\RiverMapping\\RiverMasks\\Betsiboka\\reach_6\\Raw\\Betsiboka_reach_6_2013_DSWE_level_3.tif.\n"
     ]
    },
    {
     "name": "stderr",
     "output_type": "stream",
     "text": [
      "C:\\Users\\huckr\\AppData\\Local\\Temp\\ipykernel_22020\\949864737.py:469: UserWarning: Geometry is in a geographic CRS. Results from 'centroid' are likely incorrect. Use 'GeoSeries.to_crs()' to re-project geometries to a projected CRS before this operation.\n",
      "\n",
      "  centroid = grwl_reach_dissolved.geometry.centroid.iloc[0]\n"
     ]
    },
    {
     "name": "stdout",
     "output_type": "stream",
     "text": [
      "Raster successfully saved with compression to: D:\\Madagascar\\Data\\RiverMapping\\RiverMasks\\Betsiboka\\reach_6\\Processed\\Betsiboka_reach_6_2013_DSWE_level_3.tif\n",
      "Processed raster saved to: D:\\Madagascar\\Data\\RiverMapping\\RiverMasks\\Betsiboka\\reach_6\\Processed\\Betsiboka_reach_6_2013_DSWE_level_3.tif\n",
      "PROCESSED: Exported Betsiboka_reach_6_2013_DSWE_level_3.tif to D:\\Madagascar\\Data\\RiverMapping\\RiverMasks\\Betsiboka\\reach_6\\Processed.\n",
      "Generating URL ...\n",
      "Downloading data from https://earthengine.googleapis.com/v1/projects/earthengine-legacy/thumbnails/4a291c51c3c73acfb6775190e4abf856-5c4ba6666fd7943a2e9fe51dca239b7d:getPixels\n",
      "Please wait ...\n",
      "Data downloaded to D:\\Madagascar\\Data\\RiverMapping\\RiverMasks\\Betsiboka\\reach_6\\Raw\\Betsiboka_reach_6_2014_DSWE_level_3.tif\n",
      "RAW: Successfully exported D:\\Madagascar\\Data\\RiverMapping\\RiverMasks\\Betsiboka\\reach_6\\Raw\\Betsiboka_reach_6_2014_DSWE_level_3.tif.\n"
     ]
    },
    {
     "name": "stderr",
     "output_type": "stream",
     "text": [
      "C:\\Users\\huckr\\AppData\\Local\\Temp\\ipykernel_22020\\949864737.py:469: UserWarning: Geometry is in a geographic CRS. Results from 'centroid' are likely incorrect. Use 'GeoSeries.to_crs()' to re-project geometries to a projected CRS before this operation.\n",
      "\n",
      "  centroid = grwl_reach_dissolved.geometry.centroid.iloc[0]\n"
     ]
    },
    {
     "name": "stdout",
     "output_type": "stream",
     "text": [
      "Raster successfully saved with compression to: D:\\Madagascar\\Data\\RiverMapping\\RiverMasks\\Betsiboka\\reach_6\\Processed\\Betsiboka_reach_6_2014_DSWE_level_3.tif\n",
      "Processed raster saved to: D:\\Madagascar\\Data\\RiverMapping\\RiverMasks\\Betsiboka\\reach_6\\Processed\\Betsiboka_reach_6_2014_DSWE_level_3.tif\n",
      "PROCESSED: Exported Betsiboka_reach_6_2014_DSWE_level_3.tif to D:\\Madagascar\\Data\\RiverMapping\\RiverMasks\\Betsiboka\\reach_6\\Processed.\n",
      "Generating URL ...\n",
      "Downloading data from https://earthengine.googleapis.com/v1/projects/earthengine-legacy/thumbnails/e70da7f999c0c6170d68f445dc1169d5-caf42ce5f446c0fa42a9a87a412a7981:getPixels\n",
      "Please wait ...\n",
      "Data downloaded to D:\\Madagascar\\Data\\RiverMapping\\RiverMasks\\Betsiboka\\reach_6\\Raw\\Betsiboka_reach_6_2015_DSWE_level_3.tif\n",
      "RAW: Successfully exported D:\\Madagascar\\Data\\RiverMapping\\RiverMasks\\Betsiboka\\reach_6\\Raw\\Betsiboka_reach_6_2015_DSWE_level_3.tif.\n"
     ]
    },
    {
     "name": "stderr",
     "output_type": "stream",
     "text": [
      "C:\\Users\\huckr\\AppData\\Local\\Temp\\ipykernel_22020\\949864737.py:469: UserWarning: Geometry is in a geographic CRS. Results from 'centroid' are likely incorrect. Use 'GeoSeries.to_crs()' to re-project geometries to a projected CRS before this operation.\n",
      "\n",
      "  centroid = grwl_reach_dissolved.geometry.centroid.iloc[0]\n"
     ]
    },
    {
     "name": "stdout",
     "output_type": "stream",
     "text": [
      "Raster successfully saved with compression to: D:\\Madagascar\\Data\\RiverMapping\\RiverMasks\\Betsiboka\\reach_6\\Processed\\Betsiboka_reach_6_2015_DSWE_level_3.tif\n",
      "Processed raster saved to: D:\\Madagascar\\Data\\RiverMapping\\RiverMasks\\Betsiboka\\reach_6\\Processed\\Betsiboka_reach_6_2015_DSWE_level_3.tif\n",
      "PROCESSED: Exported Betsiboka_reach_6_2015_DSWE_level_3.tif to D:\\Madagascar\\Data\\RiverMapping\\RiverMasks\\Betsiboka\\reach_6\\Processed.\n",
      "Generating URL ...\n",
      "Downloading data from https://earthengine.googleapis.com/v1/projects/earthengine-legacy/thumbnails/56429da54ac78442835a987c28989e6d-152a3ab667e4d51c078739f979502ffb:getPixels\n",
      "Please wait ...\n",
      "Data downloaded to D:\\Madagascar\\Data\\RiverMapping\\RiverMasks\\Betsiboka\\reach_6\\Raw\\Betsiboka_reach_6_2016_DSWE_level_3.tif\n",
      "RAW: Successfully exported D:\\Madagascar\\Data\\RiverMapping\\RiverMasks\\Betsiboka\\reach_6\\Raw\\Betsiboka_reach_6_2016_DSWE_level_3.tif.\n"
     ]
    },
    {
     "name": "stderr",
     "output_type": "stream",
     "text": [
      "C:\\Users\\huckr\\AppData\\Local\\Temp\\ipykernel_22020\\949864737.py:469: UserWarning: Geometry is in a geographic CRS. Results from 'centroid' are likely incorrect. Use 'GeoSeries.to_crs()' to re-project geometries to a projected CRS before this operation.\n",
      "\n",
      "  centroid = grwl_reach_dissolved.geometry.centroid.iloc[0]\n"
     ]
    },
    {
     "name": "stdout",
     "output_type": "stream",
     "text": [
      "Raster successfully saved with compression to: D:\\Madagascar\\Data\\RiverMapping\\RiverMasks\\Betsiboka\\reach_6\\Processed\\Betsiboka_reach_6_2016_DSWE_level_3.tif\n",
      "Processed raster saved to: D:\\Madagascar\\Data\\RiverMapping\\RiverMasks\\Betsiboka\\reach_6\\Processed\\Betsiboka_reach_6_2016_DSWE_level_3.tif\n",
      "PROCESSED: Exported Betsiboka_reach_6_2016_DSWE_level_3.tif to D:\\Madagascar\\Data\\RiverMapping\\RiverMasks\\Betsiboka\\reach_6\\Processed.\n",
      "Generating URL ...\n",
      "Downloading data from https://earthengine.googleapis.com/v1/projects/earthengine-legacy/thumbnails/ed8a7ba9a50f2912ec9dd9e25a1faba9-384b1b85df9530387de91e53673e98b3:getPixels\n",
      "Please wait ...\n",
      "Data downloaded to D:\\Madagascar\\Data\\RiverMapping\\RiverMasks\\Betsiboka\\reach_6\\Raw\\Betsiboka_reach_6_2017_DSWE_level_3.tif\n",
      "RAW: Successfully exported D:\\Madagascar\\Data\\RiverMapping\\RiverMasks\\Betsiboka\\reach_6\\Raw\\Betsiboka_reach_6_2017_DSWE_level_3.tif.\n"
     ]
    },
    {
     "name": "stderr",
     "output_type": "stream",
     "text": [
      "C:\\Users\\huckr\\AppData\\Local\\Temp\\ipykernel_22020\\949864737.py:469: UserWarning: Geometry is in a geographic CRS. Results from 'centroid' are likely incorrect. Use 'GeoSeries.to_crs()' to re-project geometries to a projected CRS before this operation.\n",
      "\n",
      "  centroid = grwl_reach_dissolved.geometry.centroid.iloc[0]\n"
     ]
    },
    {
     "name": "stdout",
     "output_type": "stream",
     "text": [
      "Raster successfully saved with compression to: D:\\Madagascar\\Data\\RiverMapping\\RiverMasks\\Betsiboka\\reach_6\\Processed\\Betsiboka_reach_6_2017_DSWE_level_3.tif\n",
      "Processed raster saved to: D:\\Madagascar\\Data\\RiverMapping\\RiverMasks\\Betsiboka\\reach_6\\Processed\\Betsiboka_reach_6_2017_DSWE_level_3.tif\n",
      "PROCESSED: Exported Betsiboka_reach_6_2017_DSWE_level_3.tif to D:\\Madagascar\\Data\\RiverMapping\\RiverMasks\\Betsiboka\\reach_6\\Processed.\n",
      "Generating URL ...\n",
      "Downloading data from https://earthengine.googleapis.com/v1/projects/earthengine-legacy/thumbnails/85db56c3c5424d1b6c45361eee08f753-c6656ed8bd300e3b10a09a077d1dec17:getPixels\n",
      "Please wait ...\n",
      "Data downloaded to D:\\Madagascar\\Data\\RiverMapping\\RiverMasks\\Betsiboka\\reach_6\\Raw\\Betsiboka_reach_6_2018_DSWE_level_3.tif\n",
      "RAW: Successfully exported D:\\Madagascar\\Data\\RiverMapping\\RiverMasks\\Betsiboka\\reach_6\\Raw\\Betsiboka_reach_6_2018_DSWE_level_3.tif.\n"
     ]
    },
    {
     "name": "stderr",
     "output_type": "stream",
     "text": [
      "C:\\Users\\huckr\\AppData\\Local\\Temp\\ipykernel_22020\\949864737.py:469: UserWarning: Geometry is in a geographic CRS. Results from 'centroid' are likely incorrect. Use 'GeoSeries.to_crs()' to re-project geometries to a projected CRS before this operation.\n",
      "\n",
      "  centroid = grwl_reach_dissolved.geometry.centroid.iloc[0]\n"
     ]
    },
    {
     "name": "stdout",
     "output_type": "stream",
     "text": [
      "Raster successfully saved with compression to: D:\\Madagascar\\Data\\RiverMapping\\RiverMasks\\Betsiboka\\reach_6\\Processed\\Betsiboka_reach_6_2018_DSWE_level_3.tif\n",
      "Processed raster saved to: D:\\Madagascar\\Data\\RiverMapping\\RiverMasks\\Betsiboka\\reach_6\\Processed\\Betsiboka_reach_6_2018_DSWE_level_3.tif\n",
      "PROCESSED: Exported Betsiboka_reach_6_2018_DSWE_level_3.tif to D:\\Madagascar\\Data\\RiverMapping\\RiverMasks\\Betsiboka\\reach_6\\Processed.\n",
      "Generating URL ...\n",
      "Downloading data from https://earthengine.googleapis.com/v1/projects/earthengine-legacy/thumbnails/1afcd5e6f4d650b2265abed8b4d71a3a-6281f8abb27d43bcb035bf35063043e4:getPixels\n",
      "Please wait ...\n",
      "Data downloaded to D:\\Madagascar\\Data\\RiverMapping\\RiverMasks\\Betsiboka\\reach_6\\Raw\\Betsiboka_reach_6_2019_DSWE_level_3.tif\n",
      "RAW: Successfully exported D:\\Madagascar\\Data\\RiverMapping\\RiverMasks\\Betsiboka\\reach_6\\Raw\\Betsiboka_reach_6_2019_DSWE_level_3.tif.\n"
     ]
    },
    {
     "name": "stderr",
     "output_type": "stream",
     "text": [
      "C:\\Users\\huckr\\AppData\\Local\\Temp\\ipykernel_22020\\949864737.py:469: UserWarning: Geometry is in a geographic CRS. Results from 'centroid' are likely incorrect. Use 'GeoSeries.to_crs()' to re-project geometries to a projected CRS before this operation.\n",
      "\n",
      "  centroid = grwl_reach_dissolved.geometry.centroid.iloc[0]\n"
     ]
    },
    {
     "name": "stdout",
     "output_type": "stream",
     "text": [
      "Raster successfully saved with compression to: D:\\Madagascar\\Data\\RiverMapping\\RiverMasks\\Betsiboka\\reach_6\\Processed\\Betsiboka_reach_6_2019_DSWE_level_3.tif\n",
      "Processed raster saved to: D:\\Madagascar\\Data\\RiverMapping\\RiverMasks\\Betsiboka\\reach_6\\Processed\\Betsiboka_reach_6_2019_DSWE_level_3.tif\n",
      "PROCESSED: Exported Betsiboka_reach_6_2019_DSWE_level_3.tif to D:\\Madagascar\\Data\\RiverMapping\\RiverMasks\\Betsiboka\\reach_6\\Processed.\n",
      "Generating URL ...\n",
      "Downloading data from https://earthengine.googleapis.com/v1/projects/earthengine-legacy/thumbnails/22a0bda0deea3e2fdf068bf46fe39d5c-f88975be471f33e92b773c1fbb34b95f:getPixels\n",
      "Please wait ...\n",
      "Data downloaded to D:\\Madagascar\\Data\\RiverMapping\\RiverMasks\\Betsiboka\\reach_6\\Raw\\Betsiboka_reach_6_2020_DSWE_level_3.tif\n",
      "RAW: Successfully exported D:\\Madagascar\\Data\\RiverMapping\\RiverMasks\\Betsiboka\\reach_6\\Raw\\Betsiboka_reach_6_2020_DSWE_level_3.tif.\n"
     ]
    },
    {
     "name": "stderr",
     "output_type": "stream",
     "text": [
      "C:\\Users\\huckr\\AppData\\Local\\Temp\\ipykernel_22020\\949864737.py:469: UserWarning: Geometry is in a geographic CRS. Results from 'centroid' are likely incorrect. Use 'GeoSeries.to_crs()' to re-project geometries to a projected CRS before this operation.\n",
      "\n",
      "  centroid = grwl_reach_dissolved.geometry.centroid.iloc[0]\n"
     ]
    },
    {
     "name": "stdout",
     "output_type": "stream",
     "text": [
      "Raster successfully saved with compression to: D:\\Madagascar\\Data\\RiverMapping\\RiverMasks\\Betsiboka\\reach_6\\Processed\\Betsiboka_reach_6_2020_DSWE_level_3.tif\n",
      "Processed raster saved to: D:\\Madagascar\\Data\\RiverMapping\\RiverMasks\\Betsiboka\\reach_6\\Processed\\Betsiboka_reach_6_2020_DSWE_level_3.tif\n",
      "PROCESSED: Exported Betsiboka_reach_6_2020_DSWE_level_3.tif to D:\\Madagascar\\Data\\RiverMapping\\RiverMasks\\Betsiboka\\reach_6\\Processed.\n",
      "Generating URL ...\n",
      "Downloading data from https://earthengine.googleapis.com/v1/projects/earthengine-legacy/thumbnails/7ab35ee059ef90ba1f4310ccb741a433-89c84a2f8b3bf417a067788f2cfe85d4:getPixels\n",
      "Please wait ...\n",
      "Data downloaded to D:\\Madagascar\\Data\\RiverMapping\\RiverMasks\\Betsiboka\\reach_6\\Raw\\Betsiboka_reach_6_2021_DSWE_level_3.tif\n",
      "RAW: Successfully exported D:\\Madagascar\\Data\\RiverMapping\\RiverMasks\\Betsiboka\\reach_6\\Raw\\Betsiboka_reach_6_2021_DSWE_level_3.tif.\n"
     ]
    },
    {
     "name": "stderr",
     "output_type": "stream",
     "text": [
      "C:\\Users\\huckr\\AppData\\Local\\Temp\\ipykernel_22020\\949864737.py:469: UserWarning: Geometry is in a geographic CRS. Results from 'centroid' are likely incorrect. Use 'GeoSeries.to_crs()' to re-project geometries to a projected CRS before this operation.\n",
      "\n",
      "  centroid = grwl_reach_dissolved.geometry.centroid.iloc[0]\n"
     ]
    },
    {
     "name": "stdout",
     "output_type": "stream",
     "text": [
      "Raster successfully saved with compression to: D:\\Madagascar\\Data\\RiverMapping\\RiverMasks\\Betsiboka\\reach_6\\Processed\\Betsiboka_reach_6_2021_DSWE_level_3.tif\n",
      "Processed raster saved to: D:\\Madagascar\\Data\\RiverMapping\\RiverMasks\\Betsiboka\\reach_6\\Processed\\Betsiboka_reach_6_2021_DSWE_level_3.tif\n",
      "PROCESSED: Exported Betsiboka_reach_6_2021_DSWE_level_3.tif to D:\\Madagascar\\Data\\RiverMapping\\RiverMasks\\Betsiboka\\reach_6\\Processed.\n",
      "Generating URL ...\n",
      "Downloading data from https://earthengine.googleapis.com/v1/projects/earthengine-legacy/thumbnails/93ba8cd739e84237935fe73653bf8a83-005ea7c6aeca147394589dbb76cc2e2d:getPixels\n",
      "Please wait ...\n",
      "An error occurred while downloading.\n",
      "Export failed: File D:\\Madagascar\\Data\\RiverMapping\\RiverMasks\\Betsiboka\\reach_6\\Raw\\Betsiboka_reach_6_2022_DSWE_level_3.tif not found.\n",
      "Export failed for Betsiboka_reach_6_2022_DSWE_level_3.tif, attempting tiling...\n",
      "Generating URL ...\n",
      "Downloading data from https://earthengine.googleapis.com/v1/projects/earthengine-legacy/thumbnails/5047050cc64eb4b86f4686fcf5ff3ae2-c0738f637f15d430a5dece92af2ce8c2:getPixels\n",
      "Please wait ...\n",
      "Data downloaded to D:\\Madagascar\\Data\\RiverMapping\\RiverMasks\\Betsiboka\\reach_6\\Raw\\Betsiboka_reach_6_2022_tile_0_DSWE_level_3.tif\n",
      "RAW: Successfully exported D:\\Madagascar\\Data\\RiverMapping\\RiverMasks\\Betsiboka\\reach_6\\Raw\\Betsiboka_reach_6_2022_tile_0_DSWE_level_3.tif.\n",
      "Generating URL ...\n",
      "Downloading data from https://earthengine.googleapis.com/v1/projects/earthengine-legacy/thumbnails/4f2e9154e3f6a3ac2851d130b225c6e1-0cb249aad3968e43236e558a8196ed6e:getPixels\n",
      "Please wait ...\n",
      "Data downloaded to D:\\Madagascar\\Data\\RiverMapping\\RiverMasks\\Betsiboka\\reach_6\\Raw\\Betsiboka_reach_6_2022_tile_1_DSWE_level_3.tif\n",
      "RAW: Successfully exported D:\\Madagascar\\Data\\RiverMapping\\RiverMasks\\Betsiboka\\reach_6\\Raw\\Betsiboka_reach_6_2022_tile_1_DSWE_level_3.tif.\n",
      "Generating URL ...\n",
      "Downloading data from https://earthengine.googleapis.com/v1/projects/earthengine-legacy/thumbnails/6a88a5eaab5551d1775441bb094058b6-b422b922906408f6d11c7a0a468c73c7:getPixels\n",
      "Please wait ...\n",
      "Data downloaded to D:\\Madagascar\\Data\\RiverMapping\\RiverMasks\\Betsiboka\\reach_6\\Raw\\Betsiboka_reach_6_2022_tile_2_DSWE_level_3.tif\n",
      "RAW: Successfully exported D:\\Madagascar\\Data\\RiverMapping\\RiverMasks\\Betsiboka\\reach_6\\Raw\\Betsiboka_reach_6_2022_tile_2_DSWE_level_3.tif.\n",
      "Generating URL ...\n",
      "Downloading data from https://earthengine.googleapis.com/v1/projects/earthengine-legacy/thumbnails/3dbee1b04d88344b900a4a4e0a1d7235-cf5a12cff985496529e37d037b933f02:getPixels\n",
      "Please wait ...\n",
      "Data downloaded to D:\\Madagascar\\Data\\RiverMapping\\RiverMasks\\Betsiboka\\reach_6\\Raw\\Betsiboka_reach_6_2022_tile_3_DSWE_level_3.tif\n",
      "RAW: Successfully exported D:\\Madagascar\\Data\\RiverMapping\\RiverMasks\\Betsiboka\\reach_6\\Raw\\Betsiboka_reach_6_2022_tile_3_DSWE_level_3.tif.\n",
      "Stitching tiles into D:\\Madagascar\\Data\\RiverMapping\\RiverMasks\\Betsiboka\\reach_6\\Raw\\Betsiboka_reach_6_2022_DSWE_level_3.tif...\n",
      "Tiles successfully stitched into D:\\Madagascar\\Data\\RiverMapping\\RiverMasks\\Betsiboka\\reach_6\\Raw\\Betsiboka_reach_6_2022_DSWE_level_3.tif.\n",
      "Deleted tile: D:\\Madagascar\\Data\\RiverMapping\\RiverMasks\\Betsiboka\\reach_6\\Raw\\Betsiboka_reach_6_2022_tile_0_DSWE_level_3.tif\n",
      "Deleted tile: D:\\Madagascar\\Data\\RiverMapping\\RiverMasks\\Betsiboka\\reach_6\\Raw\\Betsiboka_reach_6_2022_tile_1_DSWE_level_3.tif\n",
      "Deleted tile: D:\\Madagascar\\Data\\RiverMapping\\RiverMasks\\Betsiboka\\reach_6\\Raw\\Betsiboka_reach_6_2022_tile_2_DSWE_level_3.tif\n",
      "Deleted tile: D:\\Madagascar\\Data\\RiverMapping\\RiverMasks\\Betsiboka\\reach_6\\Raw\\Betsiboka_reach_6_2022_tile_3_DSWE_level_3.tif\n"
     ]
    },
    {
     "name": "stderr",
     "output_type": "stream",
     "text": [
      "C:\\Users\\huckr\\AppData\\Local\\Temp\\ipykernel_22020\\949864737.py:469: UserWarning: Geometry is in a geographic CRS. Results from 'centroid' are likely incorrect. Use 'GeoSeries.to_crs()' to re-project geometries to a projected CRS before this operation.\n",
      "\n",
      "  centroid = grwl_reach_dissolved.geometry.centroid.iloc[0]\n"
     ]
    },
    {
     "name": "stdout",
     "output_type": "stream",
     "text": [
      "Raster successfully saved with compression to: D:\\Madagascar\\Data\\RiverMapping\\RiverMasks\\Betsiboka\\reach_6\\Processed\\Betsiboka_reach_6_2022_DSWE_level_3.tif\n",
      "Processed raster saved to: D:\\Madagascar\\Data\\RiverMapping\\RiverMasks\\Betsiboka\\reach_6\\Processed\\Betsiboka_reach_6_2022_DSWE_level_3.tif\n",
      "PROCESSED: Exported Betsiboka_reach_6_2022_DSWE_level_3.tif to D:\\Madagascar\\Data\\RiverMapping\\RiverMasks\\Betsiboka\\reach_6\\Processed.\n",
      "Generating URL ...\n",
      "Downloading data from https://earthengine.googleapis.com/v1/projects/earthengine-legacy/thumbnails/ee9a90ff05eab32ed1a07248b85f3376-e6d9d0324281a62e7ad22ee4492c7c86:getPixels\n",
      "Please wait ...\n",
      "An error occurred while downloading.\n",
      "Export failed: File D:\\Madagascar\\Data\\RiverMapping\\RiverMasks\\Betsiboka\\reach_6\\Raw\\Betsiboka_reach_6_2023_DSWE_level_3.tif not found.\n",
      "Export failed for Betsiboka_reach_6_2023_DSWE_level_3.tif, attempting tiling...\n",
      "Generating URL ...\n",
      "Downloading data from https://earthengine.googleapis.com/v1/projects/earthengine-legacy/thumbnails/c945d3150fc051a8cbc52d7d861ab9f8-c0b8878f325bdc49bbc8bc836b2cc3a5:getPixels\n",
      "Please wait ...\n",
      "Data downloaded to D:\\Madagascar\\Data\\RiverMapping\\RiverMasks\\Betsiboka\\reach_6\\Raw\\Betsiboka_reach_6_2023_tile_0_DSWE_level_3.tif\n",
      "RAW: Successfully exported D:\\Madagascar\\Data\\RiverMapping\\RiverMasks\\Betsiboka\\reach_6\\Raw\\Betsiboka_reach_6_2023_tile_0_DSWE_level_3.tif.\n",
      "Generating URL ...\n",
      "Downloading data from https://earthengine.googleapis.com/v1/projects/earthengine-legacy/thumbnails/cd3a74da1f5e24d177f241f0499670f5-8eb85c89069af299e0cc90bc634020fd:getPixels\n",
      "Please wait ...\n",
      "Data downloaded to D:\\Madagascar\\Data\\RiverMapping\\RiverMasks\\Betsiboka\\reach_6\\Raw\\Betsiboka_reach_6_2023_tile_1_DSWE_level_3.tif\n",
      "RAW: Successfully exported D:\\Madagascar\\Data\\RiverMapping\\RiverMasks\\Betsiboka\\reach_6\\Raw\\Betsiboka_reach_6_2023_tile_1_DSWE_level_3.tif.\n",
      "Generating URL ...\n",
      "Downloading data from https://earthengine.googleapis.com/v1/projects/earthengine-legacy/thumbnails/4eb17084b45838d5e089232a965afadc-5f7d77611aae49437797706dba20163e:getPixels\n",
      "Please wait ...\n",
      "Data downloaded to D:\\Madagascar\\Data\\RiverMapping\\RiverMasks\\Betsiboka\\reach_6\\Raw\\Betsiboka_reach_6_2023_tile_2_DSWE_level_3.tif\n",
      "RAW: Successfully exported D:\\Madagascar\\Data\\RiverMapping\\RiverMasks\\Betsiboka\\reach_6\\Raw\\Betsiboka_reach_6_2023_tile_2_DSWE_level_3.tif.\n",
      "Generating URL ...\n",
      "Downloading data from https://earthengine.googleapis.com/v1/projects/earthengine-legacy/thumbnails/9cdf4eed106a85cff66f1752ff88c4ed-2054efe3ef7b3f789c1aff4a1aae3e96:getPixels\n",
      "Please wait ...\n",
      "Data downloaded to D:\\Madagascar\\Data\\RiverMapping\\RiverMasks\\Betsiboka\\reach_6\\Raw\\Betsiboka_reach_6_2023_tile_3_DSWE_level_3.tif\n",
      "RAW: Successfully exported D:\\Madagascar\\Data\\RiverMapping\\RiverMasks\\Betsiboka\\reach_6\\Raw\\Betsiboka_reach_6_2023_tile_3_DSWE_level_3.tif.\n",
      "Stitching tiles into D:\\Madagascar\\Data\\RiverMapping\\RiverMasks\\Betsiboka\\reach_6\\Raw\\Betsiboka_reach_6_2023_DSWE_level_3.tif...\n",
      "Tiles successfully stitched into D:\\Madagascar\\Data\\RiverMapping\\RiverMasks\\Betsiboka\\reach_6\\Raw\\Betsiboka_reach_6_2023_DSWE_level_3.tif.\n",
      "Deleted tile: D:\\Madagascar\\Data\\RiverMapping\\RiverMasks\\Betsiboka\\reach_6\\Raw\\Betsiboka_reach_6_2023_tile_0_DSWE_level_3.tif\n",
      "Deleted tile: D:\\Madagascar\\Data\\RiverMapping\\RiverMasks\\Betsiboka\\reach_6\\Raw\\Betsiboka_reach_6_2023_tile_1_DSWE_level_3.tif\n",
      "Deleted tile: D:\\Madagascar\\Data\\RiverMapping\\RiverMasks\\Betsiboka\\reach_6\\Raw\\Betsiboka_reach_6_2023_tile_2_DSWE_level_3.tif\n",
      "Deleted tile: D:\\Madagascar\\Data\\RiverMapping\\RiverMasks\\Betsiboka\\reach_6\\Raw\\Betsiboka_reach_6_2023_tile_3_DSWE_level_3.tif\n"
     ]
    },
    {
     "name": "stderr",
     "output_type": "stream",
     "text": [
      "C:\\Users\\huckr\\AppData\\Local\\Temp\\ipykernel_22020\\949864737.py:469: UserWarning: Geometry is in a geographic CRS. Results from 'centroid' are likely incorrect. Use 'GeoSeries.to_crs()' to re-project geometries to a projected CRS before this operation.\n",
      "\n",
      "  centroid = grwl_reach_dissolved.geometry.centroid.iloc[0]\n"
     ]
    },
    {
     "name": "stdout",
     "output_type": "stream",
     "text": [
      "Raster successfully saved with compression to: D:\\Madagascar\\Data\\RiverMapping\\RiverMasks\\Betsiboka\\reach_6\\Processed\\Betsiboka_reach_6_2023_DSWE_level_3.tif\n",
      "Processed raster saved to: D:\\Madagascar\\Data\\RiverMapping\\RiverMasks\\Betsiboka\\reach_6\\Processed\\Betsiboka_reach_6_2023_DSWE_level_3.tif\n",
      "PROCESSED: Exported Betsiboka_reach_6_2023_DSWE_level_3.tif to D:\\Madagascar\\Data\\RiverMapping\\RiverMasks\\Betsiboka\\reach_6\\Processed.\n",
      "Generating URL ...\n",
      "Downloading data from https://earthengine.googleapis.com/v1/projects/earthengine-legacy/thumbnails/43ce67195b8b4032c7693eae0489aa6d-cc9fe2097e740e77a21ae266216e3bff:getPixels\n",
      "Please wait ...\n",
      "An error occurred while downloading.\n",
      "Export failed: File D:\\Madagascar\\Data\\RiverMapping\\RiverMasks\\Betsiboka\\reach_6\\Raw\\Betsiboka_reach_6_2024_DSWE_level_3.tif not found.\n",
      "Export failed for Betsiboka_reach_6_2024_DSWE_level_3.tif, attempting tiling...\n",
      "Generating URL ...\n",
      "Downloading data from https://earthengine.googleapis.com/v1/projects/earthengine-legacy/thumbnails/37afdbbcb335d06477bb28be52c0c854-bbf192ce9c8e0f310439836d936f6c07:getPixels\n",
      "Please wait ...\n",
      "Data downloaded to D:\\Madagascar\\Data\\RiverMapping\\RiverMasks\\Betsiboka\\reach_6\\Raw\\Betsiboka_reach_6_2024_tile_0_DSWE_level_3.tif\n",
      "RAW: Successfully exported D:\\Madagascar\\Data\\RiverMapping\\RiverMasks\\Betsiboka\\reach_6\\Raw\\Betsiboka_reach_6_2024_tile_0_DSWE_level_3.tif.\n",
      "Generating URL ...\n",
      "Downloading data from https://earthengine.googleapis.com/v1/projects/earthengine-legacy/thumbnails/a1a86a7701afc3cc0709d84003235746-2d9488917ae929737ccb0e87010bdabd:getPixels\n",
      "Please wait ...\n",
      "Data downloaded to D:\\Madagascar\\Data\\RiverMapping\\RiverMasks\\Betsiboka\\reach_6\\Raw\\Betsiboka_reach_6_2024_tile_1_DSWE_level_3.tif\n",
      "RAW: Successfully exported D:\\Madagascar\\Data\\RiverMapping\\RiverMasks\\Betsiboka\\reach_6\\Raw\\Betsiboka_reach_6_2024_tile_1_DSWE_level_3.tif.\n",
      "Generating URL ...\n",
      "Downloading data from https://earthengine.googleapis.com/v1/projects/earthengine-legacy/thumbnails/7e1817a661016a1808b6acdc9d0784e0-aebbe91dd128666fff9fa642399615e1:getPixels\n",
      "Please wait ...\n",
      "Data downloaded to D:\\Madagascar\\Data\\RiverMapping\\RiverMasks\\Betsiboka\\reach_6\\Raw\\Betsiboka_reach_6_2024_tile_2_DSWE_level_3.tif\n",
      "RAW: Successfully exported D:\\Madagascar\\Data\\RiverMapping\\RiverMasks\\Betsiboka\\reach_6\\Raw\\Betsiboka_reach_6_2024_tile_2_DSWE_level_3.tif.\n",
      "Generating URL ...\n",
      "Downloading data from https://earthengine.googleapis.com/v1/projects/earthengine-legacy/thumbnails/9e56c9d79a0514458e5054dd2bc0c3fa-44d4b79df5a523dca869005ba3824283:getPixels\n",
      "Please wait ...\n",
      "Data downloaded to D:\\Madagascar\\Data\\RiverMapping\\RiverMasks\\Betsiboka\\reach_6\\Raw\\Betsiboka_reach_6_2024_tile_3_DSWE_level_3.tif\n",
      "RAW: Successfully exported D:\\Madagascar\\Data\\RiverMapping\\RiverMasks\\Betsiboka\\reach_6\\Raw\\Betsiboka_reach_6_2024_tile_3_DSWE_level_3.tif.\n",
      "Stitching tiles into D:\\Madagascar\\Data\\RiverMapping\\RiverMasks\\Betsiboka\\reach_6\\Raw\\Betsiboka_reach_6_2024_DSWE_level_3.tif...\n",
      "Tiles successfully stitched into D:\\Madagascar\\Data\\RiverMapping\\RiverMasks\\Betsiboka\\reach_6\\Raw\\Betsiboka_reach_6_2024_DSWE_level_3.tif.\n",
      "Deleted tile: D:\\Madagascar\\Data\\RiverMapping\\RiverMasks\\Betsiboka\\reach_6\\Raw\\Betsiboka_reach_6_2024_tile_0_DSWE_level_3.tif\n",
      "Deleted tile: D:\\Madagascar\\Data\\RiverMapping\\RiverMasks\\Betsiboka\\reach_6\\Raw\\Betsiboka_reach_6_2024_tile_1_DSWE_level_3.tif\n",
      "Deleted tile: D:\\Madagascar\\Data\\RiverMapping\\RiverMasks\\Betsiboka\\reach_6\\Raw\\Betsiboka_reach_6_2024_tile_2_DSWE_level_3.tif\n",
      "Deleted tile: D:\\Madagascar\\Data\\RiverMapping\\RiverMasks\\Betsiboka\\reach_6\\Raw\\Betsiboka_reach_6_2024_tile_3_DSWE_level_3.tif\n"
     ]
    },
    {
     "name": "stderr",
     "output_type": "stream",
     "text": [
      "C:\\Users\\huckr\\AppData\\Local\\Temp\\ipykernel_22020\\949864737.py:469: UserWarning: Geometry is in a geographic CRS. Results from 'centroid' are likely incorrect. Use 'GeoSeries.to_crs()' to re-project geometries to a projected CRS before this operation.\n",
      "\n",
      "  centroid = grwl_reach_dissolved.geometry.centroid.iloc[0]\n"
     ]
    },
    {
     "name": "stdout",
     "output_type": "stream",
     "text": [
      "Raster successfully saved with compression to: D:\\Madagascar\\Data\\RiverMapping\\RiverMasks\\Betsiboka\\reach_6\\Processed\\Betsiboka_reach_6_2024_DSWE_level_3.tif\n",
      "Processed raster saved to: D:\\Madagascar\\Data\\RiverMapping\\RiverMasks\\Betsiboka\\reach_6\\Processed\\Betsiboka_reach_6_2024_DSWE_level_3.tif\n",
      "PROCESSED: Exported Betsiboka_reach_6_2024_DSWE_level_3.tif to D:\\Madagascar\\Data\\RiverMapping\\RiverMasks\\Betsiboka\\reach_6\\Processed.\n",
      "Generating URL ...\n",
      "Downloading data from https://earthengine.googleapis.com/v1/projects/earthengine-legacy/thumbnails/35d5fb9a91c97f6c85f7d3656ede243f-b4cde85ecf04ddbe1a83e9a7b99ed0e4:getPixels\n",
      "Please wait ...\n",
      "Data downloaded to D:\\Madagascar\\Data\\RiverMapping\\RiverMasks\\Betsiboka\\reach_6\\Raw\\Betsiboka_reach_6_2025_DSWE_level_3.tif\n",
      "RAW: Successfully exported D:\\Madagascar\\Data\\RiverMapping\\RiverMasks\\Betsiboka\\reach_6\\Raw\\Betsiboka_reach_6_2025_DSWE_level_3.tif.\n"
     ]
    },
    {
     "name": "stderr",
     "output_type": "stream",
     "text": [
      "C:\\Users\\huckr\\AppData\\Local\\Temp\\ipykernel_22020\\949864737.py:469: UserWarning: Geometry is in a geographic CRS. Results from 'centroid' are likely incorrect. Use 'GeoSeries.to_crs()' to re-project geometries to a projected CRS before this operation.\n",
      "\n",
      "  centroid = grwl_reach_dissolved.geometry.centroid.iloc[0]\n"
     ]
    },
    {
     "name": "stdout",
     "output_type": "stream",
     "text": [
      "Raster successfully saved with compression to: D:\\Madagascar\\Data\\RiverMapping\\RiverMasks\\Betsiboka\\reach_6\\Processed\\Betsiboka_reach_6_2025_DSWE_level_3.tif\n",
      "Processed raster saved to: D:\\Madagascar\\Data\\RiverMapping\\RiverMasks\\Betsiboka\\reach_6\\Processed\\Betsiboka_reach_6_2025_DSWE_level_3.tif\n",
      "PROCESSED: Exported Betsiboka_reach_6_2025_DSWE_level_3.tif to D:\\Madagascar\\Data\\RiverMapping\\RiverMasks\\Betsiboka\\reach_6\\Processed.\n",
      "Generating URL ...\n",
      "Downloading data from https://earthengine.googleapis.com/v1/projects/earthengine-legacy/thumbnails/63aa26d5f2a9a479728d102cea060685-29c78e9b9720055b8396f54e5f39ba17:getPixels\n",
      "Please wait ...\n",
      "Data downloaded to D:\\Madagascar\\Data\\RiverMapping\\RiverMasks\\Betsiboka\\reach_5\\Raw\\Betsiboka_reach_5_1984_DSWE_level_3.tif\n",
      "RAW: Successfully exported D:\\Madagascar\\Data\\RiverMapping\\RiverMasks\\Betsiboka\\reach_5\\Raw\\Betsiboka_reach_5_1984_DSWE_level_3.tif.\n"
     ]
    },
    {
     "name": "stderr",
     "output_type": "stream",
     "text": [
      "C:\\Users\\huckr\\AppData\\Local\\Temp\\ipykernel_22020\\949864737.py:469: UserWarning: Geometry is in a geographic CRS. Results from 'centroid' are likely incorrect. Use 'GeoSeries.to_crs()' to re-project geometries to a projected CRS before this operation.\n",
      "\n",
      "  centroid = grwl_reach_dissolved.geometry.centroid.iloc[0]\n"
     ]
    },
    {
     "name": "stdout",
     "output_type": "stream",
     "text": [
      "Raster successfully saved with compression to: D:\\Madagascar\\Data\\RiverMapping\\RiverMasks\\Betsiboka\\reach_5\\Processed\\Betsiboka_reach_5_1984_DSWE_level_3.tif\n",
      "Processed raster saved to: D:\\Madagascar\\Data\\RiverMapping\\RiverMasks\\Betsiboka\\reach_5\\Processed\\Betsiboka_reach_5_1984_DSWE_level_3.tif\n",
      "PROCESSED: Exported Betsiboka_reach_5_1984_DSWE_level_3.tif to D:\\Madagascar\\Data\\RiverMapping\\RiverMasks\\Betsiboka\\reach_5\\Processed.\n",
      "Generating URL ...\n",
      "Downloading data from https://earthengine.googleapis.com/v1/projects/earthengine-legacy/thumbnails/562750853bdf41009855e4f2ae9031ed-474ae1a87450beda19bf0a1a3ee06500:getPixels\n",
      "Please wait ...\n",
      "Data downloaded to D:\\Madagascar\\Data\\RiverMapping\\RiverMasks\\Betsiboka\\reach_5\\Raw\\Betsiboka_reach_5_1985_DSWE_level_3.tif\n",
      "RAW: Successfully exported D:\\Madagascar\\Data\\RiverMapping\\RiverMasks\\Betsiboka\\reach_5\\Raw\\Betsiboka_reach_5_1985_DSWE_level_3.tif.\n"
     ]
    },
    {
     "name": "stderr",
     "output_type": "stream",
     "text": [
      "C:\\Users\\huckr\\AppData\\Local\\Temp\\ipykernel_22020\\949864737.py:469: UserWarning: Geometry is in a geographic CRS. Results from 'centroid' are likely incorrect. Use 'GeoSeries.to_crs()' to re-project geometries to a projected CRS before this operation.\n",
      "\n",
      "  centroid = grwl_reach_dissolved.geometry.centroid.iloc[0]\n"
     ]
    },
    {
     "name": "stdout",
     "output_type": "stream",
     "text": [
      "Raster successfully saved with compression to: D:\\Madagascar\\Data\\RiverMapping\\RiverMasks\\Betsiboka\\reach_5\\Processed\\Betsiboka_reach_5_1985_DSWE_level_3.tif\n",
      "Processed raster saved to: D:\\Madagascar\\Data\\RiverMapping\\RiverMasks\\Betsiboka\\reach_5\\Processed\\Betsiboka_reach_5_1985_DSWE_level_3.tif\n",
      "PROCESSED: Exported Betsiboka_reach_5_1985_DSWE_level_3.tif to D:\\Madagascar\\Data\\RiverMapping\\RiverMasks\\Betsiboka\\reach_5\\Processed.\n",
      "Generating URL ...\n",
      "An error occurred while downloading.\n",
      "Image.select: Band pattern 'Nir' was applied to an Image with no bands. See https://developers.google.com/earth-engine/guides/debugging#no-bands\n",
      "Export failed: File D:\\Madagascar\\Data\\RiverMapping\\RiverMasks\\Betsiboka\\reach_5\\Raw\\Betsiboka_reach_5_1986_DSWE_level_3.tif not found.\n",
      "Export failed for Betsiboka_reach_5_1986_DSWE_level_3.tif, attempting tiling...\n",
      "Generating URL ...\n",
      "An error occurred while downloading.\n",
      "Image.normalizedDifference: No band named 'Nir'. Available band names: [].\n",
      "Export failed: File D:\\Madagascar\\Data\\RiverMapping\\RiverMasks\\Betsiboka\\reach_5\\Raw\\Betsiboka_reach_5_1986_tile_0_DSWE_level_3.tif not found.\n",
      "No tiles found for stitching.\n",
      "Failed to export Betsiboka_reach_5_1986_DSWE_level_3.tif. Error: D:/Madagascar/Data/RiverMapping/RiverMasks/Betsiboka/reach_5/Raw/Betsiboka_reach_5_1986_DSWE_level_3.tif: No such file or directory\n",
      "Generating URL ...\n",
      "Downloading data from https://earthengine.googleapis.com/v1/projects/earthengine-legacy/thumbnails/e1cbfda7effa05b6c26dc2e7e736a505-926f16ed6d3a909634c620f02c51a131:getPixels\n",
      "Please wait ...\n",
      "Data downloaded to D:\\Madagascar\\Data\\RiverMapping\\RiverMasks\\Betsiboka\\reach_5\\Raw\\Betsiboka_reach_5_1987_DSWE_level_3.tif\n",
      "RAW: Successfully exported D:\\Madagascar\\Data\\RiverMapping\\RiverMasks\\Betsiboka\\reach_5\\Raw\\Betsiboka_reach_5_1987_DSWE_level_3.tif.\n"
     ]
    },
    {
     "name": "stderr",
     "output_type": "stream",
     "text": [
      "C:\\Users\\huckr\\AppData\\Local\\Temp\\ipykernel_22020\\949864737.py:469: UserWarning: Geometry is in a geographic CRS. Results from 'centroid' are likely incorrect. Use 'GeoSeries.to_crs()' to re-project geometries to a projected CRS before this operation.\n",
      "\n",
      "  centroid = grwl_reach_dissolved.geometry.centroid.iloc[0]\n"
     ]
    },
    {
     "name": "stdout",
     "output_type": "stream",
     "text": [
      "Raster successfully saved with compression to: D:\\Madagascar\\Data\\RiverMapping\\RiverMasks\\Betsiboka\\reach_5\\Processed\\Betsiboka_reach_5_1987_DSWE_level_3.tif\n",
      "Processed raster saved to: D:\\Madagascar\\Data\\RiverMapping\\RiverMasks\\Betsiboka\\reach_5\\Processed\\Betsiboka_reach_5_1987_DSWE_level_3.tif\n",
      "PROCESSED: Exported Betsiboka_reach_5_1987_DSWE_level_3.tif to D:\\Madagascar\\Data\\RiverMapping\\RiverMasks\\Betsiboka\\reach_5\\Processed.\n",
      "Generating URL ...\n",
      "An error occurred while downloading.\n",
      "Image.select: Band pattern 'Swir2' was applied to an Image with no bands. See https://developers.google.com/earth-engine/guides/debugging#no-bands\n",
      "Export failed: File D:\\Madagascar\\Data\\RiverMapping\\RiverMasks\\Betsiboka\\reach_5\\Raw\\Betsiboka_reach_5_1988_DSWE_level_3.tif not found.\n",
      "Export failed for Betsiboka_reach_5_1988_DSWE_level_3.tif, attempting tiling...\n",
      "Generating URL ...\n",
      "An error occurred while downloading.\n",
      "Image.normalizedDifference: No band named 'Nir'. Available band names: [].\n",
      "Export failed: File D:\\Madagascar\\Data\\RiverMapping\\RiverMasks\\Betsiboka\\reach_5\\Raw\\Betsiboka_reach_5_1988_tile_0_DSWE_level_3.tif not found.\n",
      "No tiles found for stitching.\n",
      "Failed to export Betsiboka_reach_5_1988_DSWE_level_3.tif. Error: D:/Madagascar/Data/RiverMapping/RiverMasks/Betsiboka/reach_5/Raw/Betsiboka_reach_5_1988_DSWE_level_3.tif: No such file or directory\n",
      "Generating URL ...\n",
      "Downloading data from https://earthengine.googleapis.com/v1/projects/earthengine-legacy/thumbnails/53475dc3b5cc8f2fe6496fdcc4461fc7-db54de574c13631ba4d4bca75ee23ece:getPixels\n",
      "Please wait ...\n",
      "Data downloaded to D:\\Madagascar\\Data\\RiverMapping\\RiverMasks\\Betsiboka\\reach_5\\Raw\\Betsiboka_reach_5_1989_DSWE_level_3.tif\n",
      "RAW: Successfully exported D:\\Madagascar\\Data\\RiverMapping\\RiverMasks\\Betsiboka\\reach_5\\Raw\\Betsiboka_reach_5_1989_DSWE_level_3.tif.\n"
     ]
    },
    {
     "name": "stderr",
     "output_type": "stream",
     "text": [
      "C:\\Users\\huckr\\AppData\\Local\\Temp\\ipykernel_22020\\949864737.py:469: UserWarning: Geometry is in a geographic CRS. Results from 'centroid' are likely incorrect. Use 'GeoSeries.to_crs()' to re-project geometries to a projected CRS before this operation.\n",
      "\n",
      "  centroid = grwl_reach_dissolved.geometry.centroid.iloc[0]\n"
     ]
    },
    {
     "name": "stdout",
     "output_type": "stream",
     "text": [
      "Raster successfully saved with compression to: D:\\Madagascar\\Data\\RiverMapping\\RiverMasks\\Betsiboka\\reach_5\\Processed\\Betsiboka_reach_5_1989_DSWE_level_3.tif\n",
      "Processed raster saved to: D:\\Madagascar\\Data\\RiverMapping\\RiverMasks\\Betsiboka\\reach_5\\Processed\\Betsiboka_reach_5_1989_DSWE_level_3.tif\n",
      "PROCESSED: Exported Betsiboka_reach_5_1989_DSWE_level_3.tif to D:\\Madagascar\\Data\\RiverMapping\\RiverMasks\\Betsiboka\\reach_5\\Processed.\n",
      "Generating URL ...\n",
      "Downloading data from https://earthengine.googleapis.com/v1/projects/earthengine-legacy/thumbnails/52cf226defcaa511ddb558fca3cebce6-e5b663d518306ce9e00d2ef606d7a860:getPixels\n",
      "Please wait ...\n",
      "Data downloaded to D:\\Madagascar\\Data\\RiverMapping\\RiverMasks\\Betsiboka\\reach_5\\Raw\\Betsiboka_reach_5_1990_DSWE_level_3.tif\n",
      "RAW: Successfully exported D:\\Madagascar\\Data\\RiverMapping\\RiverMasks\\Betsiboka\\reach_5\\Raw\\Betsiboka_reach_5_1990_DSWE_level_3.tif.\n"
     ]
    },
    {
     "name": "stderr",
     "output_type": "stream",
     "text": [
      "C:\\Users\\huckr\\AppData\\Local\\Temp\\ipykernel_22020\\949864737.py:469: UserWarning: Geometry is in a geographic CRS. Results from 'centroid' are likely incorrect. Use 'GeoSeries.to_crs()' to re-project geometries to a projected CRS before this operation.\n",
      "\n",
      "  centroid = grwl_reach_dissolved.geometry.centroid.iloc[0]\n"
     ]
    },
    {
     "name": "stdout",
     "output_type": "stream",
     "text": [
      "Raster successfully saved with compression to: D:\\Madagascar\\Data\\RiverMapping\\RiverMasks\\Betsiboka\\reach_5\\Processed\\Betsiboka_reach_5_1990_DSWE_level_3.tif\n",
      "Processed raster saved to: D:\\Madagascar\\Data\\RiverMapping\\RiverMasks\\Betsiboka\\reach_5\\Processed\\Betsiboka_reach_5_1990_DSWE_level_3.tif\n",
      "PROCESSED: Exported Betsiboka_reach_5_1990_DSWE_level_3.tif to D:\\Madagascar\\Data\\RiverMapping\\RiverMasks\\Betsiboka\\reach_5\\Processed.\n",
      "Generating URL ...\n",
      "Downloading data from https://earthengine.googleapis.com/v1/projects/earthengine-legacy/thumbnails/7d3fd496a5b1824ea94674d7736e0664-cdcff4fe57fabf08d8e1e0d594e95f60:getPixels\n",
      "Please wait ...\n",
      "Data downloaded to D:\\Madagascar\\Data\\RiverMapping\\RiverMasks\\Betsiboka\\reach_5\\Raw\\Betsiboka_reach_5_1991_DSWE_level_3.tif\n",
      "RAW: Successfully exported D:\\Madagascar\\Data\\RiverMapping\\RiverMasks\\Betsiboka\\reach_5\\Raw\\Betsiboka_reach_5_1991_DSWE_level_3.tif.\n"
     ]
    },
    {
     "name": "stderr",
     "output_type": "stream",
     "text": [
      "C:\\Users\\huckr\\AppData\\Local\\Temp\\ipykernel_22020\\949864737.py:469: UserWarning: Geometry is in a geographic CRS. Results from 'centroid' are likely incorrect. Use 'GeoSeries.to_crs()' to re-project geometries to a projected CRS before this operation.\n",
      "\n",
      "  centroid = grwl_reach_dissolved.geometry.centroid.iloc[0]\n"
     ]
    },
    {
     "name": "stdout",
     "output_type": "stream",
     "text": [
      "Raster successfully saved with compression to: D:\\Madagascar\\Data\\RiverMapping\\RiverMasks\\Betsiboka\\reach_5\\Processed\\Betsiboka_reach_5_1991_DSWE_level_3.tif\n",
      "Processed raster saved to: D:\\Madagascar\\Data\\RiverMapping\\RiverMasks\\Betsiboka\\reach_5\\Processed\\Betsiboka_reach_5_1991_DSWE_level_3.tif\n",
      "PROCESSED: Exported Betsiboka_reach_5_1991_DSWE_level_3.tif to D:\\Madagascar\\Data\\RiverMapping\\RiverMasks\\Betsiboka\\reach_5\\Processed.\n",
      "Generating URL ...\n",
      "Downloading data from https://earthengine.googleapis.com/v1/projects/earthengine-legacy/thumbnails/cb3e84f9bd5bc1005369db050b352496-6d4305d33827bc58a1ca1abf576e0e90:getPixels\n",
      "Please wait ...\n",
      "Data downloaded to D:\\Madagascar\\Data\\RiverMapping\\RiverMasks\\Betsiboka\\reach_5\\Raw\\Betsiboka_reach_5_1992_DSWE_level_3.tif\n",
      "RAW: Successfully exported D:\\Madagascar\\Data\\RiverMapping\\RiverMasks\\Betsiboka\\reach_5\\Raw\\Betsiboka_reach_5_1992_DSWE_level_3.tif.\n"
     ]
    },
    {
     "name": "stderr",
     "output_type": "stream",
     "text": [
      "C:\\Users\\huckr\\AppData\\Local\\Temp\\ipykernel_22020\\949864737.py:469: UserWarning: Geometry is in a geographic CRS. Results from 'centroid' are likely incorrect. Use 'GeoSeries.to_crs()' to re-project geometries to a projected CRS before this operation.\n",
      "\n",
      "  centroid = grwl_reach_dissolved.geometry.centroid.iloc[0]\n"
     ]
    },
    {
     "name": "stdout",
     "output_type": "stream",
     "text": [
      "Raster successfully saved with compression to: D:\\Madagascar\\Data\\RiverMapping\\RiverMasks\\Betsiboka\\reach_5\\Processed\\Betsiboka_reach_5_1992_DSWE_level_3.tif\n",
      "Processed raster saved to: D:\\Madagascar\\Data\\RiverMapping\\RiverMasks\\Betsiboka\\reach_5\\Processed\\Betsiboka_reach_5_1992_DSWE_level_3.tif\n",
      "PROCESSED: Exported Betsiboka_reach_5_1992_DSWE_level_3.tif to D:\\Madagascar\\Data\\RiverMapping\\RiverMasks\\Betsiboka\\reach_5\\Processed.\n",
      "Generating URL ...\n",
      "Downloading data from https://earthengine.googleapis.com/v1/projects/earthengine-legacy/thumbnails/bede8f0ec8f71e589865edb3f48c7f8a-065aa7fc272a9d7432c3195c0e6842dd:getPixels\n",
      "Please wait ...\n",
      "Data downloaded to D:\\Madagascar\\Data\\RiverMapping\\RiverMasks\\Betsiboka\\reach_5\\Raw\\Betsiboka_reach_5_1993_DSWE_level_3.tif\n",
      "RAW: Successfully exported D:\\Madagascar\\Data\\RiverMapping\\RiverMasks\\Betsiboka\\reach_5\\Raw\\Betsiboka_reach_5_1993_DSWE_level_3.tif.\n"
     ]
    },
    {
     "name": "stderr",
     "output_type": "stream",
     "text": [
      "C:\\Users\\huckr\\AppData\\Local\\Temp\\ipykernel_22020\\949864737.py:469: UserWarning: Geometry is in a geographic CRS. Results from 'centroid' are likely incorrect. Use 'GeoSeries.to_crs()' to re-project geometries to a projected CRS before this operation.\n",
      "\n",
      "  centroid = grwl_reach_dissolved.geometry.centroid.iloc[0]\n"
     ]
    },
    {
     "name": "stdout",
     "output_type": "stream",
     "text": [
      "Raster successfully saved with compression to: D:\\Madagascar\\Data\\RiverMapping\\RiverMasks\\Betsiboka\\reach_5\\Processed\\Betsiboka_reach_5_1993_DSWE_level_3.tif\n",
      "Processed raster saved to: D:\\Madagascar\\Data\\RiverMapping\\RiverMasks\\Betsiboka\\reach_5\\Processed\\Betsiboka_reach_5_1993_DSWE_level_3.tif\n",
      "PROCESSED: Exported Betsiboka_reach_5_1993_DSWE_level_3.tif to D:\\Madagascar\\Data\\RiverMapping\\RiverMasks\\Betsiboka\\reach_5\\Processed.\n",
      "Generating URL ...\n",
      "Downloading data from https://earthengine.googleapis.com/v1/projects/earthengine-legacy/thumbnails/7ba8e96fe656a1a9a202ff291fd0ce09-1a5c87c398e5531e5777da3ed7ed4d2e:getPixels\n",
      "Please wait ...\n",
      "Data downloaded to D:\\Madagascar\\Data\\RiverMapping\\RiverMasks\\Betsiboka\\reach_5\\Raw\\Betsiboka_reach_5_1994_DSWE_level_3.tif\n",
      "RAW: Successfully exported D:\\Madagascar\\Data\\RiverMapping\\RiverMasks\\Betsiboka\\reach_5\\Raw\\Betsiboka_reach_5_1994_DSWE_level_3.tif.\n"
     ]
    },
    {
     "name": "stderr",
     "output_type": "stream",
     "text": [
      "C:\\Users\\huckr\\AppData\\Local\\Temp\\ipykernel_22020\\949864737.py:469: UserWarning: Geometry is in a geographic CRS. Results from 'centroid' are likely incorrect. Use 'GeoSeries.to_crs()' to re-project geometries to a projected CRS before this operation.\n",
      "\n",
      "  centroid = grwl_reach_dissolved.geometry.centroid.iloc[0]\n"
     ]
    },
    {
     "name": "stdout",
     "output_type": "stream",
     "text": [
      "Raster successfully saved with compression to: D:\\Madagascar\\Data\\RiverMapping\\RiverMasks\\Betsiboka\\reach_5\\Processed\\Betsiboka_reach_5_1994_DSWE_level_3.tif\n",
      "Processed raster saved to: D:\\Madagascar\\Data\\RiverMapping\\RiverMasks\\Betsiboka\\reach_5\\Processed\\Betsiboka_reach_5_1994_DSWE_level_3.tif\n",
      "PROCESSED: Exported Betsiboka_reach_5_1994_DSWE_level_3.tif to D:\\Madagascar\\Data\\RiverMapping\\RiverMasks\\Betsiboka\\reach_5\\Processed.\n",
      "Generating URL ...\n",
      "Downloading data from https://earthengine.googleapis.com/v1/projects/earthengine-legacy/thumbnails/f4e34b5d75baccde8edb72eea9d457ed-fb1890ed08d3b0442620c9987e790e0b:getPixels\n",
      "Please wait ...\n",
      "Data downloaded to D:\\Madagascar\\Data\\RiverMapping\\RiverMasks\\Betsiboka\\reach_5\\Raw\\Betsiboka_reach_5_1995_DSWE_level_3.tif\n",
      "RAW: Successfully exported D:\\Madagascar\\Data\\RiverMapping\\RiverMasks\\Betsiboka\\reach_5\\Raw\\Betsiboka_reach_5_1995_DSWE_level_3.tif.\n"
     ]
    },
    {
     "name": "stderr",
     "output_type": "stream",
     "text": [
      "C:\\Users\\huckr\\AppData\\Local\\Temp\\ipykernel_22020\\949864737.py:469: UserWarning: Geometry is in a geographic CRS. Results from 'centroid' are likely incorrect. Use 'GeoSeries.to_crs()' to re-project geometries to a projected CRS before this operation.\n",
      "\n",
      "  centroid = grwl_reach_dissolved.geometry.centroid.iloc[0]\n"
     ]
    },
    {
     "name": "stdout",
     "output_type": "stream",
     "text": [
      "Raster successfully saved with compression to: D:\\Madagascar\\Data\\RiverMapping\\RiverMasks\\Betsiboka\\reach_5\\Processed\\Betsiboka_reach_5_1995_DSWE_level_3.tif\n",
      "Processed raster saved to: D:\\Madagascar\\Data\\RiverMapping\\RiverMasks\\Betsiboka\\reach_5\\Processed\\Betsiboka_reach_5_1995_DSWE_level_3.tif\n",
      "PROCESSED: Exported Betsiboka_reach_5_1995_DSWE_level_3.tif to D:\\Madagascar\\Data\\RiverMapping\\RiverMasks\\Betsiboka\\reach_5\\Processed.\n",
      "Generating URL ...\n",
      "Downloading data from https://earthengine.googleapis.com/v1/projects/earthengine-legacy/thumbnails/8f391096038e3b0c4779414e4de10bc7-e3ad6fdd37b2952c1ccc8c4f77ddbc32:getPixels\n",
      "Please wait ...\n",
      "Data downloaded to D:\\Madagascar\\Data\\RiverMapping\\RiverMasks\\Betsiboka\\reach_5\\Raw\\Betsiboka_reach_5_1996_DSWE_level_3.tif\n",
      "RAW: Successfully exported D:\\Madagascar\\Data\\RiverMapping\\RiverMasks\\Betsiboka\\reach_5\\Raw\\Betsiboka_reach_5_1996_DSWE_level_3.tif.\n"
     ]
    },
    {
     "name": "stderr",
     "output_type": "stream",
     "text": [
      "C:\\Users\\huckr\\AppData\\Local\\Temp\\ipykernel_22020\\949864737.py:469: UserWarning: Geometry is in a geographic CRS. Results from 'centroid' are likely incorrect. Use 'GeoSeries.to_crs()' to re-project geometries to a projected CRS before this operation.\n",
      "\n",
      "  centroid = grwl_reach_dissolved.geometry.centroid.iloc[0]\n"
     ]
    },
    {
     "name": "stdout",
     "output_type": "stream",
     "text": [
      "Raster successfully saved with compression to: D:\\Madagascar\\Data\\RiverMapping\\RiverMasks\\Betsiboka\\reach_5\\Processed\\Betsiboka_reach_5_1996_DSWE_level_3.tif\n",
      "Processed raster saved to: D:\\Madagascar\\Data\\RiverMapping\\RiverMasks\\Betsiboka\\reach_5\\Processed\\Betsiboka_reach_5_1996_DSWE_level_3.tif\n",
      "PROCESSED: Exported Betsiboka_reach_5_1996_DSWE_level_3.tif to D:\\Madagascar\\Data\\RiverMapping\\RiverMasks\\Betsiboka\\reach_5\\Processed.\n",
      "Generating URL ...\n",
      "Downloading data from https://earthengine.googleapis.com/v1/projects/earthengine-legacy/thumbnails/c36bd70fe3ed040f3e836f3a78ef4d00-0dd467047db3815f0b29aa28685e940a:getPixels\n",
      "Please wait ...\n",
      "Data downloaded to D:\\Madagascar\\Data\\RiverMapping\\RiverMasks\\Betsiboka\\reach_5\\Raw\\Betsiboka_reach_5_1997_DSWE_level_3.tif\n",
      "RAW: Successfully exported D:\\Madagascar\\Data\\RiverMapping\\RiverMasks\\Betsiboka\\reach_5\\Raw\\Betsiboka_reach_5_1997_DSWE_level_3.tif.\n"
     ]
    },
    {
     "name": "stderr",
     "output_type": "stream",
     "text": [
      "C:\\Users\\huckr\\AppData\\Local\\Temp\\ipykernel_22020\\949864737.py:469: UserWarning: Geometry is in a geographic CRS. Results from 'centroid' are likely incorrect. Use 'GeoSeries.to_crs()' to re-project geometries to a projected CRS before this operation.\n",
      "\n",
      "  centroid = grwl_reach_dissolved.geometry.centroid.iloc[0]\n"
     ]
    },
    {
     "name": "stdout",
     "output_type": "stream",
     "text": [
      "Raster successfully saved with compression to: D:\\Madagascar\\Data\\RiverMapping\\RiverMasks\\Betsiboka\\reach_5\\Processed\\Betsiboka_reach_5_1997_DSWE_level_3.tif\n",
      "Processed raster saved to: D:\\Madagascar\\Data\\RiverMapping\\RiverMasks\\Betsiboka\\reach_5\\Processed\\Betsiboka_reach_5_1997_DSWE_level_3.tif\n",
      "PROCESSED: Exported Betsiboka_reach_5_1997_DSWE_level_3.tif to D:\\Madagascar\\Data\\RiverMapping\\RiverMasks\\Betsiboka\\reach_5\\Processed.\n",
      "Generating URL ...\n",
      "Downloading data from https://earthengine.googleapis.com/v1/projects/earthengine-legacy/thumbnails/016c69ce92ce56681d34283b95181c0c-0d55f0939343be24a86c6c0498eea82d:getPixels\n",
      "Please wait ...\n",
      "Data downloaded to D:\\Madagascar\\Data\\RiverMapping\\RiverMasks\\Betsiboka\\reach_5\\Raw\\Betsiboka_reach_5_1998_DSWE_level_3.tif\n",
      "RAW: Successfully exported D:\\Madagascar\\Data\\RiverMapping\\RiverMasks\\Betsiboka\\reach_5\\Raw\\Betsiboka_reach_5_1998_DSWE_level_3.tif.\n"
     ]
    },
    {
     "name": "stderr",
     "output_type": "stream",
     "text": [
      "C:\\Users\\huckr\\AppData\\Local\\Temp\\ipykernel_22020\\949864737.py:469: UserWarning: Geometry is in a geographic CRS. Results from 'centroid' are likely incorrect. Use 'GeoSeries.to_crs()' to re-project geometries to a projected CRS before this operation.\n",
      "\n",
      "  centroid = grwl_reach_dissolved.geometry.centroid.iloc[0]\n"
     ]
    },
    {
     "name": "stdout",
     "output_type": "stream",
     "text": [
      "Raster successfully saved with compression to: D:\\Madagascar\\Data\\RiverMapping\\RiverMasks\\Betsiboka\\reach_5\\Processed\\Betsiboka_reach_5_1998_DSWE_level_3.tif\n",
      "Processed raster saved to: D:\\Madagascar\\Data\\RiverMapping\\RiverMasks\\Betsiboka\\reach_5\\Processed\\Betsiboka_reach_5_1998_DSWE_level_3.tif\n",
      "PROCESSED: Exported Betsiboka_reach_5_1998_DSWE_level_3.tif to D:\\Madagascar\\Data\\RiverMapping\\RiverMasks\\Betsiboka\\reach_5\\Processed.\n",
      "Generating URL ...\n",
      "Downloading data from https://earthengine.googleapis.com/v1/projects/earthengine-legacy/thumbnails/45c7001d32e8fec78629de2529fbbaae-4d68ed046ebd3a5fbd800271098fccef:getPixels\n",
      "Please wait ...\n",
      "Data downloaded to D:\\Madagascar\\Data\\RiverMapping\\RiverMasks\\Betsiboka\\reach_5\\Raw\\Betsiboka_reach_5_1999_DSWE_level_3.tif\n",
      "RAW: Successfully exported D:\\Madagascar\\Data\\RiverMapping\\RiverMasks\\Betsiboka\\reach_5\\Raw\\Betsiboka_reach_5_1999_DSWE_level_3.tif.\n"
     ]
    },
    {
     "name": "stderr",
     "output_type": "stream",
     "text": [
      "C:\\Users\\huckr\\AppData\\Local\\Temp\\ipykernel_22020\\949864737.py:469: UserWarning: Geometry is in a geographic CRS. Results from 'centroid' are likely incorrect. Use 'GeoSeries.to_crs()' to re-project geometries to a projected CRS before this operation.\n",
      "\n",
      "  centroid = grwl_reach_dissolved.geometry.centroid.iloc[0]\n"
     ]
    },
    {
     "name": "stdout",
     "output_type": "stream",
     "text": [
      "Raster successfully saved with compression to: D:\\Madagascar\\Data\\RiverMapping\\RiverMasks\\Betsiboka\\reach_5\\Processed\\Betsiboka_reach_5_1999_DSWE_level_3.tif\n",
      "Processed raster saved to: D:\\Madagascar\\Data\\RiverMapping\\RiverMasks\\Betsiboka\\reach_5\\Processed\\Betsiboka_reach_5_1999_DSWE_level_3.tif\n",
      "PROCESSED: Exported Betsiboka_reach_5_1999_DSWE_level_3.tif to D:\\Madagascar\\Data\\RiverMapping\\RiverMasks\\Betsiboka\\reach_5\\Processed.\n",
      "Generating URL ...\n",
      "Downloading data from https://earthengine.googleapis.com/v1/projects/earthengine-legacy/thumbnails/4f5b6a3a1c459a3007d6f8ad20274616-4ffcd2c4b296c1feda6ecf562d2671e1:getPixels\n",
      "Please wait ...\n",
      "Data downloaded to D:\\Madagascar\\Data\\RiverMapping\\RiverMasks\\Betsiboka\\reach_5\\Raw\\Betsiboka_reach_5_2000_DSWE_level_3.tif\n",
      "RAW: Successfully exported D:\\Madagascar\\Data\\RiverMapping\\RiverMasks\\Betsiboka\\reach_5\\Raw\\Betsiboka_reach_5_2000_DSWE_level_3.tif.\n"
     ]
    },
    {
     "name": "stderr",
     "output_type": "stream",
     "text": [
      "C:\\Users\\huckr\\AppData\\Local\\Temp\\ipykernel_22020\\949864737.py:469: UserWarning: Geometry is in a geographic CRS. Results from 'centroid' are likely incorrect. Use 'GeoSeries.to_crs()' to re-project geometries to a projected CRS before this operation.\n",
      "\n",
      "  centroid = grwl_reach_dissolved.geometry.centroid.iloc[0]\n"
     ]
    },
    {
     "name": "stdout",
     "output_type": "stream",
     "text": [
      "Raster successfully saved with compression to: D:\\Madagascar\\Data\\RiverMapping\\RiverMasks\\Betsiboka\\reach_5\\Processed\\Betsiboka_reach_5_2000_DSWE_level_3.tif\n",
      "Processed raster saved to: D:\\Madagascar\\Data\\RiverMapping\\RiverMasks\\Betsiboka\\reach_5\\Processed\\Betsiboka_reach_5_2000_DSWE_level_3.tif\n",
      "PROCESSED: Exported Betsiboka_reach_5_2000_DSWE_level_3.tif to D:\\Madagascar\\Data\\RiverMapping\\RiverMasks\\Betsiboka\\reach_5\\Processed.\n",
      "Generating URL ...\n",
      "Downloading data from https://earthengine.googleapis.com/v1/projects/earthengine-legacy/thumbnails/65e6073df8e285ae5122889dc80fa01d-4295ab5a8ad65c220d244c9941c5fe9c:getPixels\n",
      "Please wait ...\n",
      "Data downloaded to D:\\Madagascar\\Data\\RiverMapping\\RiverMasks\\Betsiboka\\reach_5\\Raw\\Betsiboka_reach_5_2001_DSWE_level_3.tif\n",
      "RAW: Successfully exported D:\\Madagascar\\Data\\RiverMapping\\RiverMasks\\Betsiboka\\reach_5\\Raw\\Betsiboka_reach_5_2001_DSWE_level_3.tif.\n"
     ]
    },
    {
     "name": "stderr",
     "output_type": "stream",
     "text": [
      "C:\\Users\\huckr\\AppData\\Local\\Temp\\ipykernel_22020\\949864737.py:469: UserWarning: Geometry is in a geographic CRS. Results from 'centroid' are likely incorrect. Use 'GeoSeries.to_crs()' to re-project geometries to a projected CRS before this operation.\n",
      "\n",
      "  centroid = grwl_reach_dissolved.geometry.centroid.iloc[0]\n"
     ]
    },
    {
     "name": "stdout",
     "output_type": "stream",
     "text": [
      "Raster successfully saved with compression to: D:\\Madagascar\\Data\\RiverMapping\\RiverMasks\\Betsiboka\\reach_5\\Processed\\Betsiboka_reach_5_2001_DSWE_level_3.tif\n",
      "Processed raster saved to: D:\\Madagascar\\Data\\RiverMapping\\RiverMasks\\Betsiboka\\reach_5\\Processed\\Betsiboka_reach_5_2001_DSWE_level_3.tif\n",
      "PROCESSED: Exported Betsiboka_reach_5_2001_DSWE_level_3.tif to D:\\Madagascar\\Data\\RiverMapping\\RiverMasks\\Betsiboka\\reach_5\\Processed.\n",
      "Generating URL ...\n",
      "Downloading data from https://earthengine.googleapis.com/v1/projects/earthengine-legacy/thumbnails/eaddb88b2a032a013a8e49165a5d5b74-4d5ad9129673feb9cf7a578049c6a4da:getPixels\n",
      "Please wait ...\n",
      "Data downloaded to D:\\Madagascar\\Data\\RiverMapping\\RiverMasks\\Betsiboka\\reach_5\\Raw\\Betsiboka_reach_5_2002_DSWE_level_3.tif\n",
      "RAW: Successfully exported D:\\Madagascar\\Data\\RiverMapping\\RiverMasks\\Betsiboka\\reach_5\\Raw\\Betsiboka_reach_5_2002_DSWE_level_3.tif.\n"
     ]
    },
    {
     "name": "stderr",
     "output_type": "stream",
     "text": [
      "C:\\Users\\huckr\\AppData\\Local\\Temp\\ipykernel_22020\\949864737.py:469: UserWarning: Geometry is in a geographic CRS. Results from 'centroid' are likely incorrect. Use 'GeoSeries.to_crs()' to re-project geometries to a projected CRS before this operation.\n",
      "\n",
      "  centroid = grwl_reach_dissolved.geometry.centroid.iloc[0]\n"
     ]
    },
    {
     "name": "stdout",
     "output_type": "stream",
     "text": [
      "Raster successfully saved with compression to: D:\\Madagascar\\Data\\RiverMapping\\RiverMasks\\Betsiboka\\reach_5\\Processed\\Betsiboka_reach_5_2002_DSWE_level_3.tif\n",
      "Processed raster saved to: D:\\Madagascar\\Data\\RiverMapping\\RiverMasks\\Betsiboka\\reach_5\\Processed\\Betsiboka_reach_5_2002_DSWE_level_3.tif\n",
      "PROCESSED: Exported Betsiboka_reach_5_2002_DSWE_level_3.tif to D:\\Madagascar\\Data\\RiverMapping\\RiverMasks\\Betsiboka\\reach_5\\Processed.\n",
      "Generating URL ...\n",
      "Downloading data from https://earthengine.googleapis.com/v1/projects/earthengine-legacy/thumbnails/5f5bf0de10e3edaab67725f7cf06a3c5-6b7b117ea08fc118b665ca9958858658:getPixels\n",
      "Please wait ...\n",
      "Data downloaded to D:\\Madagascar\\Data\\RiverMapping\\RiverMasks\\Betsiboka\\reach_5\\Raw\\Betsiboka_reach_5_2003_DSWE_level_3.tif\n",
      "RAW: Successfully exported D:\\Madagascar\\Data\\RiverMapping\\RiverMasks\\Betsiboka\\reach_5\\Raw\\Betsiboka_reach_5_2003_DSWE_level_3.tif.\n"
     ]
    },
    {
     "name": "stderr",
     "output_type": "stream",
     "text": [
      "C:\\Users\\huckr\\AppData\\Local\\Temp\\ipykernel_22020\\949864737.py:469: UserWarning: Geometry is in a geographic CRS. Results from 'centroid' are likely incorrect. Use 'GeoSeries.to_crs()' to re-project geometries to a projected CRS before this operation.\n",
      "\n",
      "  centroid = grwl_reach_dissolved.geometry.centroid.iloc[0]\n"
     ]
    },
    {
     "name": "stdout",
     "output_type": "stream",
     "text": [
      "Raster successfully saved with compression to: D:\\Madagascar\\Data\\RiverMapping\\RiverMasks\\Betsiboka\\reach_5\\Processed\\Betsiboka_reach_5_2003_DSWE_level_3.tif\n",
      "Processed raster saved to: D:\\Madagascar\\Data\\RiverMapping\\RiverMasks\\Betsiboka\\reach_5\\Processed\\Betsiboka_reach_5_2003_DSWE_level_3.tif\n",
      "PROCESSED: Exported Betsiboka_reach_5_2003_DSWE_level_3.tif to D:\\Madagascar\\Data\\RiverMapping\\RiverMasks\\Betsiboka\\reach_5\\Processed.\n",
      "Generating URL ...\n",
      "Downloading data from https://earthengine.googleapis.com/v1/projects/earthengine-legacy/thumbnails/055fd1fad83a445955aa207f7f1417b3-6e6cc854d9a4360621b2a6803b66886e:getPixels\n",
      "Please wait ...\n",
      "Data downloaded to D:\\Madagascar\\Data\\RiverMapping\\RiverMasks\\Betsiboka\\reach_5\\Raw\\Betsiboka_reach_5_2004_DSWE_level_3.tif\n",
      "RAW: Successfully exported D:\\Madagascar\\Data\\RiverMapping\\RiverMasks\\Betsiboka\\reach_5\\Raw\\Betsiboka_reach_5_2004_DSWE_level_3.tif.\n"
     ]
    },
    {
     "name": "stderr",
     "output_type": "stream",
     "text": [
      "C:\\Users\\huckr\\AppData\\Local\\Temp\\ipykernel_22020\\949864737.py:469: UserWarning: Geometry is in a geographic CRS. Results from 'centroid' are likely incorrect. Use 'GeoSeries.to_crs()' to re-project geometries to a projected CRS before this operation.\n",
      "\n",
      "  centroid = grwl_reach_dissolved.geometry.centroid.iloc[0]\n"
     ]
    },
    {
     "name": "stdout",
     "output_type": "stream",
     "text": [
      "Raster successfully saved with compression to: D:\\Madagascar\\Data\\RiverMapping\\RiverMasks\\Betsiboka\\reach_5\\Processed\\Betsiboka_reach_5_2004_DSWE_level_3.tif\n",
      "Processed raster saved to: D:\\Madagascar\\Data\\RiverMapping\\RiverMasks\\Betsiboka\\reach_5\\Processed\\Betsiboka_reach_5_2004_DSWE_level_3.tif\n",
      "PROCESSED: Exported Betsiboka_reach_5_2004_DSWE_level_3.tif to D:\\Madagascar\\Data\\RiverMapping\\RiverMasks\\Betsiboka\\reach_5\\Processed.\n",
      "Generating URL ...\n",
      "Downloading data from https://earthengine.googleapis.com/v1/projects/earthengine-legacy/thumbnails/4a01a31e579466b11d9a534e4eb8f662-e63fdcbabd2b1b57ce31720edf992e55:getPixels\n",
      "Please wait ...\n",
      "Data downloaded to D:\\Madagascar\\Data\\RiverMapping\\RiverMasks\\Betsiboka\\reach_5\\Raw\\Betsiboka_reach_5_2005_DSWE_level_3.tif\n",
      "RAW: Successfully exported D:\\Madagascar\\Data\\RiverMapping\\RiverMasks\\Betsiboka\\reach_5\\Raw\\Betsiboka_reach_5_2005_DSWE_level_3.tif.\n"
     ]
    },
    {
     "name": "stderr",
     "output_type": "stream",
     "text": [
      "C:\\Users\\huckr\\AppData\\Local\\Temp\\ipykernel_22020\\949864737.py:469: UserWarning: Geometry is in a geographic CRS. Results from 'centroid' are likely incorrect. Use 'GeoSeries.to_crs()' to re-project geometries to a projected CRS before this operation.\n",
      "\n",
      "  centroid = grwl_reach_dissolved.geometry.centroid.iloc[0]\n"
     ]
    },
    {
     "name": "stdout",
     "output_type": "stream",
     "text": [
      "Raster successfully saved with compression to: D:\\Madagascar\\Data\\RiverMapping\\RiverMasks\\Betsiboka\\reach_5\\Processed\\Betsiboka_reach_5_2005_DSWE_level_3.tif\n",
      "Processed raster saved to: D:\\Madagascar\\Data\\RiverMapping\\RiverMasks\\Betsiboka\\reach_5\\Processed\\Betsiboka_reach_5_2005_DSWE_level_3.tif\n",
      "PROCESSED: Exported Betsiboka_reach_5_2005_DSWE_level_3.tif to D:\\Madagascar\\Data\\RiverMapping\\RiverMasks\\Betsiboka\\reach_5\\Processed.\n",
      "Generating URL ...\n",
      "Downloading data from https://earthengine.googleapis.com/v1/projects/earthengine-legacy/thumbnails/48bb8e07dd7cdd85b8a52202027c7b7e-89e4f3ad8a41a3053f8ea332240f8a7b:getPixels\n",
      "Please wait ...\n",
      "Data downloaded to D:\\Madagascar\\Data\\RiverMapping\\RiverMasks\\Betsiboka\\reach_5\\Raw\\Betsiboka_reach_5_2006_DSWE_level_3.tif\n",
      "RAW: Successfully exported D:\\Madagascar\\Data\\RiverMapping\\RiverMasks\\Betsiboka\\reach_5\\Raw\\Betsiboka_reach_5_2006_DSWE_level_3.tif.\n"
     ]
    },
    {
     "name": "stderr",
     "output_type": "stream",
     "text": [
      "C:\\Users\\huckr\\AppData\\Local\\Temp\\ipykernel_22020\\949864737.py:469: UserWarning: Geometry is in a geographic CRS. Results from 'centroid' are likely incorrect. Use 'GeoSeries.to_crs()' to re-project geometries to a projected CRS before this operation.\n",
      "\n",
      "  centroid = grwl_reach_dissolved.geometry.centroid.iloc[0]\n"
     ]
    },
    {
     "name": "stdout",
     "output_type": "stream",
     "text": [
      "Raster successfully saved with compression to: D:\\Madagascar\\Data\\RiverMapping\\RiverMasks\\Betsiboka\\reach_5\\Processed\\Betsiboka_reach_5_2006_DSWE_level_3.tif\n",
      "Processed raster saved to: D:\\Madagascar\\Data\\RiverMapping\\RiverMasks\\Betsiboka\\reach_5\\Processed\\Betsiboka_reach_5_2006_DSWE_level_3.tif\n",
      "PROCESSED: Exported Betsiboka_reach_5_2006_DSWE_level_3.tif to D:\\Madagascar\\Data\\RiverMapping\\RiverMasks\\Betsiboka\\reach_5\\Processed.\n",
      "Generating URL ...\n",
      "Downloading data from https://earthengine.googleapis.com/v1/projects/earthengine-legacy/thumbnails/b7f09225020c73ef4651fc516f13bc48-a535bfaf1d44c050ef8deeb30f84940f:getPixels\n",
      "Please wait ...\n",
      "Data downloaded to D:\\Madagascar\\Data\\RiverMapping\\RiverMasks\\Betsiboka\\reach_5\\Raw\\Betsiboka_reach_5_2007_DSWE_level_3.tif\n",
      "RAW: Successfully exported D:\\Madagascar\\Data\\RiverMapping\\RiverMasks\\Betsiboka\\reach_5\\Raw\\Betsiboka_reach_5_2007_DSWE_level_3.tif.\n"
     ]
    },
    {
     "name": "stderr",
     "output_type": "stream",
     "text": [
      "C:\\Users\\huckr\\AppData\\Local\\Temp\\ipykernel_22020\\949864737.py:469: UserWarning: Geometry is in a geographic CRS. Results from 'centroid' are likely incorrect. Use 'GeoSeries.to_crs()' to re-project geometries to a projected CRS before this operation.\n",
      "\n",
      "  centroid = grwl_reach_dissolved.geometry.centroid.iloc[0]\n"
     ]
    },
    {
     "name": "stdout",
     "output_type": "stream",
     "text": [
      "Raster successfully saved with compression to: D:\\Madagascar\\Data\\RiverMapping\\RiverMasks\\Betsiboka\\reach_5\\Processed\\Betsiboka_reach_5_2007_DSWE_level_3.tif\n",
      "Processed raster saved to: D:\\Madagascar\\Data\\RiverMapping\\RiverMasks\\Betsiboka\\reach_5\\Processed\\Betsiboka_reach_5_2007_DSWE_level_3.tif\n",
      "PROCESSED: Exported Betsiboka_reach_5_2007_DSWE_level_3.tif to D:\\Madagascar\\Data\\RiverMapping\\RiverMasks\\Betsiboka\\reach_5\\Processed.\n",
      "Generating URL ...\n",
      "Downloading data from https://earthengine.googleapis.com/v1/projects/earthengine-legacy/thumbnails/aa6ba1ee76d2fb885dc87cb53b4c775a-e357bcda06173bc2c3811e78ff16dcd1:getPixels\n",
      "Please wait ...\n",
      "Data downloaded to D:\\Madagascar\\Data\\RiverMapping\\RiverMasks\\Betsiboka\\reach_5\\Raw\\Betsiboka_reach_5_2008_DSWE_level_3.tif\n",
      "RAW: Successfully exported D:\\Madagascar\\Data\\RiverMapping\\RiverMasks\\Betsiboka\\reach_5\\Raw\\Betsiboka_reach_5_2008_DSWE_level_3.tif.\n"
     ]
    },
    {
     "name": "stderr",
     "output_type": "stream",
     "text": [
      "C:\\Users\\huckr\\AppData\\Local\\Temp\\ipykernel_22020\\949864737.py:469: UserWarning: Geometry is in a geographic CRS. Results from 'centroid' are likely incorrect. Use 'GeoSeries.to_crs()' to re-project geometries to a projected CRS before this operation.\n",
      "\n",
      "  centroid = grwl_reach_dissolved.geometry.centroid.iloc[0]\n"
     ]
    },
    {
     "name": "stdout",
     "output_type": "stream",
     "text": [
      "Raster successfully saved with compression to: D:\\Madagascar\\Data\\RiverMapping\\RiverMasks\\Betsiboka\\reach_5\\Processed\\Betsiboka_reach_5_2008_DSWE_level_3.tif\n",
      "Processed raster saved to: D:\\Madagascar\\Data\\RiverMapping\\RiverMasks\\Betsiboka\\reach_5\\Processed\\Betsiboka_reach_5_2008_DSWE_level_3.tif\n",
      "PROCESSED: Exported Betsiboka_reach_5_2008_DSWE_level_3.tif to D:\\Madagascar\\Data\\RiverMapping\\RiverMasks\\Betsiboka\\reach_5\\Processed.\n",
      "Generating URL ...\n",
      "Downloading data from https://earthengine.googleapis.com/v1/projects/earthengine-legacy/thumbnails/71527c32506b2d8a2f4ff537e0a8787f-e5c2dea55af1322901a01e90e1891099:getPixels\n",
      "Please wait ...\n",
      "Data downloaded to D:\\Madagascar\\Data\\RiverMapping\\RiverMasks\\Betsiboka\\reach_5\\Raw\\Betsiboka_reach_5_2009_DSWE_level_3.tif\n",
      "RAW: Successfully exported D:\\Madagascar\\Data\\RiverMapping\\RiverMasks\\Betsiboka\\reach_5\\Raw\\Betsiboka_reach_5_2009_DSWE_level_3.tif.\n"
     ]
    },
    {
     "name": "stderr",
     "output_type": "stream",
     "text": [
      "C:\\Users\\huckr\\AppData\\Local\\Temp\\ipykernel_22020\\949864737.py:469: UserWarning: Geometry is in a geographic CRS. Results from 'centroid' are likely incorrect. Use 'GeoSeries.to_crs()' to re-project geometries to a projected CRS before this operation.\n",
      "\n",
      "  centroid = grwl_reach_dissolved.geometry.centroid.iloc[0]\n"
     ]
    },
    {
     "name": "stdout",
     "output_type": "stream",
     "text": [
      "Raster successfully saved with compression to: D:\\Madagascar\\Data\\RiverMapping\\RiverMasks\\Betsiboka\\reach_5\\Processed\\Betsiboka_reach_5_2009_DSWE_level_3.tif\n",
      "Processed raster saved to: D:\\Madagascar\\Data\\RiverMapping\\RiverMasks\\Betsiboka\\reach_5\\Processed\\Betsiboka_reach_5_2009_DSWE_level_3.tif\n",
      "PROCESSED: Exported Betsiboka_reach_5_2009_DSWE_level_3.tif to D:\\Madagascar\\Data\\RiverMapping\\RiverMasks\\Betsiboka\\reach_5\\Processed.\n",
      "Generating URL ...\n",
      "Downloading data from https://earthengine.googleapis.com/v1/projects/earthengine-legacy/thumbnails/204cd6abc2adc1888a1ed72c3365d70b-6d91961c42f71a8161dd0063a29b6904:getPixels\n",
      "Please wait ...\n",
      "Data downloaded to D:\\Madagascar\\Data\\RiverMapping\\RiverMasks\\Betsiboka\\reach_5\\Raw\\Betsiboka_reach_5_2010_DSWE_level_3.tif\n",
      "RAW: Successfully exported D:\\Madagascar\\Data\\RiverMapping\\RiverMasks\\Betsiboka\\reach_5\\Raw\\Betsiboka_reach_5_2010_DSWE_level_3.tif.\n"
     ]
    },
    {
     "name": "stderr",
     "output_type": "stream",
     "text": [
      "C:\\Users\\huckr\\AppData\\Local\\Temp\\ipykernel_22020\\949864737.py:469: UserWarning: Geometry is in a geographic CRS. Results from 'centroid' are likely incorrect. Use 'GeoSeries.to_crs()' to re-project geometries to a projected CRS before this operation.\n",
      "\n",
      "  centroid = grwl_reach_dissolved.geometry.centroid.iloc[0]\n"
     ]
    },
    {
     "name": "stdout",
     "output_type": "stream",
     "text": [
      "Raster successfully saved with compression to: D:\\Madagascar\\Data\\RiverMapping\\RiverMasks\\Betsiboka\\reach_5\\Processed\\Betsiboka_reach_5_2010_DSWE_level_3.tif\n",
      "Processed raster saved to: D:\\Madagascar\\Data\\RiverMapping\\RiverMasks\\Betsiboka\\reach_5\\Processed\\Betsiboka_reach_5_2010_DSWE_level_3.tif\n",
      "PROCESSED: Exported Betsiboka_reach_5_2010_DSWE_level_3.tif to D:\\Madagascar\\Data\\RiverMapping\\RiverMasks\\Betsiboka\\reach_5\\Processed.\n",
      "Generating URL ...\n",
      "Downloading data from https://earthengine.googleapis.com/v1/projects/earthengine-legacy/thumbnails/a2e0b77bee2cb9f56e277cf7e3fc768c-885f051ff95700c9bd0c852b7a24df12:getPixels\n",
      "Please wait ...\n",
      "Data downloaded to D:\\Madagascar\\Data\\RiverMapping\\RiverMasks\\Betsiboka\\reach_5\\Raw\\Betsiboka_reach_5_2011_DSWE_level_3.tif\n",
      "RAW: Successfully exported D:\\Madagascar\\Data\\RiverMapping\\RiverMasks\\Betsiboka\\reach_5\\Raw\\Betsiboka_reach_5_2011_DSWE_level_3.tif.\n"
     ]
    },
    {
     "name": "stderr",
     "output_type": "stream",
     "text": [
      "C:\\Users\\huckr\\AppData\\Local\\Temp\\ipykernel_22020\\949864737.py:469: UserWarning: Geometry is in a geographic CRS. Results from 'centroid' are likely incorrect. Use 'GeoSeries.to_crs()' to re-project geometries to a projected CRS before this operation.\n",
      "\n",
      "  centroid = grwl_reach_dissolved.geometry.centroid.iloc[0]\n"
     ]
    },
    {
     "name": "stdout",
     "output_type": "stream",
     "text": [
      "Raster successfully saved with compression to: D:\\Madagascar\\Data\\RiverMapping\\RiverMasks\\Betsiboka\\reach_5\\Processed\\Betsiboka_reach_5_2011_DSWE_level_3.tif\n",
      "Processed raster saved to: D:\\Madagascar\\Data\\RiverMapping\\RiverMasks\\Betsiboka\\reach_5\\Processed\\Betsiboka_reach_5_2011_DSWE_level_3.tif\n",
      "PROCESSED: Exported Betsiboka_reach_5_2011_DSWE_level_3.tif to D:\\Madagascar\\Data\\RiverMapping\\RiverMasks\\Betsiboka\\reach_5\\Processed.\n",
      "Generating URL ...\n",
      "An error occurred while downloading.\n",
      "Image.select: Band pattern 'Swir2' was applied to an Image with no bands. See https://developers.google.com/earth-engine/guides/debugging#no-bands\n",
      "Export failed: File D:\\Madagascar\\Data\\RiverMapping\\RiverMasks\\Betsiboka\\reach_5\\Raw\\Betsiboka_reach_5_2012_DSWE_level_3.tif not found.\n",
      "Export failed for Betsiboka_reach_5_2012_DSWE_level_3.tif, attempting tiling...\n",
      "Generating URL ...\n",
      "An error occurred while downloading.\n",
      "Image.select: Band pattern 'Nir' was applied to an Image with no bands. See https://developers.google.com/earth-engine/guides/debugging#no-bands\n",
      "Export failed: File D:\\Madagascar\\Data\\RiverMapping\\RiverMasks\\Betsiboka\\reach_5\\Raw\\Betsiboka_reach_5_2012_tile_0_DSWE_level_3.tif not found.\n",
      "No tiles found for stitching.\n",
      "Failed to export Betsiboka_reach_5_2012_DSWE_level_3.tif. Error: D:/Madagascar/Data/RiverMapping/RiverMasks/Betsiboka/reach_5/Raw/Betsiboka_reach_5_2012_DSWE_level_3.tif: No such file or directory\n",
      "Generating URL ...\n",
      "Downloading data from https://earthengine.googleapis.com/v1/projects/earthengine-legacy/thumbnails/243cdfd79e633b4a143c8449bbd1a4da-5cd44f2909701b8e4f20721db9542a33:getPixels\n",
      "Please wait ...\n",
      "Data downloaded to D:\\Madagascar\\Data\\RiverMapping\\RiverMasks\\Betsiboka\\reach_5\\Raw\\Betsiboka_reach_5_2013_DSWE_level_3.tif\n",
      "RAW: Successfully exported D:\\Madagascar\\Data\\RiverMapping\\RiverMasks\\Betsiboka\\reach_5\\Raw\\Betsiboka_reach_5_2013_DSWE_level_3.tif.\n"
     ]
    },
    {
     "name": "stderr",
     "output_type": "stream",
     "text": [
      "C:\\Users\\huckr\\AppData\\Local\\Temp\\ipykernel_22020\\949864737.py:469: UserWarning: Geometry is in a geographic CRS. Results from 'centroid' are likely incorrect. Use 'GeoSeries.to_crs()' to re-project geometries to a projected CRS before this operation.\n",
      "\n",
      "  centroid = grwl_reach_dissolved.geometry.centroid.iloc[0]\n"
     ]
    },
    {
     "name": "stdout",
     "output_type": "stream",
     "text": [
      "Raster successfully saved with compression to: D:\\Madagascar\\Data\\RiverMapping\\RiverMasks\\Betsiboka\\reach_5\\Processed\\Betsiboka_reach_5_2013_DSWE_level_3.tif\n",
      "Processed raster saved to: D:\\Madagascar\\Data\\RiverMapping\\RiverMasks\\Betsiboka\\reach_5\\Processed\\Betsiboka_reach_5_2013_DSWE_level_3.tif\n",
      "PROCESSED: Exported Betsiboka_reach_5_2013_DSWE_level_3.tif to D:\\Madagascar\\Data\\RiverMapping\\RiverMasks\\Betsiboka\\reach_5\\Processed.\n",
      "Generating URL ...\n",
      "Downloading data from https://earthengine.googleapis.com/v1/projects/earthengine-legacy/thumbnails/cc034b8f75533fc1a1d057fcca8d9950-b33c17f01a0b2c819dc5f670f5076e9d:getPixels\n",
      "Please wait ...\n",
      "Data downloaded to D:\\Madagascar\\Data\\RiverMapping\\RiverMasks\\Betsiboka\\reach_5\\Raw\\Betsiboka_reach_5_2014_DSWE_level_3.tif\n",
      "RAW: Successfully exported D:\\Madagascar\\Data\\RiverMapping\\RiverMasks\\Betsiboka\\reach_5\\Raw\\Betsiboka_reach_5_2014_DSWE_level_3.tif.\n"
     ]
    },
    {
     "name": "stderr",
     "output_type": "stream",
     "text": [
      "C:\\Users\\huckr\\AppData\\Local\\Temp\\ipykernel_22020\\949864737.py:469: UserWarning: Geometry is in a geographic CRS. Results from 'centroid' are likely incorrect. Use 'GeoSeries.to_crs()' to re-project geometries to a projected CRS before this operation.\n",
      "\n",
      "  centroid = grwl_reach_dissolved.geometry.centroid.iloc[0]\n"
     ]
    },
    {
     "name": "stdout",
     "output_type": "stream",
     "text": [
      "Raster successfully saved with compression to: D:\\Madagascar\\Data\\RiverMapping\\RiverMasks\\Betsiboka\\reach_5\\Processed\\Betsiboka_reach_5_2014_DSWE_level_3.tif\n",
      "Processed raster saved to: D:\\Madagascar\\Data\\RiverMapping\\RiverMasks\\Betsiboka\\reach_5\\Processed\\Betsiboka_reach_5_2014_DSWE_level_3.tif\n",
      "PROCESSED: Exported Betsiboka_reach_5_2014_DSWE_level_3.tif to D:\\Madagascar\\Data\\RiverMapping\\RiverMasks\\Betsiboka\\reach_5\\Processed.\n",
      "Generating URL ...\n",
      "Downloading data from https://earthengine.googleapis.com/v1/projects/earthengine-legacy/thumbnails/2921021db29d082f81836b39b0b87a05-fbf906a3645e732951328e09ea5f31e2:getPixels\n",
      "Please wait ...\n",
      "Data downloaded to D:\\Madagascar\\Data\\RiverMapping\\RiverMasks\\Betsiboka\\reach_5\\Raw\\Betsiboka_reach_5_2015_DSWE_level_3.tif\n",
      "RAW: Successfully exported D:\\Madagascar\\Data\\RiverMapping\\RiverMasks\\Betsiboka\\reach_5\\Raw\\Betsiboka_reach_5_2015_DSWE_level_3.tif.\n"
     ]
    },
    {
     "name": "stderr",
     "output_type": "stream",
     "text": [
      "C:\\Users\\huckr\\AppData\\Local\\Temp\\ipykernel_22020\\949864737.py:469: UserWarning: Geometry is in a geographic CRS. Results from 'centroid' are likely incorrect. Use 'GeoSeries.to_crs()' to re-project geometries to a projected CRS before this operation.\n",
      "\n",
      "  centroid = grwl_reach_dissolved.geometry.centroid.iloc[0]\n"
     ]
    },
    {
     "name": "stdout",
     "output_type": "stream",
     "text": [
      "Raster successfully saved with compression to: D:\\Madagascar\\Data\\RiverMapping\\RiverMasks\\Betsiboka\\reach_5\\Processed\\Betsiboka_reach_5_2015_DSWE_level_3.tif\n",
      "Processed raster saved to: D:\\Madagascar\\Data\\RiverMapping\\RiverMasks\\Betsiboka\\reach_5\\Processed\\Betsiboka_reach_5_2015_DSWE_level_3.tif\n",
      "PROCESSED: Exported Betsiboka_reach_5_2015_DSWE_level_3.tif to D:\\Madagascar\\Data\\RiverMapping\\RiverMasks\\Betsiboka\\reach_5\\Processed.\n",
      "Generating URL ...\n",
      "Downloading data from https://earthengine.googleapis.com/v1/projects/earthengine-legacy/thumbnails/d645166e7be957b2132d8ef5eabfa988-8aace126875a2d14954f71a3f817b726:getPixels\n",
      "Please wait ...\n",
      "Data downloaded to D:\\Madagascar\\Data\\RiverMapping\\RiverMasks\\Betsiboka\\reach_5\\Raw\\Betsiboka_reach_5_2016_DSWE_level_3.tif\n",
      "RAW: Successfully exported D:\\Madagascar\\Data\\RiverMapping\\RiverMasks\\Betsiboka\\reach_5\\Raw\\Betsiboka_reach_5_2016_DSWE_level_3.tif.\n"
     ]
    },
    {
     "name": "stderr",
     "output_type": "stream",
     "text": [
      "C:\\Users\\huckr\\AppData\\Local\\Temp\\ipykernel_22020\\949864737.py:469: UserWarning: Geometry is in a geographic CRS. Results from 'centroid' are likely incorrect. Use 'GeoSeries.to_crs()' to re-project geometries to a projected CRS before this operation.\n",
      "\n",
      "  centroid = grwl_reach_dissolved.geometry.centroid.iloc[0]\n"
     ]
    },
    {
     "name": "stdout",
     "output_type": "stream",
     "text": [
      "Raster successfully saved with compression to: D:\\Madagascar\\Data\\RiverMapping\\RiverMasks\\Betsiboka\\reach_5\\Processed\\Betsiboka_reach_5_2016_DSWE_level_3.tif\n",
      "Processed raster saved to: D:\\Madagascar\\Data\\RiverMapping\\RiverMasks\\Betsiboka\\reach_5\\Processed\\Betsiboka_reach_5_2016_DSWE_level_3.tif\n",
      "PROCESSED: Exported Betsiboka_reach_5_2016_DSWE_level_3.tif to D:\\Madagascar\\Data\\RiverMapping\\RiverMasks\\Betsiboka\\reach_5\\Processed.\n",
      "Generating URL ...\n",
      "Downloading data from https://earthengine.googleapis.com/v1/projects/earthengine-legacy/thumbnails/8781cb189452e943eda93794fbce82ce-cf1353ef3cb3edc3c0dabbfb81b9d46d:getPixels\n",
      "Please wait ...\n",
      "Data downloaded to D:\\Madagascar\\Data\\RiverMapping\\RiverMasks\\Betsiboka\\reach_5\\Raw\\Betsiboka_reach_5_2017_DSWE_level_3.tif\n",
      "RAW: Successfully exported D:\\Madagascar\\Data\\RiverMapping\\RiverMasks\\Betsiboka\\reach_5\\Raw\\Betsiboka_reach_5_2017_DSWE_level_3.tif.\n"
     ]
    },
    {
     "name": "stderr",
     "output_type": "stream",
     "text": [
      "C:\\Users\\huckr\\AppData\\Local\\Temp\\ipykernel_22020\\949864737.py:469: UserWarning: Geometry is in a geographic CRS. Results from 'centroid' are likely incorrect. Use 'GeoSeries.to_crs()' to re-project geometries to a projected CRS before this operation.\n",
      "\n",
      "  centroid = grwl_reach_dissolved.geometry.centroid.iloc[0]\n"
     ]
    },
    {
     "name": "stdout",
     "output_type": "stream",
     "text": [
      "Raster successfully saved with compression to: D:\\Madagascar\\Data\\RiverMapping\\RiverMasks\\Betsiboka\\reach_5\\Processed\\Betsiboka_reach_5_2017_DSWE_level_3.tif\n",
      "Processed raster saved to: D:\\Madagascar\\Data\\RiverMapping\\RiverMasks\\Betsiboka\\reach_5\\Processed\\Betsiboka_reach_5_2017_DSWE_level_3.tif\n",
      "PROCESSED: Exported Betsiboka_reach_5_2017_DSWE_level_3.tif to D:\\Madagascar\\Data\\RiverMapping\\RiverMasks\\Betsiboka\\reach_5\\Processed.\n",
      "Generating URL ...\n",
      "Downloading data from https://earthengine.googleapis.com/v1/projects/earthengine-legacy/thumbnails/150ad34a753dde77f5d131abe690e72a-22ad5c67d973c2b79dca227e2f2e7903:getPixels\n",
      "Please wait ...\n",
      "Data downloaded to D:\\Madagascar\\Data\\RiverMapping\\RiverMasks\\Betsiboka\\reach_5\\Raw\\Betsiboka_reach_5_2018_DSWE_level_3.tif\n",
      "RAW: Successfully exported D:\\Madagascar\\Data\\RiverMapping\\RiverMasks\\Betsiboka\\reach_5\\Raw\\Betsiboka_reach_5_2018_DSWE_level_3.tif.\n"
     ]
    },
    {
     "name": "stderr",
     "output_type": "stream",
     "text": [
      "C:\\Users\\huckr\\AppData\\Local\\Temp\\ipykernel_22020\\949864737.py:469: UserWarning: Geometry is in a geographic CRS. Results from 'centroid' are likely incorrect. Use 'GeoSeries.to_crs()' to re-project geometries to a projected CRS before this operation.\n",
      "\n",
      "  centroid = grwl_reach_dissolved.geometry.centroid.iloc[0]\n"
     ]
    },
    {
     "name": "stdout",
     "output_type": "stream",
     "text": [
      "Raster successfully saved with compression to: D:\\Madagascar\\Data\\RiverMapping\\RiverMasks\\Betsiboka\\reach_5\\Processed\\Betsiboka_reach_5_2018_DSWE_level_3.tif\n",
      "Processed raster saved to: D:\\Madagascar\\Data\\RiverMapping\\RiverMasks\\Betsiboka\\reach_5\\Processed\\Betsiboka_reach_5_2018_DSWE_level_3.tif\n",
      "PROCESSED: Exported Betsiboka_reach_5_2018_DSWE_level_3.tif to D:\\Madagascar\\Data\\RiverMapping\\RiverMasks\\Betsiboka\\reach_5\\Processed.\n",
      "Generating URL ...\n",
      "Downloading data from https://earthengine.googleapis.com/v1/projects/earthengine-legacy/thumbnails/50de74b95fba0a856dc3a13702d25d3a-50589a8f2c3ee47aa5b55afc0f6aebfb:getPixels\n",
      "Please wait ...\n",
      "Data downloaded to D:\\Madagascar\\Data\\RiverMapping\\RiverMasks\\Betsiboka\\reach_5\\Raw\\Betsiboka_reach_5_2019_DSWE_level_3.tif\n",
      "RAW: Successfully exported D:\\Madagascar\\Data\\RiverMapping\\RiverMasks\\Betsiboka\\reach_5\\Raw\\Betsiboka_reach_5_2019_DSWE_level_3.tif.\n"
     ]
    },
    {
     "name": "stderr",
     "output_type": "stream",
     "text": [
      "C:\\Users\\huckr\\AppData\\Local\\Temp\\ipykernel_22020\\949864737.py:469: UserWarning: Geometry is in a geographic CRS. Results from 'centroid' are likely incorrect. Use 'GeoSeries.to_crs()' to re-project geometries to a projected CRS before this operation.\n",
      "\n",
      "  centroid = grwl_reach_dissolved.geometry.centroid.iloc[0]\n"
     ]
    },
    {
     "name": "stdout",
     "output_type": "stream",
     "text": [
      "Raster successfully saved with compression to: D:\\Madagascar\\Data\\RiverMapping\\RiverMasks\\Betsiboka\\reach_5\\Processed\\Betsiboka_reach_5_2019_DSWE_level_3.tif\n",
      "Processed raster saved to: D:\\Madagascar\\Data\\RiverMapping\\RiverMasks\\Betsiboka\\reach_5\\Processed\\Betsiboka_reach_5_2019_DSWE_level_3.tif\n",
      "PROCESSED: Exported Betsiboka_reach_5_2019_DSWE_level_3.tif to D:\\Madagascar\\Data\\RiverMapping\\RiverMasks\\Betsiboka\\reach_5\\Processed.\n",
      "Generating URL ...\n",
      "Downloading data from https://earthengine.googleapis.com/v1/projects/earthengine-legacy/thumbnails/fb49a153f96e88af9862414cf90a486b-7b4fd27f65e86a56ab67bae035ab25a1:getPixels\n",
      "Please wait ...\n",
      "Data downloaded to D:\\Madagascar\\Data\\RiverMapping\\RiverMasks\\Betsiboka\\reach_5\\Raw\\Betsiboka_reach_5_2020_DSWE_level_3.tif\n",
      "RAW: Successfully exported D:\\Madagascar\\Data\\RiverMapping\\RiverMasks\\Betsiboka\\reach_5\\Raw\\Betsiboka_reach_5_2020_DSWE_level_3.tif.\n"
     ]
    },
    {
     "name": "stderr",
     "output_type": "stream",
     "text": [
      "C:\\Users\\huckr\\AppData\\Local\\Temp\\ipykernel_22020\\949864737.py:469: UserWarning: Geometry is in a geographic CRS. Results from 'centroid' are likely incorrect. Use 'GeoSeries.to_crs()' to re-project geometries to a projected CRS before this operation.\n",
      "\n",
      "  centroid = grwl_reach_dissolved.geometry.centroid.iloc[0]\n"
     ]
    },
    {
     "name": "stdout",
     "output_type": "stream",
     "text": [
      "Raster successfully saved with compression to: D:\\Madagascar\\Data\\RiverMapping\\RiverMasks\\Betsiboka\\reach_5\\Processed\\Betsiboka_reach_5_2020_DSWE_level_3.tif\n",
      "Processed raster saved to: D:\\Madagascar\\Data\\RiverMapping\\RiverMasks\\Betsiboka\\reach_5\\Processed\\Betsiboka_reach_5_2020_DSWE_level_3.tif\n",
      "PROCESSED: Exported Betsiboka_reach_5_2020_DSWE_level_3.tif to D:\\Madagascar\\Data\\RiverMapping\\RiverMasks\\Betsiboka\\reach_5\\Processed.\n",
      "Generating URL ...\n",
      "Downloading data from https://earthengine.googleapis.com/v1/projects/earthengine-legacy/thumbnails/10dba060fb5c46ff6408d8e373bb4abf-eb9a183785e0f72f692b76e1e0eab708:getPixels\n",
      "Please wait ...\n",
      "Data downloaded to D:\\Madagascar\\Data\\RiverMapping\\RiverMasks\\Betsiboka\\reach_5\\Raw\\Betsiboka_reach_5_2021_DSWE_level_3.tif\n",
      "RAW: Successfully exported D:\\Madagascar\\Data\\RiverMapping\\RiverMasks\\Betsiboka\\reach_5\\Raw\\Betsiboka_reach_5_2021_DSWE_level_3.tif.\n"
     ]
    },
    {
     "name": "stderr",
     "output_type": "stream",
     "text": [
      "C:\\Users\\huckr\\AppData\\Local\\Temp\\ipykernel_22020\\949864737.py:469: UserWarning: Geometry is in a geographic CRS. Results from 'centroid' are likely incorrect. Use 'GeoSeries.to_crs()' to re-project geometries to a projected CRS before this operation.\n",
      "\n",
      "  centroid = grwl_reach_dissolved.geometry.centroid.iloc[0]\n"
     ]
    },
    {
     "name": "stdout",
     "output_type": "stream",
     "text": [
      "Raster successfully saved with compression to: D:\\Madagascar\\Data\\RiverMapping\\RiverMasks\\Betsiboka\\reach_5\\Processed\\Betsiboka_reach_5_2021_DSWE_level_3.tif\n",
      "Processed raster saved to: D:\\Madagascar\\Data\\RiverMapping\\RiverMasks\\Betsiboka\\reach_5\\Processed\\Betsiboka_reach_5_2021_DSWE_level_3.tif\n",
      "PROCESSED: Exported Betsiboka_reach_5_2021_DSWE_level_3.tif to D:\\Madagascar\\Data\\RiverMapping\\RiverMasks\\Betsiboka\\reach_5\\Processed.\n",
      "Generating URL ...\n",
      "Downloading data from https://earthengine.googleapis.com/v1/projects/earthengine-legacy/thumbnails/a62fe8910bd77ed35d6e7f6c663337aa-86caa7f86e5a081290b389b4cad5bbef:getPixels\n",
      "Please wait ...\n",
      "Data downloaded to D:\\Madagascar\\Data\\RiverMapping\\RiverMasks\\Betsiboka\\reach_5\\Raw\\Betsiboka_reach_5_2022_DSWE_level_3.tif\n",
      "RAW: Successfully exported D:\\Madagascar\\Data\\RiverMapping\\RiverMasks\\Betsiboka\\reach_5\\Raw\\Betsiboka_reach_5_2022_DSWE_level_3.tif.\n"
     ]
    },
    {
     "name": "stderr",
     "output_type": "stream",
     "text": [
      "C:\\Users\\huckr\\AppData\\Local\\Temp\\ipykernel_22020\\949864737.py:469: UserWarning: Geometry is in a geographic CRS. Results from 'centroid' are likely incorrect. Use 'GeoSeries.to_crs()' to re-project geometries to a projected CRS before this operation.\n",
      "\n",
      "  centroid = grwl_reach_dissolved.geometry.centroid.iloc[0]\n"
     ]
    },
    {
     "name": "stdout",
     "output_type": "stream",
     "text": [
      "Raster successfully saved with compression to: D:\\Madagascar\\Data\\RiverMapping\\RiverMasks\\Betsiboka\\reach_5\\Processed\\Betsiboka_reach_5_2022_DSWE_level_3.tif\n",
      "Processed raster saved to: D:\\Madagascar\\Data\\RiverMapping\\RiverMasks\\Betsiboka\\reach_5\\Processed\\Betsiboka_reach_5_2022_DSWE_level_3.tif\n",
      "PROCESSED: Exported Betsiboka_reach_5_2022_DSWE_level_3.tif to D:\\Madagascar\\Data\\RiverMapping\\RiverMasks\\Betsiboka\\reach_5\\Processed.\n",
      "Generating URL ...\n",
      "Downloading data from https://earthengine.googleapis.com/v1/projects/earthengine-legacy/thumbnails/5e5b15227b13dc577da0e03e067fb92a-fc96dce53aec2316e4e24fee333e6dff:getPixels\n",
      "Please wait ...\n",
      "Data downloaded to D:\\Madagascar\\Data\\RiverMapping\\RiverMasks\\Betsiboka\\reach_5\\Raw\\Betsiboka_reach_5_2023_DSWE_level_3.tif\n",
      "RAW: Successfully exported D:\\Madagascar\\Data\\RiverMapping\\RiverMasks\\Betsiboka\\reach_5\\Raw\\Betsiboka_reach_5_2023_DSWE_level_3.tif.\n"
     ]
    },
    {
     "name": "stderr",
     "output_type": "stream",
     "text": [
      "C:\\Users\\huckr\\AppData\\Local\\Temp\\ipykernel_22020\\949864737.py:469: UserWarning: Geometry is in a geographic CRS. Results from 'centroid' are likely incorrect. Use 'GeoSeries.to_crs()' to re-project geometries to a projected CRS before this operation.\n",
      "\n",
      "  centroid = grwl_reach_dissolved.geometry.centroid.iloc[0]\n"
     ]
    },
    {
     "name": "stdout",
     "output_type": "stream",
     "text": [
      "Raster successfully saved with compression to: D:\\Madagascar\\Data\\RiverMapping\\RiverMasks\\Betsiboka\\reach_5\\Processed\\Betsiboka_reach_5_2023_DSWE_level_3.tif\n",
      "Processed raster saved to: D:\\Madagascar\\Data\\RiverMapping\\RiverMasks\\Betsiboka\\reach_5\\Processed\\Betsiboka_reach_5_2023_DSWE_level_3.tif\n",
      "PROCESSED: Exported Betsiboka_reach_5_2023_DSWE_level_3.tif to D:\\Madagascar\\Data\\RiverMapping\\RiverMasks\\Betsiboka\\reach_5\\Processed.\n",
      "Generating URL ...\n",
      "Downloading data from https://earthengine.googleapis.com/v1/projects/earthengine-legacy/thumbnails/c94b107f421787bec5ea5ef477af2fbd-6e5ef15842c20cc10d7e7a542e480143:getPixels\n",
      "Please wait ...\n",
      "Data downloaded to D:\\Madagascar\\Data\\RiverMapping\\RiverMasks\\Betsiboka\\reach_5\\Raw\\Betsiboka_reach_5_2024_DSWE_level_3.tif\n",
      "RAW: Successfully exported D:\\Madagascar\\Data\\RiverMapping\\RiverMasks\\Betsiboka\\reach_5\\Raw\\Betsiboka_reach_5_2024_DSWE_level_3.tif.\n"
     ]
    },
    {
     "name": "stderr",
     "output_type": "stream",
     "text": [
      "C:\\Users\\huckr\\AppData\\Local\\Temp\\ipykernel_22020\\949864737.py:469: UserWarning: Geometry is in a geographic CRS. Results from 'centroid' are likely incorrect. Use 'GeoSeries.to_crs()' to re-project geometries to a projected CRS before this operation.\n",
      "\n",
      "  centroid = grwl_reach_dissolved.geometry.centroid.iloc[0]\n"
     ]
    },
    {
     "name": "stdout",
     "output_type": "stream",
     "text": [
      "Raster successfully saved with compression to: D:\\Madagascar\\Data\\RiverMapping\\RiverMasks\\Betsiboka\\reach_5\\Processed\\Betsiboka_reach_5_2024_DSWE_level_3.tif\n",
      "Processed raster saved to: D:\\Madagascar\\Data\\RiverMapping\\RiverMasks\\Betsiboka\\reach_5\\Processed\\Betsiboka_reach_5_2024_DSWE_level_3.tif\n",
      "PROCESSED: Exported Betsiboka_reach_5_2024_DSWE_level_3.tif to D:\\Madagascar\\Data\\RiverMapping\\RiverMasks\\Betsiboka\\reach_5\\Processed.\n",
      "Generating URL ...\n",
      "Downloading data from https://earthengine.googleapis.com/v1/projects/earthengine-legacy/thumbnails/2c50a4d63d528c0e743f2d778dd6bbd5-34efe4d0503e3c2067fefab57c0ba064:getPixels\n",
      "Please wait ...\n",
      "Data downloaded to D:\\Madagascar\\Data\\RiverMapping\\RiverMasks\\Betsiboka\\reach_5\\Raw\\Betsiboka_reach_5_2025_DSWE_level_3.tif\n",
      "RAW: Successfully exported D:\\Madagascar\\Data\\RiverMapping\\RiverMasks\\Betsiboka\\reach_5\\Raw\\Betsiboka_reach_5_2025_DSWE_level_3.tif.\n"
     ]
    },
    {
     "name": "stderr",
     "output_type": "stream",
     "text": [
      "C:\\Users\\huckr\\AppData\\Local\\Temp\\ipykernel_22020\\949864737.py:469: UserWarning: Geometry is in a geographic CRS. Results from 'centroid' are likely incorrect. Use 'GeoSeries.to_crs()' to re-project geometries to a projected CRS before this operation.\n",
      "\n",
      "  centroid = grwl_reach_dissolved.geometry.centroid.iloc[0]\n"
     ]
    },
    {
     "name": "stdout",
     "output_type": "stream",
     "text": [
      "Raster successfully saved with compression to: D:\\Madagascar\\Data\\RiverMapping\\RiverMasks\\Betsiboka\\reach_5\\Processed\\Betsiboka_reach_5_2025_DSWE_level_3.tif\n",
      "Processed raster saved to: D:\\Madagascar\\Data\\RiverMapping\\RiverMasks\\Betsiboka\\reach_5\\Processed\\Betsiboka_reach_5_2025_DSWE_level_3.tif\n",
      "PROCESSED: Exported Betsiboka_reach_5_2025_DSWE_level_3.tif to D:\\Madagascar\\Data\\RiverMapping\\RiverMasks\\Betsiboka\\reach_5\\Processed.\n",
      "Generating URL ...\n",
      "Downloading data from https://earthengine.googleapis.com/v1/projects/earthengine-legacy/thumbnails/6c75dbe73fd9328934221bb4cce831f8-f2256d2744d676b7b46f3b5a5a2a5bec:getPixels\n",
      "Please wait ...\n",
      "Data downloaded to D:\\Madagascar\\Data\\RiverMapping\\RiverMasks\\Betsiboka\\reach_4\\Raw\\Betsiboka_reach_4_1984_DSWE_level_3.tif\n",
      "RAW: Successfully exported D:\\Madagascar\\Data\\RiverMapping\\RiverMasks\\Betsiboka\\reach_4\\Raw\\Betsiboka_reach_4_1984_DSWE_level_3.tif.\n"
     ]
    },
    {
     "name": "stderr",
     "output_type": "stream",
     "text": [
      "C:\\Users\\huckr\\AppData\\Local\\Temp\\ipykernel_22020\\949864737.py:469: UserWarning: Geometry is in a geographic CRS. Results from 'centroid' are likely incorrect. Use 'GeoSeries.to_crs()' to re-project geometries to a projected CRS before this operation.\n",
      "\n",
      "  centroid = grwl_reach_dissolved.geometry.centroid.iloc[0]\n"
     ]
    },
    {
     "name": "stdout",
     "output_type": "stream",
     "text": [
      "Raster successfully saved with compression to: D:\\Madagascar\\Data\\RiverMapping\\RiverMasks\\Betsiboka\\reach_4\\Processed\\Betsiboka_reach_4_1984_DSWE_level_3.tif\n",
      "Processed raster saved to: D:\\Madagascar\\Data\\RiverMapping\\RiverMasks\\Betsiboka\\reach_4\\Processed\\Betsiboka_reach_4_1984_DSWE_level_3.tif\n",
      "PROCESSED: Exported Betsiboka_reach_4_1984_DSWE_level_3.tif to D:\\Madagascar\\Data\\RiverMapping\\RiverMasks\\Betsiboka\\reach_4\\Processed.\n",
      "Generating URL ...\n",
      "Downloading data from https://earthengine.googleapis.com/v1/projects/earthengine-legacy/thumbnails/c9386fc074b742b378bd1d9f4f64666f-d6851a108388a1eacdb03b1bf6b7861e:getPixels\n",
      "Please wait ...\n",
      "Data downloaded to D:\\Madagascar\\Data\\RiverMapping\\RiverMasks\\Betsiboka\\reach_4\\Raw\\Betsiboka_reach_4_1985_DSWE_level_3.tif\n",
      "RAW: Successfully exported D:\\Madagascar\\Data\\RiverMapping\\RiverMasks\\Betsiboka\\reach_4\\Raw\\Betsiboka_reach_4_1985_DSWE_level_3.tif.\n"
     ]
    },
    {
     "name": "stderr",
     "output_type": "stream",
     "text": [
      "C:\\Users\\huckr\\AppData\\Local\\Temp\\ipykernel_22020\\949864737.py:469: UserWarning: Geometry is in a geographic CRS. Results from 'centroid' are likely incorrect. Use 'GeoSeries.to_crs()' to re-project geometries to a projected CRS before this operation.\n",
      "\n",
      "  centroid = grwl_reach_dissolved.geometry.centroid.iloc[0]\n"
     ]
    },
    {
     "name": "stdout",
     "output_type": "stream",
     "text": [
      "Raster successfully saved with compression to: D:\\Madagascar\\Data\\RiverMapping\\RiverMasks\\Betsiboka\\reach_4\\Processed\\Betsiboka_reach_4_1985_DSWE_level_3.tif\n",
      "Processed raster saved to: D:\\Madagascar\\Data\\RiverMapping\\RiverMasks\\Betsiboka\\reach_4\\Processed\\Betsiboka_reach_4_1985_DSWE_level_3.tif\n",
      "PROCESSED: Exported Betsiboka_reach_4_1985_DSWE_level_3.tif to D:\\Madagascar\\Data\\RiverMapping\\RiverMasks\\Betsiboka\\reach_4\\Processed.\n",
      "Generating URL ...\n",
      "An error occurred while downloading.\n",
      "Image.select: Band pattern 'Nir' was applied to an Image with no bands. See https://developers.google.com/earth-engine/guides/debugging#no-bands\n",
      "Export failed: File D:\\Madagascar\\Data\\RiverMapping\\RiverMasks\\Betsiboka\\reach_4\\Raw\\Betsiboka_reach_4_1986_DSWE_level_3.tif not found.\n",
      "Export failed for Betsiboka_reach_4_1986_DSWE_level_3.tif, attempting tiling...\n",
      "Generating URL ...\n",
      "An error occurred while downloading.\n",
      "Image.normalizedDifference: No band named 'Nir'. Available band names: [].\n",
      "Export failed: File D:\\Madagascar\\Data\\RiverMapping\\RiverMasks\\Betsiboka\\reach_4\\Raw\\Betsiboka_reach_4_1986_tile_0_DSWE_level_3.tif not found.\n",
      "No tiles found for stitching.\n",
      "Failed to export Betsiboka_reach_4_1986_DSWE_level_3.tif. Error: D:/Madagascar/Data/RiverMapping/RiverMasks/Betsiboka/reach_4/Raw/Betsiboka_reach_4_1986_DSWE_level_3.tif: No such file or directory\n",
      "Generating URL ...\n",
      "Downloading data from https://earthengine.googleapis.com/v1/projects/earthengine-legacy/thumbnails/07809e75047ea9f90ce9480b6ec4d99a-ab174ee0e86b71d2ce899b1cbcd31034:getPixels\n",
      "Please wait ...\n",
      "Data downloaded to D:\\Madagascar\\Data\\RiverMapping\\RiverMasks\\Betsiboka\\reach_4\\Raw\\Betsiboka_reach_4_1987_DSWE_level_3.tif\n",
      "RAW: Successfully exported D:\\Madagascar\\Data\\RiverMapping\\RiverMasks\\Betsiboka\\reach_4\\Raw\\Betsiboka_reach_4_1987_DSWE_level_3.tif.\n"
     ]
    },
    {
     "name": "stderr",
     "output_type": "stream",
     "text": [
      "C:\\Users\\huckr\\AppData\\Local\\Temp\\ipykernel_22020\\949864737.py:469: UserWarning: Geometry is in a geographic CRS. Results from 'centroid' are likely incorrect. Use 'GeoSeries.to_crs()' to re-project geometries to a projected CRS before this operation.\n",
      "\n",
      "  centroid = grwl_reach_dissolved.geometry.centroid.iloc[0]\n"
     ]
    },
    {
     "name": "stdout",
     "output_type": "stream",
     "text": [
      "Raster successfully saved with compression to: D:\\Madagascar\\Data\\RiverMapping\\RiverMasks\\Betsiboka\\reach_4\\Processed\\Betsiboka_reach_4_1987_DSWE_level_3.tif\n",
      "Processed raster saved to: D:\\Madagascar\\Data\\RiverMapping\\RiverMasks\\Betsiboka\\reach_4\\Processed\\Betsiboka_reach_4_1987_DSWE_level_3.tif\n",
      "PROCESSED: Exported Betsiboka_reach_4_1987_DSWE_level_3.tif to D:\\Madagascar\\Data\\RiverMapping\\RiverMasks\\Betsiboka\\reach_4\\Processed.\n",
      "Generating URL ...\n",
      "An error occurred while downloading.\n",
      "Image.select: Band pattern 'Swir2' was applied to an Image with no bands. See https://developers.google.com/earth-engine/guides/debugging#no-bands\n",
      "Export failed: File D:\\Madagascar\\Data\\RiverMapping\\RiverMasks\\Betsiboka\\reach_4\\Raw\\Betsiboka_reach_4_1988_DSWE_level_3.tif not found.\n",
      "Export failed for Betsiboka_reach_4_1988_DSWE_level_3.tif, attempting tiling...\n",
      "Generating URL ...\n",
      "An error occurred while downloading.\n",
      "Image.select: Band pattern 'Swir2' was applied to an Image with no bands. See https://developers.google.com/earth-engine/guides/debugging#no-bands\n",
      "Export failed: File D:\\Madagascar\\Data\\RiverMapping\\RiverMasks\\Betsiboka\\reach_4\\Raw\\Betsiboka_reach_4_1988_tile_0_DSWE_level_3.tif not found.\n",
      "No tiles found for stitching.\n",
      "Failed to export Betsiboka_reach_4_1988_DSWE_level_3.tif. Error: D:/Madagascar/Data/RiverMapping/RiverMasks/Betsiboka/reach_4/Raw/Betsiboka_reach_4_1988_DSWE_level_3.tif: No such file or directory\n",
      "Generating URL ...\n",
      "Downloading data from https://earthengine.googleapis.com/v1/projects/earthengine-legacy/thumbnails/58ed8e664859d0f2910d78f3051cbb74-7e166c0b46ddc492c0c931cef367f497:getPixels\n",
      "Please wait ...\n",
      "Data downloaded to D:\\Madagascar\\Data\\RiverMapping\\RiverMasks\\Betsiboka\\reach_4\\Raw\\Betsiboka_reach_4_1989_DSWE_level_3.tif\n",
      "RAW: Successfully exported D:\\Madagascar\\Data\\RiverMapping\\RiverMasks\\Betsiboka\\reach_4\\Raw\\Betsiboka_reach_4_1989_DSWE_level_3.tif.\n"
     ]
    },
    {
     "name": "stderr",
     "output_type": "stream",
     "text": [
      "C:\\Users\\huckr\\AppData\\Local\\Temp\\ipykernel_22020\\949864737.py:469: UserWarning: Geometry is in a geographic CRS. Results from 'centroid' are likely incorrect. Use 'GeoSeries.to_crs()' to re-project geometries to a projected CRS before this operation.\n",
      "\n",
      "  centroid = grwl_reach_dissolved.geometry.centroid.iloc[0]\n"
     ]
    },
    {
     "name": "stdout",
     "output_type": "stream",
     "text": [
      "Raster successfully saved with compression to: D:\\Madagascar\\Data\\RiverMapping\\RiverMasks\\Betsiboka\\reach_4\\Processed\\Betsiboka_reach_4_1989_DSWE_level_3.tif\n",
      "Processed raster saved to: D:\\Madagascar\\Data\\RiverMapping\\RiverMasks\\Betsiboka\\reach_4\\Processed\\Betsiboka_reach_4_1989_DSWE_level_3.tif\n",
      "PROCESSED: Exported Betsiboka_reach_4_1989_DSWE_level_3.tif to D:\\Madagascar\\Data\\RiverMapping\\RiverMasks\\Betsiboka\\reach_4\\Processed.\n",
      "Generating URL ...\n",
      "Downloading data from https://earthengine.googleapis.com/v1/projects/earthengine-legacy/thumbnails/d98ab1f01845e9633d80c3b3976db38b-ff9e5fea8bad155d323ec8f7d62c1435:getPixels\n",
      "Please wait ...\n",
      "Data downloaded to D:\\Madagascar\\Data\\RiverMapping\\RiverMasks\\Betsiboka\\reach_4\\Raw\\Betsiboka_reach_4_1990_DSWE_level_3.tif\n",
      "RAW: Successfully exported D:\\Madagascar\\Data\\RiverMapping\\RiverMasks\\Betsiboka\\reach_4\\Raw\\Betsiboka_reach_4_1990_DSWE_level_3.tif.\n"
     ]
    },
    {
     "name": "stderr",
     "output_type": "stream",
     "text": [
      "C:\\Users\\huckr\\AppData\\Local\\Temp\\ipykernel_22020\\949864737.py:469: UserWarning: Geometry is in a geographic CRS. Results from 'centroid' are likely incorrect. Use 'GeoSeries.to_crs()' to re-project geometries to a projected CRS before this operation.\n",
      "\n",
      "  centroid = grwl_reach_dissolved.geometry.centroid.iloc[0]\n"
     ]
    },
    {
     "name": "stdout",
     "output_type": "stream",
     "text": [
      "Raster successfully saved with compression to: D:\\Madagascar\\Data\\RiverMapping\\RiverMasks\\Betsiboka\\reach_4\\Processed\\Betsiboka_reach_4_1990_DSWE_level_3.tif\n",
      "Processed raster saved to: D:\\Madagascar\\Data\\RiverMapping\\RiverMasks\\Betsiboka\\reach_4\\Processed\\Betsiboka_reach_4_1990_DSWE_level_3.tif\n",
      "PROCESSED: Exported Betsiboka_reach_4_1990_DSWE_level_3.tif to D:\\Madagascar\\Data\\RiverMapping\\RiverMasks\\Betsiboka\\reach_4\\Processed.\n",
      "Generating URL ...\n",
      "Downloading data from https://earthengine.googleapis.com/v1/projects/earthengine-legacy/thumbnails/dfec77028caeb6f2f208910c458b4feb-03c717fbde1126fbc156e86630d6a4d6:getPixels\n",
      "Please wait ...\n",
      "Data downloaded to D:\\Madagascar\\Data\\RiverMapping\\RiverMasks\\Betsiboka\\reach_4\\Raw\\Betsiboka_reach_4_1991_DSWE_level_3.tif\n",
      "RAW: Successfully exported D:\\Madagascar\\Data\\RiverMapping\\RiverMasks\\Betsiboka\\reach_4\\Raw\\Betsiboka_reach_4_1991_DSWE_level_3.tif.\n"
     ]
    },
    {
     "name": "stderr",
     "output_type": "stream",
     "text": [
      "C:\\Users\\huckr\\AppData\\Local\\Temp\\ipykernel_22020\\949864737.py:469: UserWarning: Geometry is in a geographic CRS. Results from 'centroid' are likely incorrect. Use 'GeoSeries.to_crs()' to re-project geometries to a projected CRS before this operation.\n",
      "\n",
      "  centroid = grwl_reach_dissolved.geometry.centroid.iloc[0]\n"
     ]
    },
    {
     "name": "stdout",
     "output_type": "stream",
     "text": [
      "Raster successfully saved with compression to: D:\\Madagascar\\Data\\RiverMapping\\RiverMasks\\Betsiboka\\reach_4\\Processed\\Betsiboka_reach_4_1991_DSWE_level_3.tif\n",
      "Processed raster saved to: D:\\Madagascar\\Data\\RiverMapping\\RiverMasks\\Betsiboka\\reach_4\\Processed\\Betsiboka_reach_4_1991_DSWE_level_3.tif\n",
      "PROCESSED: Exported Betsiboka_reach_4_1991_DSWE_level_3.tif to D:\\Madagascar\\Data\\RiverMapping\\RiverMasks\\Betsiboka\\reach_4\\Processed.\n",
      "Generating URL ...\n",
      "Downloading data from https://earthengine.googleapis.com/v1/projects/earthengine-legacy/thumbnails/6a6e7d51d9fbd729574f1ee86dd7edce-cee29d0d067d8f91d2039a6b65316b19:getPixels\n",
      "Please wait ...\n",
      "Data downloaded to D:\\Madagascar\\Data\\RiverMapping\\RiverMasks\\Betsiboka\\reach_4\\Raw\\Betsiboka_reach_4_1992_DSWE_level_3.tif\n",
      "RAW: Successfully exported D:\\Madagascar\\Data\\RiverMapping\\RiverMasks\\Betsiboka\\reach_4\\Raw\\Betsiboka_reach_4_1992_DSWE_level_3.tif.\n"
     ]
    },
    {
     "name": "stderr",
     "output_type": "stream",
     "text": [
      "C:\\Users\\huckr\\AppData\\Local\\Temp\\ipykernel_22020\\949864737.py:469: UserWarning: Geometry is in a geographic CRS. Results from 'centroid' are likely incorrect. Use 'GeoSeries.to_crs()' to re-project geometries to a projected CRS before this operation.\n",
      "\n",
      "  centroid = grwl_reach_dissolved.geometry.centroid.iloc[0]\n"
     ]
    },
    {
     "name": "stdout",
     "output_type": "stream",
     "text": [
      "Raster successfully saved with compression to: D:\\Madagascar\\Data\\RiverMapping\\RiverMasks\\Betsiboka\\reach_4\\Processed\\Betsiboka_reach_4_1992_DSWE_level_3.tif\n",
      "Processed raster saved to: D:\\Madagascar\\Data\\RiverMapping\\RiverMasks\\Betsiboka\\reach_4\\Processed\\Betsiboka_reach_4_1992_DSWE_level_3.tif\n",
      "PROCESSED: Exported Betsiboka_reach_4_1992_DSWE_level_3.tif to D:\\Madagascar\\Data\\RiverMapping\\RiverMasks\\Betsiboka\\reach_4\\Processed.\n",
      "Generating URL ...\n",
      "Downloading data from https://earthengine.googleapis.com/v1/projects/earthengine-legacy/thumbnails/f87c4eba6a997163310dfe0dff460bea-c63db504d249161696e727bf1aa91196:getPixels\n",
      "Please wait ...\n",
      "Data downloaded to D:\\Madagascar\\Data\\RiverMapping\\RiverMasks\\Betsiboka\\reach_4\\Raw\\Betsiboka_reach_4_1993_DSWE_level_3.tif\n",
      "RAW: Successfully exported D:\\Madagascar\\Data\\RiverMapping\\RiverMasks\\Betsiboka\\reach_4\\Raw\\Betsiboka_reach_4_1993_DSWE_level_3.tif.\n"
     ]
    },
    {
     "name": "stderr",
     "output_type": "stream",
     "text": [
      "C:\\Users\\huckr\\AppData\\Local\\Temp\\ipykernel_22020\\949864737.py:469: UserWarning: Geometry is in a geographic CRS. Results from 'centroid' are likely incorrect. Use 'GeoSeries.to_crs()' to re-project geometries to a projected CRS before this operation.\n",
      "\n",
      "  centroid = grwl_reach_dissolved.geometry.centroid.iloc[0]\n"
     ]
    },
    {
     "name": "stdout",
     "output_type": "stream",
     "text": [
      "Raster successfully saved with compression to: D:\\Madagascar\\Data\\RiverMapping\\RiverMasks\\Betsiboka\\reach_4\\Processed\\Betsiboka_reach_4_1993_DSWE_level_3.tif\n",
      "Processed raster saved to: D:\\Madagascar\\Data\\RiverMapping\\RiverMasks\\Betsiboka\\reach_4\\Processed\\Betsiboka_reach_4_1993_DSWE_level_3.tif\n",
      "PROCESSED: Exported Betsiboka_reach_4_1993_DSWE_level_3.tif to D:\\Madagascar\\Data\\RiverMapping\\RiverMasks\\Betsiboka\\reach_4\\Processed.\n",
      "Generating URL ...\n",
      "Downloading data from https://earthengine.googleapis.com/v1/projects/earthengine-legacy/thumbnails/08f25202a1cc58ac0d482d704783292b-8fc28da319f7ea49ede278c4c6f216d0:getPixels\n",
      "Please wait ...\n",
      "Data downloaded to D:\\Madagascar\\Data\\RiverMapping\\RiverMasks\\Betsiboka\\reach_4\\Raw\\Betsiboka_reach_4_1994_DSWE_level_3.tif\n",
      "RAW: Successfully exported D:\\Madagascar\\Data\\RiverMapping\\RiverMasks\\Betsiboka\\reach_4\\Raw\\Betsiboka_reach_4_1994_DSWE_level_3.tif.\n"
     ]
    },
    {
     "name": "stderr",
     "output_type": "stream",
     "text": [
      "C:\\Users\\huckr\\AppData\\Local\\Temp\\ipykernel_22020\\949864737.py:469: UserWarning: Geometry is in a geographic CRS. Results from 'centroid' are likely incorrect. Use 'GeoSeries.to_crs()' to re-project geometries to a projected CRS before this operation.\n",
      "\n",
      "  centroid = grwl_reach_dissolved.geometry.centroid.iloc[0]\n"
     ]
    },
    {
     "name": "stdout",
     "output_type": "stream",
     "text": [
      "Raster successfully saved with compression to: D:\\Madagascar\\Data\\RiverMapping\\RiverMasks\\Betsiboka\\reach_4\\Processed\\Betsiboka_reach_4_1994_DSWE_level_3.tif\n",
      "Processed raster saved to: D:\\Madagascar\\Data\\RiverMapping\\RiverMasks\\Betsiboka\\reach_4\\Processed\\Betsiboka_reach_4_1994_DSWE_level_3.tif\n",
      "PROCESSED: Exported Betsiboka_reach_4_1994_DSWE_level_3.tif to D:\\Madagascar\\Data\\RiverMapping\\RiverMasks\\Betsiboka\\reach_4\\Processed.\n",
      "Generating URL ...\n",
      "Downloading data from https://earthengine.googleapis.com/v1/projects/earthengine-legacy/thumbnails/09f96d8a5b00ea9a6825204a8a3efcc4-87b74a4c39d41e34c6be6449401eaa46:getPixels\n",
      "Please wait ...\n",
      "Data downloaded to D:\\Madagascar\\Data\\RiverMapping\\RiverMasks\\Betsiboka\\reach_4\\Raw\\Betsiboka_reach_4_1995_DSWE_level_3.tif\n",
      "RAW: Successfully exported D:\\Madagascar\\Data\\RiverMapping\\RiverMasks\\Betsiboka\\reach_4\\Raw\\Betsiboka_reach_4_1995_DSWE_level_3.tif.\n"
     ]
    },
    {
     "name": "stderr",
     "output_type": "stream",
     "text": [
      "C:\\Users\\huckr\\AppData\\Local\\Temp\\ipykernel_22020\\949864737.py:469: UserWarning: Geometry is in a geographic CRS. Results from 'centroid' are likely incorrect. Use 'GeoSeries.to_crs()' to re-project geometries to a projected CRS before this operation.\n",
      "\n",
      "  centroid = grwl_reach_dissolved.geometry.centroid.iloc[0]\n"
     ]
    },
    {
     "name": "stdout",
     "output_type": "stream",
     "text": [
      "Raster successfully saved with compression to: D:\\Madagascar\\Data\\RiverMapping\\RiverMasks\\Betsiboka\\reach_4\\Processed\\Betsiboka_reach_4_1995_DSWE_level_3.tif\n",
      "Processed raster saved to: D:\\Madagascar\\Data\\RiverMapping\\RiverMasks\\Betsiboka\\reach_4\\Processed\\Betsiboka_reach_4_1995_DSWE_level_3.tif\n",
      "PROCESSED: Exported Betsiboka_reach_4_1995_DSWE_level_3.tif to D:\\Madagascar\\Data\\RiverMapping\\RiverMasks\\Betsiboka\\reach_4\\Processed.\n",
      "Generating URL ...\n",
      "Downloading data from https://earthengine.googleapis.com/v1/projects/earthengine-legacy/thumbnails/5edc698a167022a75b1ac404fc966bf7-93dcd794cbdc38b4c6f37005bcc045b7:getPixels\n",
      "Please wait ...\n",
      "Data downloaded to D:\\Madagascar\\Data\\RiverMapping\\RiverMasks\\Betsiboka\\reach_4\\Raw\\Betsiboka_reach_4_1996_DSWE_level_3.tif\n",
      "RAW: Successfully exported D:\\Madagascar\\Data\\RiverMapping\\RiverMasks\\Betsiboka\\reach_4\\Raw\\Betsiboka_reach_4_1996_DSWE_level_3.tif.\n"
     ]
    },
    {
     "name": "stderr",
     "output_type": "stream",
     "text": [
      "C:\\Users\\huckr\\AppData\\Local\\Temp\\ipykernel_22020\\949864737.py:469: UserWarning: Geometry is in a geographic CRS. Results from 'centroid' are likely incorrect. Use 'GeoSeries.to_crs()' to re-project geometries to a projected CRS before this operation.\n",
      "\n",
      "  centroid = grwl_reach_dissolved.geometry.centroid.iloc[0]\n"
     ]
    },
    {
     "name": "stdout",
     "output_type": "stream",
     "text": [
      "Raster successfully saved with compression to: D:\\Madagascar\\Data\\RiverMapping\\RiverMasks\\Betsiboka\\reach_4\\Processed\\Betsiboka_reach_4_1996_DSWE_level_3.tif\n",
      "Processed raster saved to: D:\\Madagascar\\Data\\RiverMapping\\RiverMasks\\Betsiboka\\reach_4\\Processed\\Betsiboka_reach_4_1996_DSWE_level_3.tif\n",
      "PROCESSED: Exported Betsiboka_reach_4_1996_DSWE_level_3.tif to D:\\Madagascar\\Data\\RiverMapping\\RiverMasks\\Betsiboka\\reach_4\\Processed.\n",
      "Generating URL ...\n",
      "Downloading data from https://earthengine.googleapis.com/v1/projects/earthengine-legacy/thumbnails/16669c0c4da5f1cfb5794d2fdf7a33ae-3d15087d0ec75bb4e4151ee9d62a145f:getPixels\n",
      "Please wait ...\n",
      "Data downloaded to D:\\Madagascar\\Data\\RiverMapping\\RiverMasks\\Betsiboka\\reach_4\\Raw\\Betsiboka_reach_4_1997_DSWE_level_3.tif\n",
      "RAW: Successfully exported D:\\Madagascar\\Data\\RiverMapping\\RiverMasks\\Betsiboka\\reach_4\\Raw\\Betsiboka_reach_4_1997_DSWE_level_3.tif.\n"
     ]
    },
    {
     "name": "stderr",
     "output_type": "stream",
     "text": [
      "C:\\Users\\huckr\\AppData\\Local\\Temp\\ipykernel_22020\\949864737.py:469: UserWarning: Geometry is in a geographic CRS. Results from 'centroid' are likely incorrect. Use 'GeoSeries.to_crs()' to re-project geometries to a projected CRS before this operation.\n",
      "\n",
      "  centroid = grwl_reach_dissolved.geometry.centroid.iloc[0]\n"
     ]
    },
    {
     "name": "stdout",
     "output_type": "stream",
     "text": [
      "Raster successfully saved with compression to: D:\\Madagascar\\Data\\RiverMapping\\RiverMasks\\Betsiboka\\reach_4\\Processed\\Betsiboka_reach_4_1997_DSWE_level_3.tif\n",
      "Processed raster saved to: D:\\Madagascar\\Data\\RiverMapping\\RiverMasks\\Betsiboka\\reach_4\\Processed\\Betsiboka_reach_4_1997_DSWE_level_3.tif\n",
      "PROCESSED: Exported Betsiboka_reach_4_1997_DSWE_level_3.tif to D:\\Madagascar\\Data\\RiverMapping\\RiverMasks\\Betsiboka\\reach_4\\Processed.\n",
      "Generating URL ...\n",
      "Downloading data from https://earthengine.googleapis.com/v1/projects/earthengine-legacy/thumbnails/c07b5762dfcf441a0034be1422ced6da-9a9031c8057b7e2e18cc00763a199a78:getPixels\n",
      "Please wait ...\n",
      "Data downloaded to D:\\Madagascar\\Data\\RiverMapping\\RiverMasks\\Betsiboka\\reach_4\\Raw\\Betsiboka_reach_4_1998_DSWE_level_3.tif\n",
      "RAW: Successfully exported D:\\Madagascar\\Data\\RiverMapping\\RiverMasks\\Betsiboka\\reach_4\\Raw\\Betsiboka_reach_4_1998_DSWE_level_3.tif.\n"
     ]
    },
    {
     "name": "stderr",
     "output_type": "stream",
     "text": [
      "C:\\Users\\huckr\\AppData\\Local\\Temp\\ipykernel_22020\\949864737.py:469: UserWarning: Geometry is in a geographic CRS. Results from 'centroid' are likely incorrect. Use 'GeoSeries.to_crs()' to re-project geometries to a projected CRS before this operation.\n",
      "\n",
      "  centroid = grwl_reach_dissolved.geometry.centroid.iloc[0]\n"
     ]
    },
    {
     "name": "stdout",
     "output_type": "stream",
     "text": [
      "Raster successfully saved with compression to: D:\\Madagascar\\Data\\RiverMapping\\RiverMasks\\Betsiboka\\reach_4\\Processed\\Betsiboka_reach_4_1998_DSWE_level_3.tif\n",
      "Processed raster saved to: D:\\Madagascar\\Data\\RiverMapping\\RiverMasks\\Betsiboka\\reach_4\\Processed\\Betsiboka_reach_4_1998_DSWE_level_3.tif\n",
      "PROCESSED: Exported Betsiboka_reach_4_1998_DSWE_level_3.tif to D:\\Madagascar\\Data\\RiverMapping\\RiverMasks\\Betsiboka\\reach_4\\Processed.\n",
      "Generating URL ...\n",
      "Downloading data from https://earthengine.googleapis.com/v1/projects/earthengine-legacy/thumbnails/dcf4434d752c92a57b6fd602c97c16ee-7b46bcab57ae37ea79151168131fa212:getPixels\n",
      "Please wait ...\n",
      "Data downloaded to D:\\Madagascar\\Data\\RiverMapping\\RiverMasks\\Betsiboka\\reach_4\\Raw\\Betsiboka_reach_4_1999_DSWE_level_3.tif\n",
      "RAW: Successfully exported D:\\Madagascar\\Data\\RiverMapping\\RiverMasks\\Betsiboka\\reach_4\\Raw\\Betsiboka_reach_4_1999_DSWE_level_3.tif.\n"
     ]
    },
    {
     "name": "stderr",
     "output_type": "stream",
     "text": [
      "C:\\Users\\huckr\\AppData\\Local\\Temp\\ipykernel_22020\\949864737.py:469: UserWarning: Geometry is in a geographic CRS. Results from 'centroid' are likely incorrect. Use 'GeoSeries.to_crs()' to re-project geometries to a projected CRS before this operation.\n",
      "\n",
      "  centroid = grwl_reach_dissolved.geometry.centroid.iloc[0]\n"
     ]
    },
    {
     "name": "stdout",
     "output_type": "stream",
     "text": [
      "Raster successfully saved with compression to: D:\\Madagascar\\Data\\RiverMapping\\RiverMasks\\Betsiboka\\reach_4\\Processed\\Betsiboka_reach_4_1999_DSWE_level_3.tif\n",
      "Processed raster saved to: D:\\Madagascar\\Data\\RiverMapping\\RiverMasks\\Betsiboka\\reach_4\\Processed\\Betsiboka_reach_4_1999_DSWE_level_3.tif\n",
      "PROCESSED: Exported Betsiboka_reach_4_1999_DSWE_level_3.tif to D:\\Madagascar\\Data\\RiverMapping\\RiverMasks\\Betsiboka\\reach_4\\Processed.\n",
      "Generating URL ...\n",
      "Downloading data from https://earthengine.googleapis.com/v1/projects/earthengine-legacy/thumbnails/4edc913377d957ecb90dfd8c390e30af-528163f703b990d33432d095d665afdd:getPixels\n",
      "Please wait ...\n",
      "Data downloaded to D:\\Madagascar\\Data\\RiverMapping\\RiverMasks\\Betsiboka\\reach_4\\Raw\\Betsiboka_reach_4_2000_DSWE_level_3.tif\n",
      "RAW: Successfully exported D:\\Madagascar\\Data\\RiverMapping\\RiverMasks\\Betsiboka\\reach_4\\Raw\\Betsiboka_reach_4_2000_DSWE_level_3.tif.\n"
     ]
    },
    {
     "name": "stderr",
     "output_type": "stream",
     "text": [
      "C:\\Users\\huckr\\AppData\\Local\\Temp\\ipykernel_22020\\949864737.py:469: UserWarning: Geometry is in a geographic CRS. Results from 'centroid' are likely incorrect. Use 'GeoSeries.to_crs()' to re-project geometries to a projected CRS before this operation.\n",
      "\n",
      "  centroid = grwl_reach_dissolved.geometry.centroid.iloc[0]\n"
     ]
    },
    {
     "name": "stdout",
     "output_type": "stream",
     "text": [
      "Raster successfully saved with compression to: D:\\Madagascar\\Data\\RiverMapping\\RiverMasks\\Betsiboka\\reach_4\\Processed\\Betsiboka_reach_4_2000_DSWE_level_3.tif\n",
      "Processed raster saved to: D:\\Madagascar\\Data\\RiverMapping\\RiverMasks\\Betsiboka\\reach_4\\Processed\\Betsiboka_reach_4_2000_DSWE_level_3.tif\n",
      "PROCESSED: Exported Betsiboka_reach_4_2000_DSWE_level_3.tif to D:\\Madagascar\\Data\\RiverMapping\\RiverMasks\\Betsiboka\\reach_4\\Processed.\n",
      "Generating URL ...\n",
      "Downloading data from https://earthengine.googleapis.com/v1/projects/earthengine-legacy/thumbnails/e1428bbc7a4a084e2db48dee8c5d9676-74a6f7ed4490b6b6f61af138bb57e436:getPixels\n",
      "Please wait ...\n",
      "Data downloaded to D:\\Madagascar\\Data\\RiverMapping\\RiverMasks\\Betsiboka\\reach_4\\Raw\\Betsiboka_reach_4_2001_DSWE_level_3.tif\n",
      "RAW: Successfully exported D:\\Madagascar\\Data\\RiverMapping\\RiverMasks\\Betsiboka\\reach_4\\Raw\\Betsiboka_reach_4_2001_DSWE_level_3.tif.\n"
     ]
    },
    {
     "name": "stderr",
     "output_type": "stream",
     "text": [
      "C:\\Users\\huckr\\AppData\\Local\\Temp\\ipykernel_22020\\949864737.py:469: UserWarning: Geometry is in a geographic CRS. Results from 'centroid' are likely incorrect. Use 'GeoSeries.to_crs()' to re-project geometries to a projected CRS before this operation.\n",
      "\n",
      "  centroid = grwl_reach_dissolved.geometry.centroid.iloc[0]\n"
     ]
    },
    {
     "name": "stdout",
     "output_type": "stream",
     "text": [
      "Raster successfully saved with compression to: D:\\Madagascar\\Data\\RiverMapping\\RiverMasks\\Betsiboka\\reach_4\\Processed\\Betsiboka_reach_4_2001_DSWE_level_3.tif\n",
      "Processed raster saved to: D:\\Madagascar\\Data\\RiverMapping\\RiverMasks\\Betsiboka\\reach_4\\Processed\\Betsiboka_reach_4_2001_DSWE_level_3.tif\n",
      "PROCESSED: Exported Betsiboka_reach_4_2001_DSWE_level_3.tif to D:\\Madagascar\\Data\\RiverMapping\\RiverMasks\\Betsiboka\\reach_4\\Processed.\n",
      "Generating URL ...\n",
      "Downloading data from https://earthengine.googleapis.com/v1/projects/earthengine-legacy/thumbnails/354e5d54ddc2d4c9d5d0874df780216e-b4b705848c8070ef2810ac7a1614b029:getPixels\n",
      "Please wait ...\n",
      "Data downloaded to D:\\Madagascar\\Data\\RiverMapping\\RiverMasks\\Betsiboka\\reach_4\\Raw\\Betsiboka_reach_4_2002_DSWE_level_3.tif\n",
      "RAW: Successfully exported D:\\Madagascar\\Data\\RiverMapping\\RiverMasks\\Betsiboka\\reach_4\\Raw\\Betsiboka_reach_4_2002_DSWE_level_3.tif.\n"
     ]
    },
    {
     "name": "stderr",
     "output_type": "stream",
     "text": [
      "C:\\Users\\huckr\\AppData\\Local\\Temp\\ipykernel_22020\\949864737.py:469: UserWarning: Geometry is in a geographic CRS. Results from 'centroid' are likely incorrect. Use 'GeoSeries.to_crs()' to re-project geometries to a projected CRS before this operation.\n",
      "\n",
      "  centroid = grwl_reach_dissolved.geometry.centroid.iloc[0]\n"
     ]
    },
    {
     "name": "stdout",
     "output_type": "stream",
     "text": [
      "Raster successfully saved with compression to: D:\\Madagascar\\Data\\RiverMapping\\RiverMasks\\Betsiboka\\reach_4\\Processed\\Betsiboka_reach_4_2002_DSWE_level_3.tif\n",
      "Processed raster saved to: D:\\Madagascar\\Data\\RiverMapping\\RiverMasks\\Betsiboka\\reach_4\\Processed\\Betsiboka_reach_4_2002_DSWE_level_3.tif\n",
      "PROCESSED: Exported Betsiboka_reach_4_2002_DSWE_level_3.tif to D:\\Madagascar\\Data\\RiverMapping\\RiverMasks\\Betsiboka\\reach_4\\Processed.\n",
      "Generating URL ...\n",
      "Downloading data from https://earthengine.googleapis.com/v1/projects/earthengine-legacy/thumbnails/baaa38ae789408243baf32feea49bc01-0f4e7ae279923a6910047542993eea86:getPixels\n",
      "Please wait ...\n",
      "Data downloaded to D:\\Madagascar\\Data\\RiverMapping\\RiverMasks\\Betsiboka\\reach_4\\Raw\\Betsiboka_reach_4_2003_DSWE_level_3.tif\n",
      "RAW: Successfully exported D:\\Madagascar\\Data\\RiverMapping\\RiverMasks\\Betsiboka\\reach_4\\Raw\\Betsiboka_reach_4_2003_DSWE_level_3.tif.\n"
     ]
    },
    {
     "name": "stderr",
     "output_type": "stream",
     "text": [
      "C:\\Users\\huckr\\AppData\\Local\\Temp\\ipykernel_22020\\949864737.py:469: UserWarning: Geometry is in a geographic CRS. Results from 'centroid' are likely incorrect. Use 'GeoSeries.to_crs()' to re-project geometries to a projected CRS before this operation.\n",
      "\n",
      "  centroid = grwl_reach_dissolved.geometry.centroid.iloc[0]\n"
     ]
    },
    {
     "name": "stdout",
     "output_type": "stream",
     "text": [
      "Raster successfully saved with compression to: D:\\Madagascar\\Data\\RiverMapping\\RiverMasks\\Betsiboka\\reach_4\\Processed\\Betsiboka_reach_4_2003_DSWE_level_3.tif\n",
      "Processed raster saved to: D:\\Madagascar\\Data\\RiverMapping\\RiverMasks\\Betsiboka\\reach_4\\Processed\\Betsiboka_reach_4_2003_DSWE_level_3.tif\n",
      "PROCESSED: Exported Betsiboka_reach_4_2003_DSWE_level_3.tif to D:\\Madagascar\\Data\\RiverMapping\\RiverMasks\\Betsiboka\\reach_4\\Processed.\n",
      "Generating URL ...\n",
      "Downloading data from https://earthengine.googleapis.com/v1/projects/earthengine-legacy/thumbnails/7803854b4fe802bc274f840c4cd4bd64-d052ca964951d68acefad0d246400682:getPixels\n",
      "Please wait ...\n",
      "Data downloaded to D:\\Madagascar\\Data\\RiverMapping\\RiverMasks\\Betsiboka\\reach_4\\Raw\\Betsiboka_reach_4_2004_DSWE_level_3.tif\n",
      "RAW: Successfully exported D:\\Madagascar\\Data\\RiverMapping\\RiverMasks\\Betsiboka\\reach_4\\Raw\\Betsiboka_reach_4_2004_DSWE_level_3.tif.\n"
     ]
    },
    {
     "name": "stderr",
     "output_type": "stream",
     "text": [
      "C:\\Users\\huckr\\AppData\\Local\\Temp\\ipykernel_22020\\949864737.py:469: UserWarning: Geometry is in a geographic CRS. Results from 'centroid' are likely incorrect. Use 'GeoSeries.to_crs()' to re-project geometries to a projected CRS before this operation.\n",
      "\n",
      "  centroid = grwl_reach_dissolved.geometry.centroid.iloc[0]\n"
     ]
    },
    {
     "name": "stdout",
     "output_type": "stream",
     "text": [
      "Raster successfully saved with compression to: D:\\Madagascar\\Data\\RiverMapping\\RiverMasks\\Betsiboka\\reach_4\\Processed\\Betsiboka_reach_4_2004_DSWE_level_3.tif\n",
      "Processed raster saved to: D:\\Madagascar\\Data\\RiverMapping\\RiverMasks\\Betsiboka\\reach_4\\Processed\\Betsiboka_reach_4_2004_DSWE_level_3.tif\n",
      "PROCESSED: Exported Betsiboka_reach_4_2004_DSWE_level_3.tif to D:\\Madagascar\\Data\\RiverMapping\\RiverMasks\\Betsiboka\\reach_4\\Processed.\n",
      "Generating URL ...\n",
      "Downloading data from https://earthengine.googleapis.com/v1/projects/earthengine-legacy/thumbnails/a99bc6ec45425f94f10b93d54442bb93-70b69919a01a01de6da846e43f772b40:getPixels\n",
      "Please wait ...\n",
      "Data downloaded to D:\\Madagascar\\Data\\RiverMapping\\RiverMasks\\Betsiboka\\reach_4\\Raw\\Betsiboka_reach_4_2005_DSWE_level_3.tif\n",
      "RAW: Successfully exported D:\\Madagascar\\Data\\RiverMapping\\RiverMasks\\Betsiboka\\reach_4\\Raw\\Betsiboka_reach_4_2005_DSWE_level_3.tif.\n"
     ]
    },
    {
     "name": "stderr",
     "output_type": "stream",
     "text": [
      "C:\\Users\\huckr\\AppData\\Local\\Temp\\ipykernel_22020\\949864737.py:469: UserWarning: Geometry is in a geographic CRS. Results from 'centroid' are likely incorrect. Use 'GeoSeries.to_crs()' to re-project geometries to a projected CRS before this operation.\n",
      "\n",
      "  centroid = grwl_reach_dissolved.geometry.centroid.iloc[0]\n"
     ]
    },
    {
     "name": "stdout",
     "output_type": "stream",
     "text": [
      "Raster successfully saved with compression to: D:\\Madagascar\\Data\\RiverMapping\\RiverMasks\\Betsiboka\\reach_4\\Processed\\Betsiboka_reach_4_2005_DSWE_level_3.tif\n",
      "Processed raster saved to: D:\\Madagascar\\Data\\RiverMapping\\RiverMasks\\Betsiboka\\reach_4\\Processed\\Betsiboka_reach_4_2005_DSWE_level_3.tif\n",
      "PROCESSED: Exported Betsiboka_reach_4_2005_DSWE_level_3.tif to D:\\Madagascar\\Data\\RiverMapping\\RiverMasks\\Betsiboka\\reach_4\\Processed.\n",
      "Generating URL ...\n",
      "Downloading data from https://earthengine.googleapis.com/v1/projects/earthengine-legacy/thumbnails/cf266a1bd32abb2d34d2189f521f76f9-0a2ea6aa5e78a7837e08431089a53d2e:getPixels\n",
      "Please wait ...\n",
      "Data downloaded to D:\\Madagascar\\Data\\RiverMapping\\RiverMasks\\Betsiboka\\reach_4\\Raw\\Betsiboka_reach_4_2006_DSWE_level_3.tif\n",
      "RAW: Successfully exported D:\\Madagascar\\Data\\RiverMapping\\RiverMasks\\Betsiboka\\reach_4\\Raw\\Betsiboka_reach_4_2006_DSWE_level_3.tif.\n"
     ]
    },
    {
     "name": "stderr",
     "output_type": "stream",
     "text": [
      "C:\\Users\\huckr\\AppData\\Local\\Temp\\ipykernel_22020\\949864737.py:469: UserWarning: Geometry is in a geographic CRS. Results from 'centroid' are likely incorrect. Use 'GeoSeries.to_crs()' to re-project geometries to a projected CRS before this operation.\n",
      "\n",
      "  centroid = grwl_reach_dissolved.geometry.centroid.iloc[0]\n"
     ]
    },
    {
     "name": "stdout",
     "output_type": "stream",
     "text": [
      "Raster successfully saved with compression to: D:\\Madagascar\\Data\\RiverMapping\\RiverMasks\\Betsiboka\\reach_4\\Processed\\Betsiboka_reach_4_2006_DSWE_level_3.tif\n",
      "Processed raster saved to: D:\\Madagascar\\Data\\RiverMapping\\RiverMasks\\Betsiboka\\reach_4\\Processed\\Betsiboka_reach_4_2006_DSWE_level_3.tif\n",
      "PROCESSED: Exported Betsiboka_reach_4_2006_DSWE_level_3.tif to D:\\Madagascar\\Data\\RiverMapping\\RiverMasks\\Betsiboka\\reach_4\\Processed.\n",
      "Generating URL ...\n",
      "Downloading data from https://earthengine.googleapis.com/v1/projects/earthengine-legacy/thumbnails/d1e69d4f08bcbcce967f508be1ea5c77-8b9731b031ec8e0bb4f47d54deb358d0:getPixels\n",
      "Please wait ...\n",
      "Data downloaded to D:\\Madagascar\\Data\\RiverMapping\\RiverMasks\\Betsiboka\\reach_4\\Raw\\Betsiboka_reach_4_2007_DSWE_level_3.tif\n",
      "RAW: Successfully exported D:\\Madagascar\\Data\\RiverMapping\\RiverMasks\\Betsiboka\\reach_4\\Raw\\Betsiboka_reach_4_2007_DSWE_level_3.tif.\n"
     ]
    },
    {
     "name": "stderr",
     "output_type": "stream",
     "text": [
      "C:\\Users\\huckr\\AppData\\Local\\Temp\\ipykernel_22020\\949864737.py:469: UserWarning: Geometry is in a geographic CRS. Results from 'centroid' are likely incorrect. Use 'GeoSeries.to_crs()' to re-project geometries to a projected CRS before this operation.\n",
      "\n",
      "  centroid = grwl_reach_dissolved.geometry.centroid.iloc[0]\n"
     ]
    },
    {
     "name": "stdout",
     "output_type": "stream",
     "text": [
      "Raster successfully saved with compression to: D:\\Madagascar\\Data\\RiverMapping\\RiverMasks\\Betsiboka\\reach_4\\Processed\\Betsiboka_reach_4_2007_DSWE_level_3.tif\n",
      "Processed raster saved to: D:\\Madagascar\\Data\\RiverMapping\\RiverMasks\\Betsiboka\\reach_4\\Processed\\Betsiboka_reach_4_2007_DSWE_level_3.tif\n",
      "PROCESSED: Exported Betsiboka_reach_4_2007_DSWE_level_3.tif to D:\\Madagascar\\Data\\RiverMapping\\RiverMasks\\Betsiboka\\reach_4\\Processed.\n",
      "Generating URL ...\n",
      "Downloading data from https://earthengine.googleapis.com/v1/projects/earthengine-legacy/thumbnails/c45475a3db327a228d48559d7db71245-6392d63d65d967406eb7b90ff3b373a5:getPixels\n",
      "Please wait ...\n",
      "Data downloaded to D:\\Madagascar\\Data\\RiverMapping\\RiverMasks\\Betsiboka\\reach_4\\Raw\\Betsiboka_reach_4_2008_DSWE_level_3.tif\n",
      "RAW: Successfully exported D:\\Madagascar\\Data\\RiverMapping\\RiverMasks\\Betsiboka\\reach_4\\Raw\\Betsiboka_reach_4_2008_DSWE_level_3.tif.\n"
     ]
    },
    {
     "name": "stderr",
     "output_type": "stream",
     "text": [
      "C:\\Users\\huckr\\AppData\\Local\\Temp\\ipykernel_22020\\949864737.py:469: UserWarning: Geometry is in a geographic CRS. Results from 'centroid' are likely incorrect. Use 'GeoSeries.to_crs()' to re-project geometries to a projected CRS before this operation.\n",
      "\n",
      "  centroid = grwl_reach_dissolved.geometry.centroid.iloc[0]\n"
     ]
    },
    {
     "name": "stdout",
     "output_type": "stream",
     "text": [
      "Raster successfully saved with compression to: D:\\Madagascar\\Data\\RiverMapping\\RiverMasks\\Betsiboka\\reach_4\\Processed\\Betsiboka_reach_4_2008_DSWE_level_3.tif\n",
      "Processed raster saved to: D:\\Madagascar\\Data\\RiverMapping\\RiverMasks\\Betsiboka\\reach_4\\Processed\\Betsiboka_reach_4_2008_DSWE_level_3.tif\n",
      "PROCESSED: Exported Betsiboka_reach_4_2008_DSWE_level_3.tif to D:\\Madagascar\\Data\\RiverMapping\\RiverMasks\\Betsiboka\\reach_4\\Processed.\n",
      "Generating URL ...\n",
      "Downloading data from https://earthengine.googleapis.com/v1/projects/earthengine-legacy/thumbnails/678fdde2615dd8554c2d6ed15a4347ca-c5c8e1c7db1ca4c55a44ef64ac4ed900:getPixels\n",
      "Please wait ...\n",
      "Data downloaded to D:\\Madagascar\\Data\\RiverMapping\\RiverMasks\\Betsiboka\\reach_4\\Raw\\Betsiboka_reach_4_2009_DSWE_level_3.tif\n",
      "RAW: Successfully exported D:\\Madagascar\\Data\\RiverMapping\\RiverMasks\\Betsiboka\\reach_4\\Raw\\Betsiboka_reach_4_2009_DSWE_level_3.tif.\n"
     ]
    },
    {
     "name": "stderr",
     "output_type": "stream",
     "text": [
      "C:\\Users\\huckr\\AppData\\Local\\Temp\\ipykernel_22020\\949864737.py:469: UserWarning: Geometry is in a geographic CRS. Results from 'centroid' are likely incorrect. Use 'GeoSeries.to_crs()' to re-project geometries to a projected CRS before this operation.\n",
      "\n",
      "  centroid = grwl_reach_dissolved.geometry.centroid.iloc[0]\n"
     ]
    },
    {
     "name": "stdout",
     "output_type": "stream",
     "text": [
      "Raster successfully saved with compression to: D:\\Madagascar\\Data\\RiverMapping\\RiverMasks\\Betsiboka\\reach_4\\Processed\\Betsiboka_reach_4_2009_DSWE_level_3.tif\n",
      "Processed raster saved to: D:\\Madagascar\\Data\\RiverMapping\\RiverMasks\\Betsiboka\\reach_4\\Processed\\Betsiboka_reach_4_2009_DSWE_level_3.tif\n",
      "PROCESSED: Exported Betsiboka_reach_4_2009_DSWE_level_3.tif to D:\\Madagascar\\Data\\RiverMapping\\RiverMasks\\Betsiboka\\reach_4\\Processed.\n",
      "Generating URL ...\n",
      "Downloading data from https://earthengine.googleapis.com/v1/projects/earthengine-legacy/thumbnails/dedb31f4611e0d5682dcee67f5bba83b-85a9b5d7411e6d7d8e0a06b2d03962d0:getPixels\n",
      "Please wait ...\n",
      "Data downloaded to D:\\Madagascar\\Data\\RiverMapping\\RiverMasks\\Betsiboka\\reach_4\\Raw\\Betsiboka_reach_4_2010_DSWE_level_3.tif\n",
      "RAW: Successfully exported D:\\Madagascar\\Data\\RiverMapping\\RiverMasks\\Betsiboka\\reach_4\\Raw\\Betsiboka_reach_4_2010_DSWE_level_3.tif.\n"
     ]
    },
    {
     "name": "stderr",
     "output_type": "stream",
     "text": [
      "C:\\Users\\huckr\\AppData\\Local\\Temp\\ipykernel_22020\\949864737.py:469: UserWarning: Geometry is in a geographic CRS. Results from 'centroid' are likely incorrect. Use 'GeoSeries.to_crs()' to re-project geometries to a projected CRS before this operation.\n",
      "\n",
      "  centroid = grwl_reach_dissolved.geometry.centroid.iloc[0]\n"
     ]
    },
    {
     "name": "stdout",
     "output_type": "stream",
     "text": [
      "Raster successfully saved with compression to: D:\\Madagascar\\Data\\RiverMapping\\RiverMasks\\Betsiboka\\reach_4\\Processed\\Betsiboka_reach_4_2010_DSWE_level_3.tif\n",
      "Processed raster saved to: D:\\Madagascar\\Data\\RiverMapping\\RiverMasks\\Betsiboka\\reach_4\\Processed\\Betsiboka_reach_4_2010_DSWE_level_3.tif\n",
      "PROCESSED: Exported Betsiboka_reach_4_2010_DSWE_level_3.tif to D:\\Madagascar\\Data\\RiverMapping\\RiverMasks\\Betsiboka\\reach_4\\Processed.\n",
      "Generating URL ...\n",
      "Downloading data from https://earthengine.googleapis.com/v1/projects/earthengine-legacy/thumbnails/565bda241739006cc7dcf2e82f873cf2-003779ed5c21aa615be416d6fa25dea0:getPixels\n",
      "Please wait ...\n",
      "Data downloaded to D:\\Madagascar\\Data\\RiverMapping\\RiverMasks\\Betsiboka\\reach_4\\Raw\\Betsiboka_reach_4_2011_DSWE_level_3.tif\n",
      "RAW: Successfully exported D:\\Madagascar\\Data\\RiverMapping\\RiverMasks\\Betsiboka\\reach_4\\Raw\\Betsiboka_reach_4_2011_DSWE_level_3.tif.\n"
     ]
    },
    {
     "name": "stderr",
     "output_type": "stream",
     "text": [
      "C:\\Users\\huckr\\AppData\\Local\\Temp\\ipykernel_22020\\949864737.py:469: UserWarning: Geometry is in a geographic CRS. Results from 'centroid' are likely incorrect. Use 'GeoSeries.to_crs()' to re-project geometries to a projected CRS before this operation.\n",
      "\n",
      "  centroid = grwl_reach_dissolved.geometry.centroid.iloc[0]\n"
     ]
    },
    {
     "name": "stdout",
     "output_type": "stream",
     "text": [
      "Raster successfully saved with compression to: D:\\Madagascar\\Data\\RiverMapping\\RiverMasks\\Betsiboka\\reach_4\\Processed\\Betsiboka_reach_4_2011_DSWE_level_3.tif\n",
      "Processed raster saved to: D:\\Madagascar\\Data\\RiverMapping\\RiverMasks\\Betsiboka\\reach_4\\Processed\\Betsiboka_reach_4_2011_DSWE_level_3.tif\n",
      "PROCESSED: Exported Betsiboka_reach_4_2011_DSWE_level_3.tif to D:\\Madagascar\\Data\\RiverMapping\\RiverMasks\\Betsiboka\\reach_4\\Processed.\n",
      "Generating URL ...\n",
      "An error occurred while downloading.\n",
      "Image.select: Band pattern 'Swir2' was applied to an Image with no bands. See https://developers.google.com/earth-engine/guides/debugging#no-bands\n",
      "Export failed: File D:\\Madagascar\\Data\\RiverMapping\\RiverMasks\\Betsiboka\\reach_4\\Raw\\Betsiboka_reach_4_2012_DSWE_level_3.tif not found.\n",
      "Export failed for Betsiboka_reach_4_2012_DSWE_level_3.tif, attempting tiling...\n",
      "Generating URL ...\n",
      "An error occurred while downloading.\n",
      "Image.normalizedDifference: No band named 'Nir'. Available band names: [].\n",
      "Export failed: File D:\\Madagascar\\Data\\RiverMapping\\RiverMasks\\Betsiboka\\reach_4\\Raw\\Betsiboka_reach_4_2012_tile_0_DSWE_level_3.tif not found.\n",
      "No tiles found for stitching.\n",
      "Failed to export Betsiboka_reach_4_2012_DSWE_level_3.tif. Error: D:/Madagascar/Data/RiverMapping/RiverMasks/Betsiboka/reach_4/Raw/Betsiboka_reach_4_2012_DSWE_level_3.tif: No such file or directory\n",
      "Generating URL ...\n",
      "Downloading data from https://earthengine.googleapis.com/v1/projects/earthengine-legacy/thumbnails/d0c14ef90727276d41022b75221d22f6-4f50f7197c8505c7ac08ad9b7de21664:getPixels\n",
      "Please wait ...\n",
      "Data downloaded to D:\\Madagascar\\Data\\RiverMapping\\RiverMasks\\Betsiboka\\reach_4\\Raw\\Betsiboka_reach_4_2013_DSWE_level_3.tif\n",
      "RAW: Successfully exported D:\\Madagascar\\Data\\RiverMapping\\RiverMasks\\Betsiboka\\reach_4\\Raw\\Betsiboka_reach_4_2013_DSWE_level_3.tif.\n"
     ]
    },
    {
     "name": "stderr",
     "output_type": "stream",
     "text": [
      "C:\\Users\\huckr\\AppData\\Local\\Temp\\ipykernel_22020\\949864737.py:469: UserWarning: Geometry is in a geographic CRS. Results from 'centroid' are likely incorrect. Use 'GeoSeries.to_crs()' to re-project geometries to a projected CRS before this operation.\n",
      "\n",
      "  centroid = grwl_reach_dissolved.geometry.centroid.iloc[0]\n"
     ]
    },
    {
     "name": "stdout",
     "output_type": "stream",
     "text": [
      "Raster successfully saved with compression to: D:\\Madagascar\\Data\\RiverMapping\\RiverMasks\\Betsiboka\\reach_4\\Processed\\Betsiboka_reach_4_2013_DSWE_level_3.tif\n",
      "Processed raster saved to: D:\\Madagascar\\Data\\RiverMapping\\RiverMasks\\Betsiboka\\reach_4\\Processed\\Betsiboka_reach_4_2013_DSWE_level_3.tif\n",
      "PROCESSED: Exported Betsiboka_reach_4_2013_DSWE_level_3.tif to D:\\Madagascar\\Data\\RiverMapping\\RiverMasks\\Betsiboka\\reach_4\\Processed.\n",
      "Generating URL ...\n",
      "Downloading data from https://earthengine.googleapis.com/v1/projects/earthengine-legacy/thumbnails/70dd32f8018589e9226f3f30d29a335d-401b63bcb2cfc3b09f0aeb72bef3b4e4:getPixels\n",
      "Please wait ...\n",
      "Data downloaded to D:\\Madagascar\\Data\\RiverMapping\\RiverMasks\\Betsiboka\\reach_4\\Raw\\Betsiboka_reach_4_2014_DSWE_level_3.tif\n",
      "RAW: Successfully exported D:\\Madagascar\\Data\\RiverMapping\\RiverMasks\\Betsiboka\\reach_4\\Raw\\Betsiboka_reach_4_2014_DSWE_level_3.tif.\n"
     ]
    },
    {
     "name": "stderr",
     "output_type": "stream",
     "text": [
      "C:\\Users\\huckr\\AppData\\Local\\Temp\\ipykernel_22020\\949864737.py:469: UserWarning: Geometry is in a geographic CRS. Results from 'centroid' are likely incorrect. Use 'GeoSeries.to_crs()' to re-project geometries to a projected CRS before this operation.\n",
      "\n",
      "  centroid = grwl_reach_dissolved.geometry.centroid.iloc[0]\n"
     ]
    },
    {
     "name": "stdout",
     "output_type": "stream",
     "text": [
      "Raster successfully saved with compression to: D:\\Madagascar\\Data\\RiverMapping\\RiverMasks\\Betsiboka\\reach_4\\Processed\\Betsiboka_reach_4_2014_DSWE_level_3.tif\n",
      "Processed raster saved to: D:\\Madagascar\\Data\\RiverMapping\\RiverMasks\\Betsiboka\\reach_4\\Processed\\Betsiboka_reach_4_2014_DSWE_level_3.tif\n",
      "PROCESSED: Exported Betsiboka_reach_4_2014_DSWE_level_3.tif to D:\\Madagascar\\Data\\RiverMapping\\RiverMasks\\Betsiboka\\reach_4\\Processed.\n",
      "Generating URL ...\n",
      "Downloading data from https://earthengine.googleapis.com/v1/projects/earthengine-legacy/thumbnails/e1401e983e2dde4a5e6ad71c436b6363-8b68be512ffa9181fff5854a7da4c6b6:getPixels\n",
      "Please wait ...\n",
      "Data downloaded to D:\\Madagascar\\Data\\RiverMapping\\RiverMasks\\Betsiboka\\reach_4\\Raw\\Betsiboka_reach_4_2015_DSWE_level_3.tif\n",
      "RAW: Successfully exported D:\\Madagascar\\Data\\RiverMapping\\RiverMasks\\Betsiboka\\reach_4\\Raw\\Betsiboka_reach_4_2015_DSWE_level_3.tif.\n"
     ]
    },
    {
     "name": "stderr",
     "output_type": "stream",
     "text": [
      "C:\\Users\\huckr\\AppData\\Local\\Temp\\ipykernel_22020\\949864737.py:469: UserWarning: Geometry is in a geographic CRS. Results from 'centroid' are likely incorrect. Use 'GeoSeries.to_crs()' to re-project geometries to a projected CRS before this operation.\n",
      "\n",
      "  centroid = grwl_reach_dissolved.geometry.centroid.iloc[0]\n"
     ]
    },
    {
     "name": "stdout",
     "output_type": "stream",
     "text": [
      "Raster successfully saved with compression to: D:\\Madagascar\\Data\\RiverMapping\\RiverMasks\\Betsiboka\\reach_4\\Processed\\Betsiboka_reach_4_2015_DSWE_level_3.tif\n",
      "Processed raster saved to: D:\\Madagascar\\Data\\RiverMapping\\RiverMasks\\Betsiboka\\reach_4\\Processed\\Betsiboka_reach_4_2015_DSWE_level_3.tif\n",
      "PROCESSED: Exported Betsiboka_reach_4_2015_DSWE_level_3.tif to D:\\Madagascar\\Data\\RiverMapping\\RiverMasks\\Betsiboka\\reach_4\\Processed.\n",
      "Generating URL ...\n",
      "Downloading data from https://earthengine.googleapis.com/v1/projects/earthengine-legacy/thumbnails/08dd1c098aaa9e189acd277e5799f768-417af7f39a4a7d5d00d631ee083dba2e:getPixels\n",
      "Please wait ...\n",
      "Data downloaded to D:\\Madagascar\\Data\\RiverMapping\\RiverMasks\\Betsiboka\\reach_4\\Raw\\Betsiboka_reach_4_2016_DSWE_level_3.tif\n",
      "RAW: Successfully exported D:\\Madagascar\\Data\\RiverMapping\\RiverMasks\\Betsiboka\\reach_4\\Raw\\Betsiboka_reach_4_2016_DSWE_level_3.tif.\n"
     ]
    },
    {
     "name": "stderr",
     "output_type": "stream",
     "text": [
      "C:\\Users\\huckr\\AppData\\Local\\Temp\\ipykernel_22020\\949864737.py:469: UserWarning: Geometry is in a geographic CRS. Results from 'centroid' are likely incorrect. Use 'GeoSeries.to_crs()' to re-project geometries to a projected CRS before this operation.\n",
      "\n",
      "  centroid = grwl_reach_dissolved.geometry.centroid.iloc[0]\n"
     ]
    },
    {
     "name": "stdout",
     "output_type": "stream",
     "text": [
      "Raster successfully saved with compression to: D:\\Madagascar\\Data\\RiverMapping\\RiverMasks\\Betsiboka\\reach_4\\Processed\\Betsiboka_reach_4_2016_DSWE_level_3.tif\n",
      "Processed raster saved to: D:\\Madagascar\\Data\\RiverMapping\\RiverMasks\\Betsiboka\\reach_4\\Processed\\Betsiboka_reach_4_2016_DSWE_level_3.tif\n",
      "PROCESSED: Exported Betsiboka_reach_4_2016_DSWE_level_3.tif to D:\\Madagascar\\Data\\RiverMapping\\RiverMasks\\Betsiboka\\reach_4\\Processed.\n",
      "Generating URL ...\n",
      "Downloading data from https://earthengine.googleapis.com/v1/projects/earthengine-legacy/thumbnails/a50d07e0356ed263bd4329b28efd358e-90e369002565598d03fb23ddbc84ae3e:getPixels\n",
      "Please wait ...\n",
      "Data downloaded to D:\\Madagascar\\Data\\RiverMapping\\RiverMasks\\Betsiboka\\reach_4\\Raw\\Betsiboka_reach_4_2017_DSWE_level_3.tif\n",
      "RAW: Successfully exported D:\\Madagascar\\Data\\RiverMapping\\RiverMasks\\Betsiboka\\reach_4\\Raw\\Betsiboka_reach_4_2017_DSWE_level_3.tif.\n"
     ]
    },
    {
     "name": "stderr",
     "output_type": "stream",
     "text": [
      "C:\\Users\\huckr\\AppData\\Local\\Temp\\ipykernel_22020\\949864737.py:469: UserWarning: Geometry is in a geographic CRS. Results from 'centroid' are likely incorrect. Use 'GeoSeries.to_crs()' to re-project geometries to a projected CRS before this operation.\n",
      "\n",
      "  centroid = grwl_reach_dissolved.geometry.centroid.iloc[0]\n"
     ]
    },
    {
     "name": "stdout",
     "output_type": "stream",
     "text": [
      "Raster successfully saved with compression to: D:\\Madagascar\\Data\\RiverMapping\\RiverMasks\\Betsiboka\\reach_4\\Processed\\Betsiboka_reach_4_2017_DSWE_level_3.tif\n",
      "Processed raster saved to: D:\\Madagascar\\Data\\RiverMapping\\RiverMasks\\Betsiboka\\reach_4\\Processed\\Betsiboka_reach_4_2017_DSWE_level_3.tif\n",
      "PROCESSED: Exported Betsiboka_reach_4_2017_DSWE_level_3.tif to D:\\Madagascar\\Data\\RiverMapping\\RiverMasks\\Betsiboka\\reach_4\\Processed.\n",
      "Generating URL ...\n",
      "Downloading data from https://earthengine.googleapis.com/v1/projects/earthengine-legacy/thumbnails/6df88f66a6c40e406be232de4ea0dab3-c2b7ec200e1e6b8edc5c9644e796a2a1:getPixels\n",
      "Please wait ...\n",
      "Data downloaded to D:\\Madagascar\\Data\\RiverMapping\\RiverMasks\\Betsiboka\\reach_4\\Raw\\Betsiboka_reach_4_2018_DSWE_level_3.tif\n",
      "RAW: Successfully exported D:\\Madagascar\\Data\\RiverMapping\\RiverMasks\\Betsiboka\\reach_4\\Raw\\Betsiboka_reach_4_2018_DSWE_level_3.tif.\n"
     ]
    },
    {
     "name": "stderr",
     "output_type": "stream",
     "text": [
      "C:\\Users\\huckr\\AppData\\Local\\Temp\\ipykernel_22020\\949864737.py:469: UserWarning: Geometry is in a geographic CRS. Results from 'centroid' are likely incorrect. Use 'GeoSeries.to_crs()' to re-project geometries to a projected CRS before this operation.\n",
      "\n",
      "  centroid = grwl_reach_dissolved.geometry.centroid.iloc[0]\n"
     ]
    },
    {
     "name": "stdout",
     "output_type": "stream",
     "text": [
      "Raster successfully saved with compression to: D:\\Madagascar\\Data\\RiverMapping\\RiverMasks\\Betsiboka\\reach_4\\Processed\\Betsiboka_reach_4_2018_DSWE_level_3.tif\n",
      "Processed raster saved to: D:\\Madagascar\\Data\\RiverMapping\\RiverMasks\\Betsiboka\\reach_4\\Processed\\Betsiboka_reach_4_2018_DSWE_level_3.tif\n",
      "PROCESSED: Exported Betsiboka_reach_4_2018_DSWE_level_3.tif to D:\\Madagascar\\Data\\RiverMapping\\RiverMasks\\Betsiboka\\reach_4\\Processed.\n",
      "Generating URL ...\n",
      "Downloading data from https://earthengine.googleapis.com/v1/projects/earthengine-legacy/thumbnails/57b62b2a60fc0ad6fd8188cc5895053e-742746896ed4ba2efb6629dfa56f641b:getPixels\n",
      "Please wait ...\n",
      "Data downloaded to D:\\Madagascar\\Data\\RiverMapping\\RiverMasks\\Betsiboka\\reach_4\\Raw\\Betsiboka_reach_4_2019_DSWE_level_3.tif\n",
      "RAW: Successfully exported D:\\Madagascar\\Data\\RiverMapping\\RiverMasks\\Betsiboka\\reach_4\\Raw\\Betsiboka_reach_4_2019_DSWE_level_3.tif.\n"
     ]
    },
    {
     "name": "stderr",
     "output_type": "stream",
     "text": [
      "C:\\Users\\huckr\\AppData\\Local\\Temp\\ipykernel_22020\\949864737.py:469: UserWarning: Geometry is in a geographic CRS. Results from 'centroid' are likely incorrect. Use 'GeoSeries.to_crs()' to re-project geometries to a projected CRS before this operation.\n",
      "\n",
      "  centroid = grwl_reach_dissolved.geometry.centroid.iloc[0]\n"
     ]
    },
    {
     "name": "stdout",
     "output_type": "stream",
     "text": [
      "Raster successfully saved with compression to: D:\\Madagascar\\Data\\RiverMapping\\RiverMasks\\Betsiboka\\reach_4\\Processed\\Betsiboka_reach_4_2019_DSWE_level_3.tif\n",
      "Processed raster saved to: D:\\Madagascar\\Data\\RiverMapping\\RiverMasks\\Betsiboka\\reach_4\\Processed\\Betsiboka_reach_4_2019_DSWE_level_3.tif\n",
      "PROCESSED: Exported Betsiboka_reach_4_2019_DSWE_level_3.tif to D:\\Madagascar\\Data\\RiverMapping\\RiverMasks\\Betsiboka\\reach_4\\Processed.\n",
      "Generating URL ...\n",
      "Downloading data from https://earthengine.googleapis.com/v1/projects/earthengine-legacy/thumbnails/b4b555a816739a0b6f8cb3702e899dda-90d847c6c837e676637997b3f1871a79:getPixels\n",
      "Please wait ...\n",
      "Data downloaded to D:\\Madagascar\\Data\\RiverMapping\\RiverMasks\\Betsiboka\\reach_4\\Raw\\Betsiboka_reach_4_2020_DSWE_level_3.tif\n",
      "RAW: Successfully exported D:\\Madagascar\\Data\\RiverMapping\\RiverMasks\\Betsiboka\\reach_4\\Raw\\Betsiboka_reach_4_2020_DSWE_level_3.tif.\n"
     ]
    },
    {
     "name": "stderr",
     "output_type": "stream",
     "text": [
      "C:\\Users\\huckr\\AppData\\Local\\Temp\\ipykernel_22020\\949864737.py:469: UserWarning: Geometry is in a geographic CRS. Results from 'centroid' are likely incorrect. Use 'GeoSeries.to_crs()' to re-project geometries to a projected CRS before this operation.\n",
      "\n",
      "  centroid = grwl_reach_dissolved.geometry.centroid.iloc[0]\n"
     ]
    },
    {
     "name": "stdout",
     "output_type": "stream",
     "text": [
      "Raster successfully saved with compression to: D:\\Madagascar\\Data\\RiverMapping\\RiverMasks\\Betsiboka\\reach_4\\Processed\\Betsiboka_reach_4_2020_DSWE_level_3.tif\n",
      "Processed raster saved to: D:\\Madagascar\\Data\\RiverMapping\\RiverMasks\\Betsiboka\\reach_4\\Processed\\Betsiboka_reach_4_2020_DSWE_level_3.tif\n",
      "PROCESSED: Exported Betsiboka_reach_4_2020_DSWE_level_3.tif to D:\\Madagascar\\Data\\RiverMapping\\RiverMasks\\Betsiboka\\reach_4\\Processed.\n",
      "Generating URL ...\n",
      "Downloading data from https://earthengine.googleapis.com/v1/projects/earthengine-legacy/thumbnails/0eb7022ad48766a6e8d086a4cbd78502-98bdfa6b78f7c5384d33b06633cadb83:getPixels\n",
      "Please wait ...\n",
      "Data downloaded to D:\\Madagascar\\Data\\RiverMapping\\RiverMasks\\Betsiboka\\reach_4\\Raw\\Betsiboka_reach_4_2021_DSWE_level_3.tif\n",
      "RAW: Successfully exported D:\\Madagascar\\Data\\RiverMapping\\RiverMasks\\Betsiboka\\reach_4\\Raw\\Betsiboka_reach_4_2021_DSWE_level_3.tif.\n"
     ]
    },
    {
     "name": "stderr",
     "output_type": "stream",
     "text": [
      "C:\\Users\\huckr\\AppData\\Local\\Temp\\ipykernel_22020\\949864737.py:469: UserWarning: Geometry is in a geographic CRS. Results from 'centroid' are likely incorrect. Use 'GeoSeries.to_crs()' to re-project geometries to a projected CRS before this operation.\n",
      "\n",
      "  centroid = grwl_reach_dissolved.geometry.centroid.iloc[0]\n"
     ]
    },
    {
     "name": "stdout",
     "output_type": "stream",
     "text": [
      "Raster successfully saved with compression to: D:\\Madagascar\\Data\\RiverMapping\\RiverMasks\\Betsiboka\\reach_4\\Processed\\Betsiboka_reach_4_2021_DSWE_level_3.tif\n",
      "Processed raster saved to: D:\\Madagascar\\Data\\RiverMapping\\RiverMasks\\Betsiboka\\reach_4\\Processed\\Betsiboka_reach_4_2021_DSWE_level_3.tif\n",
      "PROCESSED: Exported Betsiboka_reach_4_2021_DSWE_level_3.tif to D:\\Madagascar\\Data\\RiverMapping\\RiverMasks\\Betsiboka\\reach_4\\Processed.\n",
      "Generating URL ...\n",
      "Downloading data from https://earthengine.googleapis.com/v1/projects/earthengine-legacy/thumbnails/473d820ab02839f69317119eabd73d90-8a79e8f0b8696013b9da8d3bff8c8280:getPixels\n",
      "Please wait ...\n",
      "Data downloaded to D:\\Madagascar\\Data\\RiverMapping\\RiverMasks\\Betsiboka\\reach_4\\Raw\\Betsiboka_reach_4_2022_DSWE_level_3.tif\n",
      "RAW: Successfully exported D:\\Madagascar\\Data\\RiverMapping\\RiverMasks\\Betsiboka\\reach_4\\Raw\\Betsiboka_reach_4_2022_DSWE_level_3.tif.\n"
     ]
    },
    {
     "name": "stderr",
     "output_type": "stream",
     "text": [
      "C:\\Users\\huckr\\AppData\\Local\\Temp\\ipykernel_22020\\949864737.py:469: UserWarning: Geometry is in a geographic CRS. Results from 'centroid' are likely incorrect. Use 'GeoSeries.to_crs()' to re-project geometries to a projected CRS before this operation.\n",
      "\n",
      "  centroid = grwl_reach_dissolved.geometry.centroid.iloc[0]\n"
     ]
    },
    {
     "name": "stdout",
     "output_type": "stream",
     "text": [
      "Raster successfully saved with compression to: D:\\Madagascar\\Data\\RiverMapping\\RiverMasks\\Betsiboka\\reach_4\\Processed\\Betsiboka_reach_4_2022_DSWE_level_3.tif\n",
      "Processed raster saved to: D:\\Madagascar\\Data\\RiverMapping\\RiverMasks\\Betsiboka\\reach_4\\Processed\\Betsiboka_reach_4_2022_DSWE_level_3.tif\n",
      "PROCESSED: Exported Betsiboka_reach_4_2022_DSWE_level_3.tif to D:\\Madagascar\\Data\\RiverMapping\\RiverMasks\\Betsiboka\\reach_4\\Processed.\n",
      "Generating URL ...\n",
      "Downloading data from https://earthengine.googleapis.com/v1/projects/earthengine-legacy/thumbnails/12ad5e8b599c912db9429b74693d47b5-a3964f807f0d1d1c0243afbf14e7aae8:getPixels\n",
      "Please wait ...\n",
      "Data downloaded to D:\\Madagascar\\Data\\RiverMapping\\RiverMasks\\Betsiboka\\reach_4\\Raw\\Betsiboka_reach_4_2023_DSWE_level_3.tif\n",
      "RAW: Successfully exported D:\\Madagascar\\Data\\RiverMapping\\RiverMasks\\Betsiboka\\reach_4\\Raw\\Betsiboka_reach_4_2023_DSWE_level_3.tif.\n"
     ]
    },
    {
     "name": "stderr",
     "output_type": "stream",
     "text": [
      "C:\\Users\\huckr\\AppData\\Local\\Temp\\ipykernel_22020\\949864737.py:469: UserWarning: Geometry is in a geographic CRS. Results from 'centroid' are likely incorrect. Use 'GeoSeries.to_crs()' to re-project geometries to a projected CRS before this operation.\n",
      "\n",
      "  centroid = grwl_reach_dissolved.geometry.centroid.iloc[0]\n"
     ]
    },
    {
     "name": "stdout",
     "output_type": "stream",
     "text": [
      "Raster successfully saved with compression to: D:\\Madagascar\\Data\\RiverMapping\\RiverMasks\\Betsiboka\\reach_4\\Processed\\Betsiboka_reach_4_2023_DSWE_level_3.tif\n",
      "Processed raster saved to: D:\\Madagascar\\Data\\RiverMapping\\RiverMasks\\Betsiboka\\reach_4\\Processed\\Betsiboka_reach_4_2023_DSWE_level_3.tif\n",
      "PROCESSED: Exported Betsiboka_reach_4_2023_DSWE_level_3.tif to D:\\Madagascar\\Data\\RiverMapping\\RiverMasks\\Betsiboka\\reach_4\\Processed.\n",
      "Generating URL ...\n",
      "Downloading data from https://earthengine.googleapis.com/v1/projects/earthengine-legacy/thumbnails/e694997517ae0ca0084832fa1b4321fb-7ee4b0489cf87dfa65abeb1c4e775295:getPixels\n",
      "Please wait ...\n",
      "Data downloaded to D:\\Madagascar\\Data\\RiverMapping\\RiverMasks\\Betsiboka\\reach_4\\Raw\\Betsiboka_reach_4_2024_DSWE_level_3.tif\n",
      "RAW: Successfully exported D:\\Madagascar\\Data\\RiverMapping\\RiverMasks\\Betsiboka\\reach_4\\Raw\\Betsiboka_reach_4_2024_DSWE_level_3.tif.\n"
     ]
    },
    {
     "name": "stderr",
     "output_type": "stream",
     "text": [
      "C:\\Users\\huckr\\AppData\\Local\\Temp\\ipykernel_22020\\949864737.py:469: UserWarning: Geometry is in a geographic CRS. Results from 'centroid' are likely incorrect. Use 'GeoSeries.to_crs()' to re-project geometries to a projected CRS before this operation.\n",
      "\n",
      "  centroid = grwl_reach_dissolved.geometry.centroid.iloc[0]\n"
     ]
    },
    {
     "name": "stdout",
     "output_type": "stream",
     "text": [
      "Raster successfully saved with compression to: D:\\Madagascar\\Data\\RiverMapping\\RiverMasks\\Betsiboka\\reach_4\\Processed\\Betsiboka_reach_4_2024_DSWE_level_3.tif\n",
      "Processed raster saved to: D:\\Madagascar\\Data\\RiverMapping\\RiverMasks\\Betsiboka\\reach_4\\Processed\\Betsiboka_reach_4_2024_DSWE_level_3.tif\n",
      "PROCESSED: Exported Betsiboka_reach_4_2024_DSWE_level_3.tif to D:\\Madagascar\\Data\\RiverMapping\\RiverMasks\\Betsiboka\\reach_4\\Processed.\n",
      "Generating URL ...\n",
      "Downloading data from https://earthengine.googleapis.com/v1/projects/earthengine-legacy/thumbnails/e58db57980ce12d309611c32c9a70959-6a7fcfd9fac1ee9fe48c0410632c4eec:getPixels\n",
      "Please wait ...\n",
      "Data downloaded to D:\\Madagascar\\Data\\RiverMapping\\RiverMasks\\Betsiboka\\reach_4\\Raw\\Betsiboka_reach_4_2025_DSWE_level_3.tif\n",
      "RAW: Successfully exported D:\\Madagascar\\Data\\RiverMapping\\RiverMasks\\Betsiboka\\reach_4\\Raw\\Betsiboka_reach_4_2025_DSWE_level_3.tif.\n"
     ]
    },
    {
     "name": "stderr",
     "output_type": "stream",
     "text": [
      "C:\\Users\\huckr\\AppData\\Local\\Temp\\ipykernel_22020\\949864737.py:469: UserWarning: Geometry is in a geographic CRS. Results from 'centroid' are likely incorrect. Use 'GeoSeries.to_crs()' to re-project geometries to a projected CRS before this operation.\n",
      "\n",
      "  centroid = grwl_reach_dissolved.geometry.centroid.iloc[0]\n"
     ]
    },
    {
     "name": "stdout",
     "output_type": "stream",
     "text": [
      "Raster successfully saved with compression to: D:\\Madagascar\\Data\\RiverMapping\\RiverMasks\\Betsiboka\\reach_4\\Processed\\Betsiboka_reach_4_2025_DSWE_level_3.tif\n",
      "Processed raster saved to: D:\\Madagascar\\Data\\RiverMapping\\RiverMasks\\Betsiboka\\reach_4\\Processed\\Betsiboka_reach_4_2025_DSWE_level_3.tif\n",
      "PROCESSED: Exported Betsiboka_reach_4_2025_DSWE_level_3.tif to D:\\Madagascar\\Data\\RiverMapping\\RiverMasks\\Betsiboka\\reach_4\\Processed.\n",
      "Generating URL ...\n",
      "Downloading data from https://earthengine.googleapis.com/v1/projects/earthengine-legacy/thumbnails/1dad57a078ed31824311f9fc5a30a122-20abf69f866e38ce616f95865f8f5829:getPixels\n",
      "Please wait ...\n",
      "Data downloaded to D:\\Madagascar\\Data\\RiverMapping\\RiverMasks\\Betsiboka\\reach_3\\Raw\\Betsiboka_reach_3_1984_DSWE_level_3.tif\n",
      "RAW: Successfully exported D:\\Madagascar\\Data\\RiverMapping\\RiverMasks\\Betsiboka\\reach_3\\Raw\\Betsiboka_reach_3_1984_DSWE_level_3.tif.\n"
     ]
    },
    {
     "name": "stderr",
     "output_type": "stream",
     "text": [
      "C:\\Users\\huckr\\AppData\\Local\\Temp\\ipykernel_22020\\949864737.py:469: UserWarning: Geometry is in a geographic CRS. Results from 'centroid' are likely incorrect. Use 'GeoSeries.to_crs()' to re-project geometries to a projected CRS before this operation.\n",
      "\n",
      "  centroid = grwl_reach_dissolved.geometry.centroid.iloc[0]\n"
     ]
    },
    {
     "name": "stdout",
     "output_type": "stream",
     "text": [
      "Raster successfully saved with compression to: D:\\Madagascar\\Data\\RiverMapping\\RiverMasks\\Betsiboka\\reach_3\\Processed\\Betsiboka_reach_3_1984_DSWE_level_3.tif\n",
      "Processed raster saved to: D:\\Madagascar\\Data\\RiverMapping\\RiverMasks\\Betsiboka\\reach_3\\Processed\\Betsiboka_reach_3_1984_DSWE_level_3.tif\n",
      "PROCESSED: Exported Betsiboka_reach_3_1984_DSWE_level_3.tif to D:\\Madagascar\\Data\\RiverMapping\\RiverMasks\\Betsiboka\\reach_3\\Processed.\n",
      "Generating URL ...\n",
      "Downloading data from https://earthengine.googleapis.com/v1/projects/earthengine-legacy/thumbnails/638928ec996050e272becd6dfa64f24c-d3b992f17764c8d6a8e25770bf58bcb6:getPixels\n",
      "Please wait ...\n",
      "Data downloaded to D:\\Madagascar\\Data\\RiverMapping\\RiverMasks\\Betsiboka\\reach_3\\Raw\\Betsiboka_reach_3_1985_DSWE_level_3.tif\n",
      "RAW: Successfully exported D:\\Madagascar\\Data\\RiverMapping\\RiverMasks\\Betsiboka\\reach_3\\Raw\\Betsiboka_reach_3_1985_DSWE_level_3.tif.\n"
     ]
    },
    {
     "name": "stderr",
     "output_type": "stream",
     "text": [
      "C:\\Users\\huckr\\AppData\\Local\\Temp\\ipykernel_22020\\949864737.py:469: UserWarning: Geometry is in a geographic CRS. Results from 'centroid' are likely incorrect. Use 'GeoSeries.to_crs()' to re-project geometries to a projected CRS before this operation.\n",
      "\n",
      "  centroid = grwl_reach_dissolved.geometry.centroid.iloc[0]\n"
     ]
    },
    {
     "name": "stdout",
     "output_type": "stream",
     "text": [
      "Raster successfully saved with compression to: D:\\Madagascar\\Data\\RiverMapping\\RiverMasks\\Betsiboka\\reach_3\\Processed\\Betsiboka_reach_3_1985_DSWE_level_3.tif\n",
      "Processed raster saved to: D:\\Madagascar\\Data\\RiverMapping\\RiverMasks\\Betsiboka\\reach_3\\Processed\\Betsiboka_reach_3_1985_DSWE_level_3.tif\n",
      "PROCESSED: Exported Betsiboka_reach_3_1985_DSWE_level_3.tif to D:\\Madagascar\\Data\\RiverMapping\\RiverMasks\\Betsiboka\\reach_3\\Processed.\n",
      "Generating URL ...\n",
      "An error occurred while downloading.\n",
      "Image.select: Band pattern 'Nir' was applied to an Image with no bands. See https://developers.google.com/earth-engine/guides/debugging#no-bands\n",
      "Export failed: File D:\\Madagascar\\Data\\RiverMapping\\RiverMasks\\Betsiboka\\reach_3\\Raw\\Betsiboka_reach_3_1986_DSWE_level_3.tif not found.\n",
      "Export failed for Betsiboka_reach_3_1986_DSWE_level_3.tif, attempting tiling...\n",
      "Generating URL ...\n",
      "An error occurred while downloading.\n",
      "Image.select: Band pattern 'Nir' was applied to an Image with no bands. See https://developers.google.com/earth-engine/guides/debugging#no-bands\n",
      "Export failed: File D:\\Madagascar\\Data\\RiverMapping\\RiverMasks\\Betsiboka\\reach_3\\Raw\\Betsiboka_reach_3_1986_tile_0_DSWE_level_3.tif not found.\n",
      "No tiles found for stitching.\n",
      "Failed to export Betsiboka_reach_3_1986_DSWE_level_3.tif. Error: D:/Madagascar/Data/RiverMapping/RiverMasks/Betsiboka/reach_3/Raw/Betsiboka_reach_3_1986_DSWE_level_3.tif: No such file or directory\n",
      "Generating URL ...\n",
      "Downloading data from https://earthengine.googleapis.com/v1/projects/earthengine-legacy/thumbnails/f763408460d40c1babe7f45e8bfeb7a5-1a3425d410ab55c4ecbb48f19658520b:getPixels\n",
      "Please wait ...\n",
      "Data downloaded to D:\\Madagascar\\Data\\RiverMapping\\RiverMasks\\Betsiboka\\reach_3\\Raw\\Betsiboka_reach_3_1987_DSWE_level_3.tif\n",
      "RAW: Successfully exported D:\\Madagascar\\Data\\RiverMapping\\RiverMasks\\Betsiboka\\reach_3\\Raw\\Betsiboka_reach_3_1987_DSWE_level_3.tif.\n"
     ]
    },
    {
     "name": "stderr",
     "output_type": "stream",
     "text": [
      "C:\\Users\\huckr\\AppData\\Local\\Temp\\ipykernel_22020\\949864737.py:469: UserWarning: Geometry is in a geographic CRS. Results from 'centroid' are likely incorrect. Use 'GeoSeries.to_crs()' to re-project geometries to a projected CRS before this operation.\n",
      "\n",
      "  centroid = grwl_reach_dissolved.geometry.centroid.iloc[0]\n"
     ]
    },
    {
     "name": "stdout",
     "output_type": "stream",
     "text": [
      "Raster successfully saved with compression to: D:\\Madagascar\\Data\\RiverMapping\\RiverMasks\\Betsiboka\\reach_3\\Processed\\Betsiboka_reach_3_1987_DSWE_level_3.tif\n",
      "Processed raster saved to: D:\\Madagascar\\Data\\RiverMapping\\RiverMasks\\Betsiboka\\reach_3\\Processed\\Betsiboka_reach_3_1987_DSWE_level_3.tif\n",
      "PROCESSED: Exported Betsiboka_reach_3_1987_DSWE_level_3.tif to D:\\Madagascar\\Data\\RiverMapping\\RiverMasks\\Betsiboka\\reach_3\\Processed.\n",
      "Generating URL ...\n",
      "An error occurred while downloading.\n",
      "Image.select: Band pattern 'Swir2' was applied to an Image with no bands. See https://developers.google.com/earth-engine/guides/debugging#no-bands\n",
      "Export failed: File D:\\Madagascar\\Data\\RiverMapping\\RiverMasks\\Betsiboka\\reach_3\\Raw\\Betsiboka_reach_3_1988_DSWE_level_3.tif not found.\n",
      "Export failed for Betsiboka_reach_3_1988_DSWE_level_3.tif, attempting tiling...\n",
      "Generating URL ...\n",
      "An error occurred while downloading.\n",
      "Image.select: Band pattern 'Swir2' was applied to an Image with no bands. See https://developers.google.com/earth-engine/guides/debugging#no-bands\n",
      "Export failed: File D:\\Madagascar\\Data\\RiverMapping\\RiverMasks\\Betsiboka\\reach_3\\Raw\\Betsiboka_reach_3_1988_tile_0_DSWE_level_3.tif not found.\n",
      "No tiles found for stitching.\n",
      "Failed to export Betsiboka_reach_3_1988_DSWE_level_3.tif. Error: D:/Madagascar/Data/RiverMapping/RiverMasks/Betsiboka/reach_3/Raw/Betsiboka_reach_3_1988_DSWE_level_3.tif: No such file or directory\n",
      "Generating URL ...\n",
      "Downloading data from https://earthengine.googleapis.com/v1/projects/earthengine-legacy/thumbnails/fcf835b3c76cf8f6d4313364640ba186-9af5ab660f88c74b51094433d74485d4:getPixels\n",
      "Please wait ...\n",
      "Data downloaded to D:\\Madagascar\\Data\\RiverMapping\\RiverMasks\\Betsiboka\\reach_3\\Raw\\Betsiboka_reach_3_1989_DSWE_level_3.tif\n",
      "RAW: Successfully exported D:\\Madagascar\\Data\\RiverMapping\\RiverMasks\\Betsiboka\\reach_3\\Raw\\Betsiboka_reach_3_1989_DSWE_level_3.tif.\n"
     ]
    },
    {
     "name": "stderr",
     "output_type": "stream",
     "text": [
      "C:\\Users\\huckr\\AppData\\Local\\Temp\\ipykernel_22020\\949864737.py:469: UserWarning: Geometry is in a geographic CRS. Results from 'centroid' are likely incorrect. Use 'GeoSeries.to_crs()' to re-project geometries to a projected CRS before this operation.\n",
      "\n",
      "  centroid = grwl_reach_dissolved.geometry.centroid.iloc[0]\n"
     ]
    },
    {
     "name": "stdout",
     "output_type": "stream",
     "text": [
      "Raster successfully saved with compression to: D:\\Madagascar\\Data\\RiverMapping\\RiverMasks\\Betsiboka\\reach_3\\Processed\\Betsiboka_reach_3_1989_DSWE_level_3.tif\n",
      "Processed raster saved to: D:\\Madagascar\\Data\\RiverMapping\\RiverMasks\\Betsiboka\\reach_3\\Processed\\Betsiboka_reach_3_1989_DSWE_level_3.tif\n",
      "PROCESSED: Exported Betsiboka_reach_3_1989_DSWE_level_3.tif to D:\\Madagascar\\Data\\RiverMapping\\RiverMasks\\Betsiboka\\reach_3\\Processed.\n",
      "Generating URL ...\n",
      "Downloading data from https://earthengine.googleapis.com/v1/projects/earthengine-legacy/thumbnails/86078d9f0119cb9dd52821615b0e8112-3c9903e22063811b1e9c7b0639fcbe5a:getPixels\n",
      "Please wait ...\n",
      "Data downloaded to D:\\Madagascar\\Data\\RiverMapping\\RiverMasks\\Betsiboka\\reach_3\\Raw\\Betsiboka_reach_3_1990_DSWE_level_3.tif\n",
      "RAW: Successfully exported D:\\Madagascar\\Data\\RiverMapping\\RiverMasks\\Betsiboka\\reach_3\\Raw\\Betsiboka_reach_3_1990_DSWE_level_3.tif.\n"
     ]
    },
    {
     "name": "stderr",
     "output_type": "stream",
     "text": [
      "C:\\Users\\huckr\\AppData\\Local\\Temp\\ipykernel_22020\\949864737.py:469: UserWarning: Geometry is in a geographic CRS. Results from 'centroid' are likely incorrect. Use 'GeoSeries.to_crs()' to re-project geometries to a projected CRS before this operation.\n",
      "\n",
      "  centroid = grwl_reach_dissolved.geometry.centroid.iloc[0]\n"
     ]
    },
    {
     "name": "stdout",
     "output_type": "stream",
     "text": [
      "Raster successfully saved with compression to: D:\\Madagascar\\Data\\RiverMapping\\RiverMasks\\Betsiboka\\reach_3\\Processed\\Betsiboka_reach_3_1990_DSWE_level_3.tif\n",
      "Processed raster saved to: D:\\Madagascar\\Data\\RiverMapping\\RiverMasks\\Betsiboka\\reach_3\\Processed\\Betsiboka_reach_3_1990_DSWE_level_3.tif\n",
      "PROCESSED: Exported Betsiboka_reach_3_1990_DSWE_level_3.tif to D:\\Madagascar\\Data\\RiverMapping\\RiverMasks\\Betsiboka\\reach_3\\Processed.\n",
      "Generating URL ...\n",
      "Downloading data from https://earthengine.googleapis.com/v1/projects/earthengine-legacy/thumbnails/3a71f28ede723a463133aa3adb6812dd-209125123bd9bb393b1faea3c04309bb:getPixels\n",
      "Please wait ...\n",
      "Data downloaded to D:\\Madagascar\\Data\\RiverMapping\\RiverMasks\\Betsiboka\\reach_3\\Raw\\Betsiboka_reach_3_1991_DSWE_level_3.tif\n",
      "RAW: Successfully exported D:\\Madagascar\\Data\\RiverMapping\\RiverMasks\\Betsiboka\\reach_3\\Raw\\Betsiboka_reach_3_1991_DSWE_level_3.tif.\n"
     ]
    },
    {
     "name": "stderr",
     "output_type": "stream",
     "text": [
      "C:\\Users\\huckr\\AppData\\Local\\Temp\\ipykernel_22020\\949864737.py:469: UserWarning: Geometry is in a geographic CRS. Results from 'centroid' are likely incorrect. Use 'GeoSeries.to_crs()' to re-project geometries to a projected CRS before this operation.\n",
      "\n",
      "  centroid = grwl_reach_dissolved.geometry.centroid.iloc[0]\n"
     ]
    },
    {
     "name": "stdout",
     "output_type": "stream",
     "text": [
      "Raster successfully saved with compression to: D:\\Madagascar\\Data\\RiverMapping\\RiverMasks\\Betsiboka\\reach_3\\Processed\\Betsiboka_reach_3_1991_DSWE_level_3.tif\n",
      "Processed raster saved to: D:\\Madagascar\\Data\\RiverMapping\\RiverMasks\\Betsiboka\\reach_3\\Processed\\Betsiboka_reach_3_1991_DSWE_level_3.tif\n",
      "PROCESSED: Exported Betsiboka_reach_3_1991_DSWE_level_3.tif to D:\\Madagascar\\Data\\RiverMapping\\RiverMasks\\Betsiboka\\reach_3\\Processed.\n",
      "Generating URL ...\n",
      "Downloading data from https://earthengine.googleapis.com/v1/projects/earthengine-legacy/thumbnails/79b7aee8b68f5c921607a97980e45b47-2bd79ca730753c26e3560329b7e9f49c:getPixels\n",
      "Please wait ...\n",
      "Data downloaded to D:\\Madagascar\\Data\\RiverMapping\\RiverMasks\\Betsiboka\\reach_3\\Raw\\Betsiboka_reach_3_1992_DSWE_level_3.tif\n",
      "RAW: Successfully exported D:\\Madagascar\\Data\\RiverMapping\\RiverMasks\\Betsiboka\\reach_3\\Raw\\Betsiboka_reach_3_1992_DSWE_level_3.tif.\n"
     ]
    },
    {
     "name": "stderr",
     "output_type": "stream",
     "text": [
      "C:\\Users\\huckr\\AppData\\Local\\Temp\\ipykernel_22020\\949864737.py:469: UserWarning: Geometry is in a geographic CRS. Results from 'centroid' are likely incorrect. Use 'GeoSeries.to_crs()' to re-project geometries to a projected CRS before this operation.\n",
      "\n",
      "  centroid = grwl_reach_dissolved.geometry.centroid.iloc[0]\n"
     ]
    },
    {
     "name": "stdout",
     "output_type": "stream",
     "text": [
      "Raster successfully saved with compression to: D:\\Madagascar\\Data\\RiverMapping\\RiverMasks\\Betsiboka\\reach_3\\Processed\\Betsiboka_reach_3_1992_DSWE_level_3.tif\n",
      "Processed raster saved to: D:\\Madagascar\\Data\\RiverMapping\\RiverMasks\\Betsiboka\\reach_3\\Processed\\Betsiboka_reach_3_1992_DSWE_level_3.tif\n",
      "PROCESSED: Exported Betsiboka_reach_3_1992_DSWE_level_3.tif to D:\\Madagascar\\Data\\RiverMapping\\RiverMasks\\Betsiboka\\reach_3\\Processed.\n",
      "Generating URL ...\n",
      "Downloading data from https://earthengine.googleapis.com/v1/projects/earthengine-legacy/thumbnails/652630e8a0a3fcba868c92b006cb772b-710c97d62549cfd7f2f8c82b15c9ece8:getPixels\n",
      "Please wait ...\n",
      "Data downloaded to D:\\Madagascar\\Data\\RiverMapping\\RiverMasks\\Betsiboka\\reach_3\\Raw\\Betsiboka_reach_3_1993_DSWE_level_3.tif\n",
      "RAW: Successfully exported D:\\Madagascar\\Data\\RiverMapping\\RiverMasks\\Betsiboka\\reach_3\\Raw\\Betsiboka_reach_3_1993_DSWE_level_3.tif.\n"
     ]
    },
    {
     "name": "stderr",
     "output_type": "stream",
     "text": [
      "C:\\Users\\huckr\\AppData\\Local\\Temp\\ipykernel_22020\\949864737.py:469: UserWarning: Geometry is in a geographic CRS. Results from 'centroid' are likely incorrect. Use 'GeoSeries.to_crs()' to re-project geometries to a projected CRS before this operation.\n",
      "\n",
      "  centroid = grwl_reach_dissolved.geometry.centroid.iloc[0]\n"
     ]
    },
    {
     "name": "stdout",
     "output_type": "stream",
     "text": [
      "Raster successfully saved with compression to: D:\\Madagascar\\Data\\RiverMapping\\RiverMasks\\Betsiboka\\reach_3\\Processed\\Betsiboka_reach_3_1993_DSWE_level_3.tif\n",
      "Processed raster saved to: D:\\Madagascar\\Data\\RiverMapping\\RiverMasks\\Betsiboka\\reach_3\\Processed\\Betsiboka_reach_3_1993_DSWE_level_3.tif\n",
      "PROCESSED: Exported Betsiboka_reach_3_1993_DSWE_level_3.tif to D:\\Madagascar\\Data\\RiverMapping\\RiverMasks\\Betsiboka\\reach_3\\Processed.\n",
      "Generating URL ...\n",
      "Downloading data from https://earthengine.googleapis.com/v1/projects/earthengine-legacy/thumbnails/54d57abf0406b5528a4d6303d38bca4c-670bdf94dce1968a574e2dfe4456d3f1:getPixels\n",
      "Please wait ...\n",
      "Data downloaded to D:\\Madagascar\\Data\\RiverMapping\\RiverMasks\\Betsiboka\\reach_3\\Raw\\Betsiboka_reach_3_1994_DSWE_level_3.tif\n",
      "RAW: Successfully exported D:\\Madagascar\\Data\\RiverMapping\\RiverMasks\\Betsiboka\\reach_3\\Raw\\Betsiboka_reach_3_1994_DSWE_level_3.tif.\n"
     ]
    },
    {
     "name": "stderr",
     "output_type": "stream",
     "text": [
      "C:\\Users\\huckr\\AppData\\Local\\Temp\\ipykernel_22020\\949864737.py:469: UserWarning: Geometry is in a geographic CRS. Results from 'centroid' are likely incorrect. Use 'GeoSeries.to_crs()' to re-project geometries to a projected CRS before this operation.\n",
      "\n",
      "  centroid = grwl_reach_dissolved.geometry.centroid.iloc[0]\n"
     ]
    },
    {
     "name": "stdout",
     "output_type": "stream",
     "text": [
      "Raster successfully saved with compression to: D:\\Madagascar\\Data\\RiverMapping\\RiverMasks\\Betsiboka\\reach_3\\Processed\\Betsiboka_reach_3_1994_DSWE_level_3.tif\n",
      "Processed raster saved to: D:\\Madagascar\\Data\\RiverMapping\\RiverMasks\\Betsiboka\\reach_3\\Processed\\Betsiboka_reach_3_1994_DSWE_level_3.tif\n",
      "PROCESSED: Exported Betsiboka_reach_3_1994_DSWE_level_3.tif to D:\\Madagascar\\Data\\RiverMapping\\RiverMasks\\Betsiboka\\reach_3\\Processed.\n",
      "Generating URL ...\n",
      "Downloading data from https://earthengine.googleapis.com/v1/projects/earthengine-legacy/thumbnails/2c63571c19d37c9672c294d59418abc9-06a7619ca749451aaffda44700412a91:getPixels\n",
      "Please wait ...\n",
      "Data downloaded to D:\\Madagascar\\Data\\RiverMapping\\RiverMasks\\Betsiboka\\reach_3\\Raw\\Betsiboka_reach_3_1995_DSWE_level_3.tif\n",
      "RAW: Successfully exported D:\\Madagascar\\Data\\RiverMapping\\RiverMasks\\Betsiboka\\reach_3\\Raw\\Betsiboka_reach_3_1995_DSWE_level_3.tif.\n"
     ]
    },
    {
     "name": "stderr",
     "output_type": "stream",
     "text": [
      "C:\\Users\\huckr\\AppData\\Local\\Temp\\ipykernel_22020\\949864737.py:469: UserWarning: Geometry is in a geographic CRS. Results from 'centroid' are likely incorrect. Use 'GeoSeries.to_crs()' to re-project geometries to a projected CRS before this operation.\n",
      "\n",
      "  centroid = grwl_reach_dissolved.geometry.centroid.iloc[0]\n"
     ]
    },
    {
     "name": "stdout",
     "output_type": "stream",
     "text": [
      "Raster successfully saved with compression to: D:\\Madagascar\\Data\\RiverMapping\\RiverMasks\\Betsiboka\\reach_3\\Processed\\Betsiboka_reach_3_1995_DSWE_level_3.tif\n",
      "Processed raster saved to: D:\\Madagascar\\Data\\RiverMapping\\RiverMasks\\Betsiboka\\reach_3\\Processed\\Betsiboka_reach_3_1995_DSWE_level_3.tif\n",
      "PROCESSED: Exported Betsiboka_reach_3_1995_DSWE_level_3.tif to D:\\Madagascar\\Data\\RiverMapping\\RiverMasks\\Betsiboka\\reach_3\\Processed.\n",
      "Generating URL ...\n",
      "Downloading data from https://earthengine.googleapis.com/v1/projects/earthengine-legacy/thumbnails/344a2b37e122ece5e8b6671e18f49db5-e0eb2eefe7126c1e37c094380ae06b07:getPixels\n",
      "Please wait ...\n",
      "Data downloaded to D:\\Madagascar\\Data\\RiverMapping\\RiverMasks\\Betsiboka\\reach_3\\Raw\\Betsiboka_reach_3_1996_DSWE_level_3.tif\n",
      "RAW: Successfully exported D:\\Madagascar\\Data\\RiverMapping\\RiverMasks\\Betsiboka\\reach_3\\Raw\\Betsiboka_reach_3_1996_DSWE_level_3.tif.\n"
     ]
    },
    {
     "name": "stderr",
     "output_type": "stream",
     "text": [
      "C:\\Users\\huckr\\AppData\\Local\\Temp\\ipykernel_22020\\949864737.py:469: UserWarning: Geometry is in a geographic CRS. Results from 'centroid' are likely incorrect. Use 'GeoSeries.to_crs()' to re-project geometries to a projected CRS before this operation.\n",
      "\n",
      "  centroid = grwl_reach_dissolved.geometry.centroid.iloc[0]\n"
     ]
    },
    {
     "name": "stdout",
     "output_type": "stream",
     "text": [
      "Raster successfully saved with compression to: D:\\Madagascar\\Data\\RiverMapping\\RiverMasks\\Betsiboka\\reach_3\\Processed\\Betsiboka_reach_3_1996_DSWE_level_3.tif\n",
      "Processed raster saved to: D:\\Madagascar\\Data\\RiverMapping\\RiverMasks\\Betsiboka\\reach_3\\Processed\\Betsiboka_reach_3_1996_DSWE_level_3.tif\n",
      "PROCESSED: Exported Betsiboka_reach_3_1996_DSWE_level_3.tif to D:\\Madagascar\\Data\\RiverMapping\\RiverMasks\\Betsiboka\\reach_3\\Processed.\n",
      "Generating URL ...\n",
      "Downloading data from https://earthengine.googleapis.com/v1/projects/earthengine-legacy/thumbnails/8c76fe3d0561a0a0390ecc3c0c2852c5-f5f5fbb24b9e4287c0bcdcf50fa32431:getPixels\n",
      "Please wait ...\n",
      "Data downloaded to D:\\Madagascar\\Data\\RiverMapping\\RiverMasks\\Betsiboka\\reach_3\\Raw\\Betsiboka_reach_3_1997_DSWE_level_3.tif\n",
      "RAW: Successfully exported D:\\Madagascar\\Data\\RiverMapping\\RiverMasks\\Betsiboka\\reach_3\\Raw\\Betsiboka_reach_3_1997_DSWE_level_3.tif.\n"
     ]
    },
    {
     "name": "stderr",
     "output_type": "stream",
     "text": [
      "C:\\Users\\huckr\\AppData\\Local\\Temp\\ipykernel_22020\\949864737.py:469: UserWarning: Geometry is in a geographic CRS. Results from 'centroid' are likely incorrect. Use 'GeoSeries.to_crs()' to re-project geometries to a projected CRS before this operation.\n",
      "\n",
      "  centroid = grwl_reach_dissolved.geometry.centroid.iloc[0]\n"
     ]
    },
    {
     "name": "stdout",
     "output_type": "stream",
     "text": [
      "Raster successfully saved with compression to: D:\\Madagascar\\Data\\RiverMapping\\RiverMasks\\Betsiboka\\reach_3\\Processed\\Betsiboka_reach_3_1997_DSWE_level_3.tif\n",
      "Processed raster saved to: D:\\Madagascar\\Data\\RiverMapping\\RiverMasks\\Betsiboka\\reach_3\\Processed\\Betsiboka_reach_3_1997_DSWE_level_3.tif\n",
      "PROCESSED: Exported Betsiboka_reach_3_1997_DSWE_level_3.tif to D:\\Madagascar\\Data\\RiverMapping\\RiverMasks\\Betsiboka\\reach_3\\Processed.\n",
      "Generating URL ...\n",
      "Downloading data from https://earthengine.googleapis.com/v1/projects/earthengine-legacy/thumbnails/af5f7a46936c642a197195d22bd243b0-927fb51f2d7b04bfb99da07e5365e323:getPixels\n",
      "Please wait ...\n",
      "Data downloaded to D:\\Madagascar\\Data\\RiverMapping\\RiverMasks\\Betsiboka\\reach_3\\Raw\\Betsiboka_reach_3_1998_DSWE_level_3.tif\n",
      "RAW: Successfully exported D:\\Madagascar\\Data\\RiverMapping\\RiverMasks\\Betsiboka\\reach_3\\Raw\\Betsiboka_reach_3_1998_DSWE_level_3.tif.\n"
     ]
    },
    {
     "name": "stderr",
     "output_type": "stream",
     "text": [
      "C:\\Users\\huckr\\AppData\\Local\\Temp\\ipykernel_22020\\949864737.py:469: UserWarning: Geometry is in a geographic CRS. Results from 'centroid' are likely incorrect. Use 'GeoSeries.to_crs()' to re-project geometries to a projected CRS before this operation.\n",
      "\n",
      "  centroid = grwl_reach_dissolved.geometry.centroid.iloc[0]\n"
     ]
    },
    {
     "name": "stdout",
     "output_type": "stream",
     "text": [
      "Raster successfully saved with compression to: D:\\Madagascar\\Data\\RiverMapping\\RiverMasks\\Betsiboka\\reach_3\\Processed\\Betsiboka_reach_3_1998_DSWE_level_3.tif\n",
      "Processed raster saved to: D:\\Madagascar\\Data\\RiverMapping\\RiverMasks\\Betsiboka\\reach_3\\Processed\\Betsiboka_reach_3_1998_DSWE_level_3.tif\n",
      "PROCESSED: Exported Betsiboka_reach_3_1998_DSWE_level_3.tif to D:\\Madagascar\\Data\\RiverMapping\\RiverMasks\\Betsiboka\\reach_3\\Processed.\n",
      "Generating URL ...\n",
      "Downloading data from https://earthengine.googleapis.com/v1/projects/earthengine-legacy/thumbnails/6db3e3eb899798e2599ba8840d619a90-b6ada178204e36ad0b576eb0770f1464:getPixels\n",
      "Please wait ...\n",
      "Data downloaded to D:\\Madagascar\\Data\\RiverMapping\\RiverMasks\\Betsiboka\\reach_3\\Raw\\Betsiboka_reach_3_1999_DSWE_level_3.tif\n",
      "RAW: Successfully exported D:\\Madagascar\\Data\\RiverMapping\\RiverMasks\\Betsiboka\\reach_3\\Raw\\Betsiboka_reach_3_1999_DSWE_level_3.tif.\n"
     ]
    },
    {
     "name": "stderr",
     "output_type": "stream",
     "text": [
      "C:\\Users\\huckr\\AppData\\Local\\Temp\\ipykernel_22020\\949864737.py:469: UserWarning: Geometry is in a geographic CRS. Results from 'centroid' are likely incorrect. Use 'GeoSeries.to_crs()' to re-project geometries to a projected CRS before this operation.\n",
      "\n",
      "  centroid = grwl_reach_dissolved.geometry.centroid.iloc[0]\n"
     ]
    },
    {
     "name": "stdout",
     "output_type": "stream",
     "text": [
      "Raster successfully saved with compression to: D:\\Madagascar\\Data\\RiverMapping\\RiverMasks\\Betsiboka\\reach_3\\Processed\\Betsiboka_reach_3_1999_DSWE_level_3.tif\n",
      "Processed raster saved to: D:\\Madagascar\\Data\\RiverMapping\\RiverMasks\\Betsiboka\\reach_3\\Processed\\Betsiboka_reach_3_1999_DSWE_level_3.tif\n",
      "PROCESSED: Exported Betsiboka_reach_3_1999_DSWE_level_3.tif to D:\\Madagascar\\Data\\RiverMapping\\RiverMasks\\Betsiboka\\reach_3\\Processed.\n",
      "Generating URL ...\n",
      "Downloading data from https://earthengine.googleapis.com/v1/projects/earthengine-legacy/thumbnails/bbcfa0ee29349c2b7dc5036611badc42-b2594199d59642295744ffe59019e20f:getPixels\n",
      "Please wait ...\n",
      "Data downloaded to D:\\Madagascar\\Data\\RiverMapping\\RiverMasks\\Betsiboka\\reach_3\\Raw\\Betsiboka_reach_3_2000_DSWE_level_3.tif\n",
      "RAW: Successfully exported D:\\Madagascar\\Data\\RiverMapping\\RiverMasks\\Betsiboka\\reach_3\\Raw\\Betsiboka_reach_3_2000_DSWE_level_3.tif.\n"
     ]
    },
    {
     "name": "stderr",
     "output_type": "stream",
     "text": [
      "C:\\Users\\huckr\\AppData\\Local\\Temp\\ipykernel_22020\\949864737.py:469: UserWarning: Geometry is in a geographic CRS. Results from 'centroid' are likely incorrect. Use 'GeoSeries.to_crs()' to re-project geometries to a projected CRS before this operation.\n",
      "\n",
      "  centroid = grwl_reach_dissolved.geometry.centroid.iloc[0]\n"
     ]
    },
    {
     "name": "stdout",
     "output_type": "stream",
     "text": [
      "Raster successfully saved with compression to: D:\\Madagascar\\Data\\RiverMapping\\RiverMasks\\Betsiboka\\reach_3\\Processed\\Betsiboka_reach_3_2000_DSWE_level_3.tif\n",
      "Processed raster saved to: D:\\Madagascar\\Data\\RiverMapping\\RiverMasks\\Betsiboka\\reach_3\\Processed\\Betsiboka_reach_3_2000_DSWE_level_3.tif\n",
      "PROCESSED: Exported Betsiboka_reach_3_2000_DSWE_level_3.tif to D:\\Madagascar\\Data\\RiverMapping\\RiverMasks\\Betsiboka\\reach_3\\Processed.\n",
      "Generating URL ...\n",
      "Downloading data from https://earthengine.googleapis.com/v1/projects/earthengine-legacy/thumbnails/5cc3c0b82e19cca7d1772fed18500995-20a4a657f9c8c2f4a9da8b1cdc51e6bf:getPixels\n",
      "Please wait ...\n",
      "Data downloaded to D:\\Madagascar\\Data\\RiverMapping\\RiverMasks\\Betsiboka\\reach_3\\Raw\\Betsiboka_reach_3_2001_DSWE_level_3.tif\n",
      "RAW: Successfully exported D:\\Madagascar\\Data\\RiverMapping\\RiverMasks\\Betsiboka\\reach_3\\Raw\\Betsiboka_reach_3_2001_DSWE_level_3.tif.\n"
     ]
    },
    {
     "name": "stderr",
     "output_type": "stream",
     "text": [
      "C:\\Users\\huckr\\AppData\\Local\\Temp\\ipykernel_22020\\949864737.py:469: UserWarning: Geometry is in a geographic CRS. Results from 'centroid' are likely incorrect. Use 'GeoSeries.to_crs()' to re-project geometries to a projected CRS before this operation.\n",
      "\n",
      "  centroid = grwl_reach_dissolved.geometry.centroid.iloc[0]\n"
     ]
    },
    {
     "name": "stdout",
     "output_type": "stream",
     "text": [
      "Raster successfully saved with compression to: D:\\Madagascar\\Data\\RiverMapping\\RiverMasks\\Betsiboka\\reach_3\\Processed\\Betsiboka_reach_3_2001_DSWE_level_3.tif\n",
      "Processed raster saved to: D:\\Madagascar\\Data\\RiverMapping\\RiverMasks\\Betsiboka\\reach_3\\Processed\\Betsiboka_reach_3_2001_DSWE_level_3.tif\n",
      "PROCESSED: Exported Betsiboka_reach_3_2001_DSWE_level_3.tif to D:\\Madagascar\\Data\\RiverMapping\\RiverMasks\\Betsiboka\\reach_3\\Processed.\n",
      "Generating URL ...\n",
      "Downloading data from https://earthengine.googleapis.com/v1/projects/earthengine-legacy/thumbnails/5533625dcca15c6902e97c7fafe138b6-1bce861fccc5bea2310a71131fa7508d:getPixels\n",
      "Please wait ...\n",
      "Data downloaded to D:\\Madagascar\\Data\\RiverMapping\\RiverMasks\\Betsiboka\\reach_3\\Raw\\Betsiboka_reach_3_2002_DSWE_level_3.tif\n",
      "RAW: Successfully exported D:\\Madagascar\\Data\\RiverMapping\\RiverMasks\\Betsiboka\\reach_3\\Raw\\Betsiboka_reach_3_2002_DSWE_level_3.tif.\n"
     ]
    },
    {
     "name": "stderr",
     "output_type": "stream",
     "text": [
      "C:\\Users\\huckr\\AppData\\Local\\Temp\\ipykernel_22020\\949864737.py:469: UserWarning: Geometry is in a geographic CRS. Results from 'centroid' are likely incorrect. Use 'GeoSeries.to_crs()' to re-project geometries to a projected CRS before this operation.\n",
      "\n",
      "  centroid = grwl_reach_dissolved.geometry.centroid.iloc[0]\n"
     ]
    },
    {
     "name": "stdout",
     "output_type": "stream",
     "text": [
      "Raster successfully saved with compression to: D:\\Madagascar\\Data\\RiverMapping\\RiverMasks\\Betsiboka\\reach_3\\Processed\\Betsiboka_reach_3_2002_DSWE_level_3.tif\n",
      "Processed raster saved to: D:\\Madagascar\\Data\\RiverMapping\\RiverMasks\\Betsiboka\\reach_3\\Processed\\Betsiboka_reach_3_2002_DSWE_level_3.tif\n",
      "PROCESSED: Exported Betsiboka_reach_3_2002_DSWE_level_3.tif to D:\\Madagascar\\Data\\RiverMapping\\RiverMasks\\Betsiboka\\reach_3\\Processed.\n",
      "Generating URL ...\n",
      "Downloading data from https://earthengine.googleapis.com/v1/projects/earthengine-legacy/thumbnails/9033b0467e9a5be9b17ea8c25e3a0c06-5e7a0f05d15f58218421f12eb77a46aa:getPixels\n",
      "Please wait ...\n",
      "Data downloaded to D:\\Madagascar\\Data\\RiverMapping\\RiverMasks\\Betsiboka\\reach_3\\Raw\\Betsiboka_reach_3_2003_DSWE_level_3.tif\n",
      "RAW: Successfully exported D:\\Madagascar\\Data\\RiverMapping\\RiverMasks\\Betsiboka\\reach_3\\Raw\\Betsiboka_reach_3_2003_DSWE_level_3.tif.\n"
     ]
    },
    {
     "name": "stderr",
     "output_type": "stream",
     "text": [
      "C:\\Users\\huckr\\AppData\\Local\\Temp\\ipykernel_22020\\949864737.py:469: UserWarning: Geometry is in a geographic CRS. Results from 'centroid' are likely incorrect. Use 'GeoSeries.to_crs()' to re-project geometries to a projected CRS before this operation.\n",
      "\n",
      "  centroid = grwl_reach_dissolved.geometry.centroid.iloc[0]\n"
     ]
    },
    {
     "name": "stdout",
     "output_type": "stream",
     "text": [
      "Raster successfully saved with compression to: D:\\Madagascar\\Data\\RiverMapping\\RiverMasks\\Betsiboka\\reach_3\\Processed\\Betsiboka_reach_3_2003_DSWE_level_3.tif\n",
      "Processed raster saved to: D:\\Madagascar\\Data\\RiverMapping\\RiverMasks\\Betsiboka\\reach_3\\Processed\\Betsiboka_reach_3_2003_DSWE_level_3.tif\n",
      "PROCESSED: Exported Betsiboka_reach_3_2003_DSWE_level_3.tif to D:\\Madagascar\\Data\\RiverMapping\\RiverMasks\\Betsiboka\\reach_3\\Processed.\n",
      "Generating URL ...\n",
      "Downloading data from https://earthengine.googleapis.com/v1/projects/earthengine-legacy/thumbnails/964bfe5a709542192581c4d12f94f879-9f2354e6c782d3d3e699a565b26ecdce:getPixels\n",
      "Please wait ...\n",
      "Data downloaded to D:\\Madagascar\\Data\\RiverMapping\\RiverMasks\\Betsiboka\\reach_3\\Raw\\Betsiboka_reach_3_2004_DSWE_level_3.tif\n",
      "RAW: Successfully exported D:\\Madagascar\\Data\\RiverMapping\\RiverMasks\\Betsiboka\\reach_3\\Raw\\Betsiboka_reach_3_2004_DSWE_level_3.tif.\n"
     ]
    },
    {
     "name": "stderr",
     "output_type": "stream",
     "text": [
      "C:\\Users\\huckr\\AppData\\Local\\Temp\\ipykernel_22020\\949864737.py:469: UserWarning: Geometry is in a geographic CRS. Results from 'centroid' are likely incorrect. Use 'GeoSeries.to_crs()' to re-project geometries to a projected CRS before this operation.\n",
      "\n",
      "  centroid = grwl_reach_dissolved.geometry.centroid.iloc[0]\n"
     ]
    },
    {
     "name": "stdout",
     "output_type": "stream",
     "text": [
      "Raster successfully saved with compression to: D:\\Madagascar\\Data\\RiverMapping\\RiverMasks\\Betsiboka\\reach_3\\Processed\\Betsiboka_reach_3_2004_DSWE_level_3.tif\n",
      "Processed raster saved to: D:\\Madagascar\\Data\\RiverMapping\\RiverMasks\\Betsiboka\\reach_3\\Processed\\Betsiboka_reach_3_2004_DSWE_level_3.tif\n",
      "PROCESSED: Exported Betsiboka_reach_3_2004_DSWE_level_3.tif to D:\\Madagascar\\Data\\RiverMapping\\RiverMasks\\Betsiboka\\reach_3\\Processed.\n",
      "Generating URL ...\n",
      "Downloading data from https://earthengine.googleapis.com/v1/projects/earthengine-legacy/thumbnails/79a2c127ea3f7de113a39ad3b0896170-79c32058183d9581b6254c716c5cbfcd:getPixels\n",
      "Please wait ...\n",
      "Data downloaded to D:\\Madagascar\\Data\\RiverMapping\\RiverMasks\\Betsiboka\\reach_3\\Raw\\Betsiboka_reach_3_2005_DSWE_level_3.tif\n",
      "RAW: Successfully exported D:\\Madagascar\\Data\\RiverMapping\\RiverMasks\\Betsiboka\\reach_3\\Raw\\Betsiboka_reach_3_2005_DSWE_level_3.tif.\n"
     ]
    },
    {
     "name": "stderr",
     "output_type": "stream",
     "text": [
      "C:\\Users\\huckr\\AppData\\Local\\Temp\\ipykernel_22020\\949864737.py:469: UserWarning: Geometry is in a geographic CRS. Results from 'centroid' are likely incorrect. Use 'GeoSeries.to_crs()' to re-project geometries to a projected CRS before this operation.\n",
      "\n",
      "  centroid = grwl_reach_dissolved.geometry.centroid.iloc[0]\n"
     ]
    },
    {
     "name": "stdout",
     "output_type": "stream",
     "text": [
      "Raster successfully saved with compression to: D:\\Madagascar\\Data\\RiverMapping\\RiverMasks\\Betsiboka\\reach_3\\Processed\\Betsiboka_reach_3_2005_DSWE_level_3.tif\n",
      "Processed raster saved to: D:\\Madagascar\\Data\\RiverMapping\\RiverMasks\\Betsiboka\\reach_3\\Processed\\Betsiboka_reach_3_2005_DSWE_level_3.tif\n",
      "PROCESSED: Exported Betsiboka_reach_3_2005_DSWE_level_3.tif to D:\\Madagascar\\Data\\RiverMapping\\RiverMasks\\Betsiboka\\reach_3\\Processed.\n",
      "Generating URL ...\n",
      "Downloading data from https://earthengine.googleapis.com/v1/projects/earthengine-legacy/thumbnails/552433e688036c64157e003eace6a08b-3543d1f08eb6af9f212031c41b924a81:getPixels\n",
      "Please wait ...\n",
      "Data downloaded to D:\\Madagascar\\Data\\RiverMapping\\RiverMasks\\Betsiboka\\reach_3\\Raw\\Betsiboka_reach_3_2006_DSWE_level_3.tif\n",
      "RAW: Successfully exported D:\\Madagascar\\Data\\RiverMapping\\RiverMasks\\Betsiboka\\reach_3\\Raw\\Betsiboka_reach_3_2006_DSWE_level_3.tif.\n"
     ]
    },
    {
     "name": "stderr",
     "output_type": "stream",
     "text": [
      "C:\\Users\\huckr\\AppData\\Local\\Temp\\ipykernel_22020\\949864737.py:469: UserWarning: Geometry is in a geographic CRS. Results from 'centroid' are likely incorrect. Use 'GeoSeries.to_crs()' to re-project geometries to a projected CRS before this operation.\n",
      "\n",
      "  centroid = grwl_reach_dissolved.geometry.centroid.iloc[0]\n"
     ]
    },
    {
     "name": "stdout",
     "output_type": "stream",
     "text": [
      "Raster successfully saved with compression to: D:\\Madagascar\\Data\\RiverMapping\\RiverMasks\\Betsiboka\\reach_3\\Processed\\Betsiboka_reach_3_2006_DSWE_level_3.tif\n",
      "Processed raster saved to: D:\\Madagascar\\Data\\RiverMapping\\RiverMasks\\Betsiboka\\reach_3\\Processed\\Betsiboka_reach_3_2006_DSWE_level_3.tif\n",
      "PROCESSED: Exported Betsiboka_reach_3_2006_DSWE_level_3.tif to D:\\Madagascar\\Data\\RiverMapping\\RiverMasks\\Betsiboka\\reach_3\\Processed.\n",
      "Generating URL ...\n",
      "Downloading data from https://earthengine.googleapis.com/v1/projects/earthengine-legacy/thumbnails/9e4d09da37f925d960e986d0b9325ff8-ffdb97c98f3ffdf8481d69e67153e630:getPixels\n",
      "Please wait ...\n",
      "Data downloaded to D:\\Madagascar\\Data\\RiverMapping\\RiverMasks\\Betsiboka\\reach_3\\Raw\\Betsiboka_reach_3_2007_DSWE_level_3.tif\n",
      "RAW: Successfully exported D:\\Madagascar\\Data\\RiverMapping\\RiverMasks\\Betsiboka\\reach_3\\Raw\\Betsiboka_reach_3_2007_DSWE_level_3.tif.\n"
     ]
    },
    {
     "name": "stderr",
     "output_type": "stream",
     "text": [
      "C:\\Users\\huckr\\AppData\\Local\\Temp\\ipykernel_22020\\949864737.py:469: UserWarning: Geometry is in a geographic CRS. Results from 'centroid' are likely incorrect. Use 'GeoSeries.to_crs()' to re-project geometries to a projected CRS before this operation.\n",
      "\n",
      "  centroid = grwl_reach_dissolved.geometry.centroid.iloc[0]\n"
     ]
    },
    {
     "name": "stdout",
     "output_type": "stream",
     "text": [
      "Raster successfully saved with compression to: D:\\Madagascar\\Data\\RiverMapping\\RiverMasks\\Betsiboka\\reach_3\\Processed\\Betsiboka_reach_3_2007_DSWE_level_3.tif\n",
      "Processed raster saved to: D:\\Madagascar\\Data\\RiverMapping\\RiverMasks\\Betsiboka\\reach_3\\Processed\\Betsiboka_reach_3_2007_DSWE_level_3.tif\n",
      "PROCESSED: Exported Betsiboka_reach_3_2007_DSWE_level_3.tif to D:\\Madagascar\\Data\\RiverMapping\\RiverMasks\\Betsiboka\\reach_3\\Processed.\n",
      "Generating URL ...\n",
      "Downloading data from https://earthengine.googleapis.com/v1/projects/earthengine-legacy/thumbnails/09f7cae2e98c4e9bebc6c3e432197350-a21dd0f4a9198e7239b867bc65517954:getPixels\n",
      "Please wait ...\n",
      "Data downloaded to D:\\Madagascar\\Data\\RiverMapping\\RiverMasks\\Betsiboka\\reach_3\\Raw\\Betsiboka_reach_3_2008_DSWE_level_3.tif\n",
      "RAW: Successfully exported D:\\Madagascar\\Data\\RiverMapping\\RiverMasks\\Betsiboka\\reach_3\\Raw\\Betsiboka_reach_3_2008_DSWE_level_3.tif.\n"
     ]
    },
    {
     "name": "stderr",
     "output_type": "stream",
     "text": [
      "C:\\Users\\huckr\\AppData\\Local\\Temp\\ipykernel_22020\\949864737.py:469: UserWarning: Geometry is in a geographic CRS. Results from 'centroid' are likely incorrect. Use 'GeoSeries.to_crs()' to re-project geometries to a projected CRS before this operation.\n",
      "\n",
      "  centroid = grwl_reach_dissolved.geometry.centroid.iloc[0]\n"
     ]
    },
    {
     "name": "stdout",
     "output_type": "stream",
     "text": [
      "Raster successfully saved with compression to: D:\\Madagascar\\Data\\RiverMapping\\RiverMasks\\Betsiboka\\reach_3\\Processed\\Betsiboka_reach_3_2008_DSWE_level_3.tif\n",
      "Processed raster saved to: D:\\Madagascar\\Data\\RiverMapping\\RiverMasks\\Betsiboka\\reach_3\\Processed\\Betsiboka_reach_3_2008_DSWE_level_3.tif\n",
      "PROCESSED: Exported Betsiboka_reach_3_2008_DSWE_level_3.tif to D:\\Madagascar\\Data\\RiverMapping\\RiverMasks\\Betsiboka\\reach_3\\Processed.\n",
      "Generating URL ...\n",
      "Downloading data from https://earthengine.googleapis.com/v1/projects/earthengine-legacy/thumbnails/0859f35a70eb707a837d2163fa30de43-6d5d985ca120c5286b7bcafbab4982b9:getPixels\n",
      "Please wait ...\n",
      "Data downloaded to D:\\Madagascar\\Data\\RiverMapping\\RiverMasks\\Betsiboka\\reach_3\\Raw\\Betsiboka_reach_3_2009_DSWE_level_3.tif\n",
      "RAW: Successfully exported D:\\Madagascar\\Data\\RiverMapping\\RiverMasks\\Betsiboka\\reach_3\\Raw\\Betsiboka_reach_3_2009_DSWE_level_3.tif.\n"
     ]
    },
    {
     "name": "stderr",
     "output_type": "stream",
     "text": [
      "C:\\Users\\huckr\\AppData\\Local\\Temp\\ipykernel_22020\\949864737.py:469: UserWarning: Geometry is in a geographic CRS. Results from 'centroid' are likely incorrect. Use 'GeoSeries.to_crs()' to re-project geometries to a projected CRS before this operation.\n",
      "\n",
      "  centroid = grwl_reach_dissolved.geometry.centroid.iloc[0]\n"
     ]
    },
    {
     "name": "stdout",
     "output_type": "stream",
     "text": [
      "Raster successfully saved with compression to: D:\\Madagascar\\Data\\RiverMapping\\RiverMasks\\Betsiboka\\reach_3\\Processed\\Betsiboka_reach_3_2009_DSWE_level_3.tif\n",
      "Processed raster saved to: D:\\Madagascar\\Data\\RiverMapping\\RiverMasks\\Betsiboka\\reach_3\\Processed\\Betsiboka_reach_3_2009_DSWE_level_3.tif\n",
      "PROCESSED: Exported Betsiboka_reach_3_2009_DSWE_level_3.tif to D:\\Madagascar\\Data\\RiverMapping\\RiverMasks\\Betsiboka\\reach_3\\Processed.\n",
      "Generating URL ...\n",
      "Downloading data from https://earthengine.googleapis.com/v1/projects/earthengine-legacy/thumbnails/26ec978bc068f2a9347cfecd4bd5174a-b8c6d3f79a60cf6ddee5fa464b67482f:getPixels\n",
      "Please wait ...\n",
      "Data downloaded to D:\\Madagascar\\Data\\RiverMapping\\RiverMasks\\Betsiboka\\reach_3\\Raw\\Betsiboka_reach_3_2010_DSWE_level_3.tif\n",
      "RAW: Successfully exported D:\\Madagascar\\Data\\RiverMapping\\RiverMasks\\Betsiboka\\reach_3\\Raw\\Betsiboka_reach_3_2010_DSWE_level_3.tif.\n"
     ]
    },
    {
     "name": "stderr",
     "output_type": "stream",
     "text": [
      "C:\\Users\\huckr\\AppData\\Local\\Temp\\ipykernel_22020\\949864737.py:469: UserWarning: Geometry is in a geographic CRS. Results from 'centroid' are likely incorrect. Use 'GeoSeries.to_crs()' to re-project geometries to a projected CRS before this operation.\n",
      "\n",
      "  centroid = grwl_reach_dissolved.geometry.centroid.iloc[0]\n"
     ]
    },
    {
     "name": "stdout",
     "output_type": "stream",
     "text": [
      "Raster successfully saved with compression to: D:\\Madagascar\\Data\\RiverMapping\\RiverMasks\\Betsiboka\\reach_3\\Processed\\Betsiboka_reach_3_2010_DSWE_level_3.tif\n",
      "Processed raster saved to: D:\\Madagascar\\Data\\RiverMapping\\RiverMasks\\Betsiboka\\reach_3\\Processed\\Betsiboka_reach_3_2010_DSWE_level_3.tif\n",
      "PROCESSED: Exported Betsiboka_reach_3_2010_DSWE_level_3.tif to D:\\Madagascar\\Data\\RiverMapping\\RiverMasks\\Betsiboka\\reach_3\\Processed.\n",
      "Generating URL ...\n",
      "Downloading data from https://earthengine.googleapis.com/v1/projects/earthengine-legacy/thumbnails/513c1d3fd86c62945d71bcfa5e82839e-e694f5e915c79e62576a644b17f1839a:getPixels\n",
      "Please wait ...\n",
      "Data downloaded to D:\\Madagascar\\Data\\RiverMapping\\RiverMasks\\Betsiboka\\reach_3\\Raw\\Betsiboka_reach_3_2011_DSWE_level_3.tif\n",
      "RAW: Successfully exported D:\\Madagascar\\Data\\RiverMapping\\RiverMasks\\Betsiboka\\reach_3\\Raw\\Betsiboka_reach_3_2011_DSWE_level_3.tif.\n"
     ]
    },
    {
     "name": "stderr",
     "output_type": "stream",
     "text": [
      "C:\\Users\\huckr\\AppData\\Local\\Temp\\ipykernel_22020\\949864737.py:469: UserWarning: Geometry is in a geographic CRS. Results from 'centroid' are likely incorrect. Use 'GeoSeries.to_crs()' to re-project geometries to a projected CRS before this operation.\n",
      "\n",
      "  centroid = grwl_reach_dissolved.geometry.centroid.iloc[0]\n"
     ]
    },
    {
     "name": "stdout",
     "output_type": "stream",
     "text": [
      "Raster successfully saved with compression to: D:\\Madagascar\\Data\\RiverMapping\\RiverMasks\\Betsiboka\\reach_3\\Processed\\Betsiboka_reach_3_2011_DSWE_level_3.tif\n",
      "Processed raster saved to: D:\\Madagascar\\Data\\RiverMapping\\RiverMasks\\Betsiboka\\reach_3\\Processed\\Betsiboka_reach_3_2011_DSWE_level_3.tif\n",
      "PROCESSED: Exported Betsiboka_reach_3_2011_DSWE_level_3.tif to D:\\Madagascar\\Data\\RiverMapping\\RiverMasks\\Betsiboka\\reach_3\\Processed.\n",
      "Generating URL ...\n",
      "An error occurred while downloading.\n",
      "Image.select: Band pattern 'Nir' was applied to an Image with no bands. See https://developers.google.com/earth-engine/guides/debugging#no-bands\n",
      "Export failed: File D:\\Madagascar\\Data\\RiverMapping\\RiverMasks\\Betsiboka\\reach_3\\Raw\\Betsiboka_reach_3_2012_DSWE_level_3.tif not found.\n",
      "Export failed for Betsiboka_reach_3_2012_DSWE_level_3.tif, attempting tiling...\n",
      "Generating URL ...\n",
      "An error occurred while downloading.\n",
      "Image.select: Band pattern 'Swir2' was applied to an Image with no bands. See https://developers.google.com/earth-engine/guides/debugging#no-bands\n",
      "Export failed: File D:\\Madagascar\\Data\\RiverMapping\\RiverMasks\\Betsiboka\\reach_3\\Raw\\Betsiboka_reach_3_2012_tile_0_DSWE_level_3.tif not found.\n",
      "No tiles found for stitching.\n",
      "Failed to export Betsiboka_reach_3_2012_DSWE_level_3.tif. Error: D:/Madagascar/Data/RiverMapping/RiverMasks/Betsiboka/reach_3/Raw/Betsiboka_reach_3_2012_DSWE_level_3.tif: No such file or directory\n",
      "Generating URL ...\n",
      "Downloading data from https://earthengine.googleapis.com/v1/projects/earthengine-legacy/thumbnails/5d3f6fb9446f435ebd8b82d6291d3d55-0a6be3f12090ca4ca38f551721b3cda0:getPixels\n",
      "Please wait ...\n",
      "Data downloaded to D:\\Madagascar\\Data\\RiverMapping\\RiverMasks\\Betsiboka\\reach_3\\Raw\\Betsiboka_reach_3_2013_DSWE_level_3.tif\n",
      "RAW: Successfully exported D:\\Madagascar\\Data\\RiverMapping\\RiverMasks\\Betsiboka\\reach_3\\Raw\\Betsiboka_reach_3_2013_DSWE_level_3.tif.\n"
     ]
    },
    {
     "name": "stderr",
     "output_type": "stream",
     "text": [
      "C:\\Users\\huckr\\AppData\\Local\\Temp\\ipykernel_22020\\949864737.py:469: UserWarning: Geometry is in a geographic CRS. Results from 'centroid' are likely incorrect. Use 'GeoSeries.to_crs()' to re-project geometries to a projected CRS before this operation.\n",
      "\n",
      "  centroid = grwl_reach_dissolved.geometry.centroid.iloc[0]\n"
     ]
    },
    {
     "name": "stdout",
     "output_type": "stream",
     "text": [
      "Raster successfully saved with compression to: D:\\Madagascar\\Data\\RiverMapping\\RiverMasks\\Betsiboka\\reach_3\\Processed\\Betsiboka_reach_3_2013_DSWE_level_3.tif\n",
      "Processed raster saved to: D:\\Madagascar\\Data\\RiverMapping\\RiverMasks\\Betsiboka\\reach_3\\Processed\\Betsiboka_reach_3_2013_DSWE_level_3.tif\n",
      "PROCESSED: Exported Betsiboka_reach_3_2013_DSWE_level_3.tif to D:\\Madagascar\\Data\\RiverMapping\\RiverMasks\\Betsiboka\\reach_3\\Processed.\n",
      "Generating URL ...\n",
      "Downloading data from https://earthengine.googleapis.com/v1/projects/earthengine-legacy/thumbnails/13aa517e79dcf08dd3ace02cc626207a-65a0208f18958422aa97b5a97f1e1f48:getPixels\n",
      "Please wait ...\n",
      "Data downloaded to D:\\Madagascar\\Data\\RiverMapping\\RiverMasks\\Betsiboka\\reach_3\\Raw\\Betsiboka_reach_3_2014_DSWE_level_3.tif\n",
      "RAW: Successfully exported D:\\Madagascar\\Data\\RiverMapping\\RiverMasks\\Betsiboka\\reach_3\\Raw\\Betsiboka_reach_3_2014_DSWE_level_3.tif.\n"
     ]
    },
    {
     "name": "stderr",
     "output_type": "stream",
     "text": [
      "C:\\Users\\huckr\\AppData\\Local\\Temp\\ipykernel_22020\\949864737.py:469: UserWarning: Geometry is in a geographic CRS. Results from 'centroid' are likely incorrect. Use 'GeoSeries.to_crs()' to re-project geometries to a projected CRS before this operation.\n",
      "\n",
      "  centroid = grwl_reach_dissolved.geometry.centroid.iloc[0]\n"
     ]
    },
    {
     "name": "stdout",
     "output_type": "stream",
     "text": [
      "Raster successfully saved with compression to: D:\\Madagascar\\Data\\RiverMapping\\RiverMasks\\Betsiboka\\reach_3\\Processed\\Betsiboka_reach_3_2014_DSWE_level_3.tif\n",
      "Processed raster saved to: D:\\Madagascar\\Data\\RiverMapping\\RiverMasks\\Betsiboka\\reach_3\\Processed\\Betsiboka_reach_3_2014_DSWE_level_3.tif\n",
      "PROCESSED: Exported Betsiboka_reach_3_2014_DSWE_level_3.tif to D:\\Madagascar\\Data\\RiverMapping\\RiverMasks\\Betsiboka\\reach_3\\Processed.\n",
      "Generating URL ...\n",
      "Downloading data from https://earthengine.googleapis.com/v1/projects/earthengine-legacy/thumbnails/29a52b48d9a806ae572d18b4cdc62be6-35c28dff46b1b92e65ae78ed9e714e08:getPixels\n",
      "Please wait ...\n",
      "Data downloaded to D:\\Madagascar\\Data\\RiverMapping\\RiverMasks\\Betsiboka\\reach_3\\Raw\\Betsiboka_reach_3_2015_DSWE_level_3.tif\n",
      "RAW: Successfully exported D:\\Madagascar\\Data\\RiverMapping\\RiverMasks\\Betsiboka\\reach_3\\Raw\\Betsiboka_reach_3_2015_DSWE_level_3.tif.\n"
     ]
    },
    {
     "name": "stderr",
     "output_type": "stream",
     "text": [
      "C:\\Users\\huckr\\AppData\\Local\\Temp\\ipykernel_22020\\949864737.py:469: UserWarning: Geometry is in a geographic CRS. Results from 'centroid' are likely incorrect. Use 'GeoSeries.to_crs()' to re-project geometries to a projected CRS before this operation.\n",
      "\n",
      "  centroid = grwl_reach_dissolved.geometry.centroid.iloc[0]\n"
     ]
    },
    {
     "name": "stdout",
     "output_type": "stream",
     "text": [
      "Raster successfully saved with compression to: D:\\Madagascar\\Data\\RiverMapping\\RiverMasks\\Betsiboka\\reach_3\\Processed\\Betsiboka_reach_3_2015_DSWE_level_3.tif\n",
      "Processed raster saved to: D:\\Madagascar\\Data\\RiverMapping\\RiverMasks\\Betsiboka\\reach_3\\Processed\\Betsiboka_reach_3_2015_DSWE_level_3.tif\n",
      "PROCESSED: Exported Betsiboka_reach_3_2015_DSWE_level_3.tif to D:\\Madagascar\\Data\\RiverMapping\\RiverMasks\\Betsiboka\\reach_3\\Processed.\n",
      "Generating URL ...\n",
      "Downloading data from https://earthengine.googleapis.com/v1/projects/earthengine-legacy/thumbnails/601495f22f5ea0295eea7c9304688576-0d48bb182aec9c5d66092e0c3190a315:getPixels\n",
      "Please wait ...\n",
      "Data downloaded to D:\\Madagascar\\Data\\RiverMapping\\RiverMasks\\Betsiboka\\reach_3\\Raw\\Betsiboka_reach_3_2016_DSWE_level_3.tif\n",
      "RAW: Successfully exported D:\\Madagascar\\Data\\RiverMapping\\RiverMasks\\Betsiboka\\reach_3\\Raw\\Betsiboka_reach_3_2016_DSWE_level_3.tif.\n"
     ]
    },
    {
     "name": "stderr",
     "output_type": "stream",
     "text": [
      "C:\\Users\\huckr\\AppData\\Local\\Temp\\ipykernel_22020\\949864737.py:469: UserWarning: Geometry is in a geographic CRS. Results from 'centroid' are likely incorrect. Use 'GeoSeries.to_crs()' to re-project geometries to a projected CRS before this operation.\n",
      "\n",
      "  centroid = grwl_reach_dissolved.geometry.centroid.iloc[0]\n"
     ]
    },
    {
     "name": "stdout",
     "output_type": "stream",
     "text": [
      "Raster successfully saved with compression to: D:\\Madagascar\\Data\\RiverMapping\\RiverMasks\\Betsiboka\\reach_3\\Processed\\Betsiboka_reach_3_2016_DSWE_level_3.tif\n",
      "Processed raster saved to: D:\\Madagascar\\Data\\RiverMapping\\RiverMasks\\Betsiboka\\reach_3\\Processed\\Betsiboka_reach_3_2016_DSWE_level_3.tif\n",
      "PROCESSED: Exported Betsiboka_reach_3_2016_DSWE_level_3.tif to D:\\Madagascar\\Data\\RiverMapping\\RiverMasks\\Betsiboka\\reach_3\\Processed.\n",
      "Generating URL ...\n",
      "Downloading data from https://earthengine.googleapis.com/v1/projects/earthengine-legacy/thumbnails/90119e14762521b7f28e65b4e3fde6f9-197593b477019e9afba4c6c25e5fe826:getPixels\n",
      "Please wait ...\n",
      "Data downloaded to D:\\Madagascar\\Data\\RiverMapping\\RiverMasks\\Betsiboka\\reach_3\\Raw\\Betsiboka_reach_3_2017_DSWE_level_3.tif\n",
      "RAW: Successfully exported D:\\Madagascar\\Data\\RiverMapping\\RiverMasks\\Betsiboka\\reach_3\\Raw\\Betsiboka_reach_3_2017_DSWE_level_3.tif.\n"
     ]
    },
    {
     "name": "stderr",
     "output_type": "stream",
     "text": [
      "C:\\Users\\huckr\\AppData\\Local\\Temp\\ipykernel_22020\\949864737.py:469: UserWarning: Geometry is in a geographic CRS. Results from 'centroid' are likely incorrect. Use 'GeoSeries.to_crs()' to re-project geometries to a projected CRS before this operation.\n",
      "\n",
      "  centroid = grwl_reach_dissolved.geometry.centroid.iloc[0]\n"
     ]
    },
    {
     "name": "stdout",
     "output_type": "stream",
     "text": [
      "Raster successfully saved with compression to: D:\\Madagascar\\Data\\RiverMapping\\RiverMasks\\Betsiboka\\reach_3\\Processed\\Betsiboka_reach_3_2017_DSWE_level_3.tif\n",
      "Processed raster saved to: D:\\Madagascar\\Data\\RiverMapping\\RiverMasks\\Betsiboka\\reach_3\\Processed\\Betsiboka_reach_3_2017_DSWE_level_3.tif\n",
      "PROCESSED: Exported Betsiboka_reach_3_2017_DSWE_level_3.tif to D:\\Madagascar\\Data\\RiverMapping\\RiverMasks\\Betsiboka\\reach_3\\Processed.\n",
      "Generating URL ...\n",
      "Downloading data from https://earthengine.googleapis.com/v1/projects/earthengine-legacy/thumbnails/65def4a4b5515ada7681e9430c43b0c4-c39ab2edef993305dbedc05d39d86051:getPixels\n",
      "Please wait ...\n",
      "Data downloaded to D:\\Madagascar\\Data\\RiverMapping\\RiverMasks\\Betsiboka\\reach_3\\Raw\\Betsiboka_reach_3_2018_DSWE_level_3.tif\n",
      "RAW: Successfully exported D:\\Madagascar\\Data\\RiverMapping\\RiverMasks\\Betsiboka\\reach_3\\Raw\\Betsiboka_reach_3_2018_DSWE_level_3.tif.\n"
     ]
    },
    {
     "name": "stderr",
     "output_type": "stream",
     "text": [
      "C:\\Users\\huckr\\AppData\\Local\\Temp\\ipykernel_22020\\949864737.py:469: UserWarning: Geometry is in a geographic CRS. Results from 'centroid' are likely incorrect. Use 'GeoSeries.to_crs()' to re-project geometries to a projected CRS before this operation.\n",
      "\n",
      "  centroid = grwl_reach_dissolved.geometry.centroid.iloc[0]\n"
     ]
    },
    {
     "name": "stdout",
     "output_type": "stream",
     "text": [
      "Raster successfully saved with compression to: D:\\Madagascar\\Data\\RiverMapping\\RiverMasks\\Betsiboka\\reach_3\\Processed\\Betsiboka_reach_3_2018_DSWE_level_3.tif\n",
      "Processed raster saved to: D:\\Madagascar\\Data\\RiverMapping\\RiverMasks\\Betsiboka\\reach_3\\Processed\\Betsiboka_reach_3_2018_DSWE_level_3.tif\n",
      "PROCESSED: Exported Betsiboka_reach_3_2018_DSWE_level_3.tif to D:\\Madagascar\\Data\\RiverMapping\\RiverMasks\\Betsiboka\\reach_3\\Processed.\n",
      "Generating URL ...\n",
      "Downloading data from https://earthengine.googleapis.com/v1/projects/earthengine-legacy/thumbnails/20d9c7a1b34949390d83fee1b830c4c1-25b67f52ad8cc0044c22061afc047bd8:getPixels\n",
      "Please wait ...\n",
      "Data downloaded to D:\\Madagascar\\Data\\RiverMapping\\RiverMasks\\Betsiboka\\reach_3\\Raw\\Betsiboka_reach_3_2019_DSWE_level_3.tif\n",
      "RAW: Successfully exported D:\\Madagascar\\Data\\RiverMapping\\RiverMasks\\Betsiboka\\reach_3\\Raw\\Betsiboka_reach_3_2019_DSWE_level_3.tif.\n"
     ]
    },
    {
     "name": "stderr",
     "output_type": "stream",
     "text": [
      "C:\\Users\\huckr\\AppData\\Local\\Temp\\ipykernel_22020\\949864737.py:469: UserWarning: Geometry is in a geographic CRS. Results from 'centroid' are likely incorrect. Use 'GeoSeries.to_crs()' to re-project geometries to a projected CRS before this operation.\n",
      "\n",
      "  centroid = grwl_reach_dissolved.geometry.centroid.iloc[0]\n"
     ]
    },
    {
     "name": "stdout",
     "output_type": "stream",
     "text": [
      "Raster successfully saved with compression to: D:\\Madagascar\\Data\\RiverMapping\\RiverMasks\\Betsiboka\\reach_3\\Processed\\Betsiboka_reach_3_2019_DSWE_level_3.tif\n",
      "Processed raster saved to: D:\\Madagascar\\Data\\RiverMapping\\RiverMasks\\Betsiboka\\reach_3\\Processed\\Betsiboka_reach_3_2019_DSWE_level_3.tif\n",
      "PROCESSED: Exported Betsiboka_reach_3_2019_DSWE_level_3.tif to D:\\Madagascar\\Data\\RiverMapping\\RiverMasks\\Betsiboka\\reach_3\\Processed.\n",
      "Generating URL ...\n",
      "Downloading data from https://earthengine.googleapis.com/v1/projects/earthengine-legacy/thumbnails/f2580f4809ca69850e6652c40a106359-131e0c535206eac875102dfe0de5a22d:getPixels\n",
      "Please wait ...\n",
      "Data downloaded to D:\\Madagascar\\Data\\RiverMapping\\RiverMasks\\Betsiboka\\reach_3\\Raw\\Betsiboka_reach_3_2020_DSWE_level_3.tif\n",
      "RAW: Successfully exported D:\\Madagascar\\Data\\RiverMapping\\RiverMasks\\Betsiboka\\reach_3\\Raw\\Betsiboka_reach_3_2020_DSWE_level_3.tif.\n"
     ]
    },
    {
     "name": "stderr",
     "output_type": "stream",
     "text": [
      "C:\\Users\\huckr\\AppData\\Local\\Temp\\ipykernel_22020\\949864737.py:469: UserWarning: Geometry is in a geographic CRS. Results from 'centroid' are likely incorrect. Use 'GeoSeries.to_crs()' to re-project geometries to a projected CRS before this operation.\n",
      "\n",
      "  centroid = grwl_reach_dissolved.geometry.centroid.iloc[0]\n"
     ]
    },
    {
     "name": "stdout",
     "output_type": "stream",
     "text": [
      "Raster successfully saved with compression to: D:\\Madagascar\\Data\\RiverMapping\\RiverMasks\\Betsiboka\\reach_3\\Processed\\Betsiboka_reach_3_2020_DSWE_level_3.tif\n",
      "Processed raster saved to: D:\\Madagascar\\Data\\RiverMapping\\RiverMasks\\Betsiboka\\reach_3\\Processed\\Betsiboka_reach_3_2020_DSWE_level_3.tif\n",
      "PROCESSED: Exported Betsiboka_reach_3_2020_DSWE_level_3.tif to D:\\Madagascar\\Data\\RiverMapping\\RiverMasks\\Betsiboka\\reach_3\\Processed.\n",
      "Generating URL ...\n",
      "Downloading data from https://earthengine.googleapis.com/v1/projects/earthengine-legacy/thumbnails/7c30ba903abd8b138928ac4fe809373c-961b02bdff7b84648c00b2718ac80aa6:getPixels\n",
      "Please wait ...\n",
      "Data downloaded to D:\\Madagascar\\Data\\RiverMapping\\RiverMasks\\Betsiboka\\reach_3\\Raw\\Betsiboka_reach_3_2021_DSWE_level_3.tif\n",
      "RAW: Successfully exported D:\\Madagascar\\Data\\RiverMapping\\RiverMasks\\Betsiboka\\reach_3\\Raw\\Betsiboka_reach_3_2021_DSWE_level_3.tif.\n"
     ]
    },
    {
     "name": "stderr",
     "output_type": "stream",
     "text": [
      "C:\\Users\\huckr\\AppData\\Local\\Temp\\ipykernel_22020\\949864737.py:469: UserWarning: Geometry is in a geographic CRS. Results from 'centroid' are likely incorrect. Use 'GeoSeries.to_crs()' to re-project geometries to a projected CRS before this operation.\n",
      "\n",
      "  centroid = grwl_reach_dissolved.geometry.centroid.iloc[0]\n"
     ]
    },
    {
     "name": "stdout",
     "output_type": "stream",
     "text": [
      "Raster successfully saved with compression to: D:\\Madagascar\\Data\\RiverMapping\\RiverMasks\\Betsiboka\\reach_3\\Processed\\Betsiboka_reach_3_2021_DSWE_level_3.tif\n",
      "Processed raster saved to: D:\\Madagascar\\Data\\RiverMapping\\RiverMasks\\Betsiboka\\reach_3\\Processed\\Betsiboka_reach_3_2021_DSWE_level_3.tif\n",
      "PROCESSED: Exported Betsiboka_reach_3_2021_DSWE_level_3.tif to D:\\Madagascar\\Data\\RiverMapping\\RiverMasks\\Betsiboka\\reach_3\\Processed.\n",
      "Generating URL ...\n",
      "Downloading data from https://earthengine.googleapis.com/v1/projects/earthengine-legacy/thumbnails/70caad18d2325ce9210ca0295577c498-0ae5907b1271cdd4b67aad6d8b99ab19:getPixels\n",
      "Please wait ...\n",
      "Data downloaded to D:\\Madagascar\\Data\\RiverMapping\\RiverMasks\\Betsiboka\\reach_3\\Raw\\Betsiboka_reach_3_2022_DSWE_level_3.tif\n",
      "RAW: Successfully exported D:\\Madagascar\\Data\\RiverMapping\\RiverMasks\\Betsiboka\\reach_3\\Raw\\Betsiboka_reach_3_2022_DSWE_level_3.tif.\n"
     ]
    },
    {
     "name": "stderr",
     "output_type": "stream",
     "text": [
      "C:\\Users\\huckr\\AppData\\Local\\Temp\\ipykernel_22020\\949864737.py:469: UserWarning: Geometry is in a geographic CRS. Results from 'centroid' are likely incorrect. Use 'GeoSeries.to_crs()' to re-project geometries to a projected CRS before this operation.\n",
      "\n",
      "  centroid = grwl_reach_dissolved.geometry.centroid.iloc[0]\n"
     ]
    },
    {
     "name": "stdout",
     "output_type": "stream",
     "text": [
      "Raster successfully saved with compression to: D:\\Madagascar\\Data\\RiverMapping\\RiverMasks\\Betsiboka\\reach_3\\Processed\\Betsiboka_reach_3_2022_DSWE_level_3.tif\n",
      "Processed raster saved to: D:\\Madagascar\\Data\\RiverMapping\\RiverMasks\\Betsiboka\\reach_3\\Processed\\Betsiboka_reach_3_2022_DSWE_level_3.tif\n",
      "PROCESSED: Exported Betsiboka_reach_3_2022_DSWE_level_3.tif to D:\\Madagascar\\Data\\RiverMapping\\RiverMasks\\Betsiboka\\reach_3\\Processed.\n",
      "Generating URL ...\n",
      "Downloading data from https://earthengine.googleapis.com/v1/projects/earthengine-legacy/thumbnails/2a4446bfa6d5803c63bac6028e2096aa-bed876460c463460c488251de2858f05:getPixels\n",
      "Please wait ...\n",
      "Data downloaded to D:\\Madagascar\\Data\\RiverMapping\\RiverMasks\\Betsiboka\\reach_3\\Raw\\Betsiboka_reach_3_2023_DSWE_level_3.tif\n",
      "RAW: Successfully exported D:\\Madagascar\\Data\\RiverMapping\\RiverMasks\\Betsiboka\\reach_3\\Raw\\Betsiboka_reach_3_2023_DSWE_level_3.tif.\n"
     ]
    },
    {
     "name": "stderr",
     "output_type": "stream",
     "text": [
      "C:\\Users\\huckr\\AppData\\Local\\Temp\\ipykernel_22020\\949864737.py:469: UserWarning: Geometry is in a geographic CRS. Results from 'centroid' are likely incorrect. Use 'GeoSeries.to_crs()' to re-project geometries to a projected CRS before this operation.\n",
      "\n",
      "  centroid = grwl_reach_dissolved.geometry.centroid.iloc[0]\n"
     ]
    },
    {
     "name": "stdout",
     "output_type": "stream",
     "text": [
      "Raster successfully saved with compression to: D:\\Madagascar\\Data\\RiverMapping\\RiverMasks\\Betsiboka\\reach_3\\Processed\\Betsiboka_reach_3_2023_DSWE_level_3.tif\n",
      "Processed raster saved to: D:\\Madagascar\\Data\\RiverMapping\\RiverMasks\\Betsiboka\\reach_3\\Processed\\Betsiboka_reach_3_2023_DSWE_level_3.tif\n",
      "PROCESSED: Exported Betsiboka_reach_3_2023_DSWE_level_3.tif to D:\\Madagascar\\Data\\RiverMapping\\RiverMasks\\Betsiboka\\reach_3\\Processed.\n",
      "Generating URL ...\n",
      "Downloading data from https://earthengine.googleapis.com/v1/projects/earthengine-legacy/thumbnails/b440cd014e2479bcc4a52d1eaa5c3984-4f818ec908ac5f9df1a3d00720ba5c2c:getPixels\n",
      "Please wait ...\n",
      "Data downloaded to D:\\Madagascar\\Data\\RiverMapping\\RiverMasks\\Betsiboka\\reach_3\\Raw\\Betsiboka_reach_3_2024_DSWE_level_3.tif\n",
      "RAW: Successfully exported D:\\Madagascar\\Data\\RiverMapping\\RiverMasks\\Betsiboka\\reach_3\\Raw\\Betsiboka_reach_3_2024_DSWE_level_3.tif.\n"
     ]
    },
    {
     "name": "stderr",
     "output_type": "stream",
     "text": [
      "C:\\Users\\huckr\\AppData\\Local\\Temp\\ipykernel_22020\\949864737.py:469: UserWarning: Geometry is in a geographic CRS. Results from 'centroid' are likely incorrect. Use 'GeoSeries.to_crs()' to re-project geometries to a projected CRS before this operation.\n",
      "\n",
      "  centroid = grwl_reach_dissolved.geometry.centroid.iloc[0]\n"
     ]
    },
    {
     "name": "stdout",
     "output_type": "stream",
     "text": [
      "Raster successfully saved with compression to: D:\\Madagascar\\Data\\RiverMapping\\RiverMasks\\Betsiboka\\reach_3\\Processed\\Betsiboka_reach_3_2024_DSWE_level_3.tif\n",
      "Processed raster saved to: D:\\Madagascar\\Data\\RiverMapping\\RiverMasks\\Betsiboka\\reach_3\\Processed\\Betsiboka_reach_3_2024_DSWE_level_3.tif\n",
      "PROCESSED: Exported Betsiboka_reach_3_2024_DSWE_level_3.tif to D:\\Madagascar\\Data\\RiverMapping\\RiverMasks\\Betsiboka\\reach_3\\Processed.\n",
      "Generating URL ...\n",
      "Downloading data from https://earthengine.googleapis.com/v1/projects/earthengine-legacy/thumbnails/a0273cdbbc337a0d4ac9c9cb84d5a357-e70907c8489c4868ec7d027f756d8074:getPixels\n",
      "Please wait ...\n",
      "Data downloaded to D:\\Madagascar\\Data\\RiverMapping\\RiverMasks\\Betsiboka\\reach_3\\Raw\\Betsiboka_reach_3_2025_DSWE_level_3.tif\n",
      "RAW: Successfully exported D:\\Madagascar\\Data\\RiverMapping\\RiverMasks\\Betsiboka\\reach_3\\Raw\\Betsiboka_reach_3_2025_DSWE_level_3.tif.\n"
     ]
    },
    {
     "name": "stderr",
     "output_type": "stream",
     "text": [
      "C:\\Users\\huckr\\AppData\\Local\\Temp\\ipykernel_22020\\949864737.py:469: UserWarning: Geometry is in a geographic CRS. Results from 'centroid' are likely incorrect. Use 'GeoSeries.to_crs()' to re-project geometries to a projected CRS before this operation.\n",
      "\n",
      "  centroid = grwl_reach_dissolved.geometry.centroid.iloc[0]\n"
     ]
    },
    {
     "name": "stdout",
     "output_type": "stream",
     "text": [
      "Raster successfully saved with compression to: D:\\Madagascar\\Data\\RiverMapping\\RiverMasks\\Betsiboka\\reach_3\\Processed\\Betsiboka_reach_3_2025_DSWE_level_3.tif\n",
      "Processed raster saved to: D:\\Madagascar\\Data\\RiverMapping\\RiverMasks\\Betsiboka\\reach_3\\Processed\\Betsiboka_reach_3_2025_DSWE_level_3.tif\n",
      "PROCESSED: Exported Betsiboka_reach_3_2025_DSWE_level_3.tif to D:\\Madagascar\\Data\\RiverMapping\\RiverMasks\\Betsiboka\\reach_3\\Processed.\n",
      "Generating URL ...\n",
      "Downloading data from https://earthengine.googleapis.com/v1/projects/earthengine-legacy/thumbnails/93749f35fe59558b4e869e8bdfa9ba2c-1ea51c4d341d9bd6290f5b52e1b164e9:getPixels\n",
      "Please wait ...\n",
      "Data downloaded to D:\\Madagascar\\Data\\RiverMapping\\RiverMasks\\Betsiboka\\reach_2\\Raw\\Betsiboka_reach_2_1984_DSWE_level_3.tif\n",
      "RAW: Successfully exported D:\\Madagascar\\Data\\RiverMapping\\RiverMasks\\Betsiboka\\reach_2\\Raw\\Betsiboka_reach_2_1984_DSWE_level_3.tif.\n"
     ]
    },
    {
     "name": "stderr",
     "output_type": "stream",
     "text": [
      "C:\\Users\\huckr\\AppData\\Local\\Temp\\ipykernel_22020\\949864737.py:469: UserWarning: Geometry is in a geographic CRS. Results from 'centroid' are likely incorrect. Use 'GeoSeries.to_crs()' to re-project geometries to a projected CRS before this operation.\n",
      "\n",
      "  centroid = grwl_reach_dissolved.geometry.centroid.iloc[0]\n"
     ]
    },
    {
     "name": "stdout",
     "output_type": "stream",
     "text": [
      "Raster successfully saved with compression to: D:\\Madagascar\\Data\\RiverMapping\\RiverMasks\\Betsiboka\\reach_2\\Processed\\Betsiboka_reach_2_1984_DSWE_level_3.tif\n",
      "Processed raster saved to: D:\\Madagascar\\Data\\RiverMapping\\RiverMasks\\Betsiboka\\reach_2\\Processed\\Betsiboka_reach_2_1984_DSWE_level_3.tif\n",
      "PROCESSED: Exported Betsiboka_reach_2_1984_DSWE_level_3.tif to D:\\Madagascar\\Data\\RiverMapping\\RiverMasks\\Betsiboka\\reach_2\\Processed.\n",
      "Generating URL ...\n",
      "Downloading data from https://earthengine.googleapis.com/v1/projects/earthengine-legacy/thumbnails/da3006c31ca9d30888732a8f5f77fe82-3d13f2c0cecda035325cff52ba1eaa0c:getPixels\n",
      "Please wait ...\n",
      "Data downloaded to D:\\Madagascar\\Data\\RiverMapping\\RiverMasks\\Betsiboka\\reach_2\\Raw\\Betsiboka_reach_2_1985_DSWE_level_3.tif\n",
      "RAW: Successfully exported D:\\Madagascar\\Data\\RiverMapping\\RiverMasks\\Betsiboka\\reach_2\\Raw\\Betsiboka_reach_2_1985_DSWE_level_3.tif.\n"
     ]
    },
    {
     "name": "stderr",
     "output_type": "stream",
     "text": [
      "C:\\Users\\huckr\\AppData\\Local\\Temp\\ipykernel_22020\\949864737.py:469: UserWarning: Geometry is in a geographic CRS. Results from 'centroid' are likely incorrect. Use 'GeoSeries.to_crs()' to re-project geometries to a projected CRS before this operation.\n",
      "\n",
      "  centroid = grwl_reach_dissolved.geometry.centroid.iloc[0]\n"
     ]
    },
    {
     "name": "stdout",
     "output_type": "stream",
     "text": [
      "Raster successfully saved with compression to: D:\\Madagascar\\Data\\RiverMapping\\RiverMasks\\Betsiboka\\reach_2\\Processed\\Betsiboka_reach_2_1985_DSWE_level_3.tif\n",
      "Processed raster saved to: D:\\Madagascar\\Data\\RiverMapping\\RiverMasks\\Betsiboka\\reach_2\\Processed\\Betsiboka_reach_2_1985_DSWE_level_3.tif\n",
      "PROCESSED: Exported Betsiboka_reach_2_1985_DSWE_level_3.tif to D:\\Madagascar\\Data\\RiverMapping\\RiverMasks\\Betsiboka\\reach_2\\Processed.\n",
      "Generating URL ...\n",
      "An error occurred while downloading.\n",
      "Image.select: Band pattern 'Swir2' was applied to an Image with no bands. See https://developers.google.com/earth-engine/guides/debugging#no-bands\n",
      "Export failed: File D:\\Madagascar\\Data\\RiverMapping\\RiverMasks\\Betsiboka\\reach_2\\Raw\\Betsiboka_reach_2_1986_DSWE_level_3.tif not found.\n",
      "Export failed for Betsiboka_reach_2_1986_DSWE_level_3.tif, attempting tiling...\n",
      "Generating URL ...\n",
      "An error occurred while downloading.\n",
      "Image.select: Band pattern 'Swir2' was applied to an Image with no bands. See https://developers.google.com/earth-engine/guides/debugging#no-bands\n",
      "Export failed: File D:\\Madagascar\\Data\\RiverMapping\\RiverMasks\\Betsiboka\\reach_2\\Raw\\Betsiboka_reach_2_1986_tile_0_DSWE_level_3.tif not found.\n",
      "No tiles found for stitching.\n",
      "Failed to export Betsiboka_reach_2_1986_DSWE_level_3.tif. Error: D:/Madagascar/Data/RiverMapping/RiverMasks/Betsiboka/reach_2/Raw/Betsiboka_reach_2_1986_DSWE_level_3.tif: No such file or directory\n",
      "Generating URL ...\n",
      "Downloading data from https://earthengine.googleapis.com/v1/projects/earthengine-legacy/thumbnails/f9248058452ac837049c1ebcf2a3548b-2b80a0f6b2e26940aa122c928b14faf7:getPixels\n",
      "Please wait ...\n",
      "Data downloaded to D:\\Madagascar\\Data\\RiverMapping\\RiverMasks\\Betsiboka\\reach_2\\Raw\\Betsiboka_reach_2_1987_DSWE_level_3.tif\n",
      "RAW: Successfully exported D:\\Madagascar\\Data\\RiverMapping\\RiverMasks\\Betsiboka\\reach_2\\Raw\\Betsiboka_reach_2_1987_DSWE_level_3.tif.\n"
     ]
    },
    {
     "name": "stderr",
     "output_type": "stream",
     "text": [
      "C:\\Users\\huckr\\AppData\\Local\\Temp\\ipykernel_22020\\949864737.py:469: UserWarning: Geometry is in a geographic CRS. Results from 'centroid' are likely incorrect. Use 'GeoSeries.to_crs()' to re-project geometries to a projected CRS before this operation.\n",
      "\n",
      "  centroid = grwl_reach_dissolved.geometry.centroid.iloc[0]\n"
     ]
    },
    {
     "name": "stdout",
     "output_type": "stream",
     "text": [
      "Raster successfully saved with compression to: D:\\Madagascar\\Data\\RiverMapping\\RiverMasks\\Betsiboka\\reach_2\\Processed\\Betsiboka_reach_2_1987_DSWE_level_3.tif\n",
      "Processed raster saved to: D:\\Madagascar\\Data\\RiverMapping\\RiverMasks\\Betsiboka\\reach_2\\Processed\\Betsiboka_reach_2_1987_DSWE_level_3.tif\n",
      "PROCESSED: Exported Betsiboka_reach_2_1987_DSWE_level_3.tif to D:\\Madagascar\\Data\\RiverMapping\\RiverMasks\\Betsiboka\\reach_2\\Processed.\n",
      "Generating URL ...\n",
      "An error occurred while downloading.\n",
      "Image.select: Band pattern 'Nir' was applied to an Image with no bands. See https://developers.google.com/earth-engine/guides/debugging#no-bands\n",
      "Export failed: File D:\\Madagascar\\Data\\RiverMapping\\RiverMasks\\Betsiboka\\reach_2\\Raw\\Betsiboka_reach_2_1988_DSWE_level_3.tif not found.\n",
      "Export failed for Betsiboka_reach_2_1988_DSWE_level_3.tif, attempting tiling...\n",
      "Generating URL ...\n",
      "An error occurred while downloading.\n",
      "Image.select: Band pattern 'Nir' was applied to an Image with no bands. See https://developers.google.com/earth-engine/guides/debugging#no-bands\n",
      "Export failed: File D:\\Madagascar\\Data\\RiverMapping\\RiverMasks\\Betsiboka\\reach_2\\Raw\\Betsiboka_reach_2_1988_tile_0_DSWE_level_3.tif not found.\n",
      "No tiles found for stitching.\n",
      "Failed to export Betsiboka_reach_2_1988_DSWE_level_3.tif. Error: D:/Madagascar/Data/RiverMapping/RiverMasks/Betsiboka/reach_2/Raw/Betsiboka_reach_2_1988_DSWE_level_3.tif: No such file or directory\n",
      "Generating URL ...\n",
      "Downloading data from https://earthengine.googleapis.com/v1/projects/earthengine-legacy/thumbnails/dfdc94f55b0e5028c24c4f7bd5fe0744-3da2c0cae0cd037107a4cddf399a7825:getPixels\n",
      "Please wait ...\n",
      "Data downloaded to D:\\Madagascar\\Data\\RiverMapping\\RiverMasks\\Betsiboka\\reach_2\\Raw\\Betsiboka_reach_2_1989_DSWE_level_3.tif\n",
      "RAW: Successfully exported D:\\Madagascar\\Data\\RiverMapping\\RiverMasks\\Betsiboka\\reach_2\\Raw\\Betsiboka_reach_2_1989_DSWE_level_3.tif.\n"
     ]
    },
    {
     "name": "stderr",
     "output_type": "stream",
     "text": [
      "C:\\Users\\huckr\\AppData\\Local\\Temp\\ipykernel_22020\\949864737.py:469: UserWarning: Geometry is in a geographic CRS. Results from 'centroid' are likely incorrect. Use 'GeoSeries.to_crs()' to re-project geometries to a projected CRS before this operation.\n",
      "\n",
      "  centroid = grwl_reach_dissolved.geometry.centroid.iloc[0]\n"
     ]
    },
    {
     "name": "stdout",
     "output_type": "stream",
     "text": [
      "Raster successfully saved with compression to: D:\\Madagascar\\Data\\RiverMapping\\RiverMasks\\Betsiboka\\reach_2\\Processed\\Betsiboka_reach_2_1989_DSWE_level_3.tif\n",
      "Processed raster saved to: D:\\Madagascar\\Data\\RiverMapping\\RiverMasks\\Betsiboka\\reach_2\\Processed\\Betsiboka_reach_2_1989_DSWE_level_3.tif\n",
      "PROCESSED: Exported Betsiboka_reach_2_1989_DSWE_level_3.tif to D:\\Madagascar\\Data\\RiverMapping\\RiverMasks\\Betsiboka\\reach_2\\Processed.\n",
      "Generating URL ...\n",
      "Downloading data from https://earthengine.googleapis.com/v1/projects/earthengine-legacy/thumbnails/87e3f51ac2be404233a721e771f5951a-16bc2d4fca4a9f582d5840708c41ae52:getPixels\n",
      "Please wait ...\n",
      "Data downloaded to D:\\Madagascar\\Data\\RiverMapping\\RiverMasks\\Betsiboka\\reach_2\\Raw\\Betsiboka_reach_2_1990_DSWE_level_3.tif\n",
      "RAW: Successfully exported D:\\Madagascar\\Data\\RiverMapping\\RiverMasks\\Betsiboka\\reach_2\\Raw\\Betsiboka_reach_2_1990_DSWE_level_3.tif.\n"
     ]
    },
    {
     "name": "stderr",
     "output_type": "stream",
     "text": [
      "C:\\Users\\huckr\\AppData\\Local\\Temp\\ipykernel_22020\\949864737.py:469: UserWarning: Geometry is in a geographic CRS. Results from 'centroid' are likely incorrect. Use 'GeoSeries.to_crs()' to re-project geometries to a projected CRS before this operation.\n",
      "\n",
      "  centroid = grwl_reach_dissolved.geometry.centroid.iloc[0]\n"
     ]
    },
    {
     "name": "stdout",
     "output_type": "stream",
     "text": [
      "Raster successfully saved with compression to: D:\\Madagascar\\Data\\RiverMapping\\RiverMasks\\Betsiboka\\reach_2\\Processed\\Betsiboka_reach_2_1990_DSWE_level_3.tif\n",
      "Processed raster saved to: D:\\Madagascar\\Data\\RiverMapping\\RiverMasks\\Betsiboka\\reach_2\\Processed\\Betsiboka_reach_2_1990_DSWE_level_3.tif\n",
      "PROCESSED: Exported Betsiboka_reach_2_1990_DSWE_level_3.tif to D:\\Madagascar\\Data\\RiverMapping\\RiverMasks\\Betsiboka\\reach_2\\Processed.\n",
      "Generating URL ...\n",
      "Downloading data from https://earthengine.googleapis.com/v1/projects/earthengine-legacy/thumbnails/16f016a31998408440d1a31d263d2e84-57b4965a8af3c568d1382f057659f56c:getPixels\n",
      "Please wait ...\n",
      "Data downloaded to D:\\Madagascar\\Data\\RiverMapping\\RiverMasks\\Betsiboka\\reach_2\\Raw\\Betsiboka_reach_2_1991_DSWE_level_3.tif\n",
      "RAW: Successfully exported D:\\Madagascar\\Data\\RiverMapping\\RiverMasks\\Betsiboka\\reach_2\\Raw\\Betsiboka_reach_2_1991_DSWE_level_3.tif.\n"
     ]
    },
    {
     "name": "stderr",
     "output_type": "stream",
     "text": [
      "C:\\Users\\huckr\\AppData\\Local\\Temp\\ipykernel_22020\\949864737.py:469: UserWarning: Geometry is in a geographic CRS. Results from 'centroid' are likely incorrect. Use 'GeoSeries.to_crs()' to re-project geometries to a projected CRS before this operation.\n",
      "\n",
      "  centroid = grwl_reach_dissolved.geometry.centroid.iloc[0]\n"
     ]
    },
    {
     "name": "stdout",
     "output_type": "stream",
     "text": [
      "Raster successfully saved with compression to: D:\\Madagascar\\Data\\RiverMapping\\RiverMasks\\Betsiboka\\reach_2\\Processed\\Betsiboka_reach_2_1991_DSWE_level_3.tif\n",
      "Processed raster saved to: D:\\Madagascar\\Data\\RiverMapping\\RiverMasks\\Betsiboka\\reach_2\\Processed\\Betsiboka_reach_2_1991_DSWE_level_3.tif\n",
      "PROCESSED: Exported Betsiboka_reach_2_1991_DSWE_level_3.tif to D:\\Madagascar\\Data\\RiverMapping\\RiverMasks\\Betsiboka\\reach_2\\Processed.\n",
      "Generating URL ...\n",
      "Downloading data from https://earthengine.googleapis.com/v1/projects/earthengine-legacy/thumbnails/13ebb787b70efcab1b103d4fe07b0e96-0eb55cd0fdb5b4a1ef905dae4c560d01:getPixels\n",
      "Please wait ...\n",
      "Data downloaded to D:\\Madagascar\\Data\\RiverMapping\\RiverMasks\\Betsiboka\\reach_2\\Raw\\Betsiboka_reach_2_1992_DSWE_level_3.tif\n",
      "RAW: Successfully exported D:\\Madagascar\\Data\\RiverMapping\\RiverMasks\\Betsiboka\\reach_2\\Raw\\Betsiboka_reach_2_1992_DSWE_level_3.tif.\n"
     ]
    },
    {
     "name": "stderr",
     "output_type": "stream",
     "text": [
      "C:\\Users\\huckr\\AppData\\Local\\Temp\\ipykernel_22020\\949864737.py:469: UserWarning: Geometry is in a geographic CRS. Results from 'centroid' are likely incorrect. Use 'GeoSeries.to_crs()' to re-project geometries to a projected CRS before this operation.\n",
      "\n",
      "  centroid = grwl_reach_dissolved.geometry.centroid.iloc[0]\n"
     ]
    },
    {
     "name": "stdout",
     "output_type": "stream",
     "text": [
      "Raster successfully saved with compression to: D:\\Madagascar\\Data\\RiverMapping\\RiverMasks\\Betsiboka\\reach_2\\Processed\\Betsiboka_reach_2_1992_DSWE_level_3.tif\n",
      "Processed raster saved to: D:\\Madagascar\\Data\\RiverMapping\\RiverMasks\\Betsiboka\\reach_2\\Processed\\Betsiboka_reach_2_1992_DSWE_level_3.tif\n",
      "PROCESSED: Exported Betsiboka_reach_2_1992_DSWE_level_3.tif to D:\\Madagascar\\Data\\RiverMapping\\RiverMasks\\Betsiboka\\reach_2\\Processed.\n",
      "Generating URL ...\n",
      "Downloading data from https://earthengine.googleapis.com/v1/projects/earthengine-legacy/thumbnails/ef427e58a0d0c7e26803e4604aa0dfd6-c66a1830f25d9b373169858f3de19eb8:getPixels\n",
      "Please wait ...\n",
      "Data downloaded to D:\\Madagascar\\Data\\RiverMapping\\RiverMasks\\Betsiboka\\reach_2\\Raw\\Betsiboka_reach_2_1993_DSWE_level_3.tif\n",
      "RAW: Successfully exported D:\\Madagascar\\Data\\RiverMapping\\RiverMasks\\Betsiboka\\reach_2\\Raw\\Betsiboka_reach_2_1993_DSWE_level_3.tif.\n"
     ]
    },
    {
     "name": "stderr",
     "output_type": "stream",
     "text": [
      "C:\\Users\\huckr\\AppData\\Local\\Temp\\ipykernel_22020\\949864737.py:469: UserWarning: Geometry is in a geographic CRS. Results from 'centroid' are likely incorrect. Use 'GeoSeries.to_crs()' to re-project geometries to a projected CRS before this operation.\n",
      "\n",
      "  centroid = grwl_reach_dissolved.geometry.centroid.iloc[0]\n"
     ]
    },
    {
     "name": "stdout",
     "output_type": "stream",
     "text": [
      "Raster successfully saved with compression to: D:\\Madagascar\\Data\\RiverMapping\\RiverMasks\\Betsiboka\\reach_2\\Processed\\Betsiboka_reach_2_1993_DSWE_level_3.tif\n",
      "Processed raster saved to: D:\\Madagascar\\Data\\RiverMapping\\RiverMasks\\Betsiboka\\reach_2\\Processed\\Betsiboka_reach_2_1993_DSWE_level_3.tif\n",
      "PROCESSED: Exported Betsiboka_reach_2_1993_DSWE_level_3.tif to D:\\Madagascar\\Data\\RiverMapping\\RiverMasks\\Betsiboka\\reach_2\\Processed.\n",
      "Generating URL ...\n",
      "Downloading data from https://earthengine.googleapis.com/v1/projects/earthengine-legacy/thumbnails/d506c454339b6baeacfdb2d0eec2832e-d831c04a629e7e117d3e228a8071d5ea:getPixels\n",
      "Please wait ...\n",
      "Data downloaded to D:\\Madagascar\\Data\\RiverMapping\\RiverMasks\\Betsiboka\\reach_2\\Raw\\Betsiboka_reach_2_1994_DSWE_level_3.tif\n",
      "RAW: Successfully exported D:\\Madagascar\\Data\\RiverMapping\\RiverMasks\\Betsiboka\\reach_2\\Raw\\Betsiboka_reach_2_1994_DSWE_level_3.tif.\n"
     ]
    },
    {
     "name": "stderr",
     "output_type": "stream",
     "text": [
      "C:\\Users\\huckr\\AppData\\Local\\Temp\\ipykernel_22020\\949864737.py:469: UserWarning: Geometry is in a geographic CRS. Results from 'centroid' are likely incorrect. Use 'GeoSeries.to_crs()' to re-project geometries to a projected CRS before this operation.\n",
      "\n",
      "  centroid = grwl_reach_dissolved.geometry.centroid.iloc[0]\n"
     ]
    },
    {
     "name": "stdout",
     "output_type": "stream",
     "text": [
      "Raster successfully saved with compression to: D:\\Madagascar\\Data\\RiverMapping\\RiverMasks\\Betsiboka\\reach_2\\Processed\\Betsiboka_reach_2_1994_DSWE_level_3.tif\n",
      "Processed raster saved to: D:\\Madagascar\\Data\\RiverMapping\\RiverMasks\\Betsiboka\\reach_2\\Processed\\Betsiboka_reach_2_1994_DSWE_level_3.tif\n",
      "PROCESSED: Exported Betsiboka_reach_2_1994_DSWE_level_3.tif to D:\\Madagascar\\Data\\RiverMapping\\RiverMasks\\Betsiboka\\reach_2\\Processed.\n",
      "Generating URL ...\n",
      "Downloading data from https://earthengine.googleapis.com/v1/projects/earthengine-legacy/thumbnails/6cea51ed423bfa323f8e90ea094a080c-9a4b2fafbbc798123713bb1a99c7e023:getPixels\n",
      "Please wait ...\n",
      "Data downloaded to D:\\Madagascar\\Data\\RiverMapping\\RiverMasks\\Betsiboka\\reach_2\\Raw\\Betsiboka_reach_2_1995_DSWE_level_3.tif\n",
      "RAW: Successfully exported D:\\Madagascar\\Data\\RiverMapping\\RiverMasks\\Betsiboka\\reach_2\\Raw\\Betsiboka_reach_2_1995_DSWE_level_3.tif.\n"
     ]
    },
    {
     "name": "stderr",
     "output_type": "stream",
     "text": [
      "C:\\Users\\huckr\\AppData\\Local\\Temp\\ipykernel_22020\\949864737.py:469: UserWarning: Geometry is in a geographic CRS. Results from 'centroid' are likely incorrect. Use 'GeoSeries.to_crs()' to re-project geometries to a projected CRS before this operation.\n",
      "\n",
      "  centroid = grwl_reach_dissolved.geometry.centroid.iloc[0]\n"
     ]
    },
    {
     "name": "stdout",
     "output_type": "stream",
     "text": [
      "Raster successfully saved with compression to: D:\\Madagascar\\Data\\RiverMapping\\RiverMasks\\Betsiboka\\reach_2\\Processed\\Betsiboka_reach_2_1995_DSWE_level_3.tif\n",
      "Processed raster saved to: D:\\Madagascar\\Data\\RiverMapping\\RiverMasks\\Betsiboka\\reach_2\\Processed\\Betsiboka_reach_2_1995_DSWE_level_3.tif\n",
      "PROCESSED: Exported Betsiboka_reach_2_1995_DSWE_level_3.tif to D:\\Madagascar\\Data\\RiverMapping\\RiverMasks\\Betsiboka\\reach_2\\Processed.\n",
      "Generating URL ...\n",
      "Downloading data from https://earthengine.googleapis.com/v1/projects/earthengine-legacy/thumbnails/175e53f4825e095b0054c25c67e7cfb0-170f06681a918faa3faf34a23496af6e:getPixels\n",
      "Please wait ...\n",
      "Data downloaded to D:\\Madagascar\\Data\\RiverMapping\\RiverMasks\\Betsiboka\\reach_2\\Raw\\Betsiboka_reach_2_1996_DSWE_level_3.tif\n",
      "RAW: Successfully exported D:\\Madagascar\\Data\\RiverMapping\\RiverMasks\\Betsiboka\\reach_2\\Raw\\Betsiboka_reach_2_1996_DSWE_level_3.tif.\n"
     ]
    },
    {
     "name": "stderr",
     "output_type": "stream",
     "text": [
      "C:\\Users\\huckr\\AppData\\Local\\Temp\\ipykernel_22020\\949864737.py:469: UserWarning: Geometry is in a geographic CRS. Results from 'centroid' are likely incorrect. Use 'GeoSeries.to_crs()' to re-project geometries to a projected CRS before this operation.\n",
      "\n",
      "  centroid = grwl_reach_dissolved.geometry.centroid.iloc[0]\n"
     ]
    },
    {
     "name": "stdout",
     "output_type": "stream",
     "text": [
      "Raster successfully saved with compression to: D:\\Madagascar\\Data\\RiverMapping\\RiverMasks\\Betsiboka\\reach_2\\Processed\\Betsiboka_reach_2_1996_DSWE_level_3.tif\n",
      "Processed raster saved to: D:\\Madagascar\\Data\\RiverMapping\\RiverMasks\\Betsiboka\\reach_2\\Processed\\Betsiboka_reach_2_1996_DSWE_level_3.tif\n",
      "PROCESSED: Exported Betsiboka_reach_2_1996_DSWE_level_3.tif to D:\\Madagascar\\Data\\RiverMapping\\RiverMasks\\Betsiboka\\reach_2\\Processed.\n",
      "Generating URL ...\n",
      "Downloading data from https://earthengine.googleapis.com/v1/projects/earthengine-legacy/thumbnails/fcc772ff4e3fd3e0226577a130b852ca-b4df4d9d714ff8e92bad9278f3b4bb03:getPixels\n",
      "Please wait ...\n",
      "Data downloaded to D:\\Madagascar\\Data\\RiverMapping\\RiverMasks\\Betsiboka\\reach_2\\Raw\\Betsiboka_reach_2_1997_DSWE_level_3.tif\n",
      "RAW: Successfully exported D:\\Madagascar\\Data\\RiverMapping\\RiverMasks\\Betsiboka\\reach_2\\Raw\\Betsiboka_reach_2_1997_DSWE_level_3.tif.\n"
     ]
    },
    {
     "name": "stderr",
     "output_type": "stream",
     "text": [
      "C:\\Users\\huckr\\AppData\\Local\\Temp\\ipykernel_22020\\949864737.py:469: UserWarning: Geometry is in a geographic CRS. Results from 'centroid' are likely incorrect. Use 'GeoSeries.to_crs()' to re-project geometries to a projected CRS before this operation.\n",
      "\n",
      "  centroid = grwl_reach_dissolved.geometry.centroid.iloc[0]\n"
     ]
    },
    {
     "name": "stdout",
     "output_type": "stream",
     "text": [
      "Raster successfully saved with compression to: D:\\Madagascar\\Data\\RiverMapping\\RiverMasks\\Betsiboka\\reach_2\\Processed\\Betsiboka_reach_2_1997_DSWE_level_3.tif\n",
      "Processed raster saved to: D:\\Madagascar\\Data\\RiverMapping\\RiverMasks\\Betsiboka\\reach_2\\Processed\\Betsiboka_reach_2_1997_DSWE_level_3.tif\n",
      "PROCESSED: Exported Betsiboka_reach_2_1997_DSWE_level_3.tif to D:\\Madagascar\\Data\\RiverMapping\\RiverMasks\\Betsiboka\\reach_2\\Processed.\n",
      "Generating URL ...\n",
      "Downloading data from https://earthengine.googleapis.com/v1/projects/earthengine-legacy/thumbnails/31ba0013f24178a69adcdde1f0e6279f-1c475624964db3244d019f307334178b:getPixels\n",
      "Please wait ...\n",
      "Data downloaded to D:\\Madagascar\\Data\\RiverMapping\\RiverMasks\\Betsiboka\\reach_2\\Raw\\Betsiboka_reach_2_1998_DSWE_level_3.tif\n",
      "RAW: Successfully exported D:\\Madagascar\\Data\\RiverMapping\\RiverMasks\\Betsiboka\\reach_2\\Raw\\Betsiboka_reach_2_1998_DSWE_level_3.tif.\n"
     ]
    },
    {
     "name": "stderr",
     "output_type": "stream",
     "text": [
      "C:\\Users\\huckr\\AppData\\Local\\Temp\\ipykernel_22020\\949864737.py:469: UserWarning: Geometry is in a geographic CRS. Results from 'centroid' are likely incorrect. Use 'GeoSeries.to_crs()' to re-project geometries to a projected CRS before this operation.\n",
      "\n",
      "  centroid = grwl_reach_dissolved.geometry.centroid.iloc[0]\n"
     ]
    },
    {
     "name": "stdout",
     "output_type": "stream",
     "text": [
      "Raster successfully saved with compression to: D:\\Madagascar\\Data\\RiverMapping\\RiverMasks\\Betsiboka\\reach_2\\Processed\\Betsiboka_reach_2_1998_DSWE_level_3.tif\n",
      "Processed raster saved to: D:\\Madagascar\\Data\\RiverMapping\\RiverMasks\\Betsiboka\\reach_2\\Processed\\Betsiboka_reach_2_1998_DSWE_level_3.tif\n",
      "PROCESSED: Exported Betsiboka_reach_2_1998_DSWE_level_3.tif to D:\\Madagascar\\Data\\RiverMapping\\RiverMasks\\Betsiboka\\reach_2\\Processed.\n",
      "Generating URL ...\n",
      "Downloading data from https://earthengine.googleapis.com/v1/projects/earthengine-legacy/thumbnails/be3b2279394802f763c9ca43fc84230d-7ed8287ca5f3952f00030e8b45251ca8:getPixels\n",
      "Please wait ...\n",
      "Data downloaded to D:\\Madagascar\\Data\\RiverMapping\\RiverMasks\\Betsiboka\\reach_2\\Raw\\Betsiboka_reach_2_1999_DSWE_level_3.tif\n",
      "RAW: Successfully exported D:\\Madagascar\\Data\\RiverMapping\\RiverMasks\\Betsiboka\\reach_2\\Raw\\Betsiboka_reach_2_1999_DSWE_level_3.tif.\n"
     ]
    },
    {
     "name": "stderr",
     "output_type": "stream",
     "text": [
      "C:\\Users\\huckr\\AppData\\Local\\Temp\\ipykernel_22020\\949864737.py:469: UserWarning: Geometry is in a geographic CRS. Results from 'centroid' are likely incorrect. Use 'GeoSeries.to_crs()' to re-project geometries to a projected CRS before this operation.\n",
      "\n",
      "  centroid = grwl_reach_dissolved.geometry.centroid.iloc[0]\n"
     ]
    },
    {
     "name": "stdout",
     "output_type": "stream",
     "text": [
      "Raster successfully saved with compression to: D:\\Madagascar\\Data\\RiverMapping\\RiverMasks\\Betsiboka\\reach_2\\Processed\\Betsiboka_reach_2_1999_DSWE_level_3.tif\n",
      "Processed raster saved to: D:\\Madagascar\\Data\\RiverMapping\\RiverMasks\\Betsiboka\\reach_2\\Processed\\Betsiboka_reach_2_1999_DSWE_level_3.tif\n",
      "PROCESSED: Exported Betsiboka_reach_2_1999_DSWE_level_3.tif to D:\\Madagascar\\Data\\RiverMapping\\RiverMasks\\Betsiboka\\reach_2\\Processed.\n",
      "Generating URL ...\n",
      "Downloading data from https://earthengine.googleapis.com/v1/projects/earthengine-legacy/thumbnails/2f9fb8cdbd51d8a92d504ad2d5dabd51-e6d47403982c20a1e06ee5db2a56a434:getPixels\n",
      "Please wait ...\n",
      "Data downloaded to D:\\Madagascar\\Data\\RiverMapping\\RiverMasks\\Betsiboka\\reach_2\\Raw\\Betsiboka_reach_2_2000_DSWE_level_3.tif\n",
      "RAW: Successfully exported D:\\Madagascar\\Data\\RiverMapping\\RiverMasks\\Betsiboka\\reach_2\\Raw\\Betsiboka_reach_2_2000_DSWE_level_3.tif.\n"
     ]
    },
    {
     "name": "stderr",
     "output_type": "stream",
     "text": [
      "C:\\Users\\huckr\\AppData\\Local\\Temp\\ipykernel_22020\\949864737.py:469: UserWarning: Geometry is in a geographic CRS. Results from 'centroid' are likely incorrect. Use 'GeoSeries.to_crs()' to re-project geometries to a projected CRS before this operation.\n",
      "\n",
      "  centroid = grwl_reach_dissolved.geometry.centroid.iloc[0]\n"
     ]
    },
    {
     "name": "stdout",
     "output_type": "stream",
     "text": [
      "Raster successfully saved with compression to: D:\\Madagascar\\Data\\RiverMapping\\RiverMasks\\Betsiboka\\reach_2\\Processed\\Betsiboka_reach_2_2000_DSWE_level_3.tif\n",
      "Processed raster saved to: D:\\Madagascar\\Data\\RiverMapping\\RiverMasks\\Betsiboka\\reach_2\\Processed\\Betsiboka_reach_2_2000_DSWE_level_3.tif\n",
      "PROCESSED: Exported Betsiboka_reach_2_2000_DSWE_level_3.tif to D:\\Madagascar\\Data\\RiverMapping\\RiverMasks\\Betsiboka\\reach_2\\Processed.\n",
      "Generating URL ...\n",
      "Downloading data from https://earthengine.googleapis.com/v1/projects/earthengine-legacy/thumbnails/0e4dcc8175a7c5b8906b40cd47c83a50-f08d7eb5e351f16e5622c281aa911a98:getPixels\n",
      "Please wait ...\n",
      "Data downloaded to D:\\Madagascar\\Data\\RiverMapping\\RiverMasks\\Betsiboka\\reach_2\\Raw\\Betsiboka_reach_2_2001_DSWE_level_3.tif\n",
      "RAW: Successfully exported D:\\Madagascar\\Data\\RiverMapping\\RiverMasks\\Betsiboka\\reach_2\\Raw\\Betsiboka_reach_2_2001_DSWE_level_3.tif.\n"
     ]
    },
    {
     "name": "stderr",
     "output_type": "stream",
     "text": [
      "C:\\Users\\huckr\\AppData\\Local\\Temp\\ipykernel_22020\\949864737.py:469: UserWarning: Geometry is in a geographic CRS. Results from 'centroid' are likely incorrect. Use 'GeoSeries.to_crs()' to re-project geometries to a projected CRS before this operation.\n",
      "\n",
      "  centroid = grwl_reach_dissolved.geometry.centroid.iloc[0]\n"
     ]
    },
    {
     "name": "stdout",
     "output_type": "stream",
     "text": [
      "Raster successfully saved with compression to: D:\\Madagascar\\Data\\RiverMapping\\RiverMasks\\Betsiboka\\reach_2\\Processed\\Betsiboka_reach_2_2001_DSWE_level_3.tif\n",
      "Processed raster saved to: D:\\Madagascar\\Data\\RiverMapping\\RiverMasks\\Betsiboka\\reach_2\\Processed\\Betsiboka_reach_2_2001_DSWE_level_3.tif\n",
      "PROCESSED: Exported Betsiboka_reach_2_2001_DSWE_level_3.tif to D:\\Madagascar\\Data\\RiverMapping\\RiverMasks\\Betsiboka\\reach_2\\Processed.\n",
      "Generating URL ...\n",
      "Downloading data from https://earthengine.googleapis.com/v1/projects/earthengine-legacy/thumbnails/8297b9bb058b954fe3ccbd7a1c339acc-155d92edf2121d8c04fd6e20b32fbdc8:getPixels\n",
      "Please wait ...\n",
      "Data downloaded to D:\\Madagascar\\Data\\RiverMapping\\RiverMasks\\Betsiboka\\reach_2\\Raw\\Betsiboka_reach_2_2002_DSWE_level_3.tif\n",
      "RAW: Successfully exported D:\\Madagascar\\Data\\RiverMapping\\RiverMasks\\Betsiboka\\reach_2\\Raw\\Betsiboka_reach_2_2002_DSWE_level_3.tif.\n"
     ]
    },
    {
     "name": "stderr",
     "output_type": "stream",
     "text": [
      "C:\\Users\\huckr\\AppData\\Local\\Temp\\ipykernel_22020\\949864737.py:469: UserWarning: Geometry is in a geographic CRS. Results from 'centroid' are likely incorrect. Use 'GeoSeries.to_crs()' to re-project geometries to a projected CRS before this operation.\n",
      "\n",
      "  centroid = grwl_reach_dissolved.geometry.centroid.iloc[0]\n"
     ]
    },
    {
     "name": "stdout",
     "output_type": "stream",
     "text": [
      "Raster successfully saved with compression to: D:\\Madagascar\\Data\\RiverMapping\\RiverMasks\\Betsiboka\\reach_2\\Processed\\Betsiboka_reach_2_2002_DSWE_level_3.tif\n",
      "Processed raster saved to: D:\\Madagascar\\Data\\RiverMapping\\RiverMasks\\Betsiboka\\reach_2\\Processed\\Betsiboka_reach_2_2002_DSWE_level_3.tif\n",
      "PROCESSED: Exported Betsiboka_reach_2_2002_DSWE_level_3.tif to D:\\Madagascar\\Data\\RiverMapping\\RiverMasks\\Betsiboka\\reach_2\\Processed.\n",
      "Generating URL ...\n",
      "Downloading data from https://earthengine.googleapis.com/v1/projects/earthengine-legacy/thumbnails/abfbb70371abd473e7f72979bfb67d92-bb2d87a4acfb48a274ddeaa76a60a6b9:getPixels\n",
      "Please wait ...\n",
      "Data downloaded to D:\\Madagascar\\Data\\RiverMapping\\RiverMasks\\Betsiboka\\reach_2\\Raw\\Betsiboka_reach_2_2003_DSWE_level_3.tif\n",
      "RAW: Successfully exported D:\\Madagascar\\Data\\RiverMapping\\RiverMasks\\Betsiboka\\reach_2\\Raw\\Betsiboka_reach_2_2003_DSWE_level_3.tif.\n"
     ]
    },
    {
     "name": "stderr",
     "output_type": "stream",
     "text": [
      "C:\\Users\\huckr\\AppData\\Local\\Temp\\ipykernel_22020\\949864737.py:469: UserWarning: Geometry is in a geographic CRS. Results from 'centroid' are likely incorrect. Use 'GeoSeries.to_crs()' to re-project geometries to a projected CRS before this operation.\n",
      "\n",
      "  centroid = grwl_reach_dissolved.geometry.centroid.iloc[0]\n"
     ]
    },
    {
     "name": "stdout",
     "output_type": "stream",
     "text": [
      "Raster successfully saved with compression to: D:\\Madagascar\\Data\\RiverMapping\\RiverMasks\\Betsiboka\\reach_2\\Processed\\Betsiboka_reach_2_2003_DSWE_level_3.tif\n",
      "Processed raster saved to: D:\\Madagascar\\Data\\RiverMapping\\RiverMasks\\Betsiboka\\reach_2\\Processed\\Betsiboka_reach_2_2003_DSWE_level_3.tif\n",
      "PROCESSED: Exported Betsiboka_reach_2_2003_DSWE_level_3.tif to D:\\Madagascar\\Data\\RiverMapping\\RiverMasks\\Betsiboka\\reach_2\\Processed.\n",
      "Generating URL ...\n",
      "Downloading data from https://earthengine.googleapis.com/v1/projects/earthengine-legacy/thumbnails/3bb8a23bf8a2c897c08c2c3574045fb3-00b347dd522bb93972d082bc92c3cef0:getPixels\n",
      "Please wait ...\n",
      "Data downloaded to D:\\Madagascar\\Data\\RiverMapping\\RiverMasks\\Betsiboka\\reach_2\\Raw\\Betsiboka_reach_2_2004_DSWE_level_3.tif\n",
      "RAW: Successfully exported D:\\Madagascar\\Data\\RiverMapping\\RiverMasks\\Betsiboka\\reach_2\\Raw\\Betsiboka_reach_2_2004_DSWE_level_3.tif.\n"
     ]
    },
    {
     "name": "stderr",
     "output_type": "stream",
     "text": [
      "C:\\Users\\huckr\\AppData\\Local\\Temp\\ipykernel_22020\\949864737.py:469: UserWarning: Geometry is in a geographic CRS. Results from 'centroid' are likely incorrect. Use 'GeoSeries.to_crs()' to re-project geometries to a projected CRS before this operation.\n",
      "\n",
      "  centroid = grwl_reach_dissolved.geometry.centroid.iloc[0]\n"
     ]
    },
    {
     "name": "stdout",
     "output_type": "stream",
     "text": [
      "Raster successfully saved with compression to: D:\\Madagascar\\Data\\RiverMapping\\RiverMasks\\Betsiboka\\reach_2\\Processed\\Betsiboka_reach_2_2004_DSWE_level_3.tif\n",
      "Processed raster saved to: D:\\Madagascar\\Data\\RiverMapping\\RiverMasks\\Betsiboka\\reach_2\\Processed\\Betsiboka_reach_2_2004_DSWE_level_3.tif\n",
      "PROCESSED: Exported Betsiboka_reach_2_2004_DSWE_level_3.tif to D:\\Madagascar\\Data\\RiverMapping\\RiverMasks\\Betsiboka\\reach_2\\Processed.\n",
      "Generating URL ...\n",
      "Downloading data from https://earthengine.googleapis.com/v1/projects/earthengine-legacy/thumbnails/3423e89c71f09a510ca6ce4c81ce61f9-48784cfd3f9173307c6b1a36d5df99f0:getPixels\n",
      "Please wait ...\n",
      "Data downloaded to D:\\Madagascar\\Data\\RiverMapping\\RiverMasks\\Betsiboka\\reach_2\\Raw\\Betsiboka_reach_2_2005_DSWE_level_3.tif\n",
      "RAW: Successfully exported D:\\Madagascar\\Data\\RiverMapping\\RiverMasks\\Betsiboka\\reach_2\\Raw\\Betsiboka_reach_2_2005_DSWE_level_3.tif.\n"
     ]
    },
    {
     "name": "stderr",
     "output_type": "stream",
     "text": [
      "C:\\Users\\huckr\\AppData\\Local\\Temp\\ipykernel_22020\\949864737.py:469: UserWarning: Geometry is in a geographic CRS. Results from 'centroid' are likely incorrect. Use 'GeoSeries.to_crs()' to re-project geometries to a projected CRS before this operation.\n",
      "\n",
      "  centroid = grwl_reach_dissolved.geometry.centroid.iloc[0]\n"
     ]
    },
    {
     "name": "stdout",
     "output_type": "stream",
     "text": [
      "Raster successfully saved with compression to: D:\\Madagascar\\Data\\RiverMapping\\RiverMasks\\Betsiboka\\reach_2\\Processed\\Betsiboka_reach_2_2005_DSWE_level_3.tif\n",
      "Processed raster saved to: D:\\Madagascar\\Data\\RiverMapping\\RiverMasks\\Betsiboka\\reach_2\\Processed\\Betsiboka_reach_2_2005_DSWE_level_3.tif\n",
      "PROCESSED: Exported Betsiboka_reach_2_2005_DSWE_level_3.tif to D:\\Madagascar\\Data\\RiverMapping\\RiverMasks\\Betsiboka\\reach_2\\Processed.\n",
      "Generating URL ...\n",
      "Downloading data from https://earthengine.googleapis.com/v1/projects/earthengine-legacy/thumbnails/4d7f2b52d0b1a24b0c133a18152db324-6082f25c817f4ff2b295383871ce9f83:getPixels\n",
      "Please wait ...\n",
      "Data downloaded to D:\\Madagascar\\Data\\RiverMapping\\RiverMasks\\Betsiboka\\reach_2\\Raw\\Betsiboka_reach_2_2006_DSWE_level_3.tif\n",
      "RAW: Successfully exported D:\\Madagascar\\Data\\RiverMapping\\RiverMasks\\Betsiboka\\reach_2\\Raw\\Betsiboka_reach_2_2006_DSWE_level_3.tif.\n"
     ]
    },
    {
     "name": "stderr",
     "output_type": "stream",
     "text": [
      "C:\\Users\\huckr\\AppData\\Local\\Temp\\ipykernel_22020\\949864737.py:469: UserWarning: Geometry is in a geographic CRS. Results from 'centroid' are likely incorrect. Use 'GeoSeries.to_crs()' to re-project geometries to a projected CRS before this operation.\n",
      "\n",
      "  centroid = grwl_reach_dissolved.geometry.centroid.iloc[0]\n"
     ]
    },
    {
     "name": "stdout",
     "output_type": "stream",
     "text": [
      "Raster successfully saved with compression to: D:\\Madagascar\\Data\\RiverMapping\\RiverMasks\\Betsiboka\\reach_2\\Processed\\Betsiboka_reach_2_2006_DSWE_level_3.tif\n",
      "Processed raster saved to: D:\\Madagascar\\Data\\RiverMapping\\RiverMasks\\Betsiboka\\reach_2\\Processed\\Betsiboka_reach_2_2006_DSWE_level_3.tif\n",
      "PROCESSED: Exported Betsiboka_reach_2_2006_DSWE_level_3.tif to D:\\Madagascar\\Data\\RiverMapping\\RiverMasks\\Betsiboka\\reach_2\\Processed.\n",
      "Generating URL ...\n",
      "Downloading data from https://earthengine.googleapis.com/v1/projects/earthengine-legacy/thumbnails/8cf6a5e5841dc384bcbaa3fcb8f516b8-147ee76b7ce1438b49eb33ba1abae4e9:getPixels\n",
      "Please wait ...\n",
      "Data downloaded to D:\\Madagascar\\Data\\RiverMapping\\RiverMasks\\Betsiboka\\reach_2\\Raw\\Betsiboka_reach_2_2007_DSWE_level_3.tif\n",
      "RAW: Successfully exported D:\\Madagascar\\Data\\RiverMapping\\RiverMasks\\Betsiboka\\reach_2\\Raw\\Betsiboka_reach_2_2007_DSWE_level_3.tif.\n"
     ]
    },
    {
     "name": "stderr",
     "output_type": "stream",
     "text": [
      "C:\\Users\\huckr\\AppData\\Local\\Temp\\ipykernel_22020\\949864737.py:469: UserWarning: Geometry is in a geographic CRS. Results from 'centroid' are likely incorrect. Use 'GeoSeries.to_crs()' to re-project geometries to a projected CRS before this operation.\n",
      "\n",
      "  centroid = grwl_reach_dissolved.geometry.centroid.iloc[0]\n"
     ]
    },
    {
     "name": "stdout",
     "output_type": "stream",
     "text": [
      "Raster successfully saved with compression to: D:\\Madagascar\\Data\\RiverMapping\\RiverMasks\\Betsiboka\\reach_2\\Processed\\Betsiboka_reach_2_2007_DSWE_level_3.tif\n",
      "Processed raster saved to: D:\\Madagascar\\Data\\RiverMapping\\RiverMasks\\Betsiboka\\reach_2\\Processed\\Betsiboka_reach_2_2007_DSWE_level_3.tif\n",
      "PROCESSED: Exported Betsiboka_reach_2_2007_DSWE_level_3.tif to D:\\Madagascar\\Data\\RiverMapping\\RiverMasks\\Betsiboka\\reach_2\\Processed.\n",
      "Generating URL ...\n",
      "Downloading data from https://earthengine.googleapis.com/v1/projects/earthengine-legacy/thumbnails/cffaad1c2b8c54ae798b80fa1b932e09-a34df135ba6b4fb8bb09de3db83bb77b:getPixels\n",
      "Please wait ...\n",
      "Data downloaded to D:\\Madagascar\\Data\\RiverMapping\\RiverMasks\\Betsiboka\\reach_2\\Raw\\Betsiboka_reach_2_2008_DSWE_level_3.tif\n",
      "RAW: Successfully exported D:\\Madagascar\\Data\\RiverMapping\\RiverMasks\\Betsiboka\\reach_2\\Raw\\Betsiboka_reach_2_2008_DSWE_level_3.tif.\n"
     ]
    },
    {
     "name": "stderr",
     "output_type": "stream",
     "text": [
      "C:\\Users\\huckr\\AppData\\Local\\Temp\\ipykernel_22020\\949864737.py:469: UserWarning: Geometry is in a geographic CRS. Results from 'centroid' are likely incorrect. Use 'GeoSeries.to_crs()' to re-project geometries to a projected CRS before this operation.\n",
      "\n",
      "  centroid = grwl_reach_dissolved.geometry.centroid.iloc[0]\n"
     ]
    },
    {
     "name": "stdout",
     "output_type": "stream",
     "text": [
      "Raster successfully saved with compression to: D:\\Madagascar\\Data\\RiverMapping\\RiverMasks\\Betsiboka\\reach_2\\Processed\\Betsiboka_reach_2_2008_DSWE_level_3.tif\n",
      "Processed raster saved to: D:\\Madagascar\\Data\\RiverMapping\\RiverMasks\\Betsiboka\\reach_2\\Processed\\Betsiboka_reach_2_2008_DSWE_level_3.tif\n",
      "PROCESSED: Exported Betsiboka_reach_2_2008_DSWE_level_3.tif to D:\\Madagascar\\Data\\RiverMapping\\RiverMasks\\Betsiboka\\reach_2\\Processed.\n",
      "Generating URL ...\n",
      "Downloading data from https://earthengine.googleapis.com/v1/projects/earthengine-legacy/thumbnails/7ff2bba2976fa69fa9aa6684df871cfc-04a6823071901382e409f7f517a5ba83:getPixels\n",
      "Please wait ...\n",
      "Data downloaded to D:\\Madagascar\\Data\\RiverMapping\\RiverMasks\\Betsiboka\\reach_2\\Raw\\Betsiboka_reach_2_2009_DSWE_level_3.tif\n",
      "RAW: Successfully exported D:\\Madagascar\\Data\\RiverMapping\\RiverMasks\\Betsiboka\\reach_2\\Raw\\Betsiboka_reach_2_2009_DSWE_level_3.tif.\n"
     ]
    },
    {
     "name": "stderr",
     "output_type": "stream",
     "text": [
      "C:\\Users\\huckr\\AppData\\Local\\Temp\\ipykernel_22020\\949864737.py:469: UserWarning: Geometry is in a geographic CRS. Results from 'centroid' are likely incorrect. Use 'GeoSeries.to_crs()' to re-project geometries to a projected CRS before this operation.\n",
      "\n",
      "  centroid = grwl_reach_dissolved.geometry.centroid.iloc[0]\n"
     ]
    },
    {
     "name": "stdout",
     "output_type": "stream",
     "text": [
      "Raster successfully saved with compression to: D:\\Madagascar\\Data\\RiverMapping\\RiverMasks\\Betsiboka\\reach_2\\Processed\\Betsiboka_reach_2_2009_DSWE_level_3.tif\n",
      "Processed raster saved to: D:\\Madagascar\\Data\\RiverMapping\\RiverMasks\\Betsiboka\\reach_2\\Processed\\Betsiboka_reach_2_2009_DSWE_level_3.tif\n",
      "PROCESSED: Exported Betsiboka_reach_2_2009_DSWE_level_3.tif to D:\\Madagascar\\Data\\RiverMapping\\RiverMasks\\Betsiboka\\reach_2\\Processed.\n",
      "Generating URL ...\n",
      "Downloading data from https://earthengine.googleapis.com/v1/projects/earthengine-legacy/thumbnails/c01eb436b6673cc90b818f90c413f46b-5d8d9b3043bb782208b20653f9307809:getPixels\n",
      "Please wait ...\n",
      "Data downloaded to D:\\Madagascar\\Data\\RiverMapping\\RiverMasks\\Betsiboka\\reach_2\\Raw\\Betsiboka_reach_2_2010_DSWE_level_3.tif\n",
      "RAW: Successfully exported D:\\Madagascar\\Data\\RiverMapping\\RiverMasks\\Betsiboka\\reach_2\\Raw\\Betsiboka_reach_2_2010_DSWE_level_3.tif.\n"
     ]
    },
    {
     "name": "stderr",
     "output_type": "stream",
     "text": [
      "C:\\Users\\huckr\\AppData\\Local\\Temp\\ipykernel_22020\\949864737.py:469: UserWarning: Geometry is in a geographic CRS. Results from 'centroid' are likely incorrect. Use 'GeoSeries.to_crs()' to re-project geometries to a projected CRS before this operation.\n",
      "\n",
      "  centroid = grwl_reach_dissolved.geometry.centroid.iloc[0]\n"
     ]
    },
    {
     "name": "stdout",
     "output_type": "stream",
     "text": [
      "Raster successfully saved with compression to: D:\\Madagascar\\Data\\RiverMapping\\RiverMasks\\Betsiboka\\reach_2\\Processed\\Betsiboka_reach_2_2010_DSWE_level_3.tif\n",
      "Processed raster saved to: D:\\Madagascar\\Data\\RiverMapping\\RiverMasks\\Betsiboka\\reach_2\\Processed\\Betsiboka_reach_2_2010_DSWE_level_3.tif\n",
      "PROCESSED: Exported Betsiboka_reach_2_2010_DSWE_level_3.tif to D:\\Madagascar\\Data\\RiverMapping\\RiverMasks\\Betsiboka\\reach_2\\Processed.\n",
      "Generating URL ...\n",
      "Downloading data from https://earthengine.googleapis.com/v1/projects/earthengine-legacy/thumbnails/2ae57c12f76887f18e60e07a7cdb84f7-db974d4d551e36a16a13e7b6cb566a1c:getPixels\n",
      "Please wait ...\n",
      "Data downloaded to D:\\Madagascar\\Data\\RiverMapping\\RiverMasks\\Betsiboka\\reach_2\\Raw\\Betsiboka_reach_2_2011_DSWE_level_3.tif\n",
      "RAW: Successfully exported D:\\Madagascar\\Data\\RiverMapping\\RiverMasks\\Betsiboka\\reach_2\\Raw\\Betsiboka_reach_2_2011_DSWE_level_3.tif.\n"
     ]
    },
    {
     "name": "stderr",
     "output_type": "stream",
     "text": [
      "C:\\Users\\huckr\\AppData\\Local\\Temp\\ipykernel_22020\\949864737.py:469: UserWarning: Geometry is in a geographic CRS. Results from 'centroid' are likely incorrect. Use 'GeoSeries.to_crs()' to re-project geometries to a projected CRS before this operation.\n",
      "\n",
      "  centroid = grwl_reach_dissolved.geometry.centroid.iloc[0]\n"
     ]
    },
    {
     "name": "stdout",
     "output_type": "stream",
     "text": [
      "Raster successfully saved with compression to: D:\\Madagascar\\Data\\RiverMapping\\RiverMasks\\Betsiboka\\reach_2\\Processed\\Betsiboka_reach_2_2011_DSWE_level_3.tif\n",
      "Processed raster saved to: D:\\Madagascar\\Data\\RiverMapping\\RiverMasks\\Betsiboka\\reach_2\\Processed\\Betsiboka_reach_2_2011_DSWE_level_3.tif\n",
      "PROCESSED: Exported Betsiboka_reach_2_2011_DSWE_level_3.tif to D:\\Madagascar\\Data\\RiverMapping\\RiverMasks\\Betsiboka\\reach_2\\Processed.\n",
      "Generating URL ...\n",
      "An error occurred while downloading.\n",
      "Image.select: Band pattern 'Nir' was applied to an Image with no bands. See https://developers.google.com/earth-engine/guides/debugging#no-bands\n",
      "Export failed: File D:\\Madagascar\\Data\\RiverMapping\\RiverMasks\\Betsiboka\\reach_2\\Raw\\Betsiboka_reach_2_2012_DSWE_level_3.tif not found.\n",
      "Export failed for Betsiboka_reach_2_2012_DSWE_level_3.tif, attempting tiling...\n",
      "Generating URL ...\n",
      "An error occurred while downloading.\n",
      "Image.select: Band pattern 'Nir' was applied to an Image with no bands. See https://developers.google.com/earth-engine/guides/debugging#no-bands\n",
      "Export failed: File D:\\Madagascar\\Data\\RiverMapping\\RiverMasks\\Betsiboka\\reach_2\\Raw\\Betsiboka_reach_2_2012_tile_0_DSWE_level_3.tif not found.\n",
      "No tiles found for stitching.\n",
      "Failed to export Betsiboka_reach_2_2012_DSWE_level_3.tif. Error: D:/Madagascar/Data/RiverMapping/RiverMasks/Betsiboka/reach_2/Raw/Betsiboka_reach_2_2012_DSWE_level_3.tif: No such file or directory\n",
      "Generating URL ...\n",
      "Downloading data from https://earthengine.googleapis.com/v1/projects/earthengine-legacy/thumbnails/9e5f819b6646e1e90f3171f6abdbcf14-ed5f612cba8088e9dd2cbd6db237cdfa:getPixels\n",
      "Please wait ...\n",
      "Data downloaded to D:\\Madagascar\\Data\\RiverMapping\\RiverMasks\\Betsiboka\\reach_2\\Raw\\Betsiboka_reach_2_2013_DSWE_level_3.tif\n",
      "RAW: Successfully exported D:\\Madagascar\\Data\\RiverMapping\\RiverMasks\\Betsiboka\\reach_2\\Raw\\Betsiboka_reach_2_2013_DSWE_level_3.tif.\n"
     ]
    },
    {
     "name": "stderr",
     "output_type": "stream",
     "text": [
      "C:\\Users\\huckr\\AppData\\Local\\Temp\\ipykernel_22020\\949864737.py:469: UserWarning: Geometry is in a geographic CRS. Results from 'centroid' are likely incorrect. Use 'GeoSeries.to_crs()' to re-project geometries to a projected CRS before this operation.\n",
      "\n",
      "  centroid = grwl_reach_dissolved.geometry.centroid.iloc[0]\n"
     ]
    },
    {
     "name": "stdout",
     "output_type": "stream",
     "text": [
      "Raster successfully saved with compression to: D:\\Madagascar\\Data\\RiverMapping\\RiverMasks\\Betsiboka\\reach_2\\Processed\\Betsiboka_reach_2_2013_DSWE_level_3.tif\n",
      "Processed raster saved to: D:\\Madagascar\\Data\\RiverMapping\\RiverMasks\\Betsiboka\\reach_2\\Processed\\Betsiboka_reach_2_2013_DSWE_level_3.tif\n",
      "PROCESSED: Exported Betsiboka_reach_2_2013_DSWE_level_3.tif to D:\\Madagascar\\Data\\RiverMapping\\RiverMasks\\Betsiboka\\reach_2\\Processed.\n",
      "Generating URL ...\n",
      "Downloading data from https://earthengine.googleapis.com/v1/projects/earthengine-legacy/thumbnails/fe7e3735eed22425aedd1e6340803c94-3bb07d27e1398b5d0b76b445e2d1e1bd:getPixels\n",
      "Please wait ...\n",
      "Data downloaded to D:\\Madagascar\\Data\\RiverMapping\\RiverMasks\\Betsiboka\\reach_2\\Raw\\Betsiboka_reach_2_2014_DSWE_level_3.tif\n",
      "RAW: Successfully exported D:\\Madagascar\\Data\\RiverMapping\\RiverMasks\\Betsiboka\\reach_2\\Raw\\Betsiboka_reach_2_2014_DSWE_level_3.tif.\n"
     ]
    },
    {
     "name": "stderr",
     "output_type": "stream",
     "text": [
      "C:\\Users\\huckr\\AppData\\Local\\Temp\\ipykernel_22020\\949864737.py:469: UserWarning: Geometry is in a geographic CRS. Results from 'centroid' are likely incorrect. Use 'GeoSeries.to_crs()' to re-project geometries to a projected CRS before this operation.\n",
      "\n",
      "  centroid = grwl_reach_dissolved.geometry.centroid.iloc[0]\n"
     ]
    },
    {
     "name": "stdout",
     "output_type": "stream",
     "text": [
      "Raster successfully saved with compression to: D:\\Madagascar\\Data\\RiverMapping\\RiverMasks\\Betsiboka\\reach_2\\Processed\\Betsiboka_reach_2_2014_DSWE_level_3.tif\n",
      "Processed raster saved to: D:\\Madagascar\\Data\\RiverMapping\\RiverMasks\\Betsiboka\\reach_2\\Processed\\Betsiboka_reach_2_2014_DSWE_level_3.tif\n",
      "PROCESSED: Exported Betsiboka_reach_2_2014_DSWE_level_3.tif to D:\\Madagascar\\Data\\RiverMapping\\RiverMasks\\Betsiboka\\reach_2\\Processed.\n",
      "Generating URL ...\n",
      "Downloading data from https://earthengine.googleapis.com/v1/projects/earthengine-legacy/thumbnails/124ff5568b5f8d88e3ca58861a051995-fcdf6d8433c41951f971c39e0bd9b558:getPixels\n",
      "Please wait ...\n",
      "Data downloaded to D:\\Madagascar\\Data\\RiverMapping\\RiverMasks\\Betsiboka\\reach_2\\Raw\\Betsiboka_reach_2_2015_DSWE_level_3.tif\n",
      "RAW: Successfully exported D:\\Madagascar\\Data\\RiverMapping\\RiverMasks\\Betsiboka\\reach_2\\Raw\\Betsiboka_reach_2_2015_DSWE_level_3.tif.\n"
     ]
    },
    {
     "name": "stderr",
     "output_type": "stream",
     "text": [
      "C:\\Users\\huckr\\AppData\\Local\\Temp\\ipykernel_22020\\949864737.py:469: UserWarning: Geometry is in a geographic CRS. Results from 'centroid' are likely incorrect. Use 'GeoSeries.to_crs()' to re-project geometries to a projected CRS before this operation.\n",
      "\n",
      "  centroid = grwl_reach_dissolved.geometry.centroid.iloc[0]\n"
     ]
    },
    {
     "name": "stdout",
     "output_type": "stream",
     "text": [
      "Raster successfully saved with compression to: D:\\Madagascar\\Data\\RiverMapping\\RiverMasks\\Betsiboka\\reach_2\\Processed\\Betsiboka_reach_2_2015_DSWE_level_3.tif\n",
      "Processed raster saved to: D:\\Madagascar\\Data\\RiverMapping\\RiverMasks\\Betsiboka\\reach_2\\Processed\\Betsiboka_reach_2_2015_DSWE_level_3.tif\n",
      "PROCESSED: Exported Betsiboka_reach_2_2015_DSWE_level_3.tif to D:\\Madagascar\\Data\\RiverMapping\\RiverMasks\\Betsiboka\\reach_2\\Processed.\n",
      "Generating URL ...\n",
      "Downloading data from https://earthengine.googleapis.com/v1/projects/earthengine-legacy/thumbnails/8dee2cbd276131e67819cfd9b07ed9b3-24be441a8ad8938a803034c0c6041ef9:getPixels\n",
      "Please wait ...\n",
      "Data downloaded to D:\\Madagascar\\Data\\RiverMapping\\RiverMasks\\Betsiboka\\reach_2\\Raw\\Betsiboka_reach_2_2016_DSWE_level_3.tif\n",
      "RAW: Successfully exported D:\\Madagascar\\Data\\RiverMapping\\RiverMasks\\Betsiboka\\reach_2\\Raw\\Betsiboka_reach_2_2016_DSWE_level_3.tif.\n"
     ]
    },
    {
     "name": "stderr",
     "output_type": "stream",
     "text": [
      "C:\\Users\\huckr\\AppData\\Local\\Temp\\ipykernel_22020\\949864737.py:469: UserWarning: Geometry is in a geographic CRS. Results from 'centroid' are likely incorrect. Use 'GeoSeries.to_crs()' to re-project geometries to a projected CRS before this operation.\n",
      "\n",
      "  centroid = grwl_reach_dissolved.geometry.centroid.iloc[0]\n"
     ]
    },
    {
     "name": "stdout",
     "output_type": "stream",
     "text": [
      "Raster successfully saved with compression to: D:\\Madagascar\\Data\\RiverMapping\\RiverMasks\\Betsiboka\\reach_2\\Processed\\Betsiboka_reach_2_2016_DSWE_level_3.tif\n",
      "Processed raster saved to: D:\\Madagascar\\Data\\RiverMapping\\RiverMasks\\Betsiboka\\reach_2\\Processed\\Betsiboka_reach_2_2016_DSWE_level_3.tif\n",
      "PROCESSED: Exported Betsiboka_reach_2_2016_DSWE_level_3.tif to D:\\Madagascar\\Data\\RiverMapping\\RiverMasks\\Betsiboka\\reach_2\\Processed.\n",
      "Generating URL ...\n",
      "Downloading data from https://earthengine.googleapis.com/v1/projects/earthengine-legacy/thumbnails/0c06de05bc49b7e499ca6b5b61185b60-be26acb6c1bb76076252bf05da87d60f:getPixels\n",
      "Please wait ...\n",
      "Data downloaded to D:\\Madagascar\\Data\\RiverMapping\\RiverMasks\\Betsiboka\\reach_2\\Raw\\Betsiboka_reach_2_2017_DSWE_level_3.tif\n",
      "RAW: Successfully exported D:\\Madagascar\\Data\\RiverMapping\\RiverMasks\\Betsiboka\\reach_2\\Raw\\Betsiboka_reach_2_2017_DSWE_level_3.tif.\n"
     ]
    },
    {
     "name": "stderr",
     "output_type": "stream",
     "text": [
      "C:\\Users\\huckr\\AppData\\Local\\Temp\\ipykernel_22020\\949864737.py:469: UserWarning: Geometry is in a geographic CRS. Results from 'centroid' are likely incorrect. Use 'GeoSeries.to_crs()' to re-project geometries to a projected CRS before this operation.\n",
      "\n",
      "  centroid = grwl_reach_dissolved.geometry.centroid.iloc[0]\n"
     ]
    },
    {
     "name": "stdout",
     "output_type": "stream",
     "text": [
      "Raster successfully saved with compression to: D:\\Madagascar\\Data\\RiverMapping\\RiverMasks\\Betsiboka\\reach_2\\Processed\\Betsiboka_reach_2_2017_DSWE_level_3.tif\n",
      "Processed raster saved to: D:\\Madagascar\\Data\\RiverMapping\\RiverMasks\\Betsiboka\\reach_2\\Processed\\Betsiboka_reach_2_2017_DSWE_level_3.tif\n",
      "PROCESSED: Exported Betsiboka_reach_2_2017_DSWE_level_3.tif to D:\\Madagascar\\Data\\RiverMapping\\RiverMasks\\Betsiboka\\reach_2\\Processed.\n",
      "Generating URL ...\n",
      "Downloading data from https://earthengine.googleapis.com/v1/projects/earthengine-legacy/thumbnails/12514fcf09612583081a6622b9088bc5-7d2d8dc8fb35fbc32e560624f402dbc9:getPixels\n",
      "Please wait ...\n",
      "Data downloaded to D:\\Madagascar\\Data\\RiverMapping\\RiverMasks\\Betsiboka\\reach_2\\Raw\\Betsiboka_reach_2_2018_DSWE_level_3.tif\n",
      "RAW: Successfully exported D:\\Madagascar\\Data\\RiverMapping\\RiverMasks\\Betsiboka\\reach_2\\Raw\\Betsiboka_reach_2_2018_DSWE_level_3.tif.\n"
     ]
    },
    {
     "name": "stderr",
     "output_type": "stream",
     "text": [
      "C:\\Users\\huckr\\AppData\\Local\\Temp\\ipykernel_22020\\949864737.py:469: UserWarning: Geometry is in a geographic CRS. Results from 'centroid' are likely incorrect. Use 'GeoSeries.to_crs()' to re-project geometries to a projected CRS before this operation.\n",
      "\n",
      "  centroid = grwl_reach_dissolved.geometry.centroid.iloc[0]\n"
     ]
    },
    {
     "name": "stdout",
     "output_type": "stream",
     "text": [
      "Raster successfully saved with compression to: D:\\Madagascar\\Data\\RiverMapping\\RiverMasks\\Betsiboka\\reach_2\\Processed\\Betsiboka_reach_2_2018_DSWE_level_3.tif\n",
      "Processed raster saved to: D:\\Madagascar\\Data\\RiverMapping\\RiverMasks\\Betsiboka\\reach_2\\Processed\\Betsiboka_reach_2_2018_DSWE_level_3.tif\n",
      "PROCESSED: Exported Betsiboka_reach_2_2018_DSWE_level_3.tif to D:\\Madagascar\\Data\\RiverMapping\\RiverMasks\\Betsiboka\\reach_2\\Processed.\n",
      "Generating URL ...\n",
      "Downloading data from https://earthengine.googleapis.com/v1/projects/earthengine-legacy/thumbnails/f72d9e3f5f7c4fa86fb36914d04b57e8-03b01c407bf703a62aa3578ed447f7c8:getPixels\n",
      "Please wait ...\n",
      "Data downloaded to D:\\Madagascar\\Data\\RiverMapping\\RiverMasks\\Betsiboka\\reach_2\\Raw\\Betsiboka_reach_2_2019_DSWE_level_3.tif\n",
      "RAW: Successfully exported D:\\Madagascar\\Data\\RiverMapping\\RiverMasks\\Betsiboka\\reach_2\\Raw\\Betsiboka_reach_2_2019_DSWE_level_3.tif.\n"
     ]
    },
    {
     "name": "stderr",
     "output_type": "stream",
     "text": [
      "C:\\Users\\huckr\\AppData\\Local\\Temp\\ipykernel_22020\\949864737.py:469: UserWarning: Geometry is in a geographic CRS. Results from 'centroid' are likely incorrect. Use 'GeoSeries.to_crs()' to re-project geometries to a projected CRS before this operation.\n",
      "\n",
      "  centroid = grwl_reach_dissolved.geometry.centroid.iloc[0]\n"
     ]
    },
    {
     "name": "stdout",
     "output_type": "stream",
     "text": [
      "Raster successfully saved with compression to: D:\\Madagascar\\Data\\RiverMapping\\RiverMasks\\Betsiboka\\reach_2\\Processed\\Betsiboka_reach_2_2019_DSWE_level_3.tif\n",
      "Processed raster saved to: D:\\Madagascar\\Data\\RiverMapping\\RiverMasks\\Betsiboka\\reach_2\\Processed\\Betsiboka_reach_2_2019_DSWE_level_3.tif\n",
      "PROCESSED: Exported Betsiboka_reach_2_2019_DSWE_level_3.tif to D:\\Madagascar\\Data\\RiverMapping\\RiverMasks\\Betsiboka\\reach_2\\Processed.\n",
      "Generating URL ...\n",
      "Downloading data from https://earthengine.googleapis.com/v1/projects/earthengine-legacy/thumbnails/e07fec3dae0ba6fa2999eac73ea0b103-1dfa69d324bb906b481718b6426c4501:getPixels\n",
      "Please wait ...\n",
      "Data downloaded to D:\\Madagascar\\Data\\RiverMapping\\RiverMasks\\Betsiboka\\reach_2\\Raw\\Betsiboka_reach_2_2020_DSWE_level_3.tif\n",
      "RAW: Successfully exported D:\\Madagascar\\Data\\RiverMapping\\RiverMasks\\Betsiboka\\reach_2\\Raw\\Betsiboka_reach_2_2020_DSWE_level_3.tif.\n"
     ]
    },
    {
     "name": "stderr",
     "output_type": "stream",
     "text": [
      "C:\\Users\\huckr\\AppData\\Local\\Temp\\ipykernel_22020\\949864737.py:469: UserWarning: Geometry is in a geographic CRS. Results from 'centroid' are likely incorrect. Use 'GeoSeries.to_crs()' to re-project geometries to a projected CRS before this operation.\n",
      "\n",
      "  centroid = grwl_reach_dissolved.geometry.centroid.iloc[0]\n"
     ]
    },
    {
     "name": "stdout",
     "output_type": "stream",
     "text": [
      "Raster successfully saved with compression to: D:\\Madagascar\\Data\\RiverMapping\\RiverMasks\\Betsiboka\\reach_2\\Processed\\Betsiboka_reach_2_2020_DSWE_level_3.tif\n",
      "Processed raster saved to: D:\\Madagascar\\Data\\RiverMapping\\RiverMasks\\Betsiboka\\reach_2\\Processed\\Betsiboka_reach_2_2020_DSWE_level_3.tif\n",
      "PROCESSED: Exported Betsiboka_reach_2_2020_DSWE_level_3.tif to D:\\Madagascar\\Data\\RiverMapping\\RiverMasks\\Betsiboka\\reach_2\\Processed.\n",
      "Generating URL ...\n",
      "Downloading data from https://earthengine.googleapis.com/v1/projects/earthengine-legacy/thumbnails/b7478f43ddcff9e335eddb3c94f2d93b-d096628c1396f45428515bae41fd94d6:getPixels\n",
      "Please wait ...\n",
      "Data downloaded to D:\\Madagascar\\Data\\RiverMapping\\RiverMasks\\Betsiboka\\reach_2\\Raw\\Betsiboka_reach_2_2021_DSWE_level_3.tif\n",
      "RAW: Successfully exported D:\\Madagascar\\Data\\RiverMapping\\RiverMasks\\Betsiboka\\reach_2\\Raw\\Betsiboka_reach_2_2021_DSWE_level_3.tif.\n"
     ]
    },
    {
     "name": "stderr",
     "output_type": "stream",
     "text": [
      "C:\\Users\\huckr\\AppData\\Local\\Temp\\ipykernel_22020\\949864737.py:469: UserWarning: Geometry is in a geographic CRS. Results from 'centroid' are likely incorrect. Use 'GeoSeries.to_crs()' to re-project geometries to a projected CRS before this operation.\n",
      "\n",
      "  centroid = grwl_reach_dissolved.geometry.centroid.iloc[0]\n"
     ]
    },
    {
     "name": "stdout",
     "output_type": "stream",
     "text": [
      "Raster successfully saved with compression to: D:\\Madagascar\\Data\\RiverMapping\\RiverMasks\\Betsiboka\\reach_2\\Processed\\Betsiboka_reach_2_2021_DSWE_level_3.tif\n",
      "Processed raster saved to: D:\\Madagascar\\Data\\RiverMapping\\RiverMasks\\Betsiboka\\reach_2\\Processed\\Betsiboka_reach_2_2021_DSWE_level_3.tif\n",
      "PROCESSED: Exported Betsiboka_reach_2_2021_DSWE_level_3.tif to D:\\Madagascar\\Data\\RiverMapping\\RiverMasks\\Betsiboka\\reach_2\\Processed.\n",
      "Generating URL ...\n",
      "Downloading data from https://earthengine.googleapis.com/v1/projects/earthengine-legacy/thumbnails/a603ddba9d49ebfb8b11dff86b53a0bd-a7eeeb78a8945fabd897946500df25c2:getPixels\n",
      "Please wait ...\n",
      "Data downloaded to D:\\Madagascar\\Data\\RiverMapping\\RiverMasks\\Betsiboka\\reach_2\\Raw\\Betsiboka_reach_2_2022_DSWE_level_3.tif\n",
      "RAW: Successfully exported D:\\Madagascar\\Data\\RiverMapping\\RiverMasks\\Betsiboka\\reach_2\\Raw\\Betsiboka_reach_2_2022_DSWE_level_3.tif.\n"
     ]
    },
    {
     "name": "stderr",
     "output_type": "stream",
     "text": [
      "C:\\Users\\huckr\\AppData\\Local\\Temp\\ipykernel_22020\\949864737.py:469: UserWarning: Geometry is in a geographic CRS. Results from 'centroid' are likely incorrect. Use 'GeoSeries.to_crs()' to re-project geometries to a projected CRS before this operation.\n",
      "\n",
      "  centroid = grwl_reach_dissolved.geometry.centroid.iloc[0]\n"
     ]
    },
    {
     "name": "stdout",
     "output_type": "stream",
     "text": [
      "Raster successfully saved with compression to: D:\\Madagascar\\Data\\RiverMapping\\RiverMasks\\Betsiboka\\reach_2\\Processed\\Betsiboka_reach_2_2022_DSWE_level_3.tif\n",
      "Processed raster saved to: D:\\Madagascar\\Data\\RiverMapping\\RiverMasks\\Betsiboka\\reach_2\\Processed\\Betsiboka_reach_2_2022_DSWE_level_3.tif\n",
      "PROCESSED: Exported Betsiboka_reach_2_2022_DSWE_level_3.tif to D:\\Madagascar\\Data\\RiverMapping\\RiverMasks\\Betsiboka\\reach_2\\Processed.\n",
      "Generating URL ...\n",
      "Downloading data from https://earthengine.googleapis.com/v1/projects/earthengine-legacy/thumbnails/83e7a8d599c2405a9361a75260f6fa38-7a6d2af333ec9d6debe8bd169672fb15:getPixels\n",
      "Please wait ...\n",
      "Data downloaded to D:\\Madagascar\\Data\\RiverMapping\\RiverMasks\\Betsiboka\\reach_2\\Raw\\Betsiboka_reach_2_2023_DSWE_level_3.tif\n",
      "RAW: Successfully exported D:\\Madagascar\\Data\\RiverMapping\\RiverMasks\\Betsiboka\\reach_2\\Raw\\Betsiboka_reach_2_2023_DSWE_level_3.tif.\n"
     ]
    },
    {
     "name": "stderr",
     "output_type": "stream",
     "text": [
      "C:\\Users\\huckr\\AppData\\Local\\Temp\\ipykernel_22020\\949864737.py:469: UserWarning: Geometry is in a geographic CRS. Results from 'centroid' are likely incorrect. Use 'GeoSeries.to_crs()' to re-project geometries to a projected CRS before this operation.\n",
      "\n",
      "  centroid = grwl_reach_dissolved.geometry.centroid.iloc[0]\n"
     ]
    },
    {
     "name": "stdout",
     "output_type": "stream",
     "text": [
      "Raster successfully saved with compression to: D:\\Madagascar\\Data\\RiverMapping\\RiverMasks\\Betsiboka\\reach_2\\Processed\\Betsiboka_reach_2_2023_DSWE_level_3.tif\n",
      "Processed raster saved to: D:\\Madagascar\\Data\\RiverMapping\\RiverMasks\\Betsiboka\\reach_2\\Processed\\Betsiboka_reach_2_2023_DSWE_level_3.tif\n",
      "PROCESSED: Exported Betsiboka_reach_2_2023_DSWE_level_3.tif to D:\\Madagascar\\Data\\RiverMapping\\RiverMasks\\Betsiboka\\reach_2\\Processed.\n",
      "Generating URL ...\n",
      "Downloading data from https://earthengine.googleapis.com/v1/projects/earthengine-legacy/thumbnails/9ab9f2845c09b3c99c23180fa55fb4c4-805b5d60a5b2b00ef2593afb2c94a41d:getPixels\n",
      "Please wait ...\n",
      "Data downloaded to D:\\Madagascar\\Data\\RiverMapping\\RiverMasks\\Betsiboka\\reach_2\\Raw\\Betsiboka_reach_2_2024_DSWE_level_3.tif\n",
      "RAW: Successfully exported D:\\Madagascar\\Data\\RiverMapping\\RiverMasks\\Betsiboka\\reach_2\\Raw\\Betsiboka_reach_2_2024_DSWE_level_3.tif.\n"
     ]
    },
    {
     "name": "stderr",
     "output_type": "stream",
     "text": [
      "C:\\Users\\huckr\\AppData\\Local\\Temp\\ipykernel_22020\\949864737.py:469: UserWarning: Geometry is in a geographic CRS. Results from 'centroid' are likely incorrect. Use 'GeoSeries.to_crs()' to re-project geometries to a projected CRS before this operation.\n",
      "\n",
      "  centroid = grwl_reach_dissolved.geometry.centroid.iloc[0]\n"
     ]
    },
    {
     "name": "stdout",
     "output_type": "stream",
     "text": [
      "Raster successfully saved with compression to: D:\\Madagascar\\Data\\RiverMapping\\RiverMasks\\Betsiboka\\reach_2\\Processed\\Betsiboka_reach_2_2024_DSWE_level_3.tif\n",
      "Processed raster saved to: D:\\Madagascar\\Data\\RiverMapping\\RiverMasks\\Betsiboka\\reach_2\\Processed\\Betsiboka_reach_2_2024_DSWE_level_3.tif\n",
      "PROCESSED: Exported Betsiboka_reach_2_2024_DSWE_level_3.tif to D:\\Madagascar\\Data\\RiverMapping\\RiverMasks\\Betsiboka\\reach_2\\Processed.\n",
      "Generating URL ...\n",
      "Downloading data from https://earthengine.googleapis.com/v1/projects/earthengine-legacy/thumbnails/f157ff8685d581400ffb5badb10b9296-446834a13f93f52101158a31cb65f9e5:getPixels\n",
      "Please wait ...\n",
      "Data downloaded to D:\\Madagascar\\Data\\RiverMapping\\RiverMasks\\Betsiboka\\reach_2\\Raw\\Betsiboka_reach_2_2025_DSWE_level_3.tif\n",
      "RAW: Successfully exported D:\\Madagascar\\Data\\RiverMapping\\RiverMasks\\Betsiboka\\reach_2\\Raw\\Betsiboka_reach_2_2025_DSWE_level_3.tif.\n"
     ]
    },
    {
     "name": "stderr",
     "output_type": "stream",
     "text": [
      "C:\\Users\\huckr\\AppData\\Local\\Temp\\ipykernel_22020\\949864737.py:469: UserWarning: Geometry is in a geographic CRS. Results from 'centroid' are likely incorrect. Use 'GeoSeries.to_crs()' to re-project geometries to a projected CRS before this operation.\n",
      "\n",
      "  centroid = grwl_reach_dissolved.geometry.centroid.iloc[0]\n"
     ]
    },
    {
     "name": "stdout",
     "output_type": "stream",
     "text": [
      "Raster successfully saved with compression to: D:\\Madagascar\\Data\\RiverMapping\\RiverMasks\\Betsiboka\\reach_2\\Processed\\Betsiboka_reach_2_2025_DSWE_level_3.tif\n",
      "Processed raster saved to: D:\\Madagascar\\Data\\RiverMapping\\RiverMasks\\Betsiboka\\reach_2\\Processed\\Betsiboka_reach_2_2025_DSWE_level_3.tif\n",
      "PROCESSED: Exported Betsiboka_reach_2_2025_DSWE_level_3.tif to D:\\Madagascar\\Data\\RiverMapping\\RiverMasks\\Betsiboka\\reach_2\\Processed.\n",
      "Generating URL ...\n",
      "Downloading data from https://earthengine.googleapis.com/v1/projects/earthengine-legacy/thumbnails/7e954bcb7e96a90e6a4ee11509e8562d-db829cae8e64a03f598e0fa3ec29f56b:getPixels\n",
      "Please wait ...\n",
      "Data downloaded to D:\\Madagascar\\Data\\RiverMapping\\RiverMasks\\Betsiboka\\reach_1\\Raw\\Betsiboka_reach_1_1984_DSWE_level_3.tif\n",
      "RAW: Successfully exported D:\\Madagascar\\Data\\RiverMapping\\RiverMasks\\Betsiboka\\reach_1\\Raw\\Betsiboka_reach_1_1984_DSWE_level_3.tif.\n"
     ]
    },
    {
     "name": "stderr",
     "output_type": "stream",
     "text": [
      "C:\\Users\\huckr\\AppData\\Local\\Temp\\ipykernel_22020\\949864737.py:469: UserWarning: Geometry is in a geographic CRS. Results from 'centroid' are likely incorrect. Use 'GeoSeries.to_crs()' to re-project geometries to a projected CRS before this operation.\n",
      "\n",
      "  centroid = grwl_reach_dissolved.geometry.centroid.iloc[0]\n"
     ]
    },
    {
     "name": "stdout",
     "output_type": "stream",
     "text": [
      "Raster successfully saved with compression to: D:\\Madagascar\\Data\\RiverMapping\\RiverMasks\\Betsiboka\\reach_1\\Processed\\Betsiboka_reach_1_1984_DSWE_level_3.tif\n",
      "Processed raster saved to: D:\\Madagascar\\Data\\RiverMapping\\RiverMasks\\Betsiboka\\reach_1\\Processed\\Betsiboka_reach_1_1984_DSWE_level_3.tif\n",
      "PROCESSED: Exported Betsiboka_reach_1_1984_DSWE_level_3.tif to D:\\Madagascar\\Data\\RiverMapping\\RiverMasks\\Betsiboka\\reach_1\\Processed.\n",
      "Generating URL ...\n",
      "Downloading data from https://earthengine.googleapis.com/v1/projects/earthengine-legacy/thumbnails/2830b514ccb6f5af364038655f0e4285-719ba258c94568ab3de7b1a74ed31ca7:getPixels\n",
      "Please wait ...\n",
      "Data downloaded to D:\\Madagascar\\Data\\RiverMapping\\RiverMasks\\Betsiboka\\reach_1\\Raw\\Betsiboka_reach_1_1985_DSWE_level_3.tif\n",
      "RAW: Successfully exported D:\\Madagascar\\Data\\RiverMapping\\RiverMasks\\Betsiboka\\reach_1\\Raw\\Betsiboka_reach_1_1985_DSWE_level_3.tif.\n"
     ]
    },
    {
     "name": "stderr",
     "output_type": "stream",
     "text": [
      "C:\\Users\\huckr\\AppData\\Local\\Temp\\ipykernel_22020\\949864737.py:469: UserWarning: Geometry is in a geographic CRS. Results from 'centroid' are likely incorrect. Use 'GeoSeries.to_crs()' to re-project geometries to a projected CRS before this operation.\n",
      "\n",
      "  centroid = grwl_reach_dissolved.geometry.centroid.iloc[0]\n"
     ]
    },
    {
     "name": "stdout",
     "output_type": "stream",
     "text": [
      "Raster successfully saved with compression to: D:\\Madagascar\\Data\\RiverMapping\\RiverMasks\\Betsiboka\\reach_1\\Processed\\Betsiboka_reach_1_1985_DSWE_level_3.tif\n",
      "Processed raster saved to: D:\\Madagascar\\Data\\RiverMapping\\RiverMasks\\Betsiboka\\reach_1\\Processed\\Betsiboka_reach_1_1985_DSWE_level_3.tif\n",
      "PROCESSED: Exported Betsiboka_reach_1_1985_DSWE_level_3.tif to D:\\Madagascar\\Data\\RiverMapping\\RiverMasks\\Betsiboka\\reach_1\\Processed.\n",
      "Generating URL ...\n",
      "An error occurred while downloading.\n",
      "Image.select: Band pattern 'Nir' was applied to an Image with no bands. See https://developers.google.com/earth-engine/guides/debugging#no-bands\n",
      "Export failed: File D:\\Madagascar\\Data\\RiverMapping\\RiverMasks\\Betsiboka\\reach_1\\Raw\\Betsiboka_reach_1_1986_DSWE_level_3.tif not found.\n",
      "Export failed for Betsiboka_reach_1_1986_DSWE_level_3.tif, attempting tiling...\n",
      "Generating URL ...\n",
      "An error occurred while downloading.\n",
      "Image.select: Band pattern 'Nir' was applied to an Image with no bands. See https://developers.google.com/earth-engine/guides/debugging#no-bands\n",
      "Export failed: File D:\\Madagascar\\Data\\RiverMapping\\RiverMasks\\Betsiboka\\reach_1\\Raw\\Betsiboka_reach_1_1986_tile_0_DSWE_level_3.tif not found.\n",
      "No tiles found for stitching.\n",
      "Failed to export Betsiboka_reach_1_1986_DSWE_level_3.tif. Error: D:/Madagascar/Data/RiverMapping/RiverMasks/Betsiboka/reach_1/Raw/Betsiboka_reach_1_1986_DSWE_level_3.tif: No such file or directory\n",
      "Generating URL ...\n",
      "Downloading data from https://earthengine.googleapis.com/v1/projects/earthengine-legacy/thumbnails/c7c3ff8b8d6a9e7eca868a815a5c6fd6-7134b956fefd8d45c95fd06b36b18aa7:getPixels\n",
      "Please wait ...\n",
      "Data downloaded to D:\\Madagascar\\Data\\RiverMapping\\RiverMasks\\Betsiboka\\reach_1\\Raw\\Betsiboka_reach_1_1987_DSWE_level_3.tif\n",
      "RAW: Successfully exported D:\\Madagascar\\Data\\RiverMapping\\RiverMasks\\Betsiboka\\reach_1\\Raw\\Betsiboka_reach_1_1987_DSWE_level_3.tif.\n"
     ]
    },
    {
     "name": "stderr",
     "output_type": "stream",
     "text": [
      "C:\\Users\\huckr\\AppData\\Local\\Temp\\ipykernel_22020\\949864737.py:469: UserWarning: Geometry is in a geographic CRS. Results from 'centroid' are likely incorrect. Use 'GeoSeries.to_crs()' to re-project geometries to a projected CRS before this operation.\n",
      "\n",
      "  centroid = grwl_reach_dissolved.geometry.centroid.iloc[0]\n"
     ]
    },
    {
     "name": "stdout",
     "output_type": "stream",
     "text": [
      "Raster successfully saved with compression to: D:\\Madagascar\\Data\\RiverMapping\\RiverMasks\\Betsiboka\\reach_1\\Processed\\Betsiboka_reach_1_1987_DSWE_level_3.tif\n",
      "Processed raster saved to: D:\\Madagascar\\Data\\RiverMapping\\RiverMasks\\Betsiboka\\reach_1\\Processed\\Betsiboka_reach_1_1987_DSWE_level_3.tif\n",
      "PROCESSED: Exported Betsiboka_reach_1_1987_DSWE_level_3.tif to D:\\Madagascar\\Data\\RiverMapping\\RiverMasks\\Betsiboka\\reach_1\\Processed.\n",
      "Generating URL ...\n",
      "An error occurred while downloading.\n",
      "Image.select: Band pattern 'Nir' was applied to an Image with no bands. See https://developers.google.com/earth-engine/guides/debugging#no-bands\n",
      "Export failed: File D:\\Madagascar\\Data\\RiverMapping\\RiverMasks\\Betsiboka\\reach_1\\Raw\\Betsiboka_reach_1_1988_DSWE_level_3.tif not found.\n",
      "Export failed for Betsiboka_reach_1_1988_DSWE_level_3.tif, attempting tiling...\n",
      "Generating URL ...\n",
      "An error occurred while downloading.\n",
      "Image.select: Band pattern 'Nir' was applied to an Image with no bands. See https://developers.google.com/earth-engine/guides/debugging#no-bands\n",
      "Export failed: File D:\\Madagascar\\Data\\RiverMapping\\RiverMasks\\Betsiboka\\reach_1\\Raw\\Betsiboka_reach_1_1988_tile_0_DSWE_level_3.tif not found.\n",
      "No tiles found for stitching.\n",
      "Failed to export Betsiboka_reach_1_1988_DSWE_level_3.tif. Error: D:/Madagascar/Data/RiverMapping/RiverMasks/Betsiboka/reach_1/Raw/Betsiboka_reach_1_1988_DSWE_level_3.tif: No such file or directory\n",
      "Generating URL ...\n",
      "Downloading data from https://earthengine.googleapis.com/v1/projects/earthengine-legacy/thumbnails/6126c3ea707d244e7c433439eef829fc-67524ae00581e0d8413d161b1a8371f5:getPixels\n",
      "Please wait ...\n",
      "Data downloaded to D:\\Madagascar\\Data\\RiverMapping\\RiverMasks\\Betsiboka\\reach_1\\Raw\\Betsiboka_reach_1_1989_DSWE_level_3.tif\n",
      "RAW: Successfully exported D:\\Madagascar\\Data\\RiverMapping\\RiverMasks\\Betsiboka\\reach_1\\Raw\\Betsiboka_reach_1_1989_DSWE_level_3.tif.\n"
     ]
    },
    {
     "name": "stderr",
     "output_type": "stream",
     "text": [
      "C:\\Users\\huckr\\AppData\\Local\\Temp\\ipykernel_22020\\949864737.py:469: UserWarning: Geometry is in a geographic CRS. Results from 'centroid' are likely incorrect. Use 'GeoSeries.to_crs()' to re-project geometries to a projected CRS before this operation.\n",
      "\n",
      "  centroid = grwl_reach_dissolved.geometry.centroid.iloc[0]\n"
     ]
    },
    {
     "name": "stdout",
     "output_type": "stream",
     "text": [
      "Raster successfully saved with compression to: D:\\Madagascar\\Data\\RiverMapping\\RiverMasks\\Betsiboka\\reach_1\\Processed\\Betsiboka_reach_1_1989_DSWE_level_3.tif\n",
      "Processed raster saved to: D:\\Madagascar\\Data\\RiverMapping\\RiverMasks\\Betsiboka\\reach_1\\Processed\\Betsiboka_reach_1_1989_DSWE_level_3.tif\n",
      "PROCESSED: Exported Betsiboka_reach_1_1989_DSWE_level_3.tif to D:\\Madagascar\\Data\\RiverMapping\\RiverMasks\\Betsiboka\\reach_1\\Processed.\n",
      "Generating URL ...\n",
      "Downloading data from https://earthengine.googleapis.com/v1/projects/earthengine-legacy/thumbnails/195ff0e9253fa200366c3bf7f1705f05-48457f8325f76e7690d58be478e49c9d:getPixels\n",
      "Please wait ...\n",
      "Data downloaded to D:\\Madagascar\\Data\\RiverMapping\\RiverMasks\\Betsiboka\\reach_1\\Raw\\Betsiboka_reach_1_1990_DSWE_level_3.tif\n",
      "RAW: Successfully exported D:\\Madagascar\\Data\\RiverMapping\\RiverMasks\\Betsiboka\\reach_1\\Raw\\Betsiboka_reach_1_1990_DSWE_level_3.tif.\n"
     ]
    },
    {
     "name": "stderr",
     "output_type": "stream",
     "text": [
      "C:\\Users\\huckr\\AppData\\Local\\Temp\\ipykernel_22020\\949864737.py:469: UserWarning: Geometry is in a geographic CRS. Results from 'centroid' are likely incorrect. Use 'GeoSeries.to_crs()' to re-project geometries to a projected CRS before this operation.\n",
      "\n",
      "  centroid = grwl_reach_dissolved.geometry.centroid.iloc[0]\n"
     ]
    },
    {
     "name": "stdout",
     "output_type": "stream",
     "text": [
      "Raster successfully saved with compression to: D:\\Madagascar\\Data\\RiverMapping\\RiverMasks\\Betsiboka\\reach_1\\Processed\\Betsiboka_reach_1_1990_DSWE_level_3.tif\n",
      "Processed raster saved to: D:\\Madagascar\\Data\\RiverMapping\\RiverMasks\\Betsiboka\\reach_1\\Processed\\Betsiboka_reach_1_1990_DSWE_level_3.tif\n",
      "PROCESSED: Exported Betsiboka_reach_1_1990_DSWE_level_3.tif to D:\\Madagascar\\Data\\RiverMapping\\RiverMasks\\Betsiboka\\reach_1\\Processed.\n",
      "Generating URL ...\n",
      "Downloading data from https://earthengine.googleapis.com/v1/projects/earthengine-legacy/thumbnails/e2b73ea50de673b6d8a41ccb77791fc3-3238c517a663a461d8dcd8b3c0904c53:getPixels\n",
      "Please wait ...\n",
      "Data downloaded to D:\\Madagascar\\Data\\RiverMapping\\RiverMasks\\Betsiboka\\reach_1\\Raw\\Betsiboka_reach_1_1991_DSWE_level_3.tif\n",
      "RAW: Successfully exported D:\\Madagascar\\Data\\RiverMapping\\RiverMasks\\Betsiboka\\reach_1\\Raw\\Betsiboka_reach_1_1991_DSWE_level_3.tif.\n"
     ]
    },
    {
     "name": "stderr",
     "output_type": "stream",
     "text": [
      "C:\\Users\\huckr\\AppData\\Local\\Temp\\ipykernel_22020\\949864737.py:469: UserWarning: Geometry is in a geographic CRS. Results from 'centroid' are likely incorrect. Use 'GeoSeries.to_crs()' to re-project geometries to a projected CRS before this operation.\n",
      "\n",
      "  centroid = grwl_reach_dissolved.geometry.centroid.iloc[0]\n"
     ]
    },
    {
     "name": "stdout",
     "output_type": "stream",
     "text": [
      "Raster successfully saved with compression to: D:\\Madagascar\\Data\\RiverMapping\\RiverMasks\\Betsiboka\\reach_1\\Processed\\Betsiboka_reach_1_1991_DSWE_level_3.tif\n",
      "Processed raster saved to: D:\\Madagascar\\Data\\RiverMapping\\RiverMasks\\Betsiboka\\reach_1\\Processed\\Betsiboka_reach_1_1991_DSWE_level_3.tif\n",
      "PROCESSED: Exported Betsiboka_reach_1_1991_DSWE_level_3.tif to D:\\Madagascar\\Data\\RiverMapping\\RiverMasks\\Betsiboka\\reach_1\\Processed.\n",
      "Generating URL ...\n",
      "Downloading data from https://earthengine.googleapis.com/v1/projects/earthengine-legacy/thumbnails/0f45d5194f158e62155807b85ddf3550-e3064a52cdf12ddf7b03e20fa68b82ec:getPixels\n",
      "Please wait ...\n",
      "Data downloaded to D:\\Madagascar\\Data\\RiverMapping\\RiverMasks\\Betsiboka\\reach_1\\Raw\\Betsiboka_reach_1_1992_DSWE_level_3.tif\n",
      "RAW: Successfully exported D:\\Madagascar\\Data\\RiverMapping\\RiverMasks\\Betsiboka\\reach_1\\Raw\\Betsiboka_reach_1_1992_DSWE_level_3.tif.\n"
     ]
    },
    {
     "name": "stderr",
     "output_type": "stream",
     "text": [
      "C:\\Users\\huckr\\AppData\\Local\\Temp\\ipykernel_22020\\949864737.py:469: UserWarning: Geometry is in a geographic CRS. Results from 'centroid' are likely incorrect. Use 'GeoSeries.to_crs()' to re-project geometries to a projected CRS before this operation.\n",
      "\n",
      "  centroid = grwl_reach_dissolved.geometry.centroid.iloc[0]\n"
     ]
    },
    {
     "name": "stdout",
     "output_type": "stream",
     "text": [
      "Raster successfully saved with compression to: D:\\Madagascar\\Data\\RiverMapping\\RiverMasks\\Betsiboka\\reach_1\\Processed\\Betsiboka_reach_1_1992_DSWE_level_3.tif\n",
      "Processed raster saved to: D:\\Madagascar\\Data\\RiverMapping\\RiverMasks\\Betsiboka\\reach_1\\Processed\\Betsiboka_reach_1_1992_DSWE_level_3.tif\n",
      "PROCESSED: Exported Betsiboka_reach_1_1992_DSWE_level_3.tif to D:\\Madagascar\\Data\\RiverMapping\\RiverMasks\\Betsiboka\\reach_1\\Processed.\n",
      "Generating URL ...\n",
      "Downloading data from https://earthengine.googleapis.com/v1/projects/earthengine-legacy/thumbnails/5d11678f9c20f8bb66ffd0d4da710422-419ad7242ab6efb1121de7c176b1cfa8:getPixels\n",
      "Please wait ...\n",
      "Data downloaded to D:\\Madagascar\\Data\\RiverMapping\\RiverMasks\\Betsiboka\\reach_1\\Raw\\Betsiboka_reach_1_1993_DSWE_level_3.tif\n",
      "RAW: Successfully exported D:\\Madagascar\\Data\\RiverMapping\\RiverMasks\\Betsiboka\\reach_1\\Raw\\Betsiboka_reach_1_1993_DSWE_level_3.tif.\n"
     ]
    },
    {
     "name": "stderr",
     "output_type": "stream",
     "text": [
      "C:\\Users\\huckr\\AppData\\Local\\Temp\\ipykernel_22020\\949864737.py:469: UserWarning: Geometry is in a geographic CRS. Results from 'centroid' are likely incorrect. Use 'GeoSeries.to_crs()' to re-project geometries to a projected CRS before this operation.\n",
      "\n",
      "  centroid = grwl_reach_dissolved.geometry.centroid.iloc[0]\n"
     ]
    },
    {
     "name": "stdout",
     "output_type": "stream",
     "text": [
      "Raster successfully saved with compression to: D:\\Madagascar\\Data\\RiverMapping\\RiverMasks\\Betsiboka\\reach_1\\Processed\\Betsiboka_reach_1_1993_DSWE_level_3.tif\n",
      "Processed raster saved to: D:\\Madagascar\\Data\\RiverMapping\\RiverMasks\\Betsiboka\\reach_1\\Processed\\Betsiboka_reach_1_1993_DSWE_level_3.tif\n",
      "PROCESSED: Exported Betsiboka_reach_1_1993_DSWE_level_3.tif to D:\\Madagascar\\Data\\RiverMapping\\RiverMasks\\Betsiboka\\reach_1\\Processed.\n",
      "Generating URL ...\n",
      "Downloading data from https://earthengine.googleapis.com/v1/projects/earthengine-legacy/thumbnails/2324b949354112ee6ccad699a6967598-fa4b494149a88e4c84aab8bd30ce3135:getPixels\n",
      "Please wait ...\n",
      "Data downloaded to D:\\Madagascar\\Data\\RiverMapping\\RiverMasks\\Betsiboka\\reach_1\\Raw\\Betsiboka_reach_1_1994_DSWE_level_3.tif\n",
      "RAW: Successfully exported D:\\Madagascar\\Data\\RiverMapping\\RiverMasks\\Betsiboka\\reach_1\\Raw\\Betsiboka_reach_1_1994_DSWE_level_3.tif.\n"
     ]
    },
    {
     "name": "stderr",
     "output_type": "stream",
     "text": [
      "C:\\Users\\huckr\\AppData\\Local\\Temp\\ipykernel_22020\\949864737.py:469: UserWarning: Geometry is in a geographic CRS. Results from 'centroid' are likely incorrect. Use 'GeoSeries.to_crs()' to re-project geometries to a projected CRS before this operation.\n",
      "\n",
      "  centroid = grwl_reach_dissolved.geometry.centroid.iloc[0]\n"
     ]
    },
    {
     "name": "stdout",
     "output_type": "stream",
     "text": [
      "Raster successfully saved with compression to: D:\\Madagascar\\Data\\RiverMapping\\RiverMasks\\Betsiboka\\reach_1\\Processed\\Betsiboka_reach_1_1994_DSWE_level_3.tif\n",
      "Processed raster saved to: D:\\Madagascar\\Data\\RiverMapping\\RiverMasks\\Betsiboka\\reach_1\\Processed\\Betsiboka_reach_1_1994_DSWE_level_3.tif\n",
      "PROCESSED: Exported Betsiboka_reach_1_1994_DSWE_level_3.tif to D:\\Madagascar\\Data\\RiverMapping\\RiverMasks\\Betsiboka\\reach_1\\Processed.\n",
      "Generating URL ...\n",
      "Downloading data from https://earthengine.googleapis.com/v1/projects/earthengine-legacy/thumbnails/600599327c4e241b45aea2c7c919282a-033de247278a64146c11a1e4f21a8cb6:getPixels\n",
      "Please wait ...\n",
      "Data downloaded to D:\\Madagascar\\Data\\RiverMapping\\RiverMasks\\Betsiboka\\reach_1\\Raw\\Betsiboka_reach_1_1995_DSWE_level_3.tif\n",
      "RAW: Successfully exported D:\\Madagascar\\Data\\RiverMapping\\RiverMasks\\Betsiboka\\reach_1\\Raw\\Betsiboka_reach_1_1995_DSWE_level_3.tif.\n"
     ]
    },
    {
     "name": "stderr",
     "output_type": "stream",
     "text": [
      "C:\\Users\\huckr\\AppData\\Local\\Temp\\ipykernel_22020\\949864737.py:469: UserWarning: Geometry is in a geographic CRS. Results from 'centroid' are likely incorrect. Use 'GeoSeries.to_crs()' to re-project geometries to a projected CRS before this operation.\n",
      "\n",
      "  centroid = grwl_reach_dissolved.geometry.centroid.iloc[0]\n"
     ]
    },
    {
     "name": "stdout",
     "output_type": "stream",
     "text": [
      "Raster successfully saved with compression to: D:\\Madagascar\\Data\\RiverMapping\\RiverMasks\\Betsiboka\\reach_1\\Processed\\Betsiboka_reach_1_1995_DSWE_level_3.tif\n",
      "Processed raster saved to: D:\\Madagascar\\Data\\RiverMapping\\RiverMasks\\Betsiboka\\reach_1\\Processed\\Betsiboka_reach_1_1995_DSWE_level_3.tif\n",
      "PROCESSED: Exported Betsiboka_reach_1_1995_DSWE_level_3.tif to D:\\Madagascar\\Data\\RiverMapping\\RiverMasks\\Betsiboka\\reach_1\\Processed.\n",
      "Generating URL ...\n",
      "Downloading data from https://earthengine.googleapis.com/v1/projects/earthengine-legacy/thumbnails/ee351ca76cc98eb478e2113c682614d7-557dcbb2f934574d0d6f98798476ff58:getPixels\n",
      "Please wait ...\n",
      "Data downloaded to D:\\Madagascar\\Data\\RiverMapping\\RiverMasks\\Betsiboka\\reach_1\\Raw\\Betsiboka_reach_1_1996_DSWE_level_3.tif\n",
      "RAW: Successfully exported D:\\Madagascar\\Data\\RiverMapping\\RiverMasks\\Betsiboka\\reach_1\\Raw\\Betsiboka_reach_1_1996_DSWE_level_3.tif.\n"
     ]
    },
    {
     "name": "stderr",
     "output_type": "stream",
     "text": [
      "C:\\Users\\huckr\\AppData\\Local\\Temp\\ipykernel_22020\\949864737.py:469: UserWarning: Geometry is in a geographic CRS. Results from 'centroid' are likely incorrect. Use 'GeoSeries.to_crs()' to re-project geometries to a projected CRS before this operation.\n",
      "\n",
      "  centroid = grwl_reach_dissolved.geometry.centroid.iloc[0]\n"
     ]
    },
    {
     "name": "stdout",
     "output_type": "stream",
     "text": [
      "Raster successfully saved with compression to: D:\\Madagascar\\Data\\RiverMapping\\RiverMasks\\Betsiboka\\reach_1\\Processed\\Betsiboka_reach_1_1996_DSWE_level_3.tif\n",
      "Processed raster saved to: D:\\Madagascar\\Data\\RiverMapping\\RiverMasks\\Betsiboka\\reach_1\\Processed\\Betsiboka_reach_1_1996_DSWE_level_3.tif\n",
      "PROCESSED: Exported Betsiboka_reach_1_1996_DSWE_level_3.tif to D:\\Madagascar\\Data\\RiverMapping\\RiverMasks\\Betsiboka\\reach_1\\Processed.\n",
      "Generating URL ...\n",
      "Downloading data from https://earthengine.googleapis.com/v1/projects/earthengine-legacy/thumbnails/f51e862bfad61a203b1f2bf40ef3afc6-ca31bb0492df2e599b4035acf13df783:getPixels\n",
      "Please wait ...\n",
      "Data downloaded to D:\\Madagascar\\Data\\RiverMapping\\RiverMasks\\Betsiboka\\reach_1\\Raw\\Betsiboka_reach_1_1997_DSWE_level_3.tif\n",
      "RAW: Successfully exported D:\\Madagascar\\Data\\RiverMapping\\RiverMasks\\Betsiboka\\reach_1\\Raw\\Betsiboka_reach_1_1997_DSWE_level_3.tif.\n"
     ]
    },
    {
     "name": "stderr",
     "output_type": "stream",
     "text": [
      "C:\\Users\\huckr\\AppData\\Local\\Temp\\ipykernel_22020\\949864737.py:469: UserWarning: Geometry is in a geographic CRS. Results from 'centroid' are likely incorrect. Use 'GeoSeries.to_crs()' to re-project geometries to a projected CRS before this operation.\n",
      "\n",
      "  centroid = grwl_reach_dissolved.geometry.centroid.iloc[0]\n"
     ]
    },
    {
     "name": "stdout",
     "output_type": "stream",
     "text": [
      "Raster successfully saved with compression to: D:\\Madagascar\\Data\\RiverMapping\\RiverMasks\\Betsiboka\\reach_1\\Processed\\Betsiboka_reach_1_1997_DSWE_level_3.tif\n",
      "Processed raster saved to: D:\\Madagascar\\Data\\RiverMapping\\RiverMasks\\Betsiboka\\reach_1\\Processed\\Betsiboka_reach_1_1997_DSWE_level_3.tif\n",
      "PROCESSED: Exported Betsiboka_reach_1_1997_DSWE_level_3.tif to D:\\Madagascar\\Data\\RiverMapping\\RiverMasks\\Betsiboka\\reach_1\\Processed.\n",
      "Generating URL ...\n",
      "Downloading data from https://earthengine.googleapis.com/v1/projects/earthengine-legacy/thumbnails/3b56d905f45f28e29a9109c6583787b8-d0ebeb77c21743e8fff19a26aca07cd0:getPixels\n",
      "Please wait ...\n",
      "Data downloaded to D:\\Madagascar\\Data\\RiverMapping\\RiverMasks\\Betsiboka\\reach_1\\Raw\\Betsiboka_reach_1_1998_DSWE_level_3.tif\n",
      "RAW: Successfully exported D:\\Madagascar\\Data\\RiverMapping\\RiverMasks\\Betsiboka\\reach_1\\Raw\\Betsiboka_reach_1_1998_DSWE_level_3.tif.\n"
     ]
    },
    {
     "name": "stderr",
     "output_type": "stream",
     "text": [
      "C:\\Users\\huckr\\AppData\\Local\\Temp\\ipykernel_22020\\949864737.py:469: UserWarning: Geometry is in a geographic CRS. Results from 'centroid' are likely incorrect. Use 'GeoSeries.to_crs()' to re-project geometries to a projected CRS before this operation.\n",
      "\n",
      "  centroid = grwl_reach_dissolved.geometry.centroid.iloc[0]\n"
     ]
    },
    {
     "name": "stdout",
     "output_type": "stream",
     "text": [
      "Raster successfully saved with compression to: D:\\Madagascar\\Data\\RiverMapping\\RiverMasks\\Betsiboka\\reach_1\\Processed\\Betsiboka_reach_1_1998_DSWE_level_3.tif\n",
      "Processed raster saved to: D:\\Madagascar\\Data\\RiverMapping\\RiverMasks\\Betsiboka\\reach_1\\Processed\\Betsiboka_reach_1_1998_DSWE_level_3.tif\n",
      "PROCESSED: Exported Betsiboka_reach_1_1998_DSWE_level_3.tif to D:\\Madagascar\\Data\\RiverMapping\\RiverMasks\\Betsiboka\\reach_1\\Processed.\n",
      "Generating URL ...\n",
      "Downloading data from https://earthengine.googleapis.com/v1/projects/earthengine-legacy/thumbnails/7589664b11bbabf130929b70de317c0f-593bde005cc7a00d711e965418d98406:getPixels\n",
      "Please wait ...\n",
      "Data downloaded to D:\\Madagascar\\Data\\RiverMapping\\RiverMasks\\Betsiboka\\reach_1\\Raw\\Betsiboka_reach_1_1999_DSWE_level_3.tif\n",
      "RAW: Successfully exported D:\\Madagascar\\Data\\RiverMapping\\RiverMasks\\Betsiboka\\reach_1\\Raw\\Betsiboka_reach_1_1999_DSWE_level_3.tif.\n"
     ]
    },
    {
     "name": "stderr",
     "output_type": "stream",
     "text": [
      "C:\\Users\\huckr\\AppData\\Local\\Temp\\ipykernel_22020\\949864737.py:469: UserWarning: Geometry is in a geographic CRS. Results from 'centroid' are likely incorrect. Use 'GeoSeries.to_crs()' to re-project geometries to a projected CRS before this operation.\n",
      "\n",
      "  centroid = grwl_reach_dissolved.geometry.centroid.iloc[0]\n"
     ]
    },
    {
     "name": "stdout",
     "output_type": "stream",
     "text": [
      "Raster successfully saved with compression to: D:\\Madagascar\\Data\\RiverMapping\\RiverMasks\\Betsiboka\\reach_1\\Processed\\Betsiboka_reach_1_1999_DSWE_level_3.tif\n",
      "Processed raster saved to: D:\\Madagascar\\Data\\RiverMapping\\RiverMasks\\Betsiboka\\reach_1\\Processed\\Betsiboka_reach_1_1999_DSWE_level_3.tif\n",
      "PROCESSED: Exported Betsiboka_reach_1_1999_DSWE_level_3.tif to D:\\Madagascar\\Data\\RiverMapping\\RiverMasks\\Betsiboka\\reach_1\\Processed.\n",
      "Generating URL ...\n",
      "Downloading data from https://earthengine.googleapis.com/v1/projects/earthengine-legacy/thumbnails/b15dcdfef1547b7f5f7bb05c23a5cd87-91d1d9784626b2bb9b9ef08c00f6d1af:getPixels\n",
      "Please wait ...\n",
      "Data downloaded to D:\\Madagascar\\Data\\RiverMapping\\RiverMasks\\Betsiboka\\reach_1\\Raw\\Betsiboka_reach_1_2000_DSWE_level_3.tif\n",
      "RAW: Successfully exported D:\\Madagascar\\Data\\RiverMapping\\RiverMasks\\Betsiboka\\reach_1\\Raw\\Betsiboka_reach_1_2000_DSWE_level_3.tif.\n"
     ]
    },
    {
     "name": "stderr",
     "output_type": "stream",
     "text": [
      "C:\\Users\\huckr\\AppData\\Local\\Temp\\ipykernel_22020\\949864737.py:469: UserWarning: Geometry is in a geographic CRS. Results from 'centroid' are likely incorrect. Use 'GeoSeries.to_crs()' to re-project geometries to a projected CRS before this operation.\n",
      "\n",
      "  centroid = grwl_reach_dissolved.geometry.centroid.iloc[0]\n"
     ]
    },
    {
     "name": "stdout",
     "output_type": "stream",
     "text": [
      "Raster successfully saved with compression to: D:\\Madagascar\\Data\\RiverMapping\\RiverMasks\\Betsiboka\\reach_1\\Processed\\Betsiboka_reach_1_2000_DSWE_level_3.tif\n",
      "Processed raster saved to: D:\\Madagascar\\Data\\RiverMapping\\RiverMasks\\Betsiboka\\reach_1\\Processed\\Betsiboka_reach_1_2000_DSWE_level_3.tif\n",
      "PROCESSED: Exported Betsiboka_reach_1_2000_DSWE_level_3.tif to D:\\Madagascar\\Data\\RiverMapping\\RiverMasks\\Betsiboka\\reach_1\\Processed.\n",
      "Generating URL ...\n",
      "Downloading data from https://earthengine.googleapis.com/v1/projects/earthengine-legacy/thumbnails/492f5d40f8121e26a4b100ece4dd681e-2da53997b84a7875be7b6b588cd4decb:getPixels\n",
      "Please wait ...\n",
      "Data downloaded to D:\\Madagascar\\Data\\RiverMapping\\RiverMasks\\Betsiboka\\reach_1\\Raw\\Betsiboka_reach_1_2001_DSWE_level_3.tif\n",
      "RAW: Successfully exported D:\\Madagascar\\Data\\RiverMapping\\RiverMasks\\Betsiboka\\reach_1\\Raw\\Betsiboka_reach_1_2001_DSWE_level_3.tif.\n"
     ]
    },
    {
     "name": "stderr",
     "output_type": "stream",
     "text": [
      "C:\\Users\\huckr\\AppData\\Local\\Temp\\ipykernel_22020\\949864737.py:469: UserWarning: Geometry is in a geographic CRS. Results from 'centroid' are likely incorrect. Use 'GeoSeries.to_crs()' to re-project geometries to a projected CRS before this operation.\n",
      "\n",
      "  centroid = grwl_reach_dissolved.geometry.centroid.iloc[0]\n"
     ]
    },
    {
     "name": "stdout",
     "output_type": "stream",
     "text": [
      "Raster successfully saved with compression to: D:\\Madagascar\\Data\\RiverMapping\\RiverMasks\\Betsiboka\\reach_1\\Processed\\Betsiboka_reach_1_2001_DSWE_level_3.tif\n",
      "Processed raster saved to: D:\\Madagascar\\Data\\RiverMapping\\RiverMasks\\Betsiboka\\reach_1\\Processed\\Betsiboka_reach_1_2001_DSWE_level_3.tif\n",
      "PROCESSED: Exported Betsiboka_reach_1_2001_DSWE_level_3.tif to D:\\Madagascar\\Data\\RiverMapping\\RiverMasks\\Betsiboka\\reach_1\\Processed.\n",
      "Generating URL ...\n",
      "Downloading data from https://earthengine.googleapis.com/v1/projects/earthengine-legacy/thumbnails/67a5d438995337340704f0b0116a5a95-498e1e8930c55a168ba04b894294fdfb:getPixels\n",
      "Please wait ...\n",
      "Data downloaded to D:\\Madagascar\\Data\\RiverMapping\\RiverMasks\\Betsiboka\\reach_1\\Raw\\Betsiboka_reach_1_2002_DSWE_level_3.tif\n",
      "RAW: Successfully exported D:\\Madagascar\\Data\\RiverMapping\\RiverMasks\\Betsiboka\\reach_1\\Raw\\Betsiboka_reach_1_2002_DSWE_level_3.tif.\n"
     ]
    },
    {
     "name": "stderr",
     "output_type": "stream",
     "text": [
      "C:\\Users\\huckr\\AppData\\Local\\Temp\\ipykernel_22020\\949864737.py:469: UserWarning: Geometry is in a geographic CRS. Results from 'centroid' are likely incorrect. Use 'GeoSeries.to_crs()' to re-project geometries to a projected CRS before this operation.\n",
      "\n",
      "  centroid = grwl_reach_dissolved.geometry.centroid.iloc[0]\n"
     ]
    },
    {
     "name": "stdout",
     "output_type": "stream",
     "text": [
      "Raster successfully saved with compression to: D:\\Madagascar\\Data\\RiverMapping\\RiverMasks\\Betsiboka\\reach_1\\Processed\\Betsiboka_reach_1_2002_DSWE_level_3.tif\n",
      "Processed raster saved to: D:\\Madagascar\\Data\\RiverMapping\\RiverMasks\\Betsiboka\\reach_1\\Processed\\Betsiboka_reach_1_2002_DSWE_level_3.tif\n",
      "PROCESSED: Exported Betsiboka_reach_1_2002_DSWE_level_3.tif to D:\\Madagascar\\Data\\RiverMapping\\RiverMasks\\Betsiboka\\reach_1\\Processed.\n",
      "Generating URL ...\n",
      "Downloading data from https://earthengine.googleapis.com/v1/projects/earthengine-legacy/thumbnails/85f864b3bba88c14bfd9db6ca42e4df5-eeeb9d9b7a8565fedbe571991105efe1:getPixels\n",
      "Please wait ...\n",
      "Data downloaded to D:\\Madagascar\\Data\\RiverMapping\\RiverMasks\\Betsiboka\\reach_1\\Raw\\Betsiboka_reach_1_2003_DSWE_level_3.tif\n",
      "RAW: Successfully exported D:\\Madagascar\\Data\\RiverMapping\\RiverMasks\\Betsiboka\\reach_1\\Raw\\Betsiboka_reach_1_2003_DSWE_level_3.tif.\n"
     ]
    },
    {
     "name": "stderr",
     "output_type": "stream",
     "text": [
      "C:\\Users\\huckr\\AppData\\Local\\Temp\\ipykernel_22020\\949864737.py:469: UserWarning: Geometry is in a geographic CRS. Results from 'centroid' are likely incorrect. Use 'GeoSeries.to_crs()' to re-project geometries to a projected CRS before this operation.\n",
      "\n",
      "  centroid = grwl_reach_dissolved.geometry.centroid.iloc[0]\n"
     ]
    },
    {
     "name": "stdout",
     "output_type": "stream",
     "text": [
      "Raster successfully saved with compression to: D:\\Madagascar\\Data\\RiverMapping\\RiverMasks\\Betsiboka\\reach_1\\Processed\\Betsiboka_reach_1_2003_DSWE_level_3.tif\n",
      "Processed raster saved to: D:\\Madagascar\\Data\\RiverMapping\\RiverMasks\\Betsiboka\\reach_1\\Processed\\Betsiboka_reach_1_2003_DSWE_level_3.tif\n",
      "PROCESSED: Exported Betsiboka_reach_1_2003_DSWE_level_3.tif to D:\\Madagascar\\Data\\RiverMapping\\RiverMasks\\Betsiboka\\reach_1\\Processed.\n",
      "Generating URL ...\n",
      "Downloading data from https://earthengine.googleapis.com/v1/projects/earthengine-legacy/thumbnails/df188c8977464591afaf393348665485-ddf853d0ef8adbfe30280dd2f02a65de:getPixels\n",
      "Please wait ...\n",
      "Data downloaded to D:\\Madagascar\\Data\\RiverMapping\\RiverMasks\\Betsiboka\\reach_1\\Raw\\Betsiboka_reach_1_2004_DSWE_level_3.tif\n",
      "RAW: Successfully exported D:\\Madagascar\\Data\\RiverMapping\\RiverMasks\\Betsiboka\\reach_1\\Raw\\Betsiboka_reach_1_2004_DSWE_level_3.tif.\n"
     ]
    },
    {
     "name": "stderr",
     "output_type": "stream",
     "text": [
      "C:\\Users\\huckr\\AppData\\Local\\Temp\\ipykernel_22020\\949864737.py:469: UserWarning: Geometry is in a geographic CRS. Results from 'centroid' are likely incorrect. Use 'GeoSeries.to_crs()' to re-project geometries to a projected CRS before this operation.\n",
      "\n",
      "  centroid = grwl_reach_dissolved.geometry.centroid.iloc[0]\n"
     ]
    },
    {
     "name": "stdout",
     "output_type": "stream",
     "text": [
      "Raster successfully saved with compression to: D:\\Madagascar\\Data\\RiverMapping\\RiverMasks\\Betsiboka\\reach_1\\Processed\\Betsiboka_reach_1_2004_DSWE_level_3.tif\n",
      "Processed raster saved to: D:\\Madagascar\\Data\\RiverMapping\\RiverMasks\\Betsiboka\\reach_1\\Processed\\Betsiboka_reach_1_2004_DSWE_level_3.tif\n",
      "PROCESSED: Exported Betsiboka_reach_1_2004_DSWE_level_3.tif to D:\\Madagascar\\Data\\RiverMapping\\RiverMasks\\Betsiboka\\reach_1\\Processed.\n",
      "Generating URL ...\n",
      "Downloading data from https://earthengine.googleapis.com/v1/projects/earthengine-legacy/thumbnails/793b8e2b40cf5d1f6937e58c6f26b1e1-614d9aefe6593c9820a90842901991df:getPixels\n",
      "Please wait ...\n",
      "Data downloaded to D:\\Madagascar\\Data\\RiverMapping\\RiverMasks\\Betsiboka\\reach_1\\Raw\\Betsiboka_reach_1_2005_DSWE_level_3.tif\n",
      "RAW: Successfully exported D:\\Madagascar\\Data\\RiverMapping\\RiverMasks\\Betsiboka\\reach_1\\Raw\\Betsiboka_reach_1_2005_DSWE_level_3.tif.\n"
     ]
    },
    {
     "name": "stderr",
     "output_type": "stream",
     "text": [
      "C:\\Users\\huckr\\AppData\\Local\\Temp\\ipykernel_22020\\949864737.py:469: UserWarning: Geometry is in a geographic CRS. Results from 'centroid' are likely incorrect. Use 'GeoSeries.to_crs()' to re-project geometries to a projected CRS before this operation.\n",
      "\n",
      "  centroid = grwl_reach_dissolved.geometry.centroid.iloc[0]\n"
     ]
    },
    {
     "name": "stdout",
     "output_type": "stream",
     "text": [
      "Raster successfully saved with compression to: D:\\Madagascar\\Data\\RiverMapping\\RiverMasks\\Betsiboka\\reach_1\\Processed\\Betsiboka_reach_1_2005_DSWE_level_3.tif\n",
      "Processed raster saved to: D:\\Madagascar\\Data\\RiverMapping\\RiverMasks\\Betsiboka\\reach_1\\Processed\\Betsiboka_reach_1_2005_DSWE_level_3.tif\n",
      "PROCESSED: Exported Betsiboka_reach_1_2005_DSWE_level_3.tif to D:\\Madagascar\\Data\\RiverMapping\\RiverMasks\\Betsiboka\\reach_1\\Processed.\n",
      "Generating URL ...\n",
      "Downloading data from https://earthengine.googleapis.com/v1/projects/earthengine-legacy/thumbnails/28214abdda4aadbf0f277d542b5849bb-edb408e282f0b73e942fcfa9bb039393:getPixels\n",
      "Please wait ...\n",
      "Data downloaded to D:\\Madagascar\\Data\\RiverMapping\\RiverMasks\\Betsiboka\\reach_1\\Raw\\Betsiboka_reach_1_2006_DSWE_level_3.tif\n",
      "RAW: Successfully exported D:\\Madagascar\\Data\\RiverMapping\\RiverMasks\\Betsiboka\\reach_1\\Raw\\Betsiboka_reach_1_2006_DSWE_level_3.tif.\n"
     ]
    },
    {
     "name": "stderr",
     "output_type": "stream",
     "text": [
      "C:\\Users\\huckr\\AppData\\Local\\Temp\\ipykernel_22020\\949864737.py:469: UserWarning: Geometry is in a geographic CRS. Results from 'centroid' are likely incorrect. Use 'GeoSeries.to_crs()' to re-project geometries to a projected CRS before this operation.\n",
      "\n",
      "  centroid = grwl_reach_dissolved.geometry.centroid.iloc[0]\n"
     ]
    },
    {
     "name": "stdout",
     "output_type": "stream",
     "text": [
      "Raster successfully saved with compression to: D:\\Madagascar\\Data\\RiverMapping\\RiverMasks\\Betsiboka\\reach_1\\Processed\\Betsiboka_reach_1_2006_DSWE_level_3.tif\n",
      "Processed raster saved to: D:\\Madagascar\\Data\\RiverMapping\\RiverMasks\\Betsiboka\\reach_1\\Processed\\Betsiboka_reach_1_2006_DSWE_level_3.tif\n",
      "PROCESSED: Exported Betsiboka_reach_1_2006_DSWE_level_3.tif to D:\\Madagascar\\Data\\RiverMapping\\RiverMasks\\Betsiboka\\reach_1\\Processed.\n",
      "Generating URL ...\n",
      "Downloading data from https://earthengine.googleapis.com/v1/projects/earthengine-legacy/thumbnails/bc707e8bf475d6b8367394234765d52e-ea766c3c892bdec0054db5dbe847aa45:getPixels\n",
      "Please wait ...\n",
      "Data downloaded to D:\\Madagascar\\Data\\RiverMapping\\RiverMasks\\Betsiboka\\reach_1\\Raw\\Betsiboka_reach_1_2007_DSWE_level_3.tif\n",
      "RAW: Successfully exported D:\\Madagascar\\Data\\RiverMapping\\RiverMasks\\Betsiboka\\reach_1\\Raw\\Betsiboka_reach_1_2007_DSWE_level_3.tif.\n"
     ]
    },
    {
     "name": "stderr",
     "output_type": "stream",
     "text": [
      "C:\\Users\\huckr\\AppData\\Local\\Temp\\ipykernel_22020\\949864737.py:469: UserWarning: Geometry is in a geographic CRS. Results from 'centroid' are likely incorrect. Use 'GeoSeries.to_crs()' to re-project geometries to a projected CRS before this operation.\n",
      "\n",
      "  centroid = grwl_reach_dissolved.geometry.centroid.iloc[0]\n"
     ]
    },
    {
     "name": "stdout",
     "output_type": "stream",
     "text": [
      "Raster successfully saved with compression to: D:\\Madagascar\\Data\\RiverMapping\\RiverMasks\\Betsiboka\\reach_1\\Processed\\Betsiboka_reach_1_2007_DSWE_level_3.tif\n",
      "Processed raster saved to: D:\\Madagascar\\Data\\RiverMapping\\RiverMasks\\Betsiboka\\reach_1\\Processed\\Betsiboka_reach_1_2007_DSWE_level_3.tif\n",
      "PROCESSED: Exported Betsiboka_reach_1_2007_DSWE_level_3.tif to D:\\Madagascar\\Data\\RiverMapping\\RiverMasks\\Betsiboka\\reach_1\\Processed.\n",
      "Generating URL ...\n",
      "Downloading data from https://earthengine.googleapis.com/v1/projects/earthengine-legacy/thumbnails/c3afecfc8a08609f29047878b3580934-ac6a7f3b96b31d27ffb1489256a4739c:getPixels\n",
      "Please wait ...\n",
      "Data downloaded to D:\\Madagascar\\Data\\RiverMapping\\RiverMasks\\Betsiboka\\reach_1\\Raw\\Betsiboka_reach_1_2008_DSWE_level_3.tif\n",
      "RAW: Successfully exported D:\\Madagascar\\Data\\RiverMapping\\RiverMasks\\Betsiboka\\reach_1\\Raw\\Betsiboka_reach_1_2008_DSWE_level_3.tif.\n"
     ]
    },
    {
     "name": "stderr",
     "output_type": "stream",
     "text": [
      "C:\\Users\\huckr\\AppData\\Local\\Temp\\ipykernel_22020\\949864737.py:469: UserWarning: Geometry is in a geographic CRS. Results from 'centroid' are likely incorrect. Use 'GeoSeries.to_crs()' to re-project geometries to a projected CRS before this operation.\n",
      "\n",
      "  centroid = grwl_reach_dissolved.geometry.centroid.iloc[0]\n"
     ]
    },
    {
     "name": "stdout",
     "output_type": "stream",
     "text": [
      "Raster successfully saved with compression to: D:\\Madagascar\\Data\\RiverMapping\\RiverMasks\\Betsiboka\\reach_1\\Processed\\Betsiboka_reach_1_2008_DSWE_level_3.tif\n",
      "Processed raster saved to: D:\\Madagascar\\Data\\RiverMapping\\RiverMasks\\Betsiboka\\reach_1\\Processed\\Betsiboka_reach_1_2008_DSWE_level_3.tif\n",
      "PROCESSED: Exported Betsiboka_reach_1_2008_DSWE_level_3.tif to D:\\Madagascar\\Data\\RiverMapping\\RiverMasks\\Betsiboka\\reach_1\\Processed.\n",
      "Generating URL ...\n",
      "Downloading data from https://earthengine.googleapis.com/v1/projects/earthengine-legacy/thumbnails/f7b1f81d5a0251374edc0a1f964b10c2-7da8d1d36a8684b1be1f306b51253fc9:getPixels\n",
      "Please wait ...\n",
      "Data downloaded to D:\\Madagascar\\Data\\RiverMapping\\RiverMasks\\Betsiboka\\reach_1\\Raw\\Betsiboka_reach_1_2009_DSWE_level_3.tif\n",
      "RAW: Successfully exported D:\\Madagascar\\Data\\RiverMapping\\RiverMasks\\Betsiboka\\reach_1\\Raw\\Betsiboka_reach_1_2009_DSWE_level_3.tif.\n"
     ]
    },
    {
     "name": "stderr",
     "output_type": "stream",
     "text": [
      "C:\\Users\\huckr\\AppData\\Local\\Temp\\ipykernel_22020\\949864737.py:469: UserWarning: Geometry is in a geographic CRS. Results from 'centroid' are likely incorrect. Use 'GeoSeries.to_crs()' to re-project geometries to a projected CRS before this operation.\n",
      "\n",
      "  centroid = grwl_reach_dissolved.geometry.centroid.iloc[0]\n"
     ]
    },
    {
     "name": "stdout",
     "output_type": "stream",
     "text": [
      "Raster successfully saved with compression to: D:\\Madagascar\\Data\\RiverMapping\\RiverMasks\\Betsiboka\\reach_1\\Processed\\Betsiboka_reach_1_2009_DSWE_level_3.tif\n",
      "Processed raster saved to: D:\\Madagascar\\Data\\RiverMapping\\RiverMasks\\Betsiboka\\reach_1\\Processed\\Betsiboka_reach_1_2009_DSWE_level_3.tif\n",
      "PROCESSED: Exported Betsiboka_reach_1_2009_DSWE_level_3.tif to D:\\Madagascar\\Data\\RiverMapping\\RiverMasks\\Betsiboka\\reach_1\\Processed.\n",
      "Generating URL ...\n",
      "Downloading data from https://earthengine.googleapis.com/v1/projects/earthengine-legacy/thumbnails/c2bcf93662421e24c0366039a32be658-f0c6c8f30882e588eeb1e55d4e8eb10b:getPixels\n",
      "Please wait ...\n",
      "Data downloaded to D:\\Madagascar\\Data\\RiverMapping\\RiverMasks\\Betsiboka\\reach_1\\Raw\\Betsiboka_reach_1_2010_DSWE_level_3.tif\n",
      "RAW: Successfully exported D:\\Madagascar\\Data\\RiverMapping\\RiverMasks\\Betsiboka\\reach_1\\Raw\\Betsiboka_reach_1_2010_DSWE_level_3.tif.\n"
     ]
    },
    {
     "name": "stderr",
     "output_type": "stream",
     "text": [
      "C:\\Users\\huckr\\AppData\\Local\\Temp\\ipykernel_22020\\949864737.py:469: UserWarning: Geometry is in a geographic CRS. Results from 'centroid' are likely incorrect. Use 'GeoSeries.to_crs()' to re-project geometries to a projected CRS before this operation.\n",
      "\n",
      "  centroid = grwl_reach_dissolved.geometry.centroid.iloc[0]\n"
     ]
    },
    {
     "name": "stdout",
     "output_type": "stream",
     "text": [
      "Raster successfully saved with compression to: D:\\Madagascar\\Data\\RiverMapping\\RiverMasks\\Betsiboka\\reach_1\\Processed\\Betsiboka_reach_1_2010_DSWE_level_3.tif\n",
      "Processed raster saved to: D:\\Madagascar\\Data\\RiverMapping\\RiverMasks\\Betsiboka\\reach_1\\Processed\\Betsiboka_reach_1_2010_DSWE_level_3.tif\n",
      "PROCESSED: Exported Betsiboka_reach_1_2010_DSWE_level_3.tif to D:\\Madagascar\\Data\\RiverMapping\\RiverMasks\\Betsiboka\\reach_1\\Processed.\n",
      "Generating URL ...\n",
      "Downloading data from https://earthengine.googleapis.com/v1/projects/earthengine-legacy/thumbnails/8a93d39cd77a5b1aeb18a0b75c7115c3-1976648fb2ad5f749e826951594b0b74:getPixels\n",
      "Please wait ...\n",
      "Data downloaded to D:\\Madagascar\\Data\\RiverMapping\\RiverMasks\\Betsiboka\\reach_1\\Raw\\Betsiboka_reach_1_2011_DSWE_level_3.tif\n",
      "RAW: Successfully exported D:\\Madagascar\\Data\\RiverMapping\\RiverMasks\\Betsiboka\\reach_1\\Raw\\Betsiboka_reach_1_2011_DSWE_level_3.tif.\n"
     ]
    },
    {
     "name": "stderr",
     "output_type": "stream",
     "text": [
      "C:\\Users\\huckr\\AppData\\Local\\Temp\\ipykernel_22020\\949864737.py:469: UserWarning: Geometry is in a geographic CRS. Results from 'centroid' are likely incorrect. Use 'GeoSeries.to_crs()' to re-project geometries to a projected CRS before this operation.\n",
      "\n",
      "  centroid = grwl_reach_dissolved.geometry.centroid.iloc[0]\n"
     ]
    },
    {
     "name": "stdout",
     "output_type": "stream",
     "text": [
      "Raster successfully saved with compression to: D:\\Madagascar\\Data\\RiverMapping\\RiverMasks\\Betsiboka\\reach_1\\Processed\\Betsiboka_reach_1_2011_DSWE_level_3.tif\n",
      "Processed raster saved to: D:\\Madagascar\\Data\\RiverMapping\\RiverMasks\\Betsiboka\\reach_1\\Processed\\Betsiboka_reach_1_2011_DSWE_level_3.tif\n",
      "PROCESSED: Exported Betsiboka_reach_1_2011_DSWE_level_3.tif to D:\\Madagascar\\Data\\RiverMapping\\RiverMasks\\Betsiboka\\reach_1\\Processed.\n",
      "Generating URL ...\n",
      "An error occurred while downloading.\n",
      "Image.normalizedDifference: No band named 'Nir'. Available band names: [].\n",
      "Export failed: File D:\\Madagascar\\Data\\RiverMapping\\RiverMasks\\Betsiboka\\reach_1\\Raw\\Betsiboka_reach_1_2012_DSWE_level_3.tif not found.\n",
      "Export failed for Betsiboka_reach_1_2012_DSWE_level_3.tif, attempting tiling...\n",
      "Generating URL ...\n",
      "An error occurred while downloading.\n",
      "Image.select: Band pattern 'Nir' was applied to an Image with no bands. See https://developers.google.com/earth-engine/guides/debugging#no-bands\n",
      "Export failed: File D:\\Madagascar\\Data\\RiverMapping\\RiverMasks\\Betsiboka\\reach_1\\Raw\\Betsiboka_reach_1_2012_tile_0_DSWE_level_3.tif not found.\n",
      "No tiles found for stitching.\n",
      "Failed to export Betsiboka_reach_1_2012_DSWE_level_3.tif. Error: D:/Madagascar/Data/RiverMapping/RiverMasks/Betsiboka/reach_1/Raw/Betsiboka_reach_1_2012_DSWE_level_3.tif: No such file or directory\n",
      "Generating URL ...\n",
      "Downloading data from https://earthengine.googleapis.com/v1/projects/earthengine-legacy/thumbnails/bde31c4a972c15af1b6be7ada5aec93b-3f85df74a6688d355d02279c2580d44e:getPixels\n",
      "Please wait ...\n",
      "Data downloaded to D:\\Madagascar\\Data\\RiverMapping\\RiverMasks\\Betsiboka\\reach_1\\Raw\\Betsiboka_reach_1_2013_DSWE_level_3.tif\n",
      "RAW: Successfully exported D:\\Madagascar\\Data\\RiverMapping\\RiverMasks\\Betsiboka\\reach_1\\Raw\\Betsiboka_reach_1_2013_DSWE_level_3.tif.\n"
     ]
    },
    {
     "name": "stderr",
     "output_type": "stream",
     "text": [
      "C:\\Users\\huckr\\AppData\\Local\\Temp\\ipykernel_22020\\949864737.py:469: UserWarning: Geometry is in a geographic CRS. Results from 'centroid' are likely incorrect. Use 'GeoSeries.to_crs()' to re-project geometries to a projected CRS before this operation.\n",
      "\n",
      "  centroid = grwl_reach_dissolved.geometry.centroid.iloc[0]\n"
     ]
    },
    {
     "name": "stdout",
     "output_type": "stream",
     "text": [
      "Raster successfully saved with compression to: D:\\Madagascar\\Data\\RiverMapping\\RiverMasks\\Betsiboka\\reach_1\\Processed\\Betsiboka_reach_1_2013_DSWE_level_3.tif\n",
      "Processed raster saved to: D:\\Madagascar\\Data\\RiverMapping\\RiverMasks\\Betsiboka\\reach_1\\Processed\\Betsiboka_reach_1_2013_DSWE_level_3.tif\n",
      "PROCESSED: Exported Betsiboka_reach_1_2013_DSWE_level_3.tif to D:\\Madagascar\\Data\\RiverMapping\\RiverMasks\\Betsiboka\\reach_1\\Processed.\n",
      "Generating URL ...\n",
      "Downloading data from https://earthengine.googleapis.com/v1/projects/earthengine-legacy/thumbnails/49a922a1c04648400f0d5b7b095bdacc-2ce922400a70a3e8fcc3d17aeb83d09b:getPixels\n",
      "Please wait ...\n",
      "Data downloaded to D:\\Madagascar\\Data\\RiverMapping\\RiverMasks\\Betsiboka\\reach_1\\Raw\\Betsiboka_reach_1_2014_DSWE_level_3.tif\n",
      "RAW: Successfully exported D:\\Madagascar\\Data\\RiverMapping\\RiverMasks\\Betsiboka\\reach_1\\Raw\\Betsiboka_reach_1_2014_DSWE_level_3.tif.\n"
     ]
    },
    {
     "name": "stderr",
     "output_type": "stream",
     "text": [
      "C:\\Users\\huckr\\AppData\\Local\\Temp\\ipykernel_22020\\949864737.py:469: UserWarning: Geometry is in a geographic CRS. Results from 'centroid' are likely incorrect. Use 'GeoSeries.to_crs()' to re-project geometries to a projected CRS before this operation.\n",
      "\n",
      "  centroid = grwl_reach_dissolved.geometry.centroid.iloc[0]\n"
     ]
    },
    {
     "name": "stdout",
     "output_type": "stream",
     "text": [
      "Raster successfully saved with compression to: D:\\Madagascar\\Data\\RiverMapping\\RiverMasks\\Betsiboka\\reach_1\\Processed\\Betsiboka_reach_1_2014_DSWE_level_3.tif\n",
      "Processed raster saved to: D:\\Madagascar\\Data\\RiverMapping\\RiverMasks\\Betsiboka\\reach_1\\Processed\\Betsiboka_reach_1_2014_DSWE_level_3.tif\n",
      "PROCESSED: Exported Betsiboka_reach_1_2014_DSWE_level_3.tif to D:\\Madagascar\\Data\\RiverMapping\\RiverMasks\\Betsiboka\\reach_1\\Processed.\n",
      "Generating URL ...\n",
      "Downloading data from https://earthengine.googleapis.com/v1/projects/earthengine-legacy/thumbnails/b35825d17c17c5ad73ff239bbce06617-389570374cb0600e98074fdc78955f76:getPixels\n",
      "Please wait ...\n",
      "Data downloaded to D:\\Madagascar\\Data\\RiverMapping\\RiverMasks\\Betsiboka\\reach_1\\Raw\\Betsiboka_reach_1_2015_DSWE_level_3.tif\n",
      "RAW: Successfully exported D:\\Madagascar\\Data\\RiverMapping\\RiverMasks\\Betsiboka\\reach_1\\Raw\\Betsiboka_reach_1_2015_DSWE_level_3.tif.\n"
     ]
    },
    {
     "name": "stderr",
     "output_type": "stream",
     "text": [
      "C:\\Users\\huckr\\AppData\\Local\\Temp\\ipykernel_22020\\949864737.py:469: UserWarning: Geometry is in a geographic CRS. Results from 'centroid' are likely incorrect. Use 'GeoSeries.to_crs()' to re-project geometries to a projected CRS before this operation.\n",
      "\n",
      "  centroid = grwl_reach_dissolved.geometry.centroid.iloc[0]\n"
     ]
    },
    {
     "name": "stdout",
     "output_type": "stream",
     "text": [
      "Raster successfully saved with compression to: D:\\Madagascar\\Data\\RiverMapping\\RiverMasks\\Betsiboka\\reach_1\\Processed\\Betsiboka_reach_1_2015_DSWE_level_3.tif\n",
      "Processed raster saved to: D:\\Madagascar\\Data\\RiverMapping\\RiverMasks\\Betsiboka\\reach_1\\Processed\\Betsiboka_reach_1_2015_DSWE_level_3.tif\n",
      "PROCESSED: Exported Betsiboka_reach_1_2015_DSWE_level_3.tif to D:\\Madagascar\\Data\\RiverMapping\\RiverMasks\\Betsiboka\\reach_1\\Processed.\n",
      "Generating URL ...\n",
      "Downloading data from https://earthengine.googleapis.com/v1/projects/earthengine-legacy/thumbnails/415f8022f9dc96bb33846493ef104959-9b43da0afe804b8655068b29593c187e:getPixels\n",
      "Please wait ...\n",
      "Data downloaded to D:\\Madagascar\\Data\\RiverMapping\\RiverMasks\\Betsiboka\\reach_1\\Raw\\Betsiboka_reach_1_2016_DSWE_level_3.tif\n",
      "RAW: Successfully exported D:\\Madagascar\\Data\\RiverMapping\\RiverMasks\\Betsiboka\\reach_1\\Raw\\Betsiboka_reach_1_2016_DSWE_level_3.tif.\n"
     ]
    },
    {
     "name": "stderr",
     "output_type": "stream",
     "text": [
      "C:\\Users\\huckr\\AppData\\Local\\Temp\\ipykernel_22020\\949864737.py:469: UserWarning: Geometry is in a geographic CRS. Results from 'centroid' are likely incorrect. Use 'GeoSeries.to_crs()' to re-project geometries to a projected CRS before this operation.\n",
      "\n",
      "  centroid = grwl_reach_dissolved.geometry.centroid.iloc[0]\n"
     ]
    },
    {
     "name": "stdout",
     "output_type": "stream",
     "text": [
      "Raster successfully saved with compression to: D:\\Madagascar\\Data\\RiverMapping\\RiverMasks\\Betsiboka\\reach_1\\Processed\\Betsiboka_reach_1_2016_DSWE_level_3.tif\n",
      "Processed raster saved to: D:\\Madagascar\\Data\\RiverMapping\\RiverMasks\\Betsiboka\\reach_1\\Processed\\Betsiboka_reach_1_2016_DSWE_level_3.tif\n",
      "PROCESSED: Exported Betsiboka_reach_1_2016_DSWE_level_3.tif to D:\\Madagascar\\Data\\RiverMapping\\RiverMasks\\Betsiboka\\reach_1\\Processed.\n",
      "Generating URL ...\n",
      "Downloading data from https://earthengine.googleapis.com/v1/projects/earthengine-legacy/thumbnails/db3b6c0bf5cb6e91636f271e0f3a1ad7-13ac665302b9649b03f64751183c37a5:getPixels\n",
      "Please wait ...\n",
      "Data downloaded to D:\\Madagascar\\Data\\RiverMapping\\RiverMasks\\Betsiboka\\reach_1\\Raw\\Betsiboka_reach_1_2017_DSWE_level_3.tif\n",
      "RAW: Successfully exported D:\\Madagascar\\Data\\RiverMapping\\RiverMasks\\Betsiboka\\reach_1\\Raw\\Betsiboka_reach_1_2017_DSWE_level_3.tif.\n"
     ]
    },
    {
     "name": "stderr",
     "output_type": "stream",
     "text": [
      "C:\\Users\\huckr\\AppData\\Local\\Temp\\ipykernel_22020\\949864737.py:469: UserWarning: Geometry is in a geographic CRS. Results from 'centroid' are likely incorrect. Use 'GeoSeries.to_crs()' to re-project geometries to a projected CRS before this operation.\n",
      "\n",
      "  centroid = grwl_reach_dissolved.geometry.centroid.iloc[0]\n"
     ]
    },
    {
     "name": "stdout",
     "output_type": "stream",
     "text": [
      "Raster successfully saved with compression to: D:\\Madagascar\\Data\\RiverMapping\\RiverMasks\\Betsiboka\\reach_1\\Processed\\Betsiboka_reach_1_2017_DSWE_level_3.tif\n",
      "Processed raster saved to: D:\\Madagascar\\Data\\RiverMapping\\RiverMasks\\Betsiboka\\reach_1\\Processed\\Betsiboka_reach_1_2017_DSWE_level_3.tif\n",
      "PROCESSED: Exported Betsiboka_reach_1_2017_DSWE_level_3.tif to D:\\Madagascar\\Data\\RiverMapping\\RiverMasks\\Betsiboka\\reach_1\\Processed.\n",
      "Generating URL ...\n",
      "Downloading data from https://earthengine.googleapis.com/v1/projects/earthengine-legacy/thumbnails/95ccc7cd67f915faf915c5c57074ff04-3faddb5789a945974979cd04f50cdc61:getPixels\n",
      "Please wait ...\n",
      "Data downloaded to D:\\Madagascar\\Data\\RiverMapping\\RiverMasks\\Betsiboka\\reach_1\\Raw\\Betsiboka_reach_1_2018_DSWE_level_3.tif\n",
      "RAW: Successfully exported D:\\Madagascar\\Data\\RiverMapping\\RiverMasks\\Betsiboka\\reach_1\\Raw\\Betsiboka_reach_1_2018_DSWE_level_3.tif.\n"
     ]
    },
    {
     "name": "stderr",
     "output_type": "stream",
     "text": [
      "C:\\Users\\huckr\\AppData\\Local\\Temp\\ipykernel_22020\\949864737.py:469: UserWarning: Geometry is in a geographic CRS. Results from 'centroid' are likely incorrect. Use 'GeoSeries.to_crs()' to re-project geometries to a projected CRS before this operation.\n",
      "\n",
      "  centroid = grwl_reach_dissolved.geometry.centroid.iloc[0]\n"
     ]
    },
    {
     "name": "stdout",
     "output_type": "stream",
     "text": [
      "Raster successfully saved with compression to: D:\\Madagascar\\Data\\RiverMapping\\RiverMasks\\Betsiboka\\reach_1\\Processed\\Betsiboka_reach_1_2018_DSWE_level_3.tif\n",
      "Processed raster saved to: D:\\Madagascar\\Data\\RiverMapping\\RiverMasks\\Betsiboka\\reach_1\\Processed\\Betsiboka_reach_1_2018_DSWE_level_3.tif\n",
      "PROCESSED: Exported Betsiboka_reach_1_2018_DSWE_level_3.tif to D:\\Madagascar\\Data\\RiverMapping\\RiverMasks\\Betsiboka\\reach_1\\Processed.\n",
      "Generating URL ...\n",
      "Downloading data from https://earthengine.googleapis.com/v1/projects/earthengine-legacy/thumbnails/caa55e55f3b5efcbcac7349c200050b2-9f277e8c3b63d520446e6a4b2a68c1be:getPixels\n",
      "Please wait ...\n",
      "Data downloaded to D:\\Madagascar\\Data\\RiverMapping\\RiverMasks\\Betsiboka\\reach_1\\Raw\\Betsiboka_reach_1_2019_DSWE_level_3.tif\n",
      "RAW: Successfully exported D:\\Madagascar\\Data\\RiverMapping\\RiverMasks\\Betsiboka\\reach_1\\Raw\\Betsiboka_reach_1_2019_DSWE_level_3.tif.\n"
     ]
    },
    {
     "name": "stderr",
     "output_type": "stream",
     "text": [
      "C:\\Users\\huckr\\AppData\\Local\\Temp\\ipykernel_22020\\949864737.py:469: UserWarning: Geometry is in a geographic CRS. Results from 'centroid' are likely incorrect. Use 'GeoSeries.to_crs()' to re-project geometries to a projected CRS before this operation.\n",
      "\n",
      "  centroid = grwl_reach_dissolved.geometry.centroid.iloc[0]\n"
     ]
    },
    {
     "name": "stdout",
     "output_type": "stream",
     "text": [
      "Raster successfully saved with compression to: D:\\Madagascar\\Data\\RiverMapping\\RiverMasks\\Betsiboka\\reach_1\\Processed\\Betsiboka_reach_1_2019_DSWE_level_3.tif\n",
      "Processed raster saved to: D:\\Madagascar\\Data\\RiverMapping\\RiverMasks\\Betsiboka\\reach_1\\Processed\\Betsiboka_reach_1_2019_DSWE_level_3.tif\n",
      "PROCESSED: Exported Betsiboka_reach_1_2019_DSWE_level_3.tif to D:\\Madagascar\\Data\\RiverMapping\\RiverMasks\\Betsiboka\\reach_1\\Processed.\n",
      "Generating URL ...\n",
      "Downloading data from https://earthengine.googleapis.com/v1/projects/earthengine-legacy/thumbnails/a40f01cb8a5178bd0737369796bb0861-314bf1d37f9dc4eebaa6e3b22dab6c9d:getPixels\n",
      "Please wait ...\n",
      "Data downloaded to D:\\Madagascar\\Data\\RiverMapping\\RiverMasks\\Betsiboka\\reach_1\\Raw\\Betsiboka_reach_1_2020_DSWE_level_3.tif\n",
      "RAW: Successfully exported D:\\Madagascar\\Data\\RiverMapping\\RiverMasks\\Betsiboka\\reach_1\\Raw\\Betsiboka_reach_1_2020_DSWE_level_3.tif.\n"
     ]
    },
    {
     "name": "stderr",
     "output_type": "stream",
     "text": [
      "C:\\Users\\huckr\\AppData\\Local\\Temp\\ipykernel_22020\\949864737.py:469: UserWarning: Geometry is in a geographic CRS. Results from 'centroid' are likely incorrect. Use 'GeoSeries.to_crs()' to re-project geometries to a projected CRS before this operation.\n",
      "\n",
      "  centroid = grwl_reach_dissolved.geometry.centroid.iloc[0]\n"
     ]
    },
    {
     "name": "stdout",
     "output_type": "stream",
     "text": [
      "Raster successfully saved with compression to: D:\\Madagascar\\Data\\RiverMapping\\RiverMasks\\Betsiboka\\reach_1\\Processed\\Betsiboka_reach_1_2020_DSWE_level_3.tif\n",
      "Processed raster saved to: D:\\Madagascar\\Data\\RiverMapping\\RiverMasks\\Betsiboka\\reach_1\\Processed\\Betsiboka_reach_1_2020_DSWE_level_3.tif\n",
      "PROCESSED: Exported Betsiboka_reach_1_2020_DSWE_level_3.tif to D:\\Madagascar\\Data\\RiverMapping\\RiverMasks\\Betsiboka\\reach_1\\Processed.\n",
      "Generating URL ...\n",
      "Downloading data from https://earthengine.googleapis.com/v1/projects/earthengine-legacy/thumbnails/c310a5cf5a8e0dce698cf341e4c38b14-717014cad61fd63db4cbd84c2dca55ee:getPixels\n",
      "Please wait ...\n",
      "Data downloaded to D:\\Madagascar\\Data\\RiverMapping\\RiverMasks\\Betsiboka\\reach_1\\Raw\\Betsiboka_reach_1_2021_DSWE_level_3.tif\n",
      "RAW: Successfully exported D:\\Madagascar\\Data\\RiverMapping\\RiverMasks\\Betsiboka\\reach_1\\Raw\\Betsiboka_reach_1_2021_DSWE_level_3.tif.\n"
     ]
    },
    {
     "name": "stderr",
     "output_type": "stream",
     "text": [
      "C:\\Users\\huckr\\AppData\\Local\\Temp\\ipykernel_22020\\949864737.py:469: UserWarning: Geometry is in a geographic CRS. Results from 'centroid' are likely incorrect. Use 'GeoSeries.to_crs()' to re-project geometries to a projected CRS before this operation.\n",
      "\n",
      "  centroid = grwl_reach_dissolved.geometry.centroid.iloc[0]\n"
     ]
    },
    {
     "name": "stdout",
     "output_type": "stream",
     "text": [
      "Raster successfully saved with compression to: D:\\Madagascar\\Data\\RiverMapping\\RiverMasks\\Betsiboka\\reach_1\\Processed\\Betsiboka_reach_1_2021_DSWE_level_3.tif\n",
      "Processed raster saved to: D:\\Madagascar\\Data\\RiverMapping\\RiverMasks\\Betsiboka\\reach_1\\Processed\\Betsiboka_reach_1_2021_DSWE_level_3.tif\n",
      "PROCESSED: Exported Betsiboka_reach_1_2021_DSWE_level_3.tif to D:\\Madagascar\\Data\\RiverMapping\\RiverMasks\\Betsiboka\\reach_1\\Processed.\n",
      "Generating URL ...\n",
      "Downloading data from https://earthengine.googleapis.com/v1/projects/earthengine-legacy/thumbnails/86ba55bff3568ad260e4dcb3518a39b3-236e83db4401cd8957102ddbb96149a8:getPixels\n",
      "Please wait ...\n",
      "Data downloaded to D:\\Madagascar\\Data\\RiverMapping\\RiverMasks\\Betsiboka\\reach_1\\Raw\\Betsiboka_reach_1_2022_DSWE_level_3.tif\n",
      "RAW: Successfully exported D:\\Madagascar\\Data\\RiverMapping\\RiverMasks\\Betsiboka\\reach_1\\Raw\\Betsiboka_reach_1_2022_DSWE_level_3.tif.\n"
     ]
    },
    {
     "name": "stderr",
     "output_type": "stream",
     "text": [
      "C:\\Users\\huckr\\AppData\\Local\\Temp\\ipykernel_22020\\949864737.py:469: UserWarning: Geometry is in a geographic CRS. Results from 'centroid' are likely incorrect. Use 'GeoSeries.to_crs()' to re-project geometries to a projected CRS before this operation.\n",
      "\n",
      "  centroid = grwl_reach_dissolved.geometry.centroid.iloc[0]\n"
     ]
    },
    {
     "name": "stdout",
     "output_type": "stream",
     "text": [
      "Raster successfully saved with compression to: D:\\Madagascar\\Data\\RiverMapping\\RiverMasks\\Betsiboka\\reach_1\\Processed\\Betsiboka_reach_1_2022_DSWE_level_3.tif\n",
      "Processed raster saved to: D:\\Madagascar\\Data\\RiverMapping\\RiverMasks\\Betsiboka\\reach_1\\Processed\\Betsiboka_reach_1_2022_DSWE_level_3.tif\n",
      "PROCESSED: Exported Betsiboka_reach_1_2022_DSWE_level_3.tif to D:\\Madagascar\\Data\\RiverMapping\\RiverMasks\\Betsiboka\\reach_1\\Processed.\n",
      "Generating URL ...\n",
      "Downloading data from https://earthengine.googleapis.com/v1/projects/earthengine-legacy/thumbnails/04c01057fa937eb4f6cca4373fea6433-71923d583fe80553cf617a19f39d2404:getPixels\n",
      "Please wait ...\n",
      "Data downloaded to D:\\Madagascar\\Data\\RiverMapping\\RiverMasks\\Betsiboka\\reach_1\\Raw\\Betsiboka_reach_1_2023_DSWE_level_3.tif\n",
      "RAW: Successfully exported D:\\Madagascar\\Data\\RiverMapping\\RiverMasks\\Betsiboka\\reach_1\\Raw\\Betsiboka_reach_1_2023_DSWE_level_3.tif.\n"
     ]
    },
    {
     "name": "stderr",
     "output_type": "stream",
     "text": [
      "C:\\Users\\huckr\\AppData\\Local\\Temp\\ipykernel_22020\\949864737.py:469: UserWarning: Geometry is in a geographic CRS. Results from 'centroid' are likely incorrect. Use 'GeoSeries.to_crs()' to re-project geometries to a projected CRS before this operation.\n",
      "\n",
      "  centroid = grwl_reach_dissolved.geometry.centroid.iloc[0]\n"
     ]
    },
    {
     "name": "stdout",
     "output_type": "stream",
     "text": [
      "Raster successfully saved with compression to: D:\\Madagascar\\Data\\RiverMapping\\RiverMasks\\Betsiboka\\reach_1\\Processed\\Betsiboka_reach_1_2023_DSWE_level_3.tif\n",
      "Processed raster saved to: D:\\Madagascar\\Data\\RiverMapping\\RiverMasks\\Betsiboka\\reach_1\\Processed\\Betsiboka_reach_1_2023_DSWE_level_3.tif\n",
      "PROCESSED: Exported Betsiboka_reach_1_2023_DSWE_level_3.tif to D:\\Madagascar\\Data\\RiverMapping\\RiverMasks\\Betsiboka\\reach_1\\Processed.\n",
      "Generating URL ...\n",
      "Downloading data from https://earthengine.googleapis.com/v1/projects/earthengine-legacy/thumbnails/a95222aa9da2d5dfd32f6ebbadb1de9e-cde406608c4a694dd7a70ce2b63a5403:getPixels\n",
      "Please wait ...\n",
      "Data downloaded to D:\\Madagascar\\Data\\RiverMapping\\RiverMasks\\Betsiboka\\reach_1\\Raw\\Betsiboka_reach_1_2024_DSWE_level_3.tif\n",
      "RAW: Successfully exported D:\\Madagascar\\Data\\RiverMapping\\RiverMasks\\Betsiboka\\reach_1\\Raw\\Betsiboka_reach_1_2024_DSWE_level_3.tif.\n"
     ]
    },
    {
     "name": "stderr",
     "output_type": "stream",
     "text": [
      "C:\\Users\\huckr\\AppData\\Local\\Temp\\ipykernel_22020\\949864737.py:469: UserWarning: Geometry is in a geographic CRS. Results from 'centroid' are likely incorrect. Use 'GeoSeries.to_crs()' to re-project geometries to a projected CRS before this operation.\n",
      "\n",
      "  centroid = grwl_reach_dissolved.geometry.centroid.iloc[0]\n"
     ]
    },
    {
     "name": "stdout",
     "output_type": "stream",
     "text": [
      "Raster successfully saved with compression to: D:\\Madagascar\\Data\\RiverMapping\\RiverMasks\\Betsiboka\\reach_1\\Processed\\Betsiboka_reach_1_2024_DSWE_level_3.tif\n",
      "Processed raster saved to: D:\\Madagascar\\Data\\RiverMapping\\RiverMasks\\Betsiboka\\reach_1\\Processed\\Betsiboka_reach_1_2024_DSWE_level_3.tif\n",
      "PROCESSED: Exported Betsiboka_reach_1_2024_DSWE_level_3.tif to D:\\Madagascar\\Data\\RiverMapping\\RiverMasks\\Betsiboka\\reach_1\\Processed.\n",
      "Generating URL ...\n",
      "Downloading data from https://earthengine.googleapis.com/v1/projects/earthengine-legacy/thumbnails/d25f35811f7ca92e40ee03615f135fca-b9de053d228d614f8cf2d80273d3f2d8:getPixels\n",
      "Please wait ...\n",
      "Data downloaded to D:\\Madagascar\\Data\\RiverMapping\\RiverMasks\\Betsiboka\\reach_1\\Raw\\Betsiboka_reach_1_2025_DSWE_level_3.tif\n",
      "RAW: Successfully exported D:\\Madagascar\\Data\\RiverMapping\\RiverMasks\\Betsiboka\\reach_1\\Raw\\Betsiboka_reach_1_2025_DSWE_level_3.tif.\n"
     ]
    },
    {
     "name": "stderr",
     "output_type": "stream",
     "text": [
      "C:\\Users\\huckr\\AppData\\Local\\Temp\\ipykernel_22020\\949864737.py:469: UserWarning: Geometry is in a geographic CRS. Results from 'centroid' are likely incorrect. Use 'GeoSeries.to_crs()' to re-project geometries to a projected CRS before this operation.\n",
      "\n",
      "  centroid = grwl_reach_dissolved.geometry.centroid.iloc[0]\n"
     ]
    },
    {
     "name": "stdout",
     "output_type": "stream",
     "text": [
      "Raster successfully saved with compression to: D:\\Madagascar\\Data\\RiverMapping\\RiverMasks\\Betsiboka\\reach_1\\Processed\\Betsiboka_reach_1_2025_DSWE_level_3.tif\n",
      "Processed raster saved to: D:\\Madagascar\\Data\\RiverMapping\\RiverMasks\\Betsiboka\\reach_1\\Processed\\Betsiboka_reach_1_2025_DSWE_level_3.tif\n",
      "PROCESSED: Exported Betsiboka_reach_1_2025_DSWE_level_3.tif to D:\\Madagascar\\Data\\RiverMapping\\RiverMasks\\Betsiboka\\reach_1\\Processed.\n"
     ]
    }
   ],
   "source": [
    "csv_file_path = r\"D:\\Madagascar\\Data\\Betsiboka_river_datasheet.csv\"\n",
    "process_multiple_rivers(csv_file_path)"
   ]
  },
  {
   "cell_type": "code",
   "execution_count": null,
   "id": "98902743",
   "metadata": {},
   "outputs": [],
   "source": []
  },
  {
   "cell_type": "code",
   "execution_count": null,
   "id": "c9335ec0",
   "metadata": {},
   "outputs": [],
   "source": []
  }
 ],
 "metadata": {
  "kernelspec": {
   "display_name": "Python 3 (ipykernel)",
   "language": "python",
   "name": "python3"
  },
  "language_info": {
   "codemirror_mode": {
    "name": "ipython",
    "version": 3
   },
   "file_extension": ".py",
   "mimetype": "text/x-python",
   "name": "python",
   "nbconvert_exporter": "python",
   "pygments_lexer": "ipython3",
   "version": "3.11.5"
  }
 },
 "nbformat": 4,
 "nbformat_minor": 5
}
