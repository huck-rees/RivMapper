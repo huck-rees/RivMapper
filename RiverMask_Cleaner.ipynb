{
 "cells": [
  {
   "cell_type": "markdown",
   "id": "45fed24f",
   "metadata": {},
   "source": [
    "# River mask cleaner\n",
    "\n",
    "The following code takes DSWE-derived watermasks from a specified local path. It also finds the associated \"main_channel\" vector produced from the Calculate_CFI notebook. Then, it overlays the main channel vector with the channel mask and selects the wetted portions of the mask intersecting the main channel, thus eliminating detected surface water not connected to the river. The processed mask is placed in a \"Cleaned\" folder. If no \"Cleaned\" folder exists, a new folder with that name is generated. \n",
    "\n",
    "Author: James (Huck) Rees; PhD Student, UCSB Geography\n",
    "\n",
    "Date: January 16, 2025"
   ]
  },
  {
   "cell_type": "markdown",
   "id": "83e5cb5b",
   "metadata": {},
   "source": [
    "## Import packages"
   ]
  },
  {
   "cell_type": "code",
   "execution_count": 1,
   "id": "0a4cfbaf",
   "metadata": {},
   "outputs": [],
   "source": [
    "import numpy as np\n",
    "import rasterio\n",
    "from scipy.ndimage import label as ndimage_label\n",
    "import pandas as pd\n",
    "import geopandas as gpd\n",
    "from shapely.geometry import box\n",
    "from shapely.geometry import Polygon, MultiPoint\n",
    "import os\n",
    "from rasterio.transform import from_origin\n",
    "import glob\n",
    "from rasterio.mask import mask\n",
    "from rasterio.warp import calculate_default_transform, reproject, Resampling\n",
    "from rasterio.plot import show\n",
    "from shapely.ops import transform as shapely_transform\n",
    "from pyproj import CRS, Transformer\n",
    "from scipy.ndimage import label\n",
    "from rasterio.enums import Resampling as RioResampling\n",
    "from rasterio.io import MemoryFile"
   ]
  },
  {
   "cell_type": "markdown",
   "id": "d31d5c0c",
   "metadata": {},
   "source": [
    "## Initialize functions"
   ]
  },
  {
   "cell_type": "code",
   "execution_count": 4,
   "id": "5e09ba76",
   "metadata": {},
   "outputs": [],
   "source": [
    "def import_raster(file_path):\n",
    "    \"\"\"\n",
    "    Imports a raster file from a specified local path.\n",
    "\n",
    "    Parameters:\n",
    "    file_path (str): The path to the raster file.\n",
    "\n",
    "    Returns:\n",
    "    dataset: A rasterio dataset object.\n",
    "    \"\"\"\n",
    "    try:\n",
    "        dataset = rasterio.open(file_path)\n",
    "        return dataset\n",
    "    except rasterio.errors.RasterioIOError as e:\n",
    "        print(f\"Error opening raster file: {e}\")\n",
    "        return None\n",
    "\n",
    "def classify_wet_components_array(array, min_pixels=200):\n",
    "    \"\"\"\n",
    "    Classify connected components in a 2-D water mask array and eliminate small components.\n",
    "\n",
    "    Parameters:\n",
    "    array: A 2-D numpy array with pixel values 0 (dry) and 1 (wet).\n",
    "    min_pixels (int): Minimum number of pixels for a component to be retained. Default is 200.\n",
    "\n",
    "    Returns:\n",
    "    classified_raster: A 2-D numpy array with unique integer values for each component.\n",
    "    \"\"\"\n",
    "    structure = np.ones((3, 3), dtype=int)  # 8-connectivity\n",
    "    labeled_array, num_features = ndimage_label(array, structure=structure)\n",
    "\n",
    "    component_sizes = np.bincount(labeled_array.ravel())\n",
    "    for component_label, size in enumerate(component_sizes):\n",
    "        if size < min_pixels:\n",
    "            labeled_array[labeled_array == component_label] = 0\n",
    "\n",
    "    labeled_array, num_features = ndimage_label(labeled_array > 0, structure=structure)\n",
    "    return labeled_array\n",
    "\n",
    "def import_and_reproject_shapefile(shapefile_path, target_crs, default_crs='EPSG:4326'):\n",
    "    \"\"\"\n",
    "    Import a shapefile and reproject it to the target CRS.\n",
    "    \n",
    "    Parameters:\n",
    "    shapefile_path (str): Path to the shapefile\n",
    "    target_crs: The target CRS (from raster) to reproject the shapefile to.\n",
    "    default_crs (str): A default CRS to assign if the shapefile lacks a CRS (e.g., 'EPSG:4326' for WGS 84).\n",
    "    \n",
    "    Returns:\n",
    "    shapefile (GeoDataFrame): Reprojected GeoDataFrame, or None if file is missing\n",
    "    \"\"\"\n",
    "    # Check if the shapefile exists\n",
    "    if not os.path.exists(shapefile_path):\n",
    "        print(f\"Shapefile not found: {shapefile_path}. Skipping this reach/year.\")\n",
    "        return None\n",
    "    \n",
    "    # Load shapefile\n",
    "    shapefile = gpd.read_file(shapefile_path)\n",
    "    \n",
    "    # Check if the shapefile has a CRS set\n",
    "    if shapefile.crs is None:\n",
    "        print(f\"The shapefile at {shapefile_path} does not have a CRS defined. Assigning default CRS: {default_crs}\")\n",
    "        shapefile.set_crs(default_crs, inplace=True)\n",
    "    \n",
    "    # Reproject shapefile if CRS does not match the target CRS\n",
    "    if shapefile.crs != target_crs:\n",
    "        shapefile = shapefile.to_crs(target_crs)\n",
    "    \n",
    "    return shapefile\n",
    "\n",
    "def raster_to_gdf(labeled_array, transform):\n",
    "    \"\"\"\n",
    "    Convert a labeled raster array to a GeoDataFrame with polygons for each pixel.\n",
    "\n",
    "    Parameters:\n",
    "    labeled_array: A 2-D numpy array with labeled components.\n",
    "    transform: Affine transform for converting array coordinates to geographic coordinates.\n",
    "\n",
    "    Returns:\n",
    "    gdf: A GeoDataFrame with polygons for each pixel.\n",
    "    \"\"\"\n",
    "    rows, cols = labeled_array.shape\n",
    "    polygons = []\n",
    "    labels = []\n",
    "\n",
    "    for row in range(rows):\n",
    "        for col in range(cols):\n",
    "            value = labeled_array[row, col]\n",
    "            if value != 0:  # Skip background pixels\n",
    "                # Create a polygon for each pixel\n",
    "                minx, miny = transform * (col, row)\n",
    "                maxx, maxy = transform * (col + 1, row + 1)\n",
    "                polygons.append(box(minx, miny, maxx, maxy))\n",
    "                labels.append(value)\n",
    "\n",
    "    # Create a GeoDataFrame\n",
    "    gdf = gpd.GeoDataFrame({'geometry': polygons, 'label': labels})\n",
    "\n",
    "    return gdf\n",
    "\n",
    "def find_intersecting_pixels(raster_gdf, line_gdf):\n",
    "    \"\"\"\n",
    "    Find unique pixel values that a line intersects with.\n",
    "\n",
    "    Parameters:\n",
    "    raster_gdf: GeoDataFrame with raster pixels as polygons.\n",
    "    line_gdf: GeoDataFrame with polyline geometry.\n",
    "\n",
    "    Returns:\n",
    "    unique_labels: A set of unique pixel values that the line intersects.\n",
    "    \"\"\"\n",
    "    # Perform a spatial join to find intersecting pixels\n",
    "    intersections = gpd.sjoin(raster_gdf, line_gdf, how='inner', predicate='intersects')\n",
    "    unique_labels = set(intersections['label'])\n",
    "    \n",
    "    return unique_labels\n",
    "\n",
    "def filter_and_reclassify_raster(classified_raster, unique_labels, min_pixels=200):\n",
    "    \"\"\"\n",
    "    Filter the classified raster to include only specified components and reclassify pixels.\n",
    "    Eliminate components smaller than min_pixels.\n",
    "\n",
    "    Parameters:\n",
    "    classified_raster: A 2-D numpy array with labeled components.\n",
    "    unique_labels: A set of unique pixel values to retain as wet.\n",
    "    min_pixels (int): Minimum number of pixels for a component to be retained. Default is 200.\n",
    "\n",
    "    Returns:\n",
    "    final_raster: A 2-D numpy array with reclassified pixels.\n",
    "    \"\"\"\n",
    "    # Create a new array for the final raster\n",
    "    final_raster = np.zeros_like(classified_raster, dtype=np.int32)\n",
    "\n",
    "    # Set pixels that are in unique_labels to 1 (wet)\n",
    "    for unique_label in unique_labels:\n",
    "        final_raster[classified_raster == unique_label] = 1\n",
    "\n",
    "    # Label the connected components in the final raster\n",
    "    structure = np.ones((3, 3), dtype=int)  # 8-connectivity\n",
    "    labeled_array, num_features = ndimage_label(final_raster, structure=structure)\n",
    "\n",
    "    # Eliminate components smaller than min_pixels\n",
    "    component_sizes = np.bincount(labeled_array.ravel())\n",
    "    for component_label, size in enumerate(component_sizes):\n",
    "        if size < min_pixels:\n",
    "            final_raster[labeled_array == component_label] = 0\n",
    "\n",
    "    return final_raster\n",
    "\n",
    "def export_raster(raster, transform, crs, output_path):\n",
    "    \"\"\"\n",
    "    Export a raster array to a GeoTIFF file.\n",
    "\n",
    "    Parameters:\n",
    "    raster: A 2-D numpy array to export.\n",
    "    transform: Affine transform for the raster.\n",
    "    crs: Coordinate reference system of the raster.\n",
    "    output_path (str): The path to save the GeoTIFF file.\n",
    "    \"\"\"\n",
    "    with rasterio.open(\n",
    "        output_path,\n",
    "        'w',\n",
    "        driver='GTiff',\n",
    "        height=raster.shape[0],\n",
    "        width=raster.shape[1],\n",
    "        count=1,\n",
    "        dtype=raster.dtype,\n",
    "        crs=crs,\n",
    "        transform=transform,\n",
    "    ) as dst:\n",
    "        dst.write(raster, 1)\n",
    "\n",
    "def fill_small_dry_holes(array, max_size=10):\n",
    "    mask_zeros = array == 0\n",
    "    labeled, num_features = label(mask_zeros)\n",
    "    for region in range(1, num_features + 1):\n",
    "        if np.sum(labeled == region) <= max_size:\n",
    "            array[labeled == region] = 1\n",
    "    return array\n",
    "\n",
    "def clip_raster_to_polygon(raster, polygon_gdf):\n",
    "    \"\"\"\n",
    "    Clips a rasterio dataset to the extent of the polygon_gdf.\n",
    "\n",
    "    Parameters:\n",
    "    raster (rasterio.DatasetReader): The open raster dataset.\n",
    "    polygon_gdf (GeoDataFrame): The polygon to clip the raster to.\n",
    "\n",
    "    Returns:\n",
    "    clipped_raster (numpy.ndarray): The clipped 2D array.\n",
    "    clipped_transform (Affine): The updated affine transform.\n",
    "    \"\"\"\n",
    "    polygon_gdf = polygon_gdf.to_crs(raster.crs)\n",
    "    geom = [feature[\"geometry\"] for feature in polygon_gdf.__geo_interface__[\"features\"]]\n",
    "\n",
    "    clipped_image, clipped_transform = mask(raster, geom, crop=True)\n",
    "    return clipped_image[0], clipped_transform\n",
    "    \n",
    "def get_reach_gdf(base_shapefile_path, river_name, reach_number):\n",
    "    \"\"\"\n",
    "    Returns a GeoDataFrame for a specific reach number using the 'ds_order' field.\n",
    "    \"\"\"\n",
    "    reach_path = os.path.join(base_shapefile_path, \"Reaches\", river_name, f\"{river_name}.shp\")\n",
    "    all_reaches_gdf = gpd.read_file(reach_path)\n",
    "\n",
    "    return all_reaches_gdf[all_reaches_gdf['ds_order'] == reach_number]\n",
    "\n",
    "def main(river_name, reach_range, year_range, base_raster_path, base_shapefile_path, min_pixels=200):\n",
    "    river_folder = os.path.join(base_raster_path, river_name)\n",
    "\n",
    "    if isinstance(reach_range, int):\n",
    "        reach_folders = [f\"reach_{reach_range}\"]\n",
    "    elif isinstance(reach_range, tuple):\n",
    "        reach_folders = [f\"reach_{i}\" for i in range(reach_range[0], reach_range[1] + 1)]\n",
    "    elif reach_range == \"All\":\n",
    "        reach_folders = [d for d in os.listdir(river_folder) if d.startswith(\"reach_\")]\n",
    "    else:\n",
    "        raise ValueError(\"Invalid reach_range input\")\n",
    "\n",
    "    for reach_folder in reach_folders:\n",
    "        reach_number = int(reach_folder.split('_')[1])\n",
    "        reach_path = os.path.join(river_folder, reach_folder, \"Processed\")\n",
    "\n",
    "        if isinstance(year_range, int):\n",
    "            years = [year_range]\n",
    "        elif isinstance(year_range, tuple):\n",
    "            years = range(year_range[0], year_range[1] + 1)\n",
    "        elif year_range == \"All\":\n",
    "            years = None\n",
    "        else:\n",
    "            raise ValueError(\"Invalid year_range input\")\n",
    "\n",
    "        raster_files = glob.glob(os.path.join(reach_path, \"*.tif\"))\n",
    "\n",
    "        for raster_path in raster_files:\n",
    "            raster_filename = os.path.basename(raster_path)\n",
    "            try:\n",
    "                year = int(raster_filename.split('_')[-4])\n",
    "                dswe_level = raster_filename.split('_')[-1][0]\n",
    "            except ValueError:\n",
    "                continue\n",
    "\n",
    "            if years is not None and year not in years:\n",
    "                continue\n",
    "\n",
    "            shapefile_path = os.path.join(base_shapefile_path, \"Channels\", river_name, f\"reach_{reach_number}\", str(year), \"main_channel.shp\")\n",
    "\n",
    "            raster = import_raster(raster_path)\n",
    "            reach_bnd = get_reach_gdf(base_shapefile_path, river_name, reach_number)\n",
    "            clipped_raster, clipped_transform = clip_raster_to_polygon(raster, reach_bnd)\n",
    "            classified_raster = classify_wet_components_array(clipped_raster, min_pixels=min_pixels)\n",
    "\n",
    "            main_channel = import_and_reproject_shapefile(shapefile_path, raster.crs)\n",
    "            if main_channel is None:\n",
    "                continue\n",
    "\n",
    "            raster_gdf = raster_to_gdf(classified_raster, clipped_transform)\n",
    "            unique_labels = find_intersecting_pixels(raster_gdf, main_channel)\n",
    "            filtered_raster = filter_and_reclassify_raster(classified_raster, unique_labels, min_pixels=min_pixels)\n",
    "            final_raster = fill_small_dry_holes(filtered_raster, max_size=10)\n",
    "\n",
    "            output_folder = os.path.join(base_raster_path, river_name, f\"reach_{reach_number}\", \"Cleaned\")\n",
    "            os.makedirs(output_folder, exist_ok=True)\n",
    "\n",
    "            final_raster_filename = f\"{river_name}_reach_{reach_number}_{year}_DSWE_level_{dswe_level}_cleaned.tif\"\n",
    "            final_raster_path = os.path.join(output_folder, final_raster_filename)\n",
    "\n",
    "            export_raster(final_raster, clipped_transform, raster.crs, final_raster_path)\n",
    "            \n",
    "def process(csv_file):\n",
    "    \"\"\"\n",
    "    Processes multiple rivers based on input from a CSV file.\n",
    "    \n",
    "    Parameters:\n",
    "    csv_file (str): Path to the CSV file with river information.\n",
    "\n",
    "    The CSV is expected to have the following columns:\n",
    "    - river_name: The name of the river.\n",
    "    - working_directory: Path to the working directory.\n",
    "    - reach_range: A tuple or integer specifying the range of reaches, or 'All' for all.\n",
    "    - year_range: A tuple or integer specifying the range of years, or 'All' for all.\n",
    "    - mask_output_path: Path to the raster mask file.\n",
    "    - channel_files_output: Path to the vector shapefile.\n",
    "    - min_pixels: Minimum number of pixels to keep a water component.\n",
    "    \"\"\"\n",
    "    try:\n",
    "        df = pd.read_csv(csv_file)\n",
    "        \n",
    "        # Ensure all required columns are present\n",
    "        required_columns = ['river_name', 'working_directory', 'reach_range', 'year_range', 'min_pixels']\n",
    "        for col in required_columns:\n",
    "            if col not in df.columns:\n",
    "                raise ValueError(f\"Missing required column: {col}\")\n",
    "        \n",
    "        # Iterate over each row and call the main function\n",
    "        for index, row in df.iterrows():\n",
    "            river_name = row['river_name']\n",
    "            working_directory = row['working_directory']\n",
    "            reach_range = row['reach_range']\n",
    "            year_range = row['year_range']\n",
    "            min_pixels = row['min_pixels']\n",
    "            base_raster_path = os.path.join(working_directory, \"RiverMapping\", \"RiverMasks\")\n",
    "            base_shapefile_path = os.path.join(working_directory, \"RiverMapping\")\n",
    "            \n",
    "            # Parse year_range and reach_range: Handle \"All\", single integer, and tuples\n",
    "            # For reach_range\n",
    "            if isinstance(reach_range, str) and reach_range == 'All':\n",
    "                reach_range = 'All'  # Process all reaches\n",
    "            elif isinstance(reach_range, str):\n",
    "                # Attempt to parse reach_range as a tuple or integer\n",
    "                try:\n",
    "                    reach_range = eval(reach_range)\n",
    "                except Exception:\n",
    "                    raise ValueError(f\"Invalid reach_range input: {reach_range}\")\n",
    "            \n",
    "            # For year_range\n",
    "            if isinstance(year_range, str) and year_range == 'All':\n",
    "                year_range = 'All'  # Process all years\n",
    "            elif isinstance(year_range, str):\n",
    "                # Attempt to parse year_range as a tuple or integer\n",
    "                try:\n",
    "                    year_range = eval(year_range)\n",
    "                except Exception:\n",
    "                    raise ValueError(f\"Invalid year_range input: {year_range}\")\n",
    "\n",
    "            # Print status for user tracking\n",
    "            print(f\"Processing river: {river_name}, reach_range: {reach_range}, year_range: {year_range}\")\n",
    "            \n",
    "            # Call the main function for each river\n",
    "            main(river_name, reach_range, year_range, base_raster_path, base_shapefile_path, min_pixels)\n",
    "        \n",
    "        print(\"Processing complete for all rivers.\")\n",
    "    \n",
    "    except Exception as e:\n",
    "        print(f\"Error during processing: {e}\")"
   ]
  },
  {
   "cell_type": "code",
   "execution_count": 3,
   "id": "02715a48",
   "metadata": {},
   "outputs": [
    {
     "name": "stdout",
     "output_type": "stream",
     "text": [
      "Processing river: Yukon_Beaver, reach_range: All, year_range: All\n",
      "The shapefile at D:\\Dissertation\\Data\\RiverMapping\\Channels\\Yukon_Beaver\\reach_1\\1984\\main_channel.shp does not have a CRS defined. Assigning default CRS: EPSG:4326\n"
     ]
    },
    {
     "name": "stderr",
     "output_type": "stream",
     "text": [
      "C:\\Users\\huckr\\AppData\\Local\\Temp\\ipykernel_12812\\3856295887.py:113: UserWarning: CRS mismatch between the CRS of left geometries and the CRS of right geometries.\n",
      "Use `to_crs()` to reproject one of the input geometries to match the CRS of the other.\n",
      "\n",
      "Left CRS: None\n",
      "Right CRS: EPSG:4326\n",
      "\n",
      "  intersections = gpd.sjoin(raster_gdf, line_gdf, how='inner', predicate='intersects')\n"
     ]
    },
    {
     "name": "stdout",
     "output_type": "stream",
     "text": [
      "The shapefile at D:\\Dissertation\\Data\\RiverMapping\\Channels\\Yukon_Beaver\\reach_1\\1985\\main_channel.shp does not have a CRS defined. Assigning default CRS: EPSG:4326\n"
     ]
    },
    {
     "name": "stderr",
     "output_type": "stream",
     "text": [
      "C:\\Users\\huckr\\AppData\\Local\\Temp\\ipykernel_12812\\3856295887.py:113: UserWarning: CRS mismatch between the CRS of left geometries and the CRS of right geometries.\n",
      "Use `to_crs()` to reproject one of the input geometries to match the CRS of the other.\n",
      "\n",
      "Left CRS: None\n",
      "Right CRS: EPSG:4326\n",
      "\n",
      "  intersections = gpd.sjoin(raster_gdf, line_gdf, how='inner', predicate='intersects')\n"
     ]
    },
    {
     "name": "stdout",
     "output_type": "stream",
     "text": [
      "The shapefile at D:\\Dissertation\\Data\\RiverMapping\\Channels\\Yukon_Beaver\\reach_1\\1986\\main_channel.shp does not have a CRS defined. Assigning default CRS: EPSG:4326\n"
     ]
    },
    {
     "name": "stderr",
     "output_type": "stream",
     "text": [
      "C:\\Users\\huckr\\AppData\\Local\\Temp\\ipykernel_12812\\3856295887.py:113: UserWarning: CRS mismatch between the CRS of left geometries and the CRS of right geometries.\n",
      "Use `to_crs()` to reproject one of the input geometries to match the CRS of the other.\n",
      "\n",
      "Left CRS: None\n",
      "Right CRS: EPSG:4326\n",
      "\n",
      "  intersections = gpd.sjoin(raster_gdf, line_gdf, how='inner', predicate='intersects')\n"
     ]
    },
    {
     "name": "stdout",
     "output_type": "stream",
     "text": [
      "The shapefile at D:\\Dissertation\\Data\\RiverMapping\\Channels\\Yukon_Beaver\\reach_1\\1991\\main_channel.shp does not have a CRS defined. Assigning default CRS: EPSG:4326\n"
     ]
    },
    {
     "name": "stderr",
     "output_type": "stream",
     "text": [
      "C:\\Users\\huckr\\AppData\\Local\\Temp\\ipykernel_12812\\3856295887.py:113: UserWarning: CRS mismatch between the CRS of left geometries and the CRS of right geometries.\n",
      "Use `to_crs()` to reproject one of the input geometries to match the CRS of the other.\n",
      "\n",
      "Left CRS: None\n",
      "Right CRS: EPSG:4326\n",
      "\n",
      "  intersections = gpd.sjoin(raster_gdf, line_gdf, how='inner', predicate='intersects')\n"
     ]
    },
    {
     "name": "stdout",
     "output_type": "stream",
     "text": [
      "The shapefile at D:\\Dissertation\\Data\\RiverMapping\\Channels\\Yukon_Beaver\\reach_1\\1994\\main_channel.shp does not have a CRS defined. Assigning default CRS: EPSG:4326\n"
     ]
    },
    {
     "name": "stderr",
     "output_type": "stream",
     "text": [
      "C:\\Users\\huckr\\AppData\\Local\\Temp\\ipykernel_12812\\3856295887.py:113: UserWarning: CRS mismatch between the CRS of left geometries and the CRS of right geometries.\n",
      "Use `to_crs()` to reproject one of the input geometries to match the CRS of the other.\n",
      "\n",
      "Left CRS: None\n",
      "Right CRS: EPSG:4326\n",
      "\n",
      "  intersections = gpd.sjoin(raster_gdf, line_gdf, how='inner', predicate='intersects')\n"
     ]
    },
    {
     "name": "stdout",
     "output_type": "stream",
     "text": [
      "The shapefile at D:\\Dissertation\\Data\\RiverMapping\\Channels\\Yukon_Beaver\\reach_1\\1998\\main_channel.shp does not have a CRS defined. Assigning default CRS: EPSG:4326\n"
     ]
    },
    {
     "name": "stderr",
     "output_type": "stream",
     "text": [
      "C:\\Users\\huckr\\AppData\\Local\\Temp\\ipykernel_12812\\3856295887.py:113: UserWarning: CRS mismatch between the CRS of left geometries and the CRS of right geometries.\n",
      "Use `to_crs()` to reproject one of the input geometries to match the CRS of the other.\n",
      "\n",
      "Left CRS: None\n",
      "Right CRS: EPSG:4326\n",
      "\n",
      "  intersections = gpd.sjoin(raster_gdf, line_gdf, how='inner', predicate='intersects')\n"
     ]
    },
    {
     "name": "stdout",
     "output_type": "stream",
     "text": [
      "The shapefile at D:\\Dissertation\\Data\\RiverMapping\\Channels\\Yukon_Beaver\\reach_1\\1999\\main_channel.shp does not have a CRS defined. Assigning default CRS: EPSG:4326\n"
     ]
    },
    {
     "name": "stderr",
     "output_type": "stream",
     "text": [
      "C:\\Users\\huckr\\AppData\\Local\\Temp\\ipykernel_12812\\3856295887.py:113: UserWarning: CRS mismatch between the CRS of left geometries and the CRS of right geometries.\n",
      "Use `to_crs()` to reproject one of the input geometries to match the CRS of the other.\n",
      "\n",
      "Left CRS: None\n",
      "Right CRS: EPSG:4326\n",
      "\n",
      "  intersections = gpd.sjoin(raster_gdf, line_gdf, how='inner', predicate='intersects')\n"
     ]
    },
    {
     "name": "stdout",
     "output_type": "stream",
     "text": [
      "The shapefile at D:\\Dissertation\\Data\\RiverMapping\\Channels\\Yukon_Beaver\\reach_1\\2000\\main_channel.shp does not have a CRS defined. Assigning default CRS: EPSG:4326\n"
     ]
    },
    {
     "name": "stderr",
     "output_type": "stream",
     "text": [
      "C:\\Users\\huckr\\AppData\\Local\\Temp\\ipykernel_12812\\3856295887.py:113: UserWarning: CRS mismatch between the CRS of left geometries and the CRS of right geometries.\n",
      "Use `to_crs()` to reproject one of the input geometries to match the CRS of the other.\n",
      "\n",
      "Left CRS: None\n",
      "Right CRS: EPSG:4326\n",
      "\n",
      "  intersections = gpd.sjoin(raster_gdf, line_gdf, how='inner', predicate='intersects')\n"
     ]
    },
    {
     "name": "stdout",
     "output_type": "stream",
     "text": [
      "The shapefile at D:\\Dissertation\\Data\\RiverMapping\\Channels\\Yukon_Beaver\\reach_1\\2001\\main_channel.shp does not have a CRS defined. Assigning default CRS: EPSG:4326\n"
     ]
    },
    {
     "name": "stderr",
     "output_type": "stream",
     "text": [
      "C:\\Users\\huckr\\AppData\\Local\\Temp\\ipykernel_12812\\3856295887.py:113: UserWarning: CRS mismatch between the CRS of left geometries and the CRS of right geometries.\n",
      "Use `to_crs()` to reproject one of the input geometries to match the CRS of the other.\n",
      "\n",
      "Left CRS: None\n",
      "Right CRS: EPSG:4326\n",
      "\n",
      "  intersections = gpd.sjoin(raster_gdf, line_gdf, how='inner', predicate='intersects')\n"
     ]
    },
    {
     "name": "stdout",
     "output_type": "stream",
     "text": [
      "The shapefile at D:\\Dissertation\\Data\\RiverMapping\\Channels\\Yukon_Beaver\\reach_1\\2002\\main_channel.shp does not have a CRS defined. Assigning default CRS: EPSG:4326\n"
     ]
    },
    {
     "name": "stderr",
     "output_type": "stream",
     "text": [
      "C:\\Users\\huckr\\AppData\\Local\\Temp\\ipykernel_12812\\3856295887.py:113: UserWarning: CRS mismatch between the CRS of left geometries and the CRS of right geometries.\n",
      "Use `to_crs()` to reproject one of the input geometries to match the CRS of the other.\n",
      "\n",
      "Left CRS: None\n",
      "Right CRS: EPSG:4326\n",
      "\n",
      "  intersections = gpd.sjoin(raster_gdf, line_gdf, how='inner', predicate='intersects')\n"
     ]
    },
    {
     "name": "stdout",
     "output_type": "stream",
     "text": [
      "The shapefile at D:\\Dissertation\\Data\\RiverMapping\\Channels\\Yukon_Beaver\\reach_1\\2004\\main_channel.shp does not have a CRS defined. Assigning default CRS: EPSG:4326\n"
     ]
    },
    {
     "name": "stderr",
     "output_type": "stream",
     "text": [
      "C:\\Users\\huckr\\AppData\\Local\\Temp\\ipykernel_12812\\3856295887.py:113: UserWarning: CRS mismatch between the CRS of left geometries and the CRS of right geometries.\n",
      "Use `to_crs()` to reproject one of the input geometries to match the CRS of the other.\n",
      "\n",
      "Left CRS: None\n",
      "Right CRS: EPSG:4326\n",
      "\n",
      "  intersections = gpd.sjoin(raster_gdf, line_gdf, how='inner', predicate='intersects')\n"
     ]
    },
    {
     "name": "stdout",
     "output_type": "stream",
     "text": [
      "The shapefile at D:\\Dissertation\\Data\\RiverMapping\\Channels\\Yukon_Beaver\\reach_1\\2005\\main_channel.shp does not have a CRS defined. Assigning default CRS: EPSG:4326\n"
     ]
    },
    {
     "name": "stderr",
     "output_type": "stream",
     "text": [
      "C:\\Users\\huckr\\AppData\\Local\\Temp\\ipykernel_12812\\3856295887.py:113: UserWarning: CRS mismatch between the CRS of left geometries and the CRS of right geometries.\n",
      "Use `to_crs()` to reproject one of the input geometries to match the CRS of the other.\n",
      "\n",
      "Left CRS: None\n",
      "Right CRS: EPSG:4326\n",
      "\n",
      "  intersections = gpd.sjoin(raster_gdf, line_gdf, how='inner', predicate='intersects')\n"
     ]
    },
    {
     "name": "stdout",
     "output_type": "stream",
     "text": [
      "The shapefile at D:\\Dissertation\\Data\\RiverMapping\\Channels\\Yukon_Beaver\\reach_1\\2006\\main_channel.shp does not have a CRS defined. Assigning default CRS: EPSG:4326\n"
     ]
    },
    {
     "name": "stderr",
     "output_type": "stream",
     "text": [
      "C:\\Users\\huckr\\AppData\\Local\\Temp\\ipykernel_12812\\3856295887.py:113: UserWarning: CRS mismatch between the CRS of left geometries and the CRS of right geometries.\n",
      "Use `to_crs()` to reproject one of the input geometries to match the CRS of the other.\n",
      "\n",
      "Left CRS: None\n",
      "Right CRS: EPSG:4326\n",
      "\n",
      "  intersections = gpd.sjoin(raster_gdf, line_gdf, how='inner', predicate='intersects')\n"
     ]
    },
    {
     "name": "stdout",
     "output_type": "stream",
     "text": [
      "The shapefile at D:\\Dissertation\\Data\\RiverMapping\\Channels\\Yukon_Beaver\\reach_1\\2007\\main_channel.shp does not have a CRS defined. Assigning default CRS: EPSG:4326\n"
     ]
    },
    {
     "name": "stderr",
     "output_type": "stream",
     "text": [
      "C:\\Users\\huckr\\AppData\\Local\\Temp\\ipykernel_12812\\3856295887.py:113: UserWarning: CRS mismatch between the CRS of left geometries and the CRS of right geometries.\n",
      "Use `to_crs()` to reproject one of the input geometries to match the CRS of the other.\n",
      "\n",
      "Left CRS: None\n",
      "Right CRS: EPSG:4326\n",
      "\n",
      "  intersections = gpd.sjoin(raster_gdf, line_gdf, how='inner', predicate='intersects')\n"
     ]
    },
    {
     "ename": "KeyboardInterrupt",
     "evalue": "",
     "output_type": "error",
     "traceback": [
      "\u001b[1;31m---------------------------------------------------------------------------\u001b[0m",
      "\u001b[1;31mKeyboardInterrupt\u001b[0m                         Traceback (most recent call last)",
      "Cell \u001b[1;32mIn[3], line 2\u001b[0m\n\u001b[0;32m      1\u001b[0m csv_path \u001b[38;5;241m=\u001b[39m \u001b[38;5;124mr\u001b[39m\u001b[38;5;124m\"\u001b[39m\u001b[38;5;124mD:\u001b[39m\u001b[38;5;124m\\\u001b[39m\u001b[38;5;124mDissertation\u001b[39m\u001b[38;5;124m\\\u001b[39m\u001b[38;5;124mData\u001b[39m\u001b[38;5;124m\\\u001b[39m\u001b[38;5;124mGeyman_river_datasheet.csv\u001b[39m\u001b[38;5;124m\"\u001b[39m\n\u001b[1;32m----> 2\u001b[0m process(csv_path)\n",
      "Cell \u001b[1;32mIn[2], line 330\u001b[0m, in \u001b[0;36mprocess\u001b[1;34m(csv_file)\u001b[0m\n\u001b[0;32m    327\u001b[0m         \u001b[38;5;28mprint\u001b[39m(\u001b[38;5;124mf\u001b[39m\u001b[38;5;124m\"\u001b[39m\u001b[38;5;124mProcessing river: \u001b[39m\u001b[38;5;132;01m{\u001b[39;00mriver_name\u001b[38;5;132;01m}\u001b[39;00m\u001b[38;5;124m, reach_range: \u001b[39m\u001b[38;5;132;01m{\u001b[39;00mreach_range\u001b[38;5;132;01m}\u001b[39;00m\u001b[38;5;124m, year_range: \u001b[39m\u001b[38;5;132;01m{\u001b[39;00myear_range\u001b[38;5;132;01m}\u001b[39;00m\u001b[38;5;124m\"\u001b[39m)\n\u001b[0;32m    329\u001b[0m         \u001b[38;5;66;03m# Call the main function for each river\u001b[39;00m\n\u001b[1;32m--> 330\u001b[0m         main(river_name, reach_range, year_range, base_raster_path, base_shapefile_path, min_pixels)\n\u001b[0;32m    332\u001b[0m     \u001b[38;5;28mprint\u001b[39m(\u001b[38;5;124m\"\u001b[39m\u001b[38;5;124mProcessing complete for all rivers.\u001b[39m\u001b[38;5;124m\"\u001b[39m)\n\u001b[0;32m    334\u001b[0m \u001b[38;5;28;01mexcept\u001b[39;00m \u001b[38;5;167;01mException\u001b[39;00m \u001b[38;5;28;01mas\u001b[39;00m e:\n",
      "Cell \u001b[1;32mIn[2], line 258\u001b[0m, in \u001b[0;36mmain\u001b[1;34m(river_name, reach_range, year_range, base_raster_path, base_shapefile_path, min_pixels)\u001b[0m\n\u001b[0;32m    255\u001b[0m     \u001b[38;5;28;01mcontinue\u001b[39;00m\n\u001b[0;32m    257\u001b[0m raster_gdf \u001b[38;5;241m=\u001b[39m raster_to_gdf(classified_raster, clipped_transform)\n\u001b[1;32m--> 258\u001b[0m unique_labels \u001b[38;5;241m=\u001b[39m find_intersecting_pixels(raster_gdf, main_channel)\n\u001b[0;32m    259\u001b[0m filtered_raster \u001b[38;5;241m=\u001b[39m filter_and_reclassify_raster(classified_raster, unique_labels, min_pixels\u001b[38;5;241m=\u001b[39mmin_pixels)\n\u001b[0;32m    260\u001b[0m final_raster \u001b[38;5;241m=\u001b[39m fill_small_dry_holes(filtered_raster, max_size\u001b[38;5;241m=\u001b[39m\u001b[38;5;241m10\u001b[39m)\n",
      "Cell \u001b[1;32mIn[2], line 113\u001b[0m, in \u001b[0;36mfind_intersecting_pixels\u001b[1;34m(raster_gdf, line_gdf)\u001b[0m\n\u001b[0;32m    102\u001b[0m \u001b[38;5;250m\u001b[39m\u001b[38;5;124;03m\"\"\"\u001b[39;00m\n\u001b[0;32m    103\u001b[0m \u001b[38;5;124;03mFind unique pixel values that a line intersects with.\u001b[39;00m\n\u001b[0;32m    104\u001b[0m \n\u001b[1;32m   (...)\u001b[0m\n\u001b[0;32m    110\u001b[0m \u001b[38;5;124;03munique_labels: A set of unique pixel values that the line intersects.\u001b[39;00m\n\u001b[0;32m    111\u001b[0m \u001b[38;5;124;03m\"\"\"\u001b[39;00m\n\u001b[0;32m    112\u001b[0m \u001b[38;5;66;03m# Perform a spatial join to find intersecting pixels\u001b[39;00m\n\u001b[1;32m--> 113\u001b[0m intersections \u001b[38;5;241m=\u001b[39m gpd\u001b[38;5;241m.\u001b[39msjoin(raster_gdf, line_gdf, how\u001b[38;5;241m=\u001b[39m\u001b[38;5;124m'\u001b[39m\u001b[38;5;124minner\u001b[39m\u001b[38;5;124m'\u001b[39m, predicate\u001b[38;5;241m=\u001b[39m\u001b[38;5;124m'\u001b[39m\u001b[38;5;124mintersects\u001b[39m\u001b[38;5;124m'\u001b[39m)\n\u001b[0;32m    114\u001b[0m unique_labels \u001b[38;5;241m=\u001b[39m \u001b[38;5;28mset\u001b[39m(intersections[\u001b[38;5;124m'\u001b[39m\u001b[38;5;124mlabel\u001b[39m\u001b[38;5;124m'\u001b[39m])\n\u001b[0;32m    116\u001b[0m \u001b[38;5;28;01mreturn\u001b[39;00m unique_labels\n",
      "File \u001b[1;32m~\\miniconda3\\Lib\\site-packages\\geopandas\\tools\\sjoin.py:121\u001b[0m, in \u001b[0;36msjoin\u001b[1;34m(left_df, right_df, how, predicate, lsuffix, rsuffix, **kwargs)\u001b[0m\n\u001b[0;32m    117\u001b[0m     \u001b[38;5;28;01mraise\u001b[39;00m \u001b[38;5;167;01mTypeError\u001b[39;00m(\u001b[38;5;124mf\u001b[39m\u001b[38;5;124m\"\u001b[39m\u001b[38;5;124msjoin() got an unexpected keyword argument \u001b[39m\u001b[38;5;124m'\u001b[39m\u001b[38;5;132;01m{\u001b[39;00mfirst\u001b[38;5;132;01m}\u001b[39;00m\u001b[38;5;124m'\u001b[39m\u001b[38;5;124m\"\u001b[39m)\n\u001b[0;32m    119\u001b[0m _basic_checks(left_df, right_df, how, lsuffix, rsuffix)\n\u001b[1;32m--> 121\u001b[0m indices \u001b[38;5;241m=\u001b[39m _geom_predicate_query(left_df, right_df, predicate)\n\u001b[0;32m    123\u001b[0m joined \u001b[38;5;241m=\u001b[39m _frame_join(indices, left_df, right_df, how, lsuffix, rsuffix)\n\u001b[0;32m    125\u001b[0m \u001b[38;5;28;01mreturn\u001b[39;00m joined\n",
      "File \u001b[1;32m~\\miniconda3\\Lib\\site-packages\\geopandas\\tools\\sjoin.py:217\u001b[0m, in \u001b[0;36m_geom_predicate_query\u001b[1;34m(left_df, right_df, predicate)\u001b[0m\n\u001b[0;32m    214\u001b[0m         input_geoms \u001b[38;5;241m=\u001b[39m left_df\u001b[38;5;241m.\u001b[39mgeometry\n\u001b[0;32m    216\u001b[0m \u001b[38;5;28;01mif\u001b[39;00m sindex:\n\u001b[1;32m--> 217\u001b[0m     l_idx, r_idx \u001b[38;5;241m=\u001b[39m sindex\u001b[38;5;241m.\u001b[39mquery(input_geoms, predicate\u001b[38;5;241m=\u001b[39mpredicate, sort\u001b[38;5;241m=\u001b[39m\u001b[38;5;28;01mFalse\u001b[39;00m)\n\u001b[0;32m    218\u001b[0m     indices \u001b[38;5;241m=\u001b[39m pd\u001b[38;5;241m.\u001b[39mDataFrame({\u001b[38;5;124m\"\u001b[39m\u001b[38;5;124m_key_left\u001b[39m\u001b[38;5;124m\"\u001b[39m: l_idx, \u001b[38;5;124m\"\u001b[39m\u001b[38;5;124m_key_right\u001b[39m\u001b[38;5;124m\"\u001b[39m: r_idx})\n\u001b[0;32m    219\u001b[0m \u001b[38;5;28;01melse\u001b[39;00m:\n\u001b[0;32m    220\u001b[0m     \u001b[38;5;66;03m# when sindex is empty / has no valid geometries\u001b[39;00m\n",
      "File \u001b[1;32m~\\miniconda3\\Lib\\site-packages\\geopandas\\sindex.py:779\u001b[0m, in \u001b[0;36mPyGEOSSTRTreeIndex.query\u001b[1;34m(self, geometry, predicate, sort)\u001b[0m\n\u001b[0;32m    776\u001b[0m geometry \u001b[38;5;241m=\u001b[39m \u001b[38;5;28mself\u001b[39m\u001b[38;5;241m.\u001b[39m_as_geometry_array(geometry)\n\u001b[0;32m    778\u001b[0m \u001b[38;5;28;01mif\u001b[39;00m compat\u001b[38;5;241m.\u001b[39mUSE_SHAPELY_20:\n\u001b[1;32m--> 779\u001b[0m     indices \u001b[38;5;241m=\u001b[39m \u001b[38;5;28mself\u001b[39m\u001b[38;5;241m.\u001b[39m_tree\u001b[38;5;241m.\u001b[39mquery(geometry, predicate\u001b[38;5;241m=\u001b[39mpredicate)\n\u001b[0;32m    780\u001b[0m \u001b[38;5;28;01melse\u001b[39;00m:\n\u001b[0;32m    781\u001b[0m     \u001b[38;5;28;01mif\u001b[39;00m \u001b[38;5;28misinstance\u001b[39m(geometry, np\u001b[38;5;241m.\u001b[39mndarray):\n",
      "File \u001b[1;32m~\\miniconda3\\Lib\\site-packages\\shapely\\strtree.py:269\u001b[0m, in \u001b[0;36mSTRtree.query\u001b[1;34m(self, geometry, predicate, distance)\u001b[0m\n\u001b[0;32m    266\u001b[0m     \u001b[38;5;28;01mreturn\u001b[39;00m indices[\u001b[38;5;241m1\u001b[39m] \u001b[38;5;28;01mif\u001b[39;00m is_scalar \u001b[38;5;28;01melse\u001b[39;00m indices\n\u001b[0;32m    268\u001b[0m predicate \u001b[38;5;241m=\u001b[39m BinaryPredicate\u001b[38;5;241m.\u001b[39mget_value(predicate)\n\u001b[1;32m--> 269\u001b[0m indices \u001b[38;5;241m=\u001b[39m \u001b[38;5;28mself\u001b[39m\u001b[38;5;241m.\u001b[39m_tree\u001b[38;5;241m.\u001b[39mquery(geometry, predicate)\n\u001b[0;32m    270\u001b[0m \u001b[38;5;28;01mreturn\u001b[39;00m indices[\u001b[38;5;241m1\u001b[39m] \u001b[38;5;28;01mif\u001b[39;00m is_scalar \u001b[38;5;28;01melse\u001b[39;00m indices\n",
      "\u001b[1;31mKeyboardInterrupt\u001b[0m: "
     ]
    }
   ],
   "source": [
    "csv_path = r\"D:\\Dissertation\\Data\\Geyman_river_datasheet.csv\"\n",
    "process(csv_path)"
   ]
  },
  {
   "cell_type": "code",
   "execution_count": null,
   "id": "b894e4c1",
   "metadata": {},
   "outputs": [],
   "source": []
  }
 ],
 "metadata": {
  "kernelspec": {
   "display_name": "Python 3 (ipykernel)",
   "language": "python",
   "name": "python3"
  },
  "language_info": {
   "codemirror_mode": {
    "name": "ipython",
    "version": 3
   },
   "file_extension": ".py",
   "mimetype": "text/x-python",
   "name": "python",
   "nbconvert_exporter": "python",
   "pygments_lexer": "ipython3",
   "version": "3.11.5"
  }
 },
 "nbformat": 4,
 "nbformat_minor": 5
}
