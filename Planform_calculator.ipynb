{
 "cells": [
  {
   "cell_type": "markdown",
   "id": "a48ab391",
   "metadata": {},
   "source": [
    "# Calculate river planform (sinuosity, channel count index, channel form index)\n",
    "\n",
    "The following code is directed to a given local path containing 2-D water mask rasters. The code takes the water mask, and start by creating a \"skeleton\" of the mask. It then dilates the tips of the skeleton to improve connection of the channel network, reskeletonizes, and reduces the skeleton to only the identifiable river channels. From the final skeletion, channel links and nodes are created. The links are filtered according to criteria, and a shortest path line or \"main channel\" is extracted, along with a simplified main channel which acts as a valley center line, enabling sinuosity calculations. Finally, cross sections of the river are created and channel count index is calculated across the cross-sections. With sinuosity and channel-count index, the chanel form index can be calculated. These river metrics are provided and exported to a .csv. The processed skeleton, nodes, channel links, main channel, valley center-line, and channel-belt cross-sections are output as shapefiles, and the network for each reach/year is plotted and compiled in a PDF for the user' to QA/QC.\n",
    "\n",
    "Channel form index is calculated as outlined in:\n",
    "Galeazzi, C.P., Almeida, R.P., do Prado, A.H., 2021. Linking rivers to the rock record: Channel patterns and paleocurrent circular variance. Geology 49, 1402–1407. https://doi.org/10.1130/G49121.1\n",
    "\n",
    "Inspiration for river channel network analysis taken from rivgraph: https://github.com/VeinsOfTheEarth/RivGraph\n",
    "Schwenk, J., Hariharan, J., 2021. RivGraph: Automatic extraction and analysis of river and delta channel network topology. Journal of Open Source Software 6, 2952. https://doi.org/10.21105/joss.02952\n",
    "\n",
    "Author: James (Huck) Rees; PhD Student, UCSB Geography\n",
    "\n",
    "Date: January 14, 2024"
   ]
  },
  {
   "cell_type": "markdown",
   "id": "5b19a039",
   "metadata": {},
   "source": [
    "## Import packages"
   ]
  },
  {
   "cell_type": "code",
   "execution_count": 1,
   "id": "facbeca7",
   "metadata": {},
   "outputs": [],
   "source": [
    "import os\n",
    "import re\n",
    "import logging\n",
    "from glob import glob\n",
    "from itertools import combinations\n",
    "\n",
    "import numpy as np\n",
    "import pandas as pd\n",
    "import geopandas as gpd\n",
    "from fractions import Fraction\n",
    "\n",
    "import rasterio\n",
    "from rasterio.plot import show\n",
    "from rasterio.transform import xy\n",
    "\n",
    "import matplotlib.pyplot as plt\n",
    "from matplotlib.backends.backend_pdf import PdfPages\n",
    "\n",
    "from skimage.morphology import skeletonize, label\n",
    "from skimage.measure import regionprops\n",
    "from skimage import io, img_as_bool\n",
    "from skimage.feature import corner_harris, corner_peaks\n",
    "\n",
    "from shapefile import Reader, Writer\n",
    "from shapely.geometry import LineString, Point, MultiLineString, MultiPoint\n",
    "from shapely.ops import split, linemerge, snap, nearest_points, unary_union\n",
    "from shapely.strtree import STRtree\n",
    "\n",
    "from scipy.ndimage import label as scipy_label, find_objects\n",
    "from scipy.spatial import cKDTree\n",
    "\n",
    "from rtree import index as rtree_index\n",
    "\n",
    "import networkx as nx\n",
    "\n",
    "from collections import Counter, defaultdict\n",
    "\n",
    "import ast"
   ]
  },
  {
   "cell_type": "markdown",
   "id": "d84ad93d",
   "metadata": {},
   "source": [
    "## Initialize functions"
   ]
  },
  {
   "cell_type": "code",
   "execution_count": 2,
   "id": "62ef65ac",
   "metadata": {},
   "outputs": [],
   "source": [
    "# Function to load raster data\n",
    "def load_raster(file_path):\n",
    "    \"\"\"\n",
    "    Loads a raster file and returns the data of the first band along with its metadata.\n",
    "\n",
    "    Parameters:\n",
    "    file_path (str): The path to the raster file.\n",
    "\n",
    "    Returns:\n",
    "    tuple: A tuple containing:\n",
    "        - data (numpy.ndarray): The data of the first band of the raster.\n",
    "        - metadata (dict): The metadata of the raster file.\n",
    "    \"\"\"\n",
    "    with rasterio.open(file_path) as dataset:\n",
    "        data = dataset.read(1)  # Read the first band\n",
    "        metadata = dataset.meta\n",
    "    return data, metadata\n",
    "\n",
    "# Function to save a raster file\n",
    "def save_raster(output_path, data, metadata):\n",
    "    \"\"\"\n",
    "    Saves a raster file with the given data and metadata.\n",
    "\n",
    "    Parameters:\n",
    "    output_path (str): The path to save the output raster file.\n",
    "    data (numpy.ndarray): The data to be written to the raster file.\n",
    "    metadata (dict): The metadata of the raster file, including CRS and transform information.\n",
    "\n",
    "    Returns:\n",
    "    None\n",
    "    \"\"\"\n",
    "    with rasterio.open(\n",
    "        output_path, \n",
    "        'w', \n",
    "        driver='GTiff', \n",
    "        height=data.shape[0], \n",
    "        width=data.shape[1], \n",
    "        count=1, \n",
    "        dtype='uint8', \n",
    "        crs=metadata['crs'], \n",
    "        transform=metadata['transform']\n",
    "    ) as dst:\n",
    "        dst.write(data.astype('uint8'), 1)\n",
    "\n",
    "def eliminate_small_islands(water_mask, min_size=10):\n",
    "    \"\"\"\n",
    "    Eliminate small \"islands\" of water and non-water regions in a binary water mask array \n",
    "    based on a minimum size threshold.\n",
    "\n",
    "    Parameters:\n",
    "    water_mask (numpy.ndarray): A 2D binary array where:\n",
    "                                - `1` represents water.\n",
    "                                - `0` represents no-water.\n",
    "    min_size (int, optional): The minimum number of pixels a region must have to be retained.\n",
    "                              Regions smaller than this size will be removed. Defaults to 10.\n",
    "\n",
    "    Returns:\n",
    "    numpy.ndarray: The cleaned water mask array with small islands of water and non-water removed.\n",
    "\n",
    "    Workflow:\n",
    "    1. Label connected components in the inverse of the water mask (non-water regions).\n",
    "    2. Identify and remove non-water regions smaller than the `min_size` threshold by \n",
    "       converting them to water (value `1`).\n",
    "    3. Label connected components in the original water mask (water regions).\n",
    "    4. Identify and remove water regions smaller than the `min_size` threshold by \n",
    "       converting them to no-water (value `0`).\n",
    "    \"\"\"\n",
    "    # Step 1: Label connected components in the inverse water mask (non-water regions)\n",
    "    labeled_array, num_features = scipy_label(1 - water_mask)\n",
    "    \n",
    "    # Step 2: Remove non-water regions smaller than `min_size`\n",
    "    for i in range(1, num_features + 1):\n",
    "        blob = labeled_array == i\n",
    "        if np.sum(blob) <= min_size:\n",
    "            water_mask[blob] = 1  # Convert small no-water regions to water (1)\n",
    "\n",
    "    # Step 3: Label connected components in the original water mask (water regions)\n",
    "    labeled_array, num_features = scipy_label(water_mask)\n",
    "    \n",
    "    # Step 4: Remove water regions smaller than `min_size`\n",
    "    for i in range(1, num_features + 1):\n",
    "        blob = labeled_array == i\n",
    "        if np.sum(blob) <= min_size:\n",
    "            water_mask[blob] = 0  # Convert small water regions to no-water (0)\n",
    "    \n",
    "    return water_mask\n",
    "\n",
    "# Function to perform conditional dilation\n",
    "def conditional_dilation(image, radius=5):\n",
    "    \"\"\"\n",
    "    Performs a conditional dilation on a binary image. Pixels with a value of 1 that have \n",
    "    two or fewer neighbors with the same value will cause a dilation within a given radius.\n",
    "\n",
    "    Parameters:\n",
    "    image (numpy.ndarray): The input binary image (2D array) to be processed.\n",
    "    radius (int, optional): The radius for the dilation operation. Default is 5.\n",
    "\n",
    "    Returns:\n",
    "    numpy.ndarray: The dilated image.\n",
    "    \"\"\"\n",
    "    dilated_image = np.copy(image)\n",
    "    for row in range(1, image.shape[0] - 1):\n",
    "        for col in range(1, image.shape[1] - 1):\n",
    "            if image[row, col] == 1:\n",
    "                neighbors = image[row-1:row+2, col-1:col+2]\n",
    "                if np.sum(neighbors) <= 2:  # Include the pixel itself in the count\n",
    "                    dilated_image[max(0, row-radius):min(row+radius+1, image.shape[0]), \n",
    "                                  max(0, col-radius):min(col+radius+1, image.shape[1])] = 1\n",
    "    return dilated_image\n",
    "\n",
    "# Function to keep only the largest connected component\n",
    "def keep_largest_component(image):\n",
    "    \"\"\"\n",
    "    Identifies and retains the largest connected component in a binary image. All other components are removed.\n",
    "\n",
    "    Parameters:\n",
    "    image (numpy.ndarray): The input binary image (2D array).\n",
    "\n",
    "    Returns:\n",
    "    numpy.ndarray: A binary image containing only the largest connected component.\n",
    "    \"\"\"\n",
    "    labeled_image, num_features = label(image, connectivity=2, return_num=True)\n",
    "    if num_features == 0:\n",
    "        return image\n",
    "    regions = regionprops(labeled_image)\n",
    "    largest_region = max(regions, key=lambda r: r.area)\n",
    "    largest_component = (labeled_image == largest_region.label)\n",
    "    return largest_component\n",
    "\n",
    "# Function to create links shapefile\n",
    "def create_links(image, metadata):\n",
    "    \"\"\"\n",
    "    Identifies and creates links between adjacent pixels in a binary image. Links are represented as LineStrings.\n",
    "\n",
    "    Parameters:\n",
    "    image (numpy.ndarray): The input binary image (2D array) to be processed.\n",
    "    metadata (dict): The metadata of the raster file, including transform information.\n",
    "\n",
    "    Returns:\n",
    "    geopandas.GeoDataFrame: A GeoDataFrame containing the links as LineStrings.\n",
    "    \"\"\"\n",
    "    links = []\n",
    "    transform = metadata['transform']\n",
    "    link_id = 1\n",
    "\n",
    "    # Iterate over each pixel in the image\n",
    "    for row in range(image.shape[0]):\n",
    "        for col in range(image.shape[1]):\n",
    "            if image[row, col] == 1:  # Check if the pixel is part of a segment\n",
    "                # Identify neighboring pixels that are also part of the segment\n",
    "                neighbors = [\n",
    "                    (row + dr, col + dc) \n",
    "                    for dr, dc in [(-1, 0), (1, 0), (0, -1), (0, 1), (-1, -1), (-1, 1), (1, -1), (1, 1)] \n",
    "                    if 0 <= row + dr < image.shape[0] and 0 <= col + dc < image.shape[1] and image[row + dr, col + dc] == 1\n",
    "                ]\n",
    "                # Create LineString for each neighbor\n",
    "                for nr, nc in neighbors:\n",
    "                    x1, y1 = xy(transform, row, col)  # Convert pixel coordinates to spatial coordinates\n",
    "                    x2, y2 = xy(transform, nr, nc)\n",
    "                    line = LineString([(x1, y1), (x2, y2)])\n",
    "                    links.append((link_id, line))  # Append link to the list\n",
    "                    link_id += 1\n",
    "\n",
    "    # Remove duplicate links by sorting the coordinates of each LineString\n",
    "    unique_links = []\n",
    "    seen = set()\n",
    "    for link in links:\n",
    "        coords = tuple(sorted(link[1].coords))\n",
    "        if coords not in seen:\n",
    "            seen.add(coords)\n",
    "            unique_links.append(link)\n",
    "\n",
    "    # Create a GeoDataFrame from the unique links\n",
    "    gdf = gpd.GeoDataFrame(unique_links, columns=['id', 'geometry'])\n",
    "    \n",
    "    # Set the coordinate reference system (CRS)\n",
    "    gdf.set_crs(epsg=4326, inplace=True)\n",
    "\n",
    "    return gdf\n",
    "\n",
    "# Function to filter links\n",
    "def filter_links(gdf):\n",
    "    \"\"\"\n",
    "    Filters out diagonal links from a GeoDataFrame of line segments, retaining only those\n",
    "    that are not part of an intersection with horizontal and vertical links.\n",
    "\n",
    "    Parameters:\n",
    "    gdf (geopandas.GeoDataFrame): The input GeoDataFrame containing line segments.\n",
    "\n",
    "    Returns:\n",
    "    geopandas.GeoDataFrame: A filtered GeoDataFrame with certain diagonal links removed.\n",
    "    \"\"\"\n",
    "    # Function to categorize the line segments\n",
    "    def categorize_line(row):\n",
    "        if row['start_point'][1] == row['end_point'][1]:\n",
    "            return 'horizontal'\n",
    "        elif row['start_point'][0] == row['end_point'][0]:\n",
    "            return 'vertical'\n",
    "        else:\n",
    "            return 'diagonal'\n",
    "    \n",
    "    # Function to extract start and end coordinates of each line segment\n",
    "    def get_coordinates(geometry):\n",
    "        start_point = geometry.coords[0]\n",
    "        end_point = geometry.coords[1]\n",
    "        return start_point, end_point\n",
    "    \n",
    "    # Apply the function to get coordinates and categorize each segment\n",
    "    gdf[['start_point', 'end_point']] = gdf.apply(lambda row: get_coordinates(row.geometry), axis=1, result_type='expand')\n",
    "    gdf['category'] = gdf.apply(categorize_line, axis=1)\n",
    "    \n",
    "    # Initialize spatial indexes for horizontal and vertical links\n",
    "    idx_horizontal = rtree_index.Index()\n",
    "    idx_vertical = rtree_index.Index()\n",
    "    \n",
    "    for idx, row in gdf.iterrows():\n",
    "        if row['category'] == 'horizontal':\n",
    "            idx_horizontal.insert(idx, row['geometry'].bounds)\n",
    "        elif row['category'] == 'vertical':\n",
    "            idx_vertical.insert(idx, row['geometry'].bounds)\n",
    "    \n",
    "    diagonals_to_remove = set()\n",
    "    \n",
    "    # Loop through each diagonal link\n",
    "    for index, diag_row in gdf[gdf['category'] == 'diagonal'].iterrows():\n",
    "        diag_start = diag_row['start_point']\n",
    "        diag_end = diag_row['end_point']\n",
    "        diag_bounds = diag_row['geometry'].bounds\n",
    "        x_coords = {diag_start[0], diag_end[0]}\n",
    "        y_coords = {diag_start[1], diag_end[1]}\n",
    "        hor = ver = False\n",
    "        \n",
    "        # Find horizontal links intersecting with the diagonal link using spatial index\n",
    "        for hor_idx in idx_horizontal.intersection(diag_bounds):\n",
    "            hor_row = gdf.loc[hor_idx]\n",
    "            hor_start = hor_row['start_point']\n",
    "            hor_end = hor_row['end_point']\n",
    "            if (hor_start[1] in y_coords or hor_end[1] in y_coords) and (hor_start[0] in x_coords and hor_end[0] in x_coords):\n",
    "                hor = True\n",
    "                break\n",
    "        \n",
    "        # Find vertical links intersecting with the diagonal link using spatial index\n",
    "        for ver_idx in idx_vertical.intersection(diag_bounds):\n",
    "            ver_row = gdf.loc[ver_idx]\n",
    "            ver_start = ver_row['start_point']\n",
    "            ver_end = ver_row['end_point']\n",
    "            if (ver_start[0] in x_coords or ver_end[0] in x_coords) and (ver_start[1] in y_coords and ver_end[1] in y_coords):\n",
    "                ver = True\n",
    "                break\n",
    "        \n",
    "        # Mark the diagonal for removal if it satisfies both conditions\n",
    "        if hor and ver:\n",
    "            diagonals_to_remove.add(index)\n",
    "    \n",
    "    # Drop the identified diagonal links\n",
    "    filtered_links = gdf.drop(index=diagonals_to_remove)\n",
    "    \n",
    "    # Drop the unnecessary columns before returning\n",
    "    filtered_links = filtered_links.drop(columns=['start_point', 'end_point', 'category'])\n",
    "    \n",
    "    return filtered_links\n",
    "\n",
    "def remove_degree_2_nodes(G):\n",
    "    \"\"\"\n",
    "    Remove degree-2 nodes from a graph and merge their adjacent edges.\n",
    "\n",
    "    This function simplifies a graph by removing nodes with exactly two neighbors (degree 2),\n",
    "    merging the two edges connected to the node into a single edge, and maintaining the \n",
    "    overall topology of the graph.\n",
    "\n",
    "    Parameters:\n",
    "    G (networkx.Graph or networkx.MultiGraph): The input graph. If it is not a MultiGraph, \n",
    "                                               it will be converted to a MultiGraph.\n",
    "\n",
    "    Returns:\n",
    "    networkx.MultiGraph: The simplified graph with degree-2 nodes removed and their edges merged.\n",
    "\n",
    "    Workflow:\n",
    "    1. Identify all nodes with a degree of 2.\n",
    "    2. For each degree-2 node:\n",
    "        - Retrieve its two neighbors.\n",
    "        - Merge the edges connecting the node to its neighbors into a single edge.\n",
    "        - Remove the degree-2 node from the graph.\n",
    "    3. Return the simplified graph.\n",
    "\n",
    "    Notes:\n",
    "    - Assumes that edges have a 'geometry' attribute containing their geometry (e.g., a LineString).\n",
    "    - Uses `linemerge` to combine the geometries of two edges into a single geometry.\n",
    "    \"\"\"\n",
    "    # Ensure the graph is a MultiGraph\n",
    "    if not isinstance(G, nx.MultiGraph):\n",
    "        G = nx.MultiGraph(G)\n",
    "\n",
    "    # Identify all nodes with a degree of 2\n",
    "    degree_2_nodes = [node for node, degree in dict(G.degree()).items() if degree == 2]\n",
    "\n",
    "    # Simplify the graph by merging edges of degree-2 nodes\n",
    "    for node in degree_2_nodes:\n",
    "        neighbors = list(G.neighbors(node))\n",
    "        if len(neighbors) == 2:  # Ensure the node has exactly two neighbors\n",
    "            u, v = neighbors\n",
    "            \n",
    "            # Retrieve the keys for the edges connecting the node to its neighbors\n",
    "            key_uv = list(G[u][node])[0]\n",
    "            key_vu = list(G[v][node])[0]\n",
    "            \n",
    "            # Merge the geometries of the two edges\n",
    "            merged_line = linemerge([G.edges[node, u, key_uv]['geometry'], \n",
    "                                     G.edges[node, v, key_vu]['geometry']])\n",
    "            \n",
    "            # Add a new edge connecting the neighbors with the merged geometry\n",
    "            G.add_edge(u, v, geometry=merged_line)\n",
    "            \n",
    "            # Remove the degree-2 node from the graph\n",
    "            G.remove_node(node)\n",
    "    \n",
    "    return G\n",
    "\n",
    "def geodataframe_to_graph(filtered_links):\n",
    "    \"\"\"\n",
    "    Convert a GeoDataFrame of line geometries into a MultiGraph representation.\n",
    "\n",
    "    Parameters:\n",
    "    filtered_links (gpd.GeoDataFrame): A GeoDataFrame containing line geometries.\n",
    "                                       Each row represents a link with a `geometry` column\n",
    "                                       containing `LineString` objects.\n",
    "\n",
    "    Returns:\n",
    "    networkx.MultiGraph: A MultiGraph where:\n",
    "                         - Nodes represent the start and end points of the lines.\n",
    "                         - Edges represent the line geometries with associated attributes:\n",
    "                           - `index`: The row index of the line in the GeoDataFrame.\n",
    "                           - `geometry`: The `LineString` geometry of the line.\n",
    "    \"\"\"\n",
    "    # Initialize an empty MultiGraph\n",
    "    G = nx.MultiGraph()\n",
    "    \n",
    "    # Iterate through each row in the GeoDataFrame\n",
    "    for idx, row in filtered_links.iterrows():\n",
    "        line = row.geometry  # Extract the LineString geometry\n",
    "        start, end = line.coords[0], line.coords[-1]  # Get the start and end points of the line\n",
    "        \n",
    "        # Add an edge to the graph with attributes\n",
    "        G.add_edge(start, end, index=idx, geometry=line)\n",
    "    \n",
    "    return G\n",
    "\n",
    "def graph_to_merged_geodataframes(G):\n",
    "    \"\"\"\n",
    "    Convert a graph into two GeoDataFrames: one for nodes and one for merged edges.\n",
    "\n",
    "    This function processes a graph by extracting its nodes and merging connected edge geometries.\n",
    "    The resulting GeoDataFrames can be used for spatial analysis or visualization.\n",
    "\n",
    "    Parameters:\n",
    "    G (networkx.Graph or networkx.MultiGraph): A graph where:\n",
    "                                               - Nodes are represented as coordinate tuples (x, y).\n",
    "                                               - Edges have a `geometry` attribute representing\n",
    "                                                 their spatial extent (e.g., `LineString`).\n",
    "\n",
    "    Returns:\n",
    "    tuple:\n",
    "        - gpd.GeoDataFrame: A GeoDataFrame containing the graph nodes as `Point` geometries.\n",
    "        - gpd.GeoDataFrame: A GeoDataFrame containing the merged edge geometries as `LineString` or\n",
    "                            `MultiLineString` objects.\n",
    "\n",
    "    Workflow:\n",
    "    1. Convert graph nodes into `Point` geometries.\n",
    "    2. For each connected component of the graph:\n",
    "       - Extract edge geometries.\n",
    "       - Merge the geometries into a single `LineString` or `MultiLineString` using `unary_union`.\n",
    "       - Handle cases where the merged result is a `MultiLineString` by breaking it into individual lines.\n",
    "    3. Create GeoDataFrames for nodes and merged edges.\n",
    "\n",
    "    Notes:\n",
    "    - Assumes edge geometries are provided as `LineString` objects under the `geometry` attribute.\n",
    "    \"\"\"\n",
    "    # Step 1: Convert graph nodes into Point geometries\n",
    "    nodes = [Point(x, y) for x, y in G.nodes]\n",
    "    \n",
    "    # Step 2: Merge edge geometries for each connected component\n",
    "    merged_lines = []\n",
    "    for component in nx.connected_components(G):\n",
    "        subgraph = G.subgraph(component)  # Extract subgraph for the connected component\n",
    "        lines = [data['geometry'] for u, v, data in subgraph.edges(data=True)]  # Collect edge geometries\n",
    "        merged_line = unary_union(lines)  # Merge all geometries into one\n",
    "        \n",
    "        # Handle MultiLineString cases by separating into individual lines\n",
    "        if merged_line.geom_type == 'MultiLineString':\n",
    "            for line in merged_line.geoms:\n",
    "                merged_lines.append(line)\n",
    "        else:\n",
    "            merged_lines.append(merged_line)\n",
    "    \n",
    "    # Step 3: Create GeoDataFrames for nodes and edges\n",
    "    nodes_gdf = gpd.GeoDataFrame(geometry=nodes)\n",
    "    edges_gdf = gpd.GeoDataFrame(geometry=merged_lines)\n",
    "    \n",
    "    return nodes_gdf, edges_gdf\n",
    "\n",
    "# Function to find furthest endpoints\n",
    "def find_furthest_endpoints(gdf_points):\n",
    "    \"\"\"\n",
    "    Finds the two furthest nodes in the geodataframe, which may be of type 'endpoint' or 'junction'.\n",
    "\n",
    "    Parameters:\n",
    "    gdf_points (geopandas.GeoDataFrame): The geodataframe of points (nodes).\n",
    "\n",
    "    Returns:\n",
    "    geopandas.GeoDataFrame: A GeoDataFrame containing the two furthest points.\n",
    "    \"\"\"\n",
    "    if len(gdf_points) < 2:\n",
    "        raise ValueError(\"Not enough points to find the furthest pair.\")\n",
    "    \n",
    "    max_distance = 0\n",
    "    furthest_pair = None\n",
    "    for (idx1, point1), (idx2, point2) in combinations(gdf_points.iterrows(), 2):\n",
    "        distance = point1.geometry.distance(point2.geometry)\n",
    "        if distance > max_distance:\n",
    "            max_distance = distance\n",
    "            furthest_pair = (point1, point2)\n",
    "    \n",
    "    furthest_geometries = [furthest_pair[0].geometry, furthest_pair[1].geometry]\n",
    "    start_end_pts = gpd.GeoDataFrame(geometry=furthest_geometries, crs=gdf_points.crs)\n",
    "    return start_end_pts\n",
    "\n",
    "def remove_spurs(merged_gdf, start_end_pts):\n",
    "    start_point = start_end_pts.geometry.iloc[0]\n",
    "    end_point = start_end_pts.geometry.iloc[1]\n",
    "    \n",
    "    G = nx.MultiGraph()\n",
    "    \n",
    "    for idx, row in merged_gdf.iterrows():\n",
    "        line = row.geometry\n",
    "        start, end = line.coords[0], line.coords[-1]\n",
    "        G.add_edge(start, end, index=idx, geometry=line)\n",
    "    \n",
    "    dead_end_segments = []\n",
    "    for node in G.nodes:\n",
    "        if G.degree(node) == 1 and Point(node) not in [start_point, end_point]:\n",
    "            neighbors = list(G.neighbors(node))\n",
    "            if neighbors:\n",
    "                neighbor = neighbors[0]\n",
    "                edge_data = G.get_edge_data(node, neighbor)\n",
    "                for key, data in edge_data.items():\n",
    "                    dead_end_segments.append(data['index'])\n",
    "    \n",
    "    pruned_links = merged_gdf.drop(dead_end_segments)\n",
    "    \n",
    "    return pruned_links\n",
    "\n",
    "def prune_network(edges, start_end_pts):\n",
    "    \"\"\"\n",
    "    Prunes spurs from the network repeatedly until the number of edges remains constant.\n",
    "\n",
    "    Parameters:\n",
    "    edges (geopandas.GeoDataFrame): The GeoDataFrame of edges (river segments).\n",
    "    start_end_pts (geopandas.GeoDataFrame): The GeoDataFrame containing the two furthest points.\n",
    "\n",
    "    Returns:\n",
    "    geopandas.GeoDataFrame: A pruned GeoDataFrame with all spurs removed.\n",
    "    \"\"\"\n",
    "    previous_edge_count = -1  # Initialize with an impossible count\n",
    "    current_edge_count = len(edges)\n",
    "\n",
    "    while previous_edge_count != current_edge_count:\n",
    "        previous_edge_count = current_edge_count\n",
    "        \n",
    "        # Remove spurs\n",
    "        edges = remove_spurs(edges, start_end_pts)\n",
    "        \n",
    "        # Convert to graph\n",
    "        G = geodataframe_to_graph(edges)\n",
    "        \n",
    "        # Remove degree-2 nodes and merge edges\n",
    "        G = remove_degree_2_nodes(G)\n",
    "        \n",
    "        # Convert back to GeoDataFrame\n",
    "        _, edges = graph_to_merged_geodataframes(G)\n",
    "        \n",
    "        # Update edge count after merging\n",
    "        current_edge_count = len(edges)\n",
    "    \n",
    "    return edges\n",
    "\n",
    "# Function to find shortest path\n",
    "def find_shortest_path(start_end_pts, filtered_links):\n",
    "    \"\"\"\n",
    "    Finds the shortest path between two points in a network of filtered links.\n",
    "\n",
    "    Parameters:\n",
    "    start_end_pts (geopandas.GeoDataFrame): The GeoDataFrame containing the start and end points.\n",
    "    filtered_links (geopandas.GeoDataFrame): The GeoDataFrame containing the network of links (line segments).\n",
    "\n",
    "    Returns:\n",
    "    geopandas.GeoDataFrame: A GeoDataFrame containing the shortest path as a LineString.\n",
    "    \"\"\"\n",
    "    G = nx.Graph()\n",
    "    for idx, row in filtered_links.iterrows():\n",
    "        line = row.geometry\n",
    "        for i in range(len(line.coords) - 1):\n",
    "            start = Point(line.coords[i])\n",
    "            end = Point(line.coords[i + 1])\n",
    "            distance = start.distance(end)\n",
    "            G.add_edge(tuple(start.coords[0]), tuple(end.coords[0]), weight=distance)\n",
    "    \n",
    "    start_point = tuple(start_end_pts.geometry.iloc[0].coords[0])\n",
    "    end_point = tuple(start_end_pts.geometry.iloc[1].coords[0])\n",
    "    shortest_path = nx.shortest_path(G, source=start_point, target=end_point, weight='weight')\n",
    "    shortest_path_coords = [Point(coord) for coord in shortest_path]\n",
    "    shortest_path_line = LineString(shortest_path_coords)\n",
    "    shortest_path_length = shortest_path_line.length\n",
    "    shortest_path_gdf = gpd.GeoDataFrame({'geometry': [shortest_path_line]}, crs=filtered_links.crs)\n",
    "    return shortest_path_gdf\n",
    "\n",
    "# Function to classify channels\n",
    "def classify_channels(edges, shortest_path):\n",
    "    main_channel_line = shortest_path.geometry.iloc[0]\n",
    "\n",
    "    # Creating 'chnl_cat' column to classify channels\n",
    "    edges['chnl_cat'] = edges.apply(\n",
    "        lambda row: 'main_channel' if row.geometry.within(main_channel_line) else 'other', axis=1\n",
    "    )\n",
    "    \n",
    "    # Assigning unique 'chnl_id' to each segment\n",
    "    edges['chnl_id'] = None\n",
    "    edges.loc[edges['chnl_cat'] == 'main_channel', 'chnl_id'] = 1\n",
    "    \n",
    "    # Assign unique ids for 'other' channels\n",
    "    other_idx = edges[edges['chnl_cat'] == 'other'].index\n",
    "    edges.loc[other_idx, 'chnl_id'] = range(2, 2 + len(other_idx))\n",
    "    \n",
    "    return edges\n",
    "\n",
    "# Function to simplify shortest path\n",
    "def simplify_shortest_path(shortest_path, num_vertices=10):\n",
    "    \"\"\"\n",
    "    Simplifies the shortest path to a specified number of vertices.\n",
    "\n",
    "    Parameters:\n",
    "    shortest_path (geopandas.GeoDataFrame): The GeoDataFrame containing the shortest path as a LineString.\n",
    "    num_vertices (int, optional): The number of vertices for the simplified path. Default is 10.\n",
    "\n",
    "    Returns:\n",
    "    geopandas.GeoDataFrame: A GeoDataFrame containing the simplified shortest path as a LineString.\n",
    "    \"\"\"\n",
    "    original_line = shortest_path.geometry.iloc[0]\n",
    "    simplified_coords = [\n",
    "        original_line.interpolate(i / (num_vertices - 1), normalized=True).coords[0] \n",
    "        for i in range(num_vertices)\n",
    "    ]\n",
    "    simplified_line = LineString(simplified_coords)\n",
    "    simplified_path_gdf = gpd.GeoDataFrame({'geometry': [simplified_line]}, crs=shortest_path.crs)\n",
    "    return simplified_path_gdf\n",
    "\n",
    "# Function to create perpendicular lines\n",
    "def create_perpendicular_lines(simplified_path, num_lines=10, fraction_length=1/5):\n",
    "    \"\"\"\n",
    "    Creates perpendicular lines along the simplified path at equal intervals.\n",
    "\n",
    "    Parameters:\n",
    "    simplified_path (geopandas.GeoDataFrame): A GeoDataFrame containing the simplified path as a LineString.\n",
    "    num_lines (int): Number of perpendicular lines to create.\n",
    "    fraction_length (float): Fraction of the total path length for the length of each perpendicular line.\n",
    "\n",
    "    Returns:\n",
    "    geopandas.GeoDataFrame: A GeoDataFrame containing the perpendicular lines.\n",
    "    \"\"\"\n",
    "    # Extract the LineString from the GeoDataFrame\n",
    "    line = simplified_path.geometry.iloc[0]\n",
    "    line_length = line.length\n",
    "    \n",
    "    # Calculate spacing between perpendicular lines and half the length of each perpendicular line\n",
    "    spacing = line_length / num_lines\n",
    "    half_length = (line_length * fraction_length) / 2\n",
    "    \n",
    "    # Generate points at equal intervals along the line\n",
    "    points = [line.interpolate(i * spacing, normalized=False) for i in range(num_lines)]\n",
    "    \n",
    "    perpendicular_lines = []\n",
    "    \n",
    "    coords = list(line.coords)\n",
    "    \n",
    "    for idx, point in enumerate(points):\n",
    "        # Find the segment that the point falls on\n",
    "        segment = None\n",
    "        for i in range(len(coords) - 1):\n",
    "            segment_line = LineString([coords[i], coords[i+1]])\n",
    "            if segment_line.project(point) < segment_line.length:\n",
    "                segment = segment_line\n",
    "                break\n",
    "        \n",
    "        if segment is None:\n",
    "            print(f\"No segment found for point {idx}: {point}\")\n",
    "            continue\n",
    "        \n",
    "        # Calculate the perpendicular direction to the segment\n",
    "        dx = segment.coords[1][0] - segment.coords[0][0]\n",
    "        dy = segment.coords[1][1] - segment.coords[0][1]\n",
    "        length = np.sqrt(dx**2 + dy**2)\n",
    "        perpendicular_direction = (-dy / length, dx / length)\n",
    "        \n",
    "        # Calculate the start and end points of the perpendicular line\n",
    "        start_point = Point(point.x + half_length * perpendicular_direction[0],\n",
    "                            point.y + half_length * perpendicular_direction[1])\n",
    "        end_point = Point(point.x - half_length * perpendicular_direction[0],\n",
    "                          point.y - half_length * perpendicular_direction[1])\n",
    "        \n",
    "        # Create the perpendicular line and add it to the list\n",
    "        perpendicular_line = LineString([start_point, end_point])\n",
    "        perpendicular_lines.append(perpendicular_line)\n",
    "    \n",
    "    # Create a GeoDataFrame from the perpendicular lines\n",
    "    channel_belt_cross_sections = gpd.GeoDataFrame({'geometry': perpendicular_lines}, crs=simplified_path.crs)\n",
    "    \n",
    "    return channel_belt_cross_sections\n",
    "\n",
    "# Function to calculate channel count index\n",
    "def calc_channel_count_index(filtered_links, cross_sections):\n",
    "    \"\"\"\n",
    "    Calculates the Channel Count Index (CCI) for a network of links intersecting with cross sections.\n",
    "\n",
    "    Parameters:\n",
    "    filtered_links (geopandas.GeoDataFrame): The GeoDataFrame containing the network of links (line segments) with a 'chnl_id' classification.\n",
    "    cross_sections (geopandas.GeoDataFrame): The GeoDataFrame containing the cross sections.\n",
    "\n",
    "    Returns:\n",
    "    tuple: A tuple containing:\n",
    "        - cci (float): The Channel Count Index.\n",
    "        - cross_sections (geopandas.GeoDataFrame): The cross sections GeoDataFrame with an additional 'channel_count' column.\n",
    "    \"\"\"\n",
    "    channel_counts = []\n",
    "    \n",
    "    for idx, cross_section in cross_sections.iterrows():\n",
    "        cross_section_geom = cross_section.geometry\n",
    "        \n",
    "        # Find the chnl_ids of segments that intersect the cross section\n",
    "        intersecting_segments = filtered_links[filtered_links.intersects(cross_section_geom)]\n",
    "        unique_chnl_ids = intersecting_segments['chnl_id'].unique()\n",
    "        \n",
    "        # Count the number of unique chnl_ids intersected by this cross section\n",
    "        channel_count = len(unique_chnl_ids)\n",
    "        channel_counts.append(channel_count)\n",
    "    \n",
    "    cross_sections['channel_count'] = channel_counts\n",
    "    \n",
    "    # Calculate the Channel Count Index (CCI)\n",
    "    cci = sum(channel_counts) / len(channel_counts)\n",
    "    \n",
    "    print(f\"Channel Count Index (CCI): {cci}\")\n",
    "    \n",
    "    return cci, cross_sections\n",
    "\n",
    "# Function to calculate sinuosity\n",
    "def calc_sinuosity(shortest_path, simplified_path):\n",
    "    \"\"\"\n",
    "    Calculates the sinuosity of a path by comparing the lengths of the shortest path and the simplified path.\n",
    "\n",
    "    Parameters:\n",
    "    shortest_path (geopandas.GeoDataFrame): The GeoDataFrame containing the shortest path as a LineString.\n",
    "    simplified_path (geopandas.GeoDataFrame): The GeoDataFrame containing the simplified path as a LineString.\n",
    "\n",
    "    Returns:\n",
    "    float: The sinuosity value, which is the ratio of the shortest path length to the simplified path length.\n",
    "    \"\"\"\n",
    "    shortest_path_line = shortest_path.geometry.iloc[0]\n",
    "    simplified_path_line = simplified_path.geometry.iloc[0]\n",
    "    shortest_path_length = shortest_path_line.length\n",
    "    simplified_path_length = simplified_path_line.length\n",
    "    sinuosity = shortest_path_length / simplified_path_length\n",
    "    print(f\"Sinuosity: {sinuosity}\")\n",
    "    return sinuosity\n",
    "\n",
    "# Function to calculate channel form index\n",
    "def calculate_channel_form_index(sinuosity, cci):\n",
    "    \"\"\"\n",
    "    Calculates the Channel Form Index (CFI) based on sinuosity and Channel Count Index (CCI).\n",
    "\n",
    "    Parameters:\n",
    "    sinuosity (float): The sinuosity of the channel.\n",
    "    cci (float): The Channel Count Index.\n",
    "\n",
    "    Returns:\n",
    "    float: The Channel Form Index (CFI).\n",
    "    \"\"\"\n",
    "    cfi = sinuosity / cci\n",
    "    print(f\"Channel Form Index (CFI): {cfi}\")\n",
    "    return cfi\n",
    "\n",
    "# Main function to process network\n",
    "def process_network_folder(river, \n",
    "                           radius,\n",
    "                           min_size = 10,\n",
    "                           year_range=\"All\", \n",
    "                           reach_range=\"All\", \n",
    "                           num_lines=10, \n",
    "                           num_vertices=10, \n",
    "                           fraction_length=1/5, \n",
    "                           root_input=\"C:/Users/huckr/Desktop/UCSB/Dissertation/Data/RiverMapping/RiverMasks\", \n",
    "                           root_output=\"C:/Users/huckr/Desktop/UCSB/Dissertation/Data/RiverMapping/Channels\"):\n",
    "    \"\"\"\n",
    "    Processes a folder containing water mask rasters to extract river channel networks and calculate metrics.\n",
    "    Also generates a PDF with plots of classified channels, cross-sections, and other elements.\n",
    "\n",
    "    Parameters:\n",
    "    river (str): Name of the river.\n",
    "    radius (int): Radius for conditional dilation.\n",
    "    year_range (tuple or str): Year range for processing (default is \"All\").\n",
    "    reach_range (tuple or str): Reach range for processing (default is \"All\").\n",
    "    num_lines (int): Number of perpendicular lines (cross-sections) (default is 10).\n",
    "    num_vertices (int): Number of vertices for simplifying the shortest path (default is 10).\n",
    "    fraction_length (float): Fraction length for creating cross-sections (default is 1/5).\n",
    "    root_input (str): Root input directory (default is the specified path).\n",
    "    root_output (str): Root output directory (default is the specified path).\n",
    "\n",
    "    Returns:\n",
    "    None\n",
    "    \"\"\"\n",
    "    input_folder = os.path.join(root_input, river)\n",
    "    os.makedirs(input_folder, exist_ok=True)\n",
    "    output_folder_base = os.path.join(root_output, river)\n",
    "    os.makedirs(output_folder_base, exist_ok=True)\n",
    "    \n",
    "    def parse_range(input_range, default_start, default_end, range_name, pattern):\n",
    "        \"\"\"\n",
    "        Parses and validates a range input for years or reaches.\n",
    "\n",
    "        Parameters:\n",
    "        input_range (str, int, tuple, None): The range to parse.\n",
    "        default_start (int): Default start value if input_range is 'All' or None.\n",
    "        default_end (int): Default end value if input_range is 'All' or None.\n",
    "        range_name (str): Name of the range for error messages.\n",
    "        pattern (str): Regex pattern for validating string representations of ranges.\n",
    "\n",
    "        Returns:\n",
    "        tuple[int, int]: Parsed start and end of the range.\n",
    "        \"\"\"\n",
    "        if input_range in [\"All\", None]:\n",
    "            return default_start, default_end\n",
    "        elif isinstance(input_range, int):\n",
    "            return input_range, input_range\n",
    "        elif isinstance(input_range, str):\n",
    "            if re.match(pattern, input_range):  # Match the pattern\n",
    "                try:\n",
    "                    # Convert the string to a tuple of integers\n",
    "                    input_range = ast.literal_eval(input_range)\n",
    "                    if isinstance(input_range, tuple) and len(input_range) == 2 and all(isinstance(i, int) for i in input_range):\n",
    "                        return input_range\n",
    "                    else:\n",
    "                        raise ValueError(f\"{range_name} string must represent a tuple of two integers.\")\n",
    "                except (ValueError, SyntaxError):\n",
    "                    raise ValueError(f\"Invalid {range_name} format: {input_range}\")\n",
    "            else:\n",
    "                raise ValueError(f\"Invalid string format for {range_name}: {input_range}\")\n",
    "        elif isinstance(input_range, tuple) and len(input_range) == 2 and all(isinstance(i, int) for i in input_range):\n",
    "            return input_range\n",
    "        else:\n",
    "            raise ValueError(f\"{range_name} must be 'All', an int, or a tuple (start, end).\")\n",
    "\n",
    "    # Define patterns for validating string inputs\n",
    "    year_pattern = r'^\\(\\d{4}, \\d{4}\\)$'  # (YYYY, YYYY)\n",
    "    reach_pattern = r'^\\(\\d{1,4}, \\d{1,4}\\)$'  # (XX, YY) with 1 to 4 digits\n",
    "\n",
    "    # Parse year_range and reach_range using the refactored function\n",
    "    year_start, year_end = parse_range(year_range, 1984, 2025, \"year_range\", year_pattern)\n",
    "    reach_start, reach_end = parse_range(reach_range, 1, 9999, \"reach_range\", reach_pattern)\n",
    "    \n",
    "    # Initialize a dictionary to store metrics\n",
    "    metrics = {}\n",
    "\n",
    "    # Create a PDF file to store the plots\n",
    "    pdf_path = os.path.join(output_folder_base, f'{river}_report.pdf')\n",
    "    with PdfPages(pdf_path) as pdf:\n",
    "        # Title page with summary information\n",
    "        fig, ax = plt.subplots(figsize=(8.5, 11))\n",
    "        ax.axis('off')\n",
    "        summary_text = (f\"River Name: {river}\\n\"\n",
    "                        f\"Year Range: {year_start} - {year_end}\\n\"\n",
    "                        f\"Reach Range: {reach_start} - {reach_end}\\n\"\n",
    "                        f\"Radius for Conditional Dilation: {radius}\\n\"\n",
    "                        f\"Minimum Size for Islands: {min_size}\\n\"\n",
    "                        f\"Number of Perpendicular Lines: {num_lines}\\n\"\n",
    "                        f\"Number of Vertices for Simplification: {num_vertices}\\n\"\n",
    "                        f\"Fraction Length for Cross-Sections: {fraction_length}\\n\")\n",
    "        ax.text(0.5, 0.5, summary_text, ha='center', va='center', fontsize=12)\n",
    "        pdf.savefig(fig)\n",
    "        plt.close(fig)\n",
    "\n",
    "        # Process each reach folder\n",
    "        for reach_folder in glob(os.path.join(input_folder, 'reach_*')):\n",
    "            reach_folder_name = os.path.basename(reach_folder)\n",
    "            match_reach = re.match(r\"reach_(\\d+)\", reach_folder_name)\n",
    "            if match_reach:\n",
    "                reach = int(match_reach.group(1))\n",
    "                if reach_start <= reach <= reach_end:\n",
    "                    processed_folder = os.path.join(reach_folder, 'Processed')\n",
    "                    for file_path in glob(os.path.join(processed_folder, '*.tif')):\n",
    "                        file_name = os.path.basename(file_path)\n",
    "                        match_year = re.match(rf\"{river}_reach_{reach}_(\\d{{4}})_.*\\.tif\", file_name)\n",
    "                        if match_year:\n",
    "                            year = int(match_year.group(1))\n",
    "                            if year_start <= year <= year_end:\n",
    "                                output_folder = os.path.join(output_folder_base, f\"reach_{reach}\", str(year))\n",
    "                                os.makedirs(output_folder, exist_ok=True)\n",
    "                                \n",
    "                                try:\n",
    "                                    water_mask, metadata = load_raster(file_path)\n",
    "                                    cleaned_water_mask = eliminate_small_islands(water_mask, min_size=10)\n",
    "                                    skeleton = skeletonize(cleaned_water_mask > 0)\n",
    "                                    dilated_skeleton = conditional_dilation(skeleton, radius)\n",
    "                                    reskeletonized = skeletonize(dilated_skeleton > 0)\n",
    "                                    largest_component = keep_largest_component(reskeletonized)\n",
    "                                    \n",
    "                                    largest_component_output_path = os.path.join(output_folder, 'largest_component.tif')\n",
    "                                    save_raster(largest_component_output_path, largest_component, metadata)\n",
    "\n",
    "                                    initial_links = create_links(largest_component, metadata)\n",
    "                                    filtered_links = filter_links(initial_links)\n",
    "                                    \n",
    "                                    chan_graph1 = geodataframe_to_graph(filtered_links)\n",
    "\n",
    "                                    chan_graph2 = remove_degree_2_nodes(chan_graph1)\n",
    "\n",
    "                                    nodes, edges = graph_to_merged_geodataframes(chan_graph2)\n",
    "                                    start_end_pts = find_furthest_endpoints(nodes)\n",
    "                                    pruned_edges = prune_network(edges, start_end_pts)\n",
    "\n",
    "                                    shortest_path_gdf = find_shortest_path(start_end_pts, pruned_edges)\n",
    "                                    classified_links = classify_channels(pruned_edges, shortest_path_gdf)\n",
    "                                    valley_center_line = simplify_shortest_path(shortest_path_gdf, num_vertices)\n",
    "                                    channel_belt_cross_sections = create_perpendicular_lines(valley_center_line, num_lines, fraction_length)\n",
    "                                    \n",
    "                                    sinuosity_value = calc_sinuosity(shortest_path_gdf, valley_center_line)\n",
    "                                    cci, updated_cross_sections = calc_channel_count_index(classified_links, channel_belt_cross_sections)\n",
    "                                    cfi_value = calculate_channel_form_index(sinuosity_value, cci)\n",
    "                                    \n",
    "                                    classified_links.to_file(os.path.join(output_folder, 'channel_links.shp'))\n",
    "                                    channel_belt_cross_sections.to_file(os.path.join(output_folder, 'channel_belt_cross_sections.shp'))\n",
    "                                    nodes.to_file(os.path.join(output_folder, 'nodes.shp'))\n",
    "                                    shortest_path_gdf.to_file(os.path.join(output_folder, 'main_channel.shp'))\n",
    "                                    valley_center_line.to_file(os.path.join(output_folder, 'valley_center_line.shp'))\n",
    "                                    \n",
    "                                    # Store metrics\n",
    "                                    reach_key = f\"reach_{reach}\"\n",
    "                                    if reach_key not in metrics:\n",
    "                                        metrics[reach_key] = {}\n",
    "                                    metrics[reach_key][year] = {\n",
    "                                        'Sinuosity': sinuosity_value,\n",
    "                                        'CCI': cci,\n",
    "                                        'CFI': cfi_value\n",
    "                                    }\n",
    "\n",
    "                                    # Generate a plot for the PDF\n",
    "                                    fig, ax = plt.subplots(figsize=(8.5, 11))\n",
    "                                    ax.set_title(f\"Reach {reach}, Year {year}\")\n",
    "                                    \n",
    "                                    # Plot the cleaned water mask at the bottom\n",
    "                                    show(cleaned_water_mask, transform=metadata['transform'], ax=ax, cmap='gray')\n",
    "                                    \n",
    "                                    # Plot classified channels and cross-sections\n",
    "                                    classified_links.plot(ax=ax, color='#39FF14', linewidth=1)\n",
    "                                    channel_belt_cross_sections.plot(ax=ax, color='orange', linewidth=1)\n",
    "                                    \n",
    "                                    # Plot the main channel on top\n",
    "                                    shortest_path_gdf.plot(ax=ax, color='red', linewidth=2)\n",
    "                                    \n",
    "                                    # Add channel counts at the end of each cross-section\n",
    "                                    for idx, row in updated_cross_sections.iterrows():\n",
    "                                        x, y = row.geometry.centroid.x, row.geometry.centroid.y\n",
    "                                        ax.text(x, y, str(row['channel_count']), fontsize=8, ha='center', va='center', color='black', bbox=dict(facecolor='white', alpha=0.5))\n",
    "\n",
    "                                    # Display metrics in the bottom right corner\n",
    "                                    ax.text(0.95, 0.05, f\"Sinuosity: {sinuosity_value:.2f}\\nCCI: {cci:.2f}\\nCFI: {cfi_value:.2f}\",\n",
    "                                            ha='right', va='bottom', transform=ax.transAxes, fontsize=10,\n",
    "                                            bbox=dict(facecolor='white', alpha=0.5))\n",
    "                                    \n",
    "                                    # Save the plot to the PDF\n",
    "                                    pdf.savefig(fig)\n",
    "                                    plt.close(fig)\n",
    "\n",
    "                                except Exception as e:\n",
    "                                    logging.error(f\"Error processing file {file_path}: {e}\")\n",
    "                                    continue\n",
    "\n",
    "        # Save metrics to an Excel workbook\n",
    "        metrics_output_path = os.path.join(output_folder_base, f'{river}_metrics.xlsx')\n",
    "        with pd.ExcelWriter(metrics_output_path) as writer:\n",
    "            for reach, reach_metrics in metrics.items():\n",
    "                df = pd.DataFrame.from_dict(reach_metrics, orient='index')\n",
    "                df.to_excel(writer, sheet_name=reach)\n",
    "                \n",
    "def main(input_directory):\n",
    "    \"\"\"\n",
    "    Main function to process rivers based on a CSV file of input variables.\n",
    "    \n",
    "    Args:\n",
    "        input_directory (str): The directory where the input .csv file resides.\n",
    "    \n",
    "    The .csv file should contain the following columns:\n",
    "        - river_name\n",
    "        - radius\n",
    "        - min_blob_size\n",
    "        - year_range\n",
    "        - reach_range\n",
    "        - num_xcs (num_lines)\n",
    "        - num_vertices\n",
    "        - fraction_length\n",
    "        - root_input\n",
    "        - root_output\n",
    "    \"\"\"\n",
    "    \n",
    "    # Load the CSV into a pandas DataFrame\n",
    "    river_data = pd.read_csv(input_directory)\n",
    "    \n",
    "    # Iterate through each row (each river) and run the process_network_folder() function\n",
    "    for index, row in river_data.iterrows():\n",
    "        river_name = row['river_name']\n",
    "        working_directory = row['working_directory']\n",
    "        radius = row['dilation_radius']\n",
    "        min_blob_size = row['min_blob_size']\n",
    "        year_range = row['year_range'] \n",
    "        reach_range = row['reach_range'] \n",
    "        num_lines = row['num_xcs']\n",
    "        num_vertices = row['num_vertices']\n",
    "        fraction_length = float(Fraction(row['fraction_length']))\n",
    "        root_input = os.path.join(working_directory, \"RiverMapping\", \"RiverMasks\")\n",
    "        os.makedirs(root_input, exist_ok=True)\n",
    "        root_output = os.path.join(working_directory, \"RiverMapping\", \"Channels\")\n",
    "        os.makedirs(root_output, exist_ok=True)\n",
    "        print(f\"Processing river: {river_name}\")\n",
    "        \n",
    "        # Call the existing function with inputs from the current row\n",
    "        process_network_folder(\n",
    "            river=river_name,\n",
    "            radius=radius,\n",
    "            min_size=min_blob_size,\n",
    "            year_range=year_range,\n",
    "            reach_range=reach_range,\n",
    "            num_lines=num_lines,\n",
    "            num_vertices=num_vertices,\n",
    "            fraction_length=fraction_length,\n",
    "            root_input=root_input,\n",
    "            root_output=root_output\n",
    "        )\n",
    "        \n",
    "    print(\"All rivers processed.\")"
   ]
  },
  {
   "cell_type": "markdown",
   "id": "7fe48584",
   "metadata": {},
   "source": [
    "## Execute code for a river, a reach, or specific years"
   ]
  },
  {
   "cell_type": "code",
   "execution_count": 4,
   "id": "df9d3ce3",
   "metadata": {},
   "outputs": [
    {
     "name": "stdout",
     "output_type": "stream",
     "text": [
      "Processing river: Beni\n",
      "Sinuosity: 1.8833542754931356\n",
      "Channel Count Index (CCI): 1.26\n",
      "Channel Form Index (CFI): 1.4947256154707425\n"
     ]
    },
    {
     "name": "stderr",
     "output_type": "stream",
     "text": [
      "C:\\Users\\huckr\\AppData\\Local\\Temp\\ipykernel_33072\\578621774.py:838: UserWarning: Column names longer than 10 characters will be truncated when saved to ESRI Shapefile.\n",
      "  channel_belt_cross_sections.to_file(os.path.join(output_folder, 'channel_belt_cross_sections.shp'))\n"
     ]
    },
    {
     "name": "stdout",
     "output_type": "stream",
     "text": [
      "Sinuosity: 1.8773341918413498\n",
      "Channel Count Index (CCI): 1.26\n",
      "Channel Form Index (CFI): 1.4899477713026585\n"
     ]
    },
    {
     "name": "stderr",
     "output_type": "stream",
     "text": [
      "C:\\Users\\huckr\\AppData\\Local\\Temp\\ipykernel_33072\\578621774.py:838: UserWarning: Column names longer than 10 characters will be truncated when saved to ESRI Shapefile.\n",
      "  channel_belt_cross_sections.to_file(os.path.join(output_folder, 'channel_belt_cross_sections.shp'))\n"
     ]
    },
    {
     "name": "stdout",
     "output_type": "stream",
     "text": [
      "Sinuosity: 1.8900820486510952\n",
      "Channel Count Index (CCI): 1.36\n",
      "Channel Form Index (CFI): 1.3897662122434522\n"
     ]
    },
    {
     "name": "stderr",
     "output_type": "stream",
     "text": [
      "C:\\Users\\huckr\\AppData\\Local\\Temp\\ipykernel_33072\\578621774.py:838: UserWarning: Column names longer than 10 characters will be truncated when saved to ESRI Shapefile.\n",
      "  channel_belt_cross_sections.to_file(os.path.join(output_folder, 'channel_belt_cross_sections.shp'))\n"
     ]
    },
    {
     "name": "stdout",
     "output_type": "stream",
     "text": [
      "Sinuosity: 1.9581765031253566\n",
      "Channel Count Index (CCI): 1.26\n",
      "Channel Form Index (CFI): 1.554108335813775\n"
     ]
    },
    {
     "name": "stderr",
     "output_type": "stream",
     "text": [
      "C:\\Users\\huckr\\AppData\\Local\\Temp\\ipykernel_33072\\578621774.py:838: UserWarning: Column names longer than 10 characters will be truncated when saved to ESRI Shapefile.\n",
      "  channel_belt_cross_sections.to_file(os.path.join(output_folder, 'channel_belt_cross_sections.shp'))\n"
     ]
    },
    {
     "name": "stdout",
     "output_type": "stream",
     "text": [
      "Sinuosity: 1.7558320710793396\n",
      "Channel Count Index (CCI): 1.28\n",
      "Channel Form Index (CFI): 1.371743805530734\n"
     ]
    },
    {
     "name": "stderr",
     "output_type": "stream",
     "text": [
      "C:\\Users\\huckr\\AppData\\Local\\Temp\\ipykernel_33072\\578621774.py:838: UserWarning: Column names longer than 10 characters will be truncated when saved to ESRI Shapefile.\n",
      "  channel_belt_cross_sections.to_file(os.path.join(output_folder, 'channel_belt_cross_sections.shp'))\n"
     ]
    },
    {
     "name": "stdout",
     "output_type": "stream",
     "text": [
      "Sinuosity: 1.8071697251294336\n",
      "Channel Count Index (CCI): 1.28\n",
      "Channel Form Index (CFI): 1.41185134775737\n"
     ]
    },
    {
     "name": "stderr",
     "output_type": "stream",
     "text": [
      "C:\\Users\\huckr\\AppData\\Local\\Temp\\ipykernel_33072\\578621774.py:838: UserWarning: Column names longer than 10 characters will be truncated when saved to ESRI Shapefile.\n",
      "  channel_belt_cross_sections.to_file(os.path.join(output_folder, 'channel_belt_cross_sections.shp'))\n"
     ]
    },
    {
     "name": "stdout",
     "output_type": "stream",
     "text": [
      "Sinuosity: 1.6955928983697302\n",
      "Channel Count Index (CCI): 1.38\n",
      "Channel Form Index (CFI): 1.228690506065022\n"
     ]
    },
    {
     "name": "stderr",
     "output_type": "stream",
     "text": [
      "C:\\Users\\huckr\\AppData\\Local\\Temp\\ipykernel_33072\\578621774.py:838: UserWarning: Column names longer than 10 characters will be truncated when saved to ESRI Shapefile.\n",
      "  channel_belt_cross_sections.to_file(os.path.join(output_folder, 'channel_belt_cross_sections.shp'))\n"
     ]
    },
    {
     "name": "stdout",
     "output_type": "stream",
     "text": [
      "Sinuosity: 1.6968846009488239\n",
      "Channel Count Index (CCI): 1.32\n",
      "Channel Form Index (CFI): 1.2855186370824423\n"
     ]
    },
    {
     "name": "stderr",
     "output_type": "stream",
     "text": [
      "C:\\Users\\huckr\\AppData\\Local\\Temp\\ipykernel_33072\\578621774.py:838: UserWarning: Column names longer than 10 characters will be truncated when saved to ESRI Shapefile.\n",
      "  channel_belt_cross_sections.to_file(os.path.join(output_folder, 'channel_belt_cross_sections.shp'))\n"
     ]
    },
    {
     "name": "stdout",
     "output_type": "stream",
     "text": [
      "Sinuosity: 1.733818534933652\n",
      "Channel Count Index (CCI): 1.22\n",
      "Channel Form Index (CFI): 1.4211627335521737\n"
     ]
    },
    {
     "name": "stderr",
     "output_type": "stream",
     "text": [
      "C:\\Users\\huckr\\AppData\\Local\\Temp\\ipykernel_33072\\578621774.py:838: UserWarning: Column names longer than 10 characters will be truncated when saved to ESRI Shapefile.\n",
      "  channel_belt_cross_sections.to_file(os.path.join(output_folder, 'channel_belt_cross_sections.shp'))\n"
     ]
    },
    {
     "name": "stdout",
     "output_type": "stream",
     "text": [
      "Sinuosity: 1.8145658673821616\n",
      "Channel Count Index (CCI): 1.18\n",
      "Channel Form Index (CFI): 1.537767684222171\n"
     ]
    },
    {
     "name": "stderr",
     "output_type": "stream",
     "text": [
      "C:\\Users\\huckr\\AppData\\Local\\Temp\\ipykernel_33072\\578621774.py:838: UserWarning: Column names longer than 10 characters will be truncated when saved to ESRI Shapefile.\n",
      "  channel_belt_cross_sections.to_file(os.path.join(output_folder, 'channel_belt_cross_sections.shp'))\n"
     ]
    },
    {
     "name": "stdout",
     "output_type": "stream",
     "text": [
      "Sinuosity: 1.7681151547316474\n",
      "Channel Count Index (CCI): 1.26\n",
      "Channel Form Index (CFI): 1.4032659958187677\n"
     ]
    },
    {
     "name": "stderr",
     "output_type": "stream",
     "text": [
      "C:\\Users\\huckr\\AppData\\Local\\Temp\\ipykernel_33072\\578621774.py:838: UserWarning: Column names longer than 10 characters will be truncated when saved to ESRI Shapefile.\n",
      "  channel_belt_cross_sections.to_file(os.path.join(output_folder, 'channel_belt_cross_sections.shp'))\n"
     ]
    },
    {
     "name": "stdout",
     "output_type": "stream",
     "text": [
      "Sinuosity: 1.7198180891504933\n",
      "Channel Count Index (CCI): 1.26\n",
      "Channel Form Index (CFI): 1.3649349913892803\n"
     ]
    },
    {
     "name": "stderr",
     "output_type": "stream",
     "text": [
      "C:\\Users\\huckr\\AppData\\Local\\Temp\\ipykernel_33072\\578621774.py:838: UserWarning: Column names longer than 10 characters will be truncated when saved to ESRI Shapefile.\n",
      "  channel_belt_cross_sections.to_file(os.path.join(output_folder, 'channel_belt_cross_sections.shp'))\n"
     ]
    },
    {
     "name": "stdout",
     "output_type": "stream",
     "text": [
      "Sinuosity: 1.7269919036200332\n",
      "Channel Count Index (CCI): 1.12\n",
      "Channel Form Index (CFI): 1.541957056803601\n"
     ]
    },
    {
     "name": "stderr",
     "output_type": "stream",
     "text": [
      "C:\\Users\\huckr\\AppData\\Local\\Temp\\ipykernel_33072\\578621774.py:838: UserWarning: Column names longer than 10 characters will be truncated when saved to ESRI Shapefile.\n",
      "  channel_belt_cross_sections.to_file(os.path.join(output_folder, 'channel_belt_cross_sections.shp'))\n"
     ]
    },
    {
     "name": "stdout",
     "output_type": "stream",
     "text": [
      "Sinuosity: 1.7381967281195425\n",
      "Channel Count Index (CCI): 1.16\n",
      "Channel Form Index (CFI): 1.4984454552754678\n"
     ]
    },
    {
     "name": "stderr",
     "output_type": "stream",
     "text": [
      "C:\\Users\\huckr\\AppData\\Local\\Temp\\ipykernel_33072\\578621774.py:838: UserWarning: Column names longer than 10 characters will be truncated when saved to ESRI Shapefile.\n",
      "  channel_belt_cross_sections.to_file(os.path.join(output_folder, 'channel_belt_cross_sections.shp'))\n"
     ]
    },
    {
     "name": "stdout",
     "output_type": "stream",
     "text": [
      "Sinuosity: 1.7484513690338375\n",
      "Channel Count Index (CCI): 1.12\n",
      "Channel Form Index (CFI): 1.5611172937802118\n"
     ]
    },
    {
     "name": "stderr",
     "output_type": "stream",
     "text": [
      "C:\\Users\\huckr\\AppData\\Local\\Temp\\ipykernel_33072\\578621774.py:838: UserWarning: Column names longer than 10 characters will be truncated when saved to ESRI Shapefile.\n",
      "  channel_belt_cross_sections.to_file(os.path.join(output_folder, 'channel_belt_cross_sections.shp'))\n"
     ]
    },
    {
     "name": "stdout",
     "output_type": "stream",
     "text": [
      "Sinuosity: 1.7957523581858295\n",
      "Channel Count Index (CCI): 1.26\n",
      "Channel Form Index (CFI): 1.4252002842744678\n"
     ]
    },
    {
     "name": "stderr",
     "output_type": "stream",
     "text": [
      "C:\\Users\\huckr\\AppData\\Local\\Temp\\ipykernel_33072\\578621774.py:838: UserWarning: Column names longer than 10 characters will be truncated when saved to ESRI Shapefile.\n",
      "  channel_belt_cross_sections.to_file(os.path.join(output_folder, 'channel_belt_cross_sections.shp'))\n"
     ]
    },
    {
     "name": "stdout",
     "output_type": "stream",
     "text": [
      "Sinuosity: 1.7943249716008391\n",
      "Channel Count Index (CCI): 1.28\n",
      "Channel Form Index (CFI): 1.4018163840631555\n"
     ]
    },
    {
     "name": "stderr",
     "output_type": "stream",
     "text": [
      "C:\\Users\\huckr\\AppData\\Local\\Temp\\ipykernel_33072\\578621774.py:838: UserWarning: Column names longer than 10 characters will be truncated when saved to ESRI Shapefile.\n",
      "  channel_belt_cross_sections.to_file(os.path.join(output_folder, 'channel_belt_cross_sections.shp'))\n"
     ]
    },
    {
     "name": "stdout",
     "output_type": "stream",
     "text": [
      "Sinuosity: 1.9014333282971987\n",
      "Channel Count Index (CCI): 1.26\n",
      "Channel Form Index (CFI): 1.509074070077142\n"
     ]
    },
    {
     "name": "stderr",
     "output_type": "stream",
     "text": [
      "C:\\Users\\huckr\\AppData\\Local\\Temp\\ipykernel_33072\\578621774.py:838: UserWarning: Column names longer than 10 characters will be truncated when saved to ESRI Shapefile.\n",
      "  channel_belt_cross_sections.to_file(os.path.join(output_folder, 'channel_belt_cross_sections.shp'))\n"
     ]
    },
    {
     "name": "stdout",
     "output_type": "stream",
     "text": [
      "Sinuosity: 1.8440013597633111\n",
      "Channel Count Index (CCI): 1.36\n",
      "Channel Form Index (CFI): 1.3558833527671406\n"
     ]
    },
    {
     "name": "stderr",
     "output_type": "stream",
     "text": [
      "C:\\Users\\huckr\\AppData\\Local\\Temp\\ipykernel_33072\\578621774.py:838: UserWarning: Column names longer than 10 characters will be truncated when saved to ESRI Shapefile.\n",
      "  channel_belt_cross_sections.to_file(os.path.join(output_folder, 'channel_belt_cross_sections.shp'))\n"
     ]
    },
    {
     "name": "stdout",
     "output_type": "stream",
     "text": [
      "Sinuosity: 1.869566414678162\n",
      "Channel Count Index (CCI): 1.44\n",
      "Channel Form Index (CFI): 1.2983100101931682\n"
     ]
    },
    {
     "name": "stderr",
     "output_type": "stream",
     "text": [
      "C:\\Users\\huckr\\AppData\\Local\\Temp\\ipykernel_33072\\578621774.py:838: UserWarning: Column names longer than 10 characters will be truncated when saved to ESRI Shapefile.\n",
      "  channel_belt_cross_sections.to_file(os.path.join(output_folder, 'channel_belt_cross_sections.shp'))\n"
     ]
    },
    {
     "name": "stdout",
     "output_type": "stream",
     "text": [
      "Sinuosity: 1.888284643411399\n",
      "Channel Count Index (CCI): 1.6\n",
      "Channel Form Index (CFI): 1.1801779021321241\n"
     ]
    },
    {
     "name": "stderr",
     "output_type": "stream",
     "text": [
      "C:\\Users\\huckr\\AppData\\Local\\Temp\\ipykernel_33072\\578621774.py:838: UserWarning: Column names longer than 10 characters will be truncated when saved to ESRI Shapefile.\n",
      "  channel_belt_cross_sections.to_file(os.path.join(output_folder, 'channel_belt_cross_sections.shp'))\n"
     ]
    },
    {
     "name": "stdout",
     "output_type": "stream",
     "text": [
      "Sinuosity: 1.8491300336675762\n",
      "Channel Count Index (CCI): 1.38\n",
      "Channel Form Index (CFI): 1.3399492997591134\n"
     ]
    },
    {
     "name": "stderr",
     "output_type": "stream",
     "text": [
      "C:\\Users\\huckr\\AppData\\Local\\Temp\\ipykernel_33072\\578621774.py:838: UserWarning: Column names longer than 10 characters will be truncated when saved to ESRI Shapefile.\n",
      "  channel_belt_cross_sections.to_file(os.path.join(output_folder, 'channel_belt_cross_sections.shp'))\n"
     ]
    },
    {
     "name": "stdout",
     "output_type": "stream",
     "text": [
      "Sinuosity: 1.8941201499814353\n",
      "Channel Count Index (CCI): 1.52\n",
      "Channel Form Index (CFI): 1.2461316776193654\n"
     ]
    },
    {
     "name": "stderr",
     "output_type": "stream",
     "text": [
      "C:\\Users\\huckr\\AppData\\Local\\Temp\\ipykernel_33072\\578621774.py:838: UserWarning: Column names longer than 10 characters will be truncated when saved to ESRI Shapefile.\n",
      "  channel_belt_cross_sections.to_file(os.path.join(output_folder, 'channel_belt_cross_sections.shp'))\n"
     ]
    },
    {
     "name": "stdout",
     "output_type": "stream",
     "text": [
      "Sinuosity: 1.8946790219881797\n",
      "Channel Count Index (CCI): 1.44\n",
      "Channel Form Index (CFI): 1.3157493208251247\n"
     ]
    },
    {
     "name": "stderr",
     "output_type": "stream",
     "text": [
      "C:\\Users\\huckr\\AppData\\Local\\Temp\\ipykernel_33072\\578621774.py:838: UserWarning: Column names longer than 10 characters will be truncated when saved to ESRI Shapefile.\n",
      "  channel_belt_cross_sections.to_file(os.path.join(output_folder, 'channel_belt_cross_sections.shp'))\n"
     ]
    },
    {
     "name": "stdout",
     "output_type": "stream",
     "text": [
      "Sinuosity: 1.8949554231327859\n",
      "Channel Count Index (CCI): 1.4\n",
      "Channel Form Index (CFI): 1.35353958795199\n"
     ]
    },
    {
     "name": "stderr",
     "output_type": "stream",
     "text": [
      "C:\\Users\\huckr\\AppData\\Local\\Temp\\ipykernel_33072\\578621774.py:838: UserWarning: Column names longer than 10 characters will be truncated when saved to ESRI Shapefile.\n",
      "  channel_belt_cross_sections.to_file(os.path.join(output_folder, 'channel_belt_cross_sections.shp'))\n"
     ]
    },
    {
     "name": "stdout",
     "output_type": "stream",
     "text": [
      "Sinuosity: 1.913718028515079\n",
      "Channel Count Index (CCI): 1.34\n",
      "Channel Form Index (CFI): 1.4281477824739395\n"
     ]
    },
    {
     "name": "stderr",
     "output_type": "stream",
     "text": [
      "C:\\Users\\huckr\\AppData\\Local\\Temp\\ipykernel_33072\\578621774.py:838: UserWarning: Column names longer than 10 characters will be truncated when saved to ESRI Shapefile.\n",
      "  channel_belt_cross_sections.to_file(os.path.join(output_folder, 'channel_belt_cross_sections.shp'))\n"
     ]
    },
    {
     "name": "stdout",
     "output_type": "stream",
     "text": [
      "Sinuosity: 1.921415125954522\n",
      "Channel Count Index (CCI): 1.46\n",
      "Channel Form Index (CFI): 1.3160377575030973\n"
     ]
    },
    {
     "name": "stderr",
     "output_type": "stream",
     "text": [
      "C:\\Users\\huckr\\AppData\\Local\\Temp\\ipykernel_33072\\578621774.py:838: UserWarning: Column names longer than 10 characters will be truncated when saved to ESRI Shapefile.\n",
      "  channel_belt_cross_sections.to_file(os.path.join(output_folder, 'channel_belt_cross_sections.shp'))\n"
     ]
    },
    {
     "name": "stdout",
     "output_type": "stream",
     "text": [
      "Sinuosity: 1.794235826746082\n",
      "Channel Count Index (CCI): 1.4\n",
      "Channel Form Index (CFI): 1.2815970191043444\n"
     ]
    },
    {
     "name": "stderr",
     "output_type": "stream",
     "text": [
      "C:\\Users\\huckr\\AppData\\Local\\Temp\\ipykernel_33072\\578621774.py:838: UserWarning: Column names longer than 10 characters will be truncated when saved to ESRI Shapefile.\n",
      "  channel_belt_cross_sections.to_file(os.path.join(output_folder, 'channel_belt_cross_sections.shp'))\n"
     ]
    },
    {
     "name": "stdout",
     "output_type": "stream",
     "text": [
      "Sinuosity: 1.8222349259084718\n",
      "Channel Count Index (CCI): 1.36\n",
      "Channel Form Index (CFI): 1.3398786219915233\n"
     ]
    },
    {
     "name": "stderr",
     "output_type": "stream",
     "text": [
      "C:\\Users\\huckr\\AppData\\Local\\Temp\\ipykernel_33072\\578621774.py:838: UserWarning: Column names longer than 10 characters will be truncated when saved to ESRI Shapefile.\n",
      "  channel_belt_cross_sections.to_file(os.path.join(output_folder, 'channel_belt_cross_sections.shp'))\n"
     ]
    },
    {
     "name": "stdout",
     "output_type": "stream",
     "text": [
      "Sinuosity: 1.842131496294243\n",
      "Channel Count Index (CCI): 1.42\n",
      "Channel Form Index (CFI): 1.2972757016156642\n"
     ]
    },
    {
     "name": "stderr",
     "output_type": "stream",
     "text": [
      "C:\\Users\\huckr\\AppData\\Local\\Temp\\ipykernel_33072\\578621774.py:838: UserWarning: Column names longer than 10 characters will be truncated when saved to ESRI Shapefile.\n",
      "  channel_belt_cross_sections.to_file(os.path.join(output_folder, 'channel_belt_cross_sections.shp'))\n"
     ]
    },
    {
     "name": "stdout",
     "output_type": "stream",
     "text": [
      "Sinuosity: 1.8712658295838547\n",
      "Channel Count Index (CCI): 1.44\n",
      "Channel Form Index (CFI): 1.2994901594332324\n"
     ]
    },
    {
     "name": "stderr",
     "output_type": "stream",
     "text": [
      "C:\\Users\\huckr\\AppData\\Local\\Temp\\ipykernel_33072\\578621774.py:838: UserWarning: Column names longer than 10 characters will be truncated when saved to ESRI Shapefile.\n",
      "  channel_belt_cross_sections.to_file(os.path.join(output_folder, 'channel_belt_cross_sections.shp'))\n"
     ]
    },
    {
     "name": "stdout",
     "output_type": "stream",
     "text": [
      "Sinuosity: 1.9180227919858996\n",
      "Channel Count Index (CCI): 1.36\n",
      "Channel Form Index (CFI): 1.4103108764602201\n"
     ]
    },
    {
     "name": "stderr",
     "output_type": "stream",
     "text": [
      "C:\\Users\\huckr\\AppData\\Local\\Temp\\ipykernel_33072\\578621774.py:838: UserWarning: Column names longer than 10 characters will be truncated when saved to ESRI Shapefile.\n",
      "  channel_belt_cross_sections.to_file(os.path.join(output_folder, 'channel_belt_cross_sections.shp'))\n"
     ]
    },
    {
     "name": "stdout",
     "output_type": "stream",
     "text": [
      "Sinuosity: 1.9155122331461\n",
      "Channel Count Index (CCI): 1.48\n",
      "Channel Form Index (CFI): 1.2942650223960135\n"
     ]
    },
    {
     "name": "stderr",
     "output_type": "stream",
     "text": [
      "C:\\Users\\huckr\\AppData\\Local\\Temp\\ipykernel_33072\\578621774.py:838: UserWarning: Column names longer than 10 characters will be truncated when saved to ESRI Shapefile.\n",
      "  channel_belt_cross_sections.to_file(os.path.join(output_folder, 'channel_belt_cross_sections.shp'))\n"
     ]
    },
    {
     "name": "stdout",
     "output_type": "stream",
     "text": [
      "Sinuosity: 1.9295690868169186\n",
      "Channel Count Index (CCI): 1.28\n",
      "Channel Form Index (CFI): 1.5074758490757176\n"
     ]
    },
    {
     "name": "stderr",
     "output_type": "stream",
     "text": [
      "C:\\Users\\huckr\\AppData\\Local\\Temp\\ipykernel_33072\\578621774.py:838: UserWarning: Column names longer than 10 characters will be truncated when saved to ESRI Shapefile.\n",
      "  channel_belt_cross_sections.to_file(os.path.join(output_folder, 'channel_belt_cross_sections.shp'))\n"
     ]
    },
    {
     "name": "stdout",
     "output_type": "stream",
     "text": [
      "Sinuosity: 1.9884305340617672\n",
      "Channel Count Index (CCI): 1.44\n",
      "Channel Form Index (CFI): 1.380854537542894\n"
     ]
    },
    {
     "name": "stderr",
     "output_type": "stream",
     "text": [
      "C:\\Users\\huckr\\AppData\\Local\\Temp\\ipykernel_33072\\578621774.py:838: UserWarning: Column names longer than 10 characters will be truncated when saved to ESRI Shapefile.\n",
      "  channel_belt_cross_sections.to_file(os.path.join(output_folder, 'channel_belt_cross_sections.shp'))\n"
     ]
    },
    {
     "name": "stdout",
     "output_type": "stream",
     "text": [
      "Sinuosity: 1.964771915812539\n",
      "Channel Count Index (CCI): 1.46\n",
      "Channel Form Index (CFI): 1.345734188912698\n"
     ]
    },
    {
     "name": "stderr",
     "output_type": "stream",
     "text": [
      "C:\\Users\\huckr\\AppData\\Local\\Temp\\ipykernel_33072\\578621774.py:838: UserWarning: Column names longer than 10 characters will be truncated when saved to ESRI Shapefile.\n",
      "  channel_belt_cross_sections.to_file(os.path.join(output_folder, 'channel_belt_cross_sections.shp'))\n"
     ]
    },
    {
     "name": "stdout",
     "output_type": "stream",
     "text": [
      "Sinuosity: 2.003625317664572\n",
      "Channel Count Index (CCI): 1.38\n",
      "Channel Form Index (CFI): 1.4519024041047623\n"
     ]
    },
    {
     "name": "stderr",
     "output_type": "stream",
     "text": [
      "C:\\Users\\huckr\\AppData\\Local\\Temp\\ipykernel_33072\\578621774.py:838: UserWarning: Column names longer than 10 characters will be truncated when saved to ESRI Shapefile.\n",
      "  channel_belt_cross_sections.to_file(os.path.join(output_folder, 'channel_belt_cross_sections.shp'))\n"
     ]
    },
    {
     "name": "stdout",
     "output_type": "stream",
     "text": [
      "Sinuosity: 1.9854303696761717\n",
      "Channel Count Index (CCI): 1.34\n",
      "Channel Form Index (CFI): 1.4816644549822175\n"
     ]
    },
    {
     "name": "stderr",
     "output_type": "stream",
     "text": [
      "C:\\Users\\huckr\\AppData\\Local\\Temp\\ipykernel_33072\\578621774.py:838: UserWarning: Column names longer than 10 characters will be truncated when saved to ESRI Shapefile.\n",
      "  channel_belt_cross_sections.to_file(os.path.join(output_folder, 'channel_belt_cross_sections.shp'))\n"
     ]
    },
    {
     "name": "stdout",
     "output_type": "stream",
     "text": [
      "Sinuosity: 1.868607331628711\n",
      "Channel Count Index (CCI): 1.12\n",
      "Channel Form Index (CFI): 1.6683994032399205\n"
     ]
    },
    {
     "name": "stderr",
     "output_type": "stream",
     "text": [
      "C:\\Users\\huckr\\AppData\\Local\\Temp\\ipykernel_33072\\578621774.py:838: UserWarning: Column names longer than 10 characters will be truncated when saved to ESRI Shapefile.\n",
      "  channel_belt_cross_sections.to_file(os.path.join(output_folder, 'channel_belt_cross_sections.shp'))\n"
     ]
    },
    {
     "name": "stdout",
     "output_type": "stream",
     "text": [
      "Sinuosity: 1.8138879068630025\n",
      "Channel Count Index (CCI): 1.16\n",
      "Channel Form Index (CFI): 1.563696471433623\n"
     ]
    },
    {
     "name": "stderr",
     "output_type": "stream",
     "text": [
      "C:\\Users\\huckr\\AppData\\Local\\Temp\\ipykernel_33072\\578621774.py:838: UserWarning: Column names longer than 10 characters will be truncated when saved to ESRI Shapefile.\n",
      "  channel_belt_cross_sections.to_file(os.path.join(output_folder, 'channel_belt_cross_sections.shp'))\n"
     ]
    },
    {
     "name": "stdout",
     "output_type": "stream",
     "text": [
      "Sinuosity: 1.8418206859237065\n",
      "Channel Count Index (CCI): 1.1\n",
      "Channel Form Index (CFI): 1.674382441748824\n"
     ]
    },
    {
     "name": "stderr",
     "output_type": "stream",
     "text": [
      "C:\\Users\\huckr\\AppData\\Local\\Temp\\ipykernel_33072\\578621774.py:838: UserWarning: Column names longer than 10 characters will be truncated when saved to ESRI Shapefile.\n",
      "  channel_belt_cross_sections.to_file(os.path.join(output_folder, 'channel_belt_cross_sections.shp'))\n"
     ]
    },
    {
     "name": "stdout",
     "output_type": "stream",
     "text": [
      "Sinuosity: 1.8782731819208838\n",
      "Channel Count Index (CCI): 1.16\n",
      "Channel Form Index (CFI): 1.6192010188973136\n"
     ]
    },
    {
     "name": "stderr",
     "output_type": "stream",
     "text": [
      "C:\\Users\\huckr\\AppData\\Local\\Temp\\ipykernel_33072\\578621774.py:838: UserWarning: Column names longer than 10 characters will be truncated when saved to ESRI Shapefile.\n",
      "  channel_belt_cross_sections.to_file(os.path.join(output_folder, 'channel_belt_cross_sections.shp'))\n"
     ]
    },
    {
     "name": "stdout",
     "output_type": "stream",
     "text": [
      "Sinuosity: 1.9240630602981572\n",
      "Channel Count Index (CCI): 1.14\n",
      "Channel Form Index (CFI): 1.6877746142966292\n"
     ]
    },
    {
     "name": "stderr",
     "output_type": "stream",
     "text": [
      "C:\\Users\\huckr\\AppData\\Local\\Temp\\ipykernel_33072\\578621774.py:838: UserWarning: Column names longer than 10 characters will be truncated when saved to ESRI Shapefile.\n",
      "  channel_belt_cross_sections.to_file(os.path.join(output_folder, 'channel_belt_cross_sections.shp'))\n"
     ]
    },
    {
     "name": "stdout",
     "output_type": "stream",
     "text": [
      "Sinuosity: 1.8943723604025553\n",
      "Channel Count Index (CCI): 1.16\n",
      "Channel Form Index (CFI): 1.6330796210366858\n"
     ]
    },
    {
     "name": "stderr",
     "output_type": "stream",
     "text": [
      "C:\\Users\\huckr\\AppData\\Local\\Temp\\ipykernel_33072\\578621774.py:838: UserWarning: Column names longer than 10 characters will be truncated when saved to ESRI Shapefile.\n",
      "  channel_belt_cross_sections.to_file(os.path.join(output_folder, 'channel_belt_cross_sections.shp'))\n"
     ]
    },
    {
     "name": "stdout",
     "output_type": "stream",
     "text": [
      "Sinuosity: 1.9003061838616127\n",
      "Channel Count Index (CCI): 1.16\n",
      "Channel Form Index (CFI): 1.6381949860875973\n"
     ]
    },
    {
     "name": "stderr",
     "output_type": "stream",
     "text": [
      "C:\\Users\\huckr\\AppData\\Local\\Temp\\ipykernel_33072\\578621774.py:838: UserWarning: Column names longer than 10 characters will be truncated when saved to ESRI Shapefile.\n",
      "  channel_belt_cross_sections.to_file(os.path.join(output_folder, 'channel_belt_cross_sections.shp'))\n"
     ]
    },
    {
     "name": "stdout",
     "output_type": "stream",
     "text": [
      "Sinuosity: 1.9321792356274552\n",
      "Channel Count Index (CCI): 1.26\n",
      "Channel Form Index (CFI): 1.5334755838313137\n"
     ]
    },
    {
     "name": "stderr",
     "output_type": "stream",
     "text": [
      "C:\\Users\\huckr\\AppData\\Local\\Temp\\ipykernel_33072\\578621774.py:838: UserWarning: Column names longer than 10 characters will be truncated when saved to ESRI Shapefile.\n",
      "  channel_belt_cross_sections.to_file(os.path.join(output_folder, 'channel_belt_cross_sections.shp'))\n"
     ]
    },
    {
     "name": "stdout",
     "output_type": "stream",
     "text": [
      "Sinuosity: 1.8889607759171254\n",
      "Channel Count Index (CCI): 1.14\n",
      "Channel Form Index (CFI): 1.6569831367694083\n"
     ]
    },
    {
     "name": "stderr",
     "output_type": "stream",
     "text": [
      "C:\\Users\\huckr\\AppData\\Local\\Temp\\ipykernel_33072\\578621774.py:838: UserWarning: Column names longer than 10 characters will be truncated when saved to ESRI Shapefile.\n",
      "  channel_belt_cross_sections.to_file(os.path.join(output_folder, 'channel_belt_cross_sections.shp'))\n"
     ]
    },
    {
     "name": "stdout",
     "output_type": "stream",
     "text": [
      "Sinuosity: 1.9091473663107204\n",
      "Channel Count Index (CCI): 1.12\n",
      "Channel Form Index (CFI): 1.7045958627774287\n"
     ]
    },
    {
     "name": "stderr",
     "output_type": "stream",
     "text": [
      "C:\\Users\\huckr\\AppData\\Local\\Temp\\ipykernel_33072\\578621774.py:838: UserWarning: Column names longer than 10 characters will be truncated when saved to ESRI Shapefile.\n",
      "  channel_belt_cross_sections.to_file(os.path.join(output_folder, 'channel_belt_cross_sections.shp'))\n"
     ]
    },
    {
     "name": "stdout",
     "output_type": "stream",
     "text": [
      "Sinuosity: 1.8873876861509176\n",
      "Channel Count Index (CCI): 1.18\n",
      "Channel Form Index (CFI): 1.5994810899584049\n"
     ]
    },
    {
     "name": "stderr",
     "output_type": "stream",
     "text": [
      "C:\\Users\\huckr\\AppData\\Local\\Temp\\ipykernel_33072\\578621774.py:838: UserWarning: Column names longer than 10 characters will be truncated when saved to ESRI Shapefile.\n",
      "  channel_belt_cross_sections.to_file(os.path.join(output_folder, 'channel_belt_cross_sections.shp'))\n"
     ]
    },
    {
     "name": "stdout",
     "output_type": "stream",
     "text": [
      "Sinuosity: 1.9727846906541586\n",
      "Channel Count Index (CCI): 1.1\n",
      "Channel Form Index (CFI): 1.7934406278674169\n"
     ]
    },
    {
     "name": "stderr",
     "output_type": "stream",
     "text": [
      "C:\\Users\\huckr\\AppData\\Local\\Temp\\ipykernel_33072\\578621774.py:838: UserWarning: Column names longer than 10 characters will be truncated when saved to ESRI Shapefile.\n",
      "  channel_belt_cross_sections.to_file(os.path.join(output_folder, 'channel_belt_cross_sections.shp'))\n"
     ]
    },
    {
     "name": "stdout",
     "output_type": "stream",
     "text": [
      "Sinuosity: 1.9768033383355819\n",
      "Channel Count Index (CCI): 1.08\n",
      "Channel Form Index (CFI): 1.830373461421835\n"
     ]
    },
    {
     "name": "stderr",
     "output_type": "stream",
     "text": [
      "C:\\Users\\huckr\\AppData\\Local\\Temp\\ipykernel_33072\\578621774.py:838: UserWarning: Column names longer than 10 characters will be truncated when saved to ESRI Shapefile.\n",
      "  channel_belt_cross_sections.to_file(os.path.join(output_folder, 'channel_belt_cross_sections.shp'))\n"
     ]
    },
    {
     "name": "stdout",
     "output_type": "stream",
     "text": [
      "Sinuosity: 1.96354611931249\n",
      "Channel Count Index (CCI): 1.1\n",
      "Channel Form Index (CFI): 1.785041926647718\n"
     ]
    },
    {
     "name": "stderr",
     "output_type": "stream",
     "text": [
      "C:\\Users\\huckr\\AppData\\Local\\Temp\\ipykernel_33072\\578621774.py:838: UserWarning: Column names longer than 10 characters will be truncated when saved to ESRI Shapefile.\n",
      "  channel_belt_cross_sections.to_file(os.path.join(output_folder, 'channel_belt_cross_sections.shp'))\n"
     ]
    },
    {
     "name": "stdout",
     "output_type": "stream",
     "text": [
      "Sinuosity: 1.9691971850223022\n",
      "Channel Count Index (CCI): 1.18\n",
      "Channel Form Index (CFI): 1.6688111737477138\n"
     ]
    },
    {
     "name": "stderr",
     "output_type": "stream",
     "text": [
      "C:\\Users\\huckr\\AppData\\Local\\Temp\\ipykernel_33072\\578621774.py:838: UserWarning: Column names longer than 10 characters will be truncated when saved to ESRI Shapefile.\n",
      "  channel_belt_cross_sections.to_file(os.path.join(output_folder, 'channel_belt_cross_sections.shp'))\n"
     ]
    },
    {
     "name": "stdout",
     "output_type": "stream",
     "text": [
      "Sinuosity: 2.0168111744340993\n",
      "Channel Count Index (CCI): 1.16\n",
      "Channel Form Index (CFI): 1.7386303227880167\n"
     ]
    },
    {
     "name": "stderr",
     "output_type": "stream",
     "text": [
      "C:\\Users\\huckr\\AppData\\Local\\Temp\\ipykernel_33072\\578621774.py:838: UserWarning: Column names longer than 10 characters will be truncated when saved to ESRI Shapefile.\n",
      "  channel_belt_cross_sections.to_file(os.path.join(output_folder, 'channel_belt_cross_sections.shp'))\n"
     ]
    },
    {
     "name": "stdout",
     "output_type": "stream",
     "text": [
      "Sinuosity: 1.8414886165211837\n",
      "Channel Count Index (CCI): 1.12\n",
      "Channel Form Index (CFI): 1.6441862647510568\n"
     ]
    },
    {
     "name": "stderr",
     "output_type": "stream",
     "text": [
      "C:\\Users\\huckr\\AppData\\Local\\Temp\\ipykernel_33072\\578621774.py:838: UserWarning: Column names longer than 10 characters will be truncated when saved to ESRI Shapefile.\n",
      "  channel_belt_cross_sections.to_file(os.path.join(output_folder, 'channel_belt_cross_sections.shp'))\n"
     ]
    },
    {
     "name": "stdout",
     "output_type": "stream",
     "text": [
      "Sinuosity: 1.8613368069671339\n",
      "Channel Count Index (CCI): 1.02\n",
      "Channel Form Index (CFI): 1.8248400068305233\n"
     ]
    },
    {
     "name": "stderr",
     "output_type": "stream",
     "text": [
      "C:\\Users\\huckr\\AppData\\Local\\Temp\\ipykernel_33072\\578621774.py:838: UserWarning: Column names longer than 10 characters will be truncated when saved to ESRI Shapefile.\n",
      "  channel_belt_cross_sections.to_file(os.path.join(output_folder, 'channel_belt_cross_sections.shp'))\n"
     ]
    },
    {
     "name": "stdout",
     "output_type": "stream",
     "text": [
      "Sinuosity: 1.8627019080945584\n",
      "Channel Count Index (CCI): 1.04\n",
      "Channel Form Index (CFI): 1.7910595270139984\n"
     ]
    },
    {
     "name": "stderr",
     "output_type": "stream",
     "text": [
      "C:\\Users\\huckr\\AppData\\Local\\Temp\\ipykernel_33072\\578621774.py:838: UserWarning: Column names longer than 10 characters will be truncated when saved to ESRI Shapefile.\n",
      "  channel_belt_cross_sections.to_file(os.path.join(output_folder, 'channel_belt_cross_sections.shp'))\n"
     ]
    },
    {
     "name": "stdout",
     "output_type": "stream",
     "text": [
      "Sinuosity: 1.9099184004174135\n",
      "Channel Count Index (CCI): 1.1\n",
      "Channel Form Index (CFI): 1.7362894549249213\n"
     ]
    },
    {
     "name": "stderr",
     "output_type": "stream",
     "text": [
      "C:\\Users\\huckr\\AppData\\Local\\Temp\\ipykernel_33072\\578621774.py:838: UserWarning: Column names longer than 10 characters will be truncated when saved to ESRI Shapefile.\n",
      "  channel_belt_cross_sections.to_file(os.path.join(output_folder, 'channel_belt_cross_sections.shp'))\n"
     ]
    },
    {
     "name": "stdout",
     "output_type": "stream",
     "text": [
      "Sinuosity: 1.891471063306782\n",
      "Channel Count Index (CCI): 1.08\n",
      "Channel Form Index (CFI): 1.7513620956544276\n"
     ]
    },
    {
     "name": "stderr",
     "output_type": "stream",
     "text": [
      "C:\\Users\\huckr\\AppData\\Local\\Temp\\ipykernel_33072\\578621774.py:838: UserWarning: Column names longer than 10 characters will be truncated when saved to ESRI Shapefile.\n",
      "  channel_belt_cross_sections.to_file(os.path.join(output_folder, 'channel_belt_cross_sections.shp'))\n"
     ]
    },
    {
     "name": "stdout",
     "output_type": "stream",
     "text": [
      "Sinuosity: 1.90386848226966\n",
      "Channel Count Index (CCI): 1.06\n",
      "Channel Form Index (CFI): 1.7961023417638302\n"
     ]
    },
    {
     "name": "stderr",
     "output_type": "stream",
     "text": [
      "C:\\Users\\huckr\\AppData\\Local\\Temp\\ipykernel_33072\\578621774.py:838: UserWarning: Column names longer than 10 characters will be truncated when saved to ESRI Shapefile.\n",
      "  channel_belt_cross_sections.to_file(os.path.join(output_folder, 'channel_belt_cross_sections.shp'))\n"
     ]
    },
    {
     "name": "stdout",
     "output_type": "stream",
     "text": [
      "Sinuosity: 1.9091480921653972\n",
      "Channel Count Index (CCI): 1.14\n",
      "Channel Form Index (CFI): 1.6746913089170152\n"
     ]
    },
    {
     "name": "stderr",
     "output_type": "stream",
     "text": [
      "C:\\Users\\huckr\\AppData\\Local\\Temp\\ipykernel_33072\\578621774.py:838: UserWarning: Column names longer than 10 characters will be truncated when saved to ESRI Shapefile.\n",
      "  channel_belt_cross_sections.to_file(os.path.join(output_folder, 'channel_belt_cross_sections.shp'))\n"
     ]
    },
    {
     "name": "stdout",
     "output_type": "stream",
     "text": [
      "Sinuosity: 1.8384902514953676\n",
      "Channel Count Index (CCI): 1.38\n",
      "Channel Form Index (CFI): 1.3322393126778027\n"
     ]
    },
    {
     "name": "stderr",
     "output_type": "stream",
     "text": [
      "C:\\Users\\huckr\\AppData\\Local\\Temp\\ipykernel_33072\\578621774.py:838: UserWarning: Column names longer than 10 characters will be truncated when saved to ESRI Shapefile.\n",
      "  channel_belt_cross_sections.to_file(os.path.join(output_folder, 'channel_belt_cross_sections.shp'))\n"
     ]
    },
    {
     "name": "stdout",
     "output_type": "stream",
     "text": [
      "Sinuosity: 1.837108549360812\n",
      "Channel Count Index (CCI): 1.34\n",
      "Channel Form Index (CFI): 1.3709765293737401\n"
     ]
    },
    {
     "name": "stderr",
     "output_type": "stream",
     "text": [
      "C:\\Users\\huckr\\AppData\\Local\\Temp\\ipykernel_33072\\578621774.py:838: UserWarning: Column names longer than 10 characters will be truncated when saved to ESRI Shapefile.\n",
      "  channel_belt_cross_sections.to_file(os.path.join(output_folder, 'channel_belt_cross_sections.shp'))\n"
     ]
    },
    {
     "name": "stdout",
     "output_type": "stream",
     "text": [
      "Sinuosity: 1.817358894816088\n",
      "Channel Count Index (CCI): 1.3\n",
      "Channel Form Index (CFI): 1.3979683806277599\n"
     ]
    },
    {
     "name": "stderr",
     "output_type": "stream",
     "text": [
      "C:\\Users\\huckr\\AppData\\Local\\Temp\\ipykernel_33072\\578621774.py:838: UserWarning: Column names longer than 10 characters will be truncated when saved to ESRI Shapefile.\n",
      "  channel_belt_cross_sections.to_file(os.path.join(output_folder, 'channel_belt_cross_sections.shp'))\n"
     ]
    },
    {
     "name": "stdout",
     "output_type": "stream",
     "text": [
      "Sinuosity: 1.8323766229979501\n",
      "Channel Count Index (CCI): 1.24\n",
      "Channel Form Index (CFI): 1.477723083062863\n"
     ]
    },
    {
     "name": "stderr",
     "output_type": "stream",
     "text": [
      "C:\\Users\\huckr\\AppData\\Local\\Temp\\ipykernel_33072\\578621774.py:838: UserWarning: Column names longer than 10 characters will be truncated when saved to ESRI Shapefile.\n",
      "  channel_belt_cross_sections.to_file(os.path.join(output_folder, 'channel_belt_cross_sections.shp'))\n"
     ]
    },
    {
     "name": "stdout",
     "output_type": "stream",
     "text": [
      "Sinuosity: 1.838031323436955\n",
      "Channel Count Index (CCI): 1.2\n",
      "Channel Form Index (CFI): 1.5316927695307958\n"
     ]
    },
    {
     "name": "stderr",
     "output_type": "stream",
     "text": [
      "C:\\Users\\huckr\\AppData\\Local\\Temp\\ipykernel_33072\\578621774.py:838: UserWarning: Column names longer than 10 characters will be truncated when saved to ESRI Shapefile.\n",
      "  channel_belt_cross_sections.to_file(os.path.join(output_folder, 'channel_belt_cross_sections.shp'))\n"
     ]
    },
    {
     "name": "stdout",
     "output_type": "stream",
     "text": [
      "Sinuosity: 1.8384360418629375\n",
      "Channel Count Index (CCI): 1.16\n",
      "Channel Form Index (CFI): 1.5848586567783944\n"
     ]
    },
    {
     "name": "stderr",
     "output_type": "stream",
     "text": [
      "C:\\Users\\huckr\\AppData\\Local\\Temp\\ipykernel_33072\\578621774.py:838: UserWarning: Column names longer than 10 characters will be truncated when saved to ESRI Shapefile.\n",
      "  channel_belt_cross_sections.to_file(os.path.join(output_folder, 'channel_belt_cross_sections.shp'))\n"
     ]
    },
    {
     "name": "stdout",
     "output_type": "stream",
     "text": [
      "Sinuosity: 1.8026427559692402\n",
      "Channel Count Index (CCI): 1.2\n",
      "Channel Form Index (CFI): 1.5022022966410336\n"
     ]
    },
    {
     "name": "stderr",
     "output_type": "stream",
     "text": [
      "C:\\Users\\huckr\\AppData\\Local\\Temp\\ipykernel_33072\\578621774.py:838: UserWarning: Column names longer than 10 characters will be truncated when saved to ESRI Shapefile.\n",
      "  channel_belt_cross_sections.to_file(os.path.join(output_folder, 'channel_belt_cross_sections.shp'))\n"
     ]
    },
    {
     "name": "stdout",
     "output_type": "stream",
     "text": [
      "Sinuosity: 1.795230265030762\n",
      "Channel Count Index (CCI): 1.12\n",
      "Channel Form Index (CFI): 1.6028841652060375\n"
     ]
    },
    {
     "name": "stderr",
     "output_type": "stream",
     "text": [
      "C:\\Users\\huckr\\AppData\\Local\\Temp\\ipykernel_33072\\578621774.py:838: UserWarning: Column names longer than 10 characters will be truncated when saved to ESRI Shapefile.\n",
      "  channel_belt_cross_sections.to_file(os.path.join(output_folder, 'channel_belt_cross_sections.shp'))\n"
     ]
    },
    {
     "name": "stdout",
     "output_type": "stream",
     "text": [
      "Sinuosity: 1.8136608594354895\n",
      "Channel Count Index (CCI): 1.34\n",
      "Channel Form Index (CFI): 1.3534782533100667\n"
     ]
    },
    {
     "name": "stderr",
     "output_type": "stream",
     "text": [
      "C:\\Users\\huckr\\AppData\\Local\\Temp\\ipykernel_33072\\578621774.py:838: UserWarning: Column names longer than 10 characters will be truncated when saved to ESRI Shapefile.\n",
      "  channel_belt_cross_sections.to_file(os.path.join(output_folder, 'channel_belt_cross_sections.shp'))\n"
     ]
    },
    {
     "name": "stdout",
     "output_type": "stream",
     "text": [
      "Sinuosity: 1.8036342940285397\n",
      "Channel Count Index (CCI): 1.2\n",
      "Channel Form Index (CFI): 1.5030285783571165\n"
     ]
    },
    {
     "name": "stderr",
     "output_type": "stream",
     "text": [
      "C:\\Users\\huckr\\AppData\\Local\\Temp\\ipykernel_33072\\578621774.py:838: UserWarning: Column names longer than 10 characters will be truncated when saved to ESRI Shapefile.\n",
      "  channel_belt_cross_sections.to_file(os.path.join(output_folder, 'channel_belt_cross_sections.shp'))\n"
     ]
    },
    {
     "name": "stdout",
     "output_type": "stream",
     "text": [
      "Sinuosity: 1.8506049684339274\n",
      "Channel Count Index (CCI): 1.24\n",
      "Channel Form Index (CFI): 1.492423361640264\n"
     ]
    },
    {
     "name": "stderr",
     "output_type": "stream",
     "text": [
      "C:\\Users\\huckr\\AppData\\Local\\Temp\\ipykernel_33072\\578621774.py:838: UserWarning: Column names longer than 10 characters will be truncated when saved to ESRI Shapefile.\n",
      "  channel_belt_cross_sections.to_file(os.path.join(output_folder, 'channel_belt_cross_sections.shp'))\n"
     ]
    },
    {
     "name": "stdout",
     "output_type": "stream",
     "text": [
      "Sinuosity: 1.8281192242368776\n",
      "Channel Count Index (CCI): 1.18\n",
      "Channel Form Index (CFI): 1.5492535798617608\n"
     ]
    },
    {
     "name": "stderr",
     "output_type": "stream",
     "text": [
      "C:\\Users\\huckr\\AppData\\Local\\Temp\\ipykernel_33072\\578621774.py:838: UserWarning: Column names longer than 10 characters will be truncated when saved to ESRI Shapefile.\n",
      "  channel_belt_cross_sections.to_file(os.path.join(output_folder, 'channel_belt_cross_sections.shp'))\n"
     ]
    },
    {
     "name": "stdout",
     "output_type": "stream",
     "text": [
      "Sinuosity: 1.9440189187395132\n",
      "Channel Count Index (CCI): 1.1\n",
      "Channel Form Index (CFI): 1.76728992612683\n"
     ]
    },
    {
     "name": "stderr",
     "output_type": "stream",
     "text": [
      "C:\\Users\\huckr\\AppData\\Local\\Temp\\ipykernel_33072\\578621774.py:838: UserWarning: Column names longer than 10 characters will be truncated when saved to ESRI Shapefile.\n",
      "  channel_belt_cross_sections.to_file(os.path.join(output_folder, 'channel_belt_cross_sections.shp'))\n"
     ]
    },
    {
     "name": "stdout",
     "output_type": "stream",
     "text": [
      "Sinuosity: 1.9687313368321477\n",
      "Channel Count Index (CCI): 1.16\n",
      "Channel Form Index (CFI): 1.6971821869242654\n"
     ]
    },
    {
     "name": "stderr",
     "output_type": "stream",
     "text": [
      "C:\\Users\\huckr\\AppData\\Local\\Temp\\ipykernel_33072\\578621774.py:838: UserWarning: Column names longer than 10 characters will be truncated when saved to ESRI Shapefile.\n",
      "  channel_belt_cross_sections.to_file(os.path.join(output_folder, 'channel_belt_cross_sections.shp'))\n"
     ]
    },
    {
     "name": "stdout",
     "output_type": "stream",
     "text": [
      "Sinuosity: 1.9611041941525391\n",
      "Channel Count Index (CCI): 1.2\n",
      "Channel Form Index (CFI): 1.634253495127116\n"
     ]
    },
    {
     "name": "stderr",
     "output_type": "stream",
     "text": [
      "C:\\Users\\huckr\\AppData\\Local\\Temp\\ipykernel_33072\\578621774.py:838: UserWarning: Column names longer than 10 characters will be truncated when saved to ESRI Shapefile.\n",
      "  channel_belt_cross_sections.to_file(os.path.join(output_folder, 'channel_belt_cross_sections.shp'))\n"
     ]
    },
    {
     "name": "stdout",
     "output_type": "stream",
     "text": [
      "Sinuosity: 1.969953539306589\n",
      "Channel Count Index (CCI): 1.18\n",
      "Channel Form Index (CFI): 1.6694521519547365\n"
     ]
    },
    {
     "name": "stderr",
     "output_type": "stream",
     "text": [
      "C:\\Users\\huckr\\AppData\\Local\\Temp\\ipykernel_33072\\578621774.py:838: UserWarning: Column names longer than 10 characters will be truncated when saved to ESRI Shapefile.\n",
      "  channel_belt_cross_sections.to_file(os.path.join(output_folder, 'channel_belt_cross_sections.shp'))\n"
     ]
    },
    {
     "name": "stdout",
     "output_type": "stream",
     "text": [
      "Sinuosity: 1.9730039083582094\n",
      "Channel Count Index (CCI): 1.14\n",
      "Channel Form Index (CFI): 1.7307051827703592\n"
     ]
    },
    {
     "name": "stderr",
     "output_type": "stream",
     "text": [
      "C:\\Users\\huckr\\AppData\\Local\\Temp\\ipykernel_33072\\578621774.py:838: UserWarning: Column names longer than 10 characters will be truncated when saved to ESRI Shapefile.\n",
      "  channel_belt_cross_sections.to_file(os.path.join(output_folder, 'channel_belt_cross_sections.shp'))\n"
     ]
    },
    {
     "name": "stdout",
     "output_type": "stream",
     "text": [
      "Sinuosity: 2.537035453240443\n",
      "Channel Count Index (CCI): 1.22\n",
      "Channel Form Index (CFI): 2.0795372567544614\n"
     ]
    },
    {
     "name": "stderr",
     "output_type": "stream",
     "text": [
      "C:\\Users\\huckr\\AppData\\Local\\Temp\\ipykernel_33072\\578621774.py:838: UserWarning: Column names longer than 10 characters will be truncated when saved to ESRI Shapefile.\n",
      "  channel_belt_cross_sections.to_file(os.path.join(output_folder, 'channel_belt_cross_sections.shp'))\n"
     ]
    },
    {
     "name": "stdout",
     "output_type": "stream",
     "text": [
      "Sinuosity: 2.529595231573366\n",
      "Channel Count Index (CCI): 1.32\n",
      "Channel Form Index (CFI): 1.9163600239192164\n"
     ]
    },
    {
     "name": "stderr",
     "output_type": "stream",
     "text": [
      "C:\\Users\\huckr\\AppData\\Local\\Temp\\ipykernel_33072\\578621774.py:838: UserWarning: Column names longer than 10 characters will be truncated when saved to ESRI Shapefile.\n",
      "  channel_belt_cross_sections.to_file(os.path.join(output_folder, 'channel_belt_cross_sections.shp'))\n"
     ]
    },
    {
     "name": "stdout",
     "output_type": "stream",
     "text": [
      "Sinuosity: 2.6155876886431155\n",
      "Channel Count Index (CCI): 1.26\n",
      "Channel Form Index (CFI): 2.0758632449548537\n"
     ]
    },
    {
     "name": "stderr",
     "output_type": "stream",
     "text": [
      "C:\\Users\\huckr\\AppData\\Local\\Temp\\ipykernel_33072\\578621774.py:838: UserWarning: Column names longer than 10 characters will be truncated when saved to ESRI Shapefile.\n",
      "  channel_belt_cross_sections.to_file(os.path.join(output_folder, 'channel_belt_cross_sections.shp'))\n"
     ]
    },
    {
     "name": "stdout",
     "output_type": "stream",
     "text": [
      "Sinuosity: 2.3711162844987297\n",
      "Channel Count Index (CCI): 1.32\n",
      "Channel Form Index (CFI): 1.7963002155293406\n"
     ]
    },
    {
     "name": "stderr",
     "output_type": "stream",
     "text": [
      "C:\\Users\\huckr\\AppData\\Local\\Temp\\ipykernel_33072\\578621774.py:838: UserWarning: Column names longer than 10 characters will be truncated when saved to ESRI Shapefile.\n",
      "  channel_belt_cross_sections.to_file(os.path.join(output_folder, 'channel_belt_cross_sections.shp'))\n"
     ]
    },
    {
     "name": "stdout",
     "output_type": "stream",
     "text": [
      "Sinuosity: 2.2131753458488275\n",
      "Channel Count Index (CCI): 1.32\n",
      "Channel Form Index (CFI): 1.6766479892794146\n"
     ]
    },
    {
     "name": "stderr",
     "output_type": "stream",
     "text": [
      "C:\\Users\\huckr\\AppData\\Local\\Temp\\ipykernel_33072\\578621774.py:838: UserWarning: Column names longer than 10 characters will be truncated when saved to ESRI Shapefile.\n",
      "  channel_belt_cross_sections.to_file(os.path.join(output_folder, 'channel_belt_cross_sections.shp'))\n"
     ]
    },
    {
     "name": "stdout",
     "output_type": "stream",
     "text": [
      "Sinuosity: 2.2648551661484597\n",
      "Channel Count Index (CCI): 1.3\n",
      "Channel Form Index (CFI): 1.7421962816526613\n"
     ]
    },
    {
     "name": "stderr",
     "output_type": "stream",
     "text": [
      "C:\\Users\\huckr\\AppData\\Local\\Temp\\ipykernel_33072\\578621774.py:838: UserWarning: Column names longer than 10 characters will be truncated when saved to ESRI Shapefile.\n",
      "  channel_belt_cross_sections.to_file(os.path.join(output_folder, 'channel_belt_cross_sections.shp'))\n"
     ]
    },
    {
     "name": "stdout",
     "output_type": "stream",
     "text": [
      "Sinuosity: 2.2819994708343696\n",
      "Channel Count Index (CCI): 1.26\n",
      "Channel Form Index (CFI): 1.8111106911383885\n"
     ]
    },
    {
     "name": "stderr",
     "output_type": "stream",
     "text": [
      "C:\\Users\\huckr\\AppData\\Local\\Temp\\ipykernel_33072\\578621774.py:838: UserWarning: Column names longer than 10 characters will be truncated when saved to ESRI Shapefile.\n",
      "  channel_belt_cross_sections.to_file(os.path.join(output_folder, 'channel_belt_cross_sections.shp'))\n"
     ]
    },
    {
     "name": "stdout",
     "output_type": "stream",
     "text": [
      "Sinuosity: 2.3155499057013786\n",
      "Channel Count Index (CCI): 1.3\n",
      "Channel Form Index (CFI): 1.7811922351549065\n"
     ]
    },
    {
     "name": "stderr",
     "output_type": "stream",
     "text": [
      "C:\\Users\\huckr\\AppData\\Local\\Temp\\ipykernel_33072\\578621774.py:838: UserWarning: Column names longer than 10 characters will be truncated when saved to ESRI Shapefile.\n",
      "  channel_belt_cross_sections.to_file(os.path.join(output_folder, 'channel_belt_cross_sections.shp'))\n"
     ]
    },
    {
     "name": "stdout",
     "output_type": "stream",
     "text": [
      "Sinuosity: 1.8489866920072413\n",
      "Channel Count Index (CCI): 1.46\n",
      "Channel Form Index (CFI): 1.2664292411008502\n"
     ]
    },
    {
     "name": "stderr",
     "output_type": "stream",
     "text": [
      "C:\\Users\\huckr\\AppData\\Local\\Temp\\ipykernel_33072\\578621774.py:838: UserWarning: Column names longer than 10 characters will be truncated when saved to ESRI Shapefile.\n",
      "  channel_belt_cross_sections.to_file(os.path.join(output_folder, 'channel_belt_cross_sections.shp'))\n"
     ]
    },
    {
     "name": "stdout",
     "output_type": "stream",
     "text": [
      "Sinuosity: 1.8624923104197437\n",
      "Channel Count Index (CCI): 1.12\n",
      "Channel Form Index (CFI): 1.662939562874771\n"
     ]
    },
    {
     "name": "stderr",
     "output_type": "stream",
     "text": [
      "C:\\Users\\huckr\\AppData\\Local\\Temp\\ipykernel_33072\\578621774.py:838: UserWarning: Column names longer than 10 characters will be truncated when saved to ESRI Shapefile.\n",
      "  channel_belt_cross_sections.to_file(os.path.join(output_folder, 'channel_belt_cross_sections.shp'))\n"
     ]
    },
    {
     "name": "stdout",
     "output_type": "stream",
     "text": [
      "Sinuosity: 1.8169600533862507\n",
      "Channel Count Index (CCI): 1.2\n",
      "Channel Form Index (CFI): 1.5141333778218755\n"
     ]
    },
    {
     "name": "stderr",
     "output_type": "stream",
     "text": [
      "C:\\Users\\huckr\\AppData\\Local\\Temp\\ipykernel_33072\\578621774.py:838: UserWarning: Column names longer than 10 characters will be truncated when saved to ESRI Shapefile.\n",
      "  channel_belt_cross_sections.to_file(os.path.join(output_folder, 'channel_belt_cross_sections.shp'))\n"
     ]
    },
    {
     "name": "stdout",
     "output_type": "stream",
     "text": [
      "Sinuosity: 1.9506305909946733\n",
      "Channel Count Index (CCI): 1.28\n",
      "Channel Form Index (CFI): 1.5239301492145885\n"
     ]
    },
    {
     "name": "stderr",
     "output_type": "stream",
     "text": [
      "C:\\Users\\huckr\\AppData\\Local\\Temp\\ipykernel_33072\\578621774.py:838: UserWarning: Column names longer than 10 characters will be truncated when saved to ESRI Shapefile.\n",
      "  channel_belt_cross_sections.to_file(os.path.join(output_folder, 'channel_belt_cross_sections.shp'))\n"
     ]
    },
    {
     "name": "stdout",
     "output_type": "stream",
     "text": [
      "Sinuosity: 2.0340832737210066\n",
      "Channel Count Index (CCI): 1.18\n",
      "Channel Form Index (CFI): 1.7237993845093278\n"
     ]
    },
    {
     "name": "stderr",
     "output_type": "stream",
     "text": [
      "C:\\Users\\huckr\\AppData\\Local\\Temp\\ipykernel_33072\\578621774.py:838: UserWarning: Column names longer than 10 characters will be truncated when saved to ESRI Shapefile.\n",
      "  channel_belt_cross_sections.to_file(os.path.join(output_folder, 'channel_belt_cross_sections.shp'))\n"
     ]
    },
    {
     "name": "stdout",
     "output_type": "stream",
     "text": [
      "Sinuosity: 1.951549385480658\n",
      "Channel Count Index (CCI): 1.04\n",
      "Channel Form Index (CFI): 1.8764897937314018\n"
     ]
    },
    {
     "name": "stderr",
     "output_type": "stream",
     "text": [
      "C:\\Users\\huckr\\AppData\\Local\\Temp\\ipykernel_33072\\578621774.py:838: UserWarning: Column names longer than 10 characters will be truncated when saved to ESRI Shapefile.\n",
      "  channel_belt_cross_sections.to_file(os.path.join(output_folder, 'channel_belt_cross_sections.shp'))\n"
     ]
    },
    {
     "name": "stdout",
     "output_type": "stream",
     "text": [
      "Sinuosity: 1.959040060431624\n",
      "Channel Count Index (CCI): 1.08\n",
      "Channel Form Index (CFI): 1.8139259818811333\n"
     ]
    },
    {
     "name": "stderr",
     "output_type": "stream",
     "text": [
      "C:\\Users\\huckr\\AppData\\Local\\Temp\\ipykernel_33072\\578621774.py:838: UserWarning: Column names longer than 10 characters will be truncated when saved to ESRI Shapefile.\n",
      "  channel_belt_cross_sections.to_file(os.path.join(output_folder, 'channel_belt_cross_sections.shp'))\n"
     ]
    },
    {
     "name": "stdout",
     "output_type": "stream",
     "text": [
      "Sinuosity: 1.8771223911070853\n",
      "Channel Count Index (CCI): 1.08\n",
      "Channel Form Index (CFI): 1.738076288062116\n"
     ]
    },
    {
     "name": "stderr",
     "output_type": "stream",
     "text": [
      "C:\\Users\\huckr\\AppData\\Local\\Temp\\ipykernel_33072\\578621774.py:838: UserWarning: Column names longer than 10 characters will be truncated when saved to ESRI Shapefile.\n",
      "  channel_belt_cross_sections.to_file(os.path.join(output_folder, 'channel_belt_cross_sections.shp'))\n"
     ]
    },
    {
     "name": "stdout",
     "output_type": "stream",
     "text": [
      "Sinuosity: 1.8767791270238838\n",
      "Channel Count Index (CCI): 1.08\n",
      "Channel Form Index (CFI): 1.7377584509480404\n"
     ]
    },
    {
     "name": "stderr",
     "output_type": "stream",
     "text": [
      "C:\\Users\\huckr\\AppData\\Local\\Temp\\ipykernel_33072\\578621774.py:838: UserWarning: Column names longer than 10 characters will be truncated when saved to ESRI Shapefile.\n",
      "  channel_belt_cross_sections.to_file(os.path.join(output_folder, 'channel_belt_cross_sections.shp'))\n"
     ]
    },
    {
     "name": "stdout",
     "output_type": "stream",
     "text": [
      "Sinuosity: 1.9470297431098487\n",
      "Channel Count Index (CCI): 1.24\n",
      "Channel Form Index (CFI): 1.5701852767014908\n"
     ]
    },
    {
     "name": "stderr",
     "output_type": "stream",
     "text": [
      "C:\\Users\\huckr\\AppData\\Local\\Temp\\ipykernel_33072\\578621774.py:838: UserWarning: Column names longer than 10 characters will be truncated when saved to ESRI Shapefile.\n",
      "  channel_belt_cross_sections.to_file(os.path.join(output_folder, 'channel_belt_cross_sections.shp'))\n"
     ]
    },
    {
     "name": "stdout",
     "output_type": "stream",
     "text": [
      "Sinuosity: 1.8188597523271655\n",
      "Channel Count Index (CCI): 1.3\n",
      "Channel Form Index (CFI): 1.3991228864055119\n"
     ]
    },
    {
     "name": "stderr",
     "output_type": "stream",
     "text": [
      "C:\\Users\\huckr\\AppData\\Local\\Temp\\ipykernel_33072\\578621774.py:838: UserWarning: Column names longer than 10 characters will be truncated when saved to ESRI Shapefile.\n",
      "  channel_belt_cross_sections.to_file(os.path.join(output_folder, 'channel_belt_cross_sections.shp'))\n"
     ]
    },
    {
     "name": "stdout",
     "output_type": "stream",
     "text": [
      "Sinuosity: 1.946366369786477\n",
      "Channel Count Index (CCI): 1.34\n",
      "Channel Form Index (CFI): 1.4525122162585649\n"
     ]
    },
    {
     "name": "stderr",
     "output_type": "stream",
     "text": [
      "C:\\Users\\huckr\\AppData\\Local\\Temp\\ipykernel_33072\\578621774.py:838: UserWarning: Column names longer than 10 characters will be truncated when saved to ESRI Shapefile.\n",
      "  channel_belt_cross_sections.to_file(os.path.join(output_folder, 'channel_belt_cross_sections.shp'))\n"
     ]
    },
    {
     "name": "stdout",
     "output_type": "stream",
     "text": [
      "Sinuosity: 1.999253278940029\n",
      "Channel Count Index (CCI): 1.28\n",
      "Channel Form Index (CFI): 1.5619166241718976\n"
     ]
    },
    {
     "name": "stderr",
     "output_type": "stream",
     "text": [
      "C:\\Users\\huckr\\AppData\\Local\\Temp\\ipykernel_33072\\578621774.py:838: UserWarning: Column names longer than 10 characters will be truncated when saved to ESRI Shapefile.\n",
      "  channel_belt_cross_sections.to_file(os.path.join(output_folder, 'channel_belt_cross_sections.shp'))\n"
     ]
    },
    {
     "name": "stdout",
     "output_type": "stream",
     "text": [
      "Sinuosity: 1.9963312231377546\n",
      "Channel Count Index (CCI): 1.18\n",
      "Channel Form Index (CFI): 1.6918061213031819\n"
     ]
    },
    {
     "name": "stderr",
     "output_type": "stream",
     "text": [
      "C:\\Users\\huckr\\AppData\\Local\\Temp\\ipykernel_33072\\578621774.py:838: UserWarning: Column names longer than 10 characters will be truncated when saved to ESRI Shapefile.\n",
      "  channel_belt_cross_sections.to_file(os.path.join(output_folder, 'channel_belt_cross_sections.shp'))\n"
     ]
    },
    {
     "name": "stdout",
     "output_type": "stream",
     "text": [
      "Sinuosity: 2.0383373897288517\n",
      "Channel Count Index (CCI): 1.28\n",
      "Channel Form Index (CFI): 1.5924510857256653\n"
     ]
    },
    {
     "name": "stderr",
     "output_type": "stream",
     "text": [
      "C:\\Users\\huckr\\AppData\\Local\\Temp\\ipykernel_33072\\578621774.py:838: UserWarning: Column names longer than 10 characters will be truncated when saved to ESRI Shapefile.\n",
      "  channel_belt_cross_sections.to_file(os.path.join(output_folder, 'channel_belt_cross_sections.shp'))\n"
     ]
    },
    {
     "name": "stdout",
     "output_type": "stream",
     "text": [
      "Sinuosity: 2.0442774440789617\n",
      "Channel Count Index (CCI): 1.34\n",
      "Channel Form Index (CFI): 1.525580182148479\n"
     ]
    },
    {
     "name": "stderr",
     "output_type": "stream",
     "text": [
      "C:\\Users\\huckr\\AppData\\Local\\Temp\\ipykernel_33072\\578621774.py:838: UserWarning: Column names longer than 10 characters will be truncated when saved to ESRI Shapefile.\n",
      "  channel_belt_cross_sections.to_file(os.path.join(output_folder, 'channel_belt_cross_sections.shp'))\n"
     ]
    },
    {
     "name": "stdout",
     "output_type": "stream",
     "text": [
      "Sinuosity: 1.8913169157256802\n",
      "Channel Count Index (CCI): 1.58\n",
      "Channel Form Index (CFI): 1.19703602261119\n"
     ]
    },
    {
     "name": "stderr",
     "output_type": "stream",
     "text": [
      "C:\\Users\\huckr\\AppData\\Local\\Temp\\ipykernel_33072\\578621774.py:838: UserWarning: Column names longer than 10 characters will be truncated when saved to ESRI Shapefile.\n",
      "  channel_belt_cross_sections.to_file(os.path.join(output_folder, 'channel_belt_cross_sections.shp'))\n"
     ]
    },
    {
     "name": "stdout",
     "output_type": "stream",
     "text": [
      "Sinuosity: 1.9376079098936427\n",
      "Channel Count Index (CCI): 1.5\n",
      "Channel Form Index (CFI): 1.291738606595762\n"
     ]
    },
    {
     "name": "stderr",
     "output_type": "stream",
     "text": [
      "C:\\Users\\huckr\\AppData\\Local\\Temp\\ipykernel_33072\\578621774.py:838: UserWarning: Column names longer than 10 characters will be truncated when saved to ESRI Shapefile.\n",
      "  channel_belt_cross_sections.to_file(os.path.join(output_folder, 'channel_belt_cross_sections.shp'))\n"
     ]
    },
    {
     "name": "stdout",
     "output_type": "stream",
     "text": [
      "Sinuosity: 1.968788093213888\n",
      "Channel Count Index (CCI): 1.38\n",
      "Channel Form Index (CFI): 1.4266580385607885\n"
     ]
    },
    {
     "name": "stderr",
     "output_type": "stream",
     "text": [
      "C:\\Users\\huckr\\AppData\\Local\\Temp\\ipykernel_33072\\578621774.py:838: UserWarning: Column names longer than 10 characters will be truncated when saved to ESRI Shapefile.\n",
      "  channel_belt_cross_sections.to_file(os.path.join(output_folder, 'channel_belt_cross_sections.shp'))\n"
     ]
    },
    {
     "name": "stdout",
     "output_type": "stream",
     "text": [
      "Sinuosity: 1.8273133041835699\n",
      "Channel Count Index (CCI): 1.36\n",
      "Channel Form Index (CFI): 1.3436127236643896\n"
     ]
    },
    {
     "name": "stderr",
     "output_type": "stream",
     "text": [
      "C:\\Users\\huckr\\AppData\\Local\\Temp\\ipykernel_33072\\578621774.py:838: UserWarning: Column names longer than 10 characters will be truncated when saved to ESRI Shapefile.\n",
      "  channel_belt_cross_sections.to_file(os.path.join(output_folder, 'channel_belt_cross_sections.shp'))\n"
     ]
    },
    {
     "name": "stdout",
     "output_type": "stream",
     "text": [
      "Sinuosity: 1.6809900973926626\n",
      "Channel Count Index (CCI): 1.1\n",
      "Channel Form Index (CFI): 1.5281728158115113\n"
     ]
    },
    {
     "name": "stderr",
     "output_type": "stream",
     "text": [
      "C:\\Users\\huckr\\AppData\\Local\\Temp\\ipykernel_33072\\578621774.py:838: UserWarning: Column names longer than 10 characters will be truncated when saved to ESRI Shapefile.\n",
      "  channel_belt_cross_sections.to_file(os.path.join(output_folder, 'channel_belt_cross_sections.shp'))\n"
     ]
    },
    {
     "name": "stdout",
     "output_type": "stream",
     "text": [
      "Sinuosity: 1.703683543393601\n",
      "Channel Count Index (CCI): 1.14\n",
      "Channel Form Index (CFI): 1.4944592485908783\n"
     ]
    },
    {
     "name": "stderr",
     "output_type": "stream",
     "text": [
      "C:\\Users\\huckr\\AppData\\Local\\Temp\\ipykernel_33072\\578621774.py:838: UserWarning: Column names longer than 10 characters will be truncated when saved to ESRI Shapefile.\n",
      "  channel_belt_cross_sections.to_file(os.path.join(output_folder, 'channel_belt_cross_sections.shp'))\n"
     ]
    },
    {
     "name": "stdout",
     "output_type": "stream",
     "text": [
      "Sinuosity: 1.7298379560145192\n",
      "Channel Count Index (CCI): 1.14\n",
      "Channel Form Index (CFI): 1.51740171580221\n"
     ]
    },
    {
     "name": "stderr",
     "output_type": "stream",
     "text": [
      "C:\\Users\\huckr\\AppData\\Local\\Temp\\ipykernel_33072\\578621774.py:838: UserWarning: Column names longer than 10 characters will be truncated when saved to ESRI Shapefile.\n",
      "  channel_belt_cross_sections.to_file(os.path.join(output_folder, 'channel_belt_cross_sections.shp'))\n"
     ]
    },
    {
     "name": "stdout",
     "output_type": "stream",
     "text": [
      "Sinuosity: 1.747161582647718\n",
      "Channel Count Index (CCI): 1.08\n",
      "Channel Form Index (CFI): 1.6177422061552944\n"
     ]
    },
    {
     "name": "stderr",
     "output_type": "stream",
     "text": [
      "C:\\Users\\huckr\\AppData\\Local\\Temp\\ipykernel_33072\\578621774.py:838: UserWarning: Column names longer than 10 characters will be truncated when saved to ESRI Shapefile.\n",
      "  channel_belt_cross_sections.to_file(os.path.join(output_folder, 'channel_belt_cross_sections.shp'))\n"
     ]
    },
    {
     "name": "stdout",
     "output_type": "stream",
     "text": [
      "Sinuosity: 1.762864628738527\n",
      "Channel Count Index (CCI): 1.22\n",
      "Channel Form Index (CFI): 1.444971007162727\n"
     ]
    },
    {
     "name": "stderr",
     "output_type": "stream",
     "text": [
      "C:\\Users\\huckr\\AppData\\Local\\Temp\\ipykernel_33072\\578621774.py:838: UserWarning: Column names longer than 10 characters will be truncated when saved to ESRI Shapefile.\n",
      "  channel_belt_cross_sections.to_file(os.path.join(output_folder, 'channel_belt_cross_sections.shp'))\n"
     ]
    },
    {
     "name": "stdout",
     "output_type": "stream",
     "text": [
      "Sinuosity: 1.7736474668445632\n",
      "Channel Count Index (CCI): 1.24\n",
      "Channel Form Index (CFI): 1.4303608603585187\n"
     ]
    },
    {
     "name": "stderr",
     "output_type": "stream",
     "text": [
      "C:\\Users\\huckr\\AppData\\Local\\Temp\\ipykernel_33072\\578621774.py:838: UserWarning: Column names longer than 10 characters will be truncated when saved to ESRI Shapefile.\n",
      "  channel_belt_cross_sections.to_file(os.path.join(output_folder, 'channel_belt_cross_sections.shp'))\n"
     ]
    },
    {
     "name": "stdout",
     "output_type": "stream",
     "text": [
      "Sinuosity: 1.8598626397268863\n",
      "Channel Count Index (CCI): 1.18\n",
      "Channel Form Index (CFI): 1.5761547794295647\n"
     ]
    },
    {
     "name": "stderr",
     "output_type": "stream",
     "text": [
      "C:\\Users\\huckr\\AppData\\Local\\Temp\\ipykernel_33072\\578621774.py:838: UserWarning: Column names longer than 10 characters will be truncated when saved to ESRI Shapefile.\n",
      "  channel_belt_cross_sections.to_file(os.path.join(output_folder, 'channel_belt_cross_sections.shp'))\n"
     ]
    },
    {
     "name": "stdout",
     "output_type": "stream",
     "text": [
      "Sinuosity: 1.800595384469161\n",
      "Channel Count Index (CCI): 1.3\n",
      "Channel Form Index (CFI): 1.3850733726685853\n"
     ]
    },
    {
     "name": "stderr",
     "output_type": "stream",
     "text": [
      "C:\\Users\\huckr\\AppData\\Local\\Temp\\ipykernel_33072\\578621774.py:838: UserWarning: Column names longer than 10 characters will be truncated when saved to ESRI Shapefile.\n",
      "  channel_belt_cross_sections.to_file(os.path.join(output_folder, 'channel_belt_cross_sections.shp'))\n"
     ]
    },
    {
     "name": "stdout",
     "output_type": "stream",
     "text": [
      "Sinuosity: 1.8397848200282234\n",
      "Channel Count Index (CCI): 1.28\n",
      "Channel Form Index (CFI): 1.4373318906470496\n"
     ]
    },
    {
     "name": "stderr",
     "output_type": "stream",
     "text": [
      "C:\\Users\\huckr\\AppData\\Local\\Temp\\ipykernel_33072\\578621774.py:838: UserWarning: Column names longer than 10 characters will be truncated when saved to ESRI Shapefile.\n",
      "  channel_belt_cross_sections.to_file(os.path.join(output_folder, 'channel_belt_cross_sections.shp'))\n"
     ]
    },
    {
     "name": "stdout",
     "output_type": "stream",
     "text": [
      "Sinuosity: 1.8417384564872021\n",
      "Channel Count Index (CCI): 1.3\n",
      "Channel Form Index (CFI): 1.41672188960554\n"
     ]
    },
    {
     "name": "stderr",
     "output_type": "stream",
     "text": [
      "C:\\Users\\huckr\\AppData\\Local\\Temp\\ipykernel_33072\\578621774.py:838: UserWarning: Column names longer than 10 characters will be truncated when saved to ESRI Shapefile.\n",
      "  channel_belt_cross_sections.to_file(os.path.join(output_folder, 'channel_belt_cross_sections.shp'))\n"
     ]
    },
    {
     "name": "stdout",
     "output_type": "stream",
     "text": [
      "Sinuosity: 2.6444828597233614\n",
      "Channel Count Index (CCI): 1.18\n",
      "Channel Form Index (CFI): 2.241087169257086\n"
     ]
    },
    {
     "name": "stderr",
     "output_type": "stream",
     "text": [
      "C:\\Users\\huckr\\AppData\\Local\\Temp\\ipykernel_33072\\578621774.py:838: UserWarning: Column names longer than 10 characters will be truncated when saved to ESRI Shapefile.\n",
      "  channel_belt_cross_sections.to_file(os.path.join(output_folder, 'channel_belt_cross_sections.shp'))\n"
     ]
    },
    {
     "name": "stdout",
     "output_type": "stream",
     "text": [
      "Sinuosity: 2.749957730466502\n",
      "Channel Count Index (CCI): 1.14\n",
      "Channel Form Index (CFI): 2.4122436232162303\n"
     ]
    },
    {
     "name": "stderr",
     "output_type": "stream",
     "text": [
      "C:\\Users\\huckr\\AppData\\Local\\Temp\\ipykernel_33072\\578621774.py:838: UserWarning: Column names longer than 10 characters will be truncated when saved to ESRI Shapefile.\n",
      "  channel_belt_cross_sections.to_file(os.path.join(output_folder, 'channel_belt_cross_sections.shp'))\n"
     ]
    },
    {
     "name": "stdout",
     "output_type": "stream",
     "text": [
      "Sinuosity: 2.6013872865389125\n",
      "Channel Count Index (CCI): 1.26\n",
      "Channel Form Index (CFI): 2.0645930845546925\n"
     ]
    },
    {
     "name": "stderr",
     "output_type": "stream",
     "text": [
      "C:\\Users\\huckr\\AppData\\Local\\Temp\\ipykernel_33072\\578621774.py:838: UserWarning: Column names longer than 10 characters will be truncated when saved to ESRI Shapefile.\n",
      "  channel_belt_cross_sections.to_file(os.path.join(output_folder, 'channel_belt_cross_sections.shp'))\n"
     ]
    },
    {
     "name": "stdout",
     "output_type": "stream",
     "text": [
      "Sinuosity: 2.5441903594989297\n",
      "Channel Count Index (CCI): 1.18\n",
      "Channel Form Index (CFI): 2.156093524999093\n"
     ]
    },
    {
     "name": "stderr",
     "output_type": "stream",
     "text": [
      "C:\\Users\\huckr\\AppData\\Local\\Temp\\ipykernel_33072\\578621774.py:838: UserWarning: Column names longer than 10 characters will be truncated when saved to ESRI Shapefile.\n",
      "  channel_belt_cross_sections.to_file(os.path.join(output_folder, 'channel_belt_cross_sections.shp'))\n"
     ]
    },
    {
     "name": "stdout",
     "output_type": "stream",
     "text": [
      "Sinuosity: 2.559462608075239\n",
      "Channel Count Index (CCI): 1.28\n",
      "Channel Form Index (CFI): 1.9995801625587803\n"
     ]
    },
    {
     "name": "stderr",
     "output_type": "stream",
     "text": [
      "C:\\Users\\huckr\\AppData\\Local\\Temp\\ipykernel_33072\\578621774.py:838: UserWarning: Column names longer than 10 characters will be truncated when saved to ESRI Shapefile.\n",
      "  channel_belt_cross_sections.to_file(os.path.join(output_folder, 'channel_belt_cross_sections.shp'))\n"
     ]
    },
    {
     "name": "stdout",
     "output_type": "stream",
     "text": [
      "Sinuosity: 2.3581743478819766\n",
      "Channel Count Index (CCI): 1.4\n",
      "Channel Form Index (CFI): 1.6844102484871262\n"
     ]
    },
    {
     "name": "stderr",
     "output_type": "stream",
     "text": [
      "C:\\Users\\huckr\\AppData\\Local\\Temp\\ipykernel_33072\\578621774.py:838: UserWarning: Column names longer than 10 characters will be truncated when saved to ESRI Shapefile.\n",
      "  channel_belt_cross_sections.to_file(os.path.join(output_folder, 'channel_belt_cross_sections.shp'))\n"
     ]
    },
    {
     "name": "stdout",
     "output_type": "stream",
     "text": [
      "Sinuosity: 2.405527943903673\n",
      "Channel Count Index (CCI): 1.24\n",
      "Channel Form Index (CFI): 1.9399418902448977\n"
     ]
    },
    {
     "name": "stderr",
     "output_type": "stream",
     "text": [
      "C:\\Users\\huckr\\AppData\\Local\\Temp\\ipykernel_33072\\578621774.py:838: UserWarning: Column names longer than 10 characters will be truncated when saved to ESRI Shapefile.\n",
      "  channel_belt_cross_sections.to_file(os.path.join(output_folder, 'channel_belt_cross_sections.shp'))\n"
     ]
    },
    {
     "name": "stdout",
     "output_type": "stream",
     "text": [
      "Sinuosity: 2.393894186334275\n",
      "Channel Count Index (CCI): 1.14\n",
      "Channel Form Index (CFI): 2.0999071809949785\n"
     ]
    },
    {
     "name": "stderr",
     "output_type": "stream",
     "text": [
      "C:\\Users\\huckr\\AppData\\Local\\Temp\\ipykernel_33072\\578621774.py:838: UserWarning: Column names longer than 10 characters will be truncated when saved to ESRI Shapefile.\n",
      "  channel_belt_cross_sections.to_file(os.path.join(output_folder, 'channel_belt_cross_sections.shp'))\n"
     ]
    },
    {
     "name": "stdout",
     "output_type": "stream",
     "text": [
      "Sinuosity: 2.4597197529364023\n",
      "Channel Count Index (CCI): 1.08\n",
      "Channel Form Index (CFI): 2.277518289755928\n"
     ]
    },
    {
     "name": "stderr",
     "output_type": "stream",
     "text": [
      "C:\\Users\\huckr\\AppData\\Local\\Temp\\ipykernel_33072\\578621774.py:838: UserWarning: Column names longer than 10 characters will be truncated when saved to ESRI Shapefile.\n",
      "  channel_belt_cross_sections.to_file(os.path.join(output_folder, 'channel_belt_cross_sections.shp'))\n"
     ]
    },
    {
     "name": "stdout",
     "output_type": "stream",
     "text": [
      "Sinuosity: 2.1584721427673927\n",
      "Channel Count Index (CCI): 1.16\n",
      "Channel Form Index (CFI): 1.8607518472132698\n"
     ]
    },
    {
     "name": "stderr",
     "output_type": "stream",
     "text": [
      "C:\\Users\\huckr\\AppData\\Local\\Temp\\ipykernel_33072\\578621774.py:838: UserWarning: Column names longer than 10 characters will be truncated when saved to ESRI Shapefile.\n",
      "  channel_belt_cross_sections.to_file(os.path.join(output_folder, 'channel_belt_cross_sections.shp'))\n"
     ]
    },
    {
     "name": "stdout",
     "output_type": "stream",
     "text": [
      "Sinuosity: 2.2177776032343663\n",
      "Channel Count Index (CCI): 1.04\n",
      "Channel Form Index (CFI): 2.132478464648429\n"
     ]
    },
    {
     "name": "stderr",
     "output_type": "stream",
     "text": [
      "C:\\Users\\huckr\\AppData\\Local\\Temp\\ipykernel_33072\\578621774.py:838: UserWarning: Column names longer than 10 characters will be truncated when saved to ESRI Shapefile.\n",
      "  channel_belt_cross_sections.to_file(os.path.join(output_folder, 'channel_belt_cross_sections.shp'))\n"
     ]
    },
    {
     "name": "stdout",
     "output_type": "stream",
     "text": [
      "Sinuosity: 2.1821314202703777\n",
      "Channel Count Index (CCI): 1.08\n",
      "Channel Form Index (CFI): 2.020492055805905\n"
     ]
    },
    {
     "name": "stderr",
     "output_type": "stream",
     "text": [
      "C:\\Users\\huckr\\AppData\\Local\\Temp\\ipykernel_33072\\578621774.py:838: UserWarning: Column names longer than 10 characters will be truncated when saved to ESRI Shapefile.\n",
      "  channel_belt_cross_sections.to_file(os.path.join(output_folder, 'channel_belt_cross_sections.shp'))\n"
     ]
    },
    {
     "name": "stdout",
     "output_type": "stream",
     "text": [
      "Sinuosity: 2.3118988132839755\n",
      "Channel Count Index (CCI): 1.16\n",
      "Channel Form Index (CFI): 1.993016218348255\n"
     ]
    },
    {
     "name": "stderr",
     "output_type": "stream",
     "text": [
      "C:\\Users\\huckr\\AppData\\Local\\Temp\\ipykernel_33072\\578621774.py:838: UserWarning: Column names longer than 10 characters will be truncated when saved to ESRI Shapefile.\n",
      "  channel_belt_cross_sections.to_file(os.path.join(output_folder, 'channel_belt_cross_sections.shp'))\n"
     ]
    },
    {
     "name": "stdout",
     "output_type": "stream",
     "text": [
      "Sinuosity: 2.3381585713777535\n",
      "Channel Count Index (CCI): 1.1\n",
      "Channel Form Index (CFI): 2.125598701252503\n"
     ]
    },
    {
     "name": "stderr",
     "output_type": "stream",
     "text": [
      "C:\\Users\\huckr\\AppData\\Local\\Temp\\ipykernel_33072\\578621774.py:838: UserWarning: Column names longer than 10 characters will be truncated when saved to ESRI Shapefile.\n",
      "  channel_belt_cross_sections.to_file(os.path.join(output_folder, 'channel_belt_cross_sections.shp'))\n"
     ]
    },
    {
     "name": "stdout",
     "output_type": "stream",
     "text": [
      "Sinuosity: 2.248048751241523\n",
      "Channel Count Index (CCI): 1.04\n",
      "Channel Form Index (CFI): 2.161585337732234\n"
     ]
    },
    {
     "name": "stderr",
     "output_type": "stream",
     "text": [
      "C:\\Users\\huckr\\AppData\\Local\\Temp\\ipykernel_33072\\578621774.py:838: UserWarning: Column names longer than 10 characters will be truncated when saved to ESRI Shapefile.\n",
      "  channel_belt_cross_sections.to_file(os.path.join(output_folder, 'channel_belt_cross_sections.shp'))\n"
     ]
    },
    {
     "name": "stdout",
     "output_type": "stream",
     "text": [
      "Sinuosity: 2.228125951054624\n",
      "Channel Count Index (CCI): 1.02\n",
      "Channel Form Index (CFI): 2.184437206916298\n"
     ]
    },
    {
     "name": "stderr",
     "output_type": "stream",
     "text": [
      "C:\\Users\\huckr\\AppData\\Local\\Temp\\ipykernel_33072\\578621774.py:838: UserWarning: Column names longer than 10 characters will be truncated when saved to ESRI Shapefile.\n",
      "  channel_belt_cross_sections.to_file(os.path.join(output_folder, 'channel_belt_cross_sections.shp'))\n"
     ]
    },
    {
     "name": "stdout",
     "output_type": "stream",
     "text": [
      "Sinuosity: 2.237420982736608\n",
      "Channel Count Index (CCI): 1.06\n",
      "Channel Form Index (CFI): 2.110774512015668\n"
     ]
    },
    {
     "name": "stderr",
     "output_type": "stream",
     "text": [
      "C:\\Users\\huckr\\AppData\\Local\\Temp\\ipykernel_33072\\578621774.py:838: UserWarning: Column names longer than 10 characters will be truncated when saved to ESRI Shapefile.\n",
      "  channel_belt_cross_sections.to_file(os.path.join(output_folder, 'channel_belt_cross_sections.shp'))\n"
     ]
    },
    {
     "name": "stdout",
     "output_type": "stream",
     "text": [
      "Sinuosity: 2.229601355793412\n",
      "Channel Count Index (CCI): 1.04\n",
      "Channel Form Index (CFI): 2.1438474574936652\n"
     ]
    },
    {
     "name": "stderr",
     "output_type": "stream",
     "text": [
      "C:\\Users\\huckr\\AppData\\Local\\Temp\\ipykernel_33072\\578621774.py:838: UserWarning: Column names longer than 10 characters will be truncated when saved to ESRI Shapefile.\n",
      "  channel_belt_cross_sections.to_file(os.path.join(output_folder, 'channel_belt_cross_sections.shp'))\n"
     ]
    },
    {
     "name": "stdout",
     "output_type": "stream",
     "text": [
      "Sinuosity: 2.2853357615567167\n",
      "Channel Count Index (CCI): 1.14\n",
      "Channel Form Index (CFI): 2.0046804925936113\n"
     ]
    },
    {
     "name": "stderr",
     "output_type": "stream",
     "text": [
      "C:\\Users\\huckr\\AppData\\Local\\Temp\\ipykernel_33072\\578621774.py:838: UserWarning: Column names longer than 10 characters will be truncated when saved to ESRI Shapefile.\n",
      "  channel_belt_cross_sections.to_file(os.path.join(output_folder, 'channel_belt_cross_sections.shp'))\n"
     ]
    },
    {
     "name": "stdout",
     "output_type": "stream",
     "text": [
      "Sinuosity: 2.269838983750019\n",
      "Channel Count Index (CCI): 1.08\n",
      "Channel Form Index (CFI): 2.101702762731499\n"
     ]
    },
    {
     "name": "stderr",
     "output_type": "stream",
     "text": [
      "C:\\Users\\huckr\\AppData\\Local\\Temp\\ipykernel_33072\\578621774.py:838: UserWarning: Column names longer than 10 characters will be truncated when saved to ESRI Shapefile.\n",
      "  channel_belt_cross_sections.to_file(os.path.join(output_folder, 'channel_belt_cross_sections.shp'))\n"
     ]
    },
    {
     "name": "stdout",
     "output_type": "stream",
     "text": [
      "Sinuosity: 2.3679492076938082\n",
      "Channel Count Index (CCI): 1.1\n",
      "Channel Form Index (CFI): 2.152681097903462\n"
     ]
    },
    {
     "name": "stderr",
     "output_type": "stream",
     "text": [
      "C:\\Users\\huckr\\AppData\\Local\\Temp\\ipykernel_33072\\578621774.py:838: UserWarning: Column names longer than 10 characters will be truncated when saved to ESRI Shapefile.\n",
      "  channel_belt_cross_sections.to_file(os.path.join(output_folder, 'channel_belt_cross_sections.shp'))\n"
     ]
    },
    {
     "name": "stdout",
     "output_type": "stream",
     "text": [
      "Sinuosity: 2.4188938998686673\n",
      "Channel Count Index (CCI): 1.14\n",
      "Channel Form Index (CFI): 2.121836754270761\n"
     ]
    },
    {
     "name": "stderr",
     "output_type": "stream",
     "text": [
      "C:\\Users\\huckr\\AppData\\Local\\Temp\\ipykernel_33072\\578621774.py:838: UserWarning: Column names longer than 10 characters will be truncated when saved to ESRI Shapefile.\n",
      "  channel_belt_cross_sections.to_file(os.path.join(output_folder, 'channel_belt_cross_sections.shp'))\n"
     ]
    },
    {
     "name": "stdout",
     "output_type": "stream",
     "text": [
      "Sinuosity: 2.323256403710283\n",
      "Channel Count Index (CCI): 1.02\n",
      "Channel Form Index (CFI): 2.277702356578709\n"
     ]
    },
    {
     "name": "stderr",
     "output_type": "stream",
     "text": [
      "C:\\Users\\huckr\\AppData\\Local\\Temp\\ipykernel_33072\\578621774.py:838: UserWarning: Column names longer than 10 characters will be truncated when saved to ESRI Shapefile.\n",
      "  channel_belt_cross_sections.to_file(os.path.join(output_folder, 'channel_belt_cross_sections.shp'))\n"
     ]
    },
    {
     "name": "stdout",
     "output_type": "stream",
     "text": [
      "Sinuosity: 2.348637620433685\n",
      "Channel Count Index (CCI): 1.08\n",
      "Channel Form Index (CFI): 2.174664463364523\n"
     ]
    },
    {
     "name": "stderr",
     "output_type": "stream",
     "text": [
      "C:\\Users\\huckr\\AppData\\Local\\Temp\\ipykernel_33072\\578621774.py:838: UserWarning: Column names longer than 10 characters will be truncated when saved to ESRI Shapefile.\n",
      "  channel_belt_cross_sections.to_file(os.path.join(output_folder, 'channel_belt_cross_sections.shp'))\n"
     ]
    },
    {
     "name": "stdout",
     "output_type": "stream",
     "text": [
      "Sinuosity: 2.368270468534973\n",
      "Channel Count Index (CCI): 1.1\n",
      "Channel Form Index (CFI): 2.1529731532136114\n"
     ]
    },
    {
     "name": "stderr",
     "output_type": "stream",
     "text": [
      "C:\\Users\\huckr\\AppData\\Local\\Temp\\ipykernel_33072\\578621774.py:838: UserWarning: Column names longer than 10 characters will be truncated when saved to ESRI Shapefile.\n",
      "  channel_belt_cross_sections.to_file(os.path.join(output_folder, 'channel_belt_cross_sections.shp'))\n"
     ]
    },
    {
     "name": "stdout",
     "output_type": "stream",
     "text": [
      "Sinuosity: 2.324342183882037\n",
      "Channel Count Index (CCI): 1.24\n",
      "Channel Form Index (CFI): 1.8744695031306748\n"
     ]
    },
    {
     "name": "stderr",
     "output_type": "stream",
     "text": [
      "C:\\Users\\huckr\\AppData\\Local\\Temp\\ipykernel_33072\\578621774.py:838: UserWarning: Column names longer than 10 characters will be truncated when saved to ESRI Shapefile.\n",
      "  channel_belt_cross_sections.to_file(os.path.join(output_folder, 'channel_belt_cross_sections.shp'))\n"
     ]
    },
    {
     "name": "stdout",
     "output_type": "stream",
     "text": [
      "Sinuosity: 2.380643572567306\n",
      "Channel Count Index (CCI): 1.18\n",
      "Channel Form Index (CFI): 2.0174945530231407\n"
     ]
    },
    {
     "name": "stderr",
     "output_type": "stream",
     "text": [
      "C:\\Users\\huckr\\AppData\\Local\\Temp\\ipykernel_33072\\578621774.py:838: UserWarning: Column names longer than 10 characters will be truncated when saved to ESRI Shapefile.\n",
      "  channel_belt_cross_sections.to_file(os.path.join(output_folder, 'channel_belt_cross_sections.shp'))\n"
     ]
    },
    {
     "name": "stdout",
     "output_type": "stream",
     "text": [
      "Sinuosity: 2.2780313715934124\n",
      "Channel Count Index (CCI): 1.2\n",
      "Channel Form Index (CFI): 1.8983594763278437\n"
     ]
    },
    {
     "name": "stderr",
     "output_type": "stream",
     "text": [
      "C:\\Users\\huckr\\AppData\\Local\\Temp\\ipykernel_33072\\578621774.py:838: UserWarning: Column names longer than 10 characters will be truncated when saved to ESRI Shapefile.\n",
      "  channel_belt_cross_sections.to_file(os.path.join(output_folder, 'channel_belt_cross_sections.shp'))\n"
     ]
    },
    {
     "name": "stdout",
     "output_type": "stream",
     "text": [
      "Sinuosity: 2.279511248518836\n",
      "Channel Count Index (CCI): 1.04\n",
      "Channel Form Index (CFI): 2.191837738960419\n"
     ]
    },
    {
     "name": "stderr",
     "output_type": "stream",
     "text": [
      "C:\\Users\\huckr\\AppData\\Local\\Temp\\ipykernel_33072\\578621774.py:838: UserWarning: Column names longer than 10 characters will be truncated when saved to ESRI Shapefile.\n",
      "  channel_belt_cross_sections.to_file(os.path.join(output_folder, 'channel_belt_cross_sections.shp'))\n"
     ]
    },
    {
     "name": "stdout",
     "output_type": "stream",
     "text": [
      "Sinuosity: 2.0305712872154085\n",
      "Channel Count Index (CCI): 1.04\n",
      "Channel Form Index (CFI): 1.9524723915532773\n"
     ]
    },
    {
     "name": "stderr",
     "output_type": "stream",
     "text": [
      "C:\\Users\\huckr\\AppData\\Local\\Temp\\ipykernel_33072\\578621774.py:838: UserWarning: Column names longer than 10 characters will be truncated when saved to ESRI Shapefile.\n",
      "  channel_belt_cross_sections.to_file(os.path.join(output_folder, 'channel_belt_cross_sections.shp'))\n"
     ]
    },
    {
     "name": "stdout",
     "output_type": "stream",
     "text": [
      "Sinuosity: 2.0206187320297397\n",
      "Channel Count Index (CCI): 1.04\n",
      "Channel Form Index (CFI): 1.9429026269516727\n"
     ]
    },
    {
     "name": "stderr",
     "output_type": "stream",
     "text": [
      "C:\\Users\\huckr\\AppData\\Local\\Temp\\ipykernel_33072\\578621774.py:838: UserWarning: Column names longer than 10 characters will be truncated when saved to ESRI Shapefile.\n",
      "  channel_belt_cross_sections.to_file(os.path.join(output_folder, 'channel_belt_cross_sections.shp'))\n"
     ]
    },
    {
     "name": "stdout",
     "output_type": "stream",
     "text": [
      "Sinuosity: 2.040494523446666\n",
      "Channel Count Index (CCI): 1.12\n",
      "Channel Form Index (CFI): 1.8218701102202373\n"
     ]
    },
    {
     "name": "stderr",
     "output_type": "stream",
     "text": [
      "C:\\Users\\huckr\\AppData\\Local\\Temp\\ipykernel_33072\\578621774.py:838: UserWarning: Column names longer than 10 characters will be truncated when saved to ESRI Shapefile.\n",
      "  channel_belt_cross_sections.to_file(os.path.join(output_folder, 'channel_belt_cross_sections.shp'))\n"
     ]
    },
    {
     "name": "stdout",
     "output_type": "stream",
     "text": [
      "Sinuosity: 1.9658722720107333\n",
      "Channel Count Index (CCI): 1.12\n",
      "Channel Form Index (CFI): 1.7552431000095832\n"
     ]
    },
    {
     "name": "stderr",
     "output_type": "stream",
     "text": [
      "C:\\Users\\huckr\\AppData\\Local\\Temp\\ipykernel_33072\\578621774.py:838: UserWarning: Column names longer than 10 characters will be truncated when saved to ESRI Shapefile.\n",
      "  channel_belt_cross_sections.to_file(os.path.join(output_folder, 'channel_belt_cross_sections.shp'))\n"
     ]
    },
    {
     "name": "stdout",
     "output_type": "stream",
     "text": [
      "Sinuosity: 1.9785865679796475\n",
      "Channel Count Index (CCI): 1.14\n",
      "Channel Form Index (CFI): 1.735602252613726\n"
     ]
    },
    {
     "name": "stderr",
     "output_type": "stream",
     "text": [
      "C:\\Users\\huckr\\AppData\\Local\\Temp\\ipykernel_33072\\578621774.py:838: UserWarning: Column names longer than 10 characters will be truncated when saved to ESRI Shapefile.\n",
      "  channel_belt_cross_sections.to_file(os.path.join(output_folder, 'channel_belt_cross_sections.shp'))\n"
     ]
    },
    {
     "name": "stdout",
     "output_type": "stream",
     "text": [
      "Sinuosity: 2.0367805351537474\n",
      "Channel Count Index (CCI): 1.08\n",
      "Channel Form Index (CFI): 1.8859079029201362\n"
     ]
    },
    {
     "name": "stderr",
     "output_type": "stream",
     "text": [
      "C:\\Users\\huckr\\AppData\\Local\\Temp\\ipykernel_33072\\578621774.py:838: UserWarning: Column names longer than 10 characters will be truncated when saved to ESRI Shapefile.\n",
      "  channel_belt_cross_sections.to_file(os.path.join(output_folder, 'channel_belt_cross_sections.shp'))\n"
     ]
    },
    {
     "name": "stdout",
     "output_type": "stream",
     "text": [
      "Sinuosity: 2.1156197281067994\n",
      "Channel Count Index (CCI): 1.06\n",
      "Channel Form Index (CFI): 1.9958676680252825\n"
     ]
    },
    {
     "name": "stderr",
     "output_type": "stream",
     "text": [
      "C:\\Users\\huckr\\AppData\\Local\\Temp\\ipykernel_33072\\578621774.py:838: UserWarning: Column names longer than 10 characters will be truncated when saved to ESRI Shapefile.\n",
      "  channel_belt_cross_sections.to_file(os.path.join(output_folder, 'channel_belt_cross_sections.shp'))\n"
     ]
    },
    {
     "name": "stdout",
     "output_type": "stream",
     "text": [
      "Sinuosity: 2.1469211284077163\n",
      "Channel Count Index (CCI): 1.04\n",
      "Channel Form Index (CFI): 2.0643472388535735\n"
     ]
    },
    {
     "name": "stderr",
     "output_type": "stream",
     "text": [
      "C:\\Users\\huckr\\AppData\\Local\\Temp\\ipykernel_33072\\578621774.py:838: UserWarning: Column names longer than 10 characters will be truncated when saved to ESRI Shapefile.\n",
      "  channel_belt_cross_sections.to_file(os.path.join(output_folder, 'channel_belt_cross_sections.shp'))\n"
     ]
    },
    {
     "name": "stdout",
     "output_type": "stream",
     "text": [
      "Sinuosity: 2.069616874185337\n",
      "Channel Count Index (CCI): 1.02\n",
      "Channel Form Index (CFI): 2.029036151162095\n"
     ]
    },
    {
     "name": "stderr",
     "output_type": "stream",
     "text": [
      "C:\\Users\\huckr\\AppData\\Local\\Temp\\ipykernel_33072\\578621774.py:838: UserWarning: Column names longer than 10 characters will be truncated when saved to ESRI Shapefile.\n",
      "  channel_belt_cross_sections.to_file(os.path.join(output_folder, 'channel_belt_cross_sections.shp'))\n"
     ]
    },
    {
     "name": "stdout",
     "output_type": "stream",
     "text": [
      "Sinuosity: 1.9499165942470709\n",
      "Channel Count Index (CCI): 1.12\n",
      "Channel Form Index (CFI): 1.7409969591491703\n"
     ]
    },
    {
     "name": "stderr",
     "output_type": "stream",
     "text": [
      "C:\\Users\\huckr\\AppData\\Local\\Temp\\ipykernel_33072\\578621774.py:838: UserWarning: Column names longer than 10 characters will be truncated when saved to ESRI Shapefile.\n",
      "  channel_belt_cross_sections.to_file(os.path.join(output_folder, 'channel_belt_cross_sections.shp'))\n"
     ]
    },
    {
     "name": "stdout",
     "output_type": "stream",
     "text": [
      "Sinuosity: 2.2574223912811897\n",
      "Channel Count Index (CCI): 1.1\n",
      "Channel Form Index (CFI): 2.0522021738919904\n"
     ]
    },
    {
     "name": "stderr",
     "output_type": "stream",
     "text": [
      "C:\\Users\\huckr\\AppData\\Local\\Temp\\ipykernel_33072\\578621774.py:838: UserWarning: Column names longer than 10 characters will be truncated when saved to ESRI Shapefile.\n",
      "  channel_belt_cross_sections.to_file(os.path.join(output_folder, 'channel_belt_cross_sections.shp'))\n"
     ]
    },
    {
     "name": "stdout",
     "output_type": "stream",
     "text": [
      "Sinuosity: 2.2110479888792063\n",
      "Channel Count Index (CCI): 1.16\n",
      "Channel Form Index (CFI): 1.9060758524820745\n"
     ]
    },
    {
     "name": "stderr",
     "output_type": "stream",
     "text": [
      "C:\\Users\\huckr\\AppData\\Local\\Temp\\ipykernel_33072\\578621774.py:838: UserWarning: Column names longer than 10 characters will be truncated when saved to ESRI Shapefile.\n",
      "  channel_belt_cross_sections.to_file(os.path.join(output_folder, 'channel_belt_cross_sections.shp'))\n"
     ]
    },
    {
     "name": "stdout",
     "output_type": "stream",
     "text": [
      "Sinuosity: 2.235338334373326\n",
      "Channel Count Index (CCI): 1.12\n",
      "Channel Form Index (CFI): 1.9958377985476123\n"
     ]
    },
    {
     "name": "stderr",
     "output_type": "stream",
     "text": [
      "C:\\Users\\huckr\\AppData\\Local\\Temp\\ipykernel_33072\\578621774.py:838: UserWarning: Column names longer than 10 characters will be truncated when saved to ESRI Shapefile.\n",
      "  channel_belt_cross_sections.to_file(os.path.join(output_folder, 'channel_belt_cross_sections.shp'))\n"
     ]
    },
    {
     "name": "stdout",
     "output_type": "stream",
     "text": [
      "Sinuosity: 2.180841431048703\n",
      "Channel Count Index (CCI): 1.14\n",
      "Channel Form Index (CFI): 1.9130187991655292\n"
     ]
    },
    {
     "name": "stderr",
     "output_type": "stream",
     "text": [
      "C:\\Users\\huckr\\AppData\\Local\\Temp\\ipykernel_33072\\578621774.py:838: UserWarning: Column names longer than 10 characters will be truncated when saved to ESRI Shapefile.\n",
      "  channel_belt_cross_sections.to_file(os.path.join(output_folder, 'channel_belt_cross_sections.shp'))\n"
     ]
    },
    {
     "name": "stdout",
     "output_type": "stream",
     "text": [
      "Sinuosity: 2.326550292909005\n",
      "Channel Count Index (CCI): 1.08\n",
      "Channel Form Index (CFI): 2.1542132341750047\n"
     ]
    },
    {
     "name": "stderr",
     "output_type": "stream",
     "text": [
      "C:\\Users\\huckr\\AppData\\Local\\Temp\\ipykernel_33072\\578621774.py:838: UserWarning: Column names longer than 10 characters will be truncated when saved to ESRI Shapefile.\n",
      "  channel_belt_cross_sections.to_file(os.path.join(output_folder, 'channel_belt_cross_sections.shp'))\n"
     ]
    },
    {
     "name": "stdout",
     "output_type": "stream",
     "text": [
      "Sinuosity: 2.2752717022294795\n",
      "Channel Count Index (CCI): 1.3\n",
      "Channel Form Index (CFI): 1.750209001714984\n"
     ]
    },
    {
     "name": "stderr",
     "output_type": "stream",
     "text": [
      "C:\\Users\\huckr\\AppData\\Local\\Temp\\ipykernel_33072\\578621774.py:838: UserWarning: Column names longer than 10 characters will be truncated when saved to ESRI Shapefile.\n",
      "  channel_belt_cross_sections.to_file(os.path.join(output_folder, 'channel_belt_cross_sections.shp'))\n"
     ]
    },
    {
     "name": "stdout",
     "output_type": "stream",
     "text": [
      "Sinuosity: 2.2445186635977414\n",
      "Channel Count Index (CCI): 1.1\n",
      "Channel Form Index (CFI): 2.040471512361583\n"
     ]
    },
    {
     "name": "stderr",
     "output_type": "stream",
     "text": [
      "C:\\Users\\huckr\\AppData\\Local\\Temp\\ipykernel_33072\\578621774.py:838: UserWarning: Column names longer than 10 characters will be truncated when saved to ESRI Shapefile.\n",
      "  channel_belt_cross_sections.to_file(os.path.join(output_folder, 'channel_belt_cross_sections.shp'))\n"
     ]
    },
    {
     "name": "stdout",
     "output_type": "stream",
     "text": [
      "Sinuosity: 2.2979402232153197\n",
      "Channel Count Index (CCI): 1.26\n",
      "Channel Form Index (CFI): 1.8237620819169202\n"
     ]
    },
    {
     "name": "stderr",
     "output_type": "stream",
     "text": [
      "C:\\Users\\huckr\\AppData\\Local\\Temp\\ipykernel_33072\\578621774.py:838: UserWarning: Column names longer than 10 characters will be truncated when saved to ESRI Shapefile.\n",
      "  channel_belt_cross_sections.to_file(os.path.join(output_folder, 'channel_belt_cross_sections.shp'))\n"
     ]
    },
    {
     "name": "stdout",
     "output_type": "stream",
     "text": [
      "Sinuosity: 2.258055477156935\n",
      "Channel Count Index (CCI): 1.24\n",
      "Channel Form Index (CFI): 1.8210124815781734\n"
     ]
    },
    {
     "name": "stderr",
     "output_type": "stream",
     "text": [
      "C:\\Users\\huckr\\AppData\\Local\\Temp\\ipykernel_33072\\578621774.py:838: UserWarning: Column names longer than 10 characters will be truncated when saved to ESRI Shapefile.\n",
      "  channel_belt_cross_sections.to_file(os.path.join(output_folder, 'channel_belt_cross_sections.shp'))\n"
     ]
    },
    {
     "name": "stdout",
     "output_type": "stream",
     "text": [
      "Sinuosity: 2.179896992958706\n",
      "Channel Count Index (CCI): 1.08\n",
      "Channel Form Index (CFI): 2.0184231416284315\n"
     ]
    },
    {
     "name": "stderr",
     "output_type": "stream",
     "text": [
      "C:\\Users\\huckr\\AppData\\Local\\Temp\\ipykernel_33072\\578621774.py:838: UserWarning: Column names longer than 10 characters will be truncated when saved to ESRI Shapefile.\n",
      "  channel_belt_cross_sections.to_file(os.path.join(output_folder, 'channel_belt_cross_sections.shp'))\n"
     ]
    },
    {
     "name": "stdout",
     "output_type": "stream",
     "text": [
      "Sinuosity: 2.2229752081144554\n",
      "Channel Count Index (CCI): 1.14\n",
      "Channel Form Index (CFI): 1.9499782527319787\n"
     ]
    },
    {
     "name": "stderr",
     "output_type": "stream",
     "text": [
      "C:\\Users\\huckr\\AppData\\Local\\Temp\\ipykernel_33072\\578621774.py:838: UserWarning: Column names longer than 10 characters will be truncated when saved to ESRI Shapefile.\n",
      "  channel_belt_cross_sections.to_file(os.path.join(output_folder, 'channel_belt_cross_sections.shp'))\n"
     ]
    },
    {
     "name": "stdout",
     "output_type": "stream",
     "text": [
      "Sinuosity: 2.245805308398938\n",
      "Channel Count Index (CCI): 1.16\n",
      "Channel Form Index (CFI): 1.936039058964602\n"
     ]
    },
    {
     "name": "stderr",
     "output_type": "stream",
     "text": [
      "C:\\Users\\huckr\\AppData\\Local\\Temp\\ipykernel_33072\\578621774.py:838: UserWarning: Column names longer than 10 characters will be truncated when saved to ESRI Shapefile.\n",
      "  channel_belt_cross_sections.to_file(os.path.join(output_folder, 'channel_belt_cross_sections.shp'))\n"
     ]
    },
    {
     "name": "stdout",
     "output_type": "stream",
     "text": [
      "Sinuosity: 2.19081580054005\n",
      "Channel Count Index (CCI): 1.1\n",
      "Channel Form Index (CFI): 1.9916507277636817\n"
     ]
    },
    {
     "name": "stderr",
     "output_type": "stream",
     "text": [
      "C:\\Users\\huckr\\AppData\\Local\\Temp\\ipykernel_33072\\578621774.py:838: UserWarning: Column names longer than 10 characters will be truncated when saved to ESRI Shapefile.\n",
      "  channel_belt_cross_sections.to_file(os.path.join(output_folder, 'channel_belt_cross_sections.shp'))\n"
     ]
    },
    {
     "name": "stdout",
     "output_type": "stream",
     "text": [
      "Sinuosity: 2.350369934596924\n",
      "Channel Count Index (CCI): 1.06\n",
      "Channel Form Index (CFI): 2.21733012697823\n"
     ]
    },
    {
     "name": "stderr",
     "output_type": "stream",
     "text": [
      "C:\\Users\\huckr\\AppData\\Local\\Temp\\ipykernel_33072\\578621774.py:838: UserWarning: Column names longer than 10 characters will be truncated when saved to ESRI Shapefile.\n",
      "  channel_belt_cross_sections.to_file(os.path.join(output_folder, 'channel_belt_cross_sections.shp'))\n"
     ]
    },
    {
     "name": "stdout",
     "output_type": "stream",
     "text": [
      "Sinuosity: 2.159209712944971\n",
      "Channel Count Index (CCI): 1.24\n",
      "Channel Form Index (CFI): 1.7412981556007832\n"
     ]
    },
    {
     "name": "stderr",
     "output_type": "stream",
     "text": [
      "C:\\Users\\huckr\\AppData\\Local\\Temp\\ipykernel_33072\\578621774.py:838: UserWarning: Column names longer than 10 characters will be truncated when saved to ESRI Shapefile.\n",
      "  channel_belt_cross_sections.to_file(os.path.join(output_folder, 'channel_belt_cross_sections.shp'))\n"
     ]
    },
    {
     "name": "stdout",
     "output_type": "stream",
     "text": [
      "Sinuosity: 2.1703376508581353\n",
      "Channel Count Index (CCI): 1.1\n",
      "Channel Form Index (CFI): 1.9730342280528501\n"
     ]
    },
    {
     "name": "stderr",
     "output_type": "stream",
     "text": [
      "C:\\Users\\huckr\\AppData\\Local\\Temp\\ipykernel_33072\\578621774.py:838: UserWarning: Column names longer than 10 characters will be truncated when saved to ESRI Shapefile.\n",
      "  channel_belt_cross_sections.to_file(os.path.join(output_folder, 'channel_belt_cross_sections.shp'))\n"
     ]
    },
    {
     "name": "stdout",
     "output_type": "stream",
     "text": [
      "Sinuosity: 2.2084763866866313\n",
      "Channel Count Index (CCI): 1.14\n",
      "Channel Form Index (CFI): 1.9372599883216066\n"
     ]
    },
    {
     "name": "stderr",
     "output_type": "stream",
     "text": [
      "C:\\Users\\huckr\\AppData\\Local\\Temp\\ipykernel_33072\\578621774.py:838: UserWarning: Column names longer than 10 characters will be truncated when saved to ESRI Shapefile.\n",
      "  channel_belt_cross_sections.to_file(os.path.join(output_folder, 'channel_belt_cross_sections.shp'))\n"
     ]
    },
    {
     "name": "stdout",
     "output_type": "stream",
     "text": [
      "Sinuosity: 2.234447230443864\n",
      "Channel Count Index (CCI): 1.16\n",
      "Channel Form Index (CFI): 1.9262476124516068\n"
     ]
    },
    {
     "name": "stderr",
     "output_type": "stream",
     "text": [
      "C:\\Users\\huckr\\AppData\\Local\\Temp\\ipykernel_33072\\578621774.py:838: UserWarning: Column names longer than 10 characters will be truncated when saved to ESRI Shapefile.\n",
      "  channel_belt_cross_sections.to_file(os.path.join(output_folder, 'channel_belt_cross_sections.shp'))\n"
     ]
    },
    {
     "name": "stdout",
     "output_type": "stream",
     "text": [
      "Sinuosity: 2.2236207353676027\n",
      "Channel Count Index (CCI): 1.14\n",
      "Channel Form Index (CFI): 1.9505445047084236\n"
     ]
    },
    {
     "name": "stderr",
     "output_type": "stream",
     "text": [
      "C:\\Users\\huckr\\AppData\\Local\\Temp\\ipykernel_33072\\578621774.py:838: UserWarning: Column names longer than 10 characters will be truncated when saved to ESRI Shapefile.\n",
      "  channel_belt_cross_sections.to_file(os.path.join(output_folder, 'channel_belt_cross_sections.shp'))\n"
     ]
    },
    {
     "name": "stdout",
     "output_type": "stream",
     "text": [
      "Sinuosity: 2.3062861796386556\n",
      "Channel Count Index (CCI): 1.12\n",
      "Channel Form Index (CFI): 2.059184088963085\n"
     ]
    },
    {
     "name": "stderr",
     "output_type": "stream",
     "text": [
      "C:\\Users\\huckr\\AppData\\Local\\Temp\\ipykernel_33072\\578621774.py:838: UserWarning: Column names longer than 10 characters will be truncated when saved to ESRI Shapefile.\n",
      "  channel_belt_cross_sections.to_file(os.path.join(output_folder, 'channel_belt_cross_sections.shp'))\n"
     ]
    },
    {
     "name": "stdout",
     "output_type": "stream",
     "text": [
      "Sinuosity: 2.295975141119083\n",
      "Channel Count Index (CCI): 1.12\n",
      "Channel Form Index (CFI): 2.0499778045706094\n"
     ]
    },
    {
     "name": "stderr",
     "output_type": "stream",
     "text": [
      "C:\\Users\\huckr\\AppData\\Local\\Temp\\ipykernel_33072\\578621774.py:838: UserWarning: Column names longer than 10 characters will be truncated when saved to ESRI Shapefile.\n",
      "  channel_belt_cross_sections.to_file(os.path.join(output_folder, 'channel_belt_cross_sections.shp'))\n"
     ]
    },
    {
     "name": "stdout",
     "output_type": "stream",
     "text": [
      "Sinuosity: 2.4105151079812246\n",
      "Channel Count Index (CCI): 1.1\n",
      "Channel Form Index (CFI): 2.191377370892022\n"
     ]
    },
    {
     "name": "stderr",
     "output_type": "stream",
     "text": [
      "C:\\Users\\huckr\\AppData\\Local\\Temp\\ipykernel_33072\\578621774.py:838: UserWarning: Column names longer than 10 characters will be truncated when saved to ESRI Shapefile.\n",
      "  channel_belt_cross_sections.to_file(os.path.join(output_folder, 'channel_belt_cross_sections.shp'))\n"
     ]
    },
    {
     "name": "stdout",
     "output_type": "stream",
     "text": [
      "Sinuosity: 2.437067764827658\n",
      "Channel Count Index (CCI): 1.14\n",
      "Channel Form Index (CFI): 2.137778741076893\n"
     ]
    },
    {
     "name": "stderr",
     "output_type": "stream",
     "text": [
      "C:\\Users\\huckr\\AppData\\Local\\Temp\\ipykernel_33072\\578621774.py:838: UserWarning: Column names longer than 10 characters will be truncated when saved to ESRI Shapefile.\n",
      "  channel_belt_cross_sections.to_file(os.path.join(output_folder, 'channel_belt_cross_sections.shp'))\n"
     ]
    },
    {
     "name": "stdout",
     "output_type": "stream",
     "text": [
      "Sinuosity: 2.3286539145244123\n",
      "Channel Count Index (CCI): 1.08\n",
      "Channel Form Index (CFI): 2.156161031967048\n"
     ]
    },
    {
     "name": "stderr",
     "output_type": "stream",
     "text": [
      "C:\\Users\\huckr\\AppData\\Local\\Temp\\ipykernel_33072\\578621774.py:838: UserWarning: Column names longer than 10 characters will be truncated when saved to ESRI Shapefile.\n",
      "  channel_belt_cross_sections.to_file(os.path.join(output_folder, 'channel_belt_cross_sections.shp'))\n"
     ]
    },
    {
     "name": "stdout",
     "output_type": "stream",
     "text": [
      "Sinuosity: 2.3474452435695325\n",
      "Channel Count Index (CCI): 1.02\n",
      "Channel Form Index (CFI): 2.301416905460326\n"
     ]
    },
    {
     "name": "stderr",
     "output_type": "stream",
     "text": [
      "C:\\Users\\huckr\\AppData\\Local\\Temp\\ipykernel_33072\\578621774.py:838: UserWarning: Column names longer than 10 characters will be truncated when saved to ESRI Shapefile.\n",
      "  channel_belt_cross_sections.to_file(os.path.join(output_folder, 'channel_belt_cross_sections.shp'))\n"
     ]
    },
    {
     "name": "stdout",
     "output_type": "stream",
     "text": [
      "Sinuosity: 2.265084708655278\n",
      "Channel Count Index (CCI): 1.04\n",
      "Channel Form Index (CFI): 2.1779660660146902\n"
     ]
    },
    {
     "name": "stderr",
     "output_type": "stream",
     "text": [
      "C:\\Users\\huckr\\AppData\\Local\\Temp\\ipykernel_33072\\578621774.py:838: UserWarning: Column names longer than 10 characters will be truncated when saved to ESRI Shapefile.\n",
      "  channel_belt_cross_sections.to_file(os.path.join(output_folder, 'channel_belt_cross_sections.shp'))\n"
     ]
    },
    {
     "name": "stdout",
     "output_type": "stream",
     "text": [
      "Sinuosity: 2.232015266386569\n",
      "Channel Count Index (CCI): 1.06\n",
      "Channel Form Index (CFI): 2.1056747796099704\n"
     ]
    },
    {
     "name": "stderr",
     "output_type": "stream",
     "text": [
      "C:\\Users\\huckr\\AppData\\Local\\Temp\\ipykernel_33072\\578621774.py:838: UserWarning: Column names longer than 10 characters will be truncated when saved to ESRI Shapefile.\n",
      "  channel_belt_cross_sections.to_file(os.path.join(output_folder, 'channel_belt_cross_sections.shp'))\n"
     ]
    },
    {
     "name": "stdout",
     "output_type": "stream",
     "text": [
      "Sinuosity: 2.2302569019036116\n",
      "Channel Count Index (CCI): 1.1\n",
      "Channel Form Index (CFI): 2.0275062744578287\n"
     ]
    },
    {
     "name": "stderr",
     "output_type": "stream",
     "text": [
      "C:\\Users\\huckr\\AppData\\Local\\Temp\\ipykernel_33072\\578621774.py:838: UserWarning: Column names longer than 10 characters will be truncated when saved to ESRI Shapefile.\n",
      "  channel_belt_cross_sections.to_file(os.path.join(output_folder, 'channel_belt_cross_sections.shp'))\n"
     ]
    },
    {
     "name": "stdout",
     "output_type": "stream",
     "text": [
      "Sinuosity: 2.0215542943720126\n",
      "Channel Count Index (CCI): 1.24\n",
      "Channel Form Index (CFI): 1.6302857212677522\n"
     ]
    },
    {
     "name": "stderr",
     "output_type": "stream",
     "text": [
      "C:\\Users\\huckr\\AppData\\Local\\Temp\\ipykernel_33072\\578621774.py:838: UserWarning: Column names longer than 10 characters will be truncated when saved to ESRI Shapefile.\n",
      "  channel_belt_cross_sections.to_file(os.path.join(output_folder, 'channel_belt_cross_sections.shp'))\n"
     ]
    },
    {
     "name": "stdout",
     "output_type": "stream",
     "text": [
      "Sinuosity: 2.0600581169432894\n",
      "Channel Count Index (CCI): 1.06\n",
      "Channel Form Index (CFI): 1.9434510537200842\n"
     ]
    },
    {
     "name": "stderr",
     "output_type": "stream",
     "text": [
      "C:\\Users\\huckr\\AppData\\Local\\Temp\\ipykernel_33072\\578621774.py:838: UserWarning: Column names longer than 10 characters will be truncated when saved to ESRI Shapefile.\n",
      "  channel_belt_cross_sections.to_file(os.path.join(output_folder, 'channel_belt_cross_sections.shp'))\n"
     ]
    },
    {
     "name": "stdout",
     "output_type": "stream",
     "text": [
      "Sinuosity: 2.1137377289944497\n",
      "Channel Count Index (CCI): 1.04\n",
      "Channel Form Index (CFI): 2.0324401240331245\n"
     ]
    },
    {
     "name": "stderr",
     "output_type": "stream",
     "text": [
      "C:\\Users\\huckr\\AppData\\Local\\Temp\\ipykernel_33072\\578621774.py:838: UserWarning: Column names longer than 10 characters will be truncated when saved to ESRI Shapefile.\n",
      "  channel_belt_cross_sections.to_file(os.path.join(output_folder, 'channel_belt_cross_sections.shp'))\n"
     ]
    },
    {
     "name": "stdout",
     "output_type": "stream",
     "text": [
      "Sinuosity: 2.2140007408371214\n",
      "Channel Count Index (CCI): 1.04\n",
      "Channel Form Index (CFI): 2.12884686618954\n"
     ]
    },
    {
     "name": "stderr",
     "output_type": "stream",
     "text": [
      "C:\\Users\\huckr\\AppData\\Local\\Temp\\ipykernel_33072\\578621774.py:838: UserWarning: Column names longer than 10 characters will be truncated when saved to ESRI Shapefile.\n",
      "  channel_belt_cross_sections.to_file(os.path.join(output_folder, 'channel_belt_cross_sections.shp'))\n"
     ]
    },
    {
     "name": "stdout",
     "output_type": "stream",
     "text": [
      "Sinuosity: 2.1331507603501505\n",
      "Channel Count Index (CCI): 1.12\n",
      "Channel Form Index (CFI): 1.904598893169777\n"
     ]
    },
    {
     "name": "stderr",
     "output_type": "stream",
     "text": [
      "C:\\Users\\huckr\\AppData\\Local\\Temp\\ipykernel_33072\\578621774.py:838: UserWarning: Column names longer than 10 characters will be truncated when saved to ESRI Shapefile.\n",
      "  channel_belt_cross_sections.to_file(os.path.join(output_folder, 'channel_belt_cross_sections.shp'))\n"
     ]
    },
    {
     "name": "stdout",
     "output_type": "stream",
     "text": [
      "Sinuosity: 2.2223653739607445\n",
      "Channel Count Index (CCI): 1.06\n",
      "Channel Form Index (CFI): 2.0965711075101363\n"
     ]
    },
    {
     "name": "stderr",
     "output_type": "stream",
     "text": [
      "C:\\Users\\huckr\\AppData\\Local\\Temp\\ipykernel_33072\\578621774.py:838: UserWarning: Column names longer than 10 characters will be truncated when saved to ESRI Shapefile.\n",
      "  channel_belt_cross_sections.to_file(os.path.join(output_folder, 'channel_belt_cross_sections.shp'))\n"
     ]
    },
    {
     "name": "stdout",
     "output_type": "stream",
     "text": [
      "Sinuosity: 2.05042246952498\n",
      "Channel Count Index (CCI): 1.16\n",
      "Channel Form Index (CFI): 1.767605577176707\n"
     ]
    },
    {
     "name": "stderr",
     "output_type": "stream",
     "text": [
      "C:\\Users\\huckr\\AppData\\Local\\Temp\\ipykernel_33072\\578621774.py:838: UserWarning: Column names longer than 10 characters will be truncated when saved to ESRI Shapefile.\n",
      "  channel_belt_cross_sections.to_file(os.path.join(output_folder, 'channel_belt_cross_sections.shp'))\n"
     ]
    },
    {
     "name": "stdout",
     "output_type": "stream",
     "text": [
      "Sinuosity: 2.1149084389730315\n",
      "Channel Count Index (CCI): 1.08\n",
      "Channel Form Index (CFI): 1.9582485546046586\n"
     ]
    },
    {
     "name": "stderr",
     "output_type": "stream",
     "text": [
      "C:\\Users\\huckr\\AppData\\Local\\Temp\\ipykernel_33072\\578621774.py:838: UserWarning: Column names longer than 10 characters will be truncated when saved to ESRI Shapefile.\n",
      "  channel_belt_cross_sections.to_file(os.path.join(output_folder, 'channel_belt_cross_sections.shp'))\n"
     ]
    },
    {
     "name": "stdout",
     "output_type": "stream",
     "text": [
      "Sinuosity: 2.1923012413955605\n",
      "Channel Count Index (CCI): 1.08\n",
      "Channel Form Index (CFI): 2.029908556847741\n"
     ]
    },
    {
     "name": "stderr",
     "output_type": "stream",
     "text": [
      "C:\\Users\\huckr\\AppData\\Local\\Temp\\ipykernel_33072\\578621774.py:838: UserWarning: Column names longer than 10 characters will be truncated when saved to ESRI Shapefile.\n",
      "  channel_belt_cross_sections.to_file(os.path.join(output_folder, 'channel_belt_cross_sections.shp'))\n"
     ]
    },
    {
     "name": "stdout",
     "output_type": "stream",
     "text": [
      "Sinuosity: 2.1188853792214335\n",
      "Channel Count Index (CCI): 1.02\n",
      "Channel Form Index (CFI): 2.0773386070798368\n"
     ]
    },
    {
     "name": "stderr",
     "output_type": "stream",
     "text": [
      "C:\\Users\\huckr\\AppData\\Local\\Temp\\ipykernel_33072\\578621774.py:838: UserWarning: Column names longer than 10 characters will be truncated when saved to ESRI Shapefile.\n",
      "  channel_belt_cross_sections.to_file(os.path.join(output_folder, 'channel_belt_cross_sections.shp'))\n"
     ]
    },
    {
     "name": "stdout",
     "output_type": "stream",
     "text": [
      "Sinuosity: 2.017607477656956\n",
      "Channel Count Index (CCI): 1.04\n",
      "Channel Form Index (CFI): 1.9400071900547655\n"
     ]
    },
    {
     "name": "stderr",
     "output_type": "stream",
     "text": [
      "C:\\Users\\huckr\\AppData\\Local\\Temp\\ipykernel_33072\\578621774.py:838: UserWarning: Column names longer than 10 characters will be truncated when saved to ESRI Shapefile.\n",
      "  channel_belt_cross_sections.to_file(os.path.join(output_folder, 'channel_belt_cross_sections.shp'))\n"
     ]
    },
    {
     "name": "stdout",
     "output_type": "stream",
     "text": [
      "Sinuosity: 2.0544386854866\n",
      "Channel Count Index (CCI): 1.08\n",
      "Channel Form Index (CFI): 1.9022580421172222\n"
     ]
    },
    {
     "name": "stderr",
     "output_type": "stream",
     "text": [
      "C:\\Users\\huckr\\AppData\\Local\\Temp\\ipykernel_33072\\578621774.py:838: UserWarning: Column names longer than 10 characters will be truncated when saved to ESRI Shapefile.\n",
      "  channel_belt_cross_sections.to_file(os.path.join(output_folder, 'channel_belt_cross_sections.shp'))\n"
     ]
    },
    {
     "name": "stdout",
     "output_type": "stream",
     "text": [
      "Sinuosity: 2.0735058106334776\n",
      "Channel Count Index (CCI): 1.24\n",
      "Channel Form Index (CFI): 1.6721821053495787\n"
     ]
    },
    {
     "name": "stderr",
     "output_type": "stream",
     "text": [
      "C:\\Users\\huckr\\AppData\\Local\\Temp\\ipykernel_33072\\578621774.py:838: UserWarning: Column names longer than 10 characters will be truncated when saved to ESRI Shapefile.\n",
      "  channel_belt_cross_sections.to_file(os.path.join(output_folder, 'channel_belt_cross_sections.shp'))\n"
     ]
    },
    {
     "name": "stdout",
     "output_type": "stream",
     "text": [
      "Sinuosity: 2.0409945156351714\n",
      "Channel Count Index (CCI): 1.24\n",
      "Channel Form Index (CFI): 1.6459633190606222\n"
     ]
    },
    {
     "name": "stderr",
     "output_type": "stream",
     "text": [
      "C:\\Users\\huckr\\AppData\\Local\\Temp\\ipykernel_33072\\578621774.py:838: UserWarning: Column names longer than 10 characters will be truncated when saved to ESRI Shapefile.\n",
      "  channel_belt_cross_sections.to_file(os.path.join(output_folder, 'channel_belt_cross_sections.shp'))\n"
     ]
    },
    {
     "name": "stdout",
     "output_type": "stream",
     "text": [
      "Sinuosity: 2.0254135276714136\n",
      "Channel Count Index (CCI): 1.24\n",
      "Channel Form Index (CFI): 1.6333980061866238\n"
     ]
    },
    {
     "name": "stderr",
     "output_type": "stream",
     "text": [
      "C:\\Users\\huckr\\AppData\\Local\\Temp\\ipykernel_33072\\578621774.py:838: UserWarning: Column names longer than 10 characters will be truncated when saved to ESRI Shapefile.\n",
      "  channel_belt_cross_sections.to_file(os.path.join(output_folder, 'channel_belt_cross_sections.shp'))\n"
     ]
    },
    {
     "name": "stdout",
     "output_type": "stream",
     "text": [
      "Sinuosity: 1.992747869070895\n",
      "Channel Count Index (CCI): 1.16\n",
      "Channel Form Index (CFI): 1.7178860940266338\n"
     ]
    },
    {
     "name": "stderr",
     "output_type": "stream",
     "text": [
      "C:\\Users\\huckr\\AppData\\Local\\Temp\\ipykernel_33072\\578621774.py:838: UserWarning: Column names longer than 10 characters will be truncated when saved to ESRI Shapefile.\n",
      "  channel_belt_cross_sections.to_file(os.path.join(output_folder, 'channel_belt_cross_sections.shp'))\n"
     ]
    },
    {
     "name": "stdout",
     "output_type": "stream",
     "text": [
      "Sinuosity: 2.089827803883303\n",
      "Channel Count Index (CCI): 1.18\n",
      "Channel Form Index (CFI): 1.7710405117655112\n"
     ]
    },
    {
     "name": "stderr",
     "output_type": "stream",
     "text": [
      "C:\\Users\\huckr\\AppData\\Local\\Temp\\ipykernel_33072\\578621774.py:838: UserWarning: Column names longer than 10 characters will be truncated when saved to ESRI Shapefile.\n",
      "  channel_belt_cross_sections.to_file(os.path.join(output_folder, 'channel_belt_cross_sections.shp'))\n"
     ]
    },
    {
     "name": "stdout",
     "output_type": "stream",
     "text": [
      "Sinuosity: 2.0647794230430234\n",
      "Channel Count Index (CCI): 1.28\n",
      "Channel Form Index (CFI): 1.613108924252362\n"
     ]
    },
    {
     "name": "stderr",
     "output_type": "stream",
     "text": [
      "C:\\Users\\huckr\\AppData\\Local\\Temp\\ipykernel_33072\\578621774.py:838: UserWarning: Column names longer than 10 characters will be truncated when saved to ESRI Shapefile.\n",
      "  channel_belt_cross_sections.to_file(os.path.join(output_folder, 'channel_belt_cross_sections.shp'))\n"
     ]
    },
    {
     "name": "stdout",
     "output_type": "stream",
     "text": [
      "Sinuosity: 2.036667799955372\n",
      "Channel Count Index (CCI): 1.12\n",
      "Channel Form Index (CFI): 1.8184533928172963\n"
     ]
    },
    {
     "name": "stderr",
     "output_type": "stream",
     "text": [
      "C:\\Users\\huckr\\AppData\\Local\\Temp\\ipykernel_33072\\578621774.py:838: UserWarning: Column names longer than 10 characters will be truncated when saved to ESRI Shapefile.\n",
      "  channel_belt_cross_sections.to_file(os.path.join(output_folder, 'channel_belt_cross_sections.shp'))\n"
     ]
    },
    {
     "name": "stdout",
     "output_type": "stream",
     "text": [
      "Sinuosity: 2.0571831911565983\n",
      "Channel Count Index (CCI): 1.28\n",
      "Channel Form Index (CFI): 1.6071743680910924\n"
     ]
    },
    {
     "name": "stderr",
     "output_type": "stream",
     "text": [
      "C:\\Users\\huckr\\AppData\\Local\\Temp\\ipykernel_33072\\578621774.py:838: UserWarning: Column names longer than 10 characters will be truncated when saved to ESRI Shapefile.\n",
      "  channel_belt_cross_sections.to_file(os.path.join(output_folder, 'channel_belt_cross_sections.shp'))\n"
     ]
    },
    {
     "name": "stdout",
     "output_type": "stream",
     "text": [
      "Sinuosity: 2.044852092898807\n",
      "Channel Count Index (CCI): 1.2\n",
      "Channel Form Index (CFI): 1.704043410749006\n"
     ]
    },
    {
     "name": "stderr",
     "output_type": "stream",
     "text": [
      "C:\\Users\\huckr\\AppData\\Local\\Temp\\ipykernel_33072\\578621774.py:838: UserWarning: Column names longer than 10 characters will be truncated when saved to ESRI Shapefile.\n",
      "  channel_belt_cross_sections.to_file(os.path.join(output_folder, 'channel_belt_cross_sections.shp'))\n"
     ]
    },
    {
     "name": "stdout",
     "output_type": "stream",
     "text": [
      "Sinuosity: 2.1417388813464115\n",
      "Channel Count Index (CCI): 1.18\n",
      "Channel Form Index (CFI): 1.8150329502935691\n"
     ]
    },
    {
     "name": "stderr",
     "output_type": "stream",
     "text": [
      "C:\\Users\\huckr\\AppData\\Local\\Temp\\ipykernel_33072\\578621774.py:838: UserWarning: Column names longer than 10 characters will be truncated when saved to ESRI Shapefile.\n",
      "  channel_belt_cross_sections.to_file(os.path.join(output_folder, 'channel_belt_cross_sections.shp'))\n"
     ]
    },
    {
     "name": "stdout",
     "output_type": "stream",
     "text": [
      "Sinuosity: 2.1872792453812235\n",
      "Channel Count Index (CCI): 1.1\n",
      "Channel Form Index (CFI): 1.988435677619294\n"
     ]
    },
    {
     "name": "stderr",
     "output_type": "stream",
     "text": [
      "C:\\Users\\huckr\\AppData\\Local\\Temp\\ipykernel_33072\\578621774.py:838: UserWarning: Column names longer than 10 characters will be truncated when saved to ESRI Shapefile.\n",
      "  channel_belt_cross_sections.to_file(os.path.join(output_folder, 'channel_belt_cross_sections.shp'))\n"
     ]
    },
    {
     "name": "stdout",
     "output_type": "stream",
     "text": [
      "Sinuosity: 2.212725292397156\n",
      "Channel Count Index (CCI): 1.18\n",
      "Channel Form Index (CFI): 1.8751909257603019\n"
     ]
    },
    {
     "name": "stderr",
     "output_type": "stream",
     "text": [
      "C:\\Users\\huckr\\AppData\\Local\\Temp\\ipykernel_33072\\578621774.py:838: UserWarning: Column names longer than 10 characters will be truncated when saved to ESRI Shapefile.\n",
      "  channel_belt_cross_sections.to_file(os.path.join(output_folder, 'channel_belt_cross_sections.shp'))\n"
     ]
    },
    {
     "name": "stdout",
     "output_type": "stream",
     "text": [
      "Sinuosity: 2.132173104593565\n",
      "Channel Count Index (CCI): 1.16\n",
      "Channel Form Index (CFI): 1.8380802625806594\n"
     ]
    },
    {
     "name": "stderr",
     "output_type": "stream",
     "text": [
      "C:\\Users\\huckr\\AppData\\Local\\Temp\\ipykernel_33072\\578621774.py:838: UserWarning: Column names longer than 10 characters will be truncated when saved to ESRI Shapefile.\n",
      "  channel_belt_cross_sections.to_file(os.path.join(output_folder, 'channel_belt_cross_sections.shp'))\n"
     ]
    },
    {
     "name": "stdout",
     "output_type": "stream",
     "text": [
      "Sinuosity: 2.155353813343022\n",
      "Channel Count Index (CCI): 1.22\n",
      "Channel Form Index (CFI): 1.7666834535598543\n"
     ]
    },
    {
     "name": "stderr",
     "output_type": "stream",
     "text": [
      "C:\\Users\\huckr\\AppData\\Local\\Temp\\ipykernel_33072\\578621774.py:838: UserWarning: Column names longer than 10 characters will be truncated when saved to ESRI Shapefile.\n",
      "  channel_belt_cross_sections.to_file(os.path.join(output_folder, 'channel_belt_cross_sections.shp'))\n"
     ]
    },
    {
     "name": "stdout",
     "output_type": "stream",
     "text": [
      "Sinuosity: 2.178180777325536\n",
      "Channel Count Index (CCI): 1.2\n",
      "Channel Form Index (CFI): 1.8151506477712802\n"
     ]
    },
    {
     "name": "stderr",
     "output_type": "stream",
     "text": [
      "C:\\Users\\huckr\\AppData\\Local\\Temp\\ipykernel_33072\\578621774.py:838: UserWarning: Column names longer than 10 characters will be truncated when saved to ESRI Shapefile.\n",
      "  channel_belt_cross_sections.to_file(os.path.join(output_folder, 'channel_belt_cross_sections.shp'))\n"
     ]
    },
    {
     "name": "stdout",
     "output_type": "stream",
     "text": [
      "Sinuosity: 2.1790924851526343\n",
      "Channel Count Index (CCI): 1.14\n",
      "Channel Form Index (CFI): 1.9114846360988023\n"
     ]
    },
    {
     "name": "stderr",
     "output_type": "stream",
     "text": [
      "C:\\Users\\huckr\\AppData\\Local\\Temp\\ipykernel_33072\\578621774.py:838: UserWarning: Column names longer than 10 characters will be truncated when saved to ESRI Shapefile.\n",
      "  channel_belt_cross_sections.to_file(os.path.join(output_folder, 'channel_belt_cross_sections.shp'))\n"
     ]
    },
    {
     "name": "stdout",
     "output_type": "stream",
     "text": [
      "Sinuosity: 2.2093383616582747\n",
      "Channel Count Index (CCI): 1.1\n",
      "Channel Form Index (CFI): 2.0084894196893406\n"
     ]
    },
    {
     "name": "stderr",
     "output_type": "stream",
     "text": [
      "C:\\Users\\huckr\\AppData\\Local\\Temp\\ipykernel_33072\\578621774.py:838: UserWarning: Column names longer than 10 characters will be truncated when saved to ESRI Shapefile.\n",
      "  channel_belt_cross_sections.to_file(os.path.join(output_folder, 'channel_belt_cross_sections.shp'))\n"
     ]
    },
    {
     "name": "stdout",
     "output_type": "stream",
     "text": [
      "Sinuosity: 2.240801174823345\n",
      "Channel Count Index (CCI): 1.12\n",
      "Channel Form Index (CFI): 2.0007153346637008\n"
     ]
    },
    {
     "name": "stderr",
     "output_type": "stream",
     "text": [
      "C:\\Users\\huckr\\AppData\\Local\\Temp\\ipykernel_33072\\578621774.py:838: UserWarning: Column names longer than 10 characters will be truncated when saved to ESRI Shapefile.\n",
      "  channel_belt_cross_sections.to_file(os.path.join(output_folder, 'channel_belt_cross_sections.shp'))\n"
     ]
    },
    {
     "name": "stdout",
     "output_type": "stream",
     "text": [
      "Sinuosity: 2.22041876131429\n",
      "Channel Count Index (CCI): 1.24\n",
      "Channel Form Index (CFI): 1.7906602913824918\n"
     ]
    },
    {
     "name": "stderr",
     "output_type": "stream",
     "text": [
      "C:\\Users\\huckr\\AppData\\Local\\Temp\\ipykernel_33072\\578621774.py:838: UserWarning: Column names longer than 10 characters will be truncated when saved to ESRI Shapefile.\n",
      "  channel_belt_cross_sections.to_file(os.path.join(output_folder, 'channel_belt_cross_sections.shp'))\n"
     ]
    },
    {
     "name": "stdout",
     "output_type": "stream",
     "text": [
      "Sinuosity: 2.278538000742287\n",
      "Channel Count Index (CCI): 1.16\n",
      "Channel Form Index (CFI): 1.9642568971916268\n"
     ]
    },
    {
     "name": "stderr",
     "output_type": "stream",
     "text": [
      "C:\\Users\\huckr\\AppData\\Local\\Temp\\ipykernel_33072\\578621774.py:838: UserWarning: Column names longer than 10 characters will be truncated when saved to ESRI Shapefile.\n",
      "  channel_belt_cross_sections.to_file(os.path.join(output_folder, 'channel_belt_cross_sections.shp'))\n"
     ]
    },
    {
     "name": "stdout",
     "output_type": "stream",
     "text": [
      "Sinuosity: 2.2995843514284675\n",
      "Channel Count Index (CCI): 1.1\n",
      "Channel Form Index (CFI): 2.0905312285713338\n"
     ]
    },
    {
     "name": "stderr",
     "output_type": "stream",
     "text": [
      "C:\\Users\\huckr\\AppData\\Local\\Temp\\ipykernel_33072\\578621774.py:838: UserWarning: Column names longer than 10 characters will be truncated when saved to ESRI Shapefile.\n",
      "  channel_belt_cross_sections.to_file(os.path.join(output_folder, 'channel_belt_cross_sections.shp'))\n"
     ]
    },
    {
     "name": "stdout",
     "output_type": "stream",
     "text": [
      "Sinuosity: 2.381718688436181\n",
      "Channel Count Index (CCI): 1.14\n",
      "Channel Form Index (CFI): 2.089226919680861\n"
     ]
    },
    {
     "name": "stderr",
     "output_type": "stream",
     "text": [
      "C:\\Users\\huckr\\AppData\\Local\\Temp\\ipykernel_33072\\578621774.py:838: UserWarning: Column names longer than 10 characters will be truncated when saved to ESRI Shapefile.\n",
      "  channel_belt_cross_sections.to_file(os.path.join(output_folder, 'channel_belt_cross_sections.shp'))\n"
     ]
    },
    {
     "name": "stdout",
     "output_type": "stream",
     "text": [
      "Sinuosity: 2.4136267629016808\n",
      "Channel Count Index (CCI): 1.14\n",
      "Channel Form Index (CFI): 2.117216458685685\n"
     ]
    },
    {
     "name": "stderr",
     "output_type": "stream",
     "text": [
      "C:\\Users\\huckr\\AppData\\Local\\Temp\\ipykernel_33072\\578621774.py:838: UserWarning: Column names longer than 10 characters will be truncated when saved to ESRI Shapefile.\n",
      "  channel_belt_cross_sections.to_file(os.path.join(output_folder, 'channel_belt_cross_sections.shp'))\n"
     ]
    },
    {
     "name": "stdout",
     "output_type": "stream",
     "text": [
      "Sinuosity: 2.4284484598443994\n",
      "Channel Count Index (CCI): 1.14\n",
      "Channel Form Index (CFI): 2.1302179472319294\n"
     ]
    },
    {
     "name": "stderr",
     "output_type": "stream",
     "text": [
      "C:\\Users\\huckr\\AppData\\Local\\Temp\\ipykernel_33072\\578621774.py:838: UserWarning: Column names longer than 10 characters will be truncated when saved to ESRI Shapefile.\n",
      "  channel_belt_cross_sections.to_file(os.path.join(output_folder, 'channel_belt_cross_sections.shp'))\n"
     ]
    },
    {
     "name": "stdout",
     "output_type": "stream",
     "text": [
      "Sinuosity: 2.454305584864884\n",
      "Channel Count Index (CCI): 1.16\n",
      "Channel Form Index (CFI): 2.115780676607659\n"
     ]
    },
    {
     "name": "stderr",
     "output_type": "stream",
     "text": [
      "C:\\Users\\huckr\\AppData\\Local\\Temp\\ipykernel_33072\\578621774.py:838: UserWarning: Column names longer than 10 characters will be truncated when saved to ESRI Shapefile.\n",
      "  channel_belt_cross_sections.to_file(os.path.join(output_folder, 'channel_belt_cross_sections.shp'))\n"
     ]
    },
    {
     "name": "stdout",
     "output_type": "stream",
     "text": [
      "Sinuosity: 2.3955555965415485\n",
      "Channel Count Index (CCI): 1.16\n",
      "Channel Form Index (CFI): 2.065134134949611\n"
     ]
    },
    {
     "name": "stderr",
     "output_type": "stream",
     "text": [
      "C:\\Users\\huckr\\AppData\\Local\\Temp\\ipykernel_33072\\578621774.py:838: UserWarning: Column names longer than 10 characters will be truncated when saved to ESRI Shapefile.\n",
      "  channel_belt_cross_sections.to_file(os.path.join(output_folder, 'channel_belt_cross_sections.shp'))\n"
     ]
    },
    {
     "name": "stdout",
     "output_type": "stream",
     "text": [
      "Sinuosity: 2.370278332014448\n",
      "Channel Count Index (CCI): 1.1\n",
      "Channel Form Index (CFI): 2.1547984836494978\n"
     ]
    },
    {
     "name": "stderr",
     "output_type": "stream",
     "text": [
      "C:\\Users\\huckr\\AppData\\Local\\Temp\\ipykernel_33072\\578621774.py:838: UserWarning: Column names longer than 10 characters will be truncated when saved to ESRI Shapefile.\n",
      "  channel_belt_cross_sections.to_file(os.path.join(output_folder, 'channel_belt_cross_sections.shp'))\n"
     ]
    },
    {
     "name": "stdout",
     "output_type": "stream",
     "text": [
      "Sinuosity: 2.3753111815401904\n",
      "Channel Count Index (CCI): 1.14\n",
      "Channel Form Index (CFI): 2.083606299596658\n"
     ]
    },
    {
     "name": "stderr",
     "output_type": "stream",
     "text": [
      "C:\\Users\\huckr\\AppData\\Local\\Temp\\ipykernel_33072\\578621774.py:838: UserWarning: Column names longer than 10 characters will be truncated when saved to ESRI Shapefile.\n",
      "  channel_belt_cross_sections.to_file(os.path.join(output_folder, 'channel_belt_cross_sections.shp'))\n"
     ]
    },
    {
     "name": "stdout",
     "output_type": "stream",
     "text": [
      "Sinuosity: 2.3214887504829664\n",
      "Channel Count Index (CCI): 1.18\n",
      "Channel Form Index (CFI): 1.9673633478669208\n"
     ]
    },
    {
     "name": "stderr",
     "output_type": "stream",
     "text": [
      "C:\\Users\\huckr\\AppData\\Local\\Temp\\ipykernel_33072\\578621774.py:838: UserWarning: Column names longer than 10 characters will be truncated when saved to ESRI Shapefile.\n",
      "  channel_belt_cross_sections.to_file(os.path.join(output_folder, 'channel_belt_cross_sections.shp'))\n"
     ]
    },
    {
     "name": "stdout",
     "output_type": "stream",
     "text": [
      "Sinuosity: 2.32494515240855\n",
      "Channel Count Index (CCI): 1.12\n",
      "Channel Form Index (CFI): 2.075843886079062\n"
     ]
    },
    {
     "name": "stderr",
     "output_type": "stream",
     "text": [
      "C:\\Users\\huckr\\AppData\\Local\\Temp\\ipykernel_33072\\578621774.py:838: UserWarning: Column names longer than 10 characters will be truncated when saved to ESRI Shapefile.\n",
      "  channel_belt_cross_sections.to_file(os.path.join(output_folder, 'channel_belt_cross_sections.shp'))\n"
     ]
    },
    {
     "name": "stdout",
     "output_type": "stream",
     "text": [
      "Sinuosity: 2.3236036592004217\n",
      "Channel Count Index (CCI): 1.08\n",
      "Channel Form Index (CFI): 2.15148486963002\n"
     ]
    },
    {
     "name": "stderr",
     "output_type": "stream",
     "text": [
      "C:\\Users\\huckr\\AppData\\Local\\Temp\\ipykernel_33072\\578621774.py:838: UserWarning: Column names longer than 10 characters will be truncated when saved to ESRI Shapefile.\n",
      "  channel_belt_cross_sections.to_file(os.path.join(output_folder, 'channel_belt_cross_sections.shp'))\n"
     ]
    },
    {
     "name": "stdout",
     "output_type": "stream",
     "text": [
      "Sinuosity: 2.3923600187466776\n",
      "Channel Count Index (CCI): 1.06\n",
      "Channel Form Index (CFI): 2.25694341391196\n"
     ]
    },
    {
     "name": "stderr",
     "output_type": "stream",
     "text": [
      "C:\\Users\\huckr\\AppData\\Local\\Temp\\ipykernel_33072\\578621774.py:838: UserWarning: Column names longer than 10 characters will be truncated when saved to ESRI Shapefile.\n",
      "  channel_belt_cross_sections.to_file(os.path.join(output_folder, 'channel_belt_cross_sections.shp'))\n"
     ]
    },
    {
     "name": "stdout",
     "output_type": "stream",
     "text": [
      "Sinuosity: 2.3999902869670344\n",
      "Channel Count Index (CCI): 1.08\n",
      "Channel Form Index (CFI): 2.22221322867318\n"
     ]
    },
    {
     "name": "stderr",
     "output_type": "stream",
     "text": [
      "C:\\Users\\huckr\\AppData\\Local\\Temp\\ipykernel_33072\\578621774.py:838: UserWarning: Column names longer than 10 characters will be truncated when saved to ESRI Shapefile.\n",
      "  channel_belt_cross_sections.to_file(os.path.join(output_folder, 'channel_belt_cross_sections.shp'))\n"
     ]
    },
    {
     "name": "stdout",
     "output_type": "stream",
     "text": [
      "Sinuosity: 2.4766470249631993\n",
      "Channel Count Index (CCI): 1.12\n",
      "Channel Form Index (CFI): 2.211291986574285\n"
     ]
    },
    {
     "name": "stderr",
     "output_type": "stream",
     "text": [
      "C:\\Users\\huckr\\AppData\\Local\\Temp\\ipykernel_33072\\578621774.py:838: UserWarning: Column names longer than 10 characters will be truncated when saved to ESRI Shapefile.\n",
      "  channel_belt_cross_sections.to_file(os.path.join(output_folder, 'channel_belt_cross_sections.shp'))\n"
     ]
    },
    {
     "name": "stdout",
     "output_type": "stream",
     "text": [
      "Sinuosity: 2.3138887836776347\n",
      "Channel Count Index (CCI): 1.14\n",
      "Channel Form Index (CFI): 2.0297270032259958\n"
     ]
    },
    {
     "name": "stderr",
     "output_type": "stream",
     "text": [
      "C:\\Users\\huckr\\AppData\\Local\\Temp\\ipykernel_33072\\578621774.py:838: UserWarning: Column names longer than 10 characters will be truncated when saved to ESRI Shapefile.\n",
      "  channel_belt_cross_sections.to_file(os.path.join(output_folder, 'channel_belt_cross_sections.shp'))\n"
     ]
    },
    {
     "name": "stdout",
     "output_type": "stream",
     "text": [
      "Sinuosity: 2.3610445842510734\n",
      "Channel Count Index (CCI): 1.02\n",
      "Channel Form Index (CFI): 2.3147495924030133\n"
     ]
    },
    {
     "name": "stderr",
     "output_type": "stream",
     "text": [
      "C:\\Users\\huckr\\AppData\\Local\\Temp\\ipykernel_33072\\578621774.py:838: UserWarning: Column names longer than 10 characters will be truncated when saved to ESRI Shapefile.\n",
      "  channel_belt_cross_sections.to_file(os.path.join(output_folder, 'channel_belt_cross_sections.shp'))\n"
     ]
    },
    {
     "name": "stdout",
     "output_type": "stream",
     "text": [
      "Sinuosity: 2.4341700617966393\n",
      "Channel Count Index (CCI): 1.1\n",
      "Channel Form Index (CFI): 2.212881874360581\n"
     ]
    },
    {
     "name": "stderr",
     "output_type": "stream",
     "text": [
      "C:\\Users\\huckr\\AppData\\Local\\Temp\\ipykernel_33072\\578621774.py:838: UserWarning: Column names longer than 10 characters will be truncated when saved to ESRI Shapefile.\n",
      "  channel_belt_cross_sections.to_file(os.path.join(output_folder, 'channel_belt_cross_sections.shp'))\n"
     ]
    },
    {
     "name": "stdout",
     "output_type": "stream",
     "text": [
      "Sinuosity: 2.351759930348374\n",
      "Channel Count Index (CCI): 1.1\n",
      "Channel Form Index (CFI): 2.137963573043976\n"
     ]
    },
    {
     "name": "stderr",
     "output_type": "stream",
     "text": [
      "C:\\Users\\huckr\\AppData\\Local\\Temp\\ipykernel_33072\\578621774.py:838: UserWarning: Column names longer than 10 characters will be truncated when saved to ESRI Shapefile.\n",
      "  channel_belt_cross_sections.to_file(os.path.join(output_folder, 'channel_belt_cross_sections.shp'))\n"
     ]
    },
    {
     "name": "stdout",
     "output_type": "stream",
     "text": [
      "Sinuosity: 2.3682842997599973\n",
      "Channel Count Index (CCI): 1.14\n",
      "Channel Form Index (CFI): 2.0774423682105243\n"
     ]
    },
    {
     "name": "stderr",
     "output_type": "stream",
     "text": [
      "C:\\Users\\huckr\\AppData\\Local\\Temp\\ipykernel_33072\\578621774.py:838: UserWarning: Column names longer than 10 characters will be truncated when saved to ESRI Shapefile.\n",
      "  channel_belt_cross_sections.to_file(os.path.join(output_folder, 'channel_belt_cross_sections.shp'))\n"
     ]
    },
    {
     "name": "stdout",
     "output_type": "stream",
     "text": [
      "Sinuosity: 2.404405196199685\n",
      "Channel Count Index (CCI): 1.08\n",
      "Channel Form Index (CFI): 2.2263011075923007\n"
     ]
    },
    {
     "name": "stderr",
     "output_type": "stream",
     "text": [
      "C:\\Users\\huckr\\AppData\\Local\\Temp\\ipykernel_33072\\578621774.py:838: UserWarning: Column names longer than 10 characters will be truncated when saved to ESRI Shapefile.\n",
      "  channel_belt_cross_sections.to_file(os.path.join(output_folder, 'channel_belt_cross_sections.shp'))\n"
     ]
    },
    {
     "name": "stdout",
     "output_type": "stream",
     "text": [
      "Sinuosity: 1.899165710953708\n",
      "Channel Count Index (CCI): 1.24\n",
      "Channel Form Index (CFI): 1.5315852507691192\n"
     ]
    },
    {
     "name": "stderr",
     "output_type": "stream",
     "text": [
      "C:\\Users\\huckr\\AppData\\Local\\Temp\\ipykernel_33072\\578621774.py:838: UserWarning: Column names longer than 10 characters will be truncated when saved to ESRI Shapefile.\n",
      "  channel_belt_cross_sections.to_file(os.path.join(output_folder, 'channel_belt_cross_sections.shp'))\n"
     ]
    },
    {
     "name": "stdout",
     "output_type": "stream",
     "text": [
      "Sinuosity: 1.8678285728296957\n",
      "Channel Count Index (CCI): 1.26\n",
      "Channel Form Index (CFI): 1.4824036292299172\n"
     ]
    },
    {
     "name": "stderr",
     "output_type": "stream",
     "text": [
      "C:\\Users\\huckr\\AppData\\Local\\Temp\\ipykernel_33072\\578621774.py:838: UserWarning: Column names longer than 10 characters will be truncated when saved to ESRI Shapefile.\n",
      "  channel_belt_cross_sections.to_file(os.path.join(output_folder, 'channel_belt_cross_sections.shp'))\n"
     ]
    },
    {
     "name": "stdout",
     "output_type": "stream",
     "text": [
      "Sinuosity: 1.9093631917849911\n",
      "Channel Count Index (CCI): 1.2\n",
      "Channel Form Index (CFI): 1.5911359931541593\n"
     ]
    },
    {
     "name": "stderr",
     "output_type": "stream",
     "text": [
      "C:\\Users\\huckr\\AppData\\Local\\Temp\\ipykernel_33072\\578621774.py:838: UserWarning: Column names longer than 10 characters will be truncated when saved to ESRI Shapefile.\n",
      "  channel_belt_cross_sections.to_file(os.path.join(output_folder, 'channel_belt_cross_sections.shp'))\n"
     ]
    },
    {
     "name": "stdout",
     "output_type": "stream",
     "text": [
      "Sinuosity: 1.9072976948542295\n",
      "Channel Count Index (CCI): 1.16\n",
      "Channel Form Index (CFI): 1.6442221507364048\n"
     ]
    },
    {
     "name": "stderr",
     "output_type": "stream",
     "text": [
      "C:\\Users\\huckr\\AppData\\Local\\Temp\\ipykernel_33072\\578621774.py:838: UserWarning: Column names longer than 10 characters will be truncated when saved to ESRI Shapefile.\n",
      "  channel_belt_cross_sections.to_file(os.path.join(output_folder, 'channel_belt_cross_sections.shp'))\n"
     ]
    },
    {
     "name": "stdout",
     "output_type": "stream",
     "text": [
      "Sinuosity: 1.9455453439375963\n",
      "Channel Count Index (CCI): 1.18\n",
      "Channel Form Index (CFI): 1.6487672406250817\n"
     ]
    },
    {
     "name": "stderr",
     "output_type": "stream",
     "text": [
      "C:\\Users\\huckr\\AppData\\Local\\Temp\\ipykernel_33072\\578621774.py:838: UserWarning: Column names longer than 10 characters will be truncated when saved to ESRI Shapefile.\n",
      "  channel_belt_cross_sections.to_file(os.path.join(output_folder, 'channel_belt_cross_sections.shp'))\n"
     ]
    },
    {
     "name": "stdout",
     "output_type": "stream",
     "text": [
      "Sinuosity: 1.950456231731933\n",
      "Channel Count Index (CCI): 1.42\n",
      "Channel Form Index (CFI): 1.3735607265717837\n"
     ]
    },
    {
     "name": "stderr",
     "output_type": "stream",
     "text": [
      "C:\\Users\\huckr\\AppData\\Local\\Temp\\ipykernel_33072\\578621774.py:838: UserWarning: Column names longer than 10 characters will be truncated when saved to ESRI Shapefile.\n",
      "  channel_belt_cross_sections.to_file(os.path.join(output_folder, 'channel_belt_cross_sections.shp'))\n"
     ]
    },
    {
     "name": "stdout",
     "output_type": "stream",
     "text": [
      "Sinuosity: 1.9202090358158124\n",
      "Channel Count Index (CCI): 1.28\n",
      "Channel Form Index (CFI): 1.5001633092311033\n"
     ]
    },
    {
     "name": "stderr",
     "output_type": "stream",
     "text": [
      "C:\\Users\\huckr\\AppData\\Local\\Temp\\ipykernel_33072\\578621774.py:838: UserWarning: Column names longer than 10 characters will be truncated when saved to ESRI Shapefile.\n",
      "  channel_belt_cross_sections.to_file(os.path.join(output_folder, 'channel_belt_cross_sections.shp'))\n"
     ]
    },
    {
     "name": "stdout",
     "output_type": "stream",
     "text": [
      "Sinuosity: 1.9458374633922344\n",
      "Channel Count Index (CCI): 1.2\n",
      "Channel Form Index (CFI): 1.6215312194935287\n"
     ]
    },
    {
     "name": "stderr",
     "output_type": "stream",
     "text": [
      "C:\\Users\\huckr\\AppData\\Local\\Temp\\ipykernel_33072\\578621774.py:838: UserWarning: Column names longer than 10 characters will be truncated when saved to ESRI Shapefile.\n",
      "  channel_belt_cross_sections.to_file(os.path.join(output_folder, 'channel_belt_cross_sections.shp'))\n"
     ]
    },
    {
     "name": "stdout",
     "output_type": "stream",
     "text": [
      "Sinuosity: 1.9401221046918045\n",
      "Channel Count Index (CCI): 1.24\n",
      "Channel Form Index (CFI): 1.564614600557907\n"
     ]
    },
    {
     "name": "stderr",
     "output_type": "stream",
     "text": [
      "C:\\Users\\huckr\\AppData\\Local\\Temp\\ipykernel_33072\\578621774.py:838: UserWarning: Column names longer than 10 characters will be truncated when saved to ESRI Shapefile.\n",
      "  channel_belt_cross_sections.to_file(os.path.join(output_folder, 'channel_belt_cross_sections.shp'))\n"
     ]
    },
    {
     "name": "stdout",
     "output_type": "stream",
     "text": [
      "Sinuosity: 1.967921834123327\n",
      "Channel Count Index (CCI): 1.26\n",
      "Channel Form Index (CFI): 1.561842725494704\n"
     ]
    },
    {
     "name": "stderr",
     "output_type": "stream",
     "text": [
      "C:\\Users\\huckr\\AppData\\Local\\Temp\\ipykernel_33072\\578621774.py:838: UserWarning: Column names longer than 10 characters will be truncated when saved to ESRI Shapefile.\n",
      "  channel_belt_cross_sections.to_file(os.path.join(output_folder, 'channel_belt_cross_sections.shp'))\n"
     ]
    },
    {
     "name": "stdout",
     "output_type": "stream",
     "text": [
      "Sinuosity: 1.9961352530022838\n",
      "Channel Count Index (CCI): 1.36\n",
      "Channel Form Index (CFI): 1.4677465095605027\n"
     ]
    },
    {
     "name": "stderr",
     "output_type": "stream",
     "text": [
      "C:\\Users\\huckr\\AppData\\Local\\Temp\\ipykernel_33072\\578621774.py:838: UserWarning: Column names longer than 10 characters will be truncated when saved to ESRI Shapefile.\n",
      "  channel_belt_cross_sections.to_file(os.path.join(output_folder, 'channel_belt_cross_sections.shp'))\n"
     ]
    },
    {
     "name": "stdout",
     "output_type": "stream",
     "text": [
      "Sinuosity: 2.010694744884446\n",
      "Channel Count Index (CCI): 1.3\n",
      "Channel Form Index (CFI): 1.5466882652957277\n"
     ]
    },
    {
     "name": "stderr",
     "output_type": "stream",
     "text": [
      "C:\\Users\\huckr\\AppData\\Local\\Temp\\ipykernel_33072\\578621774.py:838: UserWarning: Column names longer than 10 characters will be truncated when saved to ESRI Shapefile.\n",
      "  channel_belt_cross_sections.to_file(os.path.join(output_folder, 'channel_belt_cross_sections.shp'))\n"
     ]
    },
    {
     "name": "stdout",
     "output_type": "stream",
     "text": [
      "Sinuosity: 2.01574583128743\n",
      "Channel Count Index (CCI): 1.32\n",
      "Channel Form Index (CFI): 1.5270801752177499\n"
     ]
    },
    {
     "name": "stderr",
     "output_type": "stream",
     "text": [
      "C:\\Users\\huckr\\AppData\\Local\\Temp\\ipykernel_33072\\578621774.py:838: UserWarning: Column names longer than 10 characters will be truncated when saved to ESRI Shapefile.\n",
      "  channel_belt_cross_sections.to_file(os.path.join(output_folder, 'channel_belt_cross_sections.shp'))\n"
     ]
    },
    {
     "name": "stdout",
     "output_type": "stream",
     "text": [
      "Sinuosity: 1.96290349505834\n",
      "Channel Count Index (CCI): 1.32\n",
      "Channel Form Index (CFI): 1.4870481023169242\n"
     ]
    },
    {
     "name": "stderr",
     "output_type": "stream",
     "text": [
      "C:\\Users\\huckr\\AppData\\Local\\Temp\\ipykernel_33072\\578621774.py:838: UserWarning: Column names longer than 10 characters will be truncated when saved to ESRI Shapefile.\n",
      "  channel_belt_cross_sections.to_file(os.path.join(output_folder, 'channel_belt_cross_sections.shp'))\n"
     ]
    },
    {
     "name": "stdout",
     "output_type": "stream",
     "text": [
      "Sinuosity: 1.9931529665962435\n",
      "Channel Count Index (CCI): 1.2\n",
      "Channel Form Index (CFI): 1.6609608054968696\n"
     ]
    },
    {
     "name": "stderr",
     "output_type": "stream",
     "text": [
      "C:\\Users\\huckr\\AppData\\Local\\Temp\\ipykernel_33072\\578621774.py:838: UserWarning: Column names longer than 10 characters will be truncated when saved to ESRI Shapefile.\n",
      "  channel_belt_cross_sections.to_file(os.path.join(output_folder, 'channel_belt_cross_sections.shp'))\n"
     ]
    },
    {
     "name": "stdout",
     "output_type": "stream",
     "text": [
      "Sinuosity: 1.9933772135432717\n",
      "Channel Count Index (CCI): 1.18\n",
      "Channel Form Index (CFI): 1.6893027233417557\n"
     ]
    },
    {
     "name": "stderr",
     "output_type": "stream",
     "text": [
      "C:\\Users\\huckr\\AppData\\Local\\Temp\\ipykernel_33072\\578621774.py:838: UserWarning: Column names longer than 10 characters will be truncated when saved to ESRI Shapefile.\n",
      "  channel_belt_cross_sections.to_file(os.path.join(output_folder, 'channel_belt_cross_sections.shp'))\n"
     ]
    },
    {
     "name": "stdout",
     "output_type": "stream",
     "text": [
      "Sinuosity: 1.926435623831549\n",
      "Channel Count Index (CCI): 1.14\n",
      "Channel Form Index (CFI): 1.689855810378552\n"
     ]
    },
    {
     "name": "stderr",
     "output_type": "stream",
     "text": [
      "C:\\Users\\huckr\\AppData\\Local\\Temp\\ipykernel_33072\\578621774.py:838: UserWarning: Column names longer than 10 characters will be truncated when saved to ESRI Shapefile.\n",
      "  channel_belt_cross_sections.to_file(os.path.join(output_folder, 'channel_belt_cross_sections.shp'))\n"
     ]
    },
    {
     "name": "stdout",
     "output_type": "stream",
     "text": [
      "Sinuosity: 1.9766942900868751\n",
      "Channel Count Index (CCI): 1.18\n",
      "Channel Form Index (CFI): 1.675164652615996\n"
     ]
    },
    {
     "name": "stderr",
     "output_type": "stream",
     "text": [
      "C:\\Users\\huckr\\AppData\\Local\\Temp\\ipykernel_33072\\578621774.py:838: UserWarning: Column names longer than 10 characters will be truncated when saved to ESRI Shapefile.\n",
      "  channel_belt_cross_sections.to_file(os.path.join(output_folder, 'channel_belt_cross_sections.shp'))\n"
     ]
    },
    {
     "name": "stdout",
     "output_type": "stream",
     "text": [
      "Sinuosity: 1.9554019653287014\n",
      "Channel Count Index (CCI): 1.18\n",
      "Channel Form Index (CFI): 1.6571203096005944\n"
     ]
    },
    {
     "name": "stderr",
     "output_type": "stream",
     "text": [
      "C:\\Users\\huckr\\AppData\\Local\\Temp\\ipykernel_33072\\578621774.py:838: UserWarning: Column names longer than 10 characters will be truncated when saved to ESRI Shapefile.\n",
      "  channel_belt_cross_sections.to_file(os.path.join(output_folder, 'channel_belt_cross_sections.shp'))\n"
     ]
    },
    {
     "name": "stdout",
     "output_type": "stream",
     "text": [
      "Sinuosity: 1.9857199977378786\n",
      "Channel Count Index (CCI): 1.16\n",
      "Channel Form Index (CFI): 1.711827584256792\n"
     ]
    },
    {
     "name": "stderr",
     "output_type": "stream",
     "text": [
      "C:\\Users\\huckr\\AppData\\Local\\Temp\\ipykernel_33072\\578621774.py:838: UserWarning: Column names longer than 10 characters will be truncated when saved to ESRI Shapefile.\n",
      "  channel_belt_cross_sections.to_file(os.path.join(output_folder, 'channel_belt_cross_sections.shp'))\n"
     ]
    },
    {
     "name": "stdout",
     "output_type": "stream",
     "text": [
      "Sinuosity: 1.991867869497371\n",
      "Channel Count Index (CCI): 1.18\n",
      "Channel Form Index (CFI): 1.6880236182181112\n"
     ]
    },
    {
     "name": "stderr",
     "output_type": "stream",
     "text": [
      "C:\\Users\\huckr\\AppData\\Local\\Temp\\ipykernel_33072\\578621774.py:838: UserWarning: Column names longer than 10 characters will be truncated when saved to ESRI Shapefile.\n",
      "  channel_belt_cross_sections.to_file(os.path.join(output_folder, 'channel_belt_cross_sections.shp'))\n"
     ]
    },
    {
     "name": "stdout",
     "output_type": "stream",
     "text": [
      "Sinuosity: 2.0136636620895314\n",
      "Channel Count Index (CCI): 1.26\n",
      "Channel Form Index (CFI): 1.5981457635631202\n"
     ]
    },
    {
     "name": "stderr",
     "output_type": "stream",
     "text": [
      "C:\\Users\\huckr\\AppData\\Local\\Temp\\ipykernel_33072\\578621774.py:838: UserWarning: Column names longer than 10 characters will be truncated when saved to ESRI Shapefile.\n",
      "  channel_belt_cross_sections.to_file(os.path.join(output_folder, 'channel_belt_cross_sections.shp'))\n"
     ]
    },
    {
     "name": "stdout",
     "output_type": "stream",
     "text": [
      "Sinuosity: 2.0650941424213984\n",
      "Channel Count Index (CCI): 1.24\n",
      "Channel Form Index (CFI): 1.6653985019527406\n"
     ]
    },
    {
     "name": "stderr",
     "output_type": "stream",
     "text": [
      "C:\\Users\\huckr\\AppData\\Local\\Temp\\ipykernel_33072\\578621774.py:838: UserWarning: Column names longer than 10 characters will be truncated when saved to ESRI Shapefile.\n",
      "  channel_belt_cross_sections.to_file(os.path.join(output_folder, 'channel_belt_cross_sections.shp'))\n"
     ]
    },
    {
     "name": "stdout",
     "output_type": "stream",
     "text": [
      "Sinuosity: 2.0304099034369725\n",
      "Channel Count Index (CCI): 1.22\n",
      "Channel Form Index (CFI): 1.6642704126532561\n"
     ]
    },
    {
     "name": "stderr",
     "output_type": "stream",
     "text": [
      "C:\\Users\\huckr\\AppData\\Local\\Temp\\ipykernel_33072\\578621774.py:838: UserWarning: Column names longer than 10 characters will be truncated when saved to ESRI Shapefile.\n",
      "  channel_belt_cross_sections.to_file(os.path.join(output_folder, 'channel_belt_cross_sections.shp'))\n"
     ]
    },
    {
     "name": "stdout",
     "output_type": "stream",
     "text": [
      "Sinuosity: 2.0852690532956704\n",
      "Channel Count Index (CCI): 1.22\n",
      "Channel Form Index (CFI): 1.7092369289308773\n"
     ]
    },
    {
     "name": "stderr",
     "output_type": "stream",
     "text": [
      "C:\\Users\\huckr\\AppData\\Local\\Temp\\ipykernel_33072\\578621774.py:838: UserWarning: Column names longer than 10 characters will be truncated when saved to ESRI Shapefile.\n",
      "  channel_belt_cross_sections.to_file(os.path.join(output_folder, 'channel_belt_cross_sections.shp'))\n"
     ]
    },
    {
     "name": "stdout",
     "output_type": "stream",
     "text": [
      "Sinuosity: 1.9918825161072884\n",
      "Channel Count Index (CCI): 1.26\n",
      "Channel Form Index (CFI): 1.5808591397676892\n"
     ]
    },
    {
     "name": "stderr",
     "output_type": "stream",
     "text": [
      "C:\\Users\\huckr\\AppData\\Local\\Temp\\ipykernel_33072\\578621774.py:838: UserWarning: Column names longer than 10 characters will be truncated when saved to ESRI Shapefile.\n",
      "  channel_belt_cross_sections.to_file(os.path.join(output_folder, 'channel_belt_cross_sections.shp'))\n"
     ]
    },
    {
     "name": "stdout",
     "output_type": "stream",
     "text": [
      "Sinuosity: 2.100607530328091\n",
      "Channel Count Index (CCI): 1.2\n",
      "Channel Form Index (CFI): 1.750506275273409\n"
     ]
    },
    {
     "name": "stderr",
     "output_type": "stream",
     "text": [
      "C:\\Users\\huckr\\AppData\\Local\\Temp\\ipykernel_33072\\578621774.py:838: UserWarning: Column names longer than 10 characters will be truncated when saved to ESRI Shapefile.\n",
      "  channel_belt_cross_sections.to_file(os.path.join(output_folder, 'channel_belt_cross_sections.shp'))\n"
     ]
    },
    {
     "name": "stdout",
     "output_type": "stream",
     "text": [
      "Sinuosity: 2.081072565987408\n",
      "Channel Count Index (CCI): 1.24\n",
      "Channel Form Index (CFI): 1.6782843274091999\n"
     ]
    },
    {
     "name": "stderr",
     "output_type": "stream",
     "text": [
      "C:\\Users\\huckr\\AppData\\Local\\Temp\\ipykernel_33072\\578621774.py:838: UserWarning: Column names longer than 10 characters will be truncated when saved to ESRI Shapefile.\n",
      "  channel_belt_cross_sections.to_file(os.path.join(output_folder, 'channel_belt_cross_sections.shp'))\n"
     ]
    },
    {
     "name": "stdout",
     "output_type": "stream",
     "text": [
      "Sinuosity: 2.077641562238943\n",
      "Channel Count Index (CCI): 1.18\n",
      "Channel Form Index (CFI): 1.7607131883380873\n"
     ]
    },
    {
     "name": "stderr",
     "output_type": "stream",
     "text": [
      "C:\\Users\\huckr\\AppData\\Local\\Temp\\ipykernel_33072\\578621774.py:838: UserWarning: Column names longer than 10 characters will be truncated when saved to ESRI Shapefile.\n",
      "  channel_belt_cross_sections.to_file(os.path.join(output_folder, 'channel_belt_cross_sections.shp'))\n"
     ]
    },
    {
     "name": "stdout",
     "output_type": "stream",
     "text": [
      "Sinuosity: 2.0812571813470706\n",
      "Channel Count Index (CCI): 1.16\n",
      "Channel Form Index (CFI): 1.7941872252991988\n"
     ]
    },
    {
     "name": "stderr",
     "output_type": "stream",
     "text": [
      "C:\\Users\\huckr\\AppData\\Local\\Temp\\ipykernel_33072\\578621774.py:838: UserWarning: Column names longer than 10 characters will be truncated when saved to ESRI Shapefile.\n",
      "  channel_belt_cross_sections.to_file(os.path.join(output_folder, 'channel_belt_cross_sections.shp'))\n"
     ]
    },
    {
     "name": "stdout",
     "output_type": "stream",
     "text": [
      "Sinuosity: 2.025572625628454\n",
      "Channel Count Index (CCI): 1.06\n",
      "Channel Form Index (CFI): 1.9109175713475979\n"
     ]
    },
    {
     "name": "stderr",
     "output_type": "stream",
     "text": [
      "C:\\Users\\huckr\\AppData\\Local\\Temp\\ipykernel_33072\\578621774.py:838: UserWarning: Column names longer than 10 characters will be truncated when saved to ESRI Shapefile.\n",
      "  channel_belt_cross_sections.to_file(os.path.join(output_folder, 'channel_belt_cross_sections.shp'))\n"
     ]
    },
    {
     "name": "stdout",
     "output_type": "stream",
     "text": [
      "Sinuosity: 2.091164581892496\n",
      "Channel Count Index (CCI): 1.2\n",
      "Channel Form Index (CFI): 1.74263715157708\n"
     ]
    },
    {
     "name": "stderr",
     "output_type": "stream",
     "text": [
      "C:\\Users\\huckr\\AppData\\Local\\Temp\\ipykernel_33072\\578621774.py:838: UserWarning: Column names longer than 10 characters will be truncated when saved to ESRI Shapefile.\n",
      "  channel_belt_cross_sections.to_file(os.path.join(output_folder, 'channel_belt_cross_sections.shp'))\n"
     ]
    },
    {
     "name": "stdout",
     "output_type": "stream",
     "text": [
      "Sinuosity: 2.085144941829541\n",
      "Channel Count Index (CCI): 1.18\n",
      "Channel Form Index (CFI): 1.767071984601306\n"
     ]
    },
    {
     "name": "stderr",
     "output_type": "stream",
     "text": [
      "C:\\Users\\huckr\\AppData\\Local\\Temp\\ipykernel_33072\\578621774.py:838: UserWarning: Column names longer than 10 characters will be truncated when saved to ESRI Shapefile.\n",
      "  channel_belt_cross_sections.to_file(os.path.join(output_folder, 'channel_belt_cross_sections.shp'))\n"
     ]
    },
    {
     "name": "stdout",
     "output_type": "stream",
     "text": [
      "Sinuosity: 2.136399062043728\n",
      "Channel Count Index (CCI): 1.26\n",
      "Channel Form Index (CFI): 1.6955548111458159\n"
     ]
    },
    {
     "name": "stderr",
     "output_type": "stream",
     "text": [
      "C:\\Users\\huckr\\AppData\\Local\\Temp\\ipykernel_33072\\578621774.py:838: UserWarning: Column names longer than 10 characters will be truncated when saved to ESRI Shapefile.\n",
      "  channel_belt_cross_sections.to_file(os.path.join(output_folder, 'channel_belt_cross_sections.shp'))\n"
     ]
    },
    {
     "name": "stdout",
     "output_type": "stream",
     "text": [
      "Sinuosity: 2.0306586703612295\n",
      "Channel Count Index (CCI): 1.14\n",
      "Channel Form Index (CFI): 1.7812795354045874\n"
     ]
    },
    {
     "name": "stderr",
     "output_type": "stream",
     "text": [
      "C:\\Users\\huckr\\AppData\\Local\\Temp\\ipykernel_33072\\578621774.py:838: UserWarning: Column names longer than 10 characters will be truncated when saved to ESRI Shapefile.\n",
      "  channel_belt_cross_sections.to_file(os.path.join(output_folder, 'channel_belt_cross_sections.shp'))\n"
     ]
    },
    {
     "name": "stdout",
     "output_type": "stream",
     "text": [
      "Sinuosity: 2.065446068392467\n",
      "Channel Count Index (CCI): 1.14\n",
      "Channel Form Index (CFI): 1.8117947968354975\n"
     ]
    },
    {
     "name": "stderr",
     "output_type": "stream",
     "text": [
      "C:\\Users\\huckr\\AppData\\Local\\Temp\\ipykernel_33072\\578621774.py:838: UserWarning: Column names longer than 10 characters will be truncated when saved to ESRI Shapefile.\n",
      "  channel_belt_cross_sections.to_file(os.path.join(output_folder, 'channel_belt_cross_sections.shp'))\n"
     ]
    },
    {
     "name": "stdout",
     "output_type": "stream",
     "text": [
      "Sinuosity: 2.093445282430748\n",
      "Channel Count Index (CCI): 1.16\n",
      "Channel Form Index (CFI): 1.8046942089920244\n"
     ]
    },
    {
     "name": "stderr",
     "output_type": "stream",
     "text": [
      "C:\\Users\\huckr\\AppData\\Local\\Temp\\ipykernel_33072\\578621774.py:838: UserWarning: Column names longer than 10 characters will be truncated when saved to ESRI Shapefile.\n",
      "  channel_belt_cross_sections.to_file(os.path.join(output_folder, 'channel_belt_cross_sections.shp'))\n"
     ]
    },
    {
     "name": "stdout",
     "output_type": "stream",
     "text": [
      "Sinuosity: 2.0895564777940376\n",
      "Channel Count Index (CCI): 1.2\n",
      "Channel Form Index (CFI): 1.7412970648283648\n"
     ]
    },
    {
     "name": "stderr",
     "output_type": "stream",
     "text": [
      "C:\\Users\\huckr\\AppData\\Local\\Temp\\ipykernel_33072\\578621774.py:838: UserWarning: Column names longer than 10 characters will be truncated when saved to ESRI Shapefile.\n",
      "  channel_belt_cross_sections.to_file(os.path.join(output_folder, 'channel_belt_cross_sections.shp'))\n"
     ]
    },
    {
     "name": "stdout",
     "output_type": "stream",
     "text": [
      "Sinuosity: 2.0870268438234607\n",
      "Channel Count Index (CCI): 1.12\n",
      "Channel Form Index (CFI): 1.8634168248423755\n"
     ]
    },
    {
     "name": "stderr",
     "output_type": "stream",
     "text": [
      "C:\\Users\\huckr\\AppData\\Local\\Temp\\ipykernel_33072\\578621774.py:838: UserWarning: Column names longer than 10 characters will be truncated when saved to ESRI Shapefile.\n",
      "  channel_belt_cross_sections.to_file(os.path.join(output_folder, 'channel_belt_cross_sections.shp'))\n"
     ]
    },
    {
     "name": "stdout",
     "output_type": "stream",
     "text": [
      "Sinuosity: 2.102383281151592\n",
      "Channel Count Index (CCI): 1.12\n",
      "Channel Form Index (CFI): 1.8771279295996355\n"
     ]
    },
    {
     "name": "stderr",
     "output_type": "stream",
     "text": [
      "C:\\Users\\huckr\\AppData\\Local\\Temp\\ipykernel_33072\\578621774.py:838: UserWarning: Column names longer than 10 characters will be truncated when saved to ESRI Shapefile.\n",
      "  channel_belt_cross_sections.to_file(os.path.join(output_folder, 'channel_belt_cross_sections.shp'))\n"
     ]
    },
    {
     "name": "stdout",
     "output_type": "stream",
     "text": [
      "Sinuosity: 1.7615459197442929\n",
      "Channel Count Index (CCI): 1.12\n",
      "Channel Form Index (CFI): 1.572808856914547\n"
     ]
    },
    {
     "name": "stderr",
     "output_type": "stream",
     "text": [
      "C:\\Users\\huckr\\AppData\\Local\\Temp\\ipykernel_33072\\578621774.py:838: UserWarning: Column names longer than 10 characters will be truncated when saved to ESRI Shapefile.\n",
      "  channel_belt_cross_sections.to_file(os.path.join(output_folder, 'channel_belt_cross_sections.shp'))\n"
     ]
    },
    {
     "name": "stdout",
     "output_type": "stream",
     "text": [
      "Sinuosity: 1.757294914469696\n",
      "Channel Count Index (CCI): 1.08\n",
      "Channel Form Index (CFI): 1.627124920805274\n"
     ]
    },
    {
     "name": "stderr",
     "output_type": "stream",
     "text": [
      "C:\\Users\\huckr\\AppData\\Local\\Temp\\ipykernel_33072\\578621774.py:838: UserWarning: Column names longer than 10 characters will be truncated when saved to ESRI Shapefile.\n",
      "  channel_belt_cross_sections.to_file(os.path.join(output_folder, 'channel_belt_cross_sections.shp'))\n"
     ]
    },
    {
     "name": "stdout",
     "output_type": "stream",
     "text": [
      "Sinuosity: 1.6932268500170193\n",
      "Channel Count Index (CCI): 1.08\n",
      "Channel Form Index (CFI): 1.5678026389046473\n"
     ]
    },
    {
     "name": "stderr",
     "output_type": "stream",
     "text": [
      "C:\\Users\\huckr\\AppData\\Local\\Temp\\ipykernel_33072\\578621774.py:838: UserWarning: Column names longer than 10 characters will be truncated when saved to ESRI Shapefile.\n",
      "  channel_belt_cross_sections.to_file(os.path.join(output_folder, 'channel_belt_cross_sections.shp'))\n"
     ]
    },
    {
     "name": "stdout",
     "output_type": "stream",
     "text": [
      "Sinuosity: 1.6888143984715824\n",
      "Channel Count Index (CCI): 1.08\n",
      "Channel Form Index (CFI): 1.5637170356218355\n"
     ]
    },
    {
     "name": "stderr",
     "output_type": "stream",
     "text": [
      "C:\\Users\\huckr\\AppData\\Local\\Temp\\ipykernel_33072\\578621774.py:838: UserWarning: Column names longer than 10 characters will be truncated when saved to ESRI Shapefile.\n",
      "  channel_belt_cross_sections.to_file(os.path.join(output_folder, 'channel_belt_cross_sections.shp'))\n"
     ]
    },
    {
     "name": "stdout",
     "output_type": "stream",
     "text": [
      "Sinuosity: 1.7289169843508077\n",
      "Channel Count Index (CCI): 1.08\n",
      "Channel Form Index (CFI): 1.600849059584081\n"
     ]
    },
    {
     "name": "stderr",
     "output_type": "stream",
     "text": [
      "C:\\Users\\huckr\\AppData\\Local\\Temp\\ipykernel_33072\\578621774.py:838: UserWarning: Column names longer than 10 characters will be truncated when saved to ESRI Shapefile.\n",
      "  channel_belt_cross_sections.to_file(os.path.join(output_folder, 'channel_belt_cross_sections.shp'))\n"
     ]
    },
    {
     "name": "stdout",
     "output_type": "stream",
     "text": [
      "Sinuosity: 1.727073768663687\n",
      "Channel Count Index (CCI): 1.18\n",
      "Channel Form Index (CFI): 1.4636218378505823\n"
     ]
    },
    {
     "name": "stderr",
     "output_type": "stream",
     "text": [
      "C:\\Users\\huckr\\AppData\\Local\\Temp\\ipykernel_33072\\578621774.py:838: UserWarning: Column names longer than 10 characters will be truncated when saved to ESRI Shapefile.\n",
      "  channel_belt_cross_sections.to_file(os.path.join(output_folder, 'channel_belt_cross_sections.shp'))\n"
     ]
    },
    {
     "name": "stdout",
     "output_type": "stream",
     "text": [
      "Sinuosity: 1.7024356446991227\n",
      "Channel Count Index (CCI): 1.02\n",
      "Channel Form Index (CFI): 1.6690545536265908\n"
     ]
    },
    {
     "name": "stderr",
     "output_type": "stream",
     "text": [
      "C:\\Users\\huckr\\AppData\\Local\\Temp\\ipykernel_33072\\578621774.py:838: UserWarning: Column names longer than 10 characters will be truncated when saved to ESRI Shapefile.\n",
      "  channel_belt_cross_sections.to_file(os.path.join(output_folder, 'channel_belt_cross_sections.shp'))\n"
     ]
    },
    {
     "name": "stdout",
     "output_type": "stream",
     "text": [
      "Sinuosity: 1.7239231463678553\n",
      "Channel Count Index (CCI): 1.12\n",
      "Channel Form Index (CFI): 1.539217094971299\n"
     ]
    },
    {
     "name": "stderr",
     "output_type": "stream",
     "text": [
      "C:\\Users\\huckr\\AppData\\Local\\Temp\\ipykernel_33072\\578621774.py:838: UserWarning: Column names longer than 10 characters will be truncated when saved to ESRI Shapefile.\n",
      "  channel_belt_cross_sections.to_file(os.path.join(output_folder, 'channel_belt_cross_sections.shp'))\n"
     ]
    },
    {
     "name": "stdout",
     "output_type": "stream",
     "text": [
      "Sinuosity: 1.7039556992943605\n",
      "Channel Count Index (CCI): 1.04\n",
      "Channel Form Index (CFI): 1.6384189416291928\n"
     ]
    },
    {
     "name": "stderr",
     "output_type": "stream",
     "text": [
      "C:\\Users\\huckr\\AppData\\Local\\Temp\\ipykernel_33072\\578621774.py:838: UserWarning: Column names longer than 10 characters will be truncated when saved to ESRI Shapefile.\n",
      "  channel_belt_cross_sections.to_file(os.path.join(output_folder, 'channel_belt_cross_sections.shp'))\n"
     ]
    },
    {
     "name": "stdout",
     "output_type": "stream",
     "text": [
      "Sinuosity: 1.7169674789854459\n",
      "Channel Count Index (CCI): 1.08\n",
      "Channel Form Index (CFI): 1.5897847027643017\n"
     ]
    },
    {
     "name": "stderr",
     "output_type": "stream",
     "text": [
      "C:\\Users\\huckr\\AppData\\Local\\Temp\\ipykernel_33072\\578621774.py:838: UserWarning: Column names longer than 10 characters will be truncated when saved to ESRI Shapefile.\n",
      "  channel_belt_cross_sections.to_file(os.path.join(output_folder, 'channel_belt_cross_sections.shp'))\n"
     ]
    },
    {
     "name": "stdout",
     "output_type": "stream",
     "text": [
      "Sinuosity: 1.7129101494309111\n",
      "Channel Count Index (CCI): 1.04\n",
      "Channel Form Index (CFI): 1.6470289898374144\n"
     ]
    },
    {
     "name": "stderr",
     "output_type": "stream",
     "text": [
      "C:\\Users\\huckr\\AppData\\Local\\Temp\\ipykernel_33072\\578621774.py:838: UserWarning: Column names longer than 10 characters will be truncated when saved to ESRI Shapefile.\n",
      "  channel_belt_cross_sections.to_file(os.path.join(output_folder, 'channel_belt_cross_sections.shp'))\n"
     ]
    },
    {
     "name": "stdout",
     "output_type": "stream",
     "text": [
      "Sinuosity: 1.7342061526794785\n",
      "Channel Count Index (CCI): 1.14\n",
      "Channel Form Index (CFI): 1.5212334672627006\n"
     ]
    },
    {
     "name": "stderr",
     "output_type": "stream",
     "text": [
      "C:\\Users\\huckr\\AppData\\Local\\Temp\\ipykernel_33072\\578621774.py:838: UserWarning: Column names longer than 10 characters will be truncated when saved to ESRI Shapefile.\n",
      "  channel_belt_cross_sections.to_file(os.path.join(output_folder, 'channel_belt_cross_sections.shp'))\n"
     ]
    },
    {
     "name": "stdout",
     "output_type": "stream",
     "text": [
      "Sinuosity: 1.762050458952377\n",
      "Channel Count Index (CCI): 1.2\n",
      "Channel Form Index (CFI): 1.4683753824603143\n"
     ]
    },
    {
     "name": "stderr",
     "output_type": "stream",
     "text": [
      "C:\\Users\\huckr\\AppData\\Local\\Temp\\ipykernel_33072\\578621774.py:838: UserWarning: Column names longer than 10 characters will be truncated when saved to ESRI Shapefile.\n",
      "  channel_belt_cross_sections.to_file(os.path.join(output_folder, 'channel_belt_cross_sections.shp'))\n"
     ]
    },
    {
     "name": "stdout",
     "output_type": "stream",
     "text": [
      "Sinuosity: 1.7659472843256696\n",
      "Channel Count Index (CCI): 1.2\n",
      "Channel Form Index (CFI): 1.4716227369380581\n"
     ]
    },
    {
     "name": "stderr",
     "output_type": "stream",
     "text": [
      "C:\\Users\\huckr\\AppData\\Local\\Temp\\ipykernel_33072\\578621774.py:838: UserWarning: Column names longer than 10 characters will be truncated when saved to ESRI Shapefile.\n",
      "  channel_belt_cross_sections.to_file(os.path.join(output_folder, 'channel_belt_cross_sections.shp'))\n"
     ]
    },
    {
     "name": "stdout",
     "output_type": "stream",
     "text": [
      "Sinuosity: 1.7696007606969437\n",
      "Channel Count Index (CCI): 1.16\n",
      "Channel Form Index (CFI): 1.5255178971525378\n"
     ]
    },
    {
     "name": "stderr",
     "output_type": "stream",
     "text": [
      "C:\\Users\\huckr\\AppData\\Local\\Temp\\ipykernel_33072\\578621774.py:838: UserWarning: Column names longer than 10 characters will be truncated when saved to ESRI Shapefile.\n",
      "  channel_belt_cross_sections.to_file(os.path.join(output_folder, 'channel_belt_cross_sections.shp'))\n"
     ]
    },
    {
     "name": "stdout",
     "output_type": "stream",
     "text": [
      "Sinuosity: 1.7852846741274826\n",
      "Channel Count Index (CCI): 1.14\n",
      "Channel Form Index (CFI): 1.5660391878311253\n"
     ]
    },
    {
     "name": "stderr",
     "output_type": "stream",
     "text": [
      "C:\\Users\\huckr\\AppData\\Local\\Temp\\ipykernel_33072\\578621774.py:838: UserWarning: Column names longer than 10 characters will be truncated when saved to ESRI Shapefile.\n",
      "  channel_belt_cross_sections.to_file(os.path.join(output_folder, 'channel_belt_cross_sections.shp'))\n"
     ]
    },
    {
     "name": "stdout",
     "output_type": "stream",
     "text": [
      "Sinuosity: 1.7504725306245994\n",
      "Channel Count Index (CCI): 1.04\n",
      "Channel Form Index (CFI): 1.6831466640621147\n"
     ]
    },
    {
     "name": "stderr",
     "output_type": "stream",
     "text": [
      "C:\\Users\\huckr\\AppData\\Local\\Temp\\ipykernel_33072\\578621774.py:838: UserWarning: Column names longer than 10 characters will be truncated when saved to ESRI Shapefile.\n",
      "  channel_belt_cross_sections.to_file(os.path.join(output_folder, 'channel_belt_cross_sections.shp'))\n"
     ]
    },
    {
     "name": "stdout",
     "output_type": "stream",
     "text": [
      "Sinuosity: 1.765994278187748\n",
      "Channel Count Index (CCI): 1.08\n",
      "Channel Form Index (CFI): 1.6351798872108776\n"
     ]
    },
    {
     "name": "stderr",
     "output_type": "stream",
     "text": [
      "C:\\Users\\huckr\\AppData\\Local\\Temp\\ipykernel_33072\\578621774.py:838: UserWarning: Column names longer than 10 characters will be truncated when saved to ESRI Shapefile.\n",
      "  channel_belt_cross_sections.to_file(os.path.join(output_folder, 'channel_belt_cross_sections.shp'))\n"
     ]
    },
    {
     "name": "stdout",
     "output_type": "stream",
     "text": [
      "Sinuosity: 1.7739520526754\n",
      "Channel Count Index (CCI): 1.1\n",
      "Channel Form Index (CFI): 1.6126836842503636\n"
     ]
    },
    {
     "name": "stderr",
     "output_type": "stream",
     "text": [
      "C:\\Users\\huckr\\AppData\\Local\\Temp\\ipykernel_33072\\578621774.py:838: UserWarning: Column names longer than 10 characters will be truncated when saved to ESRI Shapefile.\n",
      "  channel_belt_cross_sections.to_file(os.path.join(output_folder, 'channel_belt_cross_sections.shp'))\n"
     ]
    },
    {
     "name": "stdout",
     "output_type": "stream",
     "text": [
      "Sinuosity: 1.781980086609841\n",
      "Channel Count Index (CCI): 1.06\n",
      "Channel Form Index (CFI): 1.6811132892545668\n"
     ]
    },
    {
     "name": "stderr",
     "output_type": "stream",
     "text": [
      "C:\\Users\\huckr\\AppData\\Local\\Temp\\ipykernel_33072\\578621774.py:838: UserWarning: Column names longer than 10 characters will be truncated when saved to ESRI Shapefile.\n",
      "  channel_belt_cross_sections.to_file(os.path.join(output_folder, 'channel_belt_cross_sections.shp'))\n"
     ]
    },
    {
     "name": "stdout",
     "output_type": "stream",
     "text": [
      "Sinuosity: 1.772740262894136\n",
      "Channel Count Index (CCI): 1.06\n",
      "Channel Form Index (CFI): 1.67239647442843\n"
     ]
    },
    {
     "name": "stderr",
     "output_type": "stream",
     "text": [
      "C:\\Users\\huckr\\AppData\\Local\\Temp\\ipykernel_33072\\578621774.py:838: UserWarning: Column names longer than 10 characters will be truncated when saved to ESRI Shapefile.\n",
      "  channel_belt_cross_sections.to_file(os.path.join(output_folder, 'channel_belt_cross_sections.shp'))\n"
     ]
    },
    {
     "name": "stdout",
     "output_type": "stream",
     "text": [
      "Sinuosity: 1.786515482137957\n",
      "Channel Count Index (CCI): 1.1\n",
      "Channel Form Index (CFI): 1.624104983761779\n"
     ]
    },
    {
     "name": "stderr",
     "output_type": "stream",
     "text": [
      "C:\\Users\\huckr\\AppData\\Local\\Temp\\ipykernel_33072\\578621774.py:838: UserWarning: Column names longer than 10 characters will be truncated when saved to ESRI Shapefile.\n",
      "  channel_belt_cross_sections.to_file(os.path.join(output_folder, 'channel_belt_cross_sections.shp'))\n"
     ]
    },
    {
     "name": "stdout",
     "output_type": "stream",
     "text": [
      "Sinuosity: 1.8010717599225878\n",
      "Channel Count Index (CCI): 1.16\n",
      "Channel Form Index (CFI): 1.5526480688987827\n"
     ]
    },
    {
     "name": "stderr",
     "output_type": "stream",
     "text": [
      "C:\\Users\\huckr\\AppData\\Local\\Temp\\ipykernel_33072\\578621774.py:838: UserWarning: Column names longer than 10 characters will be truncated when saved to ESRI Shapefile.\n",
      "  channel_belt_cross_sections.to_file(os.path.join(output_folder, 'channel_belt_cross_sections.shp'))\n"
     ]
    },
    {
     "name": "stdout",
     "output_type": "stream",
     "text": [
      "Sinuosity: 1.7810309674870108\n",
      "Channel Count Index (CCI): 1.14\n",
      "Channel Form Index (CFI): 1.5623078662166763\n"
     ]
    },
    {
     "name": "stderr",
     "output_type": "stream",
     "text": [
      "C:\\Users\\huckr\\AppData\\Local\\Temp\\ipykernel_33072\\578621774.py:838: UserWarning: Column names longer than 10 characters will be truncated when saved to ESRI Shapefile.\n",
      "  channel_belt_cross_sections.to_file(os.path.join(output_folder, 'channel_belt_cross_sections.shp'))\n"
     ]
    },
    {
     "name": "stdout",
     "output_type": "stream",
     "text": [
      "Sinuosity: 1.7983117190251598\n",
      "Channel Count Index (CCI): 1.16\n",
      "Channel Form Index (CFI): 1.5502687232975516\n"
     ]
    },
    {
     "name": "stderr",
     "output_type": "stream",
     "text": [
      "C:\\Users\\huckr\\AppData\\Local\\Temp\\ipykernel_33072\\578621774.py:838: UserWarning: Column names longer than 10 characters will be truncated when saved to ESRI Shapefile.\n",
      "  channel_belt_cross_sections.to_file(os.path.join(output_folder, 'channel_belt_cross_sections.shp'))\n"
     ]
    },
    {
     "name": "stdout",
     "output_type": "stream",
     "text": [
      "Sinuosity: 1.7850716052271218\n",
      "Channel Count Index (CCI): 1.06\n",
      "Channel Form Index (CFI): 1.6840298162520015\n"
     ]
    },
    {
     "name": "stderr",
     "output_type": "stream",
     "text": [
      "C:\\Users\\huckr\\AppData\\Local\\Temp\\ipykernel_33072\\578621774.py:838: UserWarning: Column names longer than 10 characters will be truncated when saved to ESRI Shapefile.\n",
      "  channel_belt_cross_sections.to_file(os.path.join(output_folder, 'channel_belt_cross_sections.shp'))\n"
     ]
    },
    {
     "name": "stdout",
     "output_type": "stream",
     "text": [
      "Sinuosity: 1.7859450378412496\n",
      "Channel Count Index (CCI): 1.08\n",
      "Channel Form Index (CFI): 1.6536528128159718\n"
     ]
    },
    {
     "name": "stderr",
     "output_type": "stream",
     "text": [
      "C:\\Users\\huckr\\AppData\\Local\\Temp\\ipykernel_33072\\578621774.py:838: UserWarning: Column names longer than 10 characters will be truncated when saved to ESRI Shapefile.\n",
      "  channel_belt_cross_sections.to_file(os.path.join(output_folder, 'channel_belt_cross_sections.shp'))\n"
     ]
    },
    {
     "name": "stdout",
     "output_type": "stream",
     "text": [
      "Sinuosity: 1.803586465015583\n",
      "Channel Count Index (CCI): 1.1\n",
      "Channel Form Index (CFI): 1.6396240591050755\n"
     ]
    },
    {
     "name": "stderr",
     "output_type": "stream",
     "text": [
      "C:\\Users\\huckr\\AppData\\Local\\Temp\\ipykernel_33072\\578621774.py:838: UserWarning: Column names longer than 10 characters will be truncated when saved to ESRI Shapefile.\n",
      "  channel_belt_cross_sections.to_file(os.path.join(output_folder, 'channel_belt_cross_sections.shp'))\n"
     ]
    },
    {
     "name": "stdout",
     "output_type": "stream",
     "text": [
      "Sinuosity: 1.7891835422759081\n",
      "Channel Count Index (CCI): 1.08\n",
      "Channel Form Index (CFI): 1.6566514280332483\n"
     ]
    },
    {
     "name": "stderr",
     "output_type": "stream",
     "text": [
      "C:\\Users\\huckr\\AppData\\Local\\Temp\\ipykernel_33072\\578621774.py:838: UserWarning: Column names longer than 10 characters will be truncated when saved to ESRI Shapefile.\n",
      "  channel_belt_cross_sections.to_file(os.path.join(output_folder, 'channel_belt_cross_sections.shp'))\n"
     ]
    },
    {
     "name": "stdout",
     "output_type": "stream",
     "text": [
      "Sinuosity: 1.775787611993803\n",
      "Channel Count Index (CCI): 1.04\n",
      "Channel Form Index (CFI): 1.7074880884555796\n"
     ]
    },
    {
     "name": "stderr",
     "output_type": "stream",
     "text": [
      "C:\\Users\\huckr\\AppData\\Local\\Temp\\ipykernel_33072\\578621774.py:838: UserWarning: Column names longer than 10 characters will be truncated when saved to ESRI Shapefile.\n",
      "  channel_belt_cross_sections.to_file(os.path.join(output_folder, 'channel_belt_cross_sections.shp'))\n"
     ]
    },
    {
     "name": "stdout",
     "output_type": "stream",
     "text": [
      "Sinuosity: 1.7743317492816468\n",
      "Channel Count Index (CCI): 1.04\n",
      "Channel Form Index (CFI): 1.7060882204631218\n"
     ]
    },
    {
     "name": "stderr",
     "output_type": "stream",
     "text": [
      "C:\\Users\\huckr\\AppData\\Local\\Temp\\ipykernel_33072\\578621774.py:838: UserWarning: Column names longer than 10 characters will be truncated when saved to ESRI Shapefile.\n",
      "  channel_belt_cross_sections.to_file(os.path.join(output_folder, 'channel_belt_cross_sections.shp'))\n"
     ]
    },
    {
     "name": "stdout",
     "output_type": "stream",
     "text": [
      "Sinuosity: 1.7975284474953035\n",
      "Channel Count Index (CCI): 1.22\n",
      "Channel Form Index (CFI): 1.4733839733568062\n"
     ]
    },
    {
     "name": "stderr",
     "output_type": "stream",
     "text": [
      "C:\\Users\\huckr\\AppData\\Local\\Temp\\ipykernel_33072\\578621774.py:838: UserWarning: Column names longer than 10 characters will be truncated when saved to ESRI Shapefile.\n",
      "  channel_belt_cross_sections.to_file(os.path.join(output_folder, 'channel_belt_cross_sections.shp'))\n"
     ]
    },
    {
     "name": "stdout",
     "output_type": "stream",
     "text": [
      "Sinuosity: 1.808043308193549\n",
      "Channel Count Index (CCI): 1.12\n",
      "Channel Form Index (CFI): 1.6143243823156685\n"
     ]
    },
    {
     "name": "stderr",
     "output_type": "stream",
     "text": [
      "C:\\Users\\huckr\\AppData\\Local\\Temp\\ipykernel_33072\\578621774.py:838: UserWarning: Column names longer than 10 characters will be truncated when saved to ESRI Shapefile.\n",
      "  channel_belt_cross_sections.to_file(os.path.join(output_folder, 'channel_belt_cross_sections.shp'))\n"
     ]
    },
    {
     "name": "stdout",
     "output_type": "stream",
     "text": [
      "Sinuosity: 1.8077021694605766\n",
      "Channel Count Index (CCI): 1.14\n",
      "Channel Form Index (CFI): 1.5857036574215586\n"
     ]
    },
    {
     "name": "stderr",
     "output_type": "stream",
     "text": [
      "C:\\Users\\huckr\\AppData\\Local\\Temp\\ipykernel_33072\\578621774.py:838: UserWarning: Column names longer than 10 characters will be truncated when saved to ESRI Shapefile.\n",
      "  channel_belt_cross_sections.to_file(os.path.join(output_folder, 'channel_belt_cross_sections.shp'))\n"
     ]
    },
    {
     "name": "stdout",
     "output_type": "stream",
     "text": [
      "Sinuosity: 1.7825663143974546\n",
      "Channel Count Index (CCI): 1.1\n",
      "Channel Form Index (CFI): 1.6205148312704132\n"
     ]
    },
    {
     "name": "stderr",
     "output_type": "stream",
     "text": [
      "C:\\Users\\huckr\\AppData\\Local\\Temp\\ipykernel_33072\\578621774.py:838: UserWarning: Column names longer than 10 characters will be truncated when saved to ESRI Shapefile.\n",
      "  channel_belt_cross_sections.to_file(os.path.join(output_folder, 'channel_belt_cross_sections.shp'))\n"
     ]
    },
    {
     "name": "stdout",
     "output_type": "stream",
     "text": [
      "Sinuosity: 1.7859162383917264\n",
      "Channel Count Index (CCI): 1.16\n",
      "Channel Form Index (CFI): 1.5395829641307988\n"
     ]
    },
    {
     "name": "stderr",
     "output_type": "stream",
     "text": [
      "C:\\Users\\huckr\\AppData\\Local\\Temp\\ipykernel_33072\\578621774.py:838: UserWarning: Column names longer than 10 characters will be truncated when saved to ESRI Shapefile.\n",
      "  channel_belt_cross_sections.to_file(os.path.join(output_folder, 'channel_belt_cross_sections.shp'))\n"
     ]
    },
    {
     "name": "stdout",
     "output_type": "stream",
     "text": [
      "Sinuosity: 1.8004668217050903\n",
      "Channel Count Index (CCI): 1.14\n",
      "Channel Form Index (CFI): 1.579356861144816\n"
     ]
    },
    {
     "name": "stderr",
     "output_type": "stream",
     "text": [
      "C:\\Users\\huckr\\AppData\\Local\\Temp\\ipykernel_33072\\578621774.py:838: UserWarning: Column names longer than 10 characters will be truncated when saved to ESRI Shapefile.\n",
      "  channel_belt_cross_sections.to_file(os.path.join(output_folder, 'channel_belt_cross_sections.shp'))\n"
     ]
    },
    {
     "name": "stdout",
     "output_type": "stream",
     "text": [
      "Sinuosity: 1.797259660964538\n",
      "Channel Count Index (CCI): 1.22\n",
      "Channel Form Index (CFI): 1.4731636565283097\n"
     ]
    },
    {
     "name": "stderr",
     "output_type": "stream",
     "text": [
      "C:\\Users\\huckr\\AppData\\Local\\Temp\\ipykernel_33072\\578621774.py:838: UserWarning: Column names longer than 10 characters will be truncated when saved to ESRI Shapefile.\n",
      "  channel_belt_cross_sections.to_file(os.path.join(output_folder, 'channel_belt_cross_sections.shp'))\n"
     ]
    },
    {
     "name": "stdout",
     "output_type": "stream",
     "text": [
      "Sinuosity: 1.7829911216422303\n",
      "Channel Count Index (CCI): 1.12\n",
      "Channel Form Index (CFI): 1.591956358609134\n"
     ]
    },
    {
     "name": "stderr",
     "output_type": "stream",
     "text": [
      "C:\\Users\\huckr\\AppData\\Local\\Temp\\ipykernel_33072\\578621774.py:838: UserWarning: Column names longer than 10 characters will be truncated when saved to ESRI Shapefile.\n",
      "  channel_belt_cross_sections.to_file(os.path.join(output_folder, 'channel_belt_cross_sections.shp'))\n"
     ]
    },
    {
     "name": "stdout",
     "output_type": "stream",
     "text": [
      "Sinuosity: 2.063234573315681\n",
      "Channel Count Index (CCI): 1.24\n",
      "Channel Form Index (CFI): 1.66389884944813\n"
     ]
    },
    {
     "name": "stderr",
     "output_type": "stream",
     "text": [
      "C:\\Users\\huckr\\AppData\\Local\\Temp\\ipykernel_33072\\578621774.py:838: UserWarning: Column names longer than 10 characters will be truncated when saved to ESRI Shapefile.\n",
      "  channel_belt_cross_sections.to_file(os.path.join(output_folder, 'channel_belt_cross_sections.shp'))\n"
     ]
    },
    {
     "name": "stdout",
     "output_type": "stream",
     "text": [
      "Sinuosity: 2.2887945882951\n",
      "Channel Count Index (CCI): 1.14\n",
      "Channel Form Index (CFI): 2.007714551136053\n"
     ]
    },
    {
     "name": "stderr",
     "output_type": "stream",
     "text": [
      "C:\\Users\\huckr\\AppData\\Local\\Temp\\ipykernel_33072\\578621774.py:838: UserWarning: Column names longer than 10 characters will be truncated when saved to ESRI Shapefile.\n",
      "  channel_belt_cross_sections.to_file(os.path.join(output_folder, 'channel_belt_cross_sections.shp'))\n"
     ]
    },
    {
     "name": "stdout",
     "output_type": "stream",
     "text": [
      "Sinuosity: 2.273310750438333\n",
      "Channel Count Index (CCI): 1.14\n",
      "Channel Form Index (CFI): 1.9941322372266082\n"
     ]
    },
    {
     "name": "stderr",
     "output_type": "stream",
     "text": [
      "C:\\Users\\huckr\\AppData\\Local\\Temp\\ipykernel_33072\\578621774.py:838: UserWarning: Column names longer than 10 characters will be truncated when saved to ESRI Shapefile.\n",
      "  channel_belt_cross_sections.to_file(os.path.join(output_folder, 'channel_belt_cross_sections.shp'))\n"
     ]
    },
    {
     "name": "stdout",
     "output_type": "stream",
     "text": [
      "Sinuosity: 2.2229650736424853\n",
      "Channel Count Index (CCI): 1.22\n",
      "Channel Form Index (CFI): 1.8221025193790863\n"
     ]
    },
    {
     "name": "stderr",
     "output_type": "stream",
     "text": [
      "C:\\Users\\huckr\\AppData\\Local\\Temp\\ipykernel_33072\\578621774.py:838: UserWarning: Column names longer than 10 characters will be truncated when saved to ESRI Shapefile.\n",
      "  channel_belt_cross_sections.to_file(os.path.join(output_folder, 'channel_belt_cross_sections.shp'))\n"
     ]
    },
    {
     "name": "stdout",
     "output_type": "stream",
     "text": [
      "Sinuosity: 2.220094937621249\n",
      "Channel Count Index (CCI): 1.26\n",
      "Channel Form Index (CFI): 1.7619801092232135\n"
     ]
    },
    {
     "name": "stderr",
     "output_type": "stream",
     "text": [
      "C:\\Users\\huckr\\AppData\\Local\\Temp\\ipykernel_33072\\578621774.py:838: UserWarning: Column names longer than 10 characters will be truncated when saved to ESRI Shapefile.\n",
      "  channel_belt_cross_sections.to_file(os.path.join(output_folder, 'channel_belt_cross_sections.shp'))\n"
     ]
    },
    {
     "name": "stdout",
     "output_type": "stream",
     "text": [
      "Sinuosity: 2.247714781453521\n",
      "Channel Count Index (CCI): 1.18\n",
      "Channel Form Index (CFI): 1.904843035130103\n"
     ]
    },
    {
     "name": "stderr",
     "output_type": "stream",
     "text": [
      "C:\\Users\\huckr\\AppData\\Local\\Temp\\ipykernel_33072\\578621774.py:838: UserWarning: Column names longer than 10 characters will be truncated when saved to ESRI Shapefile.\n",
      "  channel_belt_cross_sections.to_file(os.path.join(output_folder, 'channel_belt_cross_sections.shp'))\n"
     ]
    },
    {
     "name": "stdout",
     "output_type": "stream",
     "text": [
      "Sinuosity: 2.2239770814232545\n",
      "Channel Count Index (CCI): 1.1\n",
      "Channel Form Index (CFI): 2.021797346748413\n"
     ]
    },
    {
     "name": "stderr",
     "output_type": "stream",
     "text": [
      "C:\\Users\\huckr\\AppData\\Local\\Temp\\ipykernel_33072\\578621774.py:838: UserWarning: Column names longer than 10 characters will be truncated when saved to ESRI Shapefile.\n",
      "  channel_belt_cross_sections.to_file(os.path.join(output_folder, 'channel_belt_cross_sections.shp'))\n"
     ]
    },
    {
     "name": "stdout",
     "output_type": "stream",
     "text": [
      "Sinuosity: 2.21707449471187\n",
      "Channel Count Index (CCI): 1.12\n",
      "Channel Form Index (CFI): 1.9795307988498836\n"
     ]
    },
    {
     "name": "stderr",
     "output_type": "stream",
     "text": [
      "C:\\Users\\huckr\\AppData\\Local\\Temp\\ipykernel_33072\\578621774.py:838: UserWarning: Column names longer than 10 characters will be truncated when saved to ESRI Shapefile.\n",
      "  channel_belt_cross_sections.to_file(os.path.join(output_folder, 'channel_belt_cross_sections.shp'))\n"
     ]
    },
    {
     "name": "stdout",
     "output_type": "stream",
     "text": [
      "Sinuosity: 2.271762471846688\n",
      "Channel Count Index (CCI): 1.32\n",
      "Channel Form Index (CFI): 1.72103217564143\n"
     ]
    },
    {
     "name": "stderr",
     "output_type": "stream",
     "text": [
      "C:\\Users\\huckr\\AppData\\Local\\Temp\\ipykernel_33072\\578621774.py:838: UserWarning: Column names longer than 10 characters will be truncated when saved to ESRI Shapefile.\n",
      "  channel_belt_cross_sections.to_file(os.path.join(output_folder, 'channel_belt_cross_sections.shp'))\n"
     ]
    },
    {
     "name": "stdout",
     "output_type": "stream",
     "text": [
      "Sinuosity: 2.25638176147272\n",
      "Channel Count Index (CCI): 1.16\n",
      "Channel Form Index (CFI): 1.9451566909247588\n"
     ]
    },
    {
     "name": "stderr",
     "output_type": "stream",
     "text": [
      "C:\\Users\\huckr\\AppData\\Local\\Temp\\ipykernel_33072\\578621774.py:838: UserWarning: Column names longer than 10 characters will be truncated when saved to ESRI Shapefile.\n",
      "  channel_belt_cross_sections.to_file(os.path.join(output_folder, 'channel_belt_cross_sections.shp'))\n"
     ]
    },
    {
     "name": "stdout",
     "output_type": "stream",
     "text": [
      "Sinuosity: 2.2584495937605773\n",
      "Channel Count Index (CCI): 1.14\n",
      "Channel Form Index (CFI): 1.9810961348776996\n"
     ]
    },
    {
     "name": "stderr",
     "output_type": "stream",
     "text": [
      "C:\\Users\\huckr\\AppData\\Local\\Temp\\ipykernel_33072\\578621774.py:838: UserWarning: Column names longer than 10 characters will be truncated when saved to ESRI Shapefile.\n",
      "  channel_belt_cross_sections.to_file(os.path.join(output_folder, 'channel_belt_cross_sections.shp'))\n"
     ]
    },
    {
     "name": "stdout",
     "output_type": "stream",
     "text": [
      "Sinuosity: 2.2591408233815105\n",
      "Channel Count Index (CCI): 1.06\n",
      "Channel Form Index (CFI): 2.131264927718406\n"
     ]
    },
    {
     "name": "stderr",
     "output_type": "stream",
     "text": [
      "C:\\Users\\huckr\\AppData\\Local\\Temp\\ipykernel_33072\\578621774.py:838: UserWarning: Column names longer than 10 characters will be truncated when saved to ESRI Shapefile.\n",
      "  channel_belt_cross_sections.to_file(os.path.join(output_folder, 'channel_belt_cross_sections.shp'))\n"
     ]
    },
    {
     "name": "stdout",
     "output_type": "stream",
     "text": [
      "Sinuosity: 2.2869102879593544\n",
      "Channel Count Index (CCI): 1.2\n",
      "Channel Form Index (CFI): 1.905758573299462\n"
     ]
    },
    {
     "name": "stderr",
     "output_type": "stream",
     "text": [
      "C:\\Users\\huckr\\AppData\\Local\\Temp\\ipykernel_33072\\578621774.py:838: UserWarning: Column names longer than 10 characters will be truncated when saved to ESRI Shapefile.\n",
      "  channel_belt_cross_sections.to_file(os.path.join(output_folder, 'channel_belt_cross_sections.shp'))\n"
     ]
    },
    {
     "name": "stdout",
     "output_type": "stream",
     "text": [
      "Sinuosity: 2.319790192022763\n",
      "Channel Count Index (CCI): 1.24\n",
      "Channel Form Index (CFI): 1.870798541953841\n"
     ]
    },
    {
     "name": "stderr",
     "output_type": "stream",
     "text": [
      "C:\\Users\\huckr\\AppData\\Local\\Temp\\ipykernel_33072\\578621774.py:838: UserWarning: Column names longer than 10 characters will be truncated when saved to ESRI Shapefile.\n",
      "  channel_belt_cross_sections.to_file(os.path.join(output_folder, 'channel_belt_cross_sections.shp'))\n"
     ]
    },
    {
     "name": "stdout",
     "output_type": "stream",
     "text": [
      "Sinuosity: 2.3276345829409832\n",
      "Channel Count Index (CCI): 1.2\n",
      "Channel Form Index (CFI): 1.9396954857841529\n"
     ]
    },
    {
     "name": "stderr",
     "output_type": "stream",
     "text": [
      "C:\\Users\\huckr\\AppData\\Local\\Temp\\ipykernel_33072\\578621774.py:838: UserWarning: Column names longer than 10 characters will be truncated when saved to ESRI Shapefile.\n",
      "  channel_belt_cross_sections.to_file(os.path.join(output_folder, 'channel_belt_cross_sections.shp'))\n"
     ]
    },
    {
     "name": "stdout",
     "output_type": "stream",
     "text": [
      "Sinuosity: 2.32447892653669\n",
      "Channel Count Index (CCI): 1.2\n",
      "Channel Form Index (CFI): 1.9370657721139084\n"
     ]
    },
    {
     "name": "stderr",
     "output_type": "stream",
     "text": [
      "C:\\Users\\huckr\\AppData\\Local\\Temp\\ipykernel_33072\\578621774.py:838: UserWarning: Column names longer than 10 characters will be truncated when saved to ESRI Shapefile.\n",
      "  channel_belt_cross_sections.to_file(os.path.join(output_folder, 'channel_belt_cross_sections.shp'))\n"
     ]
    },
    {
     "name": "stdout",
     "output_type": "stream",
     "text": [
      "Sinuosity: 2.3618968492803525\n",
      "Channel Count Index (CCI): 1.2\n",
      "Channel Form Index (CFI): 1.9682473744002937\n"
     ]
    },
    {
     "name": "stderr",
     "output_type": "stream",
     "text": [
      "C:\\Users\\huckr\\AppData\\Local\\Temp\\ipykernel_33072\\578621774.py:838: UserWarning: Column names longer than 10 characters will be truncated when saved to ESRI Shapefile.\n",
      "  channel_belt_cross_sections.to_file(os.path.join(output_folder, 'channel_belt_cross_sections.shp'))\n"
     ]
    },
    {
     "name": "stdout",
     "output_type": "stream",
     "text": [
      "Sinuosity: 2.310058652345267\n",
      "Channel Count Index (CCI): 1.1\n",
      "Channel Form Index (CFI): 2.100053320313879\n"
     ]
    },
    {
     "name": "stderr",
     "output_type": "stream",
     "text": [
      "C:\\Users\\huckr\\AppData\\Local\\Temp\\ipykernel_33072\\578621774.py:838: UserWarning: Column names longer than 10 characters will be truncated when saved to ESRI Shapefile.\n",
      "  channel_belt_cross_sections.to_file(os.path.join(output_folder, 'channel_belt_cross_sections.shp'))\n"
     ]
    },
    {
     "name": "stdout",
     "output_type": "stream",
     "text": [
      "Sinuosity: 2.3196396705015654\n",
      "Channel Count Index (CCI): 1.12\n",
      "Channel Form Index (CFI): 2.0711068486621116\n"
     ]
    },
    {
     "name": "stderr",
     "output_type": "stream",
     "text": [
      "C:\\Users\\huckr\\AppData\\Local\\Temp\\ipykernel_33072\\578621774.py:838: UserWarning: Column names longer than 10 characters will be truncated when saved to ESRI Shapefile.\n",
      "  channel_belt_cross_sections.to_file(os.path.join(output_folder, 'channel_belt_cross_sections.shp'))\n"
     ]
    },
    {
     "name": "stdout",
     "output_type": "stream",
     "text": [
      "Sinuosity: 2.3215148304707394\n",
      "Channel Count Index (CCI): 1.18\n",
      "Channel Form Index (CFI): 1.9673854495514742\n"
     ]
    },
    {
     "name": "stderr",
     "output_type": "stream",
     "text": [
      "C:\\Users\\huckr\\AppData\\Local\\Temp\\ipykernel_33072\\578621774.py:838: UserWarning: Column names longer than 10 characters will be truncated when saved to ESRI Shapefile.\n",
      "  channel_belt_cross_sections.to_file(os.path.join(output_folder, 'channel_belt_cross_sections.shp'))\n"
     ]
    },
    {
     "name": "stdout",
     "output_type": "stream",
     "text": [
      "Sinuosity: 2.3477029580142497\n",
      "Channel Count Index (CCI): 1.18\n",
      "Channel Form Index (CFI): 1.9895787779781777\n"
     ]
    },
    {
     "name": "stderr",
     "output_type": "stream",
     "text": [
      "C:\\Users\\huckr\\AppData\\Local\\Temp\\ipykernel_33072\\578621774.py:838: UserWarning: Column names longer than 10 characters will be truncated when saved to ESRI Shapefile.\n",
      "  channel_belt_cross_sections.to_file(os.path.join(output_folder, 'channel_belt_cross_sections.shp'))\n"
     ]
    },
    {
     "name": "stdout",
     "output_type": "stream",
     "text": [
      "Sinuosity: 2.332412157209557\n",
      "Channel Count Index (CCI): 1.24\n",
      "Channel Form Index (CFI): 1.8809775461367395\n"
     ]
    },
    {
     "name": "stderr",
     "output_type": "stream",
     "text": [
      "C:\\Users\\huckr\\AppData\\Local\\Temp\\ipykernel_33072\\578621774.py:838: UserWarning: Column names longer than 10 characters will be truncated when saved to ESRI Shapefile.\n",
      "  channel_belt_cross_sections.to_file(os.path.join(output_folder, 'channel_belt_cross_sections.shp'))\n"
     ]
    },
    {
     "name": "stdout",
     "output_type": "stream",
     "text": [
      "Sinuosity: 2.387545539644379\n",
      "Channel Count Index (CCI): 1.16\n",
      "Channel Form Index (CFI): 2.058228913486534\n"
     ]
    },
    {
     "name": "stderr",
     "output_type": "stream",
     "text": [
      "C:\\Users\\huckr\\AppData\\Local\\Temp\\ipykernel_33072\\578621774.py:838: UserWarning: Column names longer than 10 characters will be truncated when saved to ESRI Shapefile.\n",
      "  channel_belt_cross_sections.to_file(os.path.join(output_folder, 'channel_belt_cross_sections.shp'))\n"
     ]
    },
    {
     "name": "stdout",
     "output_type": "stream",
     "text": [
      "Sinuosity: 2.389427096143783\n",
      "Channel Count Index (CCI): 1.3\n",
      "Channel Form Index (CFI): 1.8380208431875253\n"
     ]
    },
    {
     "name": "stderr",
     "output_type": "stream",
     "text": [
      "C:\\Users\\huckr\\AppData\\Local\\Temp\\ipykernel_33072\\578621774.py:838: UserWarning: Column names longer than 10 characters will be truncated when saved to ESRI Shapefile.\n",
      "  channel_belt_cross_sections.to_file(os.path.join(output_folder, 'channel_belt_cross_sections.shp'))\n"
     ]
    },
    {
     "name": "stdout",
     "output_type": "stream",
     "text": [
      "Sinuosity: 2.3555673662455234\n",
      "Channel Count Index (CCI): 1.16\n",
      "Channel Form Index (CFI): 2.030661522625451\n"
     ]
    },
    {
     "name": "stderr",
     "output_type": "stream",
     "text": [
      "C:\\Users\\huckr\\AppData\\Local\\Temp\\ipykernel_33072\\578621774.py:838: UserWarning: Column names longer than 10 characters will be truncated when saved to ESRI Shapefile.\n",
      "  channel_belt_cross_sections.to_file(os.path.join(output_folder, 'channel_belt_cross_sections.shp'))\n"
     ]
    },
    {
     "name": "stdout",
     "output_type": "stream",
     "text": [
      "Sinuosity: 2.3681941341373465\n",
      "Channel Count Index (CCI): 1.24\n",
      "Channel Form Index (CFI): 1.9098339791430214\n"
     ]
    },
    {
     "name": "stderr",
     "output_type": "stream",
     "text": [
      "C:\\Users\\huckr\\AppData\\Local\\Temp\\ipykernel_33072\\578621774.py:838: UserWarning: Column names longer than 10 characters will be truncated when saved to ESRI Shapefile.\n",
      "  channel_belt_cross_sections.to_file(os.path.join(output_folder, 'channel_belt_cross_sections.shp'))\n"
     ]
    },
    {
     "name": "stdout",
     "output_type": "stream",
     "text": [
      "Sinuosity: 2.3819550857166756\n",
      "Channel Count Index (CCI): 1.14\n",
      "Channel Form Index (CFI): 2.0894342857163823\n"
     ]
    },
    {
     "name": "stderr",
     "output_type": "stream",
     "text": [
      "C:\\Users\\huckr\\AppData\\Local\\Temp\\ipykernel_33072\\578621774.py:838: UserWarning: Column names longer than 10 characters will be truncated when saved to ESRI Shapefile.\n",
      "  channel_belt_cross_sections.to_file(os.path.join(output_folder, 'channel_belt_cross_sections.shp'))\n"
     ]
    },
    {
     "name": "stdout",
     "output_type": "stream",
     "text": [
      "Sinuosity: 2.3712594868306325\n",
      "Channel Count Index (CCI): 1.2\n",
      "Channel Form Index (CFI): 1.9760495723588605\n"
     ]
    },
    {
     "name": "stderr",
     "output_type": "stream",
     "text": [
      "C:\\Users\\huckr\\AppData\\Local\\Temp\\ipykernel_33072\\578621774.py:838: UserWarning: Column names longer than 10 characters will be truncated when saved to ESRI Shapefile.\n",
      "  channel_belt_cross_sections.to_file(os.path.join(output_folder, 'channel_belt_cross_sections.shp'))\n"
     ]
    },
    {
     "name": "stdout",
     "output_type": "stream",
     "text": [
      "Sinuosity: 2.3928671454086516\n",
      "Channel Count Index (CCI): 1.14\n",
      "Channel Form Index (CFI): 2.0990062679023263\n"
     ]
    },
    {
     "name": "stderr",
     "output_type": "stream",
     "text": [
      "C:\\Users\\huckr\\AppData\\Local\\Temp\\ipykernel_33072\\578621774.py:838: UserWarning: Column names longer than 10 characters will be truncated when saved to ESRI Shapefile.\n",
      "  channel_belt_cross_sections.to_file(os.path.join(output_folder, 'channel_belt_cross_sections.shp'))\n"
     ]
    },
    {
     "name": "stdout",
     "output_type": "stream",
     "text": [
      "Sinuosity: 2.3880529293742594\n",
      "Channel Count Index (CCI): 1.14\n",
      "Channel Form Index (CFI): 2.0947832713809293\n"
     ]
    },
    {
     "name": "stderr",
     "output_type": "stream",
     "text": [
      "C:\\Users\\huckr\\AppData\\Local\\Temp\\ipykernel_33072\\578621774.py:838: UserWarning: Column names longer than 10 characters will be truncated when saved to ESRI Shapefile.\n",
      "  channel_belt_cross_sections.to_file(os.path.join(output_folder, 'channel_belt_cross_sections.shp'))\n"
     ]
    },
    {
     "name": "stdout",
     "output_type": "stream",
     "text": [
      "Sinuosity: 2.3368100292971183\n",
      "Channel Count Index (CCI): 1.2\n",
      "Channel Form Index (CFI): 1.947341691080932\n"
     ]
    },
    {
     "name": "stderr",
     "output_type": "stream",
     "text": [
      "C:\\Users\\huckr\\AppData\\Local\\Temp\\ipykernel_33072\\578621774.py:838: UserWarning: Column names longer than 10 characters will be truncated when saved to ESRI Shapefile.\n",
      "  channel_belt_cross_sections.to_file(os.path.join(output_folder, 'channel_belt_cross_sections.shp'))\n"
     ]
    },
    {
     "name": "stdout",
     "output_type": "stream",
     "text": [
      "Sinuosity: 2.338075842924694\n",
      "Channel Count Index (CCI): 1.12\n",
      "Channel Form Index (CFI): 2.087567716897048\n"
     ]
    },
    {
     "name": "stderr",
     "output_type": "stream",
     "text": [
      "C:\\Users\\huckr\\AppData\\Local\\Temp\\ipykernel_33072\\578621774.py:838: UserWarning: Column names longer than 10 characters will be truncated when saved to ESRI Shapefile.\n",
      "  channel_belt_cross_sections.to_file(os.path.join(output_folder, 'channel_belt_cross_sections.shp'))\n"
     ]
    },
    {
     "name": "stdout",
     "output_type": "stream",
     "text": [
      "Sinuosity: 2.3677983814036168\n",
      "Channel Count Index (CCI): 1.28\n",
      "Channel Form Index (CFI): 1.8498424854715756\n"
     ]
    },
    {
     "name": "stderr",
     "output_type": "stream",
     "text": [
      "C:\\Users\\huckr\\AppData\\Local\\Temp\\ipykernel_33072\\578621774.py:838: UserWarning: Column names longer than 10 characters will be truncated when saved to ESRI Shapefile.\n",
      "  channel_belt_cross_sections.to_file(os.path.join(output_folder, 'channel_belt_cross_sections.shp'))\n"
     ]
    },
    {
     "name": "stdout",
     "output_type": "stream",
     "text": [
      "Sinuosity: 2.3561878908228424\n",
      "Channel Count Index (CCI): 1.18\n",
      "Channel Form Index (CFI): 1.996769399002409\n"
     ]
    },
    {
     "name": "stderr",
     "output_type": "stream",
     "text": [
      "C:\\Users\\huckr\\AppData\\Local\\Temp\\ipykernel_33072\\578621774.py:838: UserWarning: Column names longer than 10 characters will be truncated when saved to ESRI Shapefile.\n",
      "  channel_belt_cross_sections.to_file(os.path.join(output_folder, 'channel_belt_cross_sections.shp'))\n"
     ]
    },
    {
     "name": "stdout",
     "output_type": "stream",
     "text": [
      "Sinuosity: 2.3506432600419247\n",
      "Channel Count Index (CCI): 1.14\n",
      "Channel Form Index (CFI): 2.061967771966601\n"
     ]
    },
    {
     "name": "stderr",
     "output_type": "stream",
     "text": [
      "C:\\Users\\huckr\\AppData\\Local\\Temp\\ipykernel_33072\\578621774.py:838: UserWarning: Column names longer than 10 characters will be truncated when saved to ESRI Shapefile.\n",
      "  channel_belt_cross_sections.to_file(os.path.join(output_folder, 'channel_belt_cross_sections.shp'))\n"
     ]
    },
    {
     "name": "stdout",
     "output_type": "stream",
     "text": [
      "Sinuosity: 2.364563632234635\n",
      "Channel Count Index (CCI): 1.16\n",
      "Channel Form Index (CFI): 2.0384169243402024\n"
     ]
    },
    {
     "name": "stderr",
     "output_type": "stream",
     "text": [
      "C:\\Users\\huckr\\AppData\\Local\\Temp\\ipykernel_33072\\578621774.py:838: UserWarning: Column names longer than 10 characters will be truncated when saved to ESRI Shapefile.\n",
      "  channel_belt_cross_sections.to_file(os.path.join(output_folder, 'channel_belt_cross_sections.shp'))\n"
     ]
    },
    {
     "name": "stdout",
     "output_type": "stream",
     "text": [
      "Sinuosity: 2.3786799091663284\n",
      "Channel Count Index (CCI): 1.2\n",
      "Channel Form Index (CFI): 1.982233257638607\n"
     ]
    },
    {
     "name": "stderr",
     "output_type": "stream",
     "text": [
      "C:\\Users\\huckr\\AppData\\Local\\Temp\\ipykernel_33072\\578621774.py:838: UserWarning: Column names longer than 10 characters will be truncated when saved to ESRI Shapefile.\n",
      "  channel_belt_cross_sections.to_file(os.path.join(output_folder, 'channel_belt_cross_sections.shp'))\n"
     ]
    },
    {
     "name": "stdout",
     "output_type": "stream",
     "text": [
      "Sinuosity: 2.379602850821772\n",
      "Channel Count Index (CCI): 1.2\n",
      "Channel Form Index (CFI): 1.98300237568481\n"
     ]
    },
    {
     "name": "stderr",
     "output_type": "stream",
     "text": [
      "C:\\Users\\huckr\\AppData\\Local\\Temp\\ipykernel_33072\\578621774.py:838: UserWarning: Column names longer than 10 characters will be truncated when saved to ESRI Shapefile.\n",
      "  channel_belt_cross_sections.to_file(os.path.join(output_folder, 'channel_belt_cross_sections.shp'))\n"
     ]
    },
    {
     "name": "stdout",
     "output_type": "stream",
     "text": [
      "Sinuosity: 2.3839719210552115\n",
      "Channel Count Index (CCI): 1.14\n",
      "Channel Form Index (CFI): 2.0912034395221157\n"
     ]
    },
    {
     "name": "stderr",
     "output_type": "stream",
     "text": [
      "C:\\Users\\huckr\\AppData\\Local\\Temp\\ipykernel_33072\\578621774.py:838: UserWarning: Column names longer than 10 characters will be truncated when saved to ESRI Shapefile.\n",
      "  channel_belt_cross_sections.to_file(os.path.join(output_folder, 'channel_belt_cross_sections.shp'))\n"
     ]
    },
    {
     "name": "stdout",
     "output_type": "stream",
     "text": [
      "Sinuosity: 2.3682571462995257\n",
      "Channel Count Index (CCI): 1.1\n",
      "Channel Form Index (CFI): 2.1529610420904777\n"
     ]
    },
    {
     "name": "stderr",
     "output_type": "stream",
     "text": [
      "C:\\Users\\huckr\\AppData\\Local\\Temp\\ipykernel_33072\\578621774.py:838: UserWarning: Column names longer than 10 characters will be truncated when saved to ESRI Shapefile.\n",
      "  channel_belt_cross_sections.to_file(os.path.join(output_folder, 'channel_belt_cross_sections.shp'))\n"
     ]
    },
    {
     "name": "stdout",
     "output_type": "stream",
     "text": [
      "Sinuosity: 2.4077480342898605\n",
      "Channel Count Index (CCI): 1.2\n",
      "Channel Form Index (CFI): 2.0064566952415506\n"
     ]
    },
    {
     "name": "stderr",
     "output_type": "stream",
     "text": [
      "C:\\Users\\huckr\\AppData\\Local\\Temp\\ipykernel_33072\\578621774.py:838: UserWarning: Column names longer than 10 characters will be truncated when saved to ESRI Shapefile.\n",
      "  channel_belt_cross_sections.to_file(os.path.join(output_folder, 'channel_belt_cross_sections.shp'))\n"
     ]
    },
    {
     "name": "stdout",
     "output_type": "stream",
     "text": [
      "Sinuosity: 2.10062747613034\n",
      "Channel Count Index (CCI): 1.18\n",
      "Channel Form Index (CFI): 1.780192776381644\n"
     ]
    },
    {
     "name": "stderr",
     "output_type": "stream",
     "text": [
      "C:\\Users\\huckr\\AppData\\Local\\Temp\\ipykernel_33072\\578621774.py:838: UserWarning: Column names longer than 10 characters will be truncated when saved to ESRI Shapefile.\n",
      "  channel_belt_cross_sections.to_file(os.path.join(output_folder, 'channel_belt_cross_sections.shp'))\n"
     ]
    },
    {
     "name": "stdout",
     "output_type": "stream",
     "text": [
      "Sinuosity: 2.0940048160287064\n",
      "Channel Count Index (CCI): 1.12\n",
      "Channel Form Index (CFI): 1.8696471571684876\n"
     ]
    },
    {
     "name": "stderr",
     "output_type": "stream",
     "text": [
      "C:\\Users\\huckr\\AppData\\Local\\Temp\\ipykernel_33072\\578621774.py:838: UserWarning: Column names longer than 10 characters will be truncated when saved to ESRI Shapefile.\n",
      "  channel_belt_cross_sections.to_file(os.path.join(output_folder, 'channel_belt_cross_sections.shp'))\n"
     ]
    },
    {
     "name": "stdout",
     "output_type": "stream",
     "text": [
      "Sinuosity: 2.1171226524658824\n",
      "Channel Count Index (CCI): 1.18\n",
      "Channel Form Index (CFI): 1.7941717393778664\n"
     ]
    },
    {
     "name": "stderr",
     "output_type": "stream",
     "text": [
      "C:\\Users\\huckr\\AppData\\Local\\Temp\\ipykernel_33072\\578621774.py:838: UserWarning: Column names longer than 10 characters will be truncated when saved to ESRI Shapefile.\n",
      "  channel_belt_cross_sections.to_file(os.path.join(output_folder, 'channel_belt_cross_sections.shp'))\n"
     ]
    },
    {
     "name": "stdout",
     "output_type": "stream",
     "text": [
      "Sinuosity: 2.120469305246419\n",
      "Channel Count Index (CCI): 1.2\n",
      "Channel Form Index (CFI): 1.767057754372016\n"
     ]
    },
    {
     "name": "stderr",
     "output_type": "stream",
     "text": [
      "C:\\Users\\huckr\\AppData\\Local\\Temp\\ipykernel_33072\\578621774.py:838: UserWarning: Column names longer than 10 characters will be truncated when saved to ESRI Shapefile.\n",
      "  channel_belt_cross_sections.to_file(os.path.join(output_folder, 'channel_belt_cross_sections.shp'))\n"
     ]
    },
    {
     "name": "stdout",
     "output_type": "stream",
     "text": [
      "Sinuosity: 2.1561497292565033\n",
      "Channel Count Index (CCI): 1.08\n",
      "Channel Form Index (CFI): 1.9964349344967622\n"
     ]
    },
    {
     "name": "stderr",
     "output_type": "stream",
     "text": [
      "C:\\Users\\huckr\\AppData\\Local\\Temp\\ipykernel_33072\\578621774.py:838: UserWarning: Column names longer than 10 characters will be truncated when saved to ESRI Shapefile.\n",
      "  channel_belt_cross_sections.to_file(os.path.join(output_folder, 'channel_belt_cross_sections.shp'))\n"
     ]
    },
    {
     "name": "stdout",
     "output_type": "stream",
     "text": [
      "Sinuosity: 2.124753265718942\n",
      "Channel Count Index (CCI): 1.06\n",
      "Channel Form Index (CFI): 2.004484212942398\n"
     ]
    },
    {
     "name": "stderr",
     "output_type": "stream",
     "text": [
      "C:\\Users\\huckr\\AppData\\Local\\Temp\\ipykernel_33072\\578621774.py:838: UserWarning: Column names longer than 10 characters will be truncated when saved to ESRI Shapefile.\n",
      "  channel_belt_cross_sections.to_file(os.path.join(output_folder, 'channel_belt_cross_sections.shp'))\n"
     ]
    },
    {
     "name": "stdout",
     "output_type": "stream",
     "text": [
      "Sinuosity: 2.114973746350681\n",
      "Channel Count Index (CCI): 1.16\n",
      "Channel Form Index (CFI): 1.823253229612656\n"
     ]
    },
    {
     "name": "stderr",
     "output_type": "stream",
     "text": [
      "C:\\Users\\huckr\\AppData\\Local\\Temp\\ipykernel_33072\\578621774.py:838: UserWarning: Column names longer than 10 characters will be truncated when saved to ESRI Shapefile.\n",
      "  channel_belt_cross_sections.to_file(os.path.join(output_folder, 'channel_belt_cross_sections.shp'))\n"
     ]
    },
    {
     "name": "stdout",
     "output_type": "stream",
     "text": [
      "Sinuosity: 2.1427711706676194\n",
      "Channel Count Index (CCI): 1.24\n",
      "Channel Form Index (CFI): 1.728041266667435\n"
     ]
    },
    {
     "name": "stderr",
     "output_type": "stream",
     "text": [
      "C:\\Users\\huckr\\AppData\\Local\\Temp\\ipykernel_33072\\578621774.py:838: UserWarning: Column names longer than 10 characters will be truncated when saved to ESRI Shapefile.\n",
      "  channel_belt_cross_sections.to_file(os.path.join(output_folder, 'channel_belt_cross_sections.shp'))\n"
     ]
    },
    {
     "name": "stdout",
     "output_type": "stream",
     "text": [
      "Sinuosity: 2.110503833573719\n",
      "Channel Count Index (CCI): 1.06\n",
      "Channel Form Index (CFI): 1.9910413524280366\n"
     ]
    },
    {
     "name": "stderr",
     "output_type": "stream",
     "text": [
      "C:\\Users\\huckr\\AppData\\Local\\Temp\\ipykernel_33072\\578621774.py:838: UserWarning: Column names longer than 10 characters will be truncated when saved to ESRI Shapefile.\n",
      "  channel_belt_cross_sections.to_file(os.path.join(output_folder, 'channel_belt_cross_sections.shp'))\n"
     ]
    },
    {
     "name": "stdout",
     "output_type": "stream",
     "text": [
      "Sinuosity: 2.1211998592249617\n",
      "Channel Count Index (CCI): 1.14\n",
      "Channel Form Index (CFI): 1.8607016308990894\n"
     ]
    },
    {
     "name": "stderr",
     "output_type": "stream",
     "text": [
      "C:\\Users\\huckr\\AppData\\Local\\Temp\\ipykernel_33072\\578621774.py:838: UserWarning: Column names longer than 10 characters will be truncated when saved to ESRI Shapefile.\n",
      "  channel_belt_cross_sections.to_file(os.path.join(output_folder, 'channel_belt_cross_sections.shp'))\n"
     ]
    },
    {
     "name": "stdout",
     "output_type": "stream",
     "text": [
      "Sinuosity: 2.1230488605721067\n",
      "Channel Count Index (CCI): 1.14\n",
      "Channel Form Index (CFI): 1.8623235619053569\n"
     ]
    },
    {
     "name": "stderr",
     "output_type": "stream",
     "text": [
      "C:\\Users\\huckr\\AppData\\Local\\Temp\\ipykernel_33072\\578621774.py:838: UserWarning: Column names longer than 10 characters will be truncated when saved to ESRI Shapefile.\n",
      "  channel_belt_cross_sections.to_file(os.path.join(output_folder, 'channel_belt_cross_sections.shp'))\n"
     ]
    },
    {
     "name": "stdout",
     "output_type": "stream",
     "text": [
      "Sinuosity: 2.1852651707835276\n",
      "Channel Count Index (CCI): 1.18\n",
      "Channel Form Index (CFI): 1.8519196362572268\n"
     ]
    },
    {
     "name": "stderr",
     "output_type": "stream",
     "text": [
      "C:\\Users\\huckr\\AppData\\Local\\Temp\\ipykernel_33072\\578621774.py:838: UserWarning: Column names longer than 10 characters will be truncated when saved to ESRI Shapefile.\n",
      "  channel_belt_cross_sections.to_file(os.path.join(output_folder, 'channel_belt_cross_sections.shp'))\n"
     ]
    },
    {
     "name": "stdout",
     "output_type": "stream",
     "text": [
      "Sinuosity: 2.186368984544545\n",
      "Channel Count Index (CCI): 1.14\n",
      "Channel Form Index (CFI): 1.9178675303022326\n"
     ]
    },
    {
     "name": "stderr",
     "output_type": "stream",
     "text": [
      "C:\\Users\\huckr\\AppData\\Local\\Temp\\ipykernel_33072\\578621774.py:838: UserWarning: Column names longer than 10 characters will be truncated when saved to ESRI Shapefile.\n",
      "  channel_belt_cross_sections.to_file(os.path.join(output_folder, 'channel_belt_cross_sections.shp'))\n"
     ]
    },
    {
     "name": "stdout",
     "output_type": "stream",
     "text": [
      "Sinuosity: 2.204233823449363\n",
      "Channel Count Index (CCI): 1.1\n",
      "Channel Form Index (CFI): 2.0038489304085116\n"
     ]
    },
    {
     "name": "stderr",
     "output_type": "stream",
     "text": [
      "C:\\Users\\huckr\\AppData\\Local\\Temp\\ipykernel_33072\\578621774.py:838: UserWarning: Column names longer than 10 characters will be truncated when saved to ESRI Shapefile.\n",
      "  channel_belt_cross_sections.to_file(os.path.join(output_folder, 'channel_belt_cross_sections.shp'))\n"
     ]
    },
    {
     "name": "stdout",
     "output_type": "stream",
     "text": [
      "Sinuosity: 2.2251570552897384\n",
      "Channel Count Index (CCI): 1.1\n",
      "Channel Form Index (CFI): 2.0228700502633985\n"
     ]
    },
    {
     "name": "stderr",
     "output_type": "stream",
     "text": [
      "C:\\Users\\huckr\\AppData\\Local\\Temp\\ipykernel_33072\\578621774.py:838: UserWarning: Column names longer than 10 characters will be truncated when saved to ESRI Shapefile.\n",
      "  channel_belt_cross_sections.to_file(os.path.join(output_folder, 'channel_belt_cross_sections.shp'))\n"
     ]
    },
    {
     "name": "stdout",
     "output_type": "stream",
     "text": [
      "Sinuosity: 2.2105051883627675\n",
      "Channel Count Index (CCI): 1.14\n",
      "Channel Form Index (CFI): 1.9390396389147087\n"
     ]
    },
    {
     "name": "stderr",
     "output_type": "stream",
     "text": [
      "C:\\Users\\huckr\\AppData\\Local\\Temp\\ipykernel_33072\\578621774.py:838: UserWarning: Column names longer than 10 characters will be truncated when saved to ESRI Shapefile.\n",
      "  channel_belt_cross_sections.to_file(os.path.join(output_folder, 'channel_belt_cross_sections.shp'))\n"
     ]
    },
    {
     "name": "stdout",
     "output_type": "stream",
     "text": [
      "Sinuosity: 2.1129413160392483\n",
      "Channel Count Index (CCI): 1.08\n",
      "Channel Form Index (CFI): 1.9564271444807853\n"
     ]
    },
    {
     "name": "stderr",
     "output_type": "stream",
     "text": [
      "C:\\Users\\huckr\\AppData\\Local\\Temp\\ipykernel_33072\\578621774.py:838: UserWarning: Column names longer than 10 characters will be truncated when saved to ESRI Shapefile.\n",
      "  channel_belt_cross_sections.to_file(os.path.join(output_folder, 'channel_belt_cross_sections.shp'))\n"
     ]
    },
    {
     "name": "stdout",
     "output_type": "stream",
     "text": [
      "Sinuosity: 2.1166679755322964\n",
      "Channel Count Index (CCI): 1.12\n",
      "Channel Form Index (CFI): 1.8898821210109786\n"
     ]
    },
    {
     "name": "stderr",
     "output_type": "stream",
     "text": [
      "C:\\Users\\huckr\\AppData\\Local\\Temp\\ipykernel_33072\\578621774.py:838: UserWarning: Column names longer than 10 characters will be truncated when saved to ESRI Shapefile.\n",
      "  channel_belt_cross_sections.to_file(os.path.join(output_folder, 'channel_belt_cross_sections.shp'))\n"
     ]
    },
    {
     "name": "stdout",
     "output_type": "stream",
     "text": [
      "Sinuosity: 2.1247795904131834\n",
      "Channel Count Index (CCI): 1.12\n",
      "Channel Form Index (CFI): 1.897124634297485\n"
     ]
    },
    {
     "name": "stderr",
     "output_type": "stream",
     "text": [
      "C:\\Users\\huckr\\AppData\\Local\\Temp\\ipykernel_33072\\578621774.py:838: UserWarning: Column names longer than 10 characters will be truncated when saved to ESRI Shapefile.\n",
      "  channel_belt_cross_sections.to_file(os.path.join(output_folder, 'channel_belt_cross_sections.shp'))\n"
     ]
    },
    {
     "name": "stdout",
     "output_type": "stream",
     "text": [
      "Sinuosity: 2.1613523027130737\n",
      "Channel Count Index (CCI): 1.2\n",
      "Channel Form Index (CFI): 1.8011269189275614\n"
     ]
    },
    {
     "name": "stderr",
     "output_type": "stream",
     "text": [
      "C:\\Users\\huckr\\AppData\\Local\\Temp\\ipykernel_33072\\578621774.py:838: UserWarning: Column names longer than 10 characters will be truncated when saved to ESRI Shapefile.\n",
      "  channel_belt_cross_sections.to_file(os.path.join(output_folder, 'channel_belt_cross_sections.shp'))\n"
     ]
    },
    {
     "name": "stdout",
     "output_type": "stream",
     "text": [
      "Sinuosity: 2.1545661921564627\n",
      "Channel Count Index (CCI): 1.14\n",
      "Channel Form Index (CFI): 1.8899703439968973\n"
     ]
    },
    {
     "name": "stderr",
     "output_type": "stream",
     "text": [
      "C:\\Users\\huckr\\AppData\\Local\\Temp\\ipykernel_33072\\578621774.py:838: UserWarning: Column names longer than 10 characters will be truncated when saved to ESRI Shapefile.\n",
      "  channel_belt_cross_sections.to_file(os.path.join(output_folder, 'channel_belt_cross_sections.shp'))\n"
     ]
    },
    {
     "name": "stdout",
     "output_type": "stream",
     "text": [
      "Sinuosity: 2.1627475532850813\n",
      "Channel Count Index (CCI): 1.16\n",
      "Channel Form Index (CFI): 1.864437545935415\n"
     ]
    },
    {
     "name": "stderr",
     "output_type": "stream",
     "text": [
      "C:\\Users\\huckr\\AppData\\Local\\Temp\\ipykernel_33072\\578621774.py:838: UserWarning: Column names longer than 10 characters will be truncated when saved to ESRI Shapefile.\n",
      "  channel_belt_cross_sections.to_file(os.path.join(output_folder, 'channel_belt_cross_sections.shp'))\n"
     ]
    },
    {
     "name": "stdout",
     "output_type": "stream",
     "text": [
      "Sinuosity: 2.1948135186327558\n",
      "Channel Count Index (CCI): 1.16\n",
      "Channel Form Index (CFI): 1.8920806195109965\n"
     ]
    },
    {
     "name": "stderr",
     "output_type": "stream",
     "text": [
      "C:\\Users\\huckr\\AppData\\Local\\Temp\\ipykernel_33072\\578621774.py:838: UserWarning: Column names longer than 10 characters will be truncated when saved to ESRI Shapefile.\n",
      "  channel_belt_cross_sections.to_file(os.path.join(output_folder, 'channel_belt_cross_sections.shp'))\n"
     ]
    },
    {
     "name": "stdout",
     "output_type": "stream",
     "text": [
      "Sinuosity: 2.173789323677577\n",
      "Channel Count Index (CCI): 1.12\n",
      "Channel Form Index (CFI): 1.940883324712122\n"
     ]
    },
    {
     "name": "stderr",
     "output_type": "stream",
     "text": [
      "C:\\Users\\huckr\\AppData\\Local\\Temp\\ipykernel_33072\\578621774.py:838: UserWarning: Column names longer than 10 characters will be truncated when saved to ESRI Shapefile.\n",
      "  channel_belt_cross_sections.to_file(os.path.join(output_folder, 'channel_belt_cross_sections.shp'))\n"
     ]
    },
    {
     "name": "stdout",
     "output_type": "stream",
     "text": [
      "Sinuosity: 2.1781644036386907\n",
      "Channel Count Index (CCI): 1.18\n",
      "Channel Form Index (CFI): 1.8459020369819414\n"
     ]
    },
    {
     "name": "stderr",
     "output_type": "stream",
     "text": [
      "C:\\Users\\huckr\\AppData\\Local\\Temp\\ipykernel_33072\\578621774.py:838: UserWarning: Column names longer than 10 characters will be truncated when saved to ESRI Shapefile.\n",
      "  channel_belt_cross_sections.to_file(os.path.join(output_folder, 'channel_belt_cross_sections.shp'))\n"
     ]
    },
    {
     "name": "stdout",
     "output_type": "stream",
     "text": [
      "Sinuosity: 2.2104065512354976\n",
      "Channel Count Index (CCI): 1.18\n",
      "Channel Form Index (CFI): 1.8732258908775403\n"
     ]
    },
    {
     "name": "stderr",
     "output_type": "stream",
     "text": [
      "C:\\Users\\huckr\\AppData\\Local\\Temp\\ipykernel_33072\\578621774.py:838: UserWarning: Column names longer than 10 characters will be truncated when saved to ESRI Shapefile.\n",
      "  channel_belt_cross_sections.to_file(os.path.join(output_folder, 'channel_belt_cross_sections.shp'))\n"
     ]
    },
    {
     "name": "stdout",
     "output_type": "stream",
     "text": [
      "Sinuosity: 2.213966907973716\n",
      "Channel Count Index (CCI): 1.14\n",
      "Channel Form Index (CFI): 1.9420762350646632\n"
     ]
    },
    {
     "name": "stderr",
     "output_type": "stream",
     "text": [
      "C:\\Users\\huckr\\AppData\\Local\\Temp\\ipykernel_33072\\578621774.py:838: UserWarning: Column names longer than 10 characters will be truncated when saved to ESRI Shapefile.\n",
      "  channel_belt_cross_sections.to_file(os.path.join(output_folder, 'channel_belt_cross_sections.shp'))\n"
     ]
    },
    {
     "name": "stdout",
     "output_type": "stream",
     "text": [
      "Sinuosity: 2.2309104349605042\n",
      "Channel Count Index (CCI): 1.04\n",
      "Channel Form Index (CFI): 2.1451061874620234\n"
     ]
    },
    {
     "name": "stderr",
     "output_type": "stream",
     "text": [
      "C:\\Users\\huckr\\AppData\\Local\\Temp\\ipykernel_33072\\578621774.py:838: UserWarning: Column names longer than 10 characters will be truncated when saved to ESRI Shapefile.\n",
      "  channel_belt_cross_sections.to_file(os.path.join(output_folder, 'channel_belt_cross_sections.shp'))\n"
     ]
    },
    {
     "name": "stdout",
     "output_type": "stream",
     "text": [
      "Sinuosity: 2.2376921549599564\n",
      "Channel Count Index (CCI): 1.12\n",
      "Channel Form Index (CFI): 1.9979394240713895\n"
     ]
    },
    {
     "name": "stderr",
     "output_type": "stream",
     "text": [
      "C:\\Users\\huckr\\AppData\\Local\\Temp\\ipykernel_33072\\578621774.py:838: UserWarning: Column names longer than 10 characters will be truncated when saved to ESRI Shapefile.\n",
      "  channel_belt_cross_sections.to_file(os.path.join(output_folder, 'channel_belt_cross_sections.shp'))\n"
     ]
    },
    {
     "name": "stdout",
     "output_type": "stream",
     "text": [
      "Sinuosity: 2.2090498552854574\n",
      "Channel Count Index (CCI): 1.08\n",
      "Channel Form Index (CFI): 2.0454165326717195\n"
     ]
    },
    {
     "name": "stderr",
     "output_type": "stream",
     "text": [
      "C:\\Users\\huckr\\AppData\\Local\\Temp\\ipykernel_33072\\578621774.py:838: UserWarning: Column names longer than 10 characters will be truncated when saved to ESRI Shapefile.\n",
      "  channel_belt_cross_sections.to_file(os.path.join(output_folder, 'channel_belt_cross_sections.shp'))\n"
     ]
    },
    {
     "name": "stdout",
     "output_type": "stream",
     "text": [
      "Sinuosity: 2.2084130623482534\n",
      "Channel Count Index (CCI): 1.04\n",
      "Channel Form Index (CFI): 2.123474098411782\n"
     ]
    },
    {
     "name": "stderr",
     "output_type": "stream",
     "text": [
      "C:\\Users\\huckr\\AppData\\Local\\Temp\\ipykernel_33072\\578621774.py:838: UserWarning: Column names longer than 10 characters will be truncated when saved to ESRI Shapefile.\n",
      "  channel_belt_cross_sections.to_file(os.path.join(output_folder, 'channel_belt_cross_sections.shp'))\n"
     ]
    },
    {
     "name": "stdout",
     "output_type": "stream",
     "text": [
      "Sinuosity: 2.2411536071184104\n",
      "Channel Count Index (CCI): 1.38\n",
      "Channel Form Index (CFI): 1.6240243529843554\n"
     ]
    },
    {
     "name": "stderr",
     "output_type": "stream",
     "text": [
      "C:\\Users\\huckr\\AppData\\Local\\Temp\\ipykernel_33072\\578621774.py:838: UserWarning: Column names longer than 10 characters will be truncated when saved to ESRI Shapefile.\n",
      "  channel_belt_cross_sections.to_file(os.path.join(output_folder, 'channel_belt_cross_sections.shp'))\n"
     ]
    },
    {
     "name": "stdout",
     "output_type": "stream",
     "text": [
      "Sinuosity: 2.244911773588554\n",
      "Channel Count Index (CCI): 1.16\n",
      "Channel Form Index (CFI): 1.9352687703349607\n"
     ]
    },
    {
     "name": "stderr",
     "output_type": "stream",
     "text": [
      "C:\\Users\\huckr\\AppData\\Local\\Temp\\ipykernel_33072\\578621774.py:838: UserWarning: Column names longer than 10 characters will be truncated when saved to ESRI Shapefile.\n",
      "  channel_belt_cross_sections.to_file(os.path.join(output_folder, 'channel_belt_cross_sections.shp'))\n"
     ]
    },
    {
     "name": "stdout",
     "output_type": "stream",
     "text": [
      "Sinuosity: 2.2422055315793594\n",
      "Channel Count Index (CCI): 1.14\n",
      "Channel Form Index (CFI): 1.9668469575257541\n"
     ]
    },
    {
     "name": "stderr",
     "output_type": "stream",
     "text": [
      "C:\\Users\\huckr\\AppData\\Local\\Temp\\ipykernel_33072\\578621774.py:838: UserWarning: Column names longer than 10 characters will be truncated when saved to ESRI Shapefile.\n",
      "  channel_belt_cross_sections.to_file(os.path.join(output_folder, 'channel_belt_cross_sections.shp'))\n"
     ]
    },
    {
     "name": "stdout",
     "output_type": "stream",
     "text": [
      "Sinuosity: 2.2322906206283952\n",
      "Channel Count Index (CCI): 1.06\n",
      "Channel Form Index (CFI): 2.105934547762637\n"
     ]
    },
    {
     "name": "stderr",
     "output_type": "stream",
     "text": [
      "C:\\Users\\huckr\\AppData\\Local\\Temp\\ipykernel_33072\\578621774.py:838: UserWarning: Column names longer than 10 characters will be truncated when saved to ESRI Shapefile.\n",
      "  channel_belt_cross_sections.to_file(os.path.join(output_folder, 'channel_belt_cross_sections.shp'))\n"
     ]
    },
    {
     "name": "stdout",
     "output_type": "stream",
     "text": [
      "Sinuosity: 2.2621236987969002\n",
      "Channel Count Index (CCI): 1.22\n",
      "Channel Form Index (CFI): 1.8541997531122134\n"
     ]
    },
    {
     "name": "stderr",
     "output_type": "stream",
     "text": [
      "C:\\Users\\huckr\\AppData\\Local\\Temp\\ipykernel_33072\\578621774.py:838: UserWarning: Column names longer than 10 characters will be truncated when saved to ESRI Shapefile.\n",
      "  channel_belt_cross_sections.to_file(os.path.join(output_folder, 'channel_belt_cross_sections.shp'))\n"
     ]
    },
    {
     "name": "stdout",
     "output_type": "stream",
     "text": [
      "Sinuosity: 2.2806337573278146\n",
      "Channel Count Index (CCI): 1.12\n",
      "Channel Form Index (CFI): 2.0362801404712627\n"
     ]
    },
    {
     "name": "stderr",
     "output_type": "stream",
     "text": [
      "C:\\Users\\huckr\\AppData\\Local\\Temp\\ipykernel_33072\\578621774.py:838: UserWarning: Column names longer than 10 characters will be truncated when saved to ESRI Shapefile.\n",
      "  channel_belt_cross_sections.to_file(os.path.join(output_folder, 'channel_belt_cross_sections.shp'))\n"
     ]
    },
    {
     "name": "stdout",
     "output_type": "stream",
     "text": [
      "Sinuosity: 2.27606976415205\n",
      "Channel Count Index (CCI): 1.06\n",
      "Channel Form Index (CFI): 2.1472356265585377\n"
     ]
    },
    {
     "name": "stderr",
     "output_type": "stream",
     "text": [
      "C:\\Users\\huckr\\AppData\\Local\\Temp\\ipykernel_33072\\578621774.py:838: UserWarning: Column names longer than 10 characters will be truncated when saved to ESRI Shapefile.\n",
      "  channel_belt_cross_sections.to_file(os.path.join(output_folder, 'channel_belt_cross_sections.shp'))\n"
     ]
    },
    {
     "name": "stdout",
     "output_type": "stream",
     "text": [
      "Sinuosity: 2.2758838000487374\n",
      "Channel Count Index (CCI): 1.06\n",
      "Channel Form Index (CFI): 2.1470601887252236\n"
     ]
    },
    {
     "name": "stderr",
     "output_type": "stream",
     "text": [
      "C:\\Users\\huckr\\AppData\\Local\\Temp\\ipykernel_33072\\578621774.py:838: UserWarning: Column names longer than 10 characters will be truncated when saved to ESRI Shapefile.\n",
      "  channel_belt_cross_sections.to_file(os.path.join(output_folder, 'channel_belt_cross_sections.shp'))\n"
     ]
    },
    {
     "name": "stdout",
     "output_type": "stream",
     "text": [
      "Sinuosity: 2.305609258019286\n",
      "Channel Count Index (CCI): 1.28\n",
      "Channel Form Index (CFI): 1.8012572328275671\n"
     ]
    },
    {
     "name": "stderr",
     "output_type": "stream",
     "text": [
      "C:\\Users\\huckr\\AppData\\Local\\Temp\\ipykernel_33072\\578621774.py:838: UserWarning: Column names longer than 10 characters will be truncated when saved to ESRI Shapefile.\n",
      "  channel_belt_cross_sections.to_file(os.path.join(output_folder, 'channel_belt_cross_sections.shp'))\n"
     ]
    },
    {
     "name": "stdout",
     "output_type": "stream",
     "text": [
      "All rivers processed.\n"
     ]
    }
   ],
   "source": [
    "csv_path = r\"C:\\Users\\huckr\\Desktop\\UCSB\\Dissertation\\Data\\RiverMapping\\Beni_river_datasheet.csv\"\n",
    "main(csv_path)"
   ]
  },
  {
   "cell_type": "code",
   "execution_count": null,
   "id": "233aa871",
   "metadata": {},
   "outputs": [],
   "source": []
  }
 ],
 "metadata": {
  "kernelspec": {
   "display_name": "Python 3 (ipykernel)",
   "language": "python",
   "name": "python3"
  },
  "language_info": {
   "codemirror_mode": {
    "name": "ipython",
    "version": 3
   },
   "file_extension": ".py",
   "mimetype": "text/x-python",
   "name": "python",
   "nbconvert_exporter": "python",
   "pygments_lexer": "ipython3",
   "version": "3.11.5"
  }
 },
 "nbformat": 4,
 "nbformat_minor": 5
}
