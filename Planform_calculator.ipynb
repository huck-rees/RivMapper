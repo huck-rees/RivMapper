{
 "cells": [
  {
   "cell_type": "markdown",
   "id": "a48ab391",
   "metadata": {},
   "source": [
    "# Calculate river planform (sinuosity, channel count index, channel form index)\n",
    "\n",
    "The following code is directed to a given local path containing 2-D water mask rasters. The code takes the water mask, and start by creating a \"skeleton\" of the mask. It then dilates the tips of the skeleton to improve connection of the channel network, reskeletonizes, and reduces the skeleton to only the identifiable river channels. From the final skeletion, channel links and nodes are created. The links are filtered according to criteria, and a shortest path line or \"main channel\" is extracted, along with a simplified main channel which acts as a valley center line, enabling sinuosity calculations. Finally, cross sections of the river are created and channel count index is calculated across the cross-sections. With sinuosity and channel-count index, the chanel form index can be calculated. These river metrics are provided and exported to a .csv. The processed skeleton, nodes, channel links, main channel, valley center-line, and channel-belt cross-sections are output as shapefiles, and the network for each reach/year is plotted and compiled in a PDF for the user' to QA/QC.\n",
    "\n",
    "Channel form index is calculated as outlined in:\n",
    "Galeazzi, C.P., Almeida, R.P., do Prado, A.H., 2021. Linking rivers to the rock record: Channel patterns and paleocurrent circular variance. Geology 49, 1402–1407. https://doi.org/10.1130/G49121.1\n",
    "\n",
    "Inspiration for river channel network analysis taken from rivgraph: https://github.com/VeinsOfTheEarth/RivGraph\n",
    "Schwenk, J., Hariharan, J., 2021. RivGraph: Automatic extraction and analysis of river and delta channel network topology. Journal of Open Source Software 6, 2952. https://doi.org/10.21105/joss.02952\n",
    "\n",
    "Author: James (Huck) Rees; PhD Student, UCSB Geography\n",
    "\n",
    "Date: January 14, 2024"
   ]
  },
  {
   "cell_type": "markdown",
   "id": "5b19a039",
   "metadata": {},
   "source": [
    "## Import packages"
   ]
  },
  {
   "cell_type": "code",
   "execution_count": 1,
   "id": "facbeca7",
   "metadata": {},
   "outputs": [],
   "source": [
    "import os\n",
    "import re\n",
    "import logging\n",
    "from glob import glob\n",
    "from itertools import combinations\n",
    "\n",
    "import numpy as np\n",
    "import pandas as pd\n",
    "import geopandas as gpd\n",
    "from fractions import Fraction\n",
    "\n",
    "import rasterio\n",
    "from rasterio.plot import show\n",
    "from rasterio.transform import xy\n",
    "\n",
    "import matplotlib.pyplot as plt\n",
    "from matplotlib.backends.backend_pdf import PdfPages\n",
    "\n",
    "from skimage.morphology import skeletonize, label\n",
    "from skimage.measure import regionprops\n",
    "from skimage import io, img_as_bool\n",
    "from skimage.feature import corner_harris, corner_peaks\n",
    "\n",
    "from shapefile import Reader, Writer\n",
    "from shapely.geometry import LineString, Point, MultiLineString, MultiPoint\n",
    "from shapely.ops import split, linemerge, snap, nearest_points, unary_union\n",
    "from shapely.strtree import STRtree\n",
    "\n",
    "from scipy.ndimage import label as scipy_label, find_objects\n",
    "from scipy.spatial import cKDTree\n",
    "\n",
    "from rtree import index as rtree_index\n",
    "\n",
    "import networkx as nx\n",
    "\n",
    "from collections import Counter, defaultdict\n",
    "\n",
    "import ast"
   ]
  },
  {
   "cell_type": "markdown",
   "id": "d84ad93d",
   "metadata": {},
   "source": [
    "## Initialize functions"
   ]
  },
  {
   "cell_type": "code",
   "execution_count": 2,
   "id": "62ef65ac",
   "metadata": {},
   "outputs": [],
   "source": [
    "# Function to load raster data\n",
    "def load_raster(file_path):\n",
    "    \"\"\"\n",
    "    Loads a raster file and returns the data of the first band along with its metadata.\n",
    "\n",
    "    Parameters:\n",
    "    file_path (str): The path to the raster file.\n",
    "\n",
    "    Returns:\n",
    "    tuple: A tuple containing:\n",
    "        - data (numpy.ndarray): The data of the first band of the raster.\n",
    "        - metadata (dict): The metadata of the raster file.\n",
    "    \"\"\"\n",
    "    with rasterio.open(file_path) as dataset:\n",
    "        data = dataset.read(1)  # Read the first band\n",
    "        metadata = dataset.meta\n",
    "    return data, metadata\n",
    "\n",
    "# Function to save a raster file\n",
    "def save_raster(output_path, data, metadata):\n",
    "    \"\"\"\n",
    "    Saves a raster file with the given data and metadata.\n",
    "\n",
    "    Parameters:\n",
    "    output_path (str): The path to save the output raster file.\n",
    "    data (numpy.ndarray): The data to be written to the raster file.\n",
    "    metadata (dict): The metadata of the raster file, including CRS and transform information.\n",
    "\n",
    "    Returns:\n",
    "    None\n",
    "    \"\"\"\n",
    "    with rasterio.open(\n",
    "        output_path, \n",
    "        'w', \n",
    "        driver='GTiff', \n",
    "        height=data.shape[0], \n",
    "        width=data.shape[1], \n",
    "        count=1, \n",
    "        dtype='uint8', \n",
    "        crs=metadata['crs'], \n",
    "        transform=metadata['transform']\n",
    "    ) as dst:\n",
    "        dst.write(data.astype('uint8'), 1)\n",
    "\n",
    "def eliminate_small_islands(water_mask, min_size=10):\n",
    "    \"\"\"\n",
    "    Eliminate small \"islands\" of water and non-water regions in a binary water mask array \n",
    "    based on a minimum size threshold.\n",
    "\n",
    "    Parameters:\n",
    "    water_mask (numpy.ndarray): A 2D binary array where:\n",
    "                                - `1` represents water.\n",
    "                                - `0` represents no-water.\n",
    "    min_size (int, optional): The minimum number of pixels a region must have to be retained.\n",
    "                              Regions smaller than this size will be removed. Defaults to 10.\n",
    "\n",
    "    Returns:\n",
    "    numpy.ndarray: The cleaned water mask array with small islands of water and non-water removed.\n",
    "\n",
    "    Workflow:\n",
    "    1. Label connected components in the inverse of the water mask (non-water regions).\n",
    "    2. Identify and remove non-water regions smaller than the `min_size` threshold by \n",
    "       converting them to water (value `1`).\n",
    "    3. Label connected components in the original water mask (water regions).\n",
    "    4. Identify and remove water regions smaller than the `min_size` threshold by \n",
    "       converting them to no-water (value `0`).\n",
    "    \"\"\"\n",
    "    # Step 1: Label connected components in the inverse water mask (non-water regions)\n",
    "    labeled_array, num_features = scipy_label(1 - water_mask)\n",
    "    \n",
    "    # Step 2: Remove non-water regions smaller than `min_size`\n",
    "    for i in range(1, num_features + 1):\n",
    "        blob = labeled_array == i\n",
    "        if np.sum(blob) <= min_size:\n",
    "            water_mask[blob] = 1  # Convert small no-water regions to water (1)\n",
    "\n",
    "    # Step 3: Label connected components in the original water mask (water regions)\n",
    "    labeled_array, num_features = scipy_label(water_mask)\n",
    "    \n",
    "    # Step 4: Remove water regions smaller than `min_size`\n",
    "    for i in range(1, num_features + 1):\n",
    "        blob = labeled_array == i\n",
    "        if np.sum(blob) <= min_size:\n",
    "            water_mask[blob] = 0  # Convert small water regions to no-water (0)\n",
    "    \n",
    "    return water_mask\n",
    "\n",
    "# Function to perform conditional dilation\n",
    "def conditional_dilation(image, radius=5):\n",
    "    \"\"\"\n",
    "    Performs a conditional dilation on a binary image. Pixels with a value of 1 that have \n",
    "    two or fewer neighbors with the same value will cause a dilation within a given radius.\n",
    "\n",
    "    Parameters:\n",
    "    image (numpy.ndarray): The input binary image (2D array) to be processed.\n",
    "    radius (int, optional): The radius for the dilation operation. Default is 5.\n",
    "\n",
    "    Returns:\n",
    "    numpy.ndarray: The dilated image.\n",
    "    \"\"\"\n",
    "    dilated_image = np.copy(image)\n",
    "    for row in range(1, image.shape[0] - 1):\n",
    "        for col in range(1, image.shape[1] - 1):\n",
    "            if image[row, col] == 1:\n",
    "                neighbors = image[row-1:row+2, col-1:col+2]\n",
    "                if np.sum(neighbors) <= 2:  # Include the pixel itself in the count\n",
    "                    dilated_image[max(0, row-radius):min(row+radius+1, image.shape[0]), \n",
    "                                  max(0, col-radius):min(col+radius+1, image.shape[1])] = 1\n",
    "    return dilated_image\n",
    "\n",
    "# Function to keep only the largest connected component\n",
    "def keep_largest_component(image):\n",
    "    \"\"\"\n",
    "    Identifies and retains the largest connected component in a binary image. All other components are removed.\n",
    "\n",
    "    Parameters:\n",
    "    image (numpy.ndarray): The input binary image (2D array).\n",
    "\n",
    "    Returns:\n",
    "    numpy.ndarray: A binary image containing only the largest connected component.\n",
    "    \"\"\"\n",
    "    labeled_image, num_features = label(image, connectivity=2, return_num=True)\n",
    "    if num_features == 0:\n",
    "        return image\n",
    "    regions = regionprops(labeled_image)\n",
    "    largest_region = max(regions, key=lambda r: r.area)\n",
    "    largest_component = (labeled_image == largest_region.label)\n",
    "    return largest_component\n",
    "\n",
    "# Function to create links shapefile\n",
    "def create_links(image, metadata):\n",
    "    \"\"\"\n",
    "    Identifies and creates links between adjacent pixels in a binary image. Links are represented as LineStrings.\n",
    "\n",
    "    Parameters:\n",
    "    image (numpy.ndarray): The input binary image (2D array) to be processed.\n",
    "    metadata (dict): The metadata of the raster file, including transform information.\n",
    "\n",
    "    Returns:\n",
    "    geopandas.GeoDataFrame: A GeoDataFrame containing the links as LineStrings.\n",
    "    \"\"\"\n",
    "    links = []\n",
    "    transform = metadata['transform']\n",
    "    link_id = 1\n",
    "\n",
    "    # Iterate over each pixel in the image\n",
    "    for row in range(image.shape[0]):\n",
    "        for col in range(image.shape[1]):\n",
    "            if image[row, col] == 1:  # Check if the pixel is part of a segment\n",
    "                # Identify neighboring pixels that are also part of the segment\n",
    "                neighbors = [\n",
    "                    (row + dr, col + dc) \n",
    "                    for dr, dc in [(-1, 0), (1, 0), (0, -1), (0, 1), (-1, -1), (-1, 1), (1, -1), (1, 1)] \n",
    "                    if 0 <= row + dr < image.shape[0] and 0 <= col + dc < image.shape[1] and image[row + dr, col + dc] == 1\n",
    "                ]\n",
    "                # Create LineString for each neighbor\n",
    "                for nr, nc in neighbors:\n",
    "                    x1, y1 = xy(transform, row, col)  # Convert pixel coordinates to spatial coordinates\n",
    "                    x2, y2 = xy(transform, nr, nc)\n",
    "                    line = LineString([(x1, y1), (x2, y2)])\n",
    "                    links.append((link_id, line))  # Append link to the list\n",
    "                    link_id += 1\n",
    "\n",
    "    # Remove duplicate links by sorting the coordinates of each LineString\n",
    "    unique_links = []\n",
    "    seen = set()\n",
    "    for link in links:\n",
    "        coords = tuple(sorted(link[1].coords))\n",
    "        if coords not in seen:\n",
    "            seen.add(coords)\n",
    "            unique_links.append(link)\n",
    "\n",
    "    # Create a GeoDataFrame from the unique links\n",
    "    gdf = gpd.GeoDataFrame(unique_links, columns=['id', 'geometry'])\n",
    "    \n",
    "    # Set the coordinate reference system (CRS)\n",
    "    gdf.set_crs(epsg=4326, inplace=True)\n",
    "\n",
    "    return gdf\n",
    "\n",
    "# Function to filter links\n",
    "def filter_links(gdf):\n",
    "    \"\"\"\n",
    "    Filters out diagonal links from a GeoDataFrame of line segments, retaining only those\n",
    "    that are not part of an intersection with horizontal and vertical links.\n",
    "\n",
    "    Parameters:\n",
    "    gdf (geopandas.GeoDataFrame): The input GeoDataFrame containing line segments.\n",
    "\n",
    "    Returns:\n",
    "    geopandas.GeoDataFrame: A filtered GeoDataFrame with certain diagonal links removed.\n",
    "    \"\"\"\n",
    "    # Function to categorize the line segments\n",
    "    def categorize_line(row):\n",
    "        if row['start_point'][1] == row['end_point'][1]:\n",
    "            return 'horizontal'\n",
    "        elif row['start_point'][0] == row['end_point'][0]:\n",
    "            return 'vertical'\n",
    "        else:\n",
    "            return 'diagonal'\n",
    "    \n",
    "    # Function to extract start and end coordinates of each line segment\n",
    "    def get_coordinates(geometry):\n",
    "        start_point = geometry.coords[0]\n",
    "        end_point = geometry.coords[1]\n",
    "        return start_point, end_point\n",
    "    \n",
    "    # Apply the function to get coordinates and categorize each segment\n",
    "    gdf[['start_point', 'end_point']] = gdf.apply(lambda row: get_coordinates(row.geometry), axis=1, result_type='expand')\n",
    "    gdf['category'] = gdf.apply(categorize_line, axis=1)\n",
    "    \n",
    "    # Initialize spatial indexes for horizontal and vertical links\n",
    "    idx_horizontal = rtree_index.Index()\n",
    "    idx_vertical = rtree_index.Index()\n",
    "    \n",
    "    for idx, row in gdf.iterrows():\n",
    "        if row['category'] == 'horizontal':\n",
    "            idx_horizontal.insert(idx, row['geometry'].bounds)\n",
    "        elif row['category'] == 'vertical':\n",
    "            idx_vertical.insert(idx, row['geometry'].bounds)\n",
    "    \n",
    "    diagonals_to_remove = set()\n",
    "    \n",
    "    # Loop through each diagonal link\n",
    "    for index, diag_row in gdf[gdf['category'] == 'diagonal'].iterrows():\n",
    "        diag_start = diag_row['start_point']\n",
    "        diag_end = diag_row['end_point']\n",
    "        diag_bounds = diag_row['geometry'].bounds\n",
    "        x_coords = {diag_start[0], diag_end[0]}\n",
    "        y_coords = {diag_start[1], diag_end[1]}\n",
    "        hor = ver = False\n",
    "        \n",
    "        # Find horizontal links intersecting with the diagonal link using spatial index\n",
    "        for hor_idx in idx_horizontal.intersection(diag_bounds):\n",
    "            hor_row = gdf.loc[hor_idx]\n",
    "            hor_start = hor_row['start_point']\n",
    "            hor_end = hor_row['end_point']\n",
    "            if (hor_start[1] in y_coords or hor_end[1] in y_coords) and (hor_start[0] in x_coords and hor_end[0] in x_coords):\n",
    "                hor = True\n",
    "                break\n",
    "        \n",
    "        # Find vertical links intersecting with the diagonal link using spatial index\n",
    "        for ver_idx in idx_vertical.intersection(diag_bounds):\n",
    "            ver_row = gdf.loc[ver_idx]\n",
    "            ver_start = ver_row['start_point']\n",
    "            ver_end = ver_row['end_point']\n",
    "            if (ver_start[0] in x_coords or ver_end[0] in x_coords) and (ver_start[1] in y_coords and ver_end[1] in y_coords):\n",
    "                ver = True\n",
    "                break\n",
    "        \n",
    "        # Mark the diagonal for removal if it satisfies both conditions\n",
    "        if hor and ver:\n",
    "            diagonals_to_remove.add(index)\n",
    "    \n",
    "    # Drop the identified diagonal links\n",
    "    filtered_links = gdf.drop(index=diagonals_to_remove)\n",
    "    \n",
    "    # Drop the unnecessary columns before returning\n",
    "    filtered_links = filtered_links.drop(columns=['start_point', 'end_point', 'category'])\n",
    "    \n",
    "    return filtered_links\n",
    "\n",
    "def remove_degree_2_nodes(G):\n",
    "    \"\"\"\n",
    "    Remove degree-2 nodes from a graph and merge their adjacent edges.\n",
    "\n",
    "    This function simplifies a graph by removing nodes with exactly two neighbors (degree 2),\n",
    "    merging the two edges connected to the node into a single edge, and maintaining the \n",
    "    overall topology of the graph.\n",
    "\n",
    "    Parameters:\n",
    "    G (networkx.Graph or networkx.MultiGraph): The input graph. If it is not a MultiGraph, \n",
    "                                               it will be converted to a MultiGraph.\n",
    "\n",
    "    Returns:\n",
    "    networkx.MultiGraph: The simplified graph with degree-2 nodes removed and their edges merged.\n",
    "\n",
    "    Workflow:\n",
    "    1. Identify all nodes with a degree of 2.\n",
    "    2. For each degree-2 node:\n",
    "        - Retrieve its two neighbors.\n",
    "        - Merge the edges connecting the node to its neighbors into a single edge.\n",
    "        - Remove the degree-2 node from the graph.\n",
    "    3. Return the simplified graph.\n",
    "\n",
    "    Notes:\n",
    "    - Assumes that edges have a 'geometry' attribute containing their geometry (e.g., a LineString).\n",
    "    - Uses `linemerge` to combine the geometries of two edges into a single geometry.\n",
    "    \"\"\"\n",
    "    # Ensure the graph is a MultiGraph\n",
    "    if not isinstance(G, nx.MultiGraph):\n",
    "        G = nx.MultiGraph(G)\n",
    "\n",
    "    # Identify all nodes with a degree of 2\n",
    "    degree_2_nodes = [node for node, degree in dict(G.degree()).items() if degree == 2]\n",
    "\n",
    "    # Simplify the graph by merging edges of degree-2 nodes\n",
    "    for node in degree_2_nodes:\n",
    "        neighbors = list(G.neighbors(node))\n",
    "        if len(neighbors) == 2:  # Ensure the node has exactly two neighbors\n",
    "            u, v = neighbors\n",
    "            \n",
    "            # Retrieve the keys for the edges connecting the node to its neighbors\n",
    "            key_uv = list(G[u][node])[0]\n",
    "            key_vu = list(G[v][node])[0]\n",
    "            \n",
    "            # Merge the geometries of the two edges\n",
    "            merged_line = linemerge([G.edges[node, u, key_uv]['geometry'], \n",
    "                                     G.edges[node, v, key_vu]['geometry']])\n",
    "            \n",
    "            # Add a new edge connecting the neighbors with the merged geometry\n",
    "            G.add_edge(u, v, geometry=merged_line)\n",
    "            \n",
    "            # Remove the degree-2 node from the graph\n",
    "            G.remove_node(node)\n",
    "    \n",
    "    return G\n",
    "\n",
    "def geodataframe_to_graph(filtered_links):\n",
    "    \"\"\"\n",
    "    Convert a GeoDataFrame of line geometries into a MultiGraph representation.\n",
    "\n",
    "    Parameters:\n",
    "    filtered_links (gpd.GeoDataFrame): A GeoDataFrame containing line geometries.\n",
    "                                       Each row represents a link with a `geometry` column\n",
    "                                       containing `LineString` objects.\n",
    "\n",
    "    Returns:\n",
    "    networkx.MultiGraph: A MultiGraph where:\n",
    "                         - Nodes represent the start and end points of the lines.\n",
    "                         - Edges represent the line geometries with associated attributes:\n",
    "                           - `index`: The row index of the line in the GeoDataFrame.\n",
    "                           - `geometry`: The `LineString` geometry of the line.\n",
    "    \"\"\"\n",
    "    # Initialize an empty MultiGraph\n",
    "    G = nx.MultiGraph()\n",
    "    \n",
    "    # Iterate through each row in the GeoDataFrame\n",
    "    for idx, row in filtered_links.iterrows():\n",
    "        line = row.geometry  # Extract the LineString geometry\n",
    "        start, end = line.coords[0], line.coords[-1]  # Get the start and end points of the line\n",
    "        \n",
    "        # Add an edge to the graph with attributes\n",
    "        G.add_edge(start, end, index=idx, geometry=line)\n",
    "    \n",
    "    return G\n",
    "\n",
    "def graph_to_merged_geodataframes(G):\n",
    "    \"\"\"\n",
    "    Convert a graph into two GeoDataFrames: one for nodes and one for merged edges.\n",
    "\n",
    "    This function processes a graph by extracting its nodes and merging connected edge geometries.\n",
    "    The resulting GeoDataFrames can be used for spatial analysis or visualization.\n",
    "\n",
    "    Parameters:\n",
    "    G (networkx.Graph or networkx.MultiGraph): A graph where:\n",
    "                                               - Nodes are represented as coordinate tuples (x, y).\n",
    "                                               - Edges have a `geometry` attribute representing\n",
    "                                                 their spatial extent (e.g., `LineString`).\n",
    "\n",
    "    Returns:\n",
    "    tuple:\n",
    "        - gpd.GeoDataFrame: A GeoDataFrame containing the graph nodes as `Point` geometries.\n",
    "        - gpd.GeoDataFrame: A GeoDataFrame containing the merged edge geometries as `LineString` or\n",
    "                            `MultiLineString` objects.\n",
    "\n",
    "    Workflow:\n",
    "    1. Convert graph nodes into `Point` geometries.\n",
    "    2. For each connected component of the graph:\n",
    "       - Extract edge geometries.\n",
    "       - Merge the geometries into a single `LineString` or `MultiLineString` using `unary_union`.\n",
    "       - Handle cases where the merged result is a `MultiLineString` by breaking it into individual lines.\n",
    "    3. Create GeoDataFrames for nodes and merged edges.\n",
    "\n",
    "    Notes:\n",
    "    - Assumes edge geometries are provided as `LineString` objects under the `geometry` attribute.\n",
    "    \"\"\"\n",
    "    # Step 1: Convert graph nodes into Point geometries\n",
    "    nodes = [Point(x, y) for x, y in G.nodes]\n",
    "    \n",
    "    # Step 2: Merge edge geometries for each connected component\n",
    "    merged_lines = []\n",
    "    for component in nx.connected_components(G):\n",
    "        subgraph = G.subgraph(component)  # Extract subgraph for the connected component\n",
    "        lines = [data['geometry'] for u, v, data in subgraph.edges(data=True)]  # Collect edge geometries\n",
    "        merged_line = unary_union(lines)  # Merge all geometries into one\n",
    "        \n",
    "        # Handle MultiLineString cases by separating into individual lines\n",
    "        if merged_line.geom_type == 'MultiLineString':\n",
    "            for line in merged_line.geoms:\n",
    "                merged_lines.append(line)\n",
    "        else:\n",
    "            merged_lines.append(merged_line)\n",
    "    \n",
    "    # Step 3: Create GeoDataFrames for nodes and edges\n",
    "    nodes_gdf = gpd.GeoDataFrame(geometry=nodes)\n",
    "    edges_gdf = gpd.GeoDataFrame(geometry=merged_lines)\n",
    "    \n",
    "    return nodes_gdf, edges_gdf\n",
    "\n",
    "# Function to find furthest endpoints\n",
    "def find_furthest_endpoints(gdf_points):\n",
    "    \"\"\"\n",
    "    Finds the two furthest nodes in the geodataframe, which may be of type 'endpoint' or 'junction'.\n",
    "\n",
    "    Parameters:\n",
    "    gdf_points (geopandas.GeoDataFrame): The geodataframe of points (nodes).\n",
    "\n",
    "    Returns:\n",
    "    geopandas.GeoDataFrame: A GeoDataFrame containing the two furthest points.\n",
    "    \"\"\"\n",
    "    if len(gdf_points) < 2:\n",
    "        raise ValueError(\"Not enough points to find the furthest pair.\")\n",
    "    \n",
    "    max_distance = 0\n",
    "    furthest_pair = None\n",
    "    for (idx1, point1), (idx2, point2) in combinations(gdf_points.iterrows(), 2):\n",
    "        distance = point1.geometry.distance(point2.geometry)\n",
    "        if distance > max_distance:\n",
    "            max_distance = distance\n",
    "            furthest_pair = (point1, point2)\n",
    "    \n",
    "    furthest_geometries = [furthest_pair[0].geometry, furthest_pair[1].geometry]\n",
    "    start_end_pts = gpd.GeoDataFrame(geometry=furthest_geometries, crs=gdf_points.crs)\n",
    "    return start_end_pts\n",
    "\n",
    "def remove_spurs(merged_gdf, start_end_pts):\n",
    "    start_point = start_end_pts.geometry.iloc[0]\n",
    "    end_point = start_end_pts.geometry.iloc[1]\n",
    "    \n",
    "    G = nx.MultiGraph()\n",
    "    \n",
    "    for idx, row in merged_gdf.iterrows():\n",
    "        line = row.geometry\n",
    "        start, end = line.coords[0], line.coords[-1]\n",
    "        G.add_edge(start, end, index=idx, geometry=line)\n",
    "    \n",
    "    dead_end_segments = []\n",
    "    for node in G.nodes:\n",
    "        if G.degree(node) == 1 and Point(node) not in [start_point, end_point]:\n",
    "            neighbors = list(G.neighbors(node))\n",
    "            if neighbors:\n",
    "                neighbor = neighbors[0]\n",
    "                edge_data = G.get_edge_data(node, neighbor)\n",
    "                for key, data in edge_data.items():\n",
    "                    dead_end_segments.append(data['index'])\n",
    "    \n",
    "    pruned_links = merged_gdf.drop(dead_end_segments)\n",
    "    \n",
    "    return pruned_links\n",
    "\n",
    "def prune_network(edges, start_end_pts):\n",
    "    \"\"\"\n",
    "    Prunes spurs from the network repeatedly until the number of edges remains constant.\n",
    "\n",
    "    Parameters:\n",
    "    edges (geopandas.GeoDataFrame): The GeoDataFrame of edges (river segments).\n",
    "    start_end_pts (geopandas.GeoDataFrame): The GeoDataFrame containing the two furthest points.\n",
    "\n",
    "    Returns:\n",
    "    geopandas.GeoDataFrame: A pruned GeoDataFrame with all spurs removed.\n",
    "    \"\"\"\n",
    "    previous_edge_count = -1  # Initialize with an impossible count\n",
    "    current_edge_count = len(edges)\n",
    "\n",
    "    while previous_edge_count != current_edge_count:\n",
    "        previous_edge_count = current_edge_count\n",
    "        \n",
    "        # Remove spurs\n",
    "        edges = remove_spurs(edges, start_end_pts)\n",
    "        \n",
    "        # Convert to graph\n",
    "        G = geodataframe_to_graph(edges)\n",
    "        \n",
    "        # Remove degree-2 nodes and merge edges\n",
    "        G = remove_degree_2_nodes(G)\n",
    "        \n",
    "        # Convert back to GeoDataFrame\n",
    "        _, edges = graph_to_merged_geodataframes(G)\n",
    "        \n",
    "        # Update edge count after merging\n",
    "        current_edge_count = len(edges)\n",
    "    \n",
    "    return edges\n",
    "\n",
    "# Function to find shortest path\n",
    "def find_shortest_path(start_end_pts, filtered_links):\n",
    "    \"\"\"\n",
    "    Finds the shortest path between two points in a network of filtered links.\n",
    "\n",
    "    Parameters:\n",
    "    start_end_pts (geopandas.GeoDataFrame): The GeoDataFrame containing the start and end points.\n",
    "    filtered_links (geopandas.GeoDataFrame): The GeoDataFrame containing the network of links (line segments).\n",
    "\n",
    "    Returns:\n",
    "    geopandas.GeoDataFrame: A GeoDataFrame containing the shortest path as a LineString.\n",
    "    \"\"\"\n",
    "    G = nx.Graph()\n",
    "    for idx, row in filtered_links.iterrows():\n",
    "        line = row.geometry\n",
    "        for i in range(len(line.coords) - 1):\n",
    "            start = Point(line.coords[i])\n",
    "            end = Point(line.coords[i + 1])\n",
    "            distance = start.distance(end)\n",
    "            G.add_edge(tuple(start.coords[0]), tuple(end.coords[0]), weight=distance)\n",
    "    \n",
    "    start_point = tuple(start_end_pts.geometry.iloc[0].coords[0])\n",
    "    end_point = tuple(start_end_pts.geometry.iloc[1].coords[0])\n",
    "    shortest_path = nx.shortest_path(G, source=start_point, target=end_point, weight='weight')\n",
    "    shortest_path_coords = [Point(coord) for coord in shortest_path]\n",
    "    shortest_path_line = LineString(shortest_path_coords)\n",
    "    shortest_path_length = shortest_path_line.length\n",
    "    shortest_path_gdf = gpd.GeoDataFrame({'geometry': [shortest_path_line]}, crs=filtered_links.crs)\n",
    "    return shortest_path_gdf\n",
    "\n",
    "# Function to classify channels\n",
    "def classify_channels(edges, shortest_path):\n",
    "    main_channel_line = shortest_path.geometry.iloc[0]\n",
    "\n",
    "    # Creating 'chnl_cat' column to classify channels\n",
    "    edges['chnl_cat'] = edges.apply(\n",
    "        lambda row: 'main_channel' if row.geometry.within(main_channel_line) else 'other', axis=1\n",
    "    )\n",
    "    \n",
    "    # Assigning unique 'chnl_id' to each segment\n",
    "    edges['chnl_id'] = None\n",
    "    edges.loc[edges['chnl_cat'] == 'main_channel', 'chnl_id'] = 1\n",
    "    \n",
    "    # Assign unique ids for 'other' channels\n",
    "    other_idx = edges[edges['chnl_cat'] == 'other'].index\n",
    "    edges.loc[other_idx, 'chnl_id'] = range(2, 2 + len(other_idx))\n",
    "    \n",
    "    return edges\n",
    "\n",
    "# Function to simplify shortest path\n",
    "def simplify_shortest_path(shortest_path, num_vertices=10):\n",
    "    \"\"\"\n",
    "    Simplifies the shortest path to a specified number of vertices.\n",
    "\n",
    "    Parameters:\n",
    "    shortest_path (geopandas.GeoDataFrame): The GeoDataFrame containing the shortest path as a LineString.\n",
    "    num_vertices (int, optional): The number of vertices for the simplified path. Default is 10.\n",
    "\n",
    "    Returns:\n",
    "    geopandas.GeoDataFrame: A GeoDataFrame containing the simplified shortest path as a LineString.\n",
    "    \"\"\"\n",
    "    original_line = shortest_path.geometry.iloc[0]\n",
    "    simplified_coords = [\n",
    "        original_line.interpolate(i / (num_vertices - 1), normalized=True).coords[0] \n",
    "        for i in range(num_vertices)\n",
    "    ]\n",
    "    simplified_line = LineString(simplified_coords)\n",
    "    simplified_path_gdf = gpd.GeoDataFrame({'geometry': [simplified_line]}, crs=shortest_path.crs)\n",
    "    return simplified_path_gdf\n",
    "\n",
    "# Function to create perpendicular lines\n",
    "def create_perpendicular_lines(simplified_path, num_lines=10, fraction_length=1/5):\n",
    "    \"\"\"\n",
    "    Creates perpendicular lines along the simplified path at equal intervals.\n",
    "\n",
    "    Parameters:\n",
    "    simplified_path (geopandas.GeoDataFrame): A GeoDataFrame containing the simplified path as a LineString.\n",
    "    num_lines (int): Number of perpendicular lines to create.\n",
    "    fraction_length (float): Fraction of the total path length for the length of each perpendicular line.\n",
    "\n",
    "    Returns:\n",
    "    geopandas.GeoDataFrame: A GeoDataFrame containing the perpendicular lines.\n",
    "    \"\"\"\n",
    "    # Extract the LineString from the GeoDataFrame\n",
    "    line = simplified_path.geometry.iloc[0]\n",
    "    line_length = line.length\n",
    "    \n",
    "    # Calculate spacing between perpendicular lines and half the length of each perpendicular line\n",
    "    spacing = line_length / num_lines\n",
    "    half_length = (line_length * fraction_length) / 2\n",
    "    \n",
    "    # Generate points at equal intervals along the line\n",
    "    points = [line.interpolate(i * spacing, normalized=False) for i in range(num_lines)]\n",
    "    \n",
    "    perpendicular_lines = []\n",
    "    \n",
    "    coords = list(line.coords)\n",
    "    \n",
    "    for idx, point in enumerate(points):\n",
    "        # Find the segment that the point falls on\n",
    "        segment = None\n",
    "        for i in range(len(coords) - 1):\n",
    "            segment_line = LineString([coords[i], coords[i+1]])\n",
    "            if segment_line.project(point) < segment_line.length:\n",
    "                segment = segment_line\n",
    "                break\n",
    "        \n",
    "        if segment is None:\n",
    "            print(f\"No segment found for point {idx}: {point}\")\n",
    "            continue\n",
    "        \n",
    "        # Calculate the perpendicular direction to the segment\n",
    "        dx = segment.coords[1][0] - segment.coords[0][0]\n",
    "        dy = segment.coords[1][1] - segment.coords[0][1]\n",
    "        length = np.sqrt(dx**2 + dy**2)\n",
    "        perpendicular_direction = (-dy / length, dx / length)\n",
    "        \n",
    "        # Calculate the start and end points of the perpendicular line\n",
    "        start_point = Point(point.x + half_length * perpendicular_direction[0],\n",
    "                            point.y + half_length * perpendicular_direction[1])\n",
    "        end_point = Point(point.x - half_length * perpendicular_direction[0],\n",
    "                          point.y - half_length * perpendicular_direction[1])\n",
    "        \n",
    "        # Create the perpendicular line and add it to the list\n",
    "        perpendicular_line = LineString([start_point, end_point])\n",
    "        perpendicular_lines.append(perpendicular_line)\n",
    "    \n",
    "    # Create a GeoDataFrame from the perpendicular lines\n",
    "    channel_belt_cross_sections = gpd.GeoDataFrame({'geometry': perpendicular_lines}, crs=simplified_path.crs)\n",
    "    \n",
    "    return channel_belt_cross_sections\n",
    "\n",
    "# Function to calculate channel count index\n",
    "def calc_channel_count_index(filtered_links, cross_sections):\n",
    "    \"\"\"\n",
    "    Calculates the Channel Count Index (CCI) for a network of links intersecting with cross sections.\n",
    "\n",
    "    Parameters:\n",
    "    filtered_links (geopandas.GeoDataFrame): The GeoDataFrame containing the network of links (line segments) with a 'chnl_id' classification.\n",
    "    cross_sections (geopandas.GeoDataFrame): The GeoDataFrame containing the cross sections.\n",
    "\n",
    "    Returns:\n",
    "    tuple: A tuple containing:\n",
    "        - cci (float): The Channel Count Index.\n",
    "        - cross_sections (geopandas.GeoDataFrame): The cross sections GeoDataFrame with an additional 'channel_count' column.\n",
    "    \"\"\"\n",
    "    channel_counts = []\n",
    "    \n",
    "    for idx, cross_section in cross_sections.iterrows():\n",
    "        cross_section_geom = cross_section.geometry\n",
    "        \n",
    "        # Find the chnl_ids of segments that intersect the cross section\n",
    "        intersecting_segments = filtered_links[filtered_links.intersects(cross_section_geom)]\n",
    "        unique_chnl_ids = intersecting_segments['chnl_id'].unique()\n",
    "        \n",
    "        # Count the number of unique chnl_ids intersected by this cross section\n",
    "        channel_count = len(unique_chnl_ids)\n",
    "        channel_counts.append(channel_count)\n",
    "    \n",
    "    cross_sections['channel_count'] = channel_counts\n",
    "    \n",
    "    # Calculate the Channel Count Index (CCI)\n",
    "    cci = sum(channel_counts) / len(channel_counts)\n",
    "    \n",
    "    print(f\"Channel Count Index (CCI): {cci}\")\n",
    "    \n",
    "    return cci, cross_sections\n",
    "\n",
    "# Function to calculate sinuosity\n",
    "def calc_sinuosity(shortest_path, simplified_path):\n",
    "    \"\"\"\n",
    "    Calculates the sinuosity of a path by comparing the lengths of the shortest path and the simplified path.\n",
    "\n",
    "    Parameters:\n",
    "    shortest_path (geopandas.GeoDataFrame): The GeoDataFrame containing the shortest path as a LineString.\n",
    "    simplified_path (geopandas.GeoDataFrame): The GeoDataFrame containing the simplified path as a LineString.\n",
    "\n",
    "    Returns:\n",
    "    float: The sinuosity value, which is the ratio of the shortest path length to the simplified path length.\n",
    "    \"\"\"\n",
    "    shortest_path_line = shortest_path.geometry.iloc[0]\n",
    "    simplified_path_line = simplified_path.geometry.iloc[0]\n",
    "    shortest_path_length = shortest_path_line.length\n",
    "    simplified_path_length = simplified_path_line.length\n",
    "    sinuosity = shortest_path_length / simplified_path_length\n",
    "    print(f\"Sinuosity: {sinuosity}\")\n",
    "    return sinuosity\n",
    "\n",
    "# Function to calculate channel form index\n",
    "def calculate_channel_form_index(sinuosity, cci):\n",
    "    \"\"\"\n",
    "    Calculates the Channel Form Index (CFI) based on sinuosity and Channel Count Index (CCI).\n",
    "\n",
    "    Parameters:\n",
    "    sinuosity (float): The sinuosity of the channel.\n",
    "    cci (float): The Channel Count Index.\n",
    "\n",
    "    Returns:\n",
    "    float: The Channel Form Index (CFI).\n",
    "    \"\"\"\n",
    "    cfi = sinuosity / cci\n",
    "    print(f\"Channel Form Index (CFI): {cfi}\")\n",
    "    return cfi\n",
    "\n",
    "# Main function to process network\n",
    "def process_network_folder(river, \n",
    "                           radius,\n",
    "                           min_size = 10,\n",
    "                           year_range=\"All\", \n",
    "                           reach_range=\"All\", \n",
    "                           num_lines=10, \n",
    "                           num_vertices=10, \n",
    "                           fraction_length=1/5, \n",
    "                           root_input=\"C:/Users/huckr/Desktop/UCSB/Dissertation/Data/RiverMapping/RiverMasks\", \n",
    "                           root_output=\"C:/Users/huckr/Desktop/UCSB/Dissertation/Data/RiverMapping/Channels\"):\n",
    "    \"\"\"\n",
    "    Processes a folder containing water mask rasters to extract river channel networks and calculate metrics.\n",
    "    Also generates a PDF with plots of classified channels, cross-sections, and other elements.\n",
    "\n",
    "    Parameters:\n",
    "    river (str): Name of the river.\n",
    "    radius (int): Radius for conditional dilation.\n",
    "    year_range (tuple or str): Year range for processing (default is \"All\").\n",
    "    reach_range (tuple or str): Reach range for processing (default is \"All\").\n",
    "    num_lines (int): Number of perpendicular lines (cross-sections) (default is 10).\n",
    "    num_vertices (int): Number of vertices for simplifying the shortest path (default is 10).\n",
    "    fraction_length (float): Fraction length for creating cross-sections (default is 1/5).\n",
    "    root_input (str): Root input directory (default is the specified path).\n",
    "    root_output (str): Root output directory (default is the specified path).\n",
    "\n",
    "    Returns:\n",
    "    None\n",
    "    \"\"\"\n",
    "    input_folder = os.path.join(root_input, river)\n",
    "    os.makedirs(input_folder, exist_ok=True)\n",
    "    output_folder_base = os.path.join(root_output, river)\n",
    "    os.makedirs(output_folder_base, exist_ok=True)\n",
    "    \n",
    "    def parse_range(input_range, default_start, default_end, range_name, pattern):\n",
    "        \"\"\"\n",
    "        Parses and validates a range input for years or reaches.\n",
    "\n",
    "        Parameters:\n",
    "        input_range (str, int, tuple, None): The range to parse.\n",
    "        default_start (int): Default start value if input_range is 'All' or None.\n",
    "        default_end (int): Default end value if input_range is 'All' or None.\n",
    "        range_name (str): Name of the range for error messages.\n",
    "        pattern (str): Regex pattern for validating string representations of ranges.\n",
    "\n",
    "        Returns:\n",
    "        tuple[int, int]: Parsed start and end of the range.\n",
    "        \"\"\"\n",
    "        if input_range in [\"All\", None]:\n",
    "            return default_start, default_end\n",
    "        elif isinstance(input_range, int):\n",
    "            return input_range, input_range\n",
    "        elif isinstance(input_range, str):\n",
    "            if re.match(pattern, input_range):  # Match the pattern\n",
    "                try:\n",
    "                    # Convert the string to a tuple of integers\n",
    "                    input_range = ast.literal_eval(input_range)\n",
    "                    if isinstance(input_range, tuple) and len(input_range) == 2 and all(isinstance(i, int) for i in input_range):\n",
    "                        return input_range\n",
    "                    else:\n",
    "                        raise ValueError(f\"{range_name} string must represent a tuple of two integers.\")\n",
    "                except (ValueError, SyntaxError):\n",
    "                    raise ValueError(f\"Invalid {range_name} format: {input_range}\")\n",
    "            else:\n",
    "                raise ValueError(f\"Invalid string format for {range_name}: {input_range}\")\n",
    "        elif isinstance(input_range, tuple) and len(input_range) == 2 and all(isinstance(i, int) for i in input_range):\n",
    "            return input_range\n",
    "        else:\n",
    "            raise ValueError(f\"{range_name} must be 'All', an int, or a tuple (start, end).\")\n",
    "\n",
    "    # Define patterns for validating string inputs\n",
    "    year_pattern = r'^\\(\\d{4}, \\d{4}\\)$'  # (YYYY, YYYY)\n",
    "    reach_pattern = r'^\\(\\d{1,4}, \\d{1,4}\\)$'  # (XX, YY) with 1 to 4 digits\n",
    "\n",
    "    # Parse year_range and reach_range using the refactored function\n",
    "    year_start, year_end = parse_range(year_range, 1984, 2025, \"year_range\", year_pattern)\n",
    "    reach_start, reach_end = parse_range(reach_range, 1, 9999, \"reach_range\", reach_pattern)\n",
    "    \n",
    "    # Initialize a dictionary to store metrics\n",
    "    metrics = {}\n",
    "\n",
    "    # Create a PDF file to store the plots\n",
    "    pdf_path = os.path.join(output_folder_base, f'{river}_report.pdf')\n",
    "    with PdfPages(pdf_path) as pdf:\n",
    "        # Title page with summary information\n",
    "        fig, ax = plt.subplots(figsize=(8.5, 11))\n",
    "        ax.axis('off')\n",
    "        summary_text = (f\"River Name: {river}\\n\"\n",
    "                        f\"Year Range: {year_start} - {year_end}\\n\"\n",
    "                        f\"Reach Range: {reach_start} - {reach_end}\\n\"\n",
    "                        f\"Radius for Conditional Dilation: {radius}\\n\"\n",
    "                        f\"Minimum Size for Islands: {min_size}\\n\"\n",
    "                        f\"Number of Perpendicular Lines: {num_lines}\\n\"\n",
    "                        f\"Number of Vertices for Simplification: {num_vertices}\\n\"\n",
    "                        f\"Fraction Length for Cross-Sections: {fraction_length}\\n\")\n",
    "        ax.text(0.5, 0.5, summary_text, ha='center', va='center', fontsize=12)\n",
    "        pdf.savefig(fig)\n",
    "        plt.close(fig)\n",
    "\n",
    "        # Process each reach folder\n",
    "        for reach_folder in glob(os.path.join(input_folder, 'reach_*')):\n",
    "            reach_folder_name = os.path.basename(reach_folder)\n",
    "            match_reach = re.match(r\"reach_(\\d+)\", reach_folder_name)\n",
    "            if match_reach:\n",
    "                reach = int(match_reach.group(1))\n",
    "                if reach_start <= reach <= reach_end:\n",
    "                    processed_folder = os.path.join(reach_folder, 'Processed')\n",
    "                    for file_path in glob(os.path.join(processed_folder, '*.tif')):\n",
    "                        file_name = os.path.basename(file_path)\n",
    "                        match_year = re.match(rf\"{river}_reach_{reach}_(\\d{{4}})_.*\\.tif\", file_name)\n",
    "                        if match_year:\n",
    "                            year = int(match_year.group(1))\n",
    "                            if year_start <= year <= year_end:\n",
    "                                output_folder = os.path.join(output_folder_base, f\"reach_{reach}\", str(year))\n",
    "                                os.makedirs(output_folder, exist_ok=True)\n",
    "                                \n",
    "                                try:\n",
    "                                    water_mask, metadata = load_raster(file_path)\n",
    "                                    cleaned_water_mask = eliminate_small_islands(water_mask, min_size=10)\n",
    "                                    skeleton = skeletonize(cleaned_water_mask > 0)\n",
    "                                    dilated_skeleton = conditional_dilation(skeleton, radius)\n",
    "                                    reskeletonized = skeletonize(dilated_skeleton > 0)\n",
    "                                    largest_component = keep_largest_component(reskeletonized)\n",
    "                                    \n",
    "                                    largest_component_output_path = os.path.join(output_folder, 'largest_component.tif')\n",
    "                                    save_raster(largest_component_output_path, largest_component, metadata)\n",
    "\n",
    "                                    initial_links = create_links(largest_component, metadata)\n",
    "                                    filtered_links = filter_links(initial_links)\n",
    "                                    \n",
    "                                    chan_graph1 = geodataframe_to_graph(filtered_links)\n",
    "\n",
    "                                    chan_graph2 = remove_degree_2_nodes(chan_graph1)\n",
    "\n",
    "                                    nodes, edges = graph_to_merged_geodataframes(chan_graph2)\n",
    "                                    start_end_pts = find_furthest_endpoints(nodes)\n",
    "                                    pruned_edges = prune_network(edges, start_end_pts)\n",
    "\n",
    "                                    shortest_path_gdf = find_shortest_path(start_end_pts, pruned_edges)\n",
    "                                    classified_links = classify_channels(pruned_edges, shortest_path_gdf)\n",
    "                                    valley_center_line = simplify_shortest_path(shortest_path_gdf, num_vertices)\n",
    "                                    channel_belt_cross_sections = create_perpendicular_lines(valley_center_line, num_lines, fraction_length)\n",
    "                                    \n",
    "                                    sinuosity_value = calc_sinuosity(shortest_path_gdf, valley_center_line)\n",
    "                                    cci, updated_cross_sections = calc_channel_count_index(classified_links, channel_belt_cross_sections)\n",
    "                                    cfi_value = calculate_channel_form_index(sinuosity_value, cci)\n",
    "                                    \n",
    "                                    classified_links.to_file(os.path.join(output_folder, 'channel_links.shp'))\n",
    "                                    channel_belt_cross_sections.to_file(os.path.join(output_folder, 'channel_belt_cross_sections.shp'))\n",
    "                                    nodes.to_file(os.path.join(output_folder, 'nodes.shp'))\n",
    "                                    shortest_path_gdf.to_file(os.path.join(output_folder, 'main_channel.shp'))\n",
    "                                    valley_center_line.to_file(os.path.join(output_folder, 'valley_center_line.shp'))\n",
    "                                    \n",
    "                                    # Store metrics\n",
    "                                    reach_key = f\"reach_{reach}\"\n",
    "                                    if reach_key not in metrics:\n",
    "                                        metrics[reach_key] = {}\n",
    "                                    metrics[reach_key][year] = {\n",
    "                                        'Sinuosity': sinuosity_value,\n",
    "                                        'CCI': cci,\n",
    "                                        'CFI': cfi_value\n",
    "                                    }\n",
    "\n",
    "                                    # Generate a plot for the PDF\n",
    "                                    fig, ax = plt.subplots(figsize=(8.5, 11))\n",
    "                                    ax.set_title(f\"Reach {reach}, Year {year}\")\n",
    "                                    \n",
    "                                    # Plot the cleaned water mask at the bottom\n",
    "                                    show(cleaned_water_mask, transform=metadata['transform'], ax=ax, cmap='gray')\n",
    "                                    \n",
    "                                    # Plot classified channels and cross-sections\n",
    "                                    classified_links.plot(ax=ax, color='#39FF14', linewidth=1)\n",
    "                                    channel_belt_cross_sections.plot(ax=ax, color='orange', linewidth=1)\n",
    "                                    \n",
    "                                    # Plot the main channel on top\n",
    "                                    shortest_path_gdf.plot(ax=ax, color='red', linewidth=2)\n",
    "                                    \n",
    "                                    # Add channel counts at the end of each cross-section\n",
    "                                    for idx, row in updated_cross_sections.iterrows():\n",
    "                                        x, y = row.geometry.centroid.x, row.geometry.centroid.y\n",
    "                                        ax.text(x, y, str(row['channel_count']), fontsize=8, ha='center', va='center', color='black', bbox=dict(facecolor='white', alpha=0.5))\n",
    "\n",
    "                                    # Display metrics in the bottom right corner\n",
    "                                    ax.text(0.95, 0.05, f\"Sinuosity: {sinuosity_value:.2f}\\nCCI: {cci:.2f}\\nCFI: {cfi_value:.2f}\",\n",
    "                                            ha='right', va='bottom', transform=ax.transAxes, fontsize=10,\n",
    "                                            bbox=dict(facecolor='white', alpha=0.5))\n",
    "                                    \n",
    "                                    # Save the plot to the PDF\n",
    "                                    pdf.savefig(fig)\n",
    "                                    plt.close(fig)\n",
    "\n",
    "                                except Exception as e:\n",
    "                                    logging.error(f\"Error processing file {file_path}: {e}\")\n",
    "                                    continue\n",
    "\n",
    "        # Save metrics to an Excel workbook\n",
    "        metrics_output_path = os.path.join(output_folder_base, f'{river}_metrics.xlsx')\n",
    "        with pd.ExcelWriter(metrics_output_path) as writer:\n",
    "            for reach, reach_metrics in metrics.items():\n",
    "                df = pd.DataFrame.from_dict(reach_metrics, orient='index')\n",
    "                df.to_excel(writer, sheet_name=reach)\n",
    "                \n",
    "def main(input_directory):\n",
    "    \"\"\"\n",
    "    Main function to process rivers based on a CSV file of input variables.\n",
    "    \n",
    "    Args:\n",
    "        input_directory (str): The directory where the input .csv file resides.\n",
    "    \n",
    "    The .csv file should contain the following columns:\n",
    "        - river_name\n",
    "        - radius\n",
    "        - min_blob_size\n",
    "        - year_range\n",
    "        - reach_range\n",
    "        - num_xcs (num_lines)\n",
    "        - num_vertices\n",
    "        - fraction_length\n",
    "        - root_input\n",
    "        - root_output\n",
    "    \"\"\"\n",
    "    \n",
    "    # Load the CSV into a pandas DataFrame\n",
    "    river_data = pd.read_csv(input_directory)\n",
    "    \n",
    "    # Iterate through each row (each river) and run the process_network_folder() function\n",
    "    for index, row in river_data.iterrows():\n",
    "        river_name = row['river_name']\n",
    "        working_directory = row['working_directory']\n",
    "        radius = row['dilation_radius']\n",
    "        min_blob_size = row['min_blob_size']\n",
    "        year_range = row['year_range'] \n",
    "        reach_range = row['reach_range'] \n",
    "        num_lines = row['num_xcs']\n",
    "        num_vertices = row['num_vertices']\n",
    "        fraction_length = float(Fraction(row['fraction_length']))\n",
    "        root_input = os.path.join(working_directory, \"RiverMapping\", \"RiverMasks\")\n",
    "        os.makedirs(root_input, exist_ok=True)\n",
    "        root_output = os.path.join(working_directory, \"RiverMapping\", \"Channels\")\n",
    "        os.makedirs(root_output, exist_ok=True)\n",
    "        print(f\"Processing river: {river_name}\")\n",
    "        \n",
    "        # Call the existing function with inputs from the current row\n",
    "        process_network_folder(\n",
    "            river=river_name,\n",
    "            radius=radius,\n",
    "            min_size=min_blob_size,\n",
    "            year_range=year_range,\n",
    "            reach_range=reach_range,\n",
    "            num_lines=num_lines,\n",
    "            num_vertices=num_vertices,\n",
    "            fraction_length=fraction_length,\n",
    "            root_input=root_input,\n",
    "            root_output=root_output\n",
    "        )\n",
    "        \n",
    "    print(\"All rivers processed.\")"
   ]
  },
  {
   "cell_type": "markdown",
   "id": "7fe48584",
   "metadata": {},
   "source": [
    "## Execute code for a river, a reach, or specific years"
   ]
  },
  {
   "cell_type": "code",
   "execution_count": 3,
   "id": "df9d3ce3",
   "metadata": {},
   "outputs": [
    {
     "name": "stdout",
     "output_type": "stream",
     "text": [
      "Processing river: Betsiboka\n",
      "Sinuosity: 1.417350998646073\n",
      "Channel Count Index (CCI): 1.6\n",
      "Channel Form Index (CFI): 0.8858443741537956\n"
     ]
    },
    {
     "name": "stderr",
     "output_type": "stream",
     "text": [
      "C:\\Users\\huckr\\AppData\\Local\\Temp\\ipykernel_21016\\578621774.py:838: UserWarning: Column names longer than 10 characters will be truncated when saved to ESRI Shapefile.\n",
      "  channel_belt_cross_sections.to_file(os.path.join(output_folder, 'channel_belt_cross_sections.shp'))\n"
     ]
    },
    {
     "name": "stdout",
     "output_type": "stream",
     "text": [
      "Sinuosity: 1.4298878922418117\n",
      "Channel Count Index (CCI): 1.58\n",
      "Channel Form Index (CFI): 0.904992336861906\n"
     ]
    },
    {
     "name": "stderr",
     "output_type": "stream",
     "text": [
      "C:\\Users\\huckr\\AppData\\Local\\Temp\\ipykernel_21016\\578621774.py:838: UserWarning: Column names longer than 10 characters will be truncated when saved to ESRI Shapefile.\n",
      "  channel_belt_cross_sections.to_file(os.path.join(output_folder, 'channel_belt_cross_sections.shp'))\n"
     ]
    },
    {
     "name": "stdout",
     "output_type": "stream",
     "text": [
      "Sinuosity: 1.3850345569356384\n",
      "Channel Count Index (CCI): 1.62\n",
      "Channel Form Index (CFI): 0.8549596030466903\n"
     ]
    },
    {
     "name": "stderr",
     "output_type": "stream",
     "text": [
      "C:\\Users\\huckr\\AppData\\Local\\Temp\\ipykernel_21016\\578621774.py:838: UserWarning: Column names longer than 10 characters will be truncated when saved to ESRI Shapefile.\n",
      "  channel_belt_cross_sections.to_file(os.path.join(output_folder, 'channel_belt_cross_sections.shp'))\n"
     ]
    },
    {
     "name": "stdout",
     "output_type": "stream",
     "text": [
      "Sinuosity: 1.407451411552701\n",
      "Channel Count Index (CCI): 1.36\n",
      "Channel Form Index (CFI): 1.0348907437887507\n"
     ]
    },
    {
     "name": "stderr",
     "output_type": "stream",
     "text": [
      "C:\\Users\\huckr\\AppData\\Local\\Temp\\ipykernel_21016\\578621774.py:838: UserWarning: Column names longer than 10 characters will be truncated when saved to ESRI Shapefile.\n",
      "  channel_belt_cross_sections.to_file(os.path.join(output_folder, 'channel_belt_cross_sections.shp'))\n"
     ]
    },
    {
     "name": "stdout",
     "output_type": "stream",
     "text": [
      "Sinuosity: 1.4220682276194987\n",
      "Channel Count Index (CCI): 1.56\n",
      "Channel Form Index (CFI): 0.9115821971919863\n"
     ]
    },
    {
     "name": "stderr",
     "output_type": "stream",
     "text": [
      "C:\\Users\\huckr\\AppData\\Local\\Temp\\ipykernel_21016\\578621774.py:838: UserWarning: Column names longer than 10 characters will be truncated when saved to ESRI Shapefile.\n",
      "  channel_belt_cross_sections.to_file(os.path.join(output_folder, 'channel_belt_cross_sections.shp'))\n"
     ]
    },
    {
     "name": "stdout",
     "output_type": "stream",
     "text": [
      "Sinuosity: 1.4103880401807416\n",
      "Channel Count Index (CCI): 1.66\n",
      "Channel Form Index (CFI): 0.8496313495064709\n"
     ]
    },
    {
     "name": "stderr",
     "output_type": "stream",
     "text": [
      "C:\\Users\\huckr\\AppData\\Local\\Temp\\ipykernel_21016\\578621774.py:838: UserWarning: Column names longer than 10 characters will be truncated when saved to ESRI Shapefile.\n",
      "  channel_belt_cross_sections.to_file(os.path.join(output_folder, 'channel_belt_cross_sections.shp'))\n"
     ]
    },
    {
     "name": "stdout",
     "output_type": "stream",
     "text": [
      "Sinuosity: 1.4075513073891186\n",
      "Channel Count Index (CCI): 1.58\n",
      "Channel Form Index (CFI): 0.8908552578412142\n"
     ]
    },
    {
     "name": "stderr",
     "output_type": "stream",
     "text": [
      "C:\\Users\\huckr\\AppData\\Local\\Temp\\ipykernel_21016\\578621774.py:838: UserWarning: Column names longer than 10 characters will be truncated when saved to ESRI Shapefile.\n",
      "  channel_belt_cross_sections.to_file(os.path.join(output_folder, 'channel_belt_cross_sections.shp'))\n"
     ]
    },
    {
     "name": "stdout",
     "output_type": "stream",
     "text": [
      "Sinuosity: 1.373190432350071\n",
      "Channel Count Index (CCI): 2.22\n",
      "Channel Form Index (CFI): 0.6185542488063382\n"
     ]
    },
    {
     "name": "stderr",
     "output_type": "stream",
     "text": [
      "C:\\Users\\huckr\\AppData\\Local\\Temp\\ipykernel_21016\\578621774.py:838: UserWarning: Column names longer than 10 characters will be truncated when saved to ESRI Shapefile.\n",
      "  channel_belt_cross_sections.to_file(os.path.join(output_folder, 'channel_belt_cross_sections.shp'))\n"
     ]
    },
    {
     "name": "stdout",
     "output_type": "stream",
     "text": [
      "Sinuosity: 1.3431975754501608\n",
      "Channel Count Index (CCI): 1.92\n",
      "Channel Form Index (CFI): 0.6995820705469588\n"
     ]
    },
    {
     "name": "stderr",
     "output_type": "stream",
     "text": [
      "C:\\Users\\huckr\\AppData\\Local\\Temp\\ipykernel_21016\\578621774.py:838: UserWarning: Column names longer than 10 characters will be truncated when saved to ESRI Shapefile.\n",
      "  channel_belt_cross_sections.to_file(os.path.join(output_folder, 'channel_belt_cross_sections.shp'))\n"
     ]
    },
    {
     "name": "stdout",
     "output_type": "stream",
     "text": [
      "Sinuosity: 1.341331131970979\n",
      "Channel Count Index (CCI): 1.58\n",
      "Channel Form Index (CFI): 0.8489437544120121\n"
     ]
    },
    {
     "name": "stderr",
     "output_type": "stream",
     "text": [
      "C:\\Users\\huckr\\AppData\\Local\\Temp\\ipykernel_21016\\578621774.py:838: UserWarning: Column names longer than 10 characters will be truncated when saved to ESRI Shapefile.\n",
      "  channel_belt_cross_sections.to_file(os.path.join(output_folder, 'channel_belt_cross_sections.shp'))\n"
     ]
    },
    {
     "name": "stdout",
     "output_type": "stream",
     "text": [
      "Sinuosity: 1.3778226761702121\n",
      "Channel Count Index (CCI): 1.6\n",
      "Channel Form Index (CFI): 0.8611391726063825\n"
     ]
    },
    {
     "name": "stderr",
     "output_type": "stream",
     "text": [
      "C:\\Users\\huckr\\AppData\\Local\\Temp\\ipykernel_21016\\578621774.py:838: UserWarning: Column names longer than 10 characters will be truncated when saved to ESRI Shapefile.\n",
      "  channel_belt_cross_sections.to_file(os.path.join(output_folder, 'channel_belt_cross_sections.shp'))\n"
     ]
    },
    {
     "name": "stdout",
     "output_type": "stream",
     "text": [
      "Sinuosity: 1.3495592324376517\n",
      "Channel Count Index (CCI): 1.56\n",
      "Channel Form Index (CFI): 0.8651020720754178\n"
     ]
    },
    {
     "name": "stderr",
     "output_type": "stream",
     "text": [
      "C:\\Users\\huckr\\AppData\\Local\\Temp\\ipykernel_21016\\578621774.py:838: UserWarning: Column names longer than 10 characters will be truncated when saved to ESRI Shapefile.\n",
      "  channel_belt_cross_sections.to_file(os.path.join(output_folder, 'channel_belt_cross_sections.shp'))\n"
     ]
    },
    {
     "name": "stdout",
     "output_type": "stream",
     "text": [
      "Sinuosity: 1.34337036179775\n",
      "Channel Count Index (CCI): 1.52\n",
      "Channel Form Index (CFI): 0.8837962906564144\n"
     ]
    },
    {
     "name": "stderr",
     "output_type": "stream",
     "text": [
      "C:\\Users\\huckr\\AppData\\Local\\Temp\\ipykernel_21016\\578621774.py:838: UserWarning: Column names longer than 10 characters will be truncated when saved to ESRI Shapefile.\n",
      "  channel_belt_cross_sections.to_file(os.path.join(output_folder, 'channel_belt_cross_sections.shp'))\n"
     ]
    },
    {
     "name": "stdout",
     "output_type": "stream",
     "text": [
      "Sinuosity: 1.3616748759500445\n",
      "Channel Count Index (CCI): 1.64\n",
      "Channel Form Index (CFI): 0.8302895585061247\n"
     ]
    },
    {
     "name": "stderr",
     "output_type": "stream",
     "text": [
      "C:\\Users\\huckr\\AppData\\Local\\Temp\\ipykernel_21016\\578621774.py:838: UserWarning: Column names longer than 10 characters will be truncated when saved to ESRI Shapefile.\n",
      "  channel_belt_cross_sections.to_file(os.path.join(output_folder, 'channel_belt_cross_sections.shp'))\n"
     ]
    },
    {
     "name": "stdout",
     "output_type": "stream",
     "text": [
      "Sinuosity: 1.3883766589819533\n",
      "Channel Count Index (CCI): 1.94\n",
      "Channel Form Index (CFI): 0.7156580716401821\n"
     ]
    },
    {
     "name": "stderr",
     "output_type": "stream",
     "text": [
      "C:\\Users\\huckr\\AppData\\Local\\Temp\\ipykernel_21016\\578621774.py:838: UserWarning: Column names longer than 10 characters will be truncated when saved to ESRI Shapefile.\n",
      "  channel_belt_cross_sections.to_file(os.path.join(output_folder, 'channel_belt_cross_sections.shp'))\n"
     ]
    },
    {
     "name": "stdout",
     "output_type": "stream",
     "text": [
      "Sinuosity: 1.3706495183169027\n",
      "Channel Count Index (CCI): 1.6\n",
      "Channel Form Index (CFI): 0.8566559489480642\n"
     ]
    },
    {
     "name": "stderr",
     "output_type": "stream",
     "text": [
      "C:\\Users\\huckr\\AppData\\Local\\Temp\\ipykernel_21016\\578621774.py:838: UserWarning: Column names longer than 10 characters will be truncated when saved to ESRI Shapefile.\n",
      "  channel_belt_cross_sections.to_file(os.path.join(output_folder, 'channel_belt_cross_sections.shp'))\n"
     ]
    },
    {
     "name": "stdout",
     "output_type": "stream",
     "text": [
      "Sinuosity: 1.412153754371047\n",
      "Channel Count Index (CCI): 1.56\n",
      "Channel Form Index (CFI): 0.905226765622466\n"
     ]
    },
    {
     "name": "stderr",
     "output_type": "stream",
     "text": [
      "C:\\Users\\huckr\\AppData\\Local\\Temp\\ipykernel_21016\\578621774.py:838: UserWarning: Column names longer than 10 characters will be truncated when saved to ESRI Shapefile.\n",
      "  channel_belt_cross_sections.to_file(os.path.join(output_folder, 'channel_belt_cross_sections.shp'))\n"
     ]
    },
    {
     "name": "stdout",
     "output_type": "stream",
     "text": [
      "Sinuosity: 1.4127741332005956\n",
      "Channel Count Index (CCI): 1.56\n",
      "Channel Form Index (CFI): 0.9056244443593562\n"
     ]
    },
    {
     "name": "stderr",
     "output_type": "stream",
     "text": [
      "C:\\Users\\huckr\\AppData\\Local\\Temp\\ipykernel_21016\\578621774.py:838: UserWarning: Column names longer than 10 characters will be truncated when saved to ESRI Shapefile.\n",
      "  channel_belt_cross_sections.to_file(os.path.join(output_folder, 'channel_belt_cross_sections.shp'))\n"
     ]
    },
    {
     "name": "stdout",
     "output_type": "stream",
     "text": [
      "Sinuosity: 1.3996630369837397\n",
      "Channel Count Index (CCI): 1.68\n",
      "Channel Form Index (CFI): 0.8331327601093689\n"
     ]
    },
    {
     "name": "stderr",
     "output_type": "stream",
     "text": [
      "C:\\Users\\huckr\\AppData\\Local\\Temp\\ipykernel_21016\\578621774.py:838: UserWarning: Column names longer than 10 characters will be truncated when saved to ESRI Shapefile.\n",
      "  channel_belt_cross_sections.to_file(os.path.join(output_folder, 'channel_belt_cross_sections.shp'))\n"
     ]
    },
    {
     "name": "stdout",
     "output_type": "stream",
     "text": [
      "Sinuosity: 1.4060672874885418\n",
      "Channel Count Index (CCI): 1.7\n",
      "Channel Form Index (CFI): 0.8270984044050246\n"
     ]
    },
    {
     "name": "stderr",
     "output_type": "stream",
     "text": [
      "C:\\Users\\huckr\\AppData\\Local\\Temp\\ipykernel_21016\\578621774.py:838: UserWarning: Column names longer than 10 characters will be truncated when saved to ESRI Shapefile.\n",
      "  channel_belt_cross_sections.to_file(os.path.join(output_folder, 'channel_belt_cross_sections.shp'))\n"
     ]
    },
    {
     "name": "stdout",
     "output_type": "stream",
     "text": [
      "Sinuosity: 1.3787949266799422\n",
      "Channel Count Index (CCI): 1.92\n",
      "Channel Form Index (CFI): 0.7181223576458032\n"
     ]
    },
    {
     "name": "stderr",
     "output_type": "stream",
     "text": [
      "C:\\Users\\huckr\\AppData\\Local\\Temp\\ipykernel_21016\\578621774.py:838: UserWarning: Column names longer than 10 characters will be truncated when saved to ESRI Shapefile.\n",
      "  channel_belt_cross_sections.to_file(os.path.join(output_folder, 'channel_belt_cross_sections.shp'))\n"
     ]
    },
    {
     "name": "stdout",
     "output_type": "stream",
     "text": [
      "Sinuosity: 1.3764814260744196\n",
      "Channel Count Index (CCI): 1.68\n",
      "Channel Form Index (CFI): 0.8193341821871546\n"
     ]
    },
    {
     "name": "stderr",
     "output_type": "stream",
     "text": [
      "C:\\Users\\huckr\\AppData\\Local\\Temp\\ipykernel_21016\\578621774.py:838: UserWarning: Column names longer than 10 characters will be truncated when saved to ESRI Shapefile.\n",
      "  channel_belt_cross_sections.to_file(os.path.join(output_folder, 'channel_belt_cross_sections.shp'))\n"
     ]
    },
    {
     "name": "stdout",
     "output_type": "stream",
     "text": [
      "Sinuosity: 1.1546000763997366\n",
      "Channel Count Index (CCI): 2.12\n",
      "Channel Form Index (CFI): 0.5446226775470455\n"
     ]
    },
    {
     "name": "stderr",
     "output_type": "stream",
     "text": [
      "C:\\Users\\huckr\\AppData\\Local\\Temp\\ipykernel_21016\\578621774.py:838: UserWarning: Column names longer than 10 characters will be truncated when saved to ESRI Shapefile.\n",
      "  channel_belt_cross_sections.to_file(os.path.join(output_folder, 'channel_belt_cross_sections.shp'))\n"
     ]
    },
    {
     "name": "stdout",
     "output_type": "stream",
     "text": [
      "Sinuosity: 1.3868098945060743\n",
      "Channel Count Index (CCI): 1.98\n",
      "Channel Form Index (CFI): 0.7004090376293305\n"
     ]
    },
    {
     "name": "stderr",
     "output_type": "stream",
     "text": [
      "C:\\Users\\huckr\\AppData\\Local\\Temp\\ipykernel_21016\\578621774.py:838: UserWarning: Column names longer than 10 characters will be truncated when saved to ESRI Shapefile.\n",
      "  channel_belt_cross_sections.to_file(os.path.join(output_folder, 'channel_belt_cross_sections.shp'))\n"
     ]
    },
    {
     "name": "stdout",
     "output_type": "stream",
     "text": [
      "Sinuosity: 1.3986609223156348\n",
      "Channel Count Index (CCI): 1.74\n",
      "Channel Form Index (CFI): 0.8038281162733533\n"
     ]
    },
    {
     "name": "stderr",
     "output_type": "stream",
     "text": [
      "C:\\Users\\huckr\\AppData\\Local\\Temp\\ipykernel_21016\\578621774.py:838: UserWarning: Column names longer than 10 characters will be truncated when saved to ESRI Shapefile.\n",
      "  channel_belt_cross_sections.to_file(os.path.join(output_folder, 'channel_belt_cross_sections.shp'))\n"
     ]
    },
    {
     "name": "stdout",
     "output_type": "stream",
     "text": [
      "Sinuosity: 1.3594613668997222\n",
      "Channel Count Index (CCI): 1.58\n",
      "Channel Form Index (CFI): 0.8604185866453937\n"
     ]
    },
    {
     "name": "stderr",
     "output_type": "stream",
     "text": [
      "C:\\Users\\huckr\\AppData\\Local\\Temp\\ipykernel_21016\\578621774.py:838: UserWarning: Column names longer than 10 characters will be truncated when saved to ESRI Shapefile.\n",
      "  channel_belt_cross_sections.to_file(os.path.join(output_folder, 'channel_belt_cross_sections.shp'))\n"
     ]
    },
    {
     "name": "stdout",
     "output_type": "stream",
     "text": [
      "Sinuosity: 1.339228300875976\n",
      "Channel Count Index (CCI): 1.6\n",
      "Channel Form Index (CFI): 0.837017688047485\n"
     ]
    },
    {
     "name": "stderr",
     "output_type": "stream",
     "text": [
      "C:\\Users\\huckr\\AppData\\Local\\Temp\\ipykernel_21016\\578621774.py:838: UserWarning: Column names longer than 10 characters will be truncated when saved to ESRI Shapefile.\n",
      "  channel_belt_cross_sections.to_file(os.path.join(output_folder, 'channel_belt_cross_sections.shp'))\n"
     ]
    },
    {
     "name": "stdout",
     "output_type": "stream",
     "text": [
      "Sinuosity: 1.3488384059450382\n",
      "Channel Count Index (CCI): 1.48\n",
      "Channel Form Index (CFI): 0.911377301314215\n"
     ]
    },
    {
     "name": "stderr",
     "output_type": "stream",
     "text": [
      "C:\\Users\\huckr\\AppData\\Local\\Temp\\ipykernel_21016\\578621774.py:838: UserWarning: Column names longer than 10 characters will be truncated when saved to ESRI Shapefile.\n",
      "  channel_belt_cross_sections.to_file(os.path.join(output_folder, 'channel_belt_cross_sections.shp'))\n"
     ]
    },
    {
     "name": "stdout",
     "output_type": "stream",
     "text": [
      "Sinuosity: 1.3589074921989721\n",
      "Channel Count Index (CCI): 1.66\n",
      "Channel Form Index (CFI): 0.8186189712042001\n"
     ]
    },
    {
     "name": "stderr",
     "output_type": "stream",
     "text": [
      "C:\\Users\\huckr\\AppData\\Local\\Temp\\ipykernel_21016\\578621774.py:838: UserWarning: Column names longer than 10 characters will be truncated when saved to ESRI Shapefile.\n",
      "  channel_belt_cross_sections.to_file(os.path.join(output_folder, 'channel_belt_cross_sections.shp'))\n"
     ]
    },
    {
     "name": "stdout",
     "output_type": "stream",
     "text": [
      "Sinuosity: 1.3729798399456679\n",
      "Channel Count Index (CCI): 1.48\n",
      "Channel Form Index (CFI): 0.9276890810443702\n"
     ]
    },
    {
     "name": "stderr",
     "output_type": "stream",
     "text": [
      "C:\\Users\\huckr\\AppData\\Local\\Temp\\ipykernel_21016\\578621774.py:838: UserWarning: Column names longer than 10 characters will be truncated when saved to ESRI Shapefile.\n",
      "  channel_belt_cross_sections.to_file(os.path.join(output_folder, 'channel_belt_cross_sections.shp'))\n"
     ]
    },
    {
     "name": "stdout",
     "output_type": "stream",
     "text": [
      "Sinuosity: 1.3737713255350523\n",
      "Channel Count Index (CCI): 1.76\n",
      "Channel Form Index (CFI): 0.7805518895085525\n"
     ]
    },
    {
     "name": "stderr",
     "output_type": "stream",
     "text": [
      "C:\\Users\\huckr\\AppData\\Local\\Temp\\ipykernel_21016\\578621774.py:838: UserWarning: Column names longer than 10 characters will be truncated when saved to ESRI Shapefile.\n",
      "  channel_belt_cross_sections.to_file(os.path.join(output_folder, 'channel_belt_cross_sections.shp'))\n"
     ]
    },
    {
     "name": "stdout",
     "output_type": "stream",
     "text": [
      "Sinuosity: 1.3750283072287304\n",
      "Channel Count Index (CCI): 1.7\n",
      "Channel Form Index (CFI): 0.8088401807227826\n"
     ]
    },
    {
     "name": "stderr",
     "output_type": "stream",
     "text": [
      "C:\\Users\\huckr\\AppData\\Local\\Temp\\ipykernel_21016\\578621774.py:838: UserWarning: Column names longer than 10 characters will be truncated when saved to ESRI Shapefile.\n",
      "  channel_belt_cross_sections.to_file(os.path.join(output_folder, 'channel_belt_cross_sections.shp'))\n"
     ]
    },
    {
     "name": "stdout",
     "output_type": "stream",
     "text": [
      "Sinuosity: 1.3638616780310902\n",
      "Channel Count Index (CCI): 1.68\n",
      "Channel Form Index (CFI): 0.8118224273994584\n"
     ]
    },
    {
     "name": "stderr",
     "output_type": "stream",
     "text": [
      "C:\\Users\\huckr\\AppData\\Local\\Temp\\ipykernel_21016\\578621774.py:838: UserWarning: Column names longer than 10 characters will be truncated when saved to ESRI Shapefile.\n",
      "  channel_belt_cross_sections.to_file(os.path.join(output_folder, 'channel_belt_cross_sections.shp'))\n"
     ]
    },
    {
     "name": "stdout",
     "output_type": "stream",
     "text": [
      "Sinuosity: 1.3527665470383645\n",
      "Channel Count Index (CCI): 1.8\n",
      "Channel Form Index (CFI): 0.7515369705768692\n"
     ]
    },
    {
     "name": "stderr",
     "output_type": "stream",
     "text": [
      "C:\\Users\\huckr\\AppData\\Local\\Temp\\ipykernel_21016\\578621774.py:838: UserWarning: Column names longer than 10 characters will be truncated when saved to ESRI Shapefile.\n",
      "  channel_belt_cross_sections.to_file(os.path.join(output_folder, 'channel_belt_cross_sections.shp'))\n"
     ]
    },
    {
     "name": "stdout",
     "output_type": "stream",
     "text": [
      "Sinuosity: 1.3635068436189617\n",
      "Channel Count Index (CCI): 1.64\n",
      "Channel Form Index (CFI): 0.8314066119627815\n"
     ]
    },
    {
     "name": "stderr",
     "output_type": "stream",
     "text": [
      "C:\\Users\\huckr\\AppData\\Local\\Temp\\ipykernel_21016\\578621774.py:838: UserWarning: Column names longer than 10 characters will be truncated when saved to ESRI Shapefile.\n",
      "  channel_belt_cross_sections.to_file(os.path.join(output_folder, 'channel_belt_cross_sections.shp'))\n"
     ]
    },
    {
     "name": "stdout",
     "output_type": "stream",
     "text": [
      "Sinuosity: 1.3397039199104768\n",
      "Channel Count Index (CCI): 1.86\n",
      "Channel Form Index (CFI): 0.720270924683052\n"
     ]
    },
    {
     "name": "stderr",
     "output_type": "stream",
     "text": [
      "C:\\Users\\huckr\\AppData\\Local\\Temp\\ipykernel_21016\\578621774.py:838: UserWarning: Column names longer than 10 characters will be truncated when saved to ESRI Shapefile.\n",
      "  channel_belt_cross_sections.to_file(os.path.join(output_folder, 'channel_belt_cross_sections.shp'))\n"
     ]
    },
    {
     "name": "stdout",
     "output_type": "stream",
     "text": [
      "Sinuosity: 1.1774792986518419\n",
      "Channel Count Index (CCI): 1.5\n",
      "Channel Form Index (CFI): 0.7849861991012279\n"
     ]
    },
    {
     "name": "stderr",
     "output_type": "stream",
     "text": [
      "C:\\Users\\huckr\\AppData\\Local\\Temp\\ipykernel_21016\\578621774.py:838: UserWarning: Column names longer than 10 characters will be truncated when saved to ESRI Shapefile.\n",
      "  channel_belt_cross_sections.to_file(os.path.join(output_folder, 'channel_belt_cross_sections.shp'))\n",
      "ERROR:root:Error processing file D:\\Madagascar\\Data\\RiverMapping\\RiverMasks\\Betsiboka\\reach_6\\Processed\\Betsiboka_reach_6_1985_DSWE_level_3.tif: Cannot set a DataFrame with multiple columns to the single column category\n"
     ]
    },
    {
     "name": "stdout",
     "output_type": "stream",
     "text": [
      "Sinuosity: 1.2467773296518254\n",
      "Channel Count Index (CCI): 1.92\n",
      "Channel Form Index (CFI): 0.6493631925269925\n"
     ]
    },
    {
     "name": "stderr",
     "output_type": "stream",
     "text": [
      "C:\\Users\\huckr\\AppData\\Local\\Temp\\ipykernel_21016\\578621774.py:838: UserWarning: Column names longer than 10 characters will be truncated when saved to ESRI Shapefile.\n",
      "  channel_belt_cross_sections.to_file(os.path.join(output_folder, 'channel_belt_cross_sections.shp'))\n",
      "WARNING:fiona._env:Normalized/laundered field name: 'channel_count' to 'channel_co'\n"
     ]
    },
    {
     "name": "stdout",
     "output_type": "stream",
     "text": [
      "Sinuosity: 1.4519604015038752\n",
      "Channel Count Index (CCI): 1.4\n",
      "Channel Form Index (CFI): 1.037114572502768\n"
     ]
    },
    {
     "name": "stderr",
     "output_type": "stream",
     "text": [
      "C:\\Users\\huckr\\AppData\\Local\\Temp\\ipykernel_21016\\578621774.py:838: UserWarning: Column names longer than 10 characters will be truncated when saved to ESRI Shapefile.\n",
      "  channel_belt_cross_sections.to_file(os.path.join(output_folder, 'channel_belt_cross_sections.shp'))\n",
      "WARNING:fiona._env:Normalized/laundered field name: 'channel_count' to 'channel_co'\n"
     ]
    },
    {
     "name": "stdout",
     "output_type": "stream",
     "text": [
      "Sinuosity: 1.4533167757333252\n",
      "Channel Count Index (CCI): 1.32\n",
      "Channel Form Index (CFI): 1.1009975573737312\n"
     ]
    },
    {
     "name": "stderr",
     "output_type": "stream",
     "text": [
      "C:\\Users\\huckr\\AppData\\Local\\Temp\\ipykernel_21016\\578621774.py:838: UserWarning: Column names longer than 10 characters will be truncated when saved to ESRI Shapefile.\n",
      "  channel_belt_cross_sections.to_file(os.path.join(output_folder, 'channel_belt_cross_sections.shp'))\n",
      "WARNING:fiona._env:Normalized/laundered field name: 'channel_count' to 'channel_co'\n"
     ]
    },
    {
     "name": "stdout",
     "output_type": "stream",
     "text": [
      "Sinuosity: 1.354556774731869\n",
      "Channel Count Index (CCI): 1.36\n",
      "Channel Form Index (CFI): 0.9959976284793154\n"
     ]
    },
    {
     "name": "stderr",
     "output_type": "stream",
     "text": [
      "C:\\Users\\huckr\\AppData\\Local\\Temp\\ipykernel_21016\\578621774.py:838: UserWarning: Column names longer than 10 characters will be truncated when saved to ESRI Shapefile.\n",
      "  channel_belt_cross_sections.to_file(os.path.join(output_folder, 'channel_belt_cross_sections.shp'))\n",
      "WARNING:fiona._env:Normalized/laundered field name: 'channel_count' to 'channel_co'\n"
     ]
    },
    {
     "name": "stdout",
     "output_type": "stream",
     "text": [
      "Sinuosity: 1.3609306603765812\n",
      "Channel Count Index (CCI): 1.42\n",
      "Channel Form Index (CFI): 0.9584018735046347\n"
     ]
    },
    {
     "name": "stderr",
     "output_type": "stream",
     "text": [
      "C:\\Users\\huckr\\AppData\\Local\\Temp\\ipykernel_21016\\578621774.py:838: UserWarning: Column names longer than 10 characters will be truncated when saved to ESRI Shapefile.\n",
      "  channel_belt_cross_sections.to_file(os.path.join(output_folder, 'channel_belt_cross_sections.shp'))\n",
      "WARNING:fiona._env:Normalized/laundered field name: 'channel_count' to 'channel_co'\n",
      "C:\\Users\\huckr\\AppData\\Local\\Temp\\ipykernel_21016\\578621774.py:838: UserWarning: Column names longer than 10 characters will be truncated when saved to ESRI Shapefile.\n",
      "  channel_belt_cross_sections.to_file(os.path.join(output_folder, 'channel_belt_cross_sections.shp'))\n",
      "WARNING:fiona._env:Normalized/laundered field name: 'channel_count' to 'channel_co'\n"
     ]
    },
    {
     "name": "stdout",
     "output_type": "stream",
     "text": [
      "Sinuosity: 1.4279256612006486\n",
      "Channel Count Index (CCI): 1.48\n",
      "Channel Form Index (CFI): 0.9648146359463842\n"
     ]
    },
    {
     "name": "stderr",
     "output_type": "stream",
     "text": [
      "C:\\Users\\huckr\\AppData\\Local\\Temp\\ipykernel_21016\\578621774.py:838: UserWarning: Column names longer than 10 characters will be truncated when saved to ESRI Shapefile.\n",
      "  channel_belt_cross_sections.to_file(os.path.join(output_folder, 'channel_belt_cross_sections.shp'))\n",
      "WARNING:fiona._env:Normalized/laundered field name: 'channel_count' to 'channel_co'\n"
     ]
    },
    {
     "name": "stdout",
     "output_type": "stream",
     "text": [
      "Sinuosity: 1.4653346286944713\n",
      "Channel Count Index (CCI): 1.16\n",
      "Channel Form Index (CFI): 1.263219507495234\n",
      "Sinuosity: 1.4583704394286925\n",
      "Channel Count Index (CCI): 1.2\n",
      "Channel Form Index (CFI): 1.2153086995239104\n"
     ]
    },
    {
     "name": "stderr",
     "output_type": "stream",
     "text": [
      "C:\\Users\\huckr\\AppData\\Local\\Temp\\ipykernel_21016\\578621774.py:838: UserWarning: Column names longer than 10 characters will be truncated when saved to ESRI Shapefile.\n",
      "  channel_belt_cross_sections.to_file(os.path.join(output_folder, 'channel_belt_cross_sections.shp'))\n",
      "WARNING:fiona._env:Normalized/laundered field name: 'channel_count' to 'channel_co'\n",
      "C:\\Users\\huckr\\AppData\\Local\\Temp\\ipykernel_21016\\578621774.py:838: UserWarning: Column names longer than 10 characters will be truncated when saved to ESRI Shapefile.\n",
      "  channel_belt_cross_sections.to_file(os.path.join(output_folder, 'channel_belt_cross_sections.shp'))\n",
      "WARNING:fiona._env:Normalized/laundered field name: 'channel_count' to 'channel_co'\n"
     ]
    },
    {
     "name": "stdout",
     "output_type": "stream",
     "text": [
      "Sinuosity: 1.3461468811332438\n",
      "Channel Count Index (CCI): 1.36\n",
      "Channel Form Index (CFI): 0.9898138831862086\n",
      "Sinuosity: 1.3607330528293013\n",
      "Channel Count Index (CCI): 1.32\n",
      "Channel Form Index (CFI): 1.0308583733555312\n"
     ]
    },
    {
     "name": "stderr",
     "output_type": "stream",
     "text": [
      "C:\\Users\\huckr\\AppData\\Local\\Temp\\ipykernel_21016\\578621774.py:838: UserWarning: Column names longer than 10 characters will be truncated when saved to ESRI Shapefile.\n",
      "  channel_belt_cross_sections.to_file(os.path.join(output_folder, 'channel_belt_cross_sections.shp'))\n",
      "WARNING:fiona._env:Normalized/laundered field name: 'channel_count' to 'channel_co'\n",
      "C:\\Users\\huckr\\AppData\\Local\\Temp\\ipykernel_21016\\578621774.py:838: UserWarning: Column names longer than 10 characters will be truncated when saved to ESRI Shapefile.\n",
      "  channel_belt_cross_sections.to_file(os.path.join(output_folder, 'channel_belt_cross_sections.shp'))\n",
      "WARNING:fiona._env:Normalized/laundered field name: 'channel_count' to 'channel_co'\n"
     ]
    },
    {
     "name": "stdout",
     "output_type": "stream",
     "text": [
      "Sinuosity: 1.3319583808652458\n",
      "Channel Count Index (CCI): 1.32\n",
      "Channel Form Index (CFI): 1.009059379443368\n"
     ]
    },
    {
     "name": "stderr",
     "output_type": "stream",
     "text": [
      "C:\\Users\\huckr\\AppData\\Local\\Temp\\ipykernel_21016\\578621774.py:838: UserWarning: Column names longer than 10 characters will be truncated when saved to ESRI Shapefile.\n",
      "  channel_belt_cross_sections.to_file(os.path.join(output_folder, 'channel_belt_cross_sections.shp'))\n",
      "WARNING:fiona._env:Normalized/laundered field name: 'channel_count' to 'channel_co'\n"
     ]
    },
    {
     "name": "stdout",
     "output_type": "stream",
     "text": [
      "Sinuosity: 1.362166894929186\n",
      "Channel Count Index (CCI): 1.36\n",
      "Channel Form Index (CFI): 1.0015933050949897\n",
      "Sinuosity: 1.3590605592849303\n",
      "Channel Count Index (CCI): 1.32\n",
      "Channel Form Index (CFI): 1.0295913327916137\n"
     ]
    },
    {
     "name": "stderr",
     "output_type": "stream",
     "text": [
      "C:\\Users\\huckr\\AppData\\Local\\Temp\\ipykernel_21016\\578621774.py:838: UserWarning: Column names longer than 10 characters will be truncated when saved to ESRI Shapefile.\n",
      "  channel_belt_cross_sections.to_file(os.path.join(output_folder, 'channel_belt_cross_sections.shp'))\n",
      "WARNING:fiona._env:Normalized/laundered field name: 'channel_count' to 'channel_co'\n",
      "C:\\Users\\huckr\\AppData\\Local\\Temp\\ipykernel_21016\\578621774.py:838: UserWarning: Column names longer than 10 characters will be truncated when saved to ESRI Shapefile.\n",
      "  channel_belt_cross_sections.to_file(os.path.join(output_folder, 'channel_belt_cross_sections.shp'))\n",
      "WARNING:fiona._env:Normalized/laundered field name: 'channel_count' to 'channel_co'\n"
     ]
    },
    {
     "name": "stdout",
     "output_type": "stream",
     "text": [
      "Sinuosity: 1.3458322741655764\n",
      "Channel Count Index (CCI): 1.12\n",
      "Channel Form Index (CFI): 1.2016359590764074\n",
      "Sinuosity: 1.3619674337469703\n",
      "Channel Count Index (CCI): 1.24\n",
      "Channel Form Index (CFI): 1.0983608336669115\n"
     ]
    },
    {
     "name": "stderr",
     "output_type": "stream",
     "text": [
      "C:\\Users\\huckr\\AppData\\Local\\Temp\\ipykernel_21016\\578621774.py:838: UserWarning: Column names longer than 10 characters will be truncated when saved to ESRI Shapefile.\n",
      "  channel_belt_cross_sections.to_file(os.path.join(output_folder, 'channel_belt_cross_sections.shp'))\n",
      "WARNING:fiona._env:Normalized/laundered field name: 'channel_count' to 'channel_co'\n"
     ]
    },
    {
     "name": "stdout",
     "output_type": "stream",
     "text": [
      "Sinuosity: 1.2285267300013192\n",
      "Channel Count Index (CCI): 9.94\n",
      "Channel Form Index (CFI): 0.12359423843071622\n"
     ]
    },
    {
     "name": "stderr",
     "output_type": "stream",
     "text": [
      "C:\\Users\\huckr\\AppData\\Local\\Temp\\ipykernel_21016\\578621774.py:838: UserWarning: Column names longer than 10 characters will be truncated when saved to ESRI Shapefile.\n",
      "  channel_belt_cross_sections.to_file(os.path.join(output_folder, 'channel_belt_cross_sections.shp'))\n",
      "WARNING:fiona._env:Normalized/laundered field name: 'channel_count' to 'channel_co'\n"
     ]
    },
    {
     "name": "stdout",
     "output_type": "stream",
     "text": [
      "Sinuosity: 1.3706147323840485\n",
      "Channel Count Index (CCI): 1.34\n",
      "Channel Form Index (CFI): 1.0228468152119765\n"
     ]
    },
    {
     "name": "stderr",
     "output_type": "stream",
     "text": [
      "C:\\Users\\huckr\\AppData\\Local\\Temp\\ipykernel_21016\\578621774.py:838: UserWarning: Column names longer than 10 characters will be truncated when saved to ESRI Shapefile.\n",
      "  channel_belt_cross_sections.to_file(os.path.join(output_folder, 'channel_belt_cross_sections.shp'))\n",
      "WARNING:fiona._env:Normalized/laundered field name: 'channel_count' to 'channel_co'\n",
      "C:\\Users\\huckr\\AppData\\Local\\Temp\\ipykernel_21016\\578621774.py:838: UserWarning: Column names longer than 10 characters will be truncated when saved to ESRI Shapefile.\n",
      "  channel_belt_cross_sections.to_file(os.path.join(output_folder, 'channel_belt_cross_sections.shp'))\n",
      "WARNING:fiona._env:Normalized/laundered field name: 'channel_count' to 'channel_co'\n"
     ]
    },
    {
     "name": "stdout",
     "output_type": "stream",
     "text": [
      "Sinuosity: 1.4452069671482664\n",
      "Channel Count Index (CCI): 1.3\n",
      "Channel Form Index (CFI): 1.111697667037128\n"
     ]
    },
    {
     "name": "stderr",
     "output_type": "stream",
     "text": [
      "C:\\Users\\huckr\\AppData\\Local\\Temp\\ipykernel_21016\\578621774.py:838: UserWarning: Column names longer than 10 characters will be truncated when saved to ESRI Shapefile.\n",
      "  channel_belt_cross_sections.to_file(os.path.join(output_folder, 'channel_belt_cross_sections.shp'))\n",
      "WARNING:fiona._env:Normalized/laundered field name: 'channel_count' to 'channel_co'\n"
     ]
    },
    {
     "name": "stdout",
     "output_type": "stream",
     "text": [
      "Sinuosity: 1.443315829479654\n",
      "Channel Count Index (CCI): 1.34\n",
      "Channel Form Index (CFI): 1.077101365283324\n",
      "Sinuosity: 1.3836605011019443\n",
      "Channel Count Index (CCI): 1.32\n",
      "Channel Form Index (CFI): 1.0482276523499576\n"
     ]
    },
    {
     "name": "stderr",
     "output_type": "stream",
     "text": [
      "C:\\Users\\huckr\\AppData\\Local\\Temp\\ipykernel_21016\\578621774.py:838: UserWarning: Column names longer than 10 characters will be truncated when saved to ESRI Shapefile.\n",
      "  channel_belt_cross_sections.to_file(os.path.join(output_folder, 'channel_belt_cross_sections.shp'))\n",
      "WARNING:fiona._env:Normalized/laundered field name: 'channel_count' to 'channel_co'\n"
     ]
    },
    {
     "name": "stdout",
     "output_type": "stream",
     "text": [
      "Sinuosity: 1.3523768789499628\n",
      "Channel Count Index (CCI): 1.4\n",
      "Channel Form Index (CFI): 0.9659834849642592\n"
     ]
    },
    {
     "name": "stderr",
     "output_type": "stream",
     "text": [
      "C:\\Users\\huckr\\AppData\\Local\\Temp\\ipykernel_21016\\578621774.py:838: UserWarning: Column names longer than 10 characters will be truncated when saved to ESRI Shapefile.\n",
      "  channel_belt_cross_sections.to_file(os.path.join(output_folder, 'channel_belt_cross_sections.shp'))\n",
      "WARNING:fiona._env:Normalized/laundered field name: 'channel_count' to 'channel_co'\n"
     ]
    },
    {
     "name": "stdout",
     "output_type": "stream",
     "text": [
      "Sinuosity: 1.3616854049913896\n",
      "Channel Count Index (CCI): 1.64\n",
      "Channel Form Index (CFI): 0.8302959786532864\n"
     ]
    },
    {
     "name": "stderr",
     "output_type": "stream",
     "text": [
      "C:\\Users\\huckr\\AppData\\Local\\Temp\\ipykernel_21016\\578621774.py:838: UserWarning: Column names longer than 10 characters will be truncated when saved to ESRI Shapefile.\n",
      "  channel_belt_cross_sections.to_file(os.path.join(output_folder, 'channel_belt_cross_sections.shp'))\n",
      "WARNING:fiona._env:Normalized/laundered field name: 'channel_count' to 'channel_co'\n",
      "C:\\Users\\huckr\\AppData\\Local\\Temp\\ipykernel_21016\\578621774.py:838: UserWarning: Column names longer than 10 characters will be truncated when saved to ESRI Shapefile.\n",
      "  channel_belt_cross_sections.to_file(os.path.join(output_folder, 'channel_belt_cross_sections.shp'))\n",
      "WARNING:fiona._env:Normalized/laundered field name: 'channel_count' to 'channel_co'\n"
     ]
    },
    {
     "name": "stdout",
     "output_type": "stream",
     "text": [
      "Sinuosity: 1.3858366534073396\n",
      "Channel Count Index (CCI): 1.58\n",
      "Channel Form Index (CFI): 0.8771118059540124\n",
      "Sinuosity: 1.3766610490614377\n",
      "Channel Count Index (CCI): 1.38\n",
      "Channel Form Index (CFI): 0.9975804703343752\n"
     ]
    },
    {
     "name": "stderr",
     "output_type": "stream",
     "text": [
      "C:\\Users\\huckr\\AppData\\Local\\Temp\\ipykernel_21016\\578621774.py:838: UserWarning: Column names longer than 10 characters will be truncated when saved to ESRI Shapefile.\n",
      "  channel_belt_cross_sections.to_file(os.path.join(output_folder, 'channel_belt_cross_sections.shp'))\n",
      "WARNING:fiona._env:Normalized/laundered field name: 'channel_count' to 'channel_co'\n"
     ]
    },
    {
     "name": "stdout",
     "output_type": "stream",
     "text": [
      "Sinuosity: 1.3295639920647477\n",
      "Channel Count Index (CCI): 1.5\n",
      "Channel Form Index (CFI): 0.8863759947098319\n"
     ]
    },
    {
     "name": "stderr",
     "output_type": "stream",
     "text": [
      "C:\\Users\\huckr\\AppData\\Local\\Temp\\ipykernel_21016\\578621774.py:838: UserWarning: Column names longer than 10 characters will be truncated when saved to ESRI Shapefile.\n",
      "  channel_belt_cross_sections.to_file(os.path.join(output_folder, 'channel_belt_cross_sections.shp'))\n",
      "WARNING:fiona._env:Normalized/laundered field name: 'channel_count' to 'channel_co'\n"
     ]
    },
    {
     "name": "stdout",
     "output_type": "stream",
     "text": [
      "Sinuosity: 1.3499973697048697\n",
      "Channel Count Index (CCI): 1.4\n",
      "Channel Form Index (CFI): 0.9642838355034784\n"
     ]
    },
    {
     "name": "stderr",
     "output_type": "stream",
     "text": [
      "C:\\Users\\huckr\\AppData\\Local\\Temp\\ipykernel_21016\\578621774.py:838: UserWarning: Column names longer than 10 characters will be truncated when saved to ESRI Shapefile.\n",
      "  channel_belt_cross_sections.to_file(os.path.join(output_folder, 'channel_belt_cross_sections.shp'))\n",
      "WARNING:fiona._env:Normalized/laundered field name: 'channel_count' to 'channel_co'\n"
     ]
    },
    {
     "name": "stdout",
     "output_type": "stream",
     "text": [
      "Sinuosity: 1.2916314753204339\n",
      "Channel Count Index (CCI): 1.44\n",
      "Channel Form Index (CFI): 0.8969663023058569\n"
     ]
    },
    {
     "name": "stderr",
     "output_type": "stream",
     "text": [
      "C:\\Users\\huckr\\AppData\\Local\\Temp\\ipykernel_21016\\578621774.py:838: UserWarning: Column names longer than 10 characters will be truncated when saved to ESRI Shapefile.\n",
      "  channel_belt_cross_sections.to_file(os.path.join(output_folder, 'channel_belt_cross_sections.shp'))\n",
      "WARNING:fiona._env:Normalized/laundered field name: 'channel_count' to 'channel_co'\n"
     ]
    },
    {
     "name": "stdout",
     "output_type": "stream",
     "text": [
      "Sinuosity: 1.3141822912500618\n",
      "Channel Count Index (CCI): 1.44\n",
      "Channel Form Index (CFI): 0.9126265911458763\n"
     ]
    },
    {
     "name": "stderr",
     "output_type": "stream",
     "text": [
      "C:\\Users\\huckr\\AppData\\Local\\Temp\\ipykernel_21016\\578621774.py:838: UserWarning: Column names longer than 10 characters will be truncated when saved to ESRI Shapefile.\n",
      "  channel_belt_cross_sections.to_file(os.path.join(output_folder, 'channel_belt_cross_sections.shp'))\n",
      "WARNING:fiona._env:Normalized/laundered field name: 'channel_count' to 'channel_co'\n"
     ]
    },
    {
     "name": "stdout",
     "output_type": "stream",
     "text": [
      "Sinuosity: 1.3366277262223598\n",
      "Channel Count Index (CCI): 1.56\n",
      "Channel Form Index (CFI): 0.8568126450143332\n"
     ]
    },
    {
     "name": "stderr",
     "output_type": "stream",
     "text": [
      "C:\\Users\\huckr\\AppData\\Local\\Temp\\ipykernel_21016\\578621774.py:838: UserWarning: Column names longer than 10 characters will be truncated when saved to ESRI Shapefile.\n",
      "  channel_belt_cross_sections.to_file(os.path.join(output_folder, 'channel_belt_cross_sections.shp'))\n",
      "WARNING:fiona._env:Normalized/laundered field name: 'channel_count' to 'channel_co'\n"
     ]
    },
    {
     "name": "stdout",
     "output_type": "stream",
     "text": [
      "Sinuosity: 1.3004506595528873\n",
      "Channel Count Index (CCI): 1.52\n",
      "Channel Form Index (CFI): 0.855559644442689\n"
     ]
    },
    {
     "name": "stderr",
     "output_type": "stream",
     "text": [
      "C:\\Users\\huckr\\AppData\\Local\\Temp\\ipykernel_21016\\578621774.py:838: UserWarning: Column names longer than 10 characters will be truncated when saved to ESRI Shapefile.\n",
      "  channel_belt_cross_sections.to_file(os.path.join(output_folder, 'channel_belt_cross_sections.shp'))\n",
      "WARNING:fiona._env:Normalized/laundered field name: 'channel_count' to 'channel_co'\n"
     ]
    },
    {
     "name": "stdout",
     "output_type": "stream",
     "text": [
      "Sinuosity: 1.319562608322299\n",
      "Channel Count Index (CCI): 1.5\n",
      "Channel Form Index (CFI): 0.8797084055481994\n"
     ]
    },
    {
     "name": "stderr",
     "output_type": "stream",
     "text": [
      "C:\\Users\\huckr\\AppData\\Local\\Temp\\ipykernel_21016\\578621774.py:838: UserWarning: Column names longer than 10 characters will be truncated when saved to ESRI Shapefile.\n",
      "  channel_belt_cross_sections.to_file(os.path.join(output_folder, 'channel_belt_cross_sections.shp'))\n",
      "WARNING:fiona._env:Normalized/laundered field name: 'channel_count' to 'channel_co'\n"
     ]
    },
    {
     "name": "stdout",
     "output_type": "stream",
     "text": [
      "Sinuosity: 1.3022608493992331\n",
      "Channel Count Index (CCI): 1.5\n",
      "Channel Form Index (CFI): 0.8681738995994888\n"
     ]
    },
    {
     "name": "stderr",
     "output_type": "stream",
     "text": [
      "C:\\Users\\huckr\\AppData\\Local\\Temp\\ipykernel_21016\\578621774.py:838: UserWarning: Column names longer than 10 characters will be truncated when saved to ESRI Shapefile.\n",
      "  channel_belt_cross_sections.to_file(os.path.join(output_folder, 'channel_belt_cross_sections.shp'))\n",
      "WARNING:fiona._env:Normalized/laundered field name: 'channel_count' to 'channel_co'\n",
      "C:\\Users\\huckr\\AppData\\Local\\Temp\\ipykernel_21016\\578621774.py:838: UserWarning: Column names longer than 10 characters will be truncated when saved to ESRI Shapefile.\n",
      "  channel_belt_cross_sections.to_file(os.path.join(output_folder, 'channel_belt_cross_sections.shp'))\n",
      "WARNING:fiona._env:Normalized/laundered field name: 'channel_count' to 'channel_co'\n"
     ]
    },
    {
     "name": "stdout",
     "output_type": "stream",
     "text": [
      "Sinuosity: 1.3458607816188919\n",
      "Channel Count Index (CCI): 1.48\n",
      "Channel Form Index (CFI): 0.9093653929857378\n",
      "Sinuosity: 1.3007647688114443\n",
      "Channel Count Index (CCI): 1.54\n",
      "Channel Form Index (CFI): 0.8446524472801586\n"
     ]
    },
    {
     "name": "stderr",
     "output_type": "stream",
     "text": [
      "C:\\Users\\huckr\\AppData\\Local\\Temp\\ipykernel_21016\\578621774.py:838: UserWarning: Column names longer than 10 characters will be truncated when saved to ESRI Shapefile.\n",
      "  channel_belt_cross_sections.to_file(os.path.join(output_folder, 'channel_belt_cross_sections.shp'))\n",
      "WARNING:fiona._env:Normalized/laundered field name: 'channel_count' to 'channel_co'\n"
     ]
    },
    {
     "name": "stdout",
     "output_type": "stream",
     "text": [
      "Sinuosity: 1.307347727763121\n",
      "Channel Count Index (CCI): 1.72\n",
      "Channel Form Index (CFI): 0.7600858882343726\n"
     ]
    },
    {
     "name": "stderr",
     "output_type": "stream",
     "text": [
      "C:\\Users\\huckr\\AppData\\Local\\Temp\\ipykernel_21016\\578621774.py:838: UserWarning: Column names longer than 10 characters will be truncated when saved to ESRI Shapefile.\n",
      "  channel_belt_cross_sections.to_file(os.path.join(output_folder, 'channel_belt_cross_sections.shp'))\n",
      "WARNING:fiona._env:Normalized/laundered field name: 'channel_count' to 'channel_co'\n"
     ]
    },
    {
     "name": "stdout",
     "output_type": "stream",
     "text": [
      "Sinuosity: 1.3141161272203836\n",
      "Channel Count Index (CCI): 1.42\n",
      "Channel Form Index (CFI): 0.9254338924087209\n"
     ]
    },
    {
     "name": "stderr",
     "output_type": "stream",
     "text": [
      "C:\\Users\\huckr\\AppData\\Local\\Temp\\ipykernel_21016\\578621774.py:838: UserWarning: Column names longer than 10 characters will be truncated when saved to ESRI Shapefile.\n",
      "  channel_belt_cross_sections.to_file(os.path.join(output_folder, 'channel_belt_cross_sections.shp'))\n",
      "WARNING:fiona._env:Normalized/laundered field name: 'channel_count' to 'channel_co'\n"
     ]
    },
    {
     "name": "stdout",
     "output_type": "stream",
     "text": [
      "Sinuosity: 1.2833509331459192\n",
      "Channel Count Index (CCI): 1.64\n",
      "Channel Form Index (CFI): 0.7825310567962922\n"
     ]
    },
    {
     "name": "stderr",
     "output_type": "stream",
     "text": [
      "C:\\Users\\huckr\\AppData\\Local\\Temp\\ipykernel_21016\\578621774.py:838: UserWarning: Column names longer than 10 characters will be truncated when saved to ESRI Shapefile.\n",
      "  channel_belt_cross_sections.to_file(os.path.join(output_folder, 'channel_belt_cross_sections.shp'))\n",
      "WARNING:fiona._env:Normalized/laundered field name: 'channel_count' to 'channel_co'\n"
     ]
    },
    {
     "name": "stdout",
     "output_type": "stream",
     "text": [
      "Sinuosity: 1.2303046726593583\n",
      "Channel Count Index (CCI): 2.14\n",
      "Channel Form Index (CFI): 0.5749087255417562\n"
     ]
    },
    {
     "name": "stderr",
     "output_type": "stream",
     "text": [
      "C:\\Users\\huckr\\AppData\\Local\\Temp\\ipykernel_21016\\578621774.py:838: UserWarning: Column names longer than 10 characters will be truncated when saved to ESRI Shapefile.\n",
      "  channel_belt_cross_sections.to_file(os.path.join(output_folder, 'channel_belt_cross_sections.shp'))\n",
      "WARNING:fiona._env:Normalized/laundered field name: 'channel_count' to 'channel_co'\n"
     ]
    },
    {
     "name": "stdout",
     "output_type": "stream",
     "text": [
      "Sinuosity: 1.2009551439823958\n",
      "Channel Count Index (CCI): 1.76\n",
      "Channel Form Index (CFI): 0.6823608772627249\n"
     ]
    },
    {
     "name": "stderr",
     "output_type": "stream",
     "text": [
      "C:\\Users\\huckr\\AppData\\Local\\Temp\\ipykernel_21016\\578621774.py:838: UserWarning: Column names longer than 10 characters will be truncated when saved to ESRI Shapefile.\n",
      "  channel_belt_cross_sections.to_file(os.path.join(output_folder, 'channel_belt_cross_sections.shp'))\n",
      "WARNING:fiona._env:Normalized/laundered field name: 'channel_count' to 'channel_co'\n",
      "C:\\Users\\huckr\\AppData\\Local\\Temp\\ipykernel_21016\\578621774.py:838: UserWarning: Column names longer than 10 characters will be truncated when saved to ESRI Shapefile.\n",
      "  channel_belt_cross_sections.to_file(os.path.join(output_folder, 'channel_belt_cross_sections.shp'))\n",
      "WARNING:fiona._env:Normalized/laundered field name: 'channel_count' to 'channel_co'\n"
     ]
    },
    {
     "name": "stdout",
     "output_type": "stream",
     "text": [
      "Sinuosity: 1.3390475712913141\n",
      "Channel Count Index (CCI): 2.4\n",
      "Channel Form Index (CFI): 0.5579364880380476\n",
      "Sinuosity: 1.3566487102840021\n",
      "Channel Count Index (CCI): 1.72\n",
      "Channel Form Index (CFI): 0.7887492501651175\n"
     ]
    },
    {
     "name": "stderr",
     "output_type": "stream",
     "text": [
      "C:\\Users\\huckr\\AppData\\Local\\Temp\\ipykernel_21016\\578621774.py:838: UserWarning: Column names longer than 10 characters will be truncated when saved to ESRI Shapefile.\n",
      "  channel_belt_cross_sections.to_file(os.path.join(output_folder, 'channel_belt_cross_sections.shp'))\n",
      "WARNING:fiona._env:Normalized/laundered field name: 'channel_count' to 'channel_co'\n"
     ]
    },
    {
     "name": "stdout",
     "output_type": "stream",
     "text": [
      "Sinuosity: 1.36635946039981\n",
      "Channel Count Index (CCI): 1.64\n",
      "Channel Form Index (CFI): 0.8331460124389085\n"
     ]
    },
    {
     "name": "stderr",
     "output_type": "stream",
     "text": [
      "C:\\Users\\huckr\\AppData\\Local\\Temp\\ipykernel_21016\\578621774.py:838: UserWarning: Column names longer than 10 characters will be truncated when saved to ESRI Shapefile.\n",
      "  channel_belt_cross_sections.to_file(os.path.join(output_folder, 'channel_belt_cross_sections.shp'))\n",
      "WARNING:fiona._env:Normalized/laundered field name: 'channel_count' to 'channel_co'\n"
     ]
    },
    {
     "name": "stdout",
     "output_type": "stream",
     "text": [
      "Sinuosity: 1.3790973146501473\n",
      "Channel Count Index (CCI): 1.68\n",
      "Channel Form Index (CFI): 0.8208912587203258\n"
     ]
    },
    {
     "name": "stderr",
     "output_type": "stream",
     "text": [
      "C:\\Users\\huckr\\AppData\\Local\\Temp\\ipykernel_21016\\578621774.py:838: UserWarning: Column names longer than 10 characters will be truncated when saved to ESRI Shapefile.\n",
      "  channel_belt_cross_sections.to_file(os.path.join(output_folder, 'channel_belt_cross_sections.shp'))\n",
      "WARNING:fiona._env:Normalized/laundered field name: 'channel_count' to 'channel_co'\n"
     ]
    },
    {
     "name": "stdout",
     "output_type": "stream",
     "text": [
      "Sinuosity: 1.3217745913963623\n",
      "Channel Count Index (CCI): 1.74\n",
      "Channel Form Index (CFI): 0.7596405697680243\n"
     ]
    },
    {
     "name": "stderr",
     "output_type": "stream",
     "text": [
      "C:\\Users\\huckr\\AppData\\Local\\Temp\\ipykernel_21016\\578621774.py:838: UserWarning: Column names longer than 10 characters will be truncated when saved to ESRI Shapefile.\n",
      "  channel_belt_cross_sections.to_file(os.path.join(output_folder, 'channel_belt_cross_sections.shp'))\n",
      "WARNING:fiona._env:Normalized/laundered field name: 'channel_count' to 'channel_co'\n"
     ]
    },
    {
     "name": "stdout",
     "output_type": "stream",
     "text": [
      "Sinuosity: 1.3634363144744628\n",
      "Channel Count Index (CCI): 1.92\n",
      "Channel Form Index (CFI): 0.7101230804554494\n"
     ]
    },
    {
     "name": "stderr",
     "output_type": "stream",
     "text": [
      "C:\\Users\\huckr\\AppData\\Local\\Temp\\ipykernel_21016\\578621774.py:838: UserWarning: Column names longer than 10 characters will be truncated when saved to ESRI Shapefile.\n",
      "  channel_belt_cross_sections.to_file(os.path.join(output_folder, 'channel_belt_cross_sections.shp'))\n",
      "WARNING:fiona._env:Normalized/laundered field name: 'channel_count' to 'channel_co'\n",
      "C:\\Users\\huckr\\AppData\\Local\\Temp\\ipykernel_21016\\578621774.py:838: UserWarning: Column names longer than 10 characters will be truncated when saved to ESRI Shapefile.\n",
      "  channel_belt_cross_sections.to_file(os.path.join(output_folder, 'channel_belt_cross_sections.shp'))\n",
      "WARNING:fiona._env:Normalized/laundered field name: 'channel_count' to 'channel_co'\n"
     ]
    },
    {
     "name": "stdout",
     "output_type": "stream",
     "text": [
      "Sinuosity: 1.4025642382060517\n",
      "Channel Count Index (CCI): 1.6\n",
      "Channel Form Index (CFI): 0.8766026488787823\n",
      "Sinuosity: 1.388674839602896\n",
      "Channel Count Index (CCI): 1.74\n",
      "Channel Form Index (CFI): 0.7980889882775265\n"
     ]
    },
    {
     "name": "stderr",
     "output_type": "stream",
     "text": [
      "C:\\Users\\huckr\\AppData\\Local\\Temp\\ipykernel_21016\\578621774.py:838: UserWarning: Column names longer than 10 characters will be truncated when saved to ESRI Shapefile.\n",
      "  channel_belt_cross_sections.to_file(os.path.join(output_folder, 'channel_belt_cross_sections.shp'))\n",
      "WARNING:fiona._env:Normalized/laundered field name: 'channel_count' to 'channel_co'\n"
     ]
    },
    {
     "name": "stdout",
     "output_type": "stream",
     "text": [
      "Sinuosity: 1.3831768231710293\n",
      "Channel Count Index (CCI): 1.9\n",
      "Channel Form Index (CFI): 0.7279878016689628\n"
     ]
    },
    {
     "name": "stderr",
     "output_type": "stream",
     "text": [
      "C:\\Users\\huckr\\AppData\\Local\\Temp\\ipykernel_21016\\578621774.py:838: UserWarning: Column names longer than 10 characters will be truncated when saved to ESRI Shapefile.\n",
      "  channel_belt_cross_sections.to_file(os.path.join(output_folder, 'channel_belt_cross_sections.shp'))\n",
      "WARNING:fiona._env:Normalized/laundered field name: 'channel_count' to 'channel_co'\n"
     ]
    },
    {
     "name": "stdout",
     "output_type": "stream",
     "text": [
      "Sinuosity: 1.36347584747353\n",
      "Channel Count Index (CCI): 1.86\n",
      "Channel Form Index (CFI): 0.7330515308997473\n"
     ]
    },
    {
     "name": "stderr",
     "output_type": "stream",
     "text": [
      "C:\\Users\\huckr\\AppData\\Local\\Temp\\ipykernel_21016\\578621774.py:838: UserWarning: Column names longer than 10 characters will be truncated when saved to ESRI Shapefile.\n",
      "  channel_belt_cross_sections.to_file(os.path.join(output_folder, 'channel_belt_cross_sections.shp'))\n",
      "WARNING:fiona._env:Normalized/laundered field name: 'channel_count' to 'channel_co'\n",
      "C:\\Users\\huckr\\AppData\\Local\\Temp\\ipykernel_21016\\578621774.py:838: UserWarning: Column names longer than 10 characters will be truncated when saved to ESRI Shapefile.\n",
      "  channel_belt_cross_sections.to_file(os.path.join(output_folder, 'channel_belt_cross_sections.shp'))\n",
      "WARNING:fiona._env:Normalized/laundered field name: 'channel_count' to 'channel_co'\n"
     ]
    },
    {
     "name": "stdout",
     "output_type": "stream",
     "text": [
      "Sinuosity: 1.3382711733773978\n",
      "Channel Count Index (CCI): 1.62\n",
      "Channel Form Index (CFI): 0.8260933168996282\n"
     ]
    },
    {
     "name": "stderr",
     "output_type": "stream",
     "text": [
      "C:\\Users\\huckr\\AppData\\Local\\Temp\\ipykernel_21016\\578621774.py:838: UserWarning: Column names longer than 10 characters will be truncated when saved to ESRI Shapefile.\n",
      "  channel_belt_cross_sections.to_file(os.path.join(output_folder, 'channel_belt_cross_sections.shp'))\n",
      "WARNING:fiona._env:Normalized/laundered field name: 'channel_count' to 'channel_co'\n"
     ]
    },
    {
     "name": "stdout",
     "output_type": "stream",
     "text": [
      "Sinuosity: 1.3480331351832586\n",
      "Channel Count Index (CCI): 1.68\n",
      "Channel Form Index (CFI): 0.8024006757043206\n",
      "Sinuosity: 1.3558278093364453\n",
      "Channel Count Index (CCI): 1.54\n",
      "Channel Form Index (CFI): 0.8804076684002892\n"
     ]
    },
    {
     "name": "stderr",
     "output_type": "stream",
     "text": [
      "C:\\Users\\huckr\\AppData\\Local\\Temp\\ipykernel_21016\\578621774.py:838: UserWarning: Column names longer than 10 characters will be truncated when saved to ESRI Shapefile.\n",
      "  channel_belt_cross_sections.to_file(os.path.join(output_folder, 'channel_belt_cross_sections.shp'))\n",
      "WARNING:fiona._env:Normalized/laundered field name: 'channel_count' to 'channel_co'\n",
      "C:\\Users\\huckr\\AppData\\Local\\Temp\\ipykernel_21016\\578621774.py:838: UserWarning: Column names longer than 10 characters will be truncated when saved to ESRI Shapefile.\n",
      "  channel_belt_cross_sections.to_file(os.path.join(output_folder, 'channel_belt_cross_sections.shp'))\n",
      "WARNING:fiona._env:Normalized/laundered field name: 'channel_count' to 'channel_co'\n"
     ]
    },
    {
     "name": "stdout",
     "output_type": "stream",
     "text": [
      "Sinuosity: 1.3943737122105262\n",
      "Channel Count Index (CCI): 1.62\n",
      "Channel Form Index (CFI): 0.8607245137102013\n"
     ]
    },
    {
     "name": "stderr",
     "output_type": "stream",
     "text": [
      "C:\\Users\\huckr\\AppData\\Local\\Temp\\ipykernel_21016\\578621774.py:838: UserWarning: Column names longer than 10 characters will be truncated when saved to ESRI Shapefile.\n",
      "  channel_belt_cross_sections.to_file(os.path.join(output_folder, 'channel_belt_cross_sections.shp'))\n",
      "WARNING:fiona._env:Normalized/laundered field name: 'channel_count' to 'channel_co'\n"
     ]
    },
    {
     "name": "stdout",
     "output_type": "stream",
     "text": [
      "Sinuosity: 1.3457547021853749\n",
      "Channel Count Index (CCI): 1.46\n",
      "Channel Form Index (CFI): 0.92174979601738\n",
      "Sinuosity: 1.328847205240419\n",
      "Channel Count Index (CCI): 1.82\n",
      "Channel Form Index (CFI): 0.7301358270551752\n"
     ]
    },
    {
     "name": "stderr",
     "output_type": "stream",
     "text": [
      "C:\\Users\\huckr\\AppData\\Local\\Temp\\ipykernel_21016\\578621774.py:838: UserWarning: Column names longer than 10 characters will be truncated when saved to ESRI Shapefile.\n",
      "  channel_belt_cross_sections.to_file(os.path.join(output_folder, 'channel_belt_cross_sections.shp'))\n",
      "WARNING:fiona._env:Normalized/laundered field name: 'channel_count' to 'channel_co'\n",
      "C:\\Users\\huckr\\AppData\\Local\\Temp\\ipykernel_21016\\578621774.py:838: UserWarning: Column names longer than 10 characters will be truncated when saved to ESRI Shapefile.\n",
      "  channel_belt_cross_sections.to_file(os.path.join(output_folder, 'channel_belt_cross_sections.shp'))\n",
      "WARNING:fiona._env:Normalized/laundered field name: 'channel_count' to 'channel_co'\n"
     ]
    },
    {
     "name": "stdout",
     "output_type": "stream",
     "text": [
      "Sinuosity: 1.3060931967257101\n",
      "Channel Count Index (CCI): 1.44\n",
      "Channel Form Index (CFI): 0.9070091643928543\n",
      "Sinuosity: 1.317241308004457\n",
      "Channel Count Index (CCI): 1.22\n",
      "Channel Form Index (CFI): 1.0797059901675876\n"
     ]
    },
    {
     "name": "stderr",
     "output_type": "stream",
     "text": [
      "C:\\Users\\huckr\\AppData\\Local\\Temp\\ipykernel_21016\\578621774.py:838: UserWarning: Column names longer than 10 characters will be truncated when saved to ESRI Shapefile.\n",
      "  channel_belt_cross_sections.to_file(os.path.join(output_folder, 'channel_belt_cross_sections.shp'))\n",
      "WARNING:fiona._env:Normalized/laundered field name: 'channel_count' to 'channel_co'\n"
     ]
    },
    {
     "name": "stdout",
     "output_type": "stream",
     "text": [
      "Sinuosity: 1.377050725284805\n",
      "Channel Count Index (CCI): 1.32\n",
      "Channel Form Index (CFI): 1.0432202464278826\n"
     ]
    },
    {
     "name": "stderr",
     "output_type": "stream",
     "text": [
      "C:\\Users\\huckr\\AppData\\Local\\Temp\\ipykernel_21016\\578621774.py:838: UserWarning: Column names longer than 10 characters will be truncated when saved to ESRI Shapefile.\n",
      "  channel_belt_cross_sections.to_file(os.path.join(output_folder, 'channel_belt_cross_sections.shp'))\n",
      "WARNING:fiona._env:Normalized/laundered field name: 'channel_count' to 'channel_co'\n"
     ]
    },
    {
     "name": "stdout",
     "output_type": "stream",
     "text": [
      "Sinuosity: 1.2857649334339123\n",
      "Channel Count Index (CCI): 1.44\n",
      "Channel Form Index (CFI): 0.8928923148846614\n"
     ]
    },
    {
     "name": "stderr",
     "output_type": "stream",
     "text": [
      "C:\\Users\\huckr\\AppData\\Local\\Temp\\ipykernel_21016\\578621774.py:838: UserWarning: Column names longer than 10 characters will be truncated when saved to ESRI Shapefile.\n",
      "  channel_belt_cross_sections.to_file(os.path.join(output_folder, 'channel_belt_cross_sections.shp'))\n",
      "WARNING:fiona._env:Normalized/laundered field name: 'channel_count' to 'channel_co'\n"
     ]
    },
    {
     "name": "stdout",
     "output_type": "stream",
     "text": [
      "Sinuosity: 1.300194086226841\n",
      "Channel Count Index (CCI): 1.54\n",
      "Channel Form Index (CFI): 0.8442818741732734\n"
     ]
    },
    {
     "name": "stderr",
     "output_type": "stream",
     "text": [
      "C:\\Users\\huckr\\AppData\\Local\\Temp\\ipykernel_21016\\578621774.py:838: UserWarning: Column names longer than 10 characters will be truncated when saved to ESRI Shapefile.\n",
      "  channel_belt_cross_sections.to_file(os.path.join(output_folder, 'channel_belt_cross_sections.shp'))\n",
      "WARNING:fiona._env:Normalized/laundered field name: 'channel_count' to 'channel_co'\n",
      "C:\\Users\\huckr\\AppData\\Local\\Temp\\ipykernel_21016\\578621774.py:838: UserWarning: Column names longer than 10 characters will be truncated when saved to ESRI Shapefile.\n",
      "  channel_belt_cross_sections.to_file(os.path.join(output_folder, 'channel_belt_cross_sections.shp'))\n",
      "WARNING:fiona._env:Normalized/laundered field name: 'channel_count' to 'channel_co'\n"
     ]
    },
    {
     "name": "stdout",
     "output_type": "stream",
     "text": [
      "Sinuosity: 1.325803491964628\n",
      "Channel Count Index (CCI): 1.7\n",
      "Channel Form Index (CFI): 0.7798844070380165\n",
      "Sinuosity: 1.2561359640156682\n",
      "Channel Count Index (CCI): 1.94\n",
      "Channel Form Index (CFI): 0.64749276495653\n"
     ]
    },
    {
     "name": "stderr",
     "output_type": "stream",
     "text": [
      "C:\\Users\\huckr\\AppData\\Local\\Temp\\ipykernel_21016\\578621774.py:838: UserWarning: Column names longer than 10 characters will be truncated when saved to ESRI Shapefile.\n",
      "  channel_belt_cross_sections.to_file(os.path.join(output_folder, 'channel_belt_cross_sections.shp'))\n",
      "WARNING:fiona._env:Normalized/laundered field name: 'channel_count' to 'channel_co'\n"
     ]
    },
    {
     "name": "stdout",
     "output_type": "stream",
     "text": [
      "Sinuosity: 1.3299508041839438\n",
      "Channel Count Index (CCI): 1.7\n",
      "Channel Form Index (CFI): 0.7823240024611434\n"
     ]
    },
    {
     "name": "stderr",
     "output_type": "stream",
     "text": [
      "C:\\Users\\huckr\\AppData\\Local\\Temp\\ipykernel_21016\\578621774.py:838: UserWarning: Column names longer than 10 characters will be truncated when saved to ESRI Shapefile.\n",
      "  channel_belt_cross_sections.to_file(os.path.join(output_folder, 'channel_belt_cross_sections.shp'))\n",
      "WARNING:fiona._env:Normalized/laundered field name: 'channel_count' to 'channel_co'\n",
      "C:\\Users\\huckr\\AppData\\Local\\Temp\\ipykernel_21016\\578621774.py:838: UserWarning: Column names longer than 10 characters will be truncated when saved to ESRI Shapefile.\n",
      "  channel_belt_cross_sections.to_file(os.path.join(output_folder, 'channel_belt_cross_sections.shp'))\n",
      "WARNING:fiona._env:Normalized/laundered field name: 'channel_count' to 'channel_co'\n"
     ]
    },
    {
     "name": "stdout",
     "output_type": "stream",
     "text": [
      "Sinuosity: 1.2276278971825605\n",
      "Channel Count Index (CCI): 1.66\n",
      "Channel Form Index (CFI): 0.7395348778208196\n",
      "Sinuosity: 1.2403382180714213\n",
      "Channel Count Index (CCI): 1.74\n",
      "Channel Form Index (CFI): 0.7128380563628858\n"
     ]
    },
    {
     "name": "stderr",
     "output_type": "stream",
     "text": [
      "C:\\Users\\huckr\\AppData\\Local\\Temp\\ipykernel_21016\\578621774.py:838: UserWarning: Column names longer than 10 characters will be truncated when saved to ESRI Shapefile.\n",
      "  channel_belt_cross_sections.to_file(os.path.join(output_folder, 'channel_belt_cross_sections.shp'))\n",
      "WARNING:fiona._env:Normalized/laundered field name: 'channel_count' to 'channel_co'\n"
     ]
    },
    {
     "name": "stdout",
     "output_type": "stream",
     "text": [
      "Sinuosity: 1.2245556548500225\n",
      "Channel Count Index (CCI): 1.68\n",
      "Channel Form Index (CFI): 0.7289021755059658\n"
     ]
    },
    {
     "name": "stderr",
     "output_type": "stream",
     "text": [
      "C:\\Users\\huckr\\AppData\\Local\\Temp\\ipykernel_21016\\578621774.py:838: UserWarning: Column names longer than 10 characters will be truncated when saved to ESRI Shapefile.\n",
      "  channel_belt_cross_sections.to_file(os.path.join(output_folder, 'channel_belt_cross_sections.shp'))\n",
      "WARNING:fiona._env:Normalized/laundered field name: 'channel_count' to 'channel_co'\n"
     ]
    },
    {
     "name": "stdout",
     "output_type": "stream",
     "text": [
      "Sinuosity: 1.21641179252386\n",
      "Channel Count Index (CCI): 1.64\n",
      "Channel Form Index (CFI): 0.7417145076365\n"
     ]
    },
    {
     "name": "stderr",
     "output_type": "stream",
     "text": [
      "C:\\Users\\huckr\\AppData\\Local\\Temp\\ipykernel_21016\\578621774.py:838: UserWarning: Column names longer than 10 characters will be truncated when saved to ESRI Shapefile.\n",
      "  channel_belt_cross_sections.to_file(os.path.join(output_folder, 'channel_belt_cross_sections.shp'))\n",
      "WARNING:fiona._env:Normalized/laundered field name: 'channel_count' to 'channel_co'\n"
     ]
    },
    {
     "name": "stdout",
     "output_type": "stream",
     "text": [
      "Sinuosity: 1.3046081211607037\n",
      "Channel Count Index (CCI): 1.56\n",
      "Channel Form Index (CFI): 0.8362872571542972\n"
     ]
    },
    {
     "name": "stderr",
     "output_type": "stream",
     "text": [
      "C:\\Users\\huckr\\AppData\\Local\\Temp\\ipykernel_21016\\578621774.py:838: UserWarning: Column names longer than 10 characters will be truncated when saved to ESRI Shapefile.\n",
      "  channel_belt_cross_sections.to_file(os.path.join(output_folder, 'channel_belt_cross_sections.shp'))\n",
      "WARNING:fiona._env:Normalized/laundered field name: 'channel_count' to 'channel_co'\n"
     ]
    },
    {
     "name": "stdout",
     "output_type": "stream",
     "text": [
      "Sinuosity: 1.2965575573350345\n",
      "Channel Count Index (CCI): 1.56\n",
      "Channel Form Index (CFI): 0.8311266393173298\n"
     ]
    },
    {
     "name": "stderr",
     "output_type": "stream",
     "text": [
      "C:\\Users\\huckr\\AppData\\Local\\Temp\\ipykernel_21016\\578621774.py:838: UserWarning: Column names longer than 10 characters will be truncated when saved to ESRI Shapefile.\n",
      "  channel_belt_cross_sections.to_file(os.path.join(output_folder, 'channel_belt_cross_sections.shp'))\n",
      "WARNING:fiona._env:Normalized/laundered field name: 'channel_count' to 'channel_co'\n"
     ]
    },
    {
     "name": "stdout",
     "output_type": "stream",
     "text": [
      "Sinuosity: 1.3057633132993207\n",
      "Channel Count Index (CCI): 1.74\n",
      "Channel Form Index (CFI): 0.7504386858042074\n"
     ]
    },
    {
     "name": "stderr",
     "output_type": "stream",
     "text": [
      "C:\\Users\\huckr\\AppData\\Local\\Temp\\ipykernel_21016\\578621774.py:838: UserWarning: Column names longer than 10 characters will be truncated when saved to ESRI Shapefile.\n",
      "  channel_belt_cross_sections.to_file(os.path.join(output_folder, 'channel_belt_cross_sections.shp'))\n",
      "WARNING:fiona._env:Normalized/laundered field name: 'channel_count' to 'channel_co'\n",
      "C:\\Users\\huckr\\AppData\\Local\\Temp\\ipykernel_21016\\578621774.py:838: UserWarning: Column names longer than 10 characters will be truncated when saved to ESRI Shapefile.\n",
      "  channel_belt_cross_sections.to_file(os.path.join(output_folder, 'channel_belt_cross_sections.shp'))\n",
      "WARNING:fiona._env:Normalized/laundered field name: 'channel_count' to 'channel_co'\n"
     ]
    },
    {
     "name": "stdout",
     "output_type": "stream",
     "text": [
      "Sinuosity: 1.2404055658240412\n",
      "Channel Count Index (CCI): 1.44\n",
      "Channel Form Index (CFI): 0.861392754044473\n"
     ]
    },
    {
     "name": "stderr",
     "output_type": "stream",
     "text": [
      "C:\\Users\\huckr\\AppData\\Local\\Temp\\ipykernel_21016\\578621774.py:838: UserWarning: Column names longer than 10 characters will be truncated when saved to ESRI Shapefile.\n",
      "  channel_belt_cross_sections.to_file(os.path.join(output_folder, 'channel_belt_cross_sections.shp'))\n",
      "WARNING:fiona._env:Normalized/laundered field name: 'channel_count' to 'channel_co'\n"
     ]
    },
    {
     "name": "stdout",
     "output_type": "stream",
     "text": [
      "Sinuosity: 1.2291057069868219\n",
      "Channel Count Index (CCI): 1.74\n",
      "Channel Form Index (CFI): 0.7063825902223114\n",
      "Sinuosity: 1.229775459235273\n",
      "Channel Count Index (CCI): 1.6\n",
      "Channel Form Index (CFI): 0.7686096620220456\n"
     ]
    },
    {
     "name": "stderr",
     "output_type": "stream",
     "text": [
      "C:\\Users\\huckr\\AppData\\Local\\Temp\\ipykernel_21016\\578621774.py:838: UserWarning: Column names longer than 10 characters will be truncated when saved to ESRI Shapefile.\n",
      "  channel_belt_cross_sections.to_file(os.path.join(output_folder, 'channel_belt_cross_sections.shp'))\n",
      "WARNING:fiona._env:Normalized/laundered field name: 'channel_count' to 'channel_co'\n"
     ]
    },
    {
     "name": "stdout",
     "output_type": "stream",
     "text": [
      "Sinuosity: 1.2531736039691839\n",
      "Channel Count Index (CCI): 1.88\n",
      "Channel Form Index (CFI): 0.6665817042389276\n"
     ]
    },
    {
     "name": "stderr",
     "output_type": "stream",
     "text": [
      "C:\\Users\\huckr\\AppData\\Local\\Temp\\ipykernel_21016\\578621774.py:838: UserWarning: Column names longer than 10 characters will be truncated when saved to ESRI Shapefile.\n",
      "  channel_belt_cross_sections.to_file(os.path.join(output_folder, 'channel_belt_cross_sections.shp'))\n",
      "WARNING:fiona._env:Normalized/laundered field name: 'channel_count' to 'channel_co'\n",
      "C:\\Users\\huckr\\AppData\\Local\\Temp\\ipykernel_21016\\578621774.py:838: UserWarning: Column names longer than 10 characters will be truncated when saved to ESRI Shapefile.\n",
      "  channel_belt_cross_sections.to_file(os.path.join(output_folder, 'channel_belt_cross_sections.shp'))\n",
      "WARNING:fiona._env:Normalized/laundered field name: 'channel_count' to 'channel_co'\n"
     ]
    },
    {
     "name": "stdout",
     "output_type": "stream",
     "text": [
      "Sinuosity: 1.2510211593785392\n",
      "Channel Count Index (CCI): 1.6\n",
      "Channel Form Index (CFI): 0.7818882246115869\n",
      "Sinuosity: 1.2304164540329892\n",
      "Channel Count Index (CCI): 2.0\n",
      "Channel Form Index (CFI): 0.6152082270164946\n"
     ]
    },
    {
     "name": "stderr",
     "output_type": "stream",
     "text": [
      "C:\\Users\\huckr\\AppData\\Local\\Temp\\ipykernel_21016\\578621774.py:838: UserWarning: Column names longer than 10 characters will be truncated when saved to ESRI Shapefile.\n",
      "  channel_belt_cross_sections.to_file(os.path.join(output_folder, 'channel_belt_cross_sections.shp'))\n",
      "WARNING:fiona._env:Normalized/laundered field name: 'channel_count' to 'channel_co'\n"
     ]
    },
    {
     "name": "stdout",
     "output_type": "stream",
     "text": [
      "Sinuosity: 1.2279471563470994\n",
      "Channel Count Index (CCI): 2.12\n",
      "Channel Form Index (CFI): 0.5792203567674997\n"
     ]
    },
    {
     "name": "stderr",
     "output_type": "stream",
     "text": [
      "C:\\Users\\huckr\\AppData\\Local\\Temp\\ipykernel_21016\\578621774.py:838: UserWarning: Column names longer than 10 characters will be truncated when saved to ESRI Shapefile.\n",
      "  channel_belt_cross_sections.to_file(os.path.join(output_folder, 'channel_belt_cross_sections.shp'))\n",
      "WARNING:fiona._env:Normalized/laundered field name: 'channel_count' to 'channel_co'\n",
      "C:\\Users\\huckr\\AppData\\Local\\Temp\\ipykernel_21016\\578621774.py:838: UserWarning: Column names longer than 10 characters will be truncated when saved to ESRI Shapefile.\n",
      "  channel_belt_cross_sections.to_file(os.path.join(output_folder, 'channel_belt_cross_sections.shp'))\n",
      "WARNING:fiona._env:Normalized/laundered field name: 'channel_count' to 'channel_co'\n"
     ]
    },
    {
     "name": "stdout",
     "output_type": "stream",
     "text": [
      "Sinuosity: 1.3976414076018024\n",
      "Channel Count Index (CCI): 1.8\n",
      "Channel Form Index (CFI): 0.776467448667668\n"
     ]
    },
    {
     "name": "stderr",
     "output_type": "stream",
     "text": [
      "C:\\Users\\huckr\\AppData\\Local\\Temp\\ipykernel_21016\\578621774.py:838: UserWarning: Column names longer than 10 characters will be truncated when saved to ESRI Shapefile.\n",
      "  channel_belt_cross_sections.to_file(os.path.join(output_folder, 'channel_belt_cross_sections.shp'))\n",
      "WARNING:fiona._env:Normalized/laundered field name: 'channel_count' to 'channel_co'\n"
     ]
    },
    {
     "name": "stdout",
     "output_type": "stream",
     "text": [
      "Sinuosity: 1.2468341471510551\n",
      "Channel Count Index (CCI): 1.84\n",
      "Channel Form Index (CFI): 0.677627253886443\n",
      "Sinuosity: 1.1854782774802586\n",
      "Channel Count Index (CCI): 1.44\n",
      "Channel Form Index (CFI): 0.8232488038057352\n"
     ]
    },
    {
     "name": "stderr",
     "output_type": "stream",
     "text": [
      "C:\\Users\\huckr\\AppData\\Local\\Temp\\ipykernel_21016\\578621774.py:838: UserWarning: Column names longer than 10 characters will be truncated when saved to ESRI Shapefile.\n",
      "  channel_belt_cross_sections.to_file(os.path.join(output_folder, 'channel_belt_cross_sections.shp'))\n",
      "WARNING:fiona._env:Normalized/laundered field name: 'channel_count' to 'channel_co'\n",
      "C:\\Users\\huckr\\AppData\\Local\\Temp\\ipykernel_21016\\578621774.py:838: UserWarning: Column names longer than 10 characters will be truncated when saved to ESRI Shapefile.\n",
      "  channel_belt_cross_sections.to_file(os.path.join(output_folder, 'channel_belt_cross_sections.shp'))\n",
      "WARNING:fiona._env:Normalized/laundered field name: 'channel_count' to 'channel_co'\n"
     ]
    },
    {
     "name": "stdout",
     "output_type": "stream",
     "text": [
      "Sinuosity: 1.187835583032575\n",
      "Channel Count Index (CCI): 1.48\n",
      "Channel Form Index (CFI): 0.8025916101571453\n"
     ]
    },
    {
     "name": "stderr",
     "output_type": "stream",
     "text": [
      "C:\\Users\\huckr\\AppData\\Local\\Temp\\ipykernel_21016\\578621774.py:838: UserWarning: Column names longer than 10 characters will be truncated when saved to ESRI Shapefile.\n",
      "  channel_belt_cross_sections.to_file(os.path.join(output_folder, 'channel_belt_cross_sections.shp'))\n",
      "WARNING:fiona._env:Normalized/laundered field name: 'channel_count' to 'channel_co'\n"
     ]
    },
    {
     "name": "stdout",
     "output_type": "stream",
     "text": [
      "Sinuosity: 1.2159503863801382\n",
      "Channel Count Index (CCI): 1.5\n",
      "Channel Form Index (CFI): 0.8106335909200921\n"
     ]
    },
    {
     "name": "stderr",
     "output_type": "stream",
     "text": [
      "C:\\Users\\huckr\\AppData\\Local\\Temp\\ipykernel_21016\\578621774.py:838: UserWarning: Column names longer than 10 characters will be truncated when saved to ESRI Shapefile.\n",
      "  channel_belt_cross_sections.to_file(os.path.join(output_folder, 'channel_belt_cross_sections.shp'))\n",
      "WARNING:fiona._env:Normalized/laundered field name: 'channel_count' to 'channel_co'\n"
     ]
    },
    {
     "name": "stdout",
     "output_type": "stream",
     "text": [
      "Sinuosity: 1.2155331232730149\n",
      "Channel Count Index (CCI): 1.2\n",
      "Channel Form Index (CFI): 1.012944269394179\n"
     ]
    },
    {
     "name": "stderr",
     "output_type": "stream",
     "text": [
      "C:\\Users\\huckr\\AppData\\Local\\Temp\\ipykernel_21016\\578621774.py:838: UserWarning: Column names longer than 10 characters will be truncated when saved to ESRI Shapefile.\n",
      "  channel_belt_cross_sections.to_file(os.path.join(output_folder, 'channel_belt_cross_sections.shp'))\n",
      "WARNING:fiona._env:Normalized/laundered field name: 'channel_count' to 'channel_co'\n"
     ]
    },
    {
     "name": "stdout",
     "output_type": "stream",
     "text": [
      "Sinuosity: 1.2156965073479962\n",
      "Channel Count Index (CCI): 1.5\n",
      "Channel Form Index (CFI): 0.8104643382319975\n"
     ]
    },
    {
     "name": "stderr",
     "output_type": "stream",
     "text": [
      "C:\\Users\\huckr\\AppData\\Local\\Temp\\ipykernel_21016\\578621774.py:838: UserWarning: Column names longer than 10 characters will be truncated when saved to ESRI Shapefile.\n",
      "  channel_belt_cross_sections.to_file(os.path.join(output_folder, 'channel_belt_cross_sections.shp'))\n",
      "WARNING:fiona._env:Normalized/laundered field name: 'channel_count' to 'channel_co'\n"
     ]
    },
    {
     "name": "stdout",
     "output_type": "stream",
     "text": [
      "Sinuosity: 1.223609640947669\n",
      "Channel Count Index (CCI): 1.36\n",
      "Channel Form Index (CFI): 0.8997129712850508\n"
     ]
    },
    {
     "name": "stderr",
     "output_type": "stream",
     "text": [
      "C:\\Users\\huckr\\AppData\\Local\\Temp\\ipykernel_21016\\578621774.py:838: UserWarning: Column names longer than 10 characters will be truncated when saved to ESRI Shapefile.\n",
      "  channel_belt_cross_sections.to_file(os.path.join(output_folder, 'channel_belt_cross_sections.shp'))\n",
      "WARNING:fiona._env:Normalized/laundered field name: 'channel_count' to 'channel_co'\n"
     ]
    },
    {
     "name": "stdout",
     "output_type": "stream",
     "text": [
      "Sinuosity: 1.2010900655028105\n",
      "Channel Count Index (CCI): 1.36\n",
      "Channel Form Index (CFI): 0.883154459928537\n",
      "Sinuosity: 1.2146507818585202\n",
      "Channel Count Index (CCI): 1.56\n",
      "Channel Form Index (CFI): 0.7786222960631539\n"
     ]
    },
    {
     "name": "stderr",
     "output_type": "stream",
     "text": [
      "C:\\Users\\huckr\\AppData\\Local\\Temp\\ipykernel_21016\\578621774.py:838: UserWarning: Column names longer than 10 characters will be truncated when saved to ESRI Shapefile.\n",
      "  channel_belt_cross_sections.to_file(os.path.join(output_folder, 'channel_belt_cross_sections.shp'))\n",
      "WARNING:fiona._env:Normalized/laundered field name: 'channel_count' to 'channel_co'\n",
      "C:\\Users\\huckr\\AppData\\Local\\Temp\\ipykernel_21016\\578621774.py:838: UserWarning: Column names longer than 10 characters will be truncated when saved to ESRI Shapefile.\n",
      "  channel_belt_cross_sections.to_file(os.path.join(output_folder, 'channel_belt_cross_sections.shp'))\n",
      "WARNING:fiona._env:Normalized/laundered field name: 'channel_count' to 'channel_co'\n"
     ]
    },
    {
     "name": "stdout",
     "output_type": "stream",
     "text": [
      "Sinuosity: 1.2540633591913684\n",
      "Channel Count Index (CCI): 1.72\n",
      "Channel Form Index (CFI): 0.7291066041810281\n"
     ]
    },
    {
     "name": "stderr",
     "output_type": "stream",
     "text": [
      "C:\\Users\\huckr\\AppData\\Local\\Temp\\ipykernel_21016\\578621774.py:838: UserWarning: Column names longer than 10 characters will be truncated when saved to ESRI Shapefile.\n",
      "  channel_belt_cross_sections.to_file(os.path.join(output_folder, 'channel_belt_cross_sections.shp'))\n",
      "WARNING:fiona._env:Normalized/laundered field name: 'channel_count' to 'channel_co'\n"
     ]
    },
    {
     "name": "stdout",
     "output_type": "stream",
     "text": [
      "Sinuosity: 1.2355651130844525\n",
      "Channel Count Index (CCI): 1.38\n",
      "Channel Form Index (CFI): 0.8953370384669946\n",
      "Sinuosity: 1.256452736657338\n",
      "Channel Count Index (CCI): 1.6\n",
      "Channel Form Index (CFI): 0.7852829604108361\n"
     ]
    },
    {
     "name": "stderr",
     "output_type": "stream",
     "text": [
      "C:\\Users\\huckr\\AppData\\Local\\Temp\\ipykernel_21016\\578621774.py:838: UserWarning: Column names longer than 10 characters will be truncated when saved to ESRI Shapefile.\n",
      "  channel_belt_cross_sections.to_file(os.path.join(output_folder, 'channel_belt_cross_sections.shp'))\n",
      "WARNING:fiona._env:Normalized/laundered field name: 'channel_count' to 'channel_co'\n"
     ]
    },
    {
     "name": "stdout",
     "output_type": "stream",
     "text": [
      "Sinuosity: 1.2842438639723226\n",
      "Channel Count Index (CCI): 1.22\n",
      "Channel Form Index (CFI): 1.0526589048953463\n"
     ]
    },
    {
     "name": "stderr",
     "output_type": "stream",
     "text": [
      "C:\\Users\\huckr\\AppData\\Local\\Temp\\ipykernel_21016\\578621774.py:838: UserWarning: Column names longer than 10 characters will be truncated when saved to ESRI Shapefile.\n",
      "  channel_belt_cross_sections.to_file(os.path.join(output_folder, 'channel_belt_cross_sections.shp'))\n",
      "WARNING:fiona._env:Normalized/laundered field name: 'channel_count' to 'channel_co'\n",
      "C:\\Users\\huckr\\AppData\\Local\\Temp\\ipykernel_21016\\578621774.py:838: UserWarning: Column names longer than 10 characters will be truncated when saved to ESRI Shapefile.\n",
      "  channel_belt_cross_sections.to_file(os.path.join(output_folder, 'channel_belt_cross_sections.shp'))\n",
      "WARNING:fiona._env:Normalized/laundered field name: 'channel_count' to 'channel_co'\n"
     ]
    },
    {
     "name": "stdout",
     "output_type": "stream",
     "text": [
      "Sinuosity: 1.3107897565719469\n",
      "Channel Count Index (CCI): 1.3\n",
      "Channel Form Index (CFI): 1.0082998127476515\n"
     ]
    },
    {
     "name": "stderr",
     "output_type": "stream",
     "text": [
      "C:\\Users\\huckr\\AppData\\Local\\Temp\\ipykernel_21016\\578621774.py:838: UserWarning: Column names longer than 10 characters will be truncated when saved to ESRI Shapefile.\n",
      "  channel_belt_cross_sections.to_file(os.path.join(output_folder, 'channel_belt_cross_sections.shp'))\n",
      "WARNING:fiona._env:Normalized/laundered field name: 'channel_count' to 'channel_co'\n"
     ]
    },
    {
     "name": "stdout",
     "output_type": "stream",
     "text": [
      "Sinuosity: 1.3032240597243774\n",
      "Channel Count Index (CCI): 1.38\n",
      "Channel Form Index (CFI): 0.9443652606698387\n",
      "Sinuosity: 1.234207212741553\n",
      "Channel Count Index (CCI): 2.06\n",
      "Channel Form Index (CFI): 0.599129714923084\n"
     ]
    },
    {
     "name": "stderr",
     "output_type": "stream",
     "text": [
      "C:\\Users\\huckr\\AppData\\Local\\Temp\\ipykernel_21016\\578621774.py:838: UserWarning: Column names longer than 10 characters will be truncated when saved to ESRI Shapefile.\n",
      "  channel_belt_cross_sections.to_file(os.path.join(output_folder, 'channel_belt_cross_sections.shp'))\n",
      "WARNING:fiona._env:Normalized/laundered field name: 'channel_count' to 'channel_co'\n",
      "C:\\Users\\huckr\\AppData\\Local\\Temp\\ipykernel_21016\\578621774.py:838: UserWarning: Column names longer than 10 characters will be truncated when saved to ESRI Shapefile.\n",
      "  channel_belt_cross_sections.to_file(os.path.join(output_folder, 'channel_belt_cross_sections.shp'))\n",
      "WARNING:fiona._env:Normalized/laundered field name: 'channel_count' to 'channel_co'\n"
     ]
    },
    {
     "name": "stdout",
     "output_type": "stream",
     "text": [
      "Sinuosity: 1.2629672164124264\n",
      "Channel Count Index (CCI): 1.18\n",
      "Channel Form Index (CFI): 1.0703112003495139\n"
     ]
    },
    {
     "name": "stderr",
     "output_type": "stream",
     "text": [
      "C:\\Users\\huckr\\AppData\\Local\\Temp\\ipykernel_21016\\578621774.py:838: UserWarning: Column names longer than 10 characters will be truncated when saved to ESRI Shapefile.\n",
      "  channel_belt_cross_sections.to_file(os.path.join(output_folder, 'channel_belt_cross_sections.shp'))\n",
      "WARNING:fiona._env:Normalized/laundered field name: 'channel_count' to 'channel_co'\n"
     ]
    },
    {
     "name": "stdout",
     "output_type": "stream",
     "text": [
      "Sinuosity: 1.2661670682704724\n",
      "Channel Count Index (CCI): 1.52\n",
      "Channel Form Index (CFI): 0.8330046501779423\n",
      "Sinuosity: 1.2293745957937319\n",
      "Channel Count Index (CCI): 1.12\n",
      "Channel Form Index (CFI): 1.0976558891015462\n"
     ]
    },
    {
     "name": "stderr",
     "output_type": "stream",
     "text": [
      "C:\\Users\\huckr\\AppData\\Local\\Temp\\ipykernel_21016\\578621774.py:838: UserWarning: Column names longer than 10 characters will be truncated when saved to ESRI Shapefile.\n",
      "  channel_belt_cross_sections.to_file(os.path.join(output_folder, 'channel_belt_cross_sections.shp'))\n",
      "WARNING:fiona._env:Normalized/laundered field name: 'channel_count' to 'channel_co'\n"
     ]
    },
    {
     "name": "stdout",
     "output_type": "stream",
     "text": [
      "Sinuosity: 1.1963699759022477\n",
      "Channel Count Index (CCI): 1.02\n",
      "Channel Form Index (CFI): 1.172911741080635\n"
     ]
    },
    {
     "name": "stderr",
     "output_type": "stream",
     "text": [
      "C:\\Users\\huckr\\AppData\\Local\\Temp\\ipykernel_21016\\578621774.py:838: UserWarning: Column names longer than 10 characters will be truncated when saved to ESRI Shapefile.\n",
      "  channel_belt_cross_sections.to_file(os.path.join(output_folder, 'channel_belt_cross_sections.shp'))\n",
      "WARNING:fiona._env:Normalized/laundered field name: 'channel_count' to 'channel_co'\n"
     ]
    },
    {
     "name": "stdout",
     "output_type": "stream",
     "text": [
      "Sinuosity: 1.1606753026546488\n",
      "Channel Count Index (CCI): 1.18\n",
      "Channel Form Index (CFI): 0.9836231378429228\n"
     ]
    },
    {
     "name": "stderr",
     "output_type": "stream",
     "text": [
      "C:\\Users\\huckr\\AppData\\Local\\Temp\\ipykernel_21016\\578621774.py:838: UserWarning: Column names longer than 10 characters will be truncated when saved to ESRI Shapefile.\n",
      "  channel_belt_cross_sections.to_file(os.path.join(output_folder, 'channel_belt_cross_sections.shp'))\n",
      "WARNING:fiona._env:Normalized/laundered field name: 'channel_count' to 'channel_co'\n",
      "C:\\Users\\huckr\\AppData\\Local\\Temp\\ipykernel_21016\\578621774.py:838: UserWarning: Column names longer than 10 characters will be truncated when saved to ESRI Shapefile.\n",
      "  channel_belt_cross_sections.to_file(os.path.join(output_folder, 'channel_belt_cross_sections.shp'))\n",
      "WARNING:fiona._env:Normalized/laundered field name: 'channel_count' to 'channel_co'\n"
     ]
    },
    {
     "name": "stdout",
     "output_type": "stream",
     "text": [
      "Sinuosity: 1.1601882890896524\n",
      "Channel Count Index (CCI): 1.16\n",
      "Channel Form Index (CFI): 1.0001623181807349\n"
     ]
    },
    {
     "name": "stderr",
     "output_type": "stream",
     "text": [
      "C:\\Users\\huckr\\AppData\\Local\\Temp\\ipykernel_21016\\578621774.py:838: UserWarning: Column names longer than 10 characters will be truncated when saved to ESRI Shapefile.\n",
      "  channel_belt_cross_sections.to_file(os.path.join(output_folder, 'channel_belt_cross_sections.shp'))\n",
      "WARNING:fiona._env:Normalized/laundered field name: 'channel_count' to 'channel_co'\n"
     ]
    },
    {
     "name": "stdout",
     "output_type": "stream",
     "text": [
      "Sinuosity: 1.2047710955137128\n",
      "Channel Count Index (CCI): 1.34\n",
      "Channel Form Index (CFI): 0.8990829070997856\n",
      "Sinuosity: 1.1584301104996624\n",
      "Channel Count Index (CCI): 1.02\n",
      "Channel Form Index (CFI): 1.135715794607512\n"
     ]
    },
    {
     "name": "stderr",
     "output_type": "stream",
     "text": [
      "C:\\Users\\huckr\\AppData\\Local\\Temp\\ipykernel_21016\\578621774.py:838: UserWarning: Column names longer than 10 characters will be truncated when saved to ESRI Shapefile.\n",
      "  channel_belt_cross_sections.to_file(os.path.join(output_folder, 'channel_belt_cross_sections.shp'))\n",
      "WARNING:fiona._env:Normalized/laundered field name: 'channel_count' to 'channel_co'\n",
      "C:\\Users\\huckr\\AppData\\Local\\Temp\\ipykernel_21016\\578621774.py:838: UserWarning: Column names longer than 10 characters will be truncated when saved to ESRI Shapefile.\n",
      "  channel_belt_cross_sections.to_file(os.path.join(output_folder, 'channel_belt_cross_sections.shp'))\n",
      "WARNING:fiona._env:Normalized/laundered field name: 'channel_count' to 'channel_co'\n"
     ]
    },
    {
     "name": "stdout",
     "output_type": "stream",
     "text": [
      "Sinuosity: 1.2230418148773268\n",
      "Channel Count Index (CCI): 1.24\n",
      "Channel Form Index (CFI): 0.9863240442559087\n"
     ]
    },
    {
     "name": "stderr",
     "output_type": "stream",
     "text": [
      "C:\\Users\\huckr\\AppData\\Local\\Temp\\ipykernel_21016\\578621774.py:838: UserWarning: Column names longer than 10 characters will be truncated when saved to ESRI Shapefile.\n",
      "  channel_belt_cross_sections.to_file(os.path.join(output_folder, 'channel_belt_cross_sections.shp'))\n",
      "WARNING:fiona._env:Normalized/laundered field name: 'channel_count' to 'channel_co'\n"
     ]
    },
    {
     "name": "stdout",
     "output_type": "stream",
     "text": [
      "Sinuosity: 1.2378604779989923\n",
      "Channel Count Index (CCI): 1.22\n",
      "Channel Form Index (CFI): 1.0146397360647479\n"
     ]
    },
    {
     "name": "stderr",
     "output_type": "stream",
     "text": [
      "C:\\Users\\huckr\\AppData\\Local\\Temp\\ipykernel_21016\\578621774.py:838: UserWarning: Column names longer than 10 characters will be truncated when saved to ESRI Shapefile.\n",
      "  channel_belt_cross_sections.to_file(os.path.join(output_folder, 'channel_belt_cross_sections.shp'))\n",
      "WARNING:fiona._env:Normalized/laundered field name: 'channel_count' to 'channel_co'\n"
     ]
    },
    {
     "name": "stdout",
     "output_type": "stream",
     "text": [
      "Sinuosity: 1.1413220517822122\n",
      "Channel Count Index (CCI): 1.2\n",
      "Channel Form Index (CFI): 0.9511017098185103\n"
     ]
    },
    {
     "name": "stderr",
     "output_type": "stream",
     "text": [
      "C:\\Users\\huckr\\AppData\\Local\\Temp\\ipykernel_21016\\578621774.py:838: UserWarning: Column names longer than 10 characters will be truncated when saved to ESRI Shapefile.\n",
      "  channel_belt_cross_sections.to_file(os.path.join(output_folder, 'channel_belt_cross_sections.shp'))\n",
      "WARNING:fiona._env:Normalized/laundered field name: 'channel_count' to 'channel_co'\n"
     ]
    },
    {
     "name": "stdout",
     "output_type": "stream",
     "text": [
      "Sinuosity: 1.209420446420883\n",
      "Channel Count Index (CCI): 1.34\n",
      "Channel Form Index (CFI): 0.9025525719558829\n"
     ]
    },
    {
     "name": "stderr",
     "output_type": "stream",
     "text": [
      "C:\\Users\\huckr\\AppData\\Local\\Temp\\ipykernel_21016\\578621774.py:838: UserWarning: Column names longer than 10 characters will be truncated when saved to ESRI Shapefile.\n",
      "  channel_belt_cross_sections.to_file(os.path.join(output_folder, 'channel_belt_cross_sections.shp'))\n",
      "WARNING:fiona._env:Normalized/laundered field name: 'channel_count' to 'channel_co'\n"
     ]
    },
    {
     "name": "stdout",
     "output_type": "stream",
     "text": [
      "Sinuosity: 1.194653741078387\n",
      "Channel Count Index (CCI): 1.14\n",
      "Channel Form Index (CFI): 1.047941878138936\n"
     ]
    },
    {
     "name": "stderr",
     "output_type": "stream",
     "text": [
      "C:\\Users\\huckr\\AppData\\Local\\Temp\\ipykernel_21016\\578621774.py:838: UserWarning: Column names longer than 10 characters will be truncated when saved to ESRI Shapefile.\n",
      "  channel_belt_cross_sections.to_file(os.path.join(output_folder, 'channel_belt_cross_sections.shp'))\n",
      "WARNING:fiona._env:Normalized/laundered field name: 'channel_count' to 'channel_co'\n"
     ]
    },
    {
     "name": "stdout",
     "output_type": "stream",
     "text": [
      "Sinuosity: 1.2304602537994662\n",
      "Channel Count Index (CCI): 1.26\n",
      "Channel Form Index (CFI): 0.9765557569837033\n"
     ]
    },
    {
     "name": "stderr",
     "output_type": "stream",
     "text": [
      "C:\\Users\\huckr\\AppData\\Local\\Temp\\ipykernel_21016\\578621774.py:838: UserWarning: Column names longer than 10 characters will be truncated when saved to ESRI Shapefile.\n",
      "  channel_belt_cross_sections.to_file(os.path.join(output_folder, 'channel_belt_cross_sections.shp'))\n",
      "WARNING:fiona._env:Normalized/laundered field name: 'channel_count' to 'channel_co'\n"
     ]
    },
    {
     "name": "stdout",
     "output_type": "stream",
     "text": [
      "Sinuosity: 1.178302060541576\n",
      "Channel Count Index (CCI): 1.36\n",
      "Channel Form Index (CFI): 0.8663985739276293\n"
     ]
    },
    {
     "name": "stderr",
     "output_type": "stream",
     "text": [
      "C:\\Users\\huckr\\AppData\\Local\\Temp\\ipykernel_21016\\578621774.py:838: UserWarning: Column names longer than 10 characters will be truncated when saved to ESRI Shapefile.\n",
      "  channel_belt_cross_sections.to_file(os.path.join(output_folder, 'channel_belt_cross_sections.shp'))\n",
      "WARNING:fiona._env:Normalized/laundered field name: 'channel_count' to 'channel_co'\n"
     ]
    },
    {
     "name": "stdout",
     "output_type": "stream",
     "text": [
      "Sinuosity: 1.1792767795139716\n",
      "Channel Count Index (CCI): 1.2\n",
      "Channel Form Index (CFI): 0.9827306495949764\n"
     ]
    },
    {
     "name": "stderr",
     "output_type": "stream",
     "text": [
      "C:\\Users\\huckr\\AppData\\Local\\Temp\\ipykernel_21016\\578621774.py:838: UserWarning: Column names longer than 10 characters will be truncated when saved to ESRI Shapefile.\n",
      "  channel_belt_cross_sections.to_file(os.path.join(output_folder, 'channel_belt_cross_sections.shp'))\n",
      "WARNING:fiona._env:Normalized/laundered field name: 'channel_count' to 'channel_co'\n"
     ]
    },
    {
     "name": "stdout",
     "output_type": "stream",
     "text": [
      "Sinuosity: 1.1826341877468776\n",
      "Channel Count Index (CCI): 1.36\n",
      "Channel Form Index (CFI): 0.8695839615785864\n"
     ]
    },
    {
     "name": "stderr",
     "output_type": "stream",
     "text": [
      "C:\\Users\\huckr\\AppData\\Local\\Temp\\ipykernel_21016\\578621774.py:838: UserWarning: Column names longer than 10 characters will be truncated when saved to ESRI Shapefile.\n",
      "  channel_belt_cross_sections.to_file(os.path.join(output_folder, 'channel_belt_cross_sections.shp'))\n",
      "WARNING:fiona._env:Normalized/laundered field name: 'channel_count' to 'channel_co'\n"
     ]
    },
    {
     "name": "stdout",
     "output_type": "stream",
     "text": [
      "Sinuosity: 1.2145370282132615\n",
      "Channel Count Index (CCI): 1.28\n",
      "Channel Form Index (CFI): 0.9488570532916105\n"
     ]
    },
    {
     "name": "stderr",
     "output_type": "stream",
     "text": [
      "C:\\Users\\huckr\\AppData\\Local\\Temp\\ipykernel_21016\\578621774.py:838: UserWarning: Column names longer than 10 characters will be truncated when saved to ESRI Shapefile.\n",
      "  channel_belt_cross_sections.to_file(os.path.join(output_folder, 'channel_belt_cross_sections.shp'))\n",
      "WARNING:fiona._env:Normalized/laundered field name: 'channel_count' to 'channel_co'\n"
     ]
    },
    {
     "name": "stdout",
     "output_type": "stream",
     "text": [
      "Sinuosity: 1.2422480273934753\n",
      "Channel Count Index (CCI): 1.58\n",
      "Channel Form Index (CFI): 0.7862329287300476\n"
     ]
    },
    {
     "name": "stderr",
     "output_type": "stream",
     "text": [
      "C:\\Users\\huckr\\AppData\\Local\\Temp\\ipykernel_21016\\578621774.py:838: UserWarning: Column names longer than 10 characters will be truncated when saved to ESRI Shapefile.\n",
      "  channel_belt_cross_sections.to_file(os.path.join(output_folder, 'channel_belt_cross_sections.shp'))\n",
      "WARNING:fiona._env:Normalized/laundered field name: 'channel_count' to 'channel_co'\n"
     ]
    },
    {
     "name": "stdout",
     "output_type": "stream",
     "text": [
      "Sinuosity: 1.172393480012993\n",
      "Channel Count Index (CCI): 1.54\n",
      "Channel Form Index (CFI): 0.7612944675409045\n"
     ]
    },
    {
     "name": "stderr",
     "output_type": "stream",
     "text": [
      "C:\\Users\\huckr\\AppData\\Local\\Temp\\ipykernel_21016\\578621774.py:838: UserWarning: Column names longer than 10 characters will be truncated when saved to ESRI Shapefile.\n",
      "  channel_belt_cross_sections.to_file(os.path.join(output_folder, 'channel_belt_cross_sections.shp'))\n",
      "WARNING:fiona._env:Normalized/laundered field name: 'channel_count' to 'channel_co'\n"
     ]
    },
    {
     "name": "stdout",
     "output_type": "stream",
     "text": [
      "Sinuosity: 1.2019542423651883\n",
      "Channel Count Index (CCI): 1.4\n",
      "Channel Form Index (CFI): 0.8585387445465631\n",
      "Sinuosity: 1.2792305418145506\n",
      "Channel Count Index (CCI): 1.46\n",
      "Channel Form Index (CFI): 0.876185302612706\n"
     ]
    },
    {
     "name": "stderr",
     "output_type": "stream",
     "text": [
      "C:\\Users\\huckr\\AppData\\Local\\Temp\\ipykernel_21016\\578621774.py:838: UserWarning: Column names longer than 10 characters will be truncated when saved to ESRI Shapefile.\n",
      "  channel_belt_cross_sections.to_file(os.path.join(output_folder, 'channel_belt_cross_sections.shp'))\n",
      "WARNING:fiona._env:Normalized/laundered field name: 'channel_count' to 'channel_co'\n",
      "C:\\Users\\huckr\\AppData\\Local\\Temp\\ipykernel_21016\\578621774.py:838: UserWarning: Column names longer than 10 characters will be truncated when saved to ESRI Shapefile.\n",
      "  channel_belt_cross_sections.to_file(os.path.join(output_folder, 'channel_belt_cross_sections.shp'))\n",
      "WARNING:fiona._env:Normalized/laundered field name: 'channel_count' to 'channel_co'\n"
     ]
    },
    {
     "name": "stdout",
     "output_type": "stream",
     "text": [
      "Sinuosity: 1.2813545953833614\n",
      "Channel Count Index (CCI): 1.34\n",
      "Channel Form Index (CFI): 0.9562347726741502\n"
     ]
    },
    {
     "name": "stderr",
     "output_type": "stream",
     "text": [
      "C:\\Users\\huckr\\AppData\\Local\\Temp\\ipykernel_21016\\578621774.py:838: UserWarning: Column names longer than 10 characters will be truncated when saved to ESRI Shapefile.\n",
      "  channel_belt_cross_sections.to_file(os.path.join(output_folder, 'channel_belt_cross_sections.shp'))\n",
      "WARNING:fiona._env:Normalized/laundered field name: 'channel_count' to 'channel_co'\n"
     ]
    },
    {
     "name": "stdout",
     "output_type": "stream",
     "text": [
      "Sinuosity: 1.3340633445149592\n",
      "Channel Count Index (CCI): 1.18\n",
      "Channel Form Index (CFI): 1.1305621563686097\n"
     ]
    },
    {
     "name": "stderr",
     "output_type": "stream",
     "text": [
      "C:\\Users\\huckr\\AppData\\Local\\Temp\\ipykernel_21016\\578621774.py:838: UserWarning: Column names longer than 10 characters will be truncated when saved to ESRI Shapefile.\n",
      "  channel_belt_cross_sections.to_file(os.path.join(output_folder, 'channel_belt_cross_sections.shp'))\n",
      "WARNING:fiona._env:Normalized/laundered field name: 'channel_count' to 'channel_co'\n"
     ]
    },
    {
     "name": "stdout",
     "output_type": "stream",
     "text": [
      "Sinuosity: 1.3285323287857247\n",
      "Channel Count Index (CCI): 1.2\n",
      "Channel Form Index (CFI): 1.107110273988104\n"
     ]
    },
    {
     "name": "stderr",
     "output_type": "stream",
     "text": [
      "C:\\Users\\huckr\\AppData\\Local\\Temp\\ipykernel_21016\\578621774.py:838: UserWarning: Column names longer than 10 characters will be truncated when saved to ESRI Shapefile.\n",
      "  channel_belt_cross_sections.to_file(os.path.join(output_folder, 'channel_belt_cross_sections.shp'))\n",
      "WARNING:fiona._env:Normalized/laundered field name: 'channel_count' to 'channel_co'\n"
     ]
    },
    {
     "name": "stdout",
     "output_type": "stream",
     "text": [
      "Sinuosity: 1.3893557048720488\n",
      "Channel Count Index (CCI): 1.18\n",
      "Channel Form Index (CFI): 1.1774200888746178\n"
     ]
    },
    {
     "name": "stderr",
     "output_type": "stream",
     "text": [
      "C:\\Users\\huckr\\AppData\\Local\\Temp\\ipykernel_21016\\578621774.py:838: UserWarning: Column names longer than 10 characters will be truncated when saved to ESRI Shapefile.\n",
      "  channel_belt_cross_sections.to_file(os.path.join(output_folder, 'channel_belt_cross_sections.shp'))\n",
      "WARNING:fiona._env:Normalized/laundered field name: 'channel_count' to 'channel_co'\n"
     ]
    },
    {
     "name": "stdout",
     "output_type": "stream",
     "text": [
      "Sinuosity: 1.342968212997168\n",
      "Channel Count Index (CCI): 1.32\n",
      "Channel Form Index (CFI): 1.017400161361491\n"
     ]
    },
    {
     "name": "stderr",
     "output_type": "stream",
     "text": [
      "C:\\Users\\huckr\\AppData\\Local\\Temp\\ipykernel_21016\\578621774.py:838: UserWarning: Column names longer than 10 characters will be truncated when saved to ESRI Shapefile.\n",
      "  channel_belt_cross_sections.to_file(os.path.join(output_folder, 'channel_belt_cross_sections.shp'))\n",
      "WARNING:fiona._env:Normalized/laundered field name: 'channel_count' to 'channel_co'\n"
     ]
    },
    {
     "name": "stdout",
     "output_type": "stream",
     "text": [
      "Sinuosity: 1.244988150720419\n",
      "Channel Count Index (CCI): 1.16\n",
      "Channel Form Index (CFI): 1.073265647172775\n",
      "Sinuosity: 1.3470289777950044\n",
      "Channel Count Index (CCI): 1.24\n",
      "Channel Form Index (CFI): 1.0863136917701648\n"
     ]
    },
    {
     "name": "stderr",
     "output_type": "stream",
     "text": [
      "C:\\Users\\huckr\\AppData\\Local\\Temp\\ipykernel_21016\\578621774.py:838: UserWarning: Column names longer than 10 characters will be truncated when saved to ESRI Shapefile.\n",
      "  channel_belt_cross_sections.to_file(os.path.join(output_folder, 'channel_belt_cross_sections.shp'))\n",
      "WARNING:fiona._env:Normalized/laundered field name: 'channel_count' to 'channel_co'\n",
      "C:\\Users\\huckr\\AppData\\Local\\Temp\\ipykernel_21016\\578621774.py:838: UserWarning: Column names longer than 10 characters will be truncated when saved to ESRI Shapefile.\n",
      "  channel_belt_cross_sections.to_file(os.path.join(output_folder, 'channel_belt_cross_sections.shp'))\n",
      "WARNING:fiona._env:Normalized/laundered field name: 'channel_count' to 'channel_co'\n"
     ]
    },
    {
     "name": "stdout",
     "output_type": "stream",
     "text": [
      "Sinuosity: 1.304833760437639\n",
      "Channel Count Index (CCI): 1.26\n",
      "Channel Form Index (CFI): 1.0355823495536818\n"
     ]
    },
    {
     "name": "stderr",
     "output_type": "stream",
     "text": [
      "C:\\Users\\huckr\\AppData\\Local\\Temp\\ipykernel_21016\\578621774.py:838: UserWarning: Column names longer than 10 characters will be truncated when saved to ESRI Shapefile.\n",
      "  channel_belt_cross_sections.to_file(os.path.join(output_folder, 'channel_belt_cross_sections.shp'))\n",
      "WARNING:fiona._env:Normalized/laundered field name: 'channel_count' to 'channel_co'\n"
     ]
    },
    {
     "name": "stdout",
     "output_type": "stream",
     "text": [
      "Sinuosity: 1.363363287979815\n",
      "Channel Count Index (CCI): 1.34\n",
      "Channel Form Index (CFI): 1.0174352895371752\n"
     ]
    },
    {
     "name": "stderr",
     "output_type": "stream",
     "text": [
      "C:\\Users\\huckr\\AppData\\Local\\Temp\\ipykernel_21016\\578621774.py:838: UserWarning: Column names longer than 10 characters will be truncated when saved to ESRI Shapefile.\n",
      "  channel_belt_cross_sections.to_file(os.path.join(output_folder, 'channel_belt_cross_sections.shp'))\n",
      "WARNING:fiona._env:Normalized/laundered field name: 'channel_count' to 'channel_co'\n"
     ]
    },
    {
     "name": "stdout",
     "output_type": "stream",
     "text": [
      "Sinuosity: 1.2689077319744546\n",
      "Channel Count Index (CCI): 1.24\n",
      "Channel Form Index (CFI): 1.023312687076173\n",
      "Sinuosity: 1.2057575755079655\n",
      "Channel Count Index (CCI): 1.3\n",
      "Channel Form Index (CFI): 0.9275058273138196\n"
     ]
    },
    {
     "name": "stderr",
     "output_type": "stream",
     "text": [
      "C:\\Users\\huckr\\AppData\\Local\\Temp\\ipykernel_21016\\578621774.py:838: UserWarning: Column names longer than 10 characters will be truncated when saved to ESRI Shapefile.\n",
      "  channel_belt_cross_sections.to_file(os.path.join(output_folder, 'channel_belt_cross_sections.shp'))\n",
      "WARNING:fiona._env:Normalized/laundered field name: 'channel_count' to 'channel_co'\n",
      "C:\\Users\\huckr\\AppData\\Local\\Temp\\ipykernel_21016\\578621774.py:838: UserWarning: Column names longer than 10 characters will be truncated when saved to ESRI Shapefile.\n",
      "  channel_belt_cross_sections.to_file(os.path.join(output_folder, 'channel_belt_cross_sections.shp'))\n",
      "WARNING:fiona._env:Normalized/laundered field name: 'channel_count' to 'channel_co'\n"
     ]
    },
    {
     "name": "stdout",
     "output_type": "stream",
     "text": [
      "Sinuosity: 1.234743802185832\n",
      "Channel Count Index (CCI): 1.2\n",
      "Channel Form Index (CFI): 1.0289531684881934\n"
     ]
    },
    {
     "name": "stderr",
     "output_type": "stream",
     "text": [
      "C:\\Users\\huckr\\AppData\\Local\\Temp\\ipykernel_21016\\578621774.py:838: UserWarning: Column names longer than 10 characters will be truncated when saved to ESRI Shapefile.\n",
      "  channel_belt_cross_sections.to_file(os.path.join(output_folder, 'channel_belt_cross_sections.shp'))\n",
      "WARNING:fiona._env:Normalized/laundered field name: 'channel_count' to 'channel_co'\n"
     ]
    },
    {
     "name": "stdout",
     "output_type": "stream",
     "text": [
      "Sinuosity: 1.3395403634662808\n",
      "Channel Count Index (CCI): 1.12\n",
      "Channel Form Index (CFI): 1.196018181666322\n"
     ]
    },
    {
     "name": "stderr",
     "output_type": "stream",
     "text": [
      "C:\\Users\\huckr\\AppData\\Local\\Temp\\ipykernel_21016\\578621774.py:838: UserWarning: Column names longer than 10 characters will be truncated when saved to ESRI Shapefile.\n",
      "  channel_belt_cross_sections.to_file(os.path.join(output_folder, 'channel_belt_cross_sections.shp'))\n",
      "WARNING:fiona._env:Normalized/laundered field name: 'channel_count' to 'channel_co'\n"
     ]
    },
    {
     "name": "stdout",
     "output_type": "stream",
     "text": [
      "Sinuosity: 1.2616178954707327\n",
      "Channel Count Index (CCI): 1.38\n",
      "Channel Form Index (CFI): 0.9142158662831397\n"
     ]
    },
    {
     "name": "stderr",
     "output_type": "stream",
     "text": [
      "C:\\Users\\huckr\\AppData\\Local\\Temp\\ipykernel_21016\\578621774.py:838: UserWarning: Column names longer than 10 characters will be truncated when saved to ESRI Shapefile.\n",
      "  channel_belt_cross_sections.to_file(os.path.join(output_folder, 'channel_belt_cross_sections.shp'))\n",
      "WARNING:fiona._env:Normalized/laundered field name: 'channel_count' to 'channel_co'\n"
     ]
    },
    {
     "name": "stdout",
     "output_type": "stream",
     "text": [
      "Sinuosity: 1.2702459329375577\n",
      "Channel Count Index (CCI): 1.06\n",
      "Channel Form Index (CFI): 1.198345219752413\n",
      "Sinuosity: 1.3579307420633244\n",
      "Channel Count Index (CCI): 1.16\n",
      "Channel Form Index (CFI): 1.17062995005459\n"
     ]
    },
    {
     "name": "stderr",
     "output_type": "stream",
     "text": [
      "C:\\Users\\huckr\\AppData\\Local\\Temp\\ipykernel_21016\\578621774.py:838: UserWarning: Column names longer than 10 characters will be truncated when saved to ESRI Shapefile.\n",
      "  channel_belt_cross_sections.to_file(os.path.join(output_folder, 'channel_belt_cross_sections.shp'))\n",
      "WARNING:fiona._env:Normalized/laundered field name: 'channel_count' to 'channel_co'\n"
     ]
    },
    {
     "name": "stdout",
     "output_type": "stream",
     "text": [
      "Sinuosity: 1.2725915844998128\n",
      "Channel Count Index (CCI): 1.44\n",
      "Channel Form Index (CFI): 0.8837441559026478\n"
     ]
    },
    {
     "name": "stderr",
     "output_type": "stream",
     "text": [
      "C:\\Users\\huckr\\AppData\\Local\\Temp\\ipykernel_21016\\578621774.py:838: UserWarning: Column names longer than 10 characters will be truncated when saved to ESRI Shapefile.\n",
      "  channel_belt_cross_sections.to_file(os.path.join(output_folder, 'channel_belt_cross_sections.shp'))\n",
      "WARNING:fiona._env:Normalized/laundered field name: 'channel_count' to 'channel_co'\n",
      "C:\\Users\\huckr\\AppData\\Local\\Temp\\ipykernel_21016\\578621774.py:838: UserWarning: Column names longer than 10 characters will be truncated when saved to ESRI Shapefile.\n",
      "  channel_belt_cross_sections.to_file(os.path.join(output_folder, 'channel_belt_cross_sections.shp'))\n",
      "WARNING:fiona._env:Normalized/laundered field name: 'channel_count' to 'channel_co'\n"
     ]
    },
    {
     "name": "stdout",
     "output_type": "stream",
     "text": [
      "Sinuosity: 1.3119271092357996\n",
      "Channel Count Index (CCI): 1.28\n",
      "Channel Form Index (CFI): 1.0249430540904685\n"
     ]
    },
    {
     "name": "stderr",
     "output_type": "stream",
     "text": [
      "C:\\Users\\huckr\\AppData\\Local\\Temp\\ipykernel_21016\\578621774.py:838: UserWarning: Column names longer than 10 characters will be truncated when saved to ESRI Shapefile.\n",
      "  channel_belt_cross_sections.to_file(os.path.join(output_folder, 'channel_belt_cross_sections.shp'))\n",
      "WARNING:fiona._env:Normalized/laundered field name: 'channel_count' to 'channel_co'\n"
     ]
    },
    {
     "name": "stdout",
     "output_type": "stream",
     "text": [
      "Sinuosity: 1.2979329455677662\n",
      "Channel Count Index (CCI): 1.42\n",
      "Channel Form Index (CFI): 0.914037285611103\n"
     ]
    },
    {
     "name": "stderr",
     "output_type": "stream",
     "text": [
      "C:\\Users\\huckr\\AppData\\Local\\Temp\\ipykernel_21016\\578621774.py:838: UserWarning: Column names longer than 10 characters will be truncated when saved to ESRI Shapefile.\n",
      "  channel_belt_cross_sections.to_file(os.path.join(output_folder, 'channel_belt_cross_sections.shp'))\n",
      "WARNING:fiona._env:Normalized/laundered field name: 'channel_count' to 'channel_co'\n"
     ]
    },
    {
     "name": "stdout",
     "output_type": "stream",
     "text": [
      "Sinuosity: 1.3717122930915089\n",
      "Channel Count Index (CCI): 1.1\n",
      "Channel Form Index (CFI): 1.2470111755377353\n",
      "Sinuosity: 1.3167993901963326\n",
      "Channel Count Index (CCI): 1.24\n",
      "Channel Form Index (CFI): 1.0619349920938166\n"
     ]
    },
    {
     "name": "stderr",
     "output_type": "stream",
     "text": [
      "C:\\Users\\huckr\\AppData\\Local\\Temp\\ipykernel_21016\\578621774.py:838: UserWarning: Column names longer than 10 characters will be truncated when saved to ESRI Shapefile.\n",
      "  channel_belt_cross_sections.to_file(os.path.join(output_folder, 'channel_belt_cross_sections.shp'))\n",
      "WARNING:fiona._env:Normalized/laundered field name: 'channel_count' to 'channel_co'\n",
      "C:\\Users\\huckr\\AppData\\Local\\Temp\\ipykernel_21016\\578621774.py:838: UserWarning: Column names longer than 10 characters will be truncated when saved to ESRI Shapefile.\n",
      "  channel_belt_cross_sections.to_file(os.path.join(output_folder, 'channel_belt_cross_sections.shp'))\n",
      "WARNING:fiona._env:Normalized/laundered field name: 'channel_count' to 'channel_co'\n"
     ]
    },
    {
     "name": "stdout",
     "output_type": "stream",
     "text": [
      "Sinuosity: 1.2685143930838727\n",
      "Channel Count Index (CCI): 1.28\n",
      "Channel Form Index (CFI): 0.9910268695967756\n"
     ]
    },
    {
     "name": "stderr",
     "output_type": "stream",
     "text": [
      "C:\\Users\\huckr\\AppData\\Local\\Temp\\ipykernel_21016\\578621774.py:838: UserWarning: Column names longer than 10 characters will be truncated when saved to ESRI Shapefile.\n",
      "  channel_belt_cross_sections.to_file(os.path.join(output_folder, 'channel_belt_cross_sections.shp'))\n",
      "WARNING:fiona._env:Normalized/laundered field name: 'channel_count' to 'channel_co'\n"
     ]
    },
    {
     "name": "stdout",
     "output_type": "stream",
     "text": [
      "Sinuosity: 1.2578287709642175\n",
      "Channel Count Index (CCI): 1.4\n",
      "Channel Form Index (CFI): 0.8984491221172983\n"
     ]
    },
    {
     "name": "stderr",
     "output_type": "stream",
     "text": [
      "C:\\Users\\huckr\\AppData\\Local\\Temp\\ipykernel_21016\\578621774.py:838: UserWarning: Column names longer than 10 characters will be truncated when saved to ESRI Shapefile.\n",
      "  channel_belt_cross_sections.to_file(os.path.join(output_folder, 'channel_belt_cross_sections.shp'))\n",
      "WARNING:fiona._env:Normalized/laundered field name: 'channel_count' to 'channel_co'\n"
     ]
    },
    {
     "name": "stdout",
     "output_type": "stream",
     "text": [
      "Sinuosity: 1.2690880883579791\n",
      "Channel Count Index (CCI): 1.38\n",
      "Channel Form Index (CFI): 0.9196290495347675\n"
     ]
    },
    {
     "name": "stderr",
     "output_type": "stream",
     "text": [
      "C:\\Users\\huckr\\AppData\\Local\\Temp\\ipykernel_21016\\578621774.py:838: UserWarning: Column names longer than 10 characters will be truncated when saved to ESRI Shapefile.\n",
      "  channel_belt_cross_sections.to_file(os.path.join(output_folder, 'channel_belt_cross_sections.shp'))\n",
      "WARNING:fiona._env:Normalized/laundered field name: 'channel_count' to 'channel_co'\n"
     ]
    },
    {
     "name": "stdout",
     "output_type": "stream",
     "text": [
      "Sinuosity: 1.2758867590743102\n",
      "Channel Count Index (CCI): 1.12\n",
      "Channel Form Index (CFI): 1.1391846063163482\n"
     ]
    },
    {
     "name": "stderr",
     "output_type": "stream",
     "text": [
      "C:\\Users\\huckr\\AppData\\Local\\Temp\\ipykernel_21016\\578621774.py:838: UserWarning: Column names longer than 10 characters will be truncated when saved to ESRI Shapefile.\n",
      "  channel_belt_cross_sections.to_file(os.path.join(output_folder, 'channel_belt_cross_sections.shp'))\n",
      "WARNING:fiona._env:Normalized/laundered field name: 'channel_count' to 'channel_co'\n"
     ]
    },
    {
     "name": "stdout",
     "output_type": "stream",
     "text": [
      "Sinuosity: 1.3119952898075156\n",
      "Channel Count Index (CCI): 1.34\n",
      "Channel Form Index (CFI): 0.979100962542922\n",
      "Sinuosity: 1.3546007010858954\n",
      "Channel Count Index (CCI): 1.24\n",
      "Channel Form Index (CFI): 1.092419920230561\n"
     ]
    },
    {
     "name": "stderr",
     "output_type": "stream",
     "text": [
      "C:\\Users\\huckr\\AppData\\Local\\Temp\\ipykernel_21016\\578621774.py:838: UserWarning: Column names longer than 10 characters will be truncated when saved to ESRI Shapefile.\n",
      "  channel_belt_cross_sections.to_file(os.path.join(output_folder, 'channel_belt_cross_sections.shp'))\n",
      "WARNING:fiona._env:Normalized/laundered field name: 'channel_count' to 'channel_co'\n",
      "C:\\Users\\huckr\\AppData\\Local\\Temp\\ipykernel_21016\\578621774.py:838: UserWarning: Column names longer than 10 characters will be truncated when saved to ESRI Shapefile.\n",
      "  channel_belt_cross_sections.to_file(os.path.join(output_folder, 'channel_belt_cross_sections.shp'))\n",
      "WARNING:fiona._env:Normalized/laundered field name: 'channel_count' to 'channel_co'\n"
     ]
    },
    {
     "name": "stdout",
     "output_type": "stream",
     "text": [
      "Sinuosity: 1.3657045231853293\n",
      "Channel Count Index (CCI): 1.16\n",
      "Channel Form Index (CFI): 1.1773314855045942\n",
      "Sinuosity: 1.3274127795161703\n",
      "Channel Count Index (CCI): 1.2\n",
      "Channel Form Index (CFI): 1.1061773162634754\n"
     ]
    },
    {
     "name": "stderr",
     "output_type": "stream",
     "text": [
      "C:\\Users\\huckr\\AppData\\Local\\Temp\\ipykernel_21016\\578621774.py:838: UserWarning: Column names longer than 10 characters will be truncated when saved to ESRI Shapefile.\n",
      "  channel_belt_cross_sections.to_file(os.path.join(output_folder, 'channel_belt_cross_sections.shp'))\n",
      "WARNING:fiona._env:Normalized/laundered field name: 'channel_count' to 'channel_co'\n",
      "C:\\Users\\huckr\\AppData\\Local\\Temp\\ipykernel_21016\\578621774.py:838: UserWarning: Column names longer than 10 characters will be truncated when saved to ESRI Shapefile.\n",
      "  channel_belt_cross_sections.to_file(os.path.join(output_folder, 'channel_belt_cross_sections.shp'))\n",
      "WARNING:fiona._env:Normalized/laundered field name: 'channel_count' to 'channel_co'\n"
     ]
    },
    {
     "name": "stdout",
     "output_type": "stream",
     "text": [
      "Sinuosity: 1.159593148415596\n",
      "Channel Count Index (CCI): 1.2\n",
      "Channel Form Index (CFI): 0.9663276236796633\n"
     ]
    },
    {
     "name": "stderr",
     "output_type": "stream",
     "text": [
      "C:\\Users\\huckr\\AppData\\Local\\Temp\\ipykernel_21016\\578621774.py:838: UserWarning: Column names longer than 10 characters will be truncated when saved to ESRI Shapefile.\n",
      "  channel_belt_cross_sections.to_file(os.path.join(output_folder, 'channel_belt_cross_sections.shp'))\n",
      "WARNING:fiona._env:Normalized/laundered field name: 'channel_count' to 'channel_co'\n"
     ]
    },
    {
     "name": "stdout",
     "output_type": "stream",
     "text": [
      "Sinuosity: 1.2546862986162655\n",
      "Channel Count Index (CCI): 1.24\n",
      "Channel Form Index (CFI): 1.0118437892066656\n"
     ]
    },
    {
     "name": "stderr",
     "output_type": "stream",
     "text": [
      "C:\\Users\\huckr\\AppData\\Local\\Temp\\ipykernel_21016\\578621774.py:838: UserWarning: Column names longer than 10 characters will be truncated when saved to ESRI Shapefile.\n",
      "  channel_belt_cross_sections.to_file(os.path.join(output_folder, 'channel_belt_cross_sections.shp'))\n",
      "WARNING:fiona._env:Normalized/laundered field name: 'channel_count' to 'channel_co'\n"
     ]
    },
    {
     "name": "stdout",
     "output_type": "stream",
     "text": [
      "Sinuosity: 1.2676264351874265\n",
      "Channel Count Index (CCI): 1.16\n",
      "Channel Form Index (CFI): 1.0927814096443331\n",
      "Sinuosity: 1.3091831483691567\n",
      "Channel Count Index (CCI): 1.04\n",
      "Channel Form Index (CFI): 1.2588299503549583\n"
     ]
    },
    {
     "name": "stderr",
     "output_type": "stream",
     "text": [
      "C:\\Users\\huckr\\AppData\\Local\\Temp\\ipykernel_21016\\578621774.py:838: UserWarning: Column names longer than 10 characters will be truncated when saved to ESRI Shapefile.\n",
      "  channel_belt_cross_sections.to_file(os.path.join(output_folder, 'channel_belt_cross_sections.shp'))\n",
      "WARNING:fiona._env:Normalized/laundered field name: 'channel_count' to 'channel_co'\n"
     ]
    },
    {
     "name": "stdout",
     "output_type": "stream",
     "text": [
      "Sinuosity: 1.2605697844277506\n",
      "Channel Count Index (CCI): 1.06\n",
      "Channel Form Index (CFI): 1.1892167777620288\n"
     ]
    },
    {
     "name": "stderr",
     "output_type": "stream",
     "text": [
      "C:\\Users\\huckr\\AppData\\Local\\Temp\\ipykernel_21016\\578621774.py:838: UserWarning: Column names longer than 10 characters will be truncated when saved to ESRI Shapefile.\n",
      "  channel_belt_cross_sections.to_file(os.path.join(output_folder, 'channel_belt_cross_sections.shp'))\n",
      "WARNING:fiona._env:Normalized/laundered field name: 'channel_count' to 'channel_co'\n",
      "C:\\Users\\huckr\\AppData\\Local\\Temp\\ipykernel_21016\\578621774.py:838: UserWarning: Column names longer than 10 characters will be truncated when saved to ESRI Shapefile.\n",
      "  channel_belt_cross_sections.to_file(os.path.join(output_folder, 'channel_belt_cross_sections.shp'))\n",
      "WARNING:fiona._env:Normalized/laundered field name: 'channel_count' to 'channel_co'\n"
     ]
    },
    {
     "name": "stdout",
     "output_type": "stream",
     "text": [
      "Sinuosity: 1.272959092523476\n",
      "Channel Count Index (CCI): 1.16\n",
      "Channel Form Index (CFI): 1.0973785280374793\n"
     ]
    },
    {
     "name": "stderr",
     "output_type": "stream",
     "text": [
      "C:\\Users\\huckr\\AppData\\Local\\Temp\\ipykernel_21016\\578621774.py:838: UserWarning: Column names longer than 10 characters will be truncated when saved to ESRI Shapefile.\n",
      "  channel_belt_cross_sections.to_file(os.path.join(output_folder, 'channel_belt_cross_sections.shp'))\n",
      "WARNING:fiona._env:Normalized/laundered field name: 'channel_count' to 'channel_co'\n"
     ]
    },
    {
     "name": "stdout",
     "output_type": "stream",
     "text": [
      "Sinuosity: 1.3606810624313295\n",
      "Channel Count Index (CCI): 1.16\n",
      "Channel Form Index (CFI): 1.1730009158890773\n",
      "Sinuosity: 1.3283158141473663\n",
      "Channel Count Index (CCI): 1.16\n",
      "Channel Form Index (CFI): 1.1450998397822125\n"
     ]
    },
    {
     "name": "stderr",
     "output_type": "stream",
     "text": [
      "C:\\Users\\huckr\\AppData\\Local\\Temp\\ipykernel_21016\\578621774.py:838: UserWarning: Column names longer than 10 characters will be truncated when saved to ESRI Shapefile.\n",
      "  channel_belt_cross_sections.to_file(os.path.join(output_folder, 'channel_belt_cross_sections.shp'))\n",
      "WARNING:fiona._env:Normalized/laundered field name: 'channel_count' to 'channel_co'\n",
      "C:\\Users\\huckr\\AppData\\Local\\Temp\\ipykernel_21016\\578621774.py:838: UserWarning: Column names longer than 10 characters will be truncated when saved to ESRI Shapefile.\n",
      "  channel_belt_cross_sections.to_file(os.path.join(output_folder, 'channel_belt_cross_sections.shp'))\n",
      "WARNING:fiona._env:Normalized/laundered field name: 'channel_count' to 'channel_co'\n"
     ]
    },
    {
     "name": "stdout",
     "output_type": "stream",
     "text": [
      "Sinuosity: 1.1917335001600216\n",
      "Channel Count Index (CCI): 1.16\n",
      "Channel Form Index (CFI): 1.027356465655191\n",
      "Sinuosity: 1.4339404922632226\n",
      "Channel Count Index (CCI): 1.42\n",
      "Channel Form Index (CFI): 1.0098172480726921\n"
     ]
    },
    {
     "name": "stderr",
     "output_type": "stream",
     "text": [
      "C:\\Users\\huckr\\AppData\\Local\\Temp\\ipykernel_21016\\578621774.py:838: UserWarning: Column names longer than 10 characters will be truncated when saved to ESRI Shapefile.\n",
      "  channel_belt_cross_sections.to_file(os.path.join(output_folder, 'channel_belt_cross_sections.shp'))\n",
      "WARNING:fiona._env:Normalized/laundered field name: 'channel_count' to 'channel_co'\n",
      "C:\\Users\\huckr\\AppData\\Local\\Temp\\ipykernel_21016\\578621774.py:838: UserWarning: Column names longer than 10 characters will be truncated when saved to ESRI Shapefile.\n",
      "  channel_belt_cross_sections.to_file(os.path.join(output_folder, 'channel_belt_cross_sections.shp'))\n",
      "WARNING:fiona._env:Normalized/laundered field name: 'channel_count' to 'channel_co'\n"
     ]
    },
    {
     "name": "stdout",
     "output_type": "stream",
     "text": [
      "Sinuosity: 1.2815109416052026\n",
      "Channel Count Index (CCI): 1.34\n",
      "Channel Form Index (CFI): 0.9563514489591064\n"
     ]
    },
    {
     "name": "stderr",
     "output_type": "stream",
     "text": [
      "ERROR:root:Error processing file D:\\Madagascar\\Data\\RiverMapping\\RiverMasks\\Betsiboka\\reach_2\\Processed\\Betsiboka_reach_2_1987_DSWE_level_3.tif: Cannot set a DataFrame with multiple columns to the single column category\n"
     ]
    },
    {
     "name": "stdout",
     "output_type": "stream",
     "text": [
      "Sinuosity: 1.4625345599177375\n",
      "Channel Count Index (CCI): 1.14\n",
      "Channel Form Index (CFI): 1.282925052559419\n"
     ]
    },
    {
     "name": "stderr",
     "output_type": "stream",
     "text": [
      "C:\\Users\\huckr\\AppData\\Local\\Temp\\ipykernel_21016\\578621774.py:838: UserWarning: Column names longer than 10 characters will be truncated when saved to ESRI Shapefile.\n",
      "  channel_belt_cross_sections.to_file(os.path.join(output_folder, 'channel_belt_cross_sections.shp'))\n",
      "WARNING:fiona._env:Normalized/laundered field name: 'channel_count' to 'channel_co'\n",
      "C:\\Users\\huckr\\AppData\\Local\\Temp\\ipykernel_21016\\578621774.py:838: UserWarning: Column names longer than 10 characters will be truncated when saved to ESRI Shapefile.\n",
      "  channel_belt_cross_sections.to_file(os.path.join(output_folder, 'channel_belt_cross_sections.shp'))\n",
      "WARNING:fiona._env:Normalized/laundered field name: 'channel_count' to 'channel_co'\n"
     ]
    },
    {
     "name": "stdout",
     "output_type": "stream",
     "text": [
      "Sinuosity: 1.3316197646757832\n",
      "Channel Count Index (CCI): 1.16\n",
      "Channel Form Index (CFI): 1.147948072996365\n"
     ]
    },
    {
     "name": "stderr",
     "output_type": "stream",
     "text": [
      "C:\\Users\\huckr\\AppData\\Local\\Temp\\ipykernel_21016\\578621774.py:838: UserWarning: Column names longer than 10 characters will be truncated when saved to ESRI Shapefile.\n",
      "  channel_belt_cross_sections.to_file(os.path.join(output_folder, 'channel_belt_cross_sections.shp'))\n",
      "WARNING:fiona._env:Normalized/laundered field name: 'channel_count' to 'channel_co'\n"
     ]
    },
    {
     "name": "stdout",
     "output_type": "stream",
     "text": [
      "Sinuosity: 1.4553915190684232\n",
      "Channel Count Index (CCI): 1.24\n",
      "Channel Form Index (CFI): 1.1737028379584058\n"
     ]
    },
    {
     "name": "stderr",
     "output_type": "stream",
     "text": [
      "C:\\Users\\huckr\\AppData\\Local\\Temp\\ipykernel_21016\\578621774.py:838: UserWarning: Column names longer than 10 characters will be truncated when saved to ESRI Shapefile.\n",
      "  channel_belt_cross_sections.to_file(os.path.join(output_folder, 'channel_belt_cross_sections.shp'))\n",
      "WARNING:fiona._env:Normalized/laundered field name: 'channel_count' to 'channel_co'\n"
     ]
    },
    {
     "name": "stdout",
     "output_type": "stream",
     "text": [
      "Sinuosity: 1.2097290195763923\n",
      "Channel Count Index (CCI): 1.04\n",
      "Channel Form Index (CFI): 1.1632009803619157\n"
     ]
    },
    {
     "name": "stderr",
     "output_type": "stream",
     "text": [
      "C:\\Users\\huckr\\AppData\\Local\\Temp\\ipykernel_21016\\578621774.py:838: UserWarning: Column names longer than 10 characters will be truncated when saved to ESRI Shapefile.\n",
      "  channel_belt_cross_sections.to_file(os.path.join(output_folder, 'channel_belt_cross_sections.shp'))\n",
      "WARNING:fiona._env:Normalized/laundered field name: 'channel_count' to 'channel_co'\n"
     ]
    },
    {
     "name": "stdout",
     "output_type": "stream",
     "text": [
      "Sinuosity: 1.2678770126433885\n",
      "Channel Count Index (CCI): 1.08\n",
      "Channel Form Index (CFI): 1.1739601968920264\n"
     ]
    },
    {
     "name": "stderr",
     "output_type": "stream",
     "text": [
      "C:\\Users\\huckr\\AppData\\Local\\Temp\\ipykernel_21016\\578621774.py:838: UserWarning: Column names longer than 10 characters will be truncated when saved to ESRI Shapefile.\n",
      "  channel_belt_cross_sections.to_file(os.path.join(output_folder, 'channel_belt_cross_sections.shp'))\n",
      "WARNING:fiona._env:Normalized/laundered field name: 'channel_count' to 'channel_co'\n"
     ]
    },
    {
     "name": "stdout",
     "output_type": "stream",
     "text": [
      "Sinuosity: 1.4169308547510802\n",
      "Channel Count Index (CCI): 1.24\n",
      "Channel Form Index (CFI): 1.142686173186355\n",
      "Sinuosity: 1.3390728024011558\n",
      "Channel Count Index (CCI): 1.22\n",
      "Channel Form Index (CFI): 1.0976006577058655\n"
     ]
    },
    {
     "name": "stderr",
     "output_type": "stream",
     "text": [
      "C:\\Users\\huckr\\AppData\\Local\\Temp\\ipykernel_21016\\578621774.py:838: UserWarning: Column names longer than 10 characters will be truncated when saved to ESRI Shapefile.\n",
      "  channel_belt_cross_sections.to_file(os.path.join(output_folder, 'channel_belt_cross_sections.shp'))\n",
      "WARNING:fiona._env:Normalized/laundered field name: 'channel_count' to 'channel_co'\n",
      "C:\\Users\\huckr\\AppData\\Local\\Temp\\ipykernel_21016\\578621774.py:838: UserWarning: Column names longer than 10 characters will be truncated when saved to ESRI Shapefile.\n",
      "  channel_belt_cross_sections.to_file(os.path.join(output_folder, 'channel_belt_cross_sections.shp'))\n",
      "WARNING:fiona._env:Normalized/laundered field name: 'channel_count' to 'channel_co'\n"
     ]
    },
    {
     "name": "stdout",
     "output_type": "stream",
     "text": [
      "Sinuosity: 1.4708070565967746\n",
      "Channel Count Index (CCI): 1.18\n",
      "Channel Form Index (CFI): 1.24644665813286\n",
      "Sinuosity: 1.4453215567025977\n",
      "Channel Count Index (CCI): 1.22\n",
      "Channel Form Index (CFI): 1.1846898005758997\n"
     ]
    },
    {
     "name": "stderr",
     "output_type": "stream",
     "text": [
      "C:\\Users\\huckr\\AppData\\Local\\Temp\\ipykernel_21016\\578621774.py:838: UserWarning: Column names longer than 10 characters will be truncated when saved to ESRI Shapefile.\n",
      "  channel_belt_cross_sections.to_file(os.path.join(output_folder, 'channel_belt_cross_sections.shp'))\n",
      "WARNING:fiona._env:Normalized/laundered field name: 'channel_count' to 'channel_co'\n"
     ]
    },
    {
     "name": "stdout",
     "output_type": "stream",
     "text": [
      "Sinuosity: 1.4354279294802303\n",
      "Channel Count Index (CCI): 1.14\n",
      "Channel Form Index (CFI): 1.2591473065616057\n"
     ]
    },
    {
     "name": "stderr",
     "output_type": "stream",
     "text": [
      "C:\\Users\\huckr\\AppData\\Local\\Temp\\ipykernel_21016\\578621774.py:838: UserWarning: Column names longer than 10 characters will be truncated when saved to ESRI Shapefile.\n",
      "  channel_belt_cross_sections.to_file(os.path.join(output_folder, 'channel_belt_cross_sections.shp'))\n",
      "WARNING:fiona._env:Normalized/laundered field name: 'channel_count' to 'channel_co'\n"
     ]
    },
    {
     "name": "stdout",
     "output_type": "stream",
     "text": [
      "Sinuosity: 1.2973446068348276\n",
      "Channel Count Index (CCI): 1.12\n",
      "Channel Form Index (CFI): 1.1583433989596674\n"
     ]
    },
    {
     "name": "stderr",
     "output_type": "stream",
     "text": [
      "C:\\Users\\huckr\\AppData\\Local\\Temp\\ipykernel_21016\\578621774.py:838: UserWarning: Column names longer than 10 characters will be truncated when saved to ESRI Shapefile.\n",
      "  channel_belt_cross_sections.to_file(os.path.join(output_folder, 'channel_belt_cross_sections.shp'))\n",
      "WARNING:fiona._env:Normalized/laundered field name: 'channel_count' to 'channel_co'\n",
      "C:\\Users\\huckr\\AppData\\Local\\Temp\\ipykernel_21016\\578621774.py:838: UserWarning: Column names longer than 10 characters will be truncated when saved to ESRI Shapefile.\n",
      "  channel_belt_cross_sections.to_file(os.path.join(output_folder, 'channel_belt_cross_sections.shp'))\n",
      "WARNING:fiona._env:Normalized/laundered field name: 'channel_count' to 'channel_co'\n"
     ]
    },
    {
     "name": "stdout",
     "output_type": "stream",
     "text": [
      "Sinuosity: 1.3327455789489653\n",
      "Channel Count Index (CCI): 1.1\n",
      "Channel Form Index (CFI): 1.2115868899536046\n",
      "Sinuosity: 1.2153629460430408\n",
      "Channel Count Index (CCI): 1.06\n",
      "Channel Form Index (CFI): 1.1465688170217365\n"
     ]
    },
    {
     "name": "stderr",
     "output_type": "stream",
     "text": [
      "C:\\Users\\huckr\\AppData\\Local\\Temp\\ipykernel_21016\\578621774.py:838: UserWarning: Column names longer than 10 characters will be truncated when saved to ESRI Shapefile.\n",
      "  channel_belt_cross_sections.to_file(os.path.join(output_folder, 'channel_belt_cross_sections.shp'))\n",
      "WARNING:fiona._env:Normalized/laundered field name: 'channel_count' to 'channel_co'\n",
      "C:\\Users\\huckr\\AppData\\Local\\Temp\\ipykernel_21016\\578621774.py:838: UserWarning: Column names longer than 10 characters will be truncated when saved to ESRI Shapefile.\n",
      "  channel_belt_cross_sections.to_file(os.path.join(output_folder, 'channel_belt_cross_sections.shp'))\n",
      "WARNING:fiona._env:Normalized/laundered field name: 'channel_count' to 'channel_co'\n"
     ]
    },
    {
     "name": "stdout",
     "output_type": "stream",
     "text": [
      "Sinuosity: 1.4665402808704424\n",
      "Channel Count Index (CCI): 1.18\n",
      "Channel Form Index (CFI): 1.242830746500375\n"
     ]
    },
    {
     "name": "stderr",
     "output_type": "stream",
     "text": [
      "C:\\Users\\huckr\\AppData\\Local\\Temp\\ipykernel_21016\\578621774.py:838: UserWarning: Column names longer than 10 characters will be truncated when saved to ESRI Shapefile.\n",
      "  channel_belt_cross_sections.to_file(os.path.join(output_folder, 'channel_belt_cross_sections.shp'))\n",
      "WARNING:fiona._env:Normalized/laundered field name: 'channel_count' to 'channel_co'\n"
     ]
    },
    {
     "name": "stdout",
     "output_type": "stream",
     "text": [
      "Sinuosity: 1.4410414255194106\n",
      "Channel Count Index (CCI): 1.34\n",
      "Channel Form Index (CFI): 1.0754040488950825\n",
      "Sinuosity: 1.4345281555574045\n",
      "Channel Count Index (CCI): 1.14\n",
      "Channel Form Index (CFI): 1.2583580311907059\n"
     ]
    },
    {
     "name": "stderr",
     "output_type": "stream",
     "text": [
      "C:\\Users\\huckr\\AppData\\Local\\Temp\\ipykernel_21016\\578621774.py:838: UserWarning: Column names longer than 10 characters will be truncated when saved to ESRI Shapefile.\n",
      "  channel_belt_cross_sections.to_file(os.path.join(output_folder, 'channel_belt_cross_sections.shp'))\n",
      "WARNING:fiona._env:Normalized/laundered field name: 'channel_count' to 'channel_co'\n",
      "C:\\Users\\huckr\\AppData\\Local\\Temp\\ipykernel_21016\\578621774.py:838: UserWarning: Column names longer than 10 characters will be truncated when saved to ESRI Shapefile.\n",
      "  channel_belt_cross_sections.to_file(os.path.join(output_folder, 'channel_belt_cross_sections.shp'))\n",
      "WARNING:fiona._env:Normalized/laundered field name: 'channel_count' to 'channel_co'\n"
     ]
    },
    {
     "name": "stdout",
     "output_type": "stream",
     "text": [
      "Sinuosity: 1.407905408966088\n",
      "Channel Count Index (CCI): 1.32\n",
      "Channel Form Index (CFI): 1.066595006792491\n",
      "Sinuosity: 1.276531033616092\n",
      "Channel Count Index (CCI): 1.12\n",
      "Channel Form Index (CFI): 1.1397598514429392\n"
     ]
    },
    {
     "name": "stderr",
     "output_type": "stream",
     "text": [
      "C:\\Users\\huckr\\AppData\\Local\\Temp\\ipykernel_21016\\578621774.py:838: UserWarning: Column names longer than 10 characters will be truncated when saved to ESRI Shapefile.\n",
      "  channel_belt_cross_sections.to_file(os.path.join(output_folder, 'channel_belt_cross_sections.shp'))\n",
      "WARNING:fiona._env:Normalized/laundered field name: 'channel_count' to 'channel_co'\n",
      "C:\\Users\\huckr\\AppData\\Local\\Temp\\ipykernel_21016\\578621774.py:838: UserWarning: Column names longer than 10 characters will be truncated when saved to ESRI Shapefile.\n",
      "  channel_belt_cross_sections.to_file(os.path.join(output_folder, 'channel_belt_cross_sections.shp'))\n",
      "WARNING:fiona._env:Normalized/laundered field name: 'channel_count' to 'channel_co'\n"
     ]
    },
    {
     "name": "stdout",
     "output_type": "stream",
     "text": [
      "Sinuosity: 1.4232291606249787\n",
      "Channel Count Index (CCI): 1.28\n",
      "Channel Form Index (CFI): 1.1118977817382647\n",
      "Sinuosity: 1.4192668035448532\n",
      "Channel Count Index (CCI): 1.28\n",
      "Channel Form Index (CFI): 1.1088021902694165\n"
     ]
    },
    {
     "name": "stderr",
     "output_type": "stream",
     "text": [
      "C:\\Users\\huckr\\AppData\\Local\\Temp\\ipykernel_21016\\578621774.py:838: UserWarning: Column names longer than 10 characters will be truncated when saved to ESRI Shapefile.\n",
      "  channel_belt_cross_sections.to_file(os.path.join(output_folder, 'channel_belt_cross_sections.shp'))\n",
      "WARNING:fiona._env:Normalized/laundered field name: 'channel_count' to 'channel_co'\n"
     ]
    },
    {
     "name": "stdout",
     "output_type": "stream",
     "text": [
      "Sinuosity: 1.4185245402957922\n",
      "Channel Count Index (CCI): 1.42\n",
      "Channel Form Index (CFI): 0.9989609438702762\n"
     ]
    },
    {
     "name": "stderr",
     "output_type": "stream",
     "text": [
      "C:\\Users\\huckr\\AppData\\Local\\Temp\\ipykernel_21016\\578621774.py:838: UserWarning: Column names longer than 10 characters will be truncated when saved to ESRI Shapefile.\n",
      "  channel_belt_cross_sections.to_file(os.path.join(output_folder, 'channel_belt_cross_sections.shp'))\n",
      "WARNING:fiona._env:Normalized/laundered field name: 'channel_count' to 'channel_co'\n",
      "C:\\Users\\huckr\\AppData\\Local\\Temp\\ipykernel_21016\\578621774.py:838: UserWarning: Column names longer than 10 characters will be truncated when saved to ESRI Shapefile.\n",
      "  channel_belt_cross_sections.to_file(os.path.join(output_folder, 'channel_belt_cross_sections.shp'))\n",
      "WARNING:fiona._env:Normalized/laundered field name: 'channel_count' to 'channel_co'\n"
     ]
    },
    {
     "name": "stdout",
     "output_type": "stream",
     "text": [
      "Sinuosity: 1.4125160073384124\n",
      "Channel Count Index (CCI): 1.3\n",
      "Channel Form Index (CFI): 1.0865507748757017\n"
     ]
    },
    {
     "name": "stderr",
     "output_type": "stream",
     "text": [
      "C:\\Users\\huckr\\AppData\\Local\\Temp\\ipykernel_21016\\578621774.py:838: UserWarning: Column names longer than 10 characters will be truncated when saved to ESRI Shapefile.\n",
      "  channel_belt_cross_sections.to_file(os.path.join(output_folder, 'channel_belt_cross_sections.shp'))\n",
      "WARNING:fiona._env:Normalized/laundered field name: 'channel_count' to 'channel_co'\n"
     ]
    },
    {
     "name": "stdout",
     "output_type": "stream",
     "text": [
      "Sinuosity: 1.1864403433694601\n",
      "Channel Count Index (CCI): 1.16\n",
      "Channel Form Index (CFI): 1.0227933994564313\n",
      "Sinuosity: 1.3074795601209013\n",
      "Channel Count Index (CCI): 1.24\n",
      "Channel Form Index (CFI): 1.0544190000975011\n"
     ]
    },
    {
     "name": "stderr",
     "output_type": "stream",
     "text": [
      "C:\\Users\\huckr\\AppData\\Local\\Temp\\ipykernel_21016\\578621774.py:838: UserWarning: Column names longer than 10 characters will be truncated when saved to ESRI Shapefile.\n",
      "  channel_belt_cross_sections.to_file(os.path.join(output_folder, 'channel_belt_cross_sections.shp'))\n",
      "WARNING:fiona._env:Normalized/laundered field name: 'channel_count' to 'channel_co'\n",
      "C:\\Users\\huckr\\AppData\\Local\\Temp\\ipykernel_21016\\578621774.py:838: UserWarning: Column names longer than 10 characters will be truncated when saved to ESRI Shapefile.\n",
      "  channel_belt_cross_sections.to_file(os.path.join(output_folder, 'channel_belt_cross_sections.shp'))\n",
      "WARNING:fiona._env:Normalized/laundered field name: 'channel_count' to 'channel_co'\n"
     ]
    },
    {
     "name": "stdout",
     "output_type": "stream",
     "text": [
      "Sinuosity: 1.3008781588932634\n",
      "Channel Count Index (CCI): 1.18\n",
      "Channel Form Index (CFI): 1.1024391177061554\n"
     ]
    },
    {
     "name": "stderr",
     "output_type": "stream",
     "text": [
      "C:\\Users\\huckr\\AppData\\Local\\Temp\\ipykernel_21016\\578621774.py:838: UserWarning: Column names longer than 10 characters will be truncated when saved to ESRI Shapefile.\n",
      "  channel_belt_cross_sections.to_file(os.path.join(output_folder, 'channel_belt_cross_sections.shp'))\n",
      "WARNING:fiona._env:Normalized/laundered field name: 'channel_count' to 'channel_co'\n"
     ]
    },
    {
     "name": "stdout",
     "output_type": "stream",
     "text": [
      "Sinuosity: 1.4421108987677158\n",
      "Channel Count Index (CCI): 1.24\n",
      "Channel Form Index (CFI): 1.162992660296545\n",
      "Sinuosity: 1.45471617105845\n",
      "Channel Count Index (CCI): 1.14\n",
      "Channel Form Index (CFI): 1.2760668167179388\n"
     ]
    },
    {
     "name": "stderr",
     "output_type": "stream",
     "text": [
      "C:\\Users\\huckr\\AppData\\Local\\Temp\\ipykernel_21016\\578621774.py:838: UserWarning: Column names longer than 10 characters will be truncated when saved to ESRI Shapefile.\n",
      "  channel_belt_cross_sections.to_file(os.path.join(output_folder, 'channel_belt_cross_sections.shp'))\n",
      "WARNING:fiona._env:Normalized/laundered field name: 'channel_count' to 'channel_co'\n",
      "C:\\Users\\huckr\\AppData\\Local\\Temp\\ipykernel_21016\\578621774.py:838: UserWarning: Column names longer than 10 characters will be truncated when saved to ESRI Shapefile.\n",
      "  channel_belt_cross_sections.to_file(os.path.join(output_folder, 'channel_belt_cross_sections.shp'))\n",
      "WARNING:fiona._env:Normalized/laundered field name: 'channel_count' to 'channel_co'\n"
     ]
    },
    {
     "name": "stdout",
     "output_type": "stream",
     "text": [
      "Sinuosity: 1.2132327601671629\n",
      "Channel Count Index (CCI): 1.06\n",
      "Channel Form Index (CFI): 1.1445592077048705\n",
      "Sinuosity: 1.3806883721634502\n",
      "Channel Count Index (CCI): 1.2\n",
      "Channel Form Index (CFI): 1.150573643469542\n"
     ]
    },
    {
     "name": "stderr",
     "output_type": "stream",
     "text": [
      "C:\\Users\\huckr\\AppData\\Local\\Temp\\ipykernel_21016\\578621774.py:838: UserWarning: Column names longer than 10 characters will be truncated when saved to ESRI Shapefile.\n",
      "  channel_belt_cross_sections.to_file(os.path.join(output_folder, 'channel_belt_cross_sections.shp'))\n",
      "WARNING:fiona._env:Normalized/laundered field name: 'channel_count' to 'channel_co'\n",
      "C:\\Users\\huckr\\AppData\\Local\\Temp\\ipykernel_21016\\578621774.py:838: UserWarning: Column names longer than 10 characters will be truncated when saved to ESRI Shapefile.\n",
      "  channel_belt_cross_sections.to_file(os.path.join(output_folder, 'channel_belt_cross_sections.shp'))\n",
      "WARNING:fiona._env:Normalized/laundered field name: 'channel_count' to 'channel_co'\n"
     ]
    },
    {
     "name": "stdout",
     "output_type": "stream",
     "text": [
      "Sinuosity: 1.4230979538927047\n",
      "Channel Count Index (CCI): 1.22\n",
      "Channel Form Index (CFI): 1.1664737326989383\n"
     ]
    },
    {
     "name": "stderr",
     "output_type": "stream",
     "text": [
      "C:\\Users\\huckr\\AppData\\Local\\Temp\\ipykernel_21016\\578621774.py:838: UserWarning: Column names longer than 10 characters will be truncated when saved to ESRI Shapefile.\n",
      "  channel_belt_cross_sections.to_file(os.path.join(output_folder, 'channel_belt_cross_sections.shp'))\n",
      "WARNING:fiona._env:Normalized/laundered field name: 'channel_count' to 'channel_co'\n"
     ]
    },
    {
     "name": "stdout",
     "output_type": "stream",
     "text": [
      "Sinuosity: 1.4407163777523941\n",
      "Channel Count Index (CCI): 1.16\n",
      "Channel Form Index (CFI): 1.2419968773727537\n"
     ]
    },
    {
     "name": "stderr",
     "output_type": "stream",
     "text": [
      "C:\\Users\\huckr\\AppData\\Local\\Temp\\ipykernel_21016\\578621774.py:838: UserWarning: Column names longer than 10 characters will be truncated when saved to ESRI Shapefile.\n",
      "  channel_belt_cross_sections.to_file(os.path.join(output_folder, 'channel_belt_cross_sections.shp'))\n",
      "WARNING:fiona._env:Normalized/laundered field name: 'channel_count' to 'channel_co'\n"
     ]
    },
    {
     "name": "stdout",
     "output_type": "stream",
     "text": [
      "Sinuosity: 1.2812757620821904\n",
      "Channel Count Index (CCI): 1.16\n",
      "Channel Form Index (CFI): 1.104548070760509\n",
      "Sinuosity: 1.3284769834683186\n",
      "Channel Count Index (CCI): 1.18\n",
      "Channel Form Index (CFI): 1.1258279520917955\n"
     ]
    },
    {
     "name": "stderr",
     "output_type": "stream",
     "text": [
      "C:\\Users\\huckr\\AppData\\Local\\Temp\\ipykernel_21016\\578621774.py:838: UserWarning: Column names longer than 10 characters will be truncated when saved to ESRI Shapefile.\n",
      "  channel_belt_cross_sections.to_file(os.path.join(output_folder, 'channel_belt_cross_sections.shp'))\n",
      "WARNING:fiona._env:Normalized/laundered field name: 'channel_count' to 'channel_co'\n"
     ]
    },
    {
     "name": "stdout",
     "output_type": "stream",
     "text": [
      "Sinuosity: 1.278293341555014\n",
      "Channel Count Index (CCI): 1.18\n",
      "Channel Form Index (CFI): 1.0832994419957747\n"
     ]
    },
    {
     "name": "stderr",
     "output_type": "stream",
     "text": [
      "C:\\Users\\huckr\\AppData\\Local\\Temp\\ipykernel_21016\\578621774.py:838: UserWarning: Column names longer than 10 characters will be truncated when saved to ESRI Shapefile.\n",
      "  channel_belt_cross_sections.to_file(os.path.join(output_folder, 'channel_belt_cross_sections.shp'))\n",
      "WARNING:fiona._env:Normalized/laundered field name: 'channel_count' to 'channel_co'\n",
      "C:\\Users\\huckr\\AppData\\Local\\Temp\\ipykernel_21016\\578621774.py:838: UserWarning: Column names longer than 10 characters will be truncated when saved to ESRI Shapefile.\n",
      "  channel_belt_cross_sections.to_file(os.path.join(output_folder, 'channel_belt_cross_sections.shp'))\n",
      "WARNING:fiona._env:Normalized/laundered field name: 'channel_count' to 'channel_co'\n"
     ]
    },
    {
     "name": "stdout",
     "output_type": "stream",
     "text": [
      "Sinuosity: 1.2633799607582819\n",
      "Channel Count Index (CCI): 1.08\n",
      "Channel Form Index (CFI): 1.169796259961372\n"
     ]
    },
    {
     "name": "stderr",
     "output_type": "stream",
     "text": [
      "C:\\Users\\huckr\\AppData\\Local\\Temp\\ipykernel_21016\\578621774.py:838: UserWarning: Column names longer than 10 characters will be truncated when saved to ESRI Shapefile.\n",
      "  channel_belt_cross_sections.to_file(os.path.join(output_folder, 'channel_belt_cross_sections.shp'))\n",
      "WARNING:fiona._env:Normalized/laundered field name: 'channel_count' to 'channel_co'\n"
     ]
    },
    {
     "name": "stdout",
     "output_type": "stream",
     "text": [
      "Sinuosity: 1.1815281437442229\n",
      "Channel Count Index (CCI): 1.06\n",
      "Channel Form Index (CFI): 1.114649192211531\n",
      "Sinuosity: 1.4854899453432615\n",
      "Channel Count Index (CCI): 1.4\n",
      "Channel Form Index (CFI): 1.0610642466737583\n"
     ]
    },
    {
     "name": "stderr",
     "output_type": "stream",
     "text": [
      "C:\\Users\\huckr\\AppData\\Local\\Temp\\ipykernel_21016\\578621774.py:838: UserWarning: Column names longer than 10 characters will be truncated when saved to ESRI Shapefile.\n",
      "  channel_belt_cross_sections.to_file(os.path.join(output_folder, 'channel_belt_cross_sections.shp'))\n",
      "WARNING:fiona._env:Normalized/laundered field name: 'channel_count' to 'channel_co'\n",
      "C:\\Users\\huckr\\AppData\\Local\\Temp\\ipykernel_21016\\578621774.py:838: UserWarning: Column names longer than 10 characters will be truncated when saved to ESRI Shapefile.\n",
      "  channel_belt_cross_sections.to_file(os.path.join(output_folder, 'channel_belt_cross_sections.shp'))\n",
      "WARNING:fiona._env:Normalized/laundered field name: 'channel_count' to 'channel_co'\n"
     ]
    },
    {
     "name": "stdout",
     "output_type": "stream",
     "text": [
      "Sinuosity: 1.1437470256322766\n",
      "Channel Count Index (CCI): 1.1\n",
      "Channel Form Index (CFI): 1.0397700233020695\n"
     ]
    },
    {
     "name": "stderr",
     "output_type": "stream",
     "text": [
      "ERROR:root:Error processing file D:\\Madagascar\\Data\\RiverMapping\\RiverMasks\\Betsiboka\\reach_1\\Processed\\Betsiboka_reach_1_1987_DSWE_level_3.tif: Cannot set a DataFrame with multiple columns to the single column category\n",
      "C:\\Users\\huckr\\AppData\\Local\\Temp\\ipykernel_21016\\578621774.py:838: UserWarning: Column names longer than 10 characters will be truncated when saved to ESRI Shapefile.\n",
      "  channel_belt_cross_sections.to_file(os.path.join(output_folder, 'channel_belt_cross_sections.shp'))\n",
      "WARNING:fiona._env:Normalized/laundered field name: 'channel_count' to 'channel_co'\n"
     ]
    },
    {
     "name": "stdout",
     "output_type": "stream",
     "text": [
      "Sinuosity: 1.50624904347934\n",
      "Channel Count Index (CCI): 1.26\n",
      "Channel Form Index (CFI): 1.195435748793127\n"
     ]
    },
    {
     "name": "stderr",
     "output_type": "stream",
     "text": [
      "C:\\Users\\huckr\\AppData\\Local\\Temp\\ipykernel_21016\\578621774.py:838: UserWarning: Column names longer than 10 characters will be truncated when saved to ESRI Shapefile.\n",
      "  channel_belt_cross_sections.to_file(os.path.join(output_folder, 'channel_belt_cross_sections.shp'))\n",
      "WARNING:fiona._env:Normalized/laundered field name: 'channel_count' to 'channel_co'\n"
     ]
    },
    {
     "name": "stdout",
     "output_type": "stream",
     "text": [
      "Sinuosity: 1.3160339267841277\n",
      "Channel Count Index (CCI): 1.08\n",
      "Channel Form Index (CFI): 1.2185499322075255\n"
     ]
    },
    {
     "name": "stderr",
     "output_type": "stream",
     "text": [
      "C:\\Users\\huckr\\AppData\\Local\\Temp\\ipykernel_21016\\578621774.py:838: UserWarning: Column names longer than 10 characters will be truncated when saved to ESRI Shapefile.\n",
      "  channel_belt_cross_sections.to_file(os.path.join(output_folder, 'channel_belt_cross_sections.shp'))\n",
      "WARNING:fiona._env:Normalized/laundered field name: 'channel_count' to 'channel_co'\n"
     ]
    },
    {
     "name": "stdout",
     "output_type": "stream",
     "text": [
      "Sinuosity: 1.539067390208848\n",
      "Channel Count Index (CCI): 1.16\n",
      "Channel Form Index (CFI): 1.3267822329386623\n"
     ]
    },
    {
     "name": "stderr",
     "output_type": "stream",
     "text": [
      "C:\\Users\\huckr\\AppData\\Local\\Temp\\ipykernel_21016\\578621774.py:838: UserWarning: Column names longer than 10 characters will be truncated when saved to ESRI Shapefile.\n",
      "  channel_belt_cross_sections.to_file(os.path.join(output_folder, 'channel_belt_cross_sections.shp'))\n",
      "WARNING:fiona._env:Normalized/laundered field name: 'channel_count' to 'channel_co'\n"
     ]
    },
    {
     "name": "stdout",
     "output_type": "stream",
     "text": [
      "Sinuosity: 1.5779531701440028\n",
      "Channel Count Index (CCI): 1.14\n",
      "Channel Form Index (CFI): 1.3841694474947395\n"
     ]
    },
    {
     "name": "stderr",
     "output_type": "stream",
     "text": [
      "C:\\Users\\huckr\\AppData\\Local\\Temp\\ipykernel_21016\\578621774.py:838: UserWarning: Column names longer than 10 characters will be truncated when saved to ESRI Shapefile.\n",
      "  channel_belt_cross_sections.to_file(os.path.join(output_folder, 'channel_belt_cross_sections.shp'))\n",
      "WARNING:fiona._env:Normalized/laundered field name: 'channel_count' to 'channel_co'\n"
     ]
    },
    {
     "name": "stdout",
     "output_type": "stream",
     "text": [
      "Sinuosity: 1.5478323807476029\n",
      "Channel Count Index (CCI): 1.18\n",
      "Channel Form Index (CFI): 1.3117223565657652\n"
     ]
    },
    {
     "name": "stderr",
     "output_type": "stream",
     "text": [
      "C:\\Users\\huckr\\AppData\\Local\\Temp\\ipykernel_21016\\578621774.py:838: UserWarning: Column names longer than 10 characters will be truncated when saved to ESRI Shapefile.\n",
      "  channel_belt_cross_sections.to_file(os.path.join(output_folder, 'channel_belt_cross_sections.shp'))\n",
      "WARNING:fiona._env:Normalized/laundered field name: 'channel_count' to 'channel_co'\n"
     ]
    },
    {
     "name": "stdout",
     "output_type": "stream",
     "text": [
      "Sinuosity: 1.5194673556922362\n",
      "Channel Count Index (CCI): 1.1\n",
      "Channel Form Index (CFI): 1.3813339597202146\n"
     ]
    },
    {
     "name": "stderr",
     "output_type": "stream",
     "text": [
      "C:\\Users\\huckr\\AppData\\Local\\Temp\\ipykernel_21016\\578621774.py:838: UserWarning: Column names longer than 10 characters will be truncated when saved to ESRI Shapefile.\n",
      "  channel_belt_cross_sections.to_file(os.path.join(output_folder, 'channel_belt_cross_sections.shp'))\n",
      "WARNING:fiona._env:Normalized/laundered field name: 'channel_count' to 'channel_co'\n"
     ]
    },
    {
     "name": "stdout",
     "output_type": "stream",
     "text": [
      "Sinuosity: 1.556650856720294\n",
      "Channel Count Index (CCI): 1.16\n",
      "Channel Form Index (CFI): 1.3419403937243914\n",
      "Sinuosity: 1.548371824694603\n",
      "Channel Count Index (CCI): 1.1\n",
      "Channel Form Index (CFI): 1.4076107497223662\n"
     ]
    },
    {
     "name": "stderr",
     "output_type": "stream",
     "text": [
      "C:\\Users\\huckr\\AppData\\Local\\Temp\\ipykernel_21016\\578621774.py:838: UserWarning: Column names longer than 10 characters will be truncated when saved to ESRI Shapefile.\n",
      "  channel_belt_cross_sections.to_file(os.path.join(output_folder, 'channel_belt_cross_sections.shp'))\n",
      "WARNING:fiona._env:Normalized/laundered field name: 'channel_count' to 'channel_co'\n",
      "C:\\Users\\huckr\\AppData\\Local\\Temp\\ipykernel_21016\\578621774.py:838: UserWarning: Column names longer than 10 characters will be truncated when saved to ESRI Shapefile.\n",
      "  channel_belt_cross_sections.to_file(os.path.join(output_folder, 'channel_belt_cross_sections.shp'))\n",
      "WARNING:fiona._env:Normalized/laundered field name: 'channel_count' to 'channel_co'\n"
     ]
    },
    {
     "name": "stdout",
     "output_type": "stream",
     "text": [
      "Sinuosity: 1.5277569098119776\n",
      "Channel Count Index (CCI): 1.1\n",
      "Channel Form Index (CFI): 1.3888699180108885\n"
     ]
    },
    {
     "name": "stderr",
     "output_type": "stream",
     "text": [
      "C:\\Users\\huckr\\AppData\\Local\\Temp\\ipykernel_21016\\578621774.py:838: UserWarning: Column names longer than 10 characters will be truncated when saved to ESRI Shapefile.\n",
      "  channel_belt_cross_sections.to_file(os.path.join(output_folder, 'channel_belt_cross_sections.shp'))\n",
      "WARNING:fiona._env:Normalized/laundered field name: 'channel_count' to 'channel_co'\n"
     ]
    },
    {
     "name": "stdout",
     "output_type": "stream",
     "text": [
      "Sinuosity: 1.5310257341270312\n",
      "Channel Count Index (CCI): 1.08\n",
      "Channel Form Index (CFI): 1.4176164204879917\n"
     ]
    },
    {
     "name": "stderr",
     "output_type": "stream",
     "text": [
      "C:\\Users\\huckr\\AppData\\Local\\Temp\\ipykernel_21016\\578621774.py:838: UserWarning: Column names longer than 10 characters will be truncated when saved to ESRI Shapefile.\n",
      "  channel_belt_cross_sections.to_file(os.path.join(output_folder, 'channel_belt_cross_sections.shp'))\n",
      "WARNING:fiona._env:Normalized/laundered field name: 'channel_count' to 'channel_co'\n"
     ]
    },
    {
     "name": "stdout",
     "output_type": "stream",
     "text": [
      "Sinuosity: 1.360428445829179\n",
      "Channel Count Index (CCI): 1.1\n",
      "Channel Form Index (CFI): 1.236753132571981\n",
      "Sinuosity: 1.3788867381184677\n",
      "Channel Count Index (CCI): 1.1\n",
      "Channel Form Index (CFI): 1.253533398289516\n"
     ]
    },
    {
     "name": "stderr",
     "output_type": "stream",
     "text": [
      "C:\\Users\\huckr\\AppData\\Local\\Temp\\ipykernel_21016\\578621774.py:838: UserWarning: Column names longer than 10 characters will be truncated when saved to ESRI Shapefile.\n",
      "  channel_belt_cross_sections.to_file(os.path.join(output_folder, 'channel_belt_cross_sections.shp'))\n",
      "WARNING:fiona._env:Normalized/laundered field name: 'channel_count' to 'channel_co'\n"
     ]
    },
    {
     "name": "stdout",
     "output_type": "stream",
     "text": [
      "Sinuosity: 1.3665493416231882\n",
      "Channel Count Index (CCI): 1.08\n",
      "Channel Form Index (CFI): 1.2653234644659148\n"
     ]
    },
    {
     "name": "stderr",
     "output_type": "stream",
     "text": [
      "C:\\Users\\huckr\\AppData\\Local\\Temp\\ipykernel_21016\\578621774.py:838: UserWarning: Column names longer than 10 characters will be truncated when saved to ESRI Shapefile.\n",
      "  channel_belt_cross_sections.to_file(os.path.join(output_folder, 'channel_belt_cross_sections.shp'))\n",
      "WARNING:fiona._env:Normalized/laundered field name: 'channel_count' to 'channel_co'\n"
     ]
    },
    {
     "name": "stdout",
     "output_type": "stream",
     "text": [
      "Sinuosity: 1.5364582844153238\n",
      "Channel Count Index (CCI): 1.18\n",
      "Channel Form Index (CFI): 1.3020832918773932\n"
     ]
    },
    {
     "name": "stderr",
     "output_type": "stream",
     "text": [
      "C:\\Users\\huckr\\AppData\\Local\\Temp\\ipykernel_21016\\578621774.py:838: UserWarning: Column names longer than 10 characters will be truncated when saved to ESRI Shapefile.\n",
      "  channel_belt_cross_sections.to_file(os.path.join(output_folder, 'channel_belt_cross_sections.shp'))\n",
      "WARNING:fiona._env:Normalized/laundered field name: 'channel_count' to 'channel_co'\n",
      "C:\\Users\\huckr\\AppData\\Local\\Temp\\ipykernel_21016\\578621774.py:838: UserWarning: Column names longer than 10 characters will be truncated when saved to ESRI Shapefile.\n",
      "  channel_belt_cross_sections.to_file(os.path.join(output_folder, 'channel_belt_cross_sections.shp'))\n",
      "WARNING:fiona._env:Normalized/laundered field name: 'channel_count' to 'channel_co'\n"
     ]
    },
    {
     "name": "stdout",
     "output_type": "stream",
     "text": [
      "Sinuosity: 1.4436019618383726\n",
      "Channel Count Index (CCI): 1.18\n",
      "Channel Form Index (CFI): 1.2233914930833667\n"
     ]
    },
    {
     "name": "stderr",
     "output_type": "stream",
     "text": [
      "C:\\Users\\huckr\\AppData\\Local\\Temp\\ipykernel_21016\\578621774.py:838: UserWarning: Column names longer than 10 characters will be truncated when saved to ESRI Shapefile.\n",
      "  channel_belt_cross_sections.to_file(os.path.join(output_folder, 'channel_belt_cross_sections.shp'))\n",
      "WARNING:fiona._env:Normalized/laundered field name: 'channel_count' to 'channel_co'\n"
     ]
    },
    {
     "name": "stdout",
     "output_type": "stream",
     "text": [
      "Sinuosity: 1.5443744530313397\n",
      "Channel Count Index (CCI): 1.1\n",
      "Channel Form Index (CFI): 1.403976775483036\n",
      "Sinuosity: 1.553472528511664\n",
      "Channel Count Index (CCI): 1.18\n",
      "Channel Form Index (CFI): 1.316502142806495\n"
     ]
    },
    {
     "name": "stderr",
     "output_type": "stream",
     "text": [
      "C:\\Users\\huckr\\AppData\\Local\\Temp\\ipykernel_21016\\578621774.py:838: UserWarning: Column names longer than 10 characters will be truncated when saved to ESRI Shapefile.\n",
      "  channel_belt_cross_sections.to_file(os.path.join(output_folder, 'channel_belt_cross_sections.shp'))\n",
      "WARNING:fiona._env:Normalized/laundered field name: 'channel_count' to 'channel_co'\n"
     ]
    },
    {
     "name": "stdout",
     "output_type": "stream",
     "text": [
      "Sinuosity: 1.439328051552166\n",
      "Channel Count Index (CCI): 1.18\n",
      "Channel Form Index (CFI): 1.2197695352137001\n"
     ]
    },
    {
     "name": "stderr",
     "output_type": "stream",
     "text": [
      "C:\\Users\\huckr\\AppData\\Local\\Temp\\ipykernel_21016\\578621774.py:838: UserWarning: Column names longer than 10 characters will be truncated when saved to ESRI Shapefile.\n",
      "  channel_belt_cross_sections.to_file(os.path.join(output_folder, 'channel_belt_cross_sections.shp'))\n",
      "WARNING:fiona._env:Normalized/laundered field name: 'channel_count' to 'channel_co'\n",
      "C:\\Users\\huckr\\AppData\\Local\\Temp\\ipykernel_21016\\578621774.py:838: UserWarning: Column names longer than 10 characters will be truncated when saved to ESRI Shapefile.\n",
      "  channel_belt_cross_sections.to_file(os.path.join(output_folder, 'channel_belt_cross_sections.shp'))\n",
      "WARNING:fiona._env:Normalized/laundered field name: 'channel_count' to 'channel_co'\n"
     ]
    },
    {
     "name": "stdout",
     "output_type": "stream",
     "text": [
      "Sinuosity: 1.3290991174923392\n",
      "Channel Count Index (CCI): 1.26\n",
      "Channel Form Index (CFI): 1.0548405694383645\n",
      "Sinuosity: 1.5356977383138681\n",
      "Channel Count Index (CCI): 1.12\n",
      "Channel Form Index (CFI): 1.3711586949230965\n"
     ]
    },
    {
     "name": "stderr",
     "output_type": "stream",
     "text": [
      "C:\\Users\\huckr\\AppData\\Local\\Temp\\ipykernel_21016\\578621774.py:838: UserWarning: Column names longer than 10 characters will be truncated when saved to ESRI Shapefile.\n",
      "  channel_belt_cross_sections.to_file(os.path.join(output_folder, 'channel_belt_cross_sections.shp'))\n",
      "WARNING:fiona._env:Normalized/laundered field name: 'channel_count' to 'channel_co'\n"
     ]
    },
    {
     "name": "stdout",
     "output_type": "stream",
     "text": [
      "Sinuosity: 1.5255486684583945\n",
      "Channel Count Index (CCI): 1.36\n",
      "Channel Form Index (CFI): 1.1217269621017607\n"
     ]
    },
    {
     "name": "stderr",
     "output_type": "stream",
     "text": [
      "C:\\Users\\huckr\\AppData\\Local\\Temp\\ipykernel_21016\\578621774.py:838: UserWarning: Column names longer than 10 characters will be truncated when saved to ESRI Shapefile.\n",
      "  channel_belt_cross_sections.to_file(os.path.join(output_folder, 'channel_belt_cross_sections.shp'))\n",
      "WARNING:fiona._env:Normalized/laundered field name: 'channel_count' to 'channel_co'\n"
     ]
    },
    {
     "name": "stdout",
     "output_type": "stream",
     "text": [
      "Sinuosity: 1.5134301424070484\n",
      "Channel Count Index (CCI): 1.22\n",
      "Channel Form Index (CFI): 1.2405165101697118\n"
     ]
    },
    {
     "name": "stderr",
     "output_type": "stream",
     "text": [
      "C:\\Users\\huckr\\AppData\\Local\\Temp\\ipykernel_21016\\578621774.py:838: UserWarning: Column names longer than 10 characters will be truncated when saved to ESRI Shapefile.\n",
      "  channel_belt_cross_sections.to_file(os.path.join(output_folder, 'channel_belt_cross_sections.shp'))\n",
      "WARNING:fiona._env:Normalized/laundered field name: 'channel_count' to 'channel_co'\n",
      "C:\\Users\\huckr\\AppData\\Local\\Temp\\ipykernel_21016\\578621774.py:838: UserWarning: Column names longer than 10 characters will be truncated when saved to ESRI Shapefile.\n",
      "  channel_belt_cross_sections.to_file(os.path.join(output_folder, 'channel_belt_cross_sections.shp'))\n",
      "WARNING:fiona._env:Normalized/laundered field name: 'channel_count' to 'channel_co'\n"
     ]
    },
    {
     "name": "stdout",
     "output_type": "stream",
     "text": [
      "Sinuosity: 1.3466245800055106\n",
      "Channel Count Index (CCI): 1.12\n",
      "Channel Form Index (CFI): 1.20234337500492\n",
      "Sinuosity: 1.5539433010168617\n",
      "Channel Count Index (CCI): 1.16\n",
      "Channel Form Index (CFI): 1.3396062939800533\n"
     ]
    },
    {
     "name": "stderr",
     "output_type": "stream",
     "text": [
      "C:\\Users\\huckr\\AppData\\Local\\Temp\\ipykernel_21016\\578621774.py:838: UserWarning: Column names longer than 10 characters will be truncated when saved to ESRI Shapefile.\n",
      "  channel_belt_cross_sections.to_file(os.path.join(output_folder, 'channel_belt_cross_sections.shp'))\n",
      "WARNING:fiona._env:Normalized/laundered field name: 'channel_count' to 'channel_co'\n"
     ]
    },
    {
     "name": "stdout",
     "output_type": "stream",
     "text": [
      "Sinuosity: 1.560083052997594\n",
      "Channel Count Index (CCI): 1.12\n",
      "Channel Form Index (CFI): 1.3929312973192802\n"
     ]
    },
    {
     "name": "stderr",
     "output_type": "stream",
     "text": [
      "C:\\Users\\huckr\\AppData\\Local\\Temp\\ipykernel_21016\\578621774.py:838: UserWarning: Column names longer than 10 characters will be truncated when saved to ESRI Shapefile.\n",
      "  channel_belt_cross_sections.to_file(os.path.join(output_folder, 'channel_belt_cross_sections.shp'))\n",
      "WARNING:fiona._env:Normalized/laundered field name: 'channel_count' to 'channel_co'\n"
     ]
    },
    {
     "name": "stdout",
     "output_type": "stream",
     "text": [
      "Sinuosity: 1.539312334447583\n",
      "Channel Count Index (CCI): 1.16\n",
      "Channel Form Index (CFI): 1.3269933917651577\n"
     ]
    },
    {
     "name": "stderr",
     "output_type": "stream",
     "text": [
      "C:\\Users\\huckr\\AppData\\Local\\Temp\\ipykernel_21016\\578621774.py:838: UserWarning: Column names longer than 10 characters will be truncated when saved to ESRI Shapefile.\n",
      "  channel_belt_cross_sections.to_file(os.path.join(output_folder, 'channel_belt_cross_sections.shp'))\n",
      "WARNING:fiona._env:Normalized/laundered field name: 'channel_count' to 'channel_co'\n",
      "C:\\Users\\huckr\\AppData\\Local\\Temp\\ipykernel_21016\\578621774.py:838: UserWarning: Column names longer than 10 characters will be truncated when saved to ESRI Shapefile.\n",
      "  channel_belt_cross_sections.to_file(os.path.join(output_folder, 'channel_belt_cross_sections.shp'))\n",
      "WARNING:fiona._env:Normalized/laundered field name: 'channel_count' to 'channel_co'\n"
     ]
    },
    {
     "name": "stdout",
     "output_type": "stream",
     "text": [
      "Sinuosity: 1.5482384715528035\n",
      "Channel Count Index (CCI): 1.08\n",
      "Channel Form Index (CFI): 1.4335541403266698\n"
     ]
    },
    {
     "name": "stderr",
     "output_type": "stream",
     "text": [
      "C:\\Users\\huckr\\AppData\\Local\\Temp\\ipykernel_21016\\578621774.py:838: UserWarning: Column names longer than 10 characters will be truncated when saved to ESRI Shapefile.\n",
      "  channel_belt_cross_sections.to_file(os.path.join(output_folder, 'channel_belt_cross_sections.shp'))\n",
      "WARNING:fiona._env:Normalized/laundered field name: 'channel_count' to 'channel_co'\n"
     ]
    },
    {
     "name": "stdout",
     "output_type": "stream",
     "text": [
      "Sinuosity: 1.3705005848725305\n",
      "Channel Count Index (CCI): 1.06\n",
      "Channel Form Index (CFI): 1.2929250800684249\n",
      "Sinuosity: 1.5355743563688142\n",
      "Channel Count Index (CCI): 1.1\n",
      "Channel Form Index (CFI): 1.3959766876080129\n"
     ]
    },
    {
     "name": "stderr",
     "output_type": "stream",
     "text": [
      "C:\\Users\\huckr\\AppData\\Local\\Temp\\ipykernel_21016\\578621774.py:838: UserWarning: Column names longer than 10 characters will be truncated when saved to ESRI Shapefile.\n",
      "  channel_belt_cross_sections.to_file(os.path.join(output_folder, 'channel_belt_cross_sections.shp'))\n",
      "WARNING:fiona._env:Normalized/laundered field name: 'channel_count' to 'channel_co'\n"
     ]
    },
    {
     "name": "stdout",
     "output_type": "stream",
     "text": [
      "Sinuosity: 1.3172801324948522\n",
      "Channel Count Index (CCI): 1.22\n",
      "Channel Form Index (CFI): 1.0797378135203708\n"
     ]
    },
    {
     "name": "stderr",
     "output_type": "stream",
     "text": [
      "C:\\Users\\huckr\\AppData\\Local\\Temp\\ipykernel_21016\\578621774.py:838: UserWarning: Column names longer than 10 characters will be truncated when saved to ESRI Shapefile.\n",
      "  channel_belt_cross_sections.to_file(os.path.join(output_folder, 'channel_belt_cross_sections.shp'))\n",
      "WARNING:fiona._env:Normalized/laundered field name: 'channel_count' to 'channel_co'\n",
      "C:\\Users\\huckr\\AppData\\Local\\Temp\\ipykernel_21016\\578621774.py:838: UserWarning: Column names longer than 10 characters will be truncated when saved to ESRI Shapefile.\n",
      "  channel_belt_cross_sections.to_file(os.path.join(output_folder, 'channel_belt_cross_sections.shp'))\n",
      "WARNING:fiona._env:Normalized/laundered field name: 'channel_count' to 'channel_co'\n"
     ]
    },
    {
     "name": "stdout",
     "output_type": "stream",
     "text": [
      "Sinuosity: 1.5376559110594878\n",
      "Channel Count Index (CCI): 1.1\n",
      "Channel Form Index (CFI): 1.3978690100540798\n"
     ]
    },
    {
     "name": "stderr",
     "output_type": "stream",
     "text": [
      "C:\\Users\\huckr\\AppData\\Local\\Temp\\ipykernel_21016\\578621774.py:838: UserWarning: Column names longer than 10 characters will be truncated when saved to ESRI Shapefile.\n",
      "  channel_belt_cross_sections.to_file(os.path.join(output_folder, 'channel_belt_cross_sections.shp'))\n",
      "WARNING:fiona._env:Normalized/laundered field name: 'channel_count' to 'channel_co'\n"
     ]
    },
    {
     "name": "stdout",
     "output_type": "stream",
     "text": [
      "Sinuosity: 1.297057647324077\n",
      "Channel Count Index (CCI): 1.2\n",
      "Channel Form Index (CFI): 1.0808813727700641\n"
     ]
    },
    {
     "name": "stderr",
     "output_type": "stream",
     "text": [
      "C:\\Users\\huckr\\AppData\\Local\\Temp\\ipykernel_21016\\578621774.py:838: UserWarning: Column names longer than 10 characters will be truncated when saved to ESRI Shapefile.\n",
      "  channel_belt_cross_sections.to_file(os.path.join(output_folder, 'channel_belt_cross_sections.shp'))\n",
      "WARNING:fiona._env:Normalized/laundered field name: 'channel_count' to 'channel_co'\n"
     ]
    },
    {
     "name": "stdout",
     "output_type": "stream",
     "text": [
      "Sinuosity: 1.5348306861163985\n",
      "Channel Count Index (CCI): 1.1\n",
      "Channel Form Index (CFI): 1.3953006237421803\n"
     ]
    },
    {
     "name": "stderr",
     "output_type": "stream",
     "text": [
      "C:\\Users\\huckr\\AppData\\Local\\Temp\\ipykernel_21016\\578621774.py:838: UserWarning: Column names longer than 10 characters will be truncated when saved to ESRI Shapefile.\n",
      "  channel_belt_cross_sections.to_file(os.path.join(output_folder, 'channel_belt_cross_sections.shp'))\n",
      "WARNING:fiona._env:Normalized/laundered field name: 'channel_count' to 'channel_co'\n"
     ]
    },
    {
     "name": "stdout",
     "output_type": "stream",
     "text": [
      "Sinuosity: 1.544373216527426\n",
      "Channel Count Index (CCI): 1.14\n",
      "Channel Form Index (CFI): 1.3547133478310756\n"
     ]
    },
    {
     "name": "stderr",
     "output_type": "stream",
     "text": [
      "C:\\Users\\huckr\\AppData\\Local\\Temp\\ipykernel_21016\\578621774.py:838: UserWarning: Column names longer than 10 characters will be truncated when saved to ESRI Shapefile.\n",
      "  channel_belt_cross_sections.to_file(os.path.join(output_folder, 'channel_belt_cross_sections.shp'))\n",
      "WARNING:fiona._env:Normalized/laundered field name: 'channel_count' to 'channel_co'\n"
     ]
    },
    {
     "name": "stdout",
     "output_type": "stream",
     "text": [
      "Sinuosity: 1.532876217198386\n",
      "Channel Count Index (CCI): 1.08\n",
      "Channel Form Index (CFI): 1.4193298307392463\n"
     ]
    },
    {
     "name": "stderr",
     "output_type": "stream",
     "text": [
      "C:\\Users\\huckr\\AppData\\Local\\Temp\\ipykernel_21016\\578621774.py:838: UserWarning: Column names longer than 10 characters will be truncated when saved to ESRI Shapefile.\n",
      "  channel_belt_cross_sections.to_file(os.path.join(output_folder, 'channel_belt_cross_sections.shp'))\n",
      "WARNING:fiona._env:Normalized/laundered field name: 'channel_count' to 'channel_co'\n"
     ]
    },
    {
     "name": "stdout",
     "output_type": "stream",
     "text": [
      "Sinuosity: 1.2809265706400317\n",
      "Channel Count Index (CCI): 1.04\n",
      "Channel Form Index (CFI): 1.2316601640769536\n",
      "All rivers processed.\n"
     ]
    }
   ],
   "source": [
    "csv_path = r\"D:\\Madagascar\\Data\\Betsiboka_river_datasheet.csv\"\n",
    "main(csv_path)"
   ]
  },
  {
   "cell_type": "code",
   "execution_count": null,
   "id": "233aa871",
   "metadata": {},
   "outputs": [],
   "source": []
  }
 ],
 "metadata": {
  "kernelspec": {
   "display_name": "Python 3 (ipykernel)",
   "language": "python",
   "name": "python3"
  },
  "language_info": {
   "codemirror_mode": {
    "name": "ipython",
    "version": 3
   },
   "file_extension": ".py",
   "mimetype": "text/x-python",
   "name": "python",
   "nbconvert_exporter": "python",
   "pygments_lexer": "ipython3",
   "version": "3.11.5"
  }
 },
 "nbformat": 4,
 "nbformat_minor": 5
}
