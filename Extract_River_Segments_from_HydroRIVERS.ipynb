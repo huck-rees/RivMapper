{
 "cells": [
  {
   "cell_type": "markdown",
   "id": "31fd200c",
   "metadata": {},
   "source": [
    "# Extract river segements from HydroRIVERS\n",
    "\n",
    "The following code takes a continental-scale rivers shapefile from the HydroATLAS \"HydroRIVERS\" database, which is a large polyline file containing segments of all large rivers in the world. The HydroRIVERS shapefiles should already be downloaded to your working directory.\n",
    "\n",
    "The user should first open the HydroRIVERS shapefile for the desired continent in a GIS and find the desired river to extract. The user should then choose the most upstream segment they want for the extraction, and record the 'HYRIV_ID' for that segment. 'HYRIV_ID' is a unique numeric for each segment in the dataset. Using a standard \"RivMapper\" .csv input sheet, the user then enters the desired river name (river_name), the working directory, the upstream and downstream segments via the HYRIV_IDs (us_hyriv_id and ds_hyriv_id), the ending condition either as \"specific_segment\" or \"length\" (end_condition), the maximum river channel length to extract if the end condition is length (max_length_km). Then, within this notebook, the user must simply enter the path to their RivMapper input sheet, and run. Executing the code extracts all river segments downstream of and including the given 'HYRIV_ID' segment, terminating at the ocean or depositional basin. This is written as a shapefile to the desired output folder and named after the river.\n",
    "\n",
    "HydroRIVERS database: https://www.hydrosheds.org/page/hydroatlas\n",
    "\n",
    "Citation: Lehner, B., Verdin, K., Jarvis, A., 2008. New Global Hydrography Derived From Spaceborne Elevation Data. Eos, Transactions American Geophysical Union 89, 93–94. https://doi.org/10.1029/2008EO100001\n",
    "\n",
    "Author: James (Huck) Rees; PhD Student, UCSB Geography\n",
    "\n",
    "Date: January 7, 2025"
   ]
  },
  {
   "cell_type": "markdown",
   "id": "0346ff4d",
   "metadata": {},
   "source": [
    "## Import libraries"
   ]
  },
  {
   "cell_type": "code",
   "execution_count": 1,
   "id": "b498dad0",
   "metadata": {},
   "outputs": [],
   "source": [
    "import os\n",
    "import geopandas as gpd\n",
    "import pandas as pd"
   ]
  },
  {
   "cell_type": "markdown",
   "id": "e0b842ae",
   "metadata": {},
   "source": [
    "## Initialize functions"
   ]
  },
  {
   "cell_type": "code",
   "execution_count": 2,
   "id": "e365e85e",
   "metadata": {},
   "outputs": [],
   "source": [
    "def load_shapefile_from_local_folder(local_folder):\n",
    "    \"\"\"\n",
    "    Load a shapefile from a given local folder.\n",
    "\n",
    "    Parameters:\n",
    "        local_folder (str): Path to the folder containing the shapefile.\n",
    "\n",
    "    Returns:\n",
    "        gpd.GeoDataFrame: The loaded shapefile as a GeoDataFrame.\n",
    "    \"\"\"\n",
    "    # Locate the shapefile in the folder\n",
    "    for file in os.listdir(local_folder):\n",
    "        if file.endswith(\".shp\"):\n",
    "            shapefile = os.path.join(local_folder, file)\n",
    "            return gpd.read_file(shapefile)\n",
    "    \n",
    "    raise FileNotFoundError(f\"No shapefile (.shp) found in the folder: {local_folder}\")\n",
    "\n",
    "def extract_downstream_river(gdf, start_hyriv_id, method=\"specific_segment\", terminal_hyriv_id=0, threshold_length_km=None):\n",
    "    \"\"\"\n",
    "    Extract downstream river segments from a GeoDataFrame.\n",
    "\n",
    "    Parameters:\n",
    "        gdf (gpd.GeoDataFrame): GeoDataFrame with river segments.\n",
    "        start_hyriv_id (int): Starting HYRIV_ID.\n",
    "        method (str): Extraction method ('specific_segment' or 'length').\n",
    "        terminal_hyriv_id (int): Terminal HYRIV_ID (for 'specific_segment' method).\n",
    "        threshold_length_km (float): Length threshold (for 'length' method).\n",
    "\n",
    "    Returns:\n",
    "        gpd.GeoDataFrame: Extracted downstream river segments.\n",
    "    \"\"\"\n",
    "    segment_dict = gdf.set_index('HYRIV_ID').to_dict(orient='index')\n",
    "    downstream_segments = []\n",
    "    total_length_km = 0\n",
    "    visited = set()\n",
    "    current_id = start_hyriv_id\n",
    "\n",
    "    while current_id != 0 and current_id not in visited:\n",
    "        visited.add(current_id)\n",
    "        current_segment = segment_dict.get(current_id)\n",
    "\n",
    "        if current_segment:\n",
    "            downstream_segments.append(current_segment)\n",
    "            total_length_km += current_segment['LENGTH_KM']\n",
    "\n",
    "            if method == \"specific_segment\" and current_id == terminal_hyriv_id:\n",
    "                break\n",
    "            if method == \"length\" and threshold_length_km is not None and total_length_km >= threshold_length_km:\n",
    "                break\n",
    "\n",
    "            current_id = current_segment['NEXT_DOWN']\n",
    "        else:\n",
    "            break\n",
    "\n",
    "    return gpd.GeoDataFrame(downstream_segments, crs=gdf.crs) if downstream_segments else gpd.GeoDataFrame(columns=gdf.columns, crs=gdf.crs)\n",
    "\n",
    "def extract_and_save_segments_from_csv(gdf, df):\n",
    "    \"\"\"\n",
    "    Extract river segments based on criteria in a DataFrame and save them as shapefiles.\n",
    "\n",
    "    Parameters:\n",
    "        gdf (gpd.GeoDataFrame): GeoDataFrame with river segments.\n",
    "        df (pd.DataFrame): DataFrame with extraction criteria.\n",
    "    \"\"\"\n",
    "    for _, row in df.iterrows():\n",
    "        river_name = row['river_name']\n",
    "        working_directory = row['working_directory']\n",
    "        start_hyriv_id = row['us_hyriv_id']\n",
    "        method = row['end_condition']\n",
    "        terminal_hyriv_id = row.get('ds_hyriv_id', 0)\n",
    "        max_length_km = row.get('max_length_km', None)\n",
    "\n",
    "        output_directory = os.path.join(working_directory, \"HydroATLAS\", \"HydroRIVERS\", \"Extracted_Rivers\", river_name)\n",
    "        os.makedirs(output_directory, exist_ok=True)\n",
    "        output_shapefile_path = os.path.join(output_directory, f\"{river_name}.shp\")\n",
    "\n",
    "        extracted_river = extract_downstream_river(\n",
    "            gdf,\n",
    "            start_hyriv_id=start_hyriv_id,\n",
    "            method=method,\n",
    "            terminal_hyriv_id=terminal_hyriv_id,\n",
    "            threshold_length_km=max_length_km\n",
    "        )\n",
    "        extracted_river.to_file(output_shapefile_path)\n",
    "\n",
    "def main(csv_path):\n",
    "    \"\"\"\n",
    "    Main function to process the CSV, load shapefiles, and extract and save river segments.\n",
    "\n",
    "    Parameters:\n",
    "        csv_path (str): Path to the input CSV file.\n",
    "    \"\"\"\n",
    "    df = pd.read_csv(csv_path)\n",
    "    working_directory = df.loc[0, 'working_directory']\n",
    "    unique_zones = df['hydroatlas_zone'].unique()\n",
    "\n",
    "    for zone in unique_zones:\n",
    "        zone_path = os.path.join(working_directory, \"HydroATLAS\", \"HydroRIVERS\", f\"HydroRIVERS_v10_{zone}_shp\")\n",
    "        gdf = load_shapefile_from_local_folder(zone_path)\n",
    "        sub_df = df[df['hydroatlas_zone'] == zone]\n",
    "        extract_and_save_segments_from_csv(gdf, sub_df)"
   ]
  },
  {
   "cell_type": "markdown",
   "id": "cf0a3967",
   "metadata": {},
   "source": [
    "## Input variables and run"
   ]
  },
  {
   "cell_type": "code",
   "execution_count": 3,
   "id": "cf50e090",
   "metadata": {},
   "outputs": [],
   "source": [
    "csv_path = r\"C:\\Users\\huckr\\Desktop\\UCSB\\Dissertation\\Data\\RiverMapping\\Bermejo_river_datasheet.csv\"\n",
    "main(csv_path)"
   ]
  },
  {
   "cell_type": "code",
   "execution_count": null,
   "id": "e63ff863",
   "metadata": {},
   "outputs": [],
   "source": []
  }
 ],
 "metadata": {
  "kernelspec": {
   "display_name": "Python 3 (ipykernel)",
   "language": "python",
   "name": "python3"
  },
  "language_info": {
   "codemirror_mode": {
    "name": "ipython",
    "version": 3
   },
   "file_extension": ".py",
   "mimetype": "text/x-python",
   "name": "python",
   "nbconvert_exporter": "python",
   "pygments_lexer": "ipython3",
   "version": "3.11.5"
  }
 },
 "nbformat": 4,
 "nbformat_minor": 5
}
